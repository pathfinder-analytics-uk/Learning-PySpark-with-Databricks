{
 "cells": [
  {
   "cell_type": "markdown",
   "metadata": {
    "application/vnd.databricks.v1+cell": {
     "cellMetadata": {},
     "inputWidgets": {},
     "nuid": "7ffbe777-3d25-4498-87e3-82e6468c350d",
     "showTitle": false,
     "tableResultSettingsMap": {},
     "title": ""
    }
   },
   "source": [
    "%md\n",
    "## Changing Data Types with Cast\n",
    "The `cast()` method in PySpark is used to change the data type of a column in a DataFrame. \n",
    "\n",
    "It can be applied within `withColumn()` or `select()` to convert values to a specified DataType."
   ]
  },
  {
   "cell_type": "markdown",
   "metadata": {
    "application/vnd.databricks.v1+cell": {
     "cellMetadata": {},
     "inputWidgets": {},
     "nuid": "2b33ec4b-db17-440b-b22c-b2c1f1eb2b90",
     "showTitle": false,
     "tableResultSettingsMap": {},
     "title": ""
    }
   },
   "source": [
    "%md\n",
    "### Links and Resources\n",
    "- [cast()](https://spark.apache.org/docs/latest/api/python/reference/pyspark.sql/api/pyspark.sql.Column.cast.html#pyspark.sql.Column.cast)\n",
    "- [Data Types](https://spark.apache.org/docs/3.5.3/sql-ref-datatypes.html)"
   ]
  },
  {
   "cell_type": "code",
   "execution_count": 0,
   "metadata": {
    "application/vnd.databricks.v1+cell": {
     "cellMetadata": {
      "byteLimit": 2048000,
      "rowLimit": 10000
     },
     "inputWidgets": {},
     "nuid": "22eb1370-297c-4912-b301-eaa736909f31",
     "showTitle": false,
     "tableResultSettingsMap": {},
     "title": ""
    }
   },
   "outputs": [
    {
     "output_type": "stream",
     "name": "stdout",
     "output_type": "stream",
     "text": [
      "+------------+---------+----------+--------+\n|country_name|continent|population|area_km2|\n+------------+---------+----------+--------+\n| Afghanistan|     Asia|  38928346|  652230|\n|     Albania|   Europe|   2877797|   28748|\n|     Algeria|   Africa|  43851044| 2381741|\n|     Andorra|   Europe|     77265|     468|\n|      Angola|   Africa|  32866272| 1246700|\n+------------+---------+----------+--------+\nonly showing top 5 rows\n\n"
     ]
    }
   ],
   "source": [
    "from pyspark.sql.types import StructType, StructField, StringType, LongType, IntegerType\n",
    "\n",
    "# Define the schema explicitly using StructType and StructField\n",
    "schema = StructType([\n",
    "    StructField(\"country_name\", StringType(), True),\n",
    "    StructField(\"continent\", StringType(), True),\n",
    "    StructField(\"population\", LongType(), True),\n",
    "    StructField(\"area_km2\", IntegerType(), True)\n",
    "])\n",
    "\n",
    "# Data for 195 countries (each tuple: country_name, continent, population, area_km2)\n",
    "data = [\n",
    "    (\"Afghanistan\", \"Asia\", 38928346, 652230),\n",
    "    (\"Albania\", \"Europe\", 2877797, 28748),\n",
    "    (\"Algeria\", \"Africa\", 43851044, 2381741),\n",
    "    (\"Andorra\", \"Europe\", 77265, 468),\n",
    "    (\"Angola\", \"Africa\", 32866272, 1246700),\n",
    "    (\"Antigua and Barbuda\", \"North America\", 97929, 442),\n",
    "    (\"Argentina\", \"South America\", 45376763, 2780400),\n",
    "    (\"Armenia\", \"Asia\", 2963243, 29743),\n",
    "    (\"Australia\", \"Oceania\", 25649984, 7692024),\n",
    "    (\"Austria\", \"Europe\", 9006398, 83879),\n",
    "    (\"Azerbaijan\", \"Asia\", 10139177, 86600),\n",
    "    (\"Bahamas\", \"North America\", 393244, 13943),\n",
    "    (\"Bahrain\", \"Asia\", 1701575, 765),\n",
    "    (\"Bangladesh\", \"Asia\", 164689383, 147570),\n",
    "    (\"Barbados\", \"North America\", 287375, 430),\n",
    "    (\"Belarus\", \"Europe\", 9449323, 207600),\n",
    "    (\"Belgium\", \"Europe\", 11589623, 30528),\n",
    "    (\"Belize\", \"North America\", 397621, 22966),\n",
    "    (\"Benin\", \"Africa\", 12123200, 114763),\n",
    "    (\"Bhutan\", \"Asia\", 771608, 38394),\n",
    "    (\"Bolivia\", \"South America\", 11673021, 1098581),\n",
    "    (\"Bosnia and Herzegovina\", \"Europe\", 3280819, 51129),\n",
    "    (\"Botswana\", \"Africa\", 2351627, 581730),\n",
    "    (\"Brazil\", \"South America\", 212559417, 8515767),\n",
    "    (\"Brunei\", \"Asia\", 437479, 5765),\n",
    "    (\"Bulgaria\", \"Europe\", 6948445, 110994),\n",
    "    (\"Burkina Faso\", \"Africa\", 20903273, 274200),\n",
    "    (\"Burundi\", \"Africa\", 11890784, 27834),\n",
    "    (\"Cabo Verde\", \"Africa\", 555987, 4033),\n",
    "    (\"Cambodia\", \"Asia\", 16718965, 181035),\n",
    "    (\"Cameroon\", \"Africa\", 26545863, 475442),\n",
    "    (\"Canada\", \"North America\", 37742154, 9984670),\n",
    "    (\"Central African Republic\", \"Africa\", 4829767, 622984),\n",
    "    (\"Chad\", \"Africa\", 16425864, 1284000),\n",
    "    (\"Chile\", \"South America\", 19116201, 756102),\n",
    "    (\"China\", \"Asia\", 1439323776, 9596961),\n",
    "    (\"Colombia\", \"South America\", 50882891, 1141748),\n",
    "    (\"Comoros\", \"Africa\", 869601, 1862),\n",
    "    (\"Congo, Democratic Republic of the\", \"Africa\", 89561403, 2344858),\n",
    "    (\"Congo, Republic of the\", \"Africa\", 5518087, 342000),\n",
    "    (\"Costa Rica\", \"North America\", 5094118, 51100),\n",
    "    (\"Croatia\", \"Europe\", 4105267, 56594),\n",
    "    (\"Cuba\", \"North America\", 11326616, 109884),\n",
    "    (\"Côte d'Ivoire\", \"Africa\", 26378274, 322463),\n",
    "    (\"Cyprus\", \"Europe\", 1207359, 9251),\n",
    "    (\"Czech Republic\", \"Europe\", 10708981, 78866),\n",
    "    (\"Denmark\", \"Europe\", 5792202, 42933),\n",
    "    (\"Djibouti\", \"Africa\", 988000, 23200),\n",
    "    (\"Dominica\", \"North America\", 71986, 751),\n",
    "    (\"Dominican Republic\", \"North America\", 10847910, 48671),\n",
    "    (\"Ecuador\", \"South America\", 17643054, 283561),\n",
    "    (\"Egypt\", \"Africa\", 102334404, 1002450),\n",
    "    (\"El Salvador\", \"North America\", 6486205, 21041),\n",
    "    (\"Equatorial Guinea\", \"Africa\", 1402985, 28051),\n",
    "    (\"Eritrea\", \"Africa\", 3546421, 117600),\n",
    "    (\"Estonia\", \"Europe\", 1331796, 45227),\n",
    "    (\"Eswatini\", \"Africa\", 1160164, 17364),\n",
    "    (\"Ethiopia\", \"Africa\", 114963588, 1104300),\n",
    "    (\"Fiji\", \"Oceania\", 896444, 18274),\n",
    "    (\"Finland\", \"Europe\", 5540720, 338424),\n",
    "    (\"France\", \"Europe\", 65273511, 551695),\n",
    "    (\"Gabon\", \"Africa\", 2225728, 267668),\n",
    "    (\"Gambia\", \"Africa\", 2416668, 11295),\n",
    "    (\"Georgia\", \"Asia\", 3989167, 69700),\n",
    "    (\"Germany\", \"Europe\", 83783942, 357022),\n",
    "    (\"Ghana\", \"Africa\", 31072940, 238533),\n",
    "    (\"Greece\", \"Europe\", 10423054, 131957),\n",
    "    (\"Grenada\", \"North America\", 112523, 344),\n",
    "    (\"Guatemala\", \"North America\", 17915568, 108889),\n",
    "    (\"Guinea\", \"Africa\", 13132795, 245857),\n",
    "    (\"Guinea-Bissau\", \"Africa\", 1968001, 36125),\n",
    "    (\"Guyana\", \"South America\", 786552, 214969),\n",
    "    (\"Haiti\", \"North America\", 11402528, 27750),\n",
    "    (\"Holy See\", \"Europe\", 801, 0),\n",
    "    (\"Honduras\", \"North America\", 9904607, 112492),\n",
    "    (\"Hungary\", \"Europe\", 9660351, 93030),\n",
    "    (\"Iceland\", \"Europe\", 341243, 103000),\n",
    "    (\"India\", \"Asia\", 1380004385, 3287263),\n",
    "    (\"Indonesia\", \"Asia\", 273523615, 1904569),\n",
    "    (\"Iran\", \"Asia\", 83992949, 1648195),\n",
    "    (\"Iraq\", \"Asia\", 40222493, 438317),\n",
    "    (\"Ireland\", \"Europe\", 4937786, 70273),\n",
    "    (\"Israel\", \"Asia\", 9053300, 20770),\n",
    "    (\"Italy\", \"Europe\", 60461826, 301340),\n",
    "    (\"Jamaica\", \"North America\", 2961167, 10991),\n",
    "    (\"Japan\", \"Asia\", 126476461, 377975),\n",
    "    (\"Jordan\", \"Asia\", 10203134, 89342),\n",
    "    (\"Kazakhstan\", \"Asia\", 18776707, 2724900),\n",
    "    (\"Kenya\", \"Africa\", 53771296, 580367),\n",
    "    (\"Kiribati\", \"Oceania\", 119449, 811),\n",
    "    (\"Kuwait\", \"Asia\", 4270571, 17818),\n",
    "    (\"Kyrgyzstan\", \"Asia\", 6524195, 199951),\n",
    "    (\"Laos\", \"Asia\", 7275560, 236800),\n",
    "    (\"Latvia\", \"Europe\", 1886198, 64559),\n",
    "    (\"Lebanon\", \"Asia\", 6825445, 10452),\n",
    "    (\"Lesotho\", \"Africa\", 2142249, 30355),\n",
    "    (\"Liberia\", \"Africa\", 5073296, 111369),\n",
    "    (\"Libya\", \"Africa\", 6871292, 1759540),\n",
    "    (\"Liechtenstein\", \"Europe\", 38128, 160),\n",
    "    (\"Lithuania\", \"Europe\", 2722289, 65300),\n",
    "    (\"Luxembourg\", \"Europe\", 634814, 2586),\n",
    "    (\"Madagascar\", \"Africa\", 27691018, 587041),\n",
    "    (\"Malawi\", \"Africa\", 19129952, 118484),\n",
    "    (\"Malaysia\", \"Asia\", 32365999, 330803),\n",
    "    (\"Maldives\", \"Asia\", 540544, 300),\n",
    "    (\"Mali\", \"Africa\", 20250833, 1240192),\n",
    "    (\"Malta\", \"Europe\", 441543, 316),\n",
    "    (\"Marshall Islands\", \"Oceania\", 59190, 181),\n",
    "    (\"Mauritania\", \"Africa\", 4649658, 1030700),\n",
    "    (\"Mauritius\", \"Africa\", 1271768, 2040),\n",
    "    (\"Mexico\", \"North America\", 128932753, 1964375),\n",
    "    (\"Micronesia\", \"Oceania\", 115023, 702),\n",
    "    (\"Moldova\", \"Europe\", 2640438, 33851),\n",
    "    (\"Monaco\", \"Europe\", 39242, 2),\n",
    "    (\"Mongolia\", \"Asia\", 3278290, 1564110),\n",
    "    (\"Montenegro\", \"Europe\", 622359, 13812),\n",
    "    (\"Morocco\", \"Africa\", 36910560, 446550),\n",
    "    (\"Mozambique\", \"Africa\", 31255435, 801590),\n",
    "    (\"Myanmar\", \"Asia\", 54409800, 676578),\n",
    "    (\"Namibia\", \"Africa\", 2540905, 824292),\n",
    "    (\"Nauru\", \"Oceania\", 10824, 21),\n",
    "    (\"Nepal\", \"Asia\", 29136808, 147181),\n",
    "    (\"Netherlands\", \"Europe\", 17134872, 41543),\n",
    "    (\"New Zealand\", \"Oceania\", 5084300, 268838),\n",
    "    (\"Nicaragua\", \"North America\", 6624554, 130373),\n",
    "    (\"Niger\", \"Africa\", 24206644, 1267000),\n",
    "    (\"Nigeria\", \"Africa\", 206139589, 923768),\n",
    "    (\"North Korea\", \"Asia\", 25778816, 120538),\n",
    "    (\"North Macedonia\", \"Europe\", 2083374, 25713),\n",
    "    (\"Norway\", \"Europe\", 5421241, 385207),\n",
    "    (\"Oman\", \"Asia\", 5106626, 309500),\n",
    "    (\"Pakistan\", \"Asia\", 220892340, 881913),\n",
    "    (\"Palau\", \"Oceania\", 18094, 459),\n",
    "    (\"Palestine, State of\", \"Asia\", 5101414, 6020),\n",
    "    (\"Panama\", \"North America\", 4314767, 75417),\n",
    "    (\"Papua New Guinea\", \"Oceania\", 8947024, 462840),\n",
    "    (\"Paraguay\", \"South America\", 7132538, 406752),\n",
    "    (\"Peru\", \"South America\", 32971854, 1285216),\n",
    "    (\"Philippines\", \"Asia\", 109581078, 300000),\n",
    "    (\"Poland\", \"Europe\", 37846611, 312696),\n",
    "    (\"Portugal\", \"Europe\", 10196709, 92090),\n",
    "    (\"Qatar\", \"Asia\", 2881053, 11586),\n",
    "    (\"Romania\", \"Europe\", 19237691, 238391),\n",
    "    (\"Russia\", \"Europe\", 144478050, 17098242),\n",
    "    (\"Rwanda\", \"Africa\", 12952218, 26338),\n",
    "    (\"Saint Kitts and Nevis\", \"North America\", 53192, 261),\n",
    "    (\"Saint Lucia\", \"North America\", 183627, 616),\n",
    "    (\"Saint Vincent and the Grenadines\", \"North America\", 110940, 389),\n",
    "    (\"Samoa\", \"Oceania\", 198414, 2842),\n",
    "    (\"San Marino\", \"Europe\", 33938, 61),\n",
    "    (\"Sao Tome and Principe\", \"Africa\", 219159, 964),\n",
    "    (\"Saudi Arabia\", \"Asia\", 34813871, 2149690),\n",
    "    (\"Senegal\", \"Africa\", 16743927, 196722),\n",
    "    (\"Serbia\", \"Europe\", 6944975, 88361),\n",
    "    (\"Seychelles\", \"Africa\", 98347, 455),\n",
    "    (\"Sierra Leone\", \"Africa\", 7976983, 71740),\n",
    "    (\"Singapore\", \"Asia\", 5850342, 719),\n",
    "    (\"Slovakia\", \"Europe\", 5459642, 49037),\n",
    "    (\"Slovenia\", \"Europe\", 2078938, 20273),\n",
    "    (\"Solomon Islands\", \"Oceania\", 686884, 28896),\n",
    "    (\"Somalia\", \"Africa\", 15893222, 637657),\n",
    "    (\"South Africa\", \"Africa\", 59308690, 1221037),\n",
    "    (\"South Korea\", \"Asia\", 51269185, 100210),\n",
    "    (\"South Sudan\", \"Africa\", 11193725, 644329),\n",
    "    (\"Spain\", \"Europe\", 46754778, 505992),\n",
    "    (\"Sri Lanka\", \"Asia\", 21413249, 65610),\n",
    "    (\"Sudan\", \"Africa\", 43849260, 1861484),\n",
    "    (\"Suriname\", \"South America\", 586634, 163820),\n",
    "    (\"Sweden\", \"Europe\", 10099265, 450295),\n",
    "    (\"Switzerland\", \"Europe\", 8654622, 41285),\n",
    "    (\"Syria\", \"Asia\", 17500657, 185180),\n",
    "    (\"Tajikistan\", \"Asia\", 9537645, 143100),\n",
    "    (\"Tanzania\", \"Africa\", 59734218, 945087),\n",
    "    (\"Thailand\", \"Asia\", 69799978, 513120),\n",
    "    (\"Timor-Leste\", \"Asia\", 1318445, 14874),\n",
    "    (\"Togo\", \"Africa\", 8278724, 56785),\n",
    "    (\"Tonga\", \"Oceania\", 105695, 747),\n",
    "    (\"Trinidad and Tobago\", \"North America\", 1399488, 5130),\n",
    "    (\"Tunisia\", \"Africa\", 11818619, 163610),\n",
    "    (\"Turkey\", \"Asia\", 84339067, 783562),\n",
    "    (\"Turkmenistan\", \"Asia\", 6031200, 488100),\n",
    "    (\"Tuvalu\", \"Oceania\", 11792, 26),\n",
    "    (\"Uganda\", \"Africa\", 45741007, 241550),\n",
    "    (\"Ukraine\", \"Europe\", 43733762, 603628),\n",
    "    (\"United Arab Emirates\", \"Asia\", 9890400, 83600),\n",
    "    (\"United Kingdom\", \"Europe\", 67886011, 243610),\n",
    "    (\"United States\", \"North America\", 331002651, 9833520),\n",
    "    (\"Uruguay\", \"South America\", 3473730, 176215),\n",
    "    (\"Uzbekistan\", \"Asia\", 33469203, 447400),\n",
    "    (\"Vanuatu\", \"Oceania\", 307145, 12189),\n",
    "    (\"Venezuela\", \"South America\", 28435940, 916445),\n",
    "    (\"Vietnam\", \"Asia\", 97338579, 331212),\n",
    "    (\"Yemen\", \"Asia\", 29825964, 527968),\n",
    "    (\"Zambia\", \"Africa\", 18383955, 752612),\n",
    "    (\"Zimbabwe\", \"Africa\", 14862924, 390757)\n",
    "]\n",
    "\n",
    "# Create the DataFrame using the defined schema\n",
    "df = spark.createDataFrame(data, schema)\n",
    "\n",
    "# Display the DataFrame\n",
    "df.show(5)"
   ]
  },
  {
   "cell_type": "code",
   "execution_count": 0,
   "metadata": {
    "application/vnd.databricks.v1+cell": {
     "cellMetadata": {
      "byteLimit": 2048000,
      "rowLimit": 10000
     },
     "inputWidgets": {},
     "nuid": "403823a8-0a18-4be3-83cf-694a1eedb976",
     "showTitle": false,
     "tableResultSettingsMap": {},
     "title": ""
    }
   },
   "outputs": [
    {
     "output_type": "execute_result",
     "data": {
      "text/plain": [
       "[('country_name', 'string'),\n",
       " ('continent', 'string'),\n",
       " ('population', 'bigint'),\n",
       " ('area_km2', 'int')]"
      ]
     },
     "execution_count": 5,
     "metadata": {},
     "output_type": "execute_result"
    }
   ],
   "source": [
    "df.dtypes"
   ]
  },
  {
   "cell_type": "markdown",
   "metadata": {
    "application/vnd.databricks.v1+cell": {
     "cellMetadata": {},
     "inputWidgets": {},
     "nuid": "8a8f1cdc-869c-4580-806a-b6b71d07d8a6",
     "showTitle": false,
     "tableResultSettingsMap": {},
     "title": ""
    }
   },
   "source": [
    "### Using Cast in Select"
   ]
  },
  {
   "cell_type": "code",
   "execution_count": 0,
   "metadata": {
    "application/vnd.databricks.v1+cell": {
     "cellMetadata": {
      "byteLimit": 2048000,
      "rowLimit": 10000
     },
     "inputWidgets": {},
     "nuid": "96addc2a-e320-40eb-af1a-92b66422d8ca",
     "showTitle": false,
     "tableResultSettingsMap": {},
     "title": ""
    }
   },
   "outputs": [
    {
     "output_type": "execute_result",
     "data": {
      "text/plain": [
       "[('country_name', 'string'),\n",
       " ('continent', 'string'),\n",
       " ('population', 'string'),\n",
       " ('area_km2', 'string')]"
      ]
     },
     "execution_count": 6,
     "metadata": {},
     "output_type": "execute_result"
    }
   ],
   "source": [
    "df = df.select(\n",
    "            df['country_name'],\n",
    "            df['continent'],\n",
    "            df['population'].cast(StringType()),\n",
    "            df['area_km2'].cast(StringType())            \n",
    "            )\n",
    "\n",
    "df.dtypes"
   ]
  },
  {
   "cell_type": "markdown",
   "metadata": {
    "application/vnd.databricks.v1+cell": {
     "cellMetadata": {},
     "inputWidgets": {},
     "nuid": "4493fb00-d28c-49d9-b9e0-81461c662199",
     "showTitle": false,
     "tableResultSettingsMap": {},
     "title": ""
    }
   },
   "source": [
    "### Using cast() in withColumn"
   ]
  },
  {
   "cell_type": "code",
   "execution_count": 0,
   "metadata": {
    "application/vnd.databricks.v1+cell": {
     "cellMetadata": {
      "byteLimit": 2048000,
      "rowLimit": 10000
     },
     "inputWidgets": {},
     "nuid": "1797e6fb-91b0-4889-a18c-d67fadeee949",
     "showTitle": false,
     "tableResultSettingsMap": {},
     "title": ""
    }
   },
   "outputs": [
    {
     "output_type": "execute_result",
     "data": {
      "text/plain": [
       "[('country_name', 'string'),\n",
       " ('continent', 'string'),\n",
       " ('population', 'string'),\n",
       " ('area_km2', 'string')]"
      ]
     },
     "execution_count": 8,
     "metadata": {},
     "output_type": "execute_result"
    }
   ],
   "source": [
    "df = df.withColumn(\"population\", df['population'].cast(StringType())).\\\n",
    "        withColumn(\"area_km2\", df['area_km2'].cast(StringType()))\n",
    "\n",
    "df.dtypes"
   ]
  }
 ],
 "metadata": {
  "application/vnd.databricks.v1+notebook": {
   "computePreferences": null,
   "dashboards": [],
   "environmentMetadata": {
    "base_environment": "",
    "client": "1"
   },
   "language": "python",
   "notebookMetadata": {
    "pythonIndentUnit": 4
   },
   "notebookName": "Changing Data Types with Cast",
   "widgets": {}
  }
 },
 "nbformat": 4,
 "nbformat_minor": 0
}
