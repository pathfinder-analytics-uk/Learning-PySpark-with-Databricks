{
 "cells": [
  {
   "cell_type": "markdown",
   "metadata": {
    "application/vnd.databricks.v1+cell": {
     "cellMetadata": {},
     "inputWidgets": {},
     "nuid": "3c4152e1-5c48-4c0d-9ea7-255f782790ef",
     "showTitle": false,
     "tableResultSettingsMap": {},
     "title": ""
    }
   },
   "source": [
    "%md\n",
    "## Reading and Writing Parquet and Delta Lake\n",
    "\n",
    "`JSON` (JavaScript Object Notation) is a lightweight, text-based format for structuring data. \n",
    "\n",
    "JSON represents data as key-value pairs, using objects ({}) and arrays ([]). \n",
    "\n",
    "It supports basic data types such as strings, numbers, booleans, null, and nested structures."
   ]
  },
  {
   "cell_type": "markdown",
   "metadata": {
    "application/vnd.databricks.v1+cell": {
     "cellMetadata": {},
     "inputWidgets": {},
     "nuid": "ade2a15e-f60f-4351-b4c5-98cd40e3453e",
     "showTitle": false,
     "tableResultSettingsMap": {},
     "title": ""
    }
   },
   "source": [
    "### Links and Resources\n",
    "- [Spark SQL API](https://spark.apache.org/docs/latest/api/python/reference/pyspark.sql/index.html)\n",
    "- [JSON Introduction](https://www.w3schools.com/js/js_json_intro.asp)\n",
    "- [dbutils Documentation](https://learn.microsoft.com/en-us/azure/databricks/dev-tools/databricks-utils#dbutils-fs-rm)"
   ]
  },
  {
   "cell_type": "code",
   "execution_count": 0,
   "metadata": {
    "application/vnd.databricks.v1+cell": {
     "cellMetadata": {
      "byteLimit": 2048000,
      "rowLimit": 10000
     },
     "collapsed": true,
     "inputWidgets": {},
     "nuid": "db98057e-82a7-451f-b2eb-f91c202ba06b",
     "showTitle": false,
     "tableResultSettingsMap": {},
     "title": ""
    }
   },
   "outputs": [],
   "source": [
    "from pyspark.sql.types import StructType, StructField, StringType, LongType, IntegerType\n",
    "\n",
    "# Define the schema explicitly using StructType and StructField\n",
    "schema = StructType([\n",
    "    StructField(\"country_name\", StringType(), True),\n",
    "    StructField(\"continent\", StringType(), True),\n",
    "    StructField(\"population\", LongType(), True),\n",
    "    StructField(\"area_km2\", IntegerType(), True)\n",
    "])\n",
    "\n",
    "# Data for 195 countries (each tuple: country_name, continent, population, area_km2)\n",
    "data = [\n",
    "    (\"Afghanistan\", \"Asia\", 38928346, 652230),\n",
    "    (\"Albania\", \"Europe\", 2877797, 28748),\n",
    "    (\"Algeria\", \"Africa\", 43851044, 2381741),\n",
    "    (\"Andorra\", \"Europe\", 77265, 468),\n",
    "    (\"Angola\", \"Africa\", 32866272, 1246700),\n",
    "    (\"Antigua and Barbuda\", \"North America\", 97929, 442),\n",
    "    (\"Argentina\", \"South America\", 45376763, 2780400),\n",
    "    (\"Armenia\", \"Asia\", 2963243, 29743),\n",
    "    (\"Australia\", \"Oceania\", 25649984, 7692024),\n",
    "    (\"Austria\", \"Europe\", 9006398, 83879),\n",
    "    (\"Azerbaijan\", \"Asia\", 10139177, 86600),\n",
    "    (\"Bahamas\", \"North America\", 393244, 13943),\n",
    "    (\"Bahrain\", \"Asia\", 1701575, 765),\n",
    "    (\"Bangladesh\", \"Asia\", 164689383, 147570),\n",
    "    (\"Barbados\", \"North America\", 287375, 430),\n",
    "    (\"Belarus\", \"Europe\", 9449323, 207600),\n",
    "    (\"Belgium\", \"Europe\", 11589623, 30528),\n",
    "    (\"Belize\", \"North America\", 397621, 22966),\n",
    "    (\"Benin\", \"Africa\", 12123200, 114763),\n",
    "    (\"Bhutan\", \"Asia\", 771608, 38394),\n",
    "    (\"Bolivia\", \"South America\", 11673021, 1098581),\n",
    "    (\"Bosnia and Herzegovina\", \"Europe\", 3280819, 51129),\n",
    "    (\"Botswana\", \"Africa\", 2351627, 581730),\n",
    "    (\"Brazil\", \"South America\", 212559417, 8515767),\n",
    "    (\"Brunei\", \"Asia\", 437479, 5765),\n",
    "    (\"Bulgaria\", \"Europe\", 6948445, 110994),\n",
    "    (\"Burkina Faso\", \"Africa\", 20903273, 274200),\n",
    "    (\"Burundi\", \"Africa\", 11890784, 27834),\n",
    "    (\"Cabo Verde\", \"Africa\", 555987, 4033),\n",
    "    (\"Cambodia\", \"Asia\", 16718965, 181035),\n",
    "    (\"Cameroon\", \"Africa\", 26545863, 475442),\n",
    "    (\"Canada\", \"North America\", 37742154, 9984670),\n",
    "    (\"Central African Republic\", \"Africa\", 4829767, 622984),\n",
    "    (\"Chad\", \"Africa\", 16425864, 1284000),\n",
    "    (\"Chile\", \"South America\", 19116201, 756102),\n",
    "    (\"China\", \"Asia\", 1439323776, 9596961),\n",
    "    (\"Colombia\", \"South America\", 50882891, 1141748),\n",
    "    (\"Comoros\", \"Africa\", 869601, 1862),\n",
    "    (\"Congo, Democratic Republic of the\", \"Africa\", 89561403, 2344858),\n",
    "    (\"Congo, Republic of the\", \"Africa\", 5518087, 342000),\n",
    "    (\"Costa Rica\", \"North America\", 5094118, 51100),\n",
    "    (\"Croatia\", \"Europe\", 4105267, 56594),\n",
    "    (\"Cuba\", \"North America\", 11326616, 109884),\n",
    "    (\"Côte d'Ivoire\", \"Africa\", 26378274, 322463),\n",
    "    (\"Cyprus\", \"Europe\", 1207359, 9251),\n",
    "    (\"Czech Republic\", \"Europe\", 10708981, 78866),\n",
    "    (\"Denmark\", \"Europe\", 5792202, 42933),\n",
    "    (\"Djibouti\", \"Africa\", 988000, 23200),\n",
    "    (\"Dominica\", \"North America\", 71986, 751),\n",
    "    (\"Dominican Republic\", \"North America\", 10847910, 48671),\n",
    "    (\"Ecuador\", \"South America\", 17643054, 283561),\n",
    "    (\"Egypt\", \"Africa\", 102334404, 1002450),\n",
    "    (\"El Salvador\", \"North America\", 6486205, 21041),\n",
    "    (\"Equatorial Guinea\", \"Africa\", 1402985, 28051),\n",
    "    (\"Eritrea\", \"Africa\", 3546421, 117600),\n",
    "    (\"Estonia\", \"Europe\", 1331796, 45227),\n",
    "    (\"Eswatini\", \"Africa\", 1160164, 17364),\n",
    "    (\"Ethiopia\", \"Africa\", 114963588, 1104300),\n",
    "    (\"Fiji\", \"Oceania\", 896444, 18274),\n",
    "    (\"Finland\", \"Europe\", 5540720, 338424),\n",
    "    (\"France\", \"Europe\", 65273511, 551695),\n",
    "    (\"Gabon\", \"Africa\", 2225728, 267668),\n",
    "    (\"Gambia\", \"Africa\", 2416668, 11295),\n",
    "    (\"Georgia\", \"Asia\", 3989167, 69700),\n",
    "    (\"Germany\", \"Europe\", 83783942, 357022),\n",
    "    (\"Ghana\", \"Africa\", 31072940, 238533),\n",
    "    (\"Greece\", \"Europe\", 10423054, 131957),\n",
    "    (\"Grenada\", \"North America\", 112523, 344),\n",
    "    (\"Guatemala\", \"North America\", 17915568, 108889),\n",
    "    (\"Guinea\", \"Africa\", 13132795, 245857),\n",
    "    (\"Guinea-Bissau\", \"Africa\", 1968001, 36125),\n",
    "    (\"Guyana\", \"South America\", 786552, 214969),\n",
    "    (\"Haiti\", \"North America\", 11402528, 27750),\n",
    "    (\"Holy See\", \"Europe\", 801, 0),\n",
    "    (\"Honduras\", \"North America\", 9904607, 112492),\n",
    "    (\"Hungary\", \"Europe\", 9660351, 93030),\n",
    "    (\"Iceland\", \"Europe\", 341243, 103000),\n",
    "    (\"India\", \"Asia\", 1380004385, 3287263),\n",
    "    (\"Indonesia\", \"Asia\", 273523615, 1904569),\n",
    "    (\"Iran\", \"Asia\", 83992949, 1648195),\n",
    "    (\"Iraq\", \"Asia\", 40222493, 438317),\n",
    "    (\"Ireland\", \"Europe\", 4937786, 70273),\n",
    "    (\"Israel\", \"Asia\", 9053300, 20770),\n",
    "    (\"Italy\", \"Europe\", 60461826, 301340),\n",
    "    (\"Jamaica\", \"North America\", 2961167, 10991),\n",
    "    (\"Japan\", \"Asia\", 126476461, 377975),\n",
    "    (\"Jordan\", \"Asia\", 10203134, 89342),\n",
    "    (\"Kazakhstan\", \"Asia\", 18776707, 2724900),\n",
    "    (\"Kenya\", \"Africa\", 53771296, 580367),\n",
    "    (\"Kiribati\", \"Oceania\", 119449, 811),\n",
    "    (\"Kuwait\", \"Asia\", 4270571, 17818),\n",
    "    (\"Kyrgyzstan\", \"Asia\", 6524195, 199951),\n",
    "    (\"Laos\", \"Asia\", 7275560, 236800),\n",
    "    (\"Latvia\", \"Europe\", 1886198, 64559),\n",
    "    (\"Lebanon\", \"Asia\", 6825445, 10452),\n",
    "    (\"Lesotho\", \"Africa\", 2142249, 30355),\n",
    "    (\"Liberia\", \"Africa\", 5073296, 111369),\n",
    "    (\"Libya\", \"Africa\", 6871292, 1759540),\n",
    "    (\"Liechtenstein\", \"Europe\", 38128, 160),\n",
    "    (\"Lithuania\", \"Europe\", 2722289, 65300),\n",
    "    (\"Luxembourg\", \"Europe\", 634814, 2586),\n",
    "    (\"Madagascar\", \"Africa\", 27691018, 587041),\n",
    "    (\"Malawi\", \"Africa\", 19129952, 118484),\n",
    "    (\"Malaysia\", \"Asia\", 32365999, 330803),\n",
    "    (\"Maldives\", \"Asia\", 540544, 300),\n",
    "    (\"Mali\", \"Africa\", 20250833, 1240192),\n",
    "    (\"Malta\", \"Europe\", 441543, 316),\n",
    "    (\"Marshall Islands\", \"Oceania\", 59190, 181),\n",
    "    (\"Mauritania\", \"Africa\", 4649658, 1030700),\n",
    "    (\"Mauritius\", \"Africa\", 1271768, 2040),\n",
    "    (\"Mexico\", \"North America\", 128932753, 1964375),\n",
    "    (\"Micronesia\", \"Oceania\", 115023, 702),\n",
    "    (\"Moldova\", \"Europe\", 2640438, 33851),\n",
    "    (\"Monaco\", \"Europe\", 39242, 2),\n",
    "    (\"Mongolia\", \"Asia\", 3278290, 1564110),\n",
    "    (\"Montenegro\", \"Europe\", 622359, 13812),\n",
    "    (\"Morocco\", \"Africa\", 36910560, 446550),\n",
    "    (\"Mozambique\", \"Africa\", 31255435, 801590),\n",
    "    (\"Myanmar\", \"Asia\", 54409800, 676578),\n",
    "    (\"Namibia\", \"Africa\", 2540905, 824292),\n",
    "    (\"Nauru\", \"Oceania\", 10824, 21),\n",
    "    (\"Nepal\", \"Asia\", 29136808, 147181),\n",
    "    (\"Netherlands\", \"Europe\", 17134872, 41543),\n",
    "    (\"New Zealand\", \"Oceania\", 5084300, 268838),\n",
    "    (\"Nicaragua\", \"North America\", 6624554, 130373),\n",
    "    (\"Niger\", \"Africa\", 24206644, 1267000),\n",
    "    (\"Nigeria\", \"Africa\", 206139589, 923768),\n",
    "    (\"North Korea\", \"Asia\", 25778816, 120538),\n",
    "    (\"North Macedonia\", \"Europe\", 2083374, 25713),\n",
    "    (\"Norway\", \"Europe\", 5421241, 385207),\n",
    "    (\"Oman\", \"Asia\", 5106626, 309500),\n",
    "    (\"Pakistan\", \"Asia\", 220892340, 881913),\n",
    "    (\"Palau\", \"Oceania\", 18094, 459),\n",
    "    (\"Palestine, State of\", \"Asia\", 5101414, 6020),\n",
    "    (\"Panama\", \"North America\", 4314767, 75417),\n",
    "    (\"Papua New Guinea\", \"Oceania\", 8947024, 462840),\n",
    "    (\"Paraguay\", \"South America\", 7132538, 406752),\n",
    "    (\"Peru\", \"South America\", 32971854, 1285216),\n",
    "    (\"Philippines\", \"Asia\", 109581078, 300000),\n",
    "    (\"Poland\", \"Europe\", 37846611, 312696),\n",
    "    (\"Portugal\", \"Europe\", 10196709, 92090),\n",
    "    (\"Qatar\", \"Asia\", 2881053, 11586),\n",
    "    (\"Romania\", \"Europe\", 19237691, 238391),\n",
    "    (\"Russia\", \"Europe\", 144478050, 17098242),\n",
    "    (\"Rwanda\", \"Africa\", 12952218, 26338),\n",
    "    (\"Saint Kitts and Nevis\", \"North America\", 53192, 261),\n",
    "    (\"Saint Lucia\", \"North America\", 183627, 616),\n",
    "    (\"Saint Vincent and the Grenadines\", \"North America\", 110940, 389),\n",
    "    (\"Samoa\", \"Oceania\", 198414, 2842),\n",
    "    (\"San Marino\", \"Europe\", 33938, 61),\n",
    "    (\"Sao Tome and Principe\", \"Africa\", 219159, 964),\n",
    "    (\"Saudi Arabia\", \"Asia\", 34813871, 2149690),\n",
    "    (\"Senegal\", \"Africa\", 16743927, 196722),\n",
    "    (\"Serbia\", \"Europe\", 6944975, 88361),\n",
    "    (\"Seychelles\", \"Africa\", 98347, 455),\n",
    "    (\"Sierra Leone\", \"Africa\", 7976983, 71740),\n",
    "    (\"Singapore\", \"Asia\", 5850342, 719),\n",
    "    (\"Slovakia\", \"Europe\", 5459642, 49037),\n",
    "    (\"Slovenia\", \"Europe\", 2078938, 20273),\n",
    "    (\"Solomon Islands\", \"Oceania\", 686884, 28896),\n",
    "    (\"Somalia\", \"Africa\", 15893222, 637657),\n",
    "    (\"South Africa\", \"Africa\", 59308690, 1221037),\n",
    "    (\"South Korea\", \"Asia\", 51269185, 100210),\n",
    "    (\"South Sudan\", \"Africa\", 11193725, 644329),\n",
    "    (\"Spain\", \"Europe\", 46754778, 505992),\n",
    "    (\"Sri Lanka\", \"Asia\", 21413249, 65610),\n",
    "    (\"Sudan\", \"Africa\", 43849260, 1861484),\n",
    "    (\"Suriname\", \"South America\", 586634, 163820),\n",
    "    (\"Sweden\", \"Europe\", 10099265, 450295),\n",
    "    (\"Switzerland\", \"Europe\", 8654622, 41285),\n",
    "    (\"Syria\", \"Asia\", 17500657, 185180),\n",
    "    (\"Tajikistan\", \"Asia\", 9537645, 143100),\n",
    "    (\"Tanzania\", \"Africa\", 59734218, 945087),\n",
    "    (\"Thailand\", \"Asia\", 69799978, 513120),\n",
    "    (\"Timor-Leste\", \"Asia\", 1318445, 14874),\n",
    "    (\"Togo\", \"Africa\", 8278724, 56785),\n",
    "    (\"Tonga\", \"Oceania\", 105695, 747),\n",
    "    (\"Trinidad and Tobago\", \"North America\", 1399488, 5130),\n",
    "    (\"Tunisia\", \"Africa\", 11818619, 163610),\n",
    "    (\"Turkey\", \"Asia\", 84339067, 783562),\n",
    "    (\"Turkmenistan\", \"Asia\", 6031200, 488100),\n",
    "    (\"Tuvalu\", \"Oceania\", 11792, 26),\n",
    "    (\"Uganda\", \"Africa\", 45741007, 241550),\n",
    "    (\"Ukraine\", \"Europe\", 43733762, 603628),\n",
    "    (\"United Arab Emirates\", \"Asia\", 9890400, 83600),\n",
    "    (\"United Kingdom\", \"Europe\", 67886011, 243610),\n",
    "    (\"United States\", \"North America\", 331002651, 9833520),\n",
    "    (\"Uruguay\", \"South America\", 3473730, 176215),\n",
    "    (\"Uzbekistan\", \"Asia\", 33469203, 447400),\n",
    "    (\"Vanuatu\", \"Oceania\", 307145, 12189),\n",
    "    (\"Venezuela\", \"South America\", 28435940, 916445),\n",
    "    (\"Vietnam\", \"Asia\", 97338579, 331212),\n",
    "    (\"Yemen\", \"Asia\", 29825964, 527968),\n",
    "    (\"Zambia\", \"Africa\", 18383955, 752612),\n",
    "    (\"Zimbabwe\", \"Africa\", 14862924, 390757)\n",
    "]\n",
    "\n",
    "# Create the DataFrame using the defined schema\n",
    "df = spark.createDataFrame(data, schema=schema)"
   ]
  },
  {
   "cell_type": "code",
   "execution_count": 0,
   "metadata": {
    "application/vnd.databricks.v1+cell": {
     "cellMetadata": {
      "byteLimit": 2048000,
      "rowLimit": 10000
     },
     "collapsed": true,
     "inputWidgets": {},
     "nuid": "1272a597-bdf3-4275-8d37-5d41ee1dda89",
     "showTitle": false,
     "tableResultSettingsMap": {},
     "title": ""
    }
   },
   "outputs": [
    {
     "output_type": "display_data",
     "data": {
      "text/html": [
       "<style scoped>\n",
       "  .table-result-container {\n",
       "    max-height: 300px;\n",
       "    overflow: auto;\n",
       "  }\n",
       "  table, th, td {\n",
       "    border: 1px solid black;\n",
       "    border-collapse: collapse;\n",
       "  }\n",
       "  th, td {\n",
       "    padding: 5px;\n",
       "  }\n",
       "  th {\n",
       "    text-align: left;\n",
       "  }\n",
       "</style><div class='table-result-container'><table class='table-result'><thead style='background-color: white'><tr><th>country_name</th><th>continent</th><th>population</th><th>area_km2</th></tr></thead><tbody><tr><td>Afghanistan</td><td>Asia</td><td>38928346</td><td>652230</td></tr><tr><td>Albania</td><td>Europe</td><td>2877797</td><td>28748</td></tr><tr><td>Algeria</td><td>Africa</td><td>43851044</td><td>2381741</td></tr><tr><td>Andorra</td><td>Europe</td><td>77265</td><td>468</td></tr><tr><td>Angola</td><td>Africa</td><td>32866272</td><td>1246700</td></tr><tr><td>Antigua and Barbuda</td><td>North America</td><td>97929</td><td>442</td></tr><tr><td>Argentina</td><td>South America</td><td>45376763</td><td>2780400</td></tr><tr><td>Armenia</td><td>Asia</td><td>2963243</td><td>29743</td></tr><tr><td>Australia</td><td>Oceania</td><td>25649984</td><td>7692024</td></tr><tr><td>Austria</td><td>Europe</td><td>9006398</td><td>83879</td></tr><tr><td>Azerbaijan</td><td>Asia</td><td>10139177</td><td>86600</td></tr><tr><td>Bahamas</td><td>North America</td><td>393244</td><td>13943</td></tr><tr><td>Bahrain</td><td>Asia</td><td>1701575</td><td>765</td></tr><tr><td>Bangladesh</td><td>Asia</td><td>164689383</td><td>147570</td></tr><tr><td>Barbados</td><td>North America</td><td>287375</td><td>430</td></tr><tr><td>Belarus</td><td>Europe</td><td>9449323</td><td>207600</td></tr><tr><td>Belgium</td><td>Europe</td><td>11589623</td><td>30528</td></tr><tr><td>Belize</td><td>North America</td><td>397621</td><td>22966</td></tr><tr><td>Benin</td><td>Africa</td><td>12123200</td><td>114763</td></tr><tr><td>Bhutan</td><td>Asia</td><td>771608</td><td>38394</td></tr><tr><td>Bolivia</td><td>South America</td><td>11673021</td><td>1098581</td></tr><tr><td>Bosnia and Herzegovina</td><td>Europe</td><td>3280819</td><td>51129</td></tr><tr><td>Botswana</td><td>Africa</td><td>2351627</td><td>581730</td></tr><tr><td>Brazil</td><td>South America</td><td>212559417</td><td>8515767</td></tr><tr><td>Brunei</td><td>Asia</td><td>437479</td><td>5765</td></tr><tr><td>Bulgaria</td><td>Europe</td><td>6948445</td><td>110994</td></tr><tr><td>Burkina Faso</td><td>Africa</td><td>20903273</td><td>274200</td></tr><tr><td>Burundi</td><td>Africa</td><td>11890784</td><td>27834</td></tr><tr><td>Cabo Verde</td><td>Africa</td><td>555987</td><td>4033</td></tr><tr><td>Cambodia</td><td>Asia</td><td>16718965</td><td>181035</td></tr><tr><td>Cameroon</td><td>Africa</td><td>26545863</td><td>475442</td></tr><tr><td>Canada</td><td>North America</td><td>37742154</td><td>9984670</td></tr><tr><td>Central African Republic</td><td>Africa</td><td>4829767</td><td>622984</td></tr><tr><td>Chad</td><td>Africa</td><td>16425864</td><td>1284000</td></tr><tr><td>Chile</td><td>South America</td><td>19116201</td><td>756102</td></tr><tr><td>China</td><td>Asia</td><td>1439323776</td><td>9596961</td></tr><tr><td>Colombia</td><td>South America</td><td>50882891</td><td>1141748</td></tr><tr><td>Comoros</td><td>Africa</td><td>869601</td><td>1862</td></tr><tr><td>Congo, Democratic Republic of the</td><td>Africa</td><td>89561403</td><td>2344858</td></tr><tr><td>Congo, Republic of the</td><td>Africa</td><td>5518087</td><td>342000</td></tr><tr><td>Costa Rica</td><td>North America</td><td>5094118</td><td>51100</td></tr><tr><td>Croatia</td><td>Europe</td><td>4105267</td><td>56594</td></tr><tr><td>Cuba</td><td>North America</td><td>11326616</td><td>109884</td></tr><tr><td>Côte d'Ivoire</td><td>Africa</td><td>26378274</td><td>322463</td></tr><tr><td>Cyprus</td><td>Europe</td><td>1207359</td><td>9251</td></tr><tr><td>Czech Republic</td><td>Europe</td><td>10708981</td><td>78866</td></tr><tr><td>Denmark</td><td>Europe</td><td>5792202</td><td>42933</td></tr><tr><td>Djibouti</td><td>Africa</td><td>988000</td><td>23200</td></tr><tr><td>Dominica</td><td>North America</td><td>71986</td><td>751</td></tr><tr><td>Dominican Republic</td><td>North America</td><td>10847910</td><td>48671</td></tr><tr><td>Ecuador</td><td>South America</td><td>17643054</td><td>283561</td></tr><tr><td>Egypt</td><td>Africa</td><td>102334404</td><td>1002450</td></tr><tr><td>El Salvador</td><td>North America</td><td>6486205</td><td>21041</td></tr><tr><td>Equatorial Guinea</td><td>Africa</td><td>1402985</td><td>28051</td></tr><tr><td>Eritrea</td><td>Africa</td><td>3546421</td><td>117600</td></tr><tr><td>Estonia</td><td>Europe</td><td>1331796</td><td>45227</td></tr><tr><td>Eswatini</td><td>Africa</td><td>1160164</td><td>17364</td></tr><tr><td>Ethiopia</td><td>Africa</td><td>114963588</td><td>1104300</td></tr><tr><td>Fiji</td><td>Oceania</td><td>896444</td><td>18274</td></tr><tr><td>Finland</td><td>Europe</td><td>5540720</td><td>338424</td></tr><tr><td>France</td><td>Europe</td><td>65273511</td><td>551695</td></tr><tr><td>Gabon</td><td>Africa</td><td>2225728</td><td>267668</td></tr><tr><td>Gambia</td><td>Africa</td><td>2416668</td><td>11295</td></tr><tr><td>Georgia</td><td>Asia</td><td>3989167</td><td>69700</td></tr><tr><td>Germany</td><td>Europe</td><td>83783942</td><td>357022</td></tr><tr><td>Ghana</td><td>Africa</td><td>31072940</td><td>238533</td></tr><tr><td>Greece</td><td>Europe</td><td>10423054</td><td>131957</td></tr><tr><td>Grenada</td><td>North America</td><td>112523</td><td>344</td></tr><tr><td>Guatemala</td><td>North America</td><td>17915568</td><td>108889</td></tr><tr><td>Guinea</td><td>Africa</td><td>13132795</td><td>245857</td></tr><tr><td>Guinea-Bissau</td><td>Africa</td><td>1968001</td><td>36125</td></tr><tr><td>Guyana</td><td>South America</td><td>786552</td><td>214969</td></tr><tr><td>Haiti</td><td>North America</td><td>11402528</td><td>27750</td></tr><tr><td>Holy See</td><td>Europe</td><td>801</td><td>0</td></tr><tr><td>Honduras</td><td>North America</td><td>9904607</td><td>112492</td></tr><tr><td>Hungary</td><td>Europe</td><td>9660351</td><td>93030</td></tr><tr><td>Iceland</td><td>Europe</td><td>341243</td><td>103000</td></tr><tr><td>India</td><td>Asia</td><td>1380004385</td><td>3287263</td></tr><tr><td>Indonesia</td><td>Asia</td><td>273523615</td><td>1904569</td></tr><tr><td>Iran</td><td>Asia</td><td>83992949</td><td>1648195</td></tr><tr><td>Iraq</td><td>Asia</td><td>40222493</td><td>438317</td></tr><tr><td>Ireland</td><td>Europe</td><td>4937786</td><td>70273</td></tr><tr><td>Israel</td><td>Asia</td><td>9053300</td><td>20770</td></tr><tr><td>Italy</td><td>Europe</td><td>60461826</td><td>301340</td></tr><tr><td>Jamaica</td><td>North America</td><td>2961167</td><td>10991</td></tr><tr><td>Japan</td><td>Asia</td><td>126476461</td><td>377975</td></tr><tr><td>Jordan</td><td>Asia</td><td>10203134</td><td>89342</td></tr><tr><td>Kazakhstan</td><td>Asia</td><td>18776707</td><td>2724900</td></tr><tr><td>Kenya</td><td>Africa</td><td>53771296</td><td>580367</td></tr><tr><td>Kiribati</td><td>Oceania</td><td>119449</td><td>811</td></tr><tr><td>Kuwait</td><td>Asia</td><td>4270571</td><td>17818</td></tr><tr><td>Kyrgyzstan</td><td>Asia</td><td>6524195</td><td>199951</td></tr><tr><td>Laos</td><td>Asia</td><td>7275560</td><td>236800</td></tr><tr><td>Latvia</td><td>Europe</td><td>1886198</td><td>64559</td></tr><tr><td>Lebanon</td><td>Asia</td><td>6825445</td><td>10452</td></tr><tr><td>Lesotho</td><td>Africa</td><td>2142249</td><td>30355</td></tr><tr><td>Liberia</td><td>Africa</td><td>5073296</td><td>111369</td></tr><tr><td>Libya</td><td>Africa</td><td>6871292</td><td>1759540</td></tr><tr><td>Liechtenstein</td><td>Europe</td><td>38128</td><td>160</td></tr><tr><td>Lithuania</td><td>Europe</td><td>2722289</td><td>65300</td></tr><tr><td>Luxembourg</td><td>Europe</td><td>634814</td><td>2586</td></tr><tr><td>Madagascar</td><td>Africa</td><td>27691018</td><td>587041</td></tr><tr><td>Malawi</td><td>Africa</td><td>19129952</td><td>118484</td></tr><tr><td>Malaysia</td><td>Asia</td><td>32365999</td><td>330803</td></tr><tr><td>Maldives</td><td>Asia</td><td>540544</td><td>300</td></tr><tr><td>Mali</td><td>Africa</td><td>20250833</td><td>1240192</td></tr><tr><td>Malta</td><td>Europe</td><td>441543</td><td>316</td></tr><tr><td>Marshall Islands</td><td>Oceania</td><td>59190</td><td>181</td></tr><tr><td>Mauritania</td><td>Africa</td><td>4649658</td><td>1030700</td></tr><tr><td>Mauritius</td><td>Africa</td><td>1271768</td><td>2040</td></tr><tr><td>Mexico</td><td>North America</td><td>128932753</td><td>1964375</td></tr><tr><td>Micronesia</td><td>Oceania</td><td>115023</td><td>702</td></tr><tr><td>Moldova</td><td>Europe</td><td>2640438</td><td>33851</td></tr><tr><td>Monaco</td><td>Europe</td><td>39242</td><td>2</td></tr><tr><td>Mongolia</td><td>Asia</td><td>3278290</td><td>1564110</td></tr><tr><td>Montenegro</td><td>Europe</td><td>622359</td><td>13812</td></tr><tr><td>Morocco</td><td>Africa</td><td>36910560</td><td>446550</td></tr><tr><td>Mozambique</td><td>Africa</td><td>31255435</td><td>801590</td></tr><tr><td>Myanmar</td><td>Asia</td><td>54409800</td><td>676578</td></tr><tr><td>Namibia</td><td>Africa</td><td>2540905</td><td>824292</td></tr><tr><td>Nauru</td><td>Oceania</td><td>10824</td><td>21</td></tr><tr><td>Nepal</td><td>Asia</td><td>29136808</td><td>147181</td></tr><tr><td>Netherlands</td><td>Europe</td><td>17134872</td><td>41543</td></tr><tr><td>New Zealand</td><td>Oceania</td><td>5084300</td><td>268838</td></tr><tr><td>Nicaragua</td><td>North America</td><td>6624554</td><td>130373</td></tr><tr><td>Niger</td><td>Africa</td><td>24206644</td><td>1267000</td></tr><tr><td>Nigeria</td><td>Africa</td><td>206139589</td><td>923768</td></tr><tr><td>North Korea</td><td>Asia</td><td>25778816</td><td>120538</td></tr><tr><td>North Macedonia</td><td>Europe</td><td>2083374</td><td>25713</td></tr><tr><td>Norway</td><td>Europe</td><td>5421241</td><td>385207</td></tr><tr><td>Oman</td><td>Asia</td><td>5106626</td><td>309500</td></tr><tr><td>Pakistan</td><td>Asia</td><td>220892340</td><td>881913</td></tr><tr><td>Palau</td><td>Oceania</td><td>18094</td><td>459</td></tr><tr><td>Palestine, State of</td><td>Asia</td><td>5101414</td><td>6020</td></tr><tr><td>Panama</td><td>North America</td><td>4314767</td><td>75417</td></tr><tr><td>Papua New Guinea</td><td>Oceania</td><td>8947024</td><td>462840</td></tr><tr><td>Paraguay</td><td>South America</td><td>7132538</td><td>406752</td></tr><tr><td>Peru</td><td>South America</td><td>32971854</td><td>1285216</td></tr><tr><td>Philippines</td><td>Asia</td><td>109581078</td><td>300000</td></tr><tr><td>Poland</td><td>Europe</td><td>37846611</td><td>312696</td></tr><tr><td>Portugal</td><td>Europe</td><td>10196709</td><td>92090</td></tr><tr><td>Qatar</td><td>Asia</td><td>2881053</td><td>11586</td></tr><tr><td>Romania</td><td>Europe</td><td>19237691</td><td>238391</td></tr><tr><td>Russia</td><td>Europe</td><td>144478050</td><td>17098242</td></tr><tr><td>Rwanda</td><td>Africa</td><td>12952218</td><td>26338</td></tr><tr><td>Saint Kitts and Nevis</td><td>North America</td><td>53192</td><td>261</td></tr><tr><td>Saint Lucia</td><td>North America</td><td>183627</td><td>616</td></tr><tr><td>Saint Vincent and the Grenadines</td><td>North America</td><td>110940</td><td>389</td></tr><tr><td>Samoa</td><td>Oceania</td><td>198414</td><td>2842</td></tr><tr><td>San Marino</td><td>Europe</td><td>33938</td><td>61</td></tr><tr><td>Sao Tome and Principe</td><td>Africa</td><td>219159</td><td>964</td></tr><tr><td>Saudi Arabia</td><td>Asia</td><td>34813871</td><td>2149690</td></tr><tr><td>Senegal</td><td>Africa</td><td>16743927</td><td>196722</td></tr><tr><td>Serbia</td><td>Europe</td><td>6944975</td><td>88361</td></tr><tr><td>Seychelles</td><td>Africa</td><td>98347</td><td>455</td></tr><tr><td>Sierra Leone</td><td>Africa</td><td>7976983</td><td>71740</td></tr><tr><td>Singapore</td><td>Asia</td><td>5850342</td><td>719</td></tr><tr><td>Slovakia</td><td>Europe</td><td>5459642</td><td>49037</td></tr><tr><td>Slovenia</td><td>Europe</td><td>2078938</td><td>20273</td></tr><tr><td>Solomon Islands</td><td>Oceania</td><td>686884</td><td>28896</td></tr><tr><td>Somalia</td><td>Africa</td><td>15893222</td><td>637657</td></tr><tr><td>South Africa</td><td>Africa</td><td>59308690</td><td>1221037</td></tr><tr><td>South Korea</td><td>Asia</td><td>51269185</td><td>100210</td></tr><tr><td>South Sudan</td><td>Africa</td><td>11193725</td><td>644329</td></tr><tr><td>Spain</td><td>Europe</td><td>46754778</td><td>505992</td></tr><tr><td>Sri Lanka</td><td>Asia</td><td>21413249</td><td>65610</td></tr><tr><td>Sudan</td><td>Africa</td><td>43849260</td><td>1861484</td></tr><tr><td>Suriname</td><td>South America</td><td>586634</td><td>163820</td></tr><tr><td>Sweden</td><td>Europe</td><td>10099265</td><td>450295</td></tr><tr><td>Switzerland</td><td>Europe</td><td>8654622</td><td>41285</td></tr><tr><td>Syria</td><td>Asia</td><td>17500657</td><td>185180</td></tr><tr><td>Tajikistan</td><td>Asia</td><td>9537645</td><td>143100</td></tr><tr><td>Tanzania</td><td>Africa</td><td>59734218</td><td>945087</td></tr><tr><td>Thailand</td><td>Asia</td><td>69799978</td><td>513120</td></tr><tr><td>Timor-Leste</td><td>Asia</td><td>1318445</td><td>14874</td></tr><tr><td>Togo</td><td>Africa</td><td>8278724</td><td>56785</td></tr><tr><td>Tonga</td><td>Oceania</td><td>105695</td><td>747</td></tr><tr><td>Trinidad and Tobago</td><td>North America</td><td>1399488</td><td>5130</td></tr><tr><td>Tunisia</td><td>Africa</td><td>11818619</td><td>163610</td></tr><tr><td>Turkey</td><td>Asia</td><td>84339067</td><td>783562</td></tr><tr><td>Turkmenistan</td><td>Asia</td><td>6031200</td><td>488100</td></tr><tr><td>Tuvalu</td><td>Oceania</td><td>11792</td><td>26</td></tr><tr><td>Uganda</td><td>Africa</td><td>45741007</td><td>241550</td></tr><tr><td>Ukraine</td><td>Europe</td><td>43733762</td><td>603628</td></tr><tr><td>United Arab Emirates</td><td>Asia</td><td>9890400</td><td>83600</td></tr><tr><td>United Kingdom</td><td>Europe</td><td>67886011</td><td>243610</td></tr><tr><td>United States</td><td>North America</td><td>331002651</td><td>9833520</td></tr><tr><td>Uruguay</td><td>South America</td><td>3473730</td><td>176215</td></tr><tr><td>Uzbekistan</td><td>Asia</td><td>33469203</td><td>447400</td></tr><tr><td>Vanuatu</td><td>Oceania</td><td>307145</td><td>12189</td></tr><tr><td>Venezuela</td><td>South America</td><td>28435940</td><td>916445</td></tr><tr><td>Vietnam</td><td>Asia</td><td>97338579</td><td>331212</td></tr><tr><td>Yemen</td><td>Asia</td><td>29825964</td><td>527968</td></tr><tr><td>Zambia</td><td>Africa</td><td>18383955</td><td>752612</td></tr><tr><td>Zimbabwe</td><td>Africa</td><td>14862924</td><td>390757</td></tr></tbody></table></div>"
      ]
     },
     "metadata": {
      "application/vnd.databricks.v1+output": {
       "addedWidgets": {},
       "aggData": [],
       "aggError": "",
       "aggOverflow": false,
       "aggSchema": [],
       "aggSeriesLimitReached": false,
       "aggType": "",
       "arguments": {},
       "columnCustomDisplayInfos": {},
       "data": [
        [
         "Afghanistan",
         "Asia",
         38928346,
         652230
        ],
        [
         "Albania",
         "Europe",
         2877797,
         28748
        ],
        [
         "Algeria",
         "Africa",
         43851044,
         2381741
        ],
        [
         "Andorra",
         "Europe",
         77265,
         468
        ],
        [
         "Angola",
         "Africa",
         32866272,
         1246700
        ],
        [
         "Antigua and Barbuda",
         "North America",
         97929,
         442
        ],
        [
         "Argentina",
         "South America",
         45376763,
         2780400
        ],
        [
         "Armenia",
         "Asia",
         2963243,
         29743
        ],
        [
         "Australia",
         "Oceania",
         25649984,
         7692024
        ],
        [
         "Austria",
         "Europe",
         9006398,
         83879
        ],
        [
         "Azerbaijan",
         "Asia",
         10139177,
         86600
        ],
        [
         "Bahamas",
         "North America",
         393244,
         13943
        ],
        [
         "Bahrain",
         "Asia",
         1701575,
         765
        ],
        [
         "Bangladesh",
         "Asia",
         164689383,
         147570
        ],
        [
         "Barbados",
         "North America",
         287375,
         430
        ],
        [
         "Belarus",
         "Europe",
         9449323,
         207600
        ],
        [
         "Belgium",
         "Europe",
         11589623,
         30528
        ],
        [
         "Belize",
         "North America",
         397621,
         22966
        ],
        [
         "Benin",
         "Africa",
         12123200,
         114763
        ],
        [
         "Bhutan",
         "Asia",
         771608,
         38394
        ],
        [
         "Bolivia",
         "South America",
         11673021,
         1098581
        ],
        [
         "Bosnia and Herzegovina",
         "Europe",
         3280819,
         51129
        ],
        [
         "Botswana",
         "Africa",
         2351627,
         581730
        ],
        [
         "Brazil",
         "South America",
         212559417,
         8515767
        ],
        [
         "Brunei",
         "Asia",
         437479,
         5765
        ],
        [
         "Bulgaria",
         "Europe",
         6948445,
         110994
        ],
        [
         "Burkina Faso",
         "Africa",
         20903273,
         274200
        ],
        [
         "Burundi",
         "Africa",
         11890784,
         27834
        ],
        [
         "Cabo Verde",
         "Africa",
         555987,
         4033
        ],
        [
         "Cambodia",
         "Asia",
         16718965,
         181035
        ],
        [
         "Cameroon",
         "Africa",
         26545863,
         475442
        ],
        [
         "Canada",
         "North America",
         37742154,
         9984670
        ],
        [
         "Central African Republic",
         "Africa",
         4829767,
         622984
        ],
        [
         "Chad",
         "Africa",
         16425864,
         1284000
        ],
        [
         "Chile",
         "South America",
         19116201,
         756102
        ],
        [
         "China",
         "Asia",
         1439323776,
         9596961
        ],
        [
         "Colombia",
         "South America",
         50882891,
         1141748
        ],
        [
         "Comoros",
         "Africa",
         869601,
         1862
        ],
        [
         "Congo, Democratic Republic of the",
         "Africa",
         89561403,
         2344858
        ],
        [
         "Congo, Republic of the",
         "Africa",
         5518087,
         342000
        ],
        [
         "Costa Rica",
         "North America",
         5094118,
         51100
        ],
        [
         "Croatia",
         "Europe",
         4105267,
         56594
        ],
        [
         "Cuba",
         "North America",
         11326616,
         109884
        ],
        [
         "Côte d'Ivoire",
         "Africa",
         26378274,
         322463
        ],
        [
         "Cyprus",
         "Europe",
         1207359,
         9251
        ],
        [
         "Czech Republic",
         "Europe",
         10708981,
         78866
        ],
        [
         "Denmark",
         "Europe",
         5792202,
         42933
        ],
        [
         "Djibouti",
         "Africa",
         988000,
         23200
        ],
        [
         "Dominica",
         "North America",
         71986,
         751
        ],
        [
         "Dominican Republic",
         "North America",
         10847910,
         48671
        ],
        [
         "Ecuador",
         "South America",
         17643054,
         283561
        ],
        [
         "Egypt",
         "Africa",
         102334404,
         1002450
        ],
        [
         "El Salvador",
         "North America",
         6486205,
         21041
        ],
        [
         "Equatorial Guinea",
         "Africa",
         1402985,
         28051
        ],
        [
         "Eritrea",
         "Africa",
         3546421,
         117600
        ],
        [
         "Estonia",
         "Europe",
         1331796,
         45227
        ],
        [
         "Eswatini",
         "Africa",
         1160164,
         17364
        ],
        [
         "Ethiopia",
         "Africa",
         114963588,
         1104300
        ],
        [
         "Fiji",
         "Oceania",
         896444,
         18274
        ],
        [
         "Finland",
         "Europe",
         5540720,
         338424
        ],
        [
         "France",
         "Europe",
         65273511,
         551695
        ],
        [
         "Gabon",
         "Africa",
         2225728,
         267668
        ],
        [
         "Gambia",
         "Africa",
         2416668,
         11295
        ],
        [
         "Georgia",
         "Asia",
         3989167,
         69700
        ],
        [
         "Germany",
         "Europe",
         83783942,
         357022
        ],
        [
         "Ghana",
         "Africa",
         31072940,
         238533
        ],
        [
         "Greece",
         "Europe",
         10423054,
         131957
        ],
        [
         "Grenada",
         "North America",
         112523,
         344
        ],
        [
         "Guatemala",
         "North America",
         17915568,
         108889
        ],
        [
         "Guinea",
         "Africa",
         13132795,
         245857
        ],
        [
         "Guinea-Bissau",
         "Africa",
         1968001,
         36125
        ],
        [
         "Guyana",
         "South America",
         786552,
         214969
        ],
        [
         "Haiti",
         "North America",
         11402528,
         27750
        ],
        [
         "Holy See",
         "Europe",
         801,
         0
        ],
        [
         "Honduras",
         "North America",
         9904607,
         112492
        ],
        [
         "Hungary",
         "Europe",
         9660351,
         93030
        ],
        [
         "Iceland",
         "Europe",
         341243,
         103000
        ],
        [
         "India",
         "Asia",
         1380004385,
         3287263
        ],
        [
         "Indonesia",
         "Asia",
         273523615,
         1904569
        ],
        [
         "Iran",
         "Asia",
         83992949,
         1648195
        ],
        [
         "Iraq",
         "Asia",
         40222493,
         438317
        ],
        [
         "Ireland",
         "Europe",
         4937786,
         70273
        ],
        [
         "Israel",
         "Asia",
         9053300,
         20770
        ],
        [
         "Italy",
         "Europe",
         60461826,
         301340
        ],
        [
         "Jamaica",
         "North America",
         2961167,
         10991
        ],
        [
         "Japan",
         "Asia",
         126476461,
         377975
        ],
        [
         "Jordan",
         "Asia",
         10203134,
         89342
        ],
        [
         "Kazakhstan",
         "Asia",
         18776707,
         2724900
        ],
        [
         "Kenya",
         "Africa",
         53771296,
         580367
        ],
        [
         "Kiribati",
         "Oceania",
         119449,
         811
        ],
        [
         "Kuwait",
         "Asia",
         4270571,
         17818
        ],
        [
         "Kyrgyzstan",
         "Asia",
         6524195,
         199951
        ],
        [
         "Laos",
         "Asia",
         7275560,
         236800
        ],
        [
         "Latvia",
         "Europe",
         1886198,
         64559
        ],
        [
         "Lebanon",
         "Asia",
         6825445,
         10452
        ],
        [
         "Lesotho",
         "Africa",
         2142249,
         30355
        ],
        [
         "Liberia",
         "Africa",
         5073296,
         111369
        ],
        [
         "Libya",
         "Africa",
         6871292,
         1759540
        ],
        [
         "Liechtenstein",
         "Europe",
         38128,
         160
        ],
        [
         "Lithuania",
         "Europe",
         2722289,
         65300
        ],
        [
         "Luxembourg",
         "Europe",
         634814,
         2586
        ],
        [
         "Madagascar",
         "Africa",
         27691018,
         587041
        ],
        [
         "Malawi",
         "Africa",
         19129952,
         118484
        ],
        [
         "Malaysia",
         "Asia",
         32365999,
         330803
        ],
        [
         "Maldives",
         "Asia",
         540544,
         300
        ],
        [
         "Mali",
         "Africa",
         20250833,
         1240192
        ],
        [
         "Malta",
         "Europe",
         441543,
         316
        ],
        [
         "Marshall Islands",
         "Oceania",
         59190,
         181
        ],
        [
         "Mauritania",
         "Africa",
         4649658,
         1030700
        ],
        [
         "Mauritius",
         "Africa",
         1271768,
         2040
        ],
        [
         "Mexico",
         "North America",
         128932753,
         1964375
        ],
        [
         "Micronesia",
         "Oceania",
         115023,
         702
        ],
        [
         "Moldova",
         "Europe",
         2640438,
         33851
        ],
        [
         "Monaco",
         "Europe",
         39242,
         2
        ],
        [
         "Mongolia",
         "Asia",
         3278290,
         1564110
        ],
        [
         "Montenegro",
         "Europe",
         622359,
         13812
        ],
        [
         "Morocco",
         "Africa",
         36910560,
         446550
        ],
        [
         "Mozambique",
         "Africa",
         31255435,
         801590
        ],
        [
         "Myanmar",
         "Asia",
         54409800,
         676578
        ],
        [
         "Namibia",
         "Africa",
         2540905,
         824292
        ],
        [
         "Nauru",
         "Oceania",
         10824,
         21
        ],
        [
         "Nepal",
         "Asia",
         29136808,
         147181
        ],
        [
         "Netherlands",
         "Europe",
         17134872,
         41543
        ],
        [
         "New Zealand",
         "Oceania",
         5084300,
         268838
        ],
        [
         "Nicaragua",
         "North America",
         6624554,
         130373
        ],
        [
         "Niger",
         "Africa",
         24206644,
         1267000
        ],
        [
         "Nigeria",
         "Africa",
         206139589,
         923768
        ],
        [
         "North Korea",
         "Asia",
         25778816,
         120538
        ],
        [
         "North Macedonia",
         "Europe",
         2083374,
         25713
        ],
        [
         "Norway",
         "Europe",
         5421241,
         385207
        ],
        [
         "Oman",
         "Asia",
         5106626,
         309500
        ],
        [
         "Pakistan",
         "Asia",
         220892340,
         881913
        ],
        [
         "Palau",
         "Oceania",
         18094,
         459
        ],
        [
         "Palestine, State of",
         "Asia",
         5101414,
         6020
        ],
        [
         "Panama",
         "North America",
         4314767,
         75417
        ],
        [
         "Papua New Guinea",
         "Oceania",
         8947024,
         462840
        ],
        [
         "Paraguay",
         "South America",
         7132538,
         406752
        ],
        [
         "Peru",
         "South America",
         32971854,
         1285216
        ],
        [
         "Philippines",
         "Asia",
         109581078,
         300000
        ],
        [
         "Poland",
         "Europe",
         37846611,
         312696
        ],
        [
         "Portugal",
         "Europe",
         10196709,
         92090
        ],
        [
         "Qatar",
         "Asia",
         2881053,
         11586
        ],
        [
         "Romania",
         "Europe",
         19237691,
         238391
        ],
        [
         "Russia",
         "Europe",
         144478050,
         17098242
        ],
        [
         "Rwanda",
         "Africa",
         12952218,
         26338
        ],
        [
         "Saint Kitts and Nevis",
         "North America",
         53192,
         261
        ],
        [
         "Saint Lucia",
         "North America",
         183627,
         616
        ],
        [
         "Saint Vincent and the Grenadines",
         "North America",
         110940,
         389
        ],
        [
         "Samoa",
         "Oceania",
         198414,
         2842
        ],
        [
         "San Marino",
         "Europe",
         33938,
         61
        ],
        [
         "Sao Tome and Principe",
         "Africa",
         219159,
         964
        ],
        [
         "Saudi Arabia",
         "Asia",
         34813871,
         2149690
        ],
        [
         "Senegal",
         "Africa",
         16743927,
         196722
        ],
        [
         "Serbia",
         "Europe",
         6944975,
         88361
        ],
        [
         "Seychelles",
         "Africa",
         98347,
         455
        ],
        [
         "Sierra Leone",
         "Africa",
         7976983,
         71740
        ],
        [
         "Singapore",
         "Asia",
         5850342,
         719
        ],
        [
         "Slovakia",
         "Europe",
         5459642,
         49037
        ],
        [
         "Slovenia",
         "Europe",
         2078938,
         20273
        ],
        [
         "Solomon Islands",
         "Oceania",
         686884,
         28896
        ],
        [
         "Somalia",
         "Africa",
         15893222,
         637657
        ],
        [
         "South Africa",
         "Africa",
         59308690,
         1221037
        ],
        [
         "South Korea",
         "Asia",
         51269185,
         100210
        ],
        [
         "South Sudan",
         "Africa",
         11193725,
         644329
        ],
        [
         "Spain",
         "Europe",
         46754778,
         505992
        ],
        [
         "Sri Lanka",
         "Asia",
         21413249,
         65610
        ],
        [
         "Sudan",
         "Africa",
         43849260,
         1861484
        ],
        [
         "Suriname",
         "South America",
         586634,
         163820
        ],
        [
         "Sweden",
         "Europe",
         10099265,
         450295
        ],
        [
         "Switzerland",
         "Europe",
         8654622,
         41285
        ],
        [
         "Syria",
         "Asia",
         17500657,
         185180
        ],
        [
         "Tajikistan",
         "Asia",
         9537645,
         143100
        ],
        [
         "Tanzania",
         "Africa",
         59734218,
         945087
        ],
        [
         "Thailand",
         "Asia",
         69799978,
         513120
        ],
        [
         "Timor-Leste",
         "Asia",
         1318445,
         14874
        ],
        [
         "Togo",
         "Africa",
         8278724,
         56785
        ],
        [
         "Tonga",
         "Oceania",
         105695,
         747
        ],
        [
         "Trinidad and Tobago",
         "North America",
         1399488,
         5130
        ],
        [
         "Tunisia",
         "Africa",
         11818619,
         163610
        ],
        [
         "Turkey",
         "Asia",
         84339067,
         783562
        ],
        [
         "Turkmenistan",
         "Asia",
         6031200,
         488100
        ],
        [
         "Tuvalu",
         "Oceania",
         11792,
         26
        ],
        [
         "Uganda",
         "Africa",
         45741007,
         241550
        ],
        [
         "Ukraine",
         "Europe",
         43733762,
         603628
        ],
        [
         "United Arab Emirates",
         "Asia",
         9890400,
         83600
        ],
        [
         "United Kingdom",
         "Europe",
         67886011,
         243610
        ],
        [
         "United States",
         "North America",
         331002651,
         9833520
        ],
        [
         "Uruguay",
         "South America",
         3473730,
         176215
        ],
        [
         "Uzbekistan",
         "Asia",
         33469203,
         447400
        ],
        [
         "Vanuatu",
         "Oceania",
         307145,
         12189
        ],
        [
         "Venezuela",
         "South America",
         28435940,
         916445
        ],
        [
         "Vietnam",
         "Asia",
         97338579,
         331212
        ],
        [
         "Yemen",
         "Asia",
         29825964,
         527968
        ],
        [
         "Zambia",
         "Africa",
         18383955,
         752612
        ],
        [
         "Zimbabwe",
         "Africa",
         14862924,
         390757
        ]
       ],
       "datasetInfos": [],
       "dbfsResultPath": null,
       "isJsonSchema": true,
       "metadata": {},
       "overflow": false,
       "plotOptions": {
        "customPlotOptions": {},
        "displayType": "table",
        "pivotAggregation": null,
        "pivotColumns": null,
        "xColumns": null,
        "yColumns": null
       },
       "removedWidgets": [],
       "schema": [
        {
         "metadata": "{}",
         "name": "country_name",
         "type": "\"string\""
        },
        {
         "metadata": "{}",
         "name": "continent",
         "type": "\"string\""
        },
        {
         "metadata": "{}",
         "name": "population",
         "type": "\"long\""
        },
        {
         "metadata": "{}",
         "name": "area_km2",
         "type": "\"integer\""
        }
       ],
       "type": "table"
      }
     },
     "output_type": "display_data"
    }
   ],
   "source": [
    "# Displaying the DataFrame\n",
    "display(df)"
   ]
  },
  {
   "cell_type": "code",
   "execution_count": 0,
   "metadata": {
    "application/vnd.databricks.v1+cell": {
     "cellMetadata": {
      "byteLimit": 2048000,
      "rowLimit": 10000
     },
     "inputWidgets": {},
     "nuid": "d42c2e89-14e0-4677-a562-d72b0a7fb23d",
     "showTitle": false,
     "tableResultSettingsMap": {},
     "title": ""
    }
   },
   "outputs": [],
   "source": [
    "# Writing DataFrame to JSON format\n",
    "\n",
    "df.write.json(\"/FileStore/write_demo/countries_json\")"
   ]
  },
  {
   "cell_type": "code",
   "execution_count": 0,
   "metadata": {
    "application/vnd.databricks.v1+cell": {
     "cellMetadata": {
      "byteLimit": 2048000,
      "rowLimit": 10000
     },
     "collapsed": true,
     "inputWidgets": {},
     "nuid": "04a20bc8-ef3d-468b-81d8-554a08376ded",
     "showTitle": false,
     "tableResultSettingsMap": {},
     "title": ""
    }
   },
   "outputs": [
    {
     "output_type": "display_data",
     "data": {
      "text/html": [
       "<style scoped>\n",
       "  .table-result-container {\n",
       "    max-height: 300px;\n",
       "    overflow: auto;\n",
       "  }\n",
       "  table, th, td {\n",
       "    border: 1px solid black;\n",
       "    border-collapse: collapse;\n",
       "  }\n",
       "  th, td {\n",
       "    padding: 5px;\n",
       "  }\n",
       "  th {\n",
       "    text-align: left;\n",
       "  }\n",
       "</style><div class='table-result-container'><table class='table-result'><thead style='background-color: white'><tr><th>path</th><th>name</th><th>size</th><th>modificationTime</th></tr></thead><tbody><tr><td>dbfs:/FileStore/write_demo/countries_json/_SUCCESS</td><td>_SUCCESS</td><td>0</td><td>1739626094000</td></tr><tr><td>dbfs:/FileStore/write_demo/countries_json/_committed_1398546446475342178</td><td>_committed_1398546446475342178</td><td>1447</td><td>1739624815000</td></tr><tr><td>dbfs:/FileStore/write_demo/countries_json/_committed_1399995391769020548</td><td>_committed_1399995391769020548</td><td>1458</td><td>1739624801000</td></tr><tr><td>dbfs:/FileStore/write_demo/countries_json/_committed_1988399254595779883</td><td>_committed_1988399254595779883</td><td>1455</td><td>1739626093000</td></tr><tr><td>dbfs:/FileStore/write_demo/countries_json/_committed_2417253779783163028</td><td>_committed_2417253779783163028</td><td>736</td><td>1739624729000</td></tr><tr><td>dbfs:/FileStore/write_demo/countries_json/_committed_766496223083813201</td><td>_committed_766496223083813201</td><td>1447</td><td>1739626021000</td></tr><tr><td>dbfs:/FileStore/write_demo/countries_json/_started_1398546446475342178</td><td>_started_1398546446475342178</td><td>0</td><td>1739624815000</td></tr><tr><td>dbfs:/FileStore/write_demo/countries_json/_started_1399995391769020548</td><td>_started_1399995391769020548</td><td>0</td><td>1739624800000</td></tr><tr><td>dbfs:/FileStore/write_demo/countries_json/_started_1988399254595779883</td><td>_started_1988399254595779883</td><td>0</td><td>1739626093000</td></tr><tr><td>dbfs:/FileStore/write_demo/countries_json/_started_2417253779783163028</td><td>_started_2417253779783163028</td><td>0</td><td>1739624728000</td></tr><tr><td>dbfs:/FileStore/write_demo/countries_json/_started_766496223083813201</td><td>_started_766496223083813201</td><td>0</td><td>1739626020000</td></tr><tr><td>dbfs:/FileStore/write_demo/countries_json/part-00000-tid-1988399254595779883-15a87aa7-644f-4164-9c91-a5fbbcd527d5-163-1-c000.json</td><td>part-00000-tid-1988399254595779883-15a87aa7-644f-4164-9c91-a5fbbcd527d5-163-1-c000.json</td><td>2153</td><td>1739626093000</td></tr><tr><td>dbfs:/FileStore/write_demo/countries_json/part-00001-tid-1988399254595779883-15a87aa7-644f-4164-9c91-a5fbbcd527d5-164-1-c000.json</td><td>part-00001-tid-1988399254595779883-15a87aa7-644f-4164-9c91-a5fbbcd527d5-164-1-c000.json</td><td>2194</td><td>1739626093000</td></tr><tr><td>dbfs:/FileStore/write_demo/countries_json/part-00002-tid-1988399254595779883-15a87aa7-644f-4164-9c91-a5fbbcd527d5-165-1-c000.json</td><td>part-00002-tid-1988399254595779883-15a87aa7-644f-4164-9c91-a5fbbcd527d5-165-1-c000.json</td><td>2152</td><td>1739626093000</td></tr><tr><td>dbfs:/FileStore/write_demo/countries_json/part-00003-tid-1988399254595779883-15a87aa7-644f-4164-9c91-a5fbbcd527d5-166-1-c000.json</td><td>part-00003-tid-1988399254595779883-15a87aa7-644f-4164-9c91-a5fbbcd527d5-166-1-c000.json</td><td>2068</td><td>1739626093000</td></tr><tr><td>dbfs:/FileStore/write_demo/countries_json/part-00004-tid-1988399254595779883-15a87aa7-644f-4164-9c91-a5fbbcd527d5-167-1-c000.json</td><td>part-00004-tid-1988399254595779883-15a87aa7-644f-4164-9c91-a5fbbcd527d5-167-1-c000.json</td><td>2095</td><td>1739626093000</td></tr><tr><td>dbfs:/FileStore/write_demo/countries_json/part-00005-tid-1988399254595779883-15a87aa7-644f-4164-9c91-a5fbbcd527d5-168-1-c000.json</td><td>part-00005-tid-1988399254595779883-15a87aa7-644f-4164-9c91-a5fbbcd527d5-168-1-c000.json</td><td>2138</td><td>1739626093000</td></tr><tr><td>dbfs:/FileStore/write_demo/countries_json/part-00006-tid-1988399254595779883-15a87aa7-644f-4164-9c91-a5fbbcd527d5-169-1-c000.json</td><td>part-00006-tid-1988399254595779883-15a87aa7-644f-4164-9c91-a5fbbcd527d5-169-1-c000.json</td><td>2173</td><td>1739626093000</td></tr><tr><td>dbfs:/FileStore/write_demo/countries_json/part-00007-tid-1988399254595779883-15a87aa7-644f-4164-9c91-a5fbbcd527d5-170-1-c000.json</td><td>part-00007-tid-1988399254595779883-15a87aa7-644f-4164-9c91-a5fbbcd527d5-170-1-c000.json</td><td>2408</td><td>1739626093000</td></tr></tbody></table></div>"
      ]
     },
     "metadata": {
      "application/vnd.databricks.v1+output": {
       "addedWidgets": {},
       "aggData": [],
       "aggError": "",
       "aggOverflow": false,
       "aggSchema": [],
       "aggSeriesLimitReached": false,
       "aggType": "",
       "arguments": {},
       "columnCustomDisplayInfos": {},
       "data": [
        [
         "dbfs:/FileStore/write_demo/countries_json/_SUCCESS",
         "_SUCCESS",
         0,
         1739626094000
        ],
        [
         "dbfs:/FileStore/write_demo/countries_json/_committed_1398546446475342178",
         "_committed_1398546446475342178",
         1447,
         1739624815000
        ],
        [
         "dbfs:/FileStore/write_demo/countries_json/_committed_1399995391769020548",
         "_committed_1399995391769020548",
         1458,
         1739624801000
        ],
        [
         "dbfs:/FileStore/write_demo/countries_json/_committed_1988399254595779883",
         "_committed_1988399254595779883",
         1455,
         1739626093000
        ],
        [
         "dbfs:/FileStore/write_demo/countries_json/_committed_2417253779783163028",
         "_committed_2417253779783163028",
         736,
         1739624729000
        ],
        [
         "dbfs:/FileStore/write_demo/countries_json/_committed_766496223083813201",
         "_committed_766496223083813201",
         1447,
         1739626021000
        ],
        [
         "dbfs:/FileStore/write_demo/countries_json/_started_1398546446475342178",
         "_started_1398546446475342178",
         0,
         1739624815000
        ],
        [
         "dbfs:/FileStore/write_demo/countries_json/_started_1399995391769020548",
         "_started_1399995391769020548",
         0,
         1739624800000
        ],
        [
         "dbfs:/FileStore/write_demo/countries_json/_started_1988399254595779883",
         "_started_1988399254595779883",
         0,
         1739626093000
        ],
        [
         "dbfs:/FileStore/write_demo/countries_json/_started_2417253779783163028",
         "_started_2417253779783163028",
         0,
         1739624728000
        ],
        [
         "dbfs:/FileStore/write_demo/countries_json/_started_766496223083813201",
         "_started_766496223083813201",
         0,
         1739626020000
        ],
        [
         "dbfs:/FileStore/write_demo/countries_json/part-00000-tid-1988399254595779883-15a87aa7-644f-4164-9c91-a5fbbcd527d5-163-1-c000.json",
         "part-00000-tid-1988399254595779883-15a87aa7-644f-4164-9c91-a5fbbcd527d5-163-1-c000.json",
         2153,
         1739626093000
        ],
        [
         "dbfs:/FileStore/write_demo/countries_json/part-00001-tid-1988399254595779883-15a87aa7-644f-4164-9c91-a5fbbcd527d5-164-1-c000.json",
         "part-00001-tid-1988399254595779883-15a87aa7-644f-4164-9c91-a5fbbcd527d5-164-1-c000.json",
         2194,
         1739626093000
        ],
        [
         "dbfs:/FileStore/write_demo/countries_json/part-00002-tid-1988399254595779883-15a87aa7-644f-4164-9c91-a5fbbcd527d5-165-1-c000.json",
         "part-00002-tid-1988399254595779883-15a87aa7-644f-4164-9c91-a5fbbcd527d5-165-1-c000.json",
         2152,
         1739626093000
        ],
        [
         "dbfs:/FileStore/write_demo/countries_json/part-00003-tid-1988399254595779883-15a87aa7-644f-4164-9c91-a5fbbcd527d5-166-1-c000.json",
         "part-00003-tid-1988399254595779883-15a87aa7-644f-4164-9c91-a5fbbcd527d5-166-1-c000.json",
         2068,
         1739626093000
        ],
        [
         "dbfs:/FileStore/write_demo/countries_json/part-00004-tid-1988399254595779883-15a87aa7-644f-4164-9c91-a5fbbcd527d5-167-1-c000.json",
         "part-00004-tid-1988399254595779883-15a87aa7-644f-4164-9c91-a5fbbcd527d5-167-1-c000.json",
         2095,
         1739626093000
        ],
        [
         "dbfs:/FileStore/write_demo/countries_json/part-00005-tid-1988399254595779883-15a87aa7-644f-4164-9c91-a5fbbcd527d5-168-1-c000.json",
         "part-00005-tid-1988399254595779883-15a87aa7-644f-4164-9c91-a5fbbcd527d5-168-1-c000.json",
         2138,
         1739626093000
        ],
        [
         "dbfs:/FileStore/write_demo/countries_json/part-00006-tid-1988399254595779883-15a87aa7-644f-4164-9c91-a5fbbcd527d5-169-1-c000.json",
         "part-00006-tid-1988399254595779883-15a87aa7-644f-4164-9c91-a5fbbcd527d5-169-1-c000.json",
         2173,
         1739626093000
        ],
        [
         "dbfs:/FileStore/write_demo/countries_json/part-00007-tid-1988399254595779883-15a87aa7-644f-4164-9c91-a5fbbcd527d5-170-1-c000.json",
         "part-00007-tid-1988399254595779883-15a87aa7-644f-4164-9c91-a5fbbcd527d5-170-1-c000.json",
         2408,
         1739626093000
        ]
       ],
       "datasetInfos": [],
       "dbfsResultPath": null,
       "isJsonSchema": true,
       "metadata": {},
       "overflow": false,
       "plotOptions": {
        "customPlotOptions": {},
        "displayType": "table",
        "pivotAggregation": null,
        "pivotColumns": null,
        "xColumns": null,
        "yColumns": null
       },
       "removedWidgets": [],
       "schema": [
        {
         "metadata": "{}",
         "name": "path",
         "type": "\"string\""
        },
        {
         "metadata": "{}",
         "name": "name",
         "type": "\"string\""
        },
        {
         "metadata": "{}",
         "name": "size",
         "type": "\"long\""
        },
        {
         "metadata": "{}",
         "name": "modificationTime",
         "type": "\"long\""
        }
       ],
       "type": "table"
      }
     },
     "output_type": "display_data"
    }
   ],
   "source": [
    "# Displaying the directory contents\n",
    "display(dbutils.fs.ls(\"/FileStore/write_demo/countries_json\"))"
   ]
  },
  {
   "cell_type": "code",
   "execution_count": 0,
   "metadata": {
    "application/vnd.databricks.v1+cell": {
     "cellMetadata": {
      "byteLimit": 2048000,
      "rowLimit": 10000
     },
     "collapsed": true,
     "inputWidgets": {},
     "nuid": "ab5694fb-c2e1-4793-b38a-8d67217a289f",
     "showTitle": false,
     "tableResultSettingsMap": {},
     "title": ""
    }
   },
   "outputs": [
    {
     "output_type": "stream",
     "name": "stdout",
     "output_type": "stream",
     "text": [
      "{\"country_name\":\"Afghanistan\",\"continent\":\"Asia\",\"population\":38928346,\"area_km2\":652230}\n{\"country_name\":\"Albania\",\"continent\":\"Europe\",\"population\":2877797,\"area_km2\":28748}\n{\"country_name\":\"Algeria\",\"continent\":\"Africa\",\"population\":43851044,\"area_km2\":2381741}\n{\"country_name\":\"Andorra\",\"continent\":\"Europe\",\"population\":77265,\"area_km2\":468}\n{\"country_name\":\"Angola\",\"continent\":\"Africa\",\"population\":32866272,\"area_km2\":1246700}\n{\"country_name\":\"Antigua and Barbuda\",\"continent\":\"North America\",\"population\":97929,\"area_km2\":442}\n{\"country_name\":\"Argentina\",\"continent\":\"South America\",\"population\":45376763,\"area_km2\":2780400}\n{\"country_name\":\"Armenia\",\"continent\":\"Asia\",\"population\":2963243,\"area_km2\":29743}\n{\"country_name\":\"Australia\",\"continent\":\"Oceania\",\"population\":25649984,\"area_km2\":7692024}\n{\"country_name\":\"Austria\",\"continent\":\"Europe\",\"population\":9006398,\"area_km2\":83879}\n{\"country_name\":\"Azerbaijan\",\"continent\":\"Asia\",\"population\":10139177,\"area_km2\":86600}\n{\"country_name\":\"Bahamas\",\"continent\":\"North America\",\"population\":393244,\"area_km2\":13943}\n{\"country_name\":\"Bahrain\",\"continent\":\"Asia\",\"population\":1701575,\"area_km2\":765}\n{\"country_name\":\"Bangladesh\",\"continent\":\"Asia\",\"population\":164689383,\"area_km2\":147570}\n{\"country_name\":\"Barbados\",\"continent\":\"North America\",\"population\":287375,\"area_km2\":430}\n{\"country_name\":\"Belarus\",\"continent\":\"Europe\",\"population\":9449323,\"area_km2\":207600}\n{\"country_name\":\"Belgium\",\"continent\":\"Europe\",\"population\":11589623,\"area_km2\":30528}\n{\"country_name\":\"Belize\",\"continent\":\"North America\",\"population\":397621,\"area_km2\":22966}\n{\"country_name\":\"Benin\",\"continent\":\"Africa\",\"population\":12123200,\"area_km2\":114763}\n{\"country_name\":\"Bhutan\",\"continent\":\"Asia\",\"population\":771608,\"area_km2\":38394}\n{\"country_name\":\"Bolivia\",\"continent\":\"South America\",\"population\":11673021,\"area_km2\":1098581}\n{\"country_name\":\"Bosnia and Herzegovina\",\"continent\":\"Europe\",\"population\":3280819,\"area_km2\":51129}\n{\"country_name\":\"Botswana\",\"continent\":\"Africa\",\"population\":2351627,\"area_km2\":581730}\n{\"country_name\":\"Brazil\",\"continent\":\"South America\",\"population\":212559417,\"area_km2\":8515767}\n\n"
     ]
    }
   ],
   "source": [
    "# Previewing the raw contents of a partitioned JSON file\n",
    "print(dbutils.fs.head(\"dbfs:/FileStore/write_demo/countries_json/part-00000-tid-1988399254595779883-15a87aa7-644f-4164-9c91-a5fbbcd527d5-163-1-c000.json\"))"
   ]
  },
  {
   "cell_type": "code",
   "execution_count": 0,
   "metadata": {
    "application/vnd.databricks.v1+cell": {
     "cellMetadata": {
      "byteLimit": 2048000,
      "rowLimit": 10000
     },
     "inputWidgets": {},
     "nuid": "d69c8a75-843f-45d8-b0ab-f859e89fc0c4",
     "showTitle": false,
     "tableResultSettingsMap": {},
     "title": ""
    }
   },
   "outputs": [],
   "source": [
    "# The 3 lines below are equivalent\n",
    "\n",
    "df.write.json(\"/FileStore/write_demo/countries_json\", mode=\"overwrite\")\n",
    "df.write.mode(\"overwrite\").json(\"/FileStore/write_demo/countries_json\")\n",
    "df.write.format(\"json\").mode(\"overwrite\").save(\"/FileStore/write_demo/countries_json\")"
   ]
  },
  {
   "cell_type": "code",
   "execution_count": 0,
   "metadata": {
    "application/vnd.databricks.v1+cell": {
     "cellMetadata": {
      "byteLimit": 2048000,
      "rowLimit": 10000
     },
     "inputWidgets": {},
     "nuid": "0efdb1c2-9926-4c98-baa0-16a942a30b8c",
     "showTitle": false,
     "tableResultSettingsMap": {},
     "title": ""
    }
   },
   "outputs": [
    {
     "output_type": "display_data",
     "data": {
      "text/html": [
       "<style scoped>\n",
       "  .table-result-container {\n",
       "    max-height: 300px;\n",
       "    overflow: auto;\n",
       "  }\n",
       "  table, th, td {\n",
       "    border: 1px solid black;\n",
       "    border-collapse: collapse;\n",
       "  }\n",
       "  th, td {\n",
       "    padding: 5px;\n",
       "  }\n",
       "  th {\n",
       "    text-align: left;\n",
       "  }\n",
       "</style><div class='table-result-container'><table class='table-result'><thead style='background-color: white'><tr><th>area_km2</th><th>continent</th><th>country_name</th><th>population</th></tr></thead><tbody><tr><td>450295</td><td>Europe</td><td>Sweden</td><td>10099265</td></tr><tr><td>41285</td><td>Europe</td><td>Switzerland</td><td>8654622</td></tr><tr><td>185180</td><td>Asia</td><td>Syria</td><td>17500657</td></tr><tr><td>143100</td><td>Asia</td><td>Tajikistan</td><td>9537645</td></tr><tr><td>945087</td><td>Africa</td><td>Tanzania</td><td>59734218</td></tr><tr><td>513120</td><td>Asia</td><td>Thailand</td><td>69799978</td></tr><tr><td>14874</td><td>Asia</td><td>Timor-Leste</td><td>1318445</td></tr><tr><td>56785</td><td>Africa</td><td>Togo</td><td>8278724</td></tr><tr><td>747</td><td>Oceania</td><td>Tonga</td><td>105695</td></tr><tr><td>5130</td><td>North America</td><td>Trinidad and Tobago</td><td>1399488</td></tr><tr><td>163610</td><td>Africa</td><td>Tunisia</td><td>11818619</td></tr><tr><td>783562</td><td>Asia</td><td>Turkey</td><td>84339067</td></tr><tr><td>488100</td><td>Asia</td><td>Turkmenistan</td><td>6031200</td></tr><tr><td>26</td><td>Oceania</td><td>Tuvalu</td><td>11792</td></tr><tr><td>241550</td><td>Africa</td><td>Uganda</td><td>45741007</td></tr><tr><td>603628</td><td>Europe</td><td>Ukraine</td><td>43733762</td></tr><tr><td>83600</td><td>Asia</td><td>United Arab Emirates</td><td>9890400</td></tr><tr><td>243610</td><td>Europe</td><td>United Kingdom</td><td>67886011</td></tr><tr><td>9833520</td><td>North America</td><td>United States</td><td>331002651</td></tr><tr><td>176215</td><td>South America</td><td>Uruguay</td><td>3473730</td></tr><tr><td>447400</td><td>Asia</td><td>Uzbekistan</td><td>33469203</td></tr><tr><td>12189</td><td>Oceania</td><td>Vanuatu</td><td>307145</td></tr><tr><td>916445</td><td>South America</td><td>Venezuela</td><td>28435940</td></tr><tr><td>331212</td><td>Asia</td><td>Vietnam</td><td>97338579</td></tr><tr><td>527968</td><td>Asia</td><td>Yemen</td><td>29825964</td></tr><tr><td>752612</td><td>Africa</td><td>Zambia</td><td>18383955</td></tr><tr><td>390757</td><td>Africa</td><td>Zimbabwe</td><td>14862924</td></tr><tr><td>5765</td><td>Asia</td><td>Brunei</td><td>437479</td></tr><tr><td>110994</td><td>Europe</td><td>Bulgaria</td><td>6948445</td></tr><tr><td>274200</td><td>Africa</td><td>Burkina Faso</td><td>20903273</td></tr><tr><td>27834</td><td>Africa</td><td>Burundi</td><td>11890784</td></tr><tr><td>4033</td><td>Africa</td><td>Cabo Verde</td><td>555987</td></tr><tr><td>181035</td><td>Asia</td><td>Cambodia</td><td>16718965</td></tr><tr><td>475442</td><td>Africa</td><td>Cameroon</td><td>26545863</td></tr><tr><td>9984670</td><td>North America</td><td>Canada</td><td>37742154</td></tr><tr><td>622984</td><td>Africa</td><td>Central African Republic</td><td>4829767</td></tr><tr><td>1284000</td><td>Africa</td><td>Chad</td><td>16425864</td></tr><tr><td>756102</td><td>South America</td><td>Chile</td><td>19116201</td></tr><tr><td>9596961</td><td>Asia</td><td>China</td><td>1439323776</td></tr><tr><td>1141748</td><td>South America</td><td>Colombia</td><td>50882891</td></tr><tr><td>1862</td><td>Africa</td><td>Comoros</td><td>869601</td></tr><tr><td>2344858</td><td>Africa</td><td>Congo, Democratic Republic of the</td><td>89561403</td></tr><tr><td>342000</td><td>Africa</td><td>Congo, Republic of the</td><td>5518087</td></tr><tr><td>51100</td><td>North America</td><td>Costa Rica</td><td>5094118</td></tr><tr><td>56594</td><td>Europe</td><td>Croatia</td><td>4105267</td></tr><tr><td>109884</td><td>North America</td><td>Cuba</td><td>11326616</td></tr><tr><td>322463</td><td>Africa</td><td>Côte d'Ivoire</td><td>26378274</td></tr><tr><td>9251</td><td>Europe</td><td>Cyprus</td><td>1207359</td></tr><tr><td>78866</td><td>Europe</td><td>Czech Republic</td><td>10708981</td></tr><tr><td>42933</td><td>Europe</td><td>Denmark</td><td>5792202</td></tr><tr><td>23200</td><td>Africa</td><td>Djibouti</td><td>988000</td></tr><tr><td>26338</td><td>Africa</td><td>Rwanda</td><td>12952218</td></tr><tr><td>261</td><td>North America</td><td>Saint Kitts and Nevis</td><td>53192</td></tr><tr><td>616</td><td>North America</td><td>Saint Lucia</td><td>183627</td></tr><tr><td>389</td><td>North America</td><td>Saint Vincent and the Grenadines</td><td>110940</td></tr><tr><td>2842</td><td>Oceania</td><td>Samoa</td><td>198414</td></tr><tr><td>61</td><td>Europe</td><td>San Marino</td><td>33938</td></tr><tr><td>964</td><td>Africa</td><td>Sao Tome and Principe</td><td>219159</td></tr><tr><td>2149690</td><td>Asia</td><td>Saudi Arabia</td><td>34813871</td></tr><tr><td>196722</td><td>Africa</td><td>Senegal</td><td>16743927</td></tr><tr><td>88361</td><td>Europe</td><td>Serbia</td><td>6944975</td></tr><tr><td>455</td><td>Africa</td><td>Seychelles</td><td>98347</td></tr><tr><td>71740</td><td>Africa</td><td>Sierra Leone</td><td>7976983</td></tr><tr><td>719</td><td>Asia</td><td>Singapore</td><td>5850342</td></tr><tr><td>49037</td><td>Europe</td><td>Slovakia</td><td>5459642</td></tr><tr><td>20273</td><td>Europe</td><td>Slovenia</td><td>2078938</td></tr><tr><td>28896</td><td>Oceania</td><td>Solomon Islands</td><td>686884</td></tr><tr><td>637657</td><td>Africa</td><td>Somalia</td><td>15893222</td></tr><tr><td>1221037</td><td>Africa</td><td>South Africa</td><td>59308690</td></tr><tr><td>100210</td><td>Asia</td><td>South Korea</td><td>51269185</td></tr><tr><td>644329</td><td>Africa</td><td>South Sudan</td><td>11193725</td></tr><tr><td>505992</td><td>Europe</td><td>Spain</td><td>46754778</td></tr><tr><td>65610</td><td>Asia</td><td>Sri Lanka</td><td>21413249</td></tr><tr><td>1861484</td><td>Africa</td><td>Sudan</td><td>43849260</td></tr><tr><td>163820</td><td>South America</td><td>Suriname</td><td>586634</td></tr><tr><td>652230</td><td>Asia</td><td>Afghanistan</td><td>38928346</td></tr><tr><td>28748</td><td>Europe</td><td>Albania</td><td>2877797</td></tr><tr><td>2381741</td><td>Africa</td><td>Algeria</td><td>43851044</td></tr><tr><td>468</td><td>Europe</td><td>Andorra</td><td>77265</td></tr><tr><td>1246700</td><td>Africa</td><td>Angola</td><td>32866272</td></tr><tr><td>442</td><td>North America</td><td>Antigua and Barbuda</td><td>97929</td></tr><tr><td>2780400</td><td>South America</td><td>Argentina</td><td>45376763</td></tr><tr><td>29743</td><td>Asia</td><td>Armenia</td><td>2963243</td></tr><tr><td>7692024</td><td>Oceania</td><td>Australia</td><td>25649984</td></tr><tr><td>83879</td><td>Europe</td><td>Austria</td><td>9006398</td></tr><tr><td>86600</td><td>Asia</td><td>Azerbaijan</td><td>10139177</td></tr><tr><td>13943</td><td>North America</td><td>Bahamas</td><td>393244</td></tr><tr><td>765</td><td>Asia</td><td>Bahrain</td><td>1701575</td></tr><tr><td>147570</td><td>Asia</td><td>Bangladesh</td><td>164689383</td></tr><tr><td>430</td><td>North America</td><td>Barbados</td><td>287375</td></tr><tr><td>207600</td><td>Europe</td><td>Belarus</td><td>9449323</td></tr><tr><td>30528</td><td>Europe</td><td>Belgium</td><td>11589623</td></tr><tr><td>22966</td><td>North America</td><td>Belize</td><td>397621</td></tr><tr><td>114763</td><td>Africa</td><td>Benin</td><td>12123200</td></tr><tr><td>38394</td><td>Asia</td><td>Bhutan</td><td>771608</td></tr><tr><td>1098581</td><td>South America</td><td>Bolivia</td><td>11673021</td></tr><tr><td>51129</td><td>Europe</td><td>Bosnia and Herzegovina</td><td>3280819</td></tr><tr><td>581730</td><td>Africa</td><td>Botswana</td><td>2351627</td></tr><tr><td>8515767</td><td>South America</td><td>Brazil</td><td>212559417</td></tr><tr><td>751</td><td>North America</td><td>Dominica</td><td>71986</td></tr><tr><td>48671</td><td>North America</td><td>Dominican Republic</td><td>10847910</td></tr><tr><td>283561</td><td>South America</td><td>Ecuador</td><td>17643054</td></tr><tr><td>1002450</td><td>Africa</td><td>Egypt</td><td>102334404</td></tr><tr><td>21041</td><td>North America</td><td>El Salvador</td><td>6486205</td></tr><tr><td>28051</td><td>Africa</td><td>Equatorial Guinea</td><td>1402985</td></tr><tr><td>117600</td><td>Africa</td><td>Eritrea</td><td>3546421</td></tr><tr><td>45227</td><td>Europe</td><td>Estonia</td><td>1331796</td></tr><tr><td>17364</td><td>Africa</td><td>Eswatini</td><td>1160164</td></tr><tr><td>1104300</td><td>Africa</td><td>Ethiopia</td><td>114963588</td></tr><tr><td>18274</td><td>Oceania</td><td>Fiji</td><td>896444</td></tr><tr><td>338424</td><td>Europe</td><td>Finland</td><td>5540720</td></tr><tr><td>551695</td><td>Europe</td><td>France</td><td>65273511</td></tr><tr><td>267668</td><td>Africa</td><td>Gabon</td><td>2225728</td></tr><tr><td>11295</td><td>Africa</td><td>Gambia</td><td>2416668</td></tr><tr><td>69700</td><td>Asia</td><td>Georgia</td><td>3989167</td></tr><tr><td>357022</td><td>Europe</td><td>Germany</td><td>83783942</td></tr><tr><td>238533</td><td>Africa</td><td>Ghana</td><td>31072940</td></tr><tr><td>131957</td><td>Europe</td><td>Greece</td><td>10423054</td></tr><tr><td>344</td><td>North America</td><td>Grenada</td><td>112523</td></tr><tr><td>108889</td><td>North America</td><td>Guatemala</td><td>17915568</td></tr><tr><td>245857</td><td>Africa</td><td>Guinea</td><td>13132795</td></tr><tr><td>36125</td><td>Africa</td><td>Guinea-Bissau</td><td>1968001</td></tr><tr><td>214969</td><td>South America</td><td>Guyana</td><td>786552</td></tr><tr><td>21</td><td>Oceania</td><td>Nauru</td><td>10824</td></tr><tr><td>147181</td><td>Asia</td><td>Nepal</td><td>29136808</td></tr><tr><td>41543</td><td>Europe</td><td>Netherlands</td><td>17134872</td></tr><tr><td>268838</td><td>Oceania</td><td>New Zealand</td><td>5084300</td></tr><tr><td>130373</td><td>North America</td><td>Nicaragua</td><td>6624554</td></tr><tr><td>1267000</td><td>Africa</td><td>Niger</td><td>24206644</td></tr><tr><td>923768</td><td>Africa</td><td>Nigeria</td><td>206139589</td></tr><tr><td>120538</td><td>Asia</td><td>North Korea</td><td>25778816</td></tr><tr><td>25713</td><td>Europe</td><td>North Macedonia</td><td>2083374</td></tr><tr><td>385207</td><td>Europe</td><td>Norway</td><td>5421241</td></tr><tr><td>309500</td><td>Asia</td><td>Oman</td><td>5106626</td></tr><tr><td>881913</td><td>Asia</td><td>Pakistan</td><td>220892340</td></tr><tr><td>459</td><td>Oceania</td><td>Palau</td><td>18094</td></tr><tr><td>6020</td><td>Asia</td><td>Palestine, State of</td><td>5101414</td></tr><tr><td>75417</td><td>North America</td><td>Panama</td><td>4314767</td></tr><tr><td>462840</td><td>Oceania</td><td>Papua New Guinea</td><td>8947024</td></tr><tr><td>406752</td><td>South America</td><td>Paraguay</td><td>7132538</td></tr><tr><td>1285216</td><td>South America</td><td>Peru</td><td>32971854</td></tr><tr><td>300000</td><td>Asia</td><td>Philippines</td><td>109581078</td></tr><tr><td>312696</td><td>Europe</td><td>Poland</td><td>37846611</td></tr><tr><td>92090</td><td>Europe</td><td>Portugal</td><td>10196709</td></tr><tr><td>11586</td><td>Asia</td><td>Qatar</td><td>2881053</td></tr><tr><td>238391</td><td>Europe</td><td>Romania</td><td>19237691</td></tr><tr><td>17098242</td><td>Europe</td><td>Russia</td><td>144478050</td></tr><tr><td>111369</td><td>Africa</td><td>Liberia</td><td>5073296</td></tr><tr><td>1759540</td><td>Africa</td><td>Libya</td><td>6871292</td></tr><tr><td>160</td><td>Europe</td><td>Liechtenstein</td><td>38128</td></tr><tr><td>65300</td><td>Europe</td><td>Lithuania</td><td>2722289</td></tr><tr><td>2586</td><td>Europe</td><td>Luxembourg</td><td>634814</td></tr><tr><td>587041</td><td>Africa</td><td>Madagascar</td><td>27691018</td></tr><tr><td>118484</td><td>Africa</td><td>Malawi</td><td>19129952</td></tr><tr><td>330803</td><td>Asia</td><td>Malaysia</td><td>32365999</td></tr><tr><td>300</td><td>Asia</td><td>Maldives</td><td>540544</td></tr><tr><td>1240192</td><td>Africa</td><td>Mali</td><td>20250833</td></tr><tr><td>316</td><td>Europe</td><td>Malta</td><td>441543</td></tr><tr><td>181</td><td>Oceania</td><td>Marshall Islands</td><td>59190</td></tr><tr><td>1030700</td><td>Africa</td><td>Mauritania</td><td>4649658</td></tr><tr><td>2040</td><td>Africa</td><td>Mauritius</td><td>1271768</td></tr><tr><td>1964375</td><td>North America</td><td>Mexico</td><td>128932753</td></tr><tr><td>702</td><td>Oceania</td><td>Micronesia</td><td>115023</td></tr><tr><td>33851</td><td>Europe</td><td>Moldova</td><td>2640438</td></tr><tr><td>2</td><td>Europe</td><td>Monaco</td><td>39242</td></tr><tr><td>1564110</td><td>Asia</td><td>Mongolia</td><td>3278290</td></tr><tr><td>13812</td><td>Europe</td><td>Montenegro</td><td>622359</td></tr><tr><td>446550</td><td>Africa</td><td>Morocco</td><td>36910560</td></tr><tr><td>801590</td><td>Africa</td><td>Mozambique</td><td>31255435</td></tr><tr><td>676578</td><td>Asia</td><td>Myanmar</td><td>54409800</td></tr><tr><td>824292</td><td>Africa</td><td>Namibia</td><td>2540905</td></tr><tr><td>27750</td><td>North America</td><td>Haiti</td><td>11402528</td></tr><tr><td>0</td><td>Europe</td><td>Holy See</td><td>801</td></tr><tr><td>112492</td><td>North America</td><td>Honduras</td><td>9904607</td></tr><tr><td>93030</td><td>Europe</td><td>Hungary</td><td>9660351</td></tr><tr><td>103000</td><td>Europe</td><td>Iceland</td><td>341243</td></tr><tr><td>3287263</td><td>Asia</td><td>India</td><td>1380004385</td></tr><tr><td>1904569</td><td>Asia</td><td>Indonesia</td><td>273523615</td></tr><tr><td>1648195</td><td>Asia</td><td>Iran</td><td>83992949</td></tr><tr><td>438317</td><td>Asia</td><td>Iraq</td><td>40222493</td></tr><tr><td>70273</td><td>Europe</td><td>Ireland</td><td>4937786</td></tr><tr><td>20770</td><td>Asia</td><td>Israel</td><td>9053300</td></tr><tr><td>301340</td><td>Europe</td><td>Italy</td><td>60461826</td></tr><tr><td>10991</td><td>North America</td><td>Jamaica</td><td>2961167</td></tr><tr><td>377975</td><td>Asia</td><td>Japan</td><td>126476461</td></tr><tr><td>89342</td><td>Asia</td><td>Jordan</td><td>10203134</td></tr><tr><td>2724900</td><td>Asia</td><td>Kazakhstan</td><td>18776707</td></tr><tr><td>580367</td><td>Africa</td><td>Kenya</td><td>53771296</td></tr><tr><td>811</td><td>Oceania</td><td>Kiribati</td><td>119449</td></tr><tr><td>17818</td><td>Asia</td><td>Kuwait</td><td>4270571</td></tr><tr><td>199951</td><td>Asia</td><td>Kyrgyzstan</td><td>6524195</td></tr><tr><td>236800</td><td>Asia</td><td>Laos</td><td>7275560</td></tr><tr><td>64559</td><td>Europe</td><td>Latvia</td><td>1886198</td></tr><tr><td>10452</td><td>Asia</td><td>Lebanon</td><td>6825445</td></tr><tr><td>30355</td><td>Africa</td><td>Lesotho</td><td>2142249</td></tr></tbody></table></div>"
      ]
     },
     "metadata": {
      "application/vnd.databricks.v1+output": {
       "addedWidgets": {},
       "aggData": [],
       "aggError": "",
       "aggOverflow": false,
       "aggSchema": [],
       "aggSeriesLimitReached": false,
       "aggType": "",
       "arguments": {},
       "columnCustomDisplayInfos": {},
       "data": [
        [
         450295,
         "Europe",
         "Sweden",
         10099265
        ],
        [
         41285,
         "Europe",
         "Switzerland",
         8654622
        ],
        [
         185180,
         "Asia",
         "Syria",
         17500657
        ],
        [
         143100,
         "Asia",
         "Tajikistan",
         9537645
        ],
        [
         945087,
         "Africa",
         "Tanzania",
         59734218
        ],
        [
         513120,
         "Asia",
         "Thailand",
         69799978
        ],
        [
         14874,
         "Asia",
         "Timor-Leste",
         1318445
        ],
        [
         56785,
         "Africa",
         "Togo",
         8278724
        ],
        [
         747,
         "Oceania",
         "Tonga",
         105695
        ],
        [
         5130,
         "North America",
         "Trinidad and Tobago",
         1399488
        ],
        [
         163610,
         "Africa",
         "Tunisia",
         11818619
        ],
        [
         783562,
         "Asia",
         "Turkey",
         84339067
        ],
        [
         488100,
         "Asia",
         "Turkmenistan",
         6031200
        ],
        [
         26,
         "Oceania",
         "Tuvalu",
         11792
        ],
        [
         241550,
         "Africa",
         "Uganda",
         45741007
        ],
        [
         603628,
         "Europe",
         "Ukraine",
         43733762
        ],
        [
         83600,
         "Asia",
         "United Arab Emirates",
         9890400
        ],
        [
         243610,
         "Europe",
         "United Kingdom",
         67886011
        ],
        [
         9833520,
         "North America",
         "United States",
         331002651
        ],
        [
         176215,
         "South America",
         "Uruguay",
         3473730
        ],
        [
         447400,
         "Asia",
         "Uzbekistan",
         33469203
        ],
        [
         12189,
         "Oceania",
         "Vanuatu",
         307145
        ],
        [
         916445,
         "South America",
         "Venezuela",
         28435940
        ],
        [
         331212,
         "Asia",
         "Vietnam",
         97338579
        ],
        [
         527968,
         "Asia",
         "Yemen",
         29825964
        ],
        [
         752612,
         "Africa",
         "Zambia",
         18383955
        ],
        [
         390757,
         "Africa",
         "Zimbabwe",
         14862924
        ],
        [
         5765,
         "Asia",
         "Brunei",
         437479
        ],
        [
         110994,
         "Europe",
         "Bulgaria",
         6948445
        ],
        [
         274200,
         "Africa",
         "Burkina Faso",
         20903273
        ],
        [
         27834,
         "Africa",
         "Burundi",
         11890784
        ],
        [
         4033,
         "Africa",
         "Cabo Verde",
         555987
        ],
        [
         181035,
         "Asia",
         "Cambodia",
         16718965
        ],
        [
         475442,
         "Africa",
         "Cameroon",
         26545863
        ],
        [
         9984670,
         "North America",
         "Canada",
         37742154
        ],
        [
         622984,
         "Africa",
         "Central African Republic",
         4829767
        ],
        [
         1284000,
         "Africa",
         "Chad",
         16425864
        ],
        [
         756102,
         "South America",
         "Chile",
         19116201
        ],
        [
         9596961,
         "Asia",
         "China",
         1439323776
        ],
        [
         1141748,
         "South America",
         "Colombia",
         50882891
        ],
        [
         1862,
         "Africa",
         "Comoros",
         869601
        ],
        [
         2344858,
         "Africa",
         "Congo, Democratic Republic of the",
         89561403
        ],
        [
         342000,
         "Africa",
         "Congo, Republic of the",
         5518087
        ],
        [
         51100,
         "North America",
         "Costa Rica",
         5094118
        ],
        [
         56594,
         "Europe",
         "Croatia",
         4105267
        ],
        [
         109884,
         "North America",
         "Cuba",
         11326616
        ],
        [
         322463,
         "Africa",
         "Côte d'Ivoire",
         26378274
        ],
        [
         9251,
         "Europe",
         "Cyprus",
         1207359
        ],
        [
         78866,
         "Europe",
         "Czech Republic",
         10708981
        ],
        [
         42933,
         "Europe",
         "Denmark",
         5792202
        ],
        [
         23200,
         "Africa",
         "Djibouti",
         988000
        ],
        [
         26338,
         "Africa",
         "Rwanda",
         12952218
        ],
        [
         261,
         "North America",
         "Saint Kitts and Nevis",
         53192
        ],
        [
         616,
         "North America",
         "Saint Lucia",
         183627
        ],
        [
         389,
         "North America",
         "Saint Vincent and the Grenadines",
         110940
        ],
        [
         2842,
         "Oceania",
         "Samoa",
         198414
        ],
        [
         61,
         "Europe",
         "San Marino",
         33938
        ],
        [
         964,
         "Africa",
         "Sao Tome and Principe",
         219159
        ],
        [
         2149690,
         "Asia",
         "Saudi Arabia",
         34813871
        ],
        [
         196722,
         "Africa",
         "Senegal",
         16743927
        ],
        [
         88361,
         "Europe",
         "Serbia",
         6944975
        ],
        [
         455,
         "Africa",
         "Seychelles",
         98347
        ],
        [
         71740,
         "Africa",
         "Sierra Leone",
         7976983
        ],
        [
         719,
         "Asia",
         "Singapore",
         5850342
        ],
        [
         49037,
         "Europe",
         "Slovakia",
         5459642
        ],
        [
         20273,
         "Europe",
         "Slovenia",
         2078938
        ],
        [
         28896,
         "Oceania",
         "Solomon Islands",
         686884
        ],
        [
         637657,
         "Africa",
         "Somalia",
         15893222
        ],
        [
         1221037,
         "Africa",
         "South Africa",
         59308690
        ],
        [
         100210,
         "Asia",
         "South Korea",
         51269185
        ],
        [
         644329,
         "Africa",
         "South Sudan",
         11193725
        ],
        [
         505992,
         "Europe",
         "Spain",
         46754778
        ],
        [
         65610,
         "Asia",
         "Sri Lanka",
         21413249
        ],
        [
         1861484,
         "Africa",
         "Sudan",
         43849260
        ],
        [
         163820,
         "South America",
         "Suriname",
         586634
        ],
        [
         652230,
         "Asia",
         "Afghanistan",
         38928346
        ],
        [
         28748,
         "Europe",
         "Albania",
         2877797
        ],
        [
         2381741,
         "Africa",
         "Algeria",
         43851044
        ],
        [
         468,
         "Europe",
         "Andorra",
         77265
        ],
        [
         1246700,
         "Africa",
         "Angola",
         32866272
        ],
        [
         442,
         "North America",
         "Antigua and Barbuda",
         97929
        ],
        [
         2780400,
         "South America",
         "Argentina",
         45376763
        ],
        [
         29743,
         "Asia",
         "Armenia",
         2963243
        ],
        [
         7692024,
         "Oceania",
         "Australia",
         25649984
        ],
        [
         83879,
         "Europe",
         "Austria",
         9006398
        ],
        [
         86600,
         "Asia",
         "Azerbaijan",
         10139177
        ],
        [
         13943,
         "North America",
         "Bahamas",
         393244
        ],
        [
         765,
         "Asia",
         "Bahrain",
         1701575
        ],
        [
         147570,
         "Asia",
         "Bangladesh",
         164689383
        ],
        [
         430,
         "North America",
         "Barbados",
         287375
        ],
        [
         207600,
         "Europe",
         "Belarus",
         9449323
        ],
        [
         30528,
         "Europe",
         "Belgium",
         11589623
        ],
        [
         22966,
         "North America",
         "Belize",
         397621
        ],
        [
         114763,
         "Africa",
         "Benin",
         12123200
        ],
        [
         38394,
         "Asia",
         "Bhutan",
         771608
        ],
        [
         1098581,
         "South America",
         "Bolivia",
         11673021
        ],
        [
         51129,
         "Europe",
         "Bosnia and Herzegovina",
         3280819
        ],
        [
         581730,
         "Africa",
         "Botswana",
         2351627
        ],
        [
         8515767,
         "South America",
         "Brazil",
         212559417
        ],
        [
         751,
         "North America",
         "Dominica",
         71986
        ],
        [
         48671,
         "North America",
         "Dominican Republic",
         10847910
        ],
        [
         283561,
         "South America",
         "Ecuador",
         17643054
        ],
        [
         1002450,
         "Africa",
         "Egypt",
         102334404
        ],
        [
         21041,
         "North America",
         "El Salvador",
         6486205
        ],
        [
         28051,
         "Africa",
         "Equatorial Guinea",
         1402985
        ],
        [
         117600,
         "Africa",
         "Eritrea",
         3546421
        ],
        [
         45227,
         "Europe",
         "Estonia",
         1331796
        ],
        [
         17364,
         "Africa",
         "Eswatini",
         1160164
        ],
        [
         1104300,
         "Africa",
         "Ethiopia",
         114963588
        ],
        [
         18274,
         "Oceania",
         "Fiji",
         896444
        ],
        [
         338424,
         "Europe",
         "Finland",
         5540720
        ],
        [
         551695,
         "Europe",
         "France",
         65273511
        ],
        [
         267668,
         "Africa",
         "Gabon",
         2225728
        ],
        [
         11295,
         "Africa",
         "Gambia",
         2416668
        ],
        [
         69700,
         "Asia",
         "Georgia",
         3989167
        ],
        [
         357022,
         "Europe",
         "Germany",
         83783942
        ],
        [
         238533,
         "Africa",
         "Ghana",
         31072940
        ],
        [
         131957,
         "Europe",
         "Greece",
         10423054
        ],
        [
         344,
         "North America",
         "Grenada",
         112523
        ],
        [
         108889,
         "North America",
         "Guatemala",
         17915568
        ],
        [
         245857,
         "Africa",
         "Guinea",
         13132795
        ],
        [
         36125,
         "Africa",
         "Guinea-Bissau",
         1968001
        ],
        [
         214969,
         "South America",
         "Guyana",
         786552
        ],
        [
         21,
         "Oceania",
         "Nauru",
         10824
        ],
        [
         147181,
         "Asia",
         "Nepal",
         29136808
        ],
        [
         41543,
         "Europe",
         "Netherlands",
         17134872
        ],
        [
         268838,
         "Oceania",
         "New Zealand",
         5084300
        ],
        [
         130373,
         "North America",
         "Nicaragua",
         6624554
        ],
        [
         1267000,
         "Africa",
         "Niger",
         24206644
        ],
        [
         923768,
         "Africa",
         "Nigeria",
         206139589
        ],
        [
         120538,
         "Asia",
         "North Korea",
         25778816
        ],
        [
         25713,
         "Europe",
         "North Macedonia",
         2083374
        ],
        [
         385207,
         "Europe",
         "Norway",
         5421241
        ],
        [
         309500,
         "Asia",
         "Oman",
         5106626
        ],
        [
         881913,
         "Asia",
         "Pakistan",
         220892340
        ],
        [
         459,
         "Oceania",
         "Palau",
         18094
        ],
        [
         6020,
         "Asia",
         "Palestine, State of",
         5101414
        ],
        [
         75417,
         "North America",
         "Panama",
         4314767
        ],
        [
         462840,
         "Oceania",
         "Papua New Guinea",
         8947024
        ],
        [
         406752,
         "South America",
         "Paraguay",
         7132538
        ],
        [
         1285216,
         "South America",
         "Peru",
         32971854
        ],
        [
         300000,
         "Asia",
         "Philippines",
         109581078
        ],
        [
         312696,
         "Europe",
         "Poland",
         37846611
        ],
        [
         92090,
         "Europe",
         "Portugal",
         10196709
        ],
        [
         11586,
         "Asia",
         "Qatar",
         2881053
        ],
        [
         238391,
         "Europe",
         "Romania",
         19237691
        ],
        [
         17098242,
         "Europe",
         "Russia",
         144478050
        ],
        [
         111369,
         "Africa",
         "Liberia",
         5073296
        ],
        [
         1759540,
         "Africa",
         "Libya",
         6871292
        ],
        [
         160,
         "Europe",
         "Liechtenstein",
         38128
        ],
        [
         65300,
         "Europe",
         "Lithuania",
         2722289
        ],
        [
         2586,
         "Europe",
         "Luxembourg",
         634814
        ],
        [
         587041,
         "Africa",
         "Madagascar",
         27691018
        ],
        [
         118484,
         "Africa",
         "Malawi",
         19129952
        ],
        [
         330803,
         "Asia",
         "Malaysia",
         32365999
        ],
        [
         300,
         "Asia",
         "Maldives",
         540544
        ],
        [
         1240192,
         "Africa",
         "Mali",
         20250833
        ],
        [
         316,
         "Europe",
         "Malta",
         441543
        ],
        [
         181,
         "Oceania",
         "Marshall Islands",
         59190
        ],
        [
         1030700,
         "Africa",
         "Mauritania",
         4649658
        ],
        [
         2040,
         "Africa",
         "Mauritius",
         1271768
        ],
        [
         1964375,
         "North America",
         "Mexico",
         128932753
        ],
        [
         702,
         "Oceania",
         "Micronesia",
         115023
        ],
        [
         33851,
         "Europe",
         "Moldova",
         2640438
        ],
        [
         2,
         "Europe",
         "Monaco",
         39242
        ],
        [
         1564110,
         "Asia",
         "Mongolia",
         3278290
        ],
        [
         13812,
         "Europe",
         "Montenegro",
         622359
        ],
        [
         446550,
         "Africa",
         "Morocco",
         36910560
        ],
        [
         801590,
         "Africa",
         "Mozambique",
         31255435
        ],
        [
         676578,
         "Asia",
         "Myanmar",
         54409800
        ],
        [
         824292,
         "Africa",
         "Namibia",
         2540905
        ],
        [
         27750,
         "North America",
         "Haiti",
         11402528
        ],
        [
         0,
         "Europe",
         "Holy See",
         801
        ],
        [
         112492,
         "North America",
         "Honduras",
         9904607
        ],
        [
         93030,
         "Europe",
         "Hungary",
         9660351
        ],
        [
         103000,
         "Europe",
         "Iceland",
         341243
        ],
        [
         3287263,
         "Asia",
         "India",
         1380004385
        ],
        [
         1904569,
         "Asia",
         "Indonesia",
         273523615
        ],
        [
         1648195,
         "Asia",
         "Iran",
         83992949
        ],
        [
         438317,
         "Asia",
         "Iraq",
         40222493
        ],
        [
         70273,
         "Europe",
         "Ireland",
         4937786
        ],
        [
         20770,
         "Asia",
         "Israel",
         9053300
        ],
        [
         301340,
         "Europe",
         "Italy",
         60461826
        ],
        [
         10991,
         "North America",
         "Jamaica",
         2961167
        ],
        [
         377975,
         "Asia",
         "Japan",
         126476461
        ],
        [
         89342,
         "Asia",
         "Jordan",
         10203134
        ],
        [
         2724900,
         "Asia",
         "Kazakhstan",
         18776707
        ],
        [
         580367,
         "Africa",
         "Kenya",
         53771296
        ],
        [
         811,
         "Oceania",
         "Kiribati",
         119449
        ],
        [
         17818,
         "Asia",
         "Kuwait",
         4270571
        ],
        [
         199951,
         "Asia",
         "Kyrgyzstan",
         6524195
        ],
        [
         236800,
         "Asia",
         "Laos",
         7275560
        ],
        [
         64559,
         "Europe",
         "Latvia",
         1886198
        ],
        [
         10452,
         "Asia",
         "Lebanon",
         6825445
        ],
        [
         30355,
         "Africa",
         "Lesotho",
         2142249
        ]
       ],
       "datasetInfos": [],
       "dbfsResultPath": null,
       "isJsonSchema": true,
       "metadata": {},
       "overflow": false,
       "plotOptions": {
        "customPlotOptions": {},
        "displayType": "table",
        "pivotAggregation": null,
        "pivotColumns": null,
        "xColumns": null,
        "yColumns": null
       },
       "removedWidgets": [],
       "schema": [
        {
         "metadata": "{}",
         "name": "area_km2",
         "type": "\"long\""
        },
        {
         "metadata": "{}",
         "name": "continent",
         "type": "\"string\""
        },
        {
         "metadata": "{}",
         "name": "country_name",
         "type": "\"string\""
        },
        {
         "metadata": "{}",
         "name": "population",
         "type": "\"long\""
        }
       ],
       "type": "table"
      }
     },
     "output_type": "display_data"
    },
    {
     "output_type": "display_data",
     "data": {
      "text/html": [
       "<style scoped>\n",
       "  .table-result-container {\n",
       "    max-height: 300px;\n",
       "    overflow: auto;\n",
       "  }\n",
       "  table, th, td {\n",
       "    border: 1px solid black;\n",
       "    border-collapse: collapse;\n",
       "  }\n",
       "  th, td {\n",
       "    padding: 5px;\n",
       "  }\n",
       "  th {\n",
       "    text-align: left;\n",
       "  }\n",
       "</style><div class='table-result-container'><table class='table-result'><thead style='background-color: white'><tr><th>area_km2</th><th>continent</th><th>country_name</th><th>population</th></tr></thead><tbody><tr><td>450295</td><td>Europe</td><td>Sweden</td><td>10099265</td></tr><tr><td>41285</td><td>Europe</td><td>Switzerland</td><td>8654622</td></tr><tr><td>185180</td><td>Asia</td><td>Syria</td><td>17500657</td></tr><tr><td>143100</td><td>Asia</td><td>Tajikistan</td><td>9537645</td></tr><tr><td>945087</td><td>Africa</td><td>Tanzania</td><td>59734218</td></tr><tr><td>513120</td><td>Asia</td><td>Thailand</td><td>69799978</td></tr><tr><td>14874</td><td>Asia</td><td>Timor-Leste</td><td>1318445</td></tr><tr><td>56785</td><td>Africa</td><td>Togo</td><td>8278724</td></tr><tr><td>747</td><td>Oceania</td><td>Tonga</td><td>105695</td></tr><tr><td>5130</td><td>North America</td><td>Trinidad and Tobago</td><td>1399488</td></tr><tr><td>163610</td><td>Africa</td><td>Tunisia</td><td>11818619</td></tr><tr><td>783562</td><td>Asia</td><td>Turkey</td><td>84339067</td></tr><tr><td>488100</td><td>Asia</td><td>Turkmenistan</td><td>6031200</td></tr><tr><td>26</td><td>Oceania</td><td>Tuvalu</td><td>11792</td></tr><tr><td>241550</td><td>Africa</td><td>Uganda</td><td>45741007</td></tr><tr><td>603628</td><td>Europe</td><td>Ukraine</td><td>43733762</td></tr><tr><td>83600</td><td>Asia</td><td>United Arab Emirates</td><td>9890400</td></tr><tr><td>243610</td><td>Europe</td><td>United Kingdom</td><td>67886011</td></tr><tr><td>9833520</td><td>North America</td><td>United States</td><td>331002651</td></tr><tr><td>176215</td><td>South America</td><td>Uruguay</td><td>3473730</td></tr><tr><td>447400</td><td>Asia</td><td>Uzbekistan</td><td>33469203</td></tr><tr><td>12189</td><td>Oceania</td><td>Vanuatu</td><td>307145</td></tr><tr><td>916445</td><td>South America</td><td>Venezuela</td><td>28435940</td></tr><tr><td>331212</td><td>Asia</td><td>Vietnam</td><td>97338579</td></tr><tr><td>527968</td><td>Asia</td><td>Yemen</td><td>29825964</td></tr><tr><td>752612</td><td>Africa</td><td>Zambia</td><td>18383955</td></tr><tr><td>390757</td><td>Africa</td><td>Zimbabwe</td><td>14862924</td></tr><tr><td>5765</td><td>Asia</td><td>Brunei</td><td>437479</td></tr><tr><td>110994</td><td>Europe</td><td>Bulgaria</td><td>6948445</td></tr><tr><td>274200</td><td>Africa</td><td>Burkina Faso</td><td>20903273</td></tr><tr><td>27834</td><td>Africa</td><td>Burundi</td><td>11890784</td></tr><tr><td>4033</td><td>Africa</td><td>Cabo Verde</td><td>555987</td></tr><tr><td>181035</td><td>Asia</td><td>Cambodia</td><td>16718965</td></tr><tr><td>475442</td><td>Africa</td><td>Cameroon</td><td>26545863</td></tr><tr><td>9984670</td><td>North America</td><td>Canada</td><td>37742154</td></tr><tr><td>622984</td><td>Africa</td><td>Central African Republic</td><td>4829767</td></tr><tr><td>1284000</td><td>Africa</td><td>Chad</td><td>16425864</td></tr><tr><td>756102</td><td>South America</td><td>Chile</td><td>19116201</td></tr><tr><td>9596961</td><td>Asia</td><td>China</td><td>1439323776</td></tr><tr><td>1141748</td><td>South America</td><td>Colombia</td><td>50882891</td></tr><tr><td>1862</td><td>Africa</td><td>Comoros</td><td>869601</td></tr><tr><td>2344858</td><td>Africa</td><td>Congo, Democratic Republic of the</td><td>89561403</td></tr><tr><td>342000</td><td>Africa</td><td>Congo, Republic of the</td><td>5518087</td></tr><tr><td>51100</td><td>North America</td><td>Costa Rica</td><td>5094118</td></tr><tr><td>56594</td><td>Europe</td><td>Croatia</td><td>4105267</td></tr><tr><td>109884</td><td>North America</td><td>Cuba</td><td>11326616</td></tr><tr><td>322463</td><td>Africa</td><td>Côte d'Ivoire</td><td>26378274</td></tr><tr><td>9251</td><td>Europe</td><td>Cyprus</td><td>1207359</td></tr><tr><td>78866</td><td>Europe</td><td>Czech Republic</td><td>10708981</td></tr><tr><td>42933</td><td>Europe</td><td>Denmark</td><td>5792202</td></tr><tr><td>23200</td><td>Africa</td><td>Djibouti</td><td>988000</td></tr><tr><td>26338</td><td>Africa</td><td>Rwanda</td><td>12952218</td></tr><tr><td>261</td><td>North America</td><td>Saint Kitts and Nevis</td><td>53192</td></tr><tr><td>616</td><td>North America</td><td>Saint Lucia</td><td>183627</td></tr><tr><td>389</td><td>North America</td><td>Saint Vincent and the Grenadines</td><td>110940</td></tr><tr><td>2842</td><td>Oceania</td><td>Samoa</td><td>198414</td></tr><tr><td>61</td><td>Europe</td><td>San Marino</td><td>33938</td></tr><tr><td>964</td><td>Africa</td><td>Sao Tome and Principe</td><td>219159</td></tr><tr><td>2149690</td><td>Asia</td><td>Saudi Arabia</td><td>34813871</td></tr><tr><td>196722</td><td>Africa</td><td>Senegal</td><td>16743927</td></tr><tr><td>88361</td><td>Europe</td><td>Serbia</td><td>6944975</td></tr><tr><td>455</td><td>Africa</td><td>Seychelles</td><td>98347</td></tr><tr><td>71740</td><td>Africa</td><td>Sierra Leone</td><td>7976983</td></tr><tr><td>719</td><td>Asia</td><td>Singapore</td><td>5850342</td></tr><tr><td>49037</td><td>Europe</td><td>Slovakia</td><td>5459642</td></tr><tr><td>20273</td><td>Europe</td><td>Slovenia</td><td>2078938</td></tr><tr><td>28896</td><td>Oceania</td><td>Solomon Islands</td><td>686884</td></tr><tr><td>637657</td><td>Africa</td><td>Somalia</td><td>15893222</td></tr><tr><td>1221037</td><td>Africa</td><td>South Africa</td><td>59308690</td></tr><tr><td>100210</td><td>Asia</td><td>South Korea</td><td>51269185</td></tr><tr><td>644329</td><td>Africa</td><td>South Sudan</td><td>11193725</td></tr><tr><td>505992</td><td>Europe</td><td>Spain</td><td>46754778</td></tr><tr><td>65610</td><td>Asia</td><td>Sri Lanka</td><td>21413249</td></tr><tr><td>1861484</td><td>Africa</td><td>Sudan</td><td>43849260</td></tr><tr><td>163820</td><td>South America</td><td>Suriname</td><td>586634</td></tr><tr><td>652230</td><td>Asia</td><td>Afghanistan</td><td>38928346</td></tr><tr><td>28748</td><td>Europe</td><td>Albania</td><td>2877797</td></tr><tr><td>2381741</td><td>Africa</td><td>Algeria</td><td>43851044</td></tr><tr><td>468</td><td>Europe</td><td>Andorra</td><td>77265</td></tr><tr><td>1246700</td><td>Africa</td><td>Angola</td><td>32866272</td></tr><tr><td>442</td><td>North America</td><td>Antigua and Barbuda</td><td>97929</td></tr><tr><td>2780400</td><td>South America</td><td>Argentina</td><td>45376763</td></tr><tr><td>29743</td><td>Asia</td><td>Armenia</td><td>2963243</td></tr><tr><td>7692024</td><td>Oceania</td><td>Australia</td><td>25649984</td></tr><tr><td>83879</td><td>Europe</td><td>Austria</td><td>9006398</td></tr><tr><td>86600</td><td>Asia</td><td>Azerbaijan</td><td>10139177</td></tr><tr><td>13943</td><td>North America</td><td>Bahamas</td><td>393244</td></tr><tr><td>765</td><td>Asia</td><td>Bahrain</td><td>1701575</td></tr><tr><td>147570</td><td>Asia</td><td>Bangladesh</td><td>164689383</td></tr><tr><td>430</td><td>North America</td><td>Barbados</td><td>287375</td></tr><tr><td>207600</td><td>Europe</td><td>Belarus</td><td>9449323</td></tr><tr><td>30528</td><td>Europe</td><td>Belgium</td><td>11589623</td></tr><tr><td>22966</td><td>North America</td><td>Belize</td><td>397621</td></tr><tr><td>114763</td><td>Africa</td><td>Benin</td><td>12123200</td></tr><tr><td>38394</td><td>Asia</td><td>Bhutan</td><td>771608</td></tr><tr><td>1098581</td><td>South America</td><td>Bolivia</td><td>11673021</td></tr><tr><td>51129</td><td>Europe</td><td>Bosnia and Herzegovina</td><td>3280819</td></tr><tr><td>581730</td><td>Africa</td><td>Botswana</td><td>2351627</td></tr><tr><td>8515767</td><td>South America</td><td>Brazil</td><td>212559417</td></tr><tr><td>751</td><td>North America</td><td>Dominica</td><td>71986</td></tr><tr><td>48671</td><td>North America</td><td>Dominican Republic</td><td>10847910</td></tr><tr><td>283561</td><td>South America</td><td>Ecuador</td><td>17643054</td></tr><tr><td>1002450</td><td>Africa</td><td>Egypt</td><td>102334404</td></tr><tr><td>21041</td><td>North America</td><td>El Salvador</td><td>6486205</td></tr><tr><td>28051</td><td>Africa</td><td>Equatorial Guinea</td><td>1402985</td></tr><tr><td>117600</td><td>Africa</td><td>Eritrea</td><td>3546421</td></tr><tr><td>45227</td><td>Europe</td><td>Estonia</td><td>1331796</td></tr><tr><td>17364</td><td>Africa</td><td>Eswatini</td><td>1160164</td></tr><tr><td>1104300</td><td>Africa</td><td>Ethiopia</td><td>114963588</td></tr><tr><td>18274</td><td>Oceania</td><td>Fiji</td><td>896444</td></tr><tr><td>338424</td><td>Europe</td><td>Finland</td><td>5540720</td></tr><tr><td>551695</td><td>Europe</td><td>France</td><td>65273511</td></tr><tr><td>267668</td><td>Africa</td><td>Gabon</td><td>2225728</td></tr><tr><td>11295</td><td>Africa</td><td>Gambia</td><td>2416668</td></tr><tr><td>69700</td><td>Asia</td><td>Georgia</td><td>3989167</td></tr><tr><td>357022</td><td>Europe</td><td>Germany</td><td>83783942</td></tr><tr><td>238533</td><td>Africa</td><td>Ghana</td><td>31072940</td></tr><tr><td>131957</td><td>Europe</td><td>Greece</td><td>10423054</td></tr><tr><td>344</td><td>North America</td><td>Grenada</td><td>112523</td></tr><tr><td>108889</td><td>North America</td><td>Guatemala</td><td>17915568</td></tr><tr><td>245857</td><td>Africa</td><td>Guinea</td><td>13132795</td></tr><tr><td>36125</td><td>Africa</td><td>Guinea-Bissau</td><td>1968001</td></tr><tr><td>214969</td><td>South America</td><td>Guyana</td><td>786552</td></tr><tr><td>21</td><td>Oceania</td><td>Nauru</td><td>10824</td></tr><tr><td>147181</td><td>Asia</td><td>Nepal</td><td>29136808</td></tr><tr><td>41543</td><td>Europe</td><td>Netherlands</td><td>17134872</td></tr><tr><td>268838</td><td>Oceania</td><td>New Zealand</td><td>5084300</td></tr><tr><td>130373</td><td>North America</td><td>Nicaragua</td><td>6624554</td></tr><tr><td>1267000</td><td>Africa</td><td>Niger</td><td>24206644</td></tr><tr><td>923768</td><td>Africa</td><td>Nigeria</td><td>206139589</td></tr><tr><td>120538</td><td>Asia</td><td>North Korea</td><td>25778816</td></tr><tr><td>25713</td><td>Europe</td><td>North Macedonia</td><td>2083374</td></tr><tr><td>385207</td><td>Europe</td><td>Norway</td><td>5421241</td></tr><tr><td>309500</td><td>Asia</td><td>Oman</td><td>5106626</td></tr><tr><td>881913</td><td>Asia</td><td>Pakistan</td><td>220892340</td></tr><tr><td>459</td><td>Oceania</td><td>Palau</td><td>18094</td></tr><tr><td>6020</td><td>Asia</td><td>Palestine, State of</td><td>5101414</td></tr><tr><td>75417</td><td>North America</td><td>Panama</td><td>4314767</td></tr><tr><td>462840</td><td>Oceania</td><td>Papua New Guinea</td><td>8947024</td></tr><tr><td>406752</td><td>South America</td><td>Paraguay</td><td>7132538</td></tr><tr><td>1285216</td><td>South America</td><td>Peru</td><td>32971854</td></tr><tr><td>300000</td><td>Asia</td><td>Philippines</td><td>109581078</td></tr><tr><td>312696</td><td>Europe</td><td>Poland</td><td>37846611</td></tr><tr><td>92090</td><td>Europe</td><td>Portugal</td><td>10196709</td></tr><tr><td>11586</td><td>Asia</td><td>Qatar</td><td>2881053</td></tr><tr><td>238391</td><td>Europe</td><td>Romania</td><td>19237691</td></tr><tr><td>17098242</td><td>Europe</td><td>Russia</td><td>144478050</td></tr><tr><td>111369</td><td>Africa</td><td>Liberia</td><td>5073296</td></tr><tr><td>1759540</td><td>Africa</td><td>Libya</td><td>6871292</td></tr><tr><td>160</td><td>Europe</td><td>Liechtenstein</td><td>38128</td></tr><tr><td>65300</td><td>Europe</td><td>Lithuania</td><td>2722289</td></tr><tr><td>2586</td><td>Europe</td><td>Luxembourg</td><td>634814</td></tr><tr><td>587041</td><td>Africa</td><td>Madagascar</td><td>27691018</td></tr><tr><td>118484</td><td>Africa</td><td>Malawi</td><td>19129952</td></tr><tr><td>330803</td><td>Asia</td><td>Malaysia</td><td>32365999</td></tr><tr><td>300</td><td>Asia</td><td>Maldives</td><td>540544</td></tr><tr><td>1240192</td><td>Africa</td><td>Mali</td><td>20250833</td></tr><tr><td>316</td><td>Europe</td><td>Malta</td><td>441543</td></tr><tr><td>181</td><td>Oceania</td><td>Marshall Islands</td><td>59190</td></tr><tr><td>1030700</td><td>Africa</td><td>Mauritania</td><td>4649658</td></tr><tr><td>2040</td><td>Africa</td><td>Mauritius</td><td>1271768</td></tr><tr><td>1964375</td><td>North America</td><td>Mexico</td><td>128932753</td></tr><tr><td>702</td><td>Oceania</td><td>Micronesia</td><td>115023</td></tr><tr><td>33851</td><td>Europe</td><td>Moldova</td><td>2640438</td></tr><tr><td>2</td><td>Europe</td><td>Monaco</td><td>39242</td></tr><tr><td>1564110</td><td>Asia</td><td>Mongolia</td><td>3278290</td></tr><tr><td>13812</td><td>Europe</td><td>Montenegro</td><td>622359</td></tr><tr><td>446550</td><td>Africa</td><td>Morocco</td><td>36910560</td></tr><tr><td>801590</td><td>Africa</td><td>Mozambique</td><td>31255435</td></tr><tr><td>676578</td><td>Asia</td><td>Myanmar</td><td>54409800</td></tr><tr><td>824292</td><td>Africa</td><td>Namibia</td><td>2540905</td></tr><tr><td>27750</td><td>North America</td><td>Haiti</td><td>11402528</td></tr><tr><td>0</td><td>Europe</td><td>Holy See</td><td>801</td></tr><tr><td>112492</td><td>North America</td><td>Honduras</td><td>9904607</td></tr><tr><td>93030</td><td>Europe</td><td>Hungary</td><td>9660351</td></tr><tr><td>103000</td><td>Europe</td><td>Iceland</td><td>341243</td></tr><tr><td>3287263</td><td>Asia</td><td>India</td><td>1380004385</td></tr><tr><td>1904569</td><td>Asia</td><td>Indonesia</td><td>273523615</td></tr><tr><td>1648195</td><td>Asia</td><td>Iran</td><td>83992949</td></tr><tr><td>438317</td><td>Asia</td><td>Iraq</td><td>40222493</td></tr><tr><td>70273</td><td>Europe</td><td>Ireland</td><td>4937786</td></tr><tr><td>20770</td><td>Asia</td><td>Israel</td><td>9053300</td></tr><tr><td>301340</td><td>Europe</td><td>Italy</td><td>60461826</td></tr><tr><td>10991</td><td>North America</td><td>Jamaica</td><td>2961167</td></tr><tr><td>377975</td><td>Asia</td><td>Japan</td><td>126476461</td></tr><tr><td>89342</td><td>Asia</td><td>Jordan</td><td>10203134</td></tr><tr><td>2724900</td><td>Asia</td><td>Kazakhstan</td><td>18776707</td></tr><tr><td>580367</td><td>Africa</td><td>Kenya</td><td>53771296</td></tr><tr><td>811</td><td>Oceania</td><td>Kiribati</td><td>119449</td></tr><tr><td>17818</td><td>Asia</td><td>Kuwait</td><td>4270571</td></tr><tr><td>199951</td><td>Asia</td><td>Kyrgyzstan</td><td>6524195</td></tr><tr><td>236800</td><td>Asia</td><td>Laos</td><td>7275560</td></tr><tr><td>64559</td><td>Europe</td><td>Latvia</td><td>1886198</td></tr><tr><td>10452</td><td>Asia</td><td>Lebanon</td><td>6825445</td></tr><tr><td>30355</td><td>Africa</td><td>Lesotho</td><td>2142249</td></tr></tbody></table></div>"
      ]
     },
     "metadata": {
      "application/vnd.databricks.v1+output": {
       "addedWidgets": {},
       "aggData": [],
       "aggError": "",
       "aggOverflow": false,
       "aggSchema": [],
       "aggSeriesLimitReached": false,
       "aggType": "",
       "arguments": {},
       "columnCustomDisplayInfos": {},
       "data": [
        [
         450295,
         "Europe",
         "Sweden",
         10099265
        ],
        [
         41285,
         "Europe",
         "Switzerland",
         8654622
        ],
        [
         185180,
         "Asia",
         "Syria",
         17500657
        ],
        [
         143100,
         "Asia",
         "Tajikistan",
         9537645
        ],
        [
         945087,
         "Africa",
         "Tanzania",
         59734218
        ],
        [
         513120,
         "Asia",
         "Thailand",
         69799978
        ],
        [
         14874,
         "Asia",
         "Timor-Leste",
         1318445
        ],
        [
         56785,
         "Africa",
         "Togo",
         8278724
        ],
        [
         747,
         "Oceania",
         "Tonga",
         105695
        ],
        [
         5130,
         "North America",
         "Trinidad and Tobago",
         1399488
        ],
        [
         163610,
         "Africa",
         "Tunisia",
         11818619
        ],
        [
         783562,
         "Asia",
         "Turkey",
         84339067
        ],
        [
         488100,
         "Asia",
         "Turkmenistan",
         6031200
        ],
        [
         26,
         "Oceania",
         "Tuvalu",
         11792
        ],
        [
         241550,
         "Africa",
         "Uganda",
         45741007
        ],
        [
         603628,
         "Europe",
         "Ukraine",
         43733762
        ],
        [
         83600,
         "Asia",
         "United Arab Emirates",
         9890400
        ],
        [
         243610,
         "Europe",
         "United Kingdom",
         67886011
        ],
        [
         9833520,
         "North America",
         "United States",
         331002651
        ],
        [
         176215,
         "South America",
         "Uruguay",
         3473730
        ],
        [
         447400,
         "Asia",
         "Uzbekistan",
         33469203
        ],
        [
         12189,
         "Oceania",
         "Vanuatu",
         307145
        ],
        [
         916445,
         "South America",
         "Venezuela",
         28435940
        ],
        [
         331212,
         "Asia",
         "Vietnam",
         97338579
        ],
        [
         527968,
         "Asia",
         "Yemen",
         29825964
        ],
        [
         752612,
         "Africa",
         "Zambia",
         18383955
        ],
        [
         390757,
         "Africa",
         "Zimbabwe",
         14862924
        ],
        [
         5765,
         "Asia",
         "Brunei",
         437479
        ],
        [
         110994,
         "Europe",
         "Bulgaria",
         6948445
        ],
        [
         274200,
         "Africa",
         "Burkina Faso",
         20903273
        ],
        [
         27834,
         "Africa",
         "Burundi",
         11890784
        ],
        [
         4033,
         "Africa",
         "Cabo Verde",
         555987
        ],
        [
         181035,
         "Asia",
         "Cambodia",
         16718965
        ],
        [
         475442,
         "Africa",
         "Cameroon",
         26545863
        ],
        [
         9984670,
         "North America",
         "Canada",
         37742154
        ],
        [
         622984,
         "Africa",
         "Central African Republic",
         4829767
        ],
        [
         1284000,
         "Africa",
         "Chad",
         16425864
        ],
        [
         756102,
         "South America",
         "Chile",
         19116201
        ],
        [
         9596961,
         "Asia",
         "China",
         1439323776
        ],
        [
         1141748,
         "South America",
         "Colombia",
         50882891
        ],
        [
         1862,
         "Africa",
         "Comoros",
         869601
        ],
        [
         2344858,
         "Africa",
         "Congo, Democratic Republic of the",
         89561403
        ],
        [
         342000,
         "Africa",
         "Congo, Republic of the",
         5518087
        ],
        [
         51100,
         "North America",
         "Costa Rica",
         5094118
        ],
        [
         56594,
         "Europe",
         "Croatia",
         4105267
        ],
        [
         109884,
         "North America",
         "Cuba",
         11326616
        ],
        [
         322463,
         "Africa",
         "Côte d'Ivoire",
         26378274
        ],
        [
         9251,
         "Europe",
         "Cyprus",
         1207359
        ],
        [
         78866,
         "Europe",
         "Czech Republic",
         10708981
        ],
        [
         42933,
         "Europe",
         "Denmark",
         5792202
        ],
        [
         23200,
         "Africa",
         "Djibouti",
         988000
        ],
        [
         26338,
         "Africa",
         "Rwanda",
         12952218
        ],
        [
         261,
         "North America",
         "Saint Kitts and Nevis",
         53192
        ],
        [
         616,
         "North America",
         "Saint Lucia",
         183627
        ],
        [
         389,
         "North America",
         "Saint Vincent and the Grenadines",
         110940
        ],
        [
         2842,
         "Oceania",
         "Samoa",
         198414
        ],
        [
         61,
         "Europe",
         "San Marino",
         33938
        ],
        [
         964,
         "Africa",
         "Sao Tome and Principe",
         219159
        ],
        [
         2149690,
         "Asia",
         "Saudi Arabia",
         34813871
        ],
        [
         196722,
         "Africa",
         "Senegal",
         16743927
        ],
        [
         88361,
         "Europe",
         "Serbia",
         6944975
        ],
        [
         455,
         "Africa",
         "Seychelles",
         98347
        ],
        [
         71740,
         "Africa",
         "Sierra Leone",
         7976983
        ],
        [
         719,
         "Asia",
         "Singapore",
         5850342
        ],
        [
         49037,
         "Europe",
         "Slovakia",
         5459642
        ],
        [
         20273,
         "Europe",
         "Slovenia",
         2078938
        ],
        [
         28896,
         "Oceania",
         "Solomon Islands",
         686884
        ],
        [
         637657,
         "Africa",
         "Somalia",
         15893222
        ],
        [
         1221037,
         "Africa",
         "South Africa",
         59308690
        ],
        [
         100210,
         "Asia",
         "South Korea",
         51269185
        ],
        [
         644329,
         "Africa",
         "South Sudan",
         11193725
        ],
        [
         505992,
         "Europe",
         "Spain",
         46754778
        ],
        [
         65610,
         "Asia",
         "Sri Lanka",
         21413249
        ],
        [
         1861484,
         "Africa",
         "Sudan",
         43849260
        ],
        [
         163820,
         "South America",
         "Suriname",
         586634
        ],
        [
         652230,
         "Asia",
         "Afghanistan",
         38928346
        ],
        [
         28748,
         "Europe",
         "Albania",
         2877797
        ],
        [
         2381741,
         "Africa",
         "Algeria",
         43851044
        ],
        [
         468,
         "Europe",
         "Andorra",
         77265
        ],
        [
         1246700,
         "Africa",
         "Angola",
         32866272
        ],
        [
         442,
         "North America",
         "Antigua and Barbuda",
         97929
        ],
        [
         2780400,
         "South America",
         "Argentina",
         45376763
        ],
        [
         29743,
         "Asia",
         "Armenia",
         2963243
        ],
        [
         7692024,
         "Oceania",
         "Australia",
         25649984
        ],
        [
         83879,
         "Europe",
         "Austria",
         9006398
        ],
        [
         86600,
         "Asia",
         "Azerbaijan",
         10139177
        ],
        [
         13943,
         "North America",
         "Bahamas",
         393244
        ],
        [
         765,
         "Asia",
         "Bahrain",
         1701575
        ],
        [
         147570,
         "Asia",
         "Bangladesh",
         164689383
        ],
        [
         430,
         "North America",
         "Barbados",
         287375
        ],
        [
         207600,
         "Europe",
         "Belarus",
         9449323
        ],
        [
         30528,
         "Europe",
         "Belgium",
         11589623
        ],
        [
         22966,
         "North America",
         "Belize",
         397621
        ],
        [
         114763,
         "Africa",
         "Benin",
         12123200
        ],
        [
         38394,
         "Asia",
         "Bhutan",
         771608
        ],
        [
         1098581,
         "South America",
         "Bolivia",
         11673021
        ],
        [
         51129,
         "Europe",
         "Bosnia and Herzegovina",
         3280819
        ],
        [
         581730,
         "Africa",
         "Botswana",
         2351627
        ],
        [
         8515767,
         "South America",
         "Brazil",
         212559417
        ],
        [
         751,
         "North America",
         "Dominica",
         71986
        ],
        [
         48671,
         "North America",
         "Dominican Republic",
         10847910
        ],
        [
         283561,
         "South America",
         "Ecuador",
         17643054
        ],
        [
         1002450,
         "Africa",
         "Egypt",
         102334404
        ],
        [
         21041,
         "North America",
         "El Salvador",
         6486205
        ],
        [
         28051,
         "Africa",
         "Equatorial Guinea",
         1402985
        ],
        [
         117600,
         "Africa",
         "Eritrea",
         3546421
        ],
        [
         45227,
         "Europe",
         "Estonia",
         1331796
        ],
        [
         17364,
         "Africa",
         "Eswatini",
         1160164
        ],
        [
         1104300,
         "Africa",
         "Ethiopia",
         114963588
        ],
        [
         18274,
         "Oceania",
         "Fiji",
         896444
        ],
        [
         338424,
         "Europe",
         "Finland",
         5540720
        ],
        [
         551695,
         "Europe",
         "France",
         65273511
        ],
        [
         267668,
         "Africa",
         "Gabon",
         2225728
        ],
        [
         11295,
         "Africa",
         "Gambia",
         2416668
        ],
        [
         69700,
         "Asia",
         "Georgia",
         3989167
        ],
        [
         357022,
         "Europe",
         "Germany",
         83783942
        ],
        [
         238533,
         "Africa",
         "Ghana",
         31072940
        ],
        [
         131957,
         "Europe",
         "Greece",
         10423054
        ],
        [
         344,
         "North America",
         "Grenada",
         112523
        ],
        [
         108889,
         "North America",
         "Guatemala",
         17915568
        ],
        [
         245857,
         "Africa",
         "Guinea",
         13132795
        ],
        [
         36125,
         "Africa",
         "Guinea-Bissau",
         1968001
        ],
        [
         214969,
         "South America",
         "Guyana",
         786552
        ],
        [
         21,
         "Oceania",
         "Nauru",
         10824
        ],
        [
         147181,
         "Asia",
         "Nepal",
         29136808
        ],
        [
         41543,
         "Europe",
         "Netherlands",
         17134872
        ],
        [
         268838,
         "Oceania",
         "New Zealand",
         5084300
        ],
        [
         130373,
         "North America",
         "Nicaragua",
         6624554
        ],
        [
         1267000,
         "Africa",
         "Niger",
         24206644
        ],
        [
         923768,
         "Africa",
         "Nigeria",
         206139589
        ],
        [
         120538,
         "Asia",
         "North Korea",
         25778816
        ],
        [
         25713,
         "Europe",
         "North Macedonia",
         2083374
        ],
        [
         385207,
         "Europe",
         "Norway",
         5421241
        ],
        [
         309500,
         "Asia",
         "Oman",
         5106626
        ],
        [
         881913,
         "Asia",
         "Pakistan",
         220892340
        ],
        [
         459,
         "Oceania",
         "Palau",
         18094
        ],
        [
         6020,
         "Asia",
         "Palestine, State of",
         5101414
        ],
        [
         75417,
         "North America",
         "Panama",
         4314767
        ],
        [
         462840,
         "Oceania",
         "Papua New Guinea",
         8947024
        ],
        [
         406752,
         "South America",
         "Paraguay",
         7132538
        ],
        [
         1285216,
         "South America",
         "Peru",
         32971854
        ],
        [
         300000,
         "Asia",
         "Philippines",
         109581078
        ],
        [
         312696,
         "Europe",
         "Poland",
         37846611
        ],
        [
         92090,
         "Europe",
         "Portugal",
         10196709
        ],
        [
         11586,
         "Asia",
         "Qatar",
         2881053
        ],
        [
         238391,
         "Europe",
         "Romania",
         19237691
        ],
        [
         17098242,
         "Europe",
         "Russia",
         144478050
        ],
        [
         111369,
         "Africa",
         "Liberia",
         5073296
        ],
        [
         1759540,
         "Africa",
         "Libya",
         6871292
        ],
        [
         160,
         "Europe",
         "Liechtenstein",
         38128
        ],
        [
         65300,
         "Europe",
         "Lithuania",
         2722289
        ],
        [
         2586,
         "Europe",
         "Luxembourg",
         634814
        ],
        [
         587041,
         "Africa",
         "Madagascar",
         27691018
        ],
        [
         118484,
         "Africa",
         "Malawi",
         19129952
        ],
        [
         330803,
         "Asia",
         "Malaysia",
         32365999
        ],
        [
         300,
         "Asia",
         "Maldives",
         540544
        ],
        [
         1240192,
         "Africa",
         "Mali",
         20250833
        ],
        [
         316,
         "Europe",
         "Malta",
         441543
        ],
        [
         181,
         "Oceania",
         "Marshall Islands",
         59190
        ],
        [
         1030700,
         "Africa",
         "Mauritania",
         4649658
        ],
        [
         2040,
         "Africa",
         "Mauritius",
         1271768
        ],
        [
         1964375,
         "North America",
         "Mexico",
         128932753
        ],
        [
         702,
         "Oceania",
         "Micronesia",
         115023
        ],
        [
         33851,
         "Europe",
         "Moldova",
         2640438
        ],
        [
         2,
         "Europe",
         "Monaco",
         39242
        ],
        [
         1564110,
         "Asia",
         "Mongolia",
         3278290
        ],
        [
         13812,
         "Europe",
         "Montenegro",
         622359
        ],
        [
         446550,
         "Africa",
         "Morocco",
         36910560
        ],
        [
         801590,
         "Africa",
         "Mozambique",
         31255435
        ],
        [
         676578,
         "Asia",
         "Myanmar",
         54409800
        ],
        [
         824292,
         "Africa",
         "Namibia",
         2540905
        ],
        [
         27750,
         "North America",
         "Haiti",
         11402528
        ],
        [
         0,
         "Europe",
         "Holy See",
         801
        ],
        [
         112492,
         "North America",
         "Honduras",
         9904607
        ],
        [
         93030,
         "Europe",
         "Hungary",
         9660351
        ],
        [
         103000,
         "Europe",
         "Iceland",
         341243
        ],
        [
         3287263,
         "Asia",
         "India",
         1380004385
        ],
        [
         1904569,
         "Asia",
         "Indonesia",
         273523615
        ],
        [
         1648195,
         "Asia",
         "Iran",
         83992949
        ],
        [
         438317,
         "Asia",
         "Iraq",
         40222493
        ],
        [
         70273,
         "Europe",
         "Ireland",
         4937786
        ],
        [
         20770,
         "Asia",
         "Israel",
         9053300
        ],
        [
         301340,
         "Europe",
         "Italy",
         60461826
        ],
        [
         10991,
         "North America",
         "Jamaica",
         2961167
        ],
        [
         377975,
         "Asia",
         "Japan",
         126476461
        ],
        [
         89342,
         "Asia",
         "Jordan",
         10203134
        ],
        [
         2724900,
         "Asia",
         "Kazakhstan",
         18776707
        ],
        [
         580367,
         "Africa",
         "Kenya",
         53771296
        ],
        [
         811,
         "Oceania",
         "Kiribati",
         119449
        ],
        [
         17818,
         "Asia",
         "Kuwait",
         4270571
        ],
        [
         199951,
         "Asia",
         "Kyrgyzstan",
         6524195
        ],
        [
         236800,
         "Asia",
         "Laos",
         7275560
        ],
        [
         64559,
         "Europe",
         "Latvia",
         1886198
        ],
        [
         10452,
         "Asia",
         "Lebanon",
         6825445
        ],
        [
         30355,
         "Africa",
         "Lesotho",
         2142249
        ]
       ],
       "datasetInfos": [],
       "dbfsResultPath": null,
       "isJsonSchema": true,
       "metadata": {},
       "overflow": false,
       "plotOptions": {
        "customPlotOptions": {},
        "displayType": "table",
        "pivotAggregation": null,
        "pivotColumns": null,
        "xColumns": null,
        "yColumns": null
       },
       "removedWidgets": [],
       "schema": [
        {
         "metadata": "{}",
         "name": "area_km2",
         "type": "\"long\""
        },
        {
         "metadata": "{}",
         "name": "continent",
         "type": "\"string\""
        },
        {
         "metadata": "{}",
         "name": "country_name",
         "type": "\"string\""
        },
        {
         "metadata": "{}",
         "name": "population",
         "type": "\"long\""
        }
       ],
       "type": "table"
      }
     },
     "output_type": "display_data"
    }
   ],
   "source": [
    "# Reading and displaying JSON files\n",
    "# Both lines are equivalent\n",
    "spark.read.json(\"/FileStore/write_demo/countries_json\").display()\n",
    "spark.read.format(\"json\").option(\"multiLine\", False).load(\"/FileStore/write_demo/countries_json\").display()"
   ]
  }
 ],
 "metadata": {
  "application/vnd.databricks.v1+notebook": {
   "computePreferences": null,
   "dashboards": [],
   "environmentMetadata": {
    "base_environment": "",
    "client": "1"
   },
   "language": "python",
   "notebookMetadata": {
    "pythonIndentUnit": 4
   },
   "notebookName": "Reading and Writing JSON",
   "widgets": {}
  }
 },
 "nbformat": 4,
 "nbformat_minor": 0
}
