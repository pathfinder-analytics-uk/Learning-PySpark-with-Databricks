{
 "cells": [
  {
   "cell_type": "markdown",
   "metadata": {
    "application/vnd.databricks.v1+cell": {
     "cellMetadata": {
      "byteLimit": 2048000,
      "rowLimit": 10000
     },
     "inputWidgets": {},
     "nuid": "06ff64d4-f03b-4be2-9f88-e5ecd89295fb",
     "showTitle": false,
     "tableResultSettingsMap": {},
     "title": ""
    }
   },
   "source": [
    "## Combining DataFrames\n",
    "\n",
    "On Spark, a `join()` merges DataFrame rows based on matching conditions, a `crossJoin()` returns the Cartesian product of all rows, and a `union()` concatenates DataFrames with identical schemas."
   ]
  },
  {
   "cell_type": "markdown",
   "metadata": {
    "application/vnd.databricks.v1+cell": {
     "cellMetadata": {
      "byteLimit": 2048000,
      "rowLimit": 10000
     },
     "inputWidgets": {},
     "nuid": "dc7f51ac-62ca-47ac-89d9-1e12e9cd9668",
     "showTitle": false,
     "tableResultSettingsMap": {},
     "title": ""
    }
   },
   "source": [
    "### Links and Resources\n",
    "- [join](https://spark.apache.org/docs/3.5.3/api/python/reference/pyspark.sql/api/pyspark.sql.DataFrame.join.html?highlight=join#pyspark.sql.DataFrame.join)\n",
    "- [crossjoin](https://spark.apache.org/docs/3.5.3/api/python/reference/pyspark.sql/api/pyspark.sql.DataFrame.crossJoin.html?highlight=join#pyspark.sql.DataFrame.crossJoin)\n",
    "- [union](https://spark.apache.org/docs/3.5.3/api/python/reference/pyspark.sql/api/pyspark.sql.DataFrame.union.html?highlight=join#pyspark.sql.DataFrame.union)"
   ]
  },
  {
   "cell_type": "code",
   "execution_count": 0,
   "metadata": {
    "application/vnd.databricks.v1+cell": {
     "cellMetadata": {
      "byteLimit": 2048000,
      "rowLimit": 10000
     },
     "inputWidgets": {},
     "nuid": "dee80a96-3350-4a0e-8177-f13e113afa53",
     "showTitle": false,
     "tableResultSettingsMap": {},
     "title": ""
    }
   },
   "outputs": [
    {
     "output_type": "stream",
     "name": "stdout",
     "output_type": "stream",
     "text": [
      "+--------------+--------+----------+------------+\n|transaction_id|store_id| sale_date|sales_amount|\n+--------------+--------+----------+------------+\n|          1001|     103|2025-01-15|        5000|\n|          1002|     104|2025-01-16|        7000|\n|          1003|     105|2025-01-17|        6500|\n|          1004|     106|2025-01-18|        4800|\n|          1005|     107|2025-01-19|        5300|\n+--------------+--------+----------+------------+\n\n+---+----------+-----------+\n| id|store_name|       city|\n+---+----------+-----------+\n|101|   Store A|   New York|\n|102|   Store B|Los Angeles|\n|103|   Store C|    Chicago|\n|104|   Store D|    Houston|\n|105|   Store E|    Phoenix|\n+---+----------+-----------+\n\n"
     ]
    }
   ],
   "source": [
    "from pyspark.sql.types import StructType, StructField, IntegerType, StringType\n",
    "\n",
    "# Define schema for df_1 (Sales) with transaction_id included\n",
    "schema_sales = StructType([\n",
    "    StructField(\"transaction_id\", IntegerType(), True),\n",
    "    StructField(\"store_id\", IntegerType(), True),\n",
    "    StructField(\"sale_date\", StringType(), True),\n",
    "    StructField(\"sales_amount\", IntegerType(), True)\n",
    "])\n",
    "\n",
    "# Data for df_1: sales records\n",
    "# Some store_ids (e.g., 106 and 107) are not present in df_2 to demonstrate join gaps.\n",
    "data_sales = [\n",
    "    (1001, 103, \"2025-01-15\", 5000),\n",
    "    (1002, 104, \"2025-01-16\", 7000),\n",
    "    (1003, 105, \"2025-01-17\", 6500),\n",
    "    (1004, 106, \"2025-01-18\", 4800),\n",
    "    (1005, 107, \"2025-01-19\", 5300)\n",
    "]\n",
    "\n",
    "# Create df_1 with the sales data\n",
    "df_1 = spark.createDataFrame(data_sales, schema=schema_sales)\n",
    "df_1.show()\n",
    "\n",
    "# Define schema for df_2 (Stores)\n",
    "schema_stores = StructType([\n",
    "    StructField(\"id\", IntegerType(), True),\n",
    "    StructField(\"store_name\", StringType(), True),\n",
    "    StructField(\"city\", StringType(), True)\n",
    "])\n",
    "\n",
    "# Data for df_2: stores\n",
    "data_stores = [\n",
    "    (101, \"Store A\", \"New York\"),\n",
    "    (102, \"Store B\", \"Los Angeles\"),\n",
    "    (103, \"Store C\", \"Chicago\"),\n",
    "    (104, \"Store D\", \"Houston\"),\n",
    "    (105, \"Store E\", \"Phoenix\")\n",
    "]\n",
    "\n",
    "# Create df_2 with the stores data\n",
    "df_2 = spark.createDataFrame(data_stores, schema=schema_stores)\n",
    "df_2.show()"
   ]
  },
  {
   "cell_type": "markdown",
   "metadata": {
    "application/vnd.databricks.v1+cell": {
     "cellMetadata": {},
     "inputWidgets": {},
     "nuid": "064e754b-6b50-4776-940f-9a2a0a3e6244",
     "showTitle": false,
     "tableResultSettingsMap": {},
     "title": ""
    }
   },
   "source": [
    "### Join"
   ]
  },
  {
   "cell_type": "code",
   "execution_count": 0,
   "metadata": {
    "application/vnd.databricks.v1+cell": {
     "cellMetadata": {
      "byteLimit": 2048000,
      "rowLimit": 10000
     },
     "inputWidgets": {},
     "nuid": "2f5bb68a-afe0-45a4-9400-d924e59df1a6",
     "showTitle": false,
     "tableResultSettingsMap": {},
     "title": ""
    }
   },
   "outputs": [
    {
     "output_type": "display_data",
     "data": {
      "text/html": [
       "<style scoped>\n",
       "  .table-result-container {\n",
       "    max-height: 300px;\n",
       "    overflow: auto;\n",
       "  }\n",
       "  table, th, td {\n",
       "    border: 1px solid black;\n",
       "    border-collapse: collapse;\n",
       "  }\n",
       "  th, td {\n",
       "    padding: 5px;\n",
       "  }\n",
       "  th {\n",
       "    text-align: left;\n",
       "  }\n",
       "</style><div class='table-result-container'><table class='table-result'><thead style='background-color: white'><tr><th>transaction_id</th><th>store_id</th><th>sale_date</th><th>sales_amount</th><th>id</th><th>store_name</th><th>city</th></tr></thead><tbody><tr><td>1001</td><td>103</td><td>2025-01-15</td><td>5000</td><td>103</td><td>Store C</td><td>Chicago</td></tr><tr><td>1002</td><td>104</td><td>2025-01-16</td><td>7000</td><td>104</td><td>Store D</td><td>Houston</td></tr><tr><td>1003</td><td>105</td><td>2025-01-17</td><td>6500</td><td>105</td><td>Store E</td><td>Phoenix</td></tr><tr><td>1004</td><td>106</td><td>2025-01-18</td><td>4800</td><td>null</td><td>null</td><td>null</td></tr><tr><td>1005</td><td>107</td><td>2025-01-19</td><td>5300</td><td>null</td><td>null</td><td>null</td></tr></tbody></table></div>"
      ]
     },
     "metadata": {
      "application/vnd.databricks.v1+output": {
       "addedWidgets": {},
       "aggData": [],
       "aggError": "",
       "aggOverflow": false,
       "aggSchema": [],
       "aggSeriesLimitReached": false,
       "aggType": "",
       "arguments": {},
       "columnCustomDisplayInfos": {},
       "data": [
        [
         1001,
         103,
         "2025-01-15",
         5000,
         103,
         "Store C",
         "Chicago"
        ],
        [
         1002,
         104,
         "2025-01-16",
         7000,
         104,
         "Store D",
         "Houston"
        ],
        [
         1003,
         105,
         "2025-01-17",
         6500,
         105,
         "Store E",
         "Phoenix"
        ],
        [
         1004,
         106,
         "2025-01-18",
         4800,
         null,
         null,
         null
        ],
        [
         1005,
         107,
         "2025-01-19",
         5300,
         null,
         null,
         null
        ]
       ],
       "datasetInfos": [],
       "dbfsResultPath": null,
       "isJsonSchema": true,
       "metadata": {},
       "overflow": false,
       "plotOptions": {
        "customPlotOptions": {},
        "displayType": "table",
        "pivotAggregation": null,
        "pivotColumns": null,
        "xColumns": null,
        "yColumns": null
       },
       "removedWidgets": [],
       "schema": [
        {
         "metadata": "{}",
         "name": "transaction_id",
         "type": "\"integer\""
        },
        {
         "metadata": "{}",
         "name": "store_id",
         "type": "\"integer\""
        },
        {
         "metadata": "{}",
         "name": "sale_date",
         "type": "\"string\""
        },
        {
         "metadata": "{}",
         "name": "sales_amount",
         "type": "\"integer\""
        },
        {
         "metadata": "{}",
         "name": "id",
         "type": "\"integer\""
        },
        {
         "metadata": "{}",
         "name": "store_name",
         "type": "\"string\""
        },
        {
         "metadata": "{}",
         "name": "city",
         "type": "\"string\""
        }
       ],
       "type": "table"
      }
     },
     "output_type": "display_data"
    }
   ],
   "source": [
    "# left join returns all records from the left DataFrame and only matching records from the right\n",
    "\n",
    "left_join_df = df_1.join(df_2, df_1.store_id == df_2.id, \"left\")\n",
    "\n",
    "left_join_df.display()"
   ]
  },
  {
   "cell_type": "code",
   "execution_count": 0,
   "metadata": {
    "application/vnd.databricks.v1+cell": {
     "cellMetadata": {
      "byteLimit": 2048000,
      "rowLimit": 10000
     },
     "inputWidgets": {},
     "nuid": "b0a755cb-79a8-4f42-a83e-ea78d99af1d7",
     "showTitle": false,
     "tableResultSettingsMap": {},
     "title": ""
    }
   },
   "outputs": [
    {
     "output_type": "display_data",
     "data": {
      "text/html": [
       "<style scoped>\n",
       "  .table-result-container {\n",
       "    max-height: 300px;\n",
       "    overflow: auto;\n",
       "  }\n",
       "  table, th, td {\n",
       "    border: 1px solid black;\n",
       "    border-collapse: collapse;\n",
       "  }\n",
       "  th, td {\n",
       "    padding: 5px;\n",
       "  }\n",
       "  th {\n",
       "    text-align: left;\n",
       "  }\n",
       "</style><div class='table-result-container'><table class='table-result'><thead style='background-color: white'><tr><th>transaction_id</th><th>store_id</th><th>sale_date</th><th>sales_amount</th><th>id</th><th>store_name</th><th>city</th></tr></thead><tbody><tr><td>null</td><td>null</td><td>null</td><td>null</td><td>101</td><td>Store A</td><td>New York</td></tr><tr><td>null</td><td>null</td><td>null</td><td>null</td><td>102</td><td>Store B</td><td>Los Angeles</td></tr><tr><td>1001</td><td>103</td><td>2025-01-15</td><td>5000</td><td>103</td><td>Store C</td><td>Chicago</td></tr><tr><td>1002</td><td>104</td><td>2025-01-16</td><td>7000</td><td>104</td><td>Store D</td><td>Houston</td></tr><tr><td>1003</td><td>105</td><td>2025-01-17</td><td>6500</td><td>105</td><td>Store E</td><td>Phoenix</td></tr></tbody></table></div>"
      ]
     },
     "metadata": {
      "application/vnd.databricks.v1+output": {
       "addedWidgets": {},
       "aggData": [],
       "aggError": "",
       "aggOverflow": false,
       "aggSchema": [],
       "aggSeriesLimitReached": false,
       "aggType": "",
       "arguments": {},
       "columnCustomDisplayInfos": {},
       "data": [
        [
         null,
         null,
         null,
         null,
         101,
         "Store A",
         "New York"
        ],
        [
         null,
         null,
         null,
         null,
         102,
         "Store B",
         "Los Angeles"
        ],
        [
         1001,
         103,
         "2025-01-15",
         5000,
         103,
         "Store C",
         "Chicago"
        ],
        [
         1002,
         104,
         "2025-01-16",
         7000,
         104,
         "Store D",
         "Houston"
        ],
        [
         1003,
         105,
         "2025-01-17",
         6500,
         105,
         "Store E",
         "Phoenix"
        ]
       ],
       "datasetInfos": [],
       "dbfsResultPath": null,
       "isJsonSchema": true,
       "metadata": {},
       "overflow": false,
       "plotOptions": {
        "customPlotOptions": {},
        "displayType": "table",
        "pivotAggregation": null,
        "pivotColumns": null,
        "xColumns": null,
        "yColumns": null
       },
       "removedWidgets": [],
       "schema": [
        {
         "metadata": "{}",
         "name": "transaction_id",
         "type": "\"integer\""
        },
        {
         "metadata": "{}",
         "name": "store_id",
         "type": "\"integer\""
        },
        {
         "metadata": "{}",
         "name": "sale_date",
         "type": "\"string\""
        },
        {
         "metadata": "{}",
         "name": "sales_amount",
         "type": "\"integer\""
        },
        {
         "metadata": "{}",
         "name": "id",
         "type": "\"integer\""
        },
        {
         "metadata": "{}",
         "name": "store_name",
         "type": "\"string\""
        },
        {
         "metadata": "{}",
         "name": "city",
         "type": "\"string\""
        }
       ],
       "type": "table"
      }
     },
     "output_type": "display_data"
    }
   ],
   "source": [
    "# right join returns all records from the left DataFrame and only matching records from the left\n",
    "\n",
    "right_join_df = df_1.join(df_2, df_1.store_id == df_2.id, \"right\")\n",
    "\n",
    "right_join_df.display()"
   ]
  },
  {
   "cell_type": "code",
   "execution_count": 0,
   "metadata": {
    "application/vnd.databricks.v1+cell": {
     "cellMetadata": {
      "byteLimit": 2048000,
      "rowLimit": 10000
     },
     "inputWidgets": {},
     "nuid": "2507338e-54dd-4365-8a78-99dc4293843f",
     "showTitle": false,
     "tableResultSettingsMap": {},
     "title": ""
    }
   },
   "outputs": [
    {
     "output_type": "display_data",
     "data": {
      "text/html": [
       "<style scoped>\n",
       "  .table-result-container {\n",
       "    max-height: 300px;\n",
       "    overflow: auto;\n",
       "  }\n",
       "  table, th, td {\n",
       "    border: 1px solid black;\n",
       "    border-collapse: collapse;\n",
       "  }\n",
       "  th, td {\n",
       "    padding: 5px;\n",
       "  }\n",
       "  th {\n",
       "    text-align: left;\n",
       "  }\n",
       "</style><div class='table-result-container'><table class='table-result'><thead style='background-color: white'><tr><th>transaction_id</th><th>store_id</th><th>sale_date</th><th>sales_amount</th><th>id</th><th>store_name</th><th>city</th></tr></thead><tbody><tr><td>1001</td><td>103</td><td>2025-01-15</td><td>5000</td><td>103</td><td>Store C</td><td>Chicago</td></tr><tr><td>1002</td><td>104</td><td>2025-01-16</td><td>7000</td><td>104</td><td>Store D</td><td>Houston</td></tr><tr><td>1003</td><td>105</td><td>2025-01-17</td><td>6500</td><td>105</td><td>Store E</td><td>Phoenix</td></tr></tbody></table></div>"
      ]
     },
     "metadata": {
      "application/vnd.databricks.v1+output": {
       "addedWidgets": {},
       "aggData": [],
       "aggError": "",
       "aggOverflow": false,
       "aggSchema": [],
       "aggSeriesLimitReached": false,
       "aggType": "",
       "arguments": {},
       "columnCustomDisplayInfos": {},
       "data": [
        [
         1001,
         103,
         "2025-01-15",
         5000,
         103,
         "Store C",
         "Chicago"
        ],
        [
         1002,
         104,
         "2025-01-16",
         7000,
         104,
         "Store D",
         "Houston"
        ],
        [
         1003,
         105,
         "2025-01-17",
         6500,
         105,
         "Store E",
         "Phoenix"
        ]
       ],
       "datasetInfos": [],
       "dbfsResultPath": null,
       "isJsonSchema": true,
       "metadata": {},
       "overflow": false,
       "plotOptions": {
        "customPlotOptions": {},
        "displayType": "table",
        "pivotAggregation": null,
        "pivotColumns": null,
        "xColumns": null,
        "yColumns": null
       },
       "removedWidgets": [],
       "schema": [
        {
         "metadata": "{}",
         "name": "transaction_id",
         "type": "\"integer\""
        },
        {
         "metadata": "{}",
         "name": "store_id",
         "type": "\"integer\""
        },
        {
         "metadata": "{}",
         "name": "sale_date",
         "type": "\"string\""
        },
        {
         "metadata": "{}",
         "name": "sales_amount",
         "type": "\"integer\""
        },
        {
         "metadata": "{}",
         "name": "id",
         "type": "\"integer\""
        },
        {
         "metadata": "{}",
         "name": "store_name",
         "type": "\"string\""
        },
        {
         "metadata": "{}",
         "name": "city",
         "type": "\"string\""
        }
       ],
       "type": "table"
      }
     },
     "output_type": "display_data"
    }
   ],
   "source": [
    "# inner join returns only matching records from both\n",
    "\n",
    "inner_join_df = df_1.join(df_2, df_1.store_id == df_2.id, \"inner\")\n",
    "\n",
    "inner_join_df.display()"
   ]
  },
  {
   "cell_type": "code",
   "execution_count": 0,
   "metadata": {
    "application/vnd.databricks.v1+cell": {
     "cellMetadata": {
      "byteLimit": 2048000,
      "rowLimit": 10000
     },
     "inputWidgets": {},
     "nuid": "e82f9588-f497-4c17-a4d0-2b061d672a16",
     "showTitle": false,
     "tableResultSettingsMap": {},
     "title": ""
    }
   },
   "outputs": [
    {
     "output_type": "display_data",
     "data": {
      "text/html": [
       "<style scoped>\n",
       "  .table-result-container {\n",
       "    max-height: 300px;\n",
       "    overflow: auto;\n",
       "  }\n",
       "  table, th, td {\n",
       "    border: 1px solid black;\n",
       "    border-collapse: collapse;\n",
       "  }\n",
       "  th, td {\n",
       "    padding: 5px;\n",
       "  }\n",
       "  th {\n",
       "    text-align: left;\n",
       "  }\n",
       "</style><div class='table-result-container'><table class='table-result'><thead style='background-color: white'><tr><th>transaction_id</th><th>store_id</th><th>sale_date</th><th>sales_amount</th><th>id</th><th>store_name</th><th>city</th></tr></thead><tbody><tr><td>null</td><td>null</td><td>null</td><td>null</td><td>101</td><td>Store A</td><td>New York</td></tr><tr><td>null</td><td>null</td><td>null</td><td>null</td><td>102</td><td>Store B</td><td>Los Angeles</td></tr><tr><td>1001</td><td>103</td><td>2025-01-15</td><td>5000</td><td>103</td><td>Store C</td><td>Chicago</td></tr><tr><td>1002</td><td>104</td><td>2025-01-16</td><td>7000</td><td>104</td><td>Store D</td><td>Houston</td></tr><tr><td>1003</td><td>105</td><td>2025-01-17</td><td>6500</td><td>105</td><td>Store E</td><td>Phoenix</td></tr><tr><td>1004</td><td>106</td><td>2025-01-18</td><td>4800</td><td>null</td><td>null</td><td>null</td></tr><tr><td>1005</td><td>107</td><td>2025-01-19</td><td>5300</td><td>null</td><td>null</td><td>null</td></tr></tbody></table></div>"
      ]
     },
     "metadata": {
      "application/vnd.databricks.v1+output": {
       "addedWidgets": {},
       "aggData": [],
       "aggError": "",
       "aggOverflow": false,
       "aggSchema": [],
       "aggSeriesLimitReached": false,
       "aggType": "",
       "arguments": {},
       "columnCustomDisplayInfos": {},
       "data": [
        [
         null,
         null,
         null,
         null,
         101,
         "Store A",
         "New York"
        ],
        [
         null,
         null,
         null,
         null,
         102,
         "Store B",
         "Los Angeles"
        ],
        [
         1001,
         103,
         "2025-01-15",
         5000,
         103,
         "Store C",
         "Chicago"
        ],
        [
         1002,
         104,
         "2025-01-16",
         7000,
         104,
         "Store D",
         "Houston"
        ],
        [
         1003,
         105,
         "2025-01-17",
         6500,
         105,
         "Store E",
         "Phoenix"
        ],
        [
         1004,
         106,
         "2025-01-18",
         4800,
         null,
         null,
         null
        ],
        [
         1005,
         107,
         "2025-01-19",
         5300,
         null,
         null,
         null
        ]
       ],
       "datasetInfos": [],
       "dbfsResultPath": null,
       "isJsonSchema": true,
       "metadata": {},
       "overflow": false,
       "plotOptions": {
        "customPlotOptions": {},
        "displayType": "table",
        "pivotAggregation": null,
        "pivotColumns": null,
        "xColumns": null,
        "yColumns": null
       },
       "removedWidgets": [],
       "schema": [
        {
         "metadata": "{}",
         "name": "transaction_id",
         "type": "\"integer\""
        },
        {
         "metadata": "{}",
         "name": "store_id",
         "type": "\"integer\""
        },
        {
         "metadata": "{}",
         "name": "sale_date",
         "type": "\"string\""
        },
        {
         "metadata": "{}",
         "name": "sales_amount",
         "type": "\"integer\""
        },
        {
         "metadata": "{}",
         "name": "id",
         "type": "\"integer\""
        },
        {
         "metadata": "{}",
         "name": "store_name",
         "type": "\"string\""
        },
        {
         "metadata": "{}",
         "name": "city",
         "type": "\"string\""
        }
       ],
       "type": "table"
      }
     },
     "output_type": "display_data"
    }
   ],
   "source": [
    "# full outer join returns all records from the left and right DataFrame, matched or unmatched\n",
    "\n",
    "full_join_df = df_1.join(df_2, df_1.store_id == df_2.id, \"fullouter\")\n",
    "\n",
    "full_join_df.display()"
   ]
  },
  {
   "cell_type": "code",
   "execution_count": 0,
   "metadata": {
    "application/vnd.databricks.v1+cell": {
     "cellMetadata": {
      "byteLimit": 2048000,
      "rowLimit": 10000
     },
     "inputWidgets": {},
     "nuid": "11c22f8d-7096-418a-aac1-8465afc58927",
     "showTitle": false,
     "tableResultSettingsMap": {},
     "title": ""
    }
   },
   "outputs": [
    {
     "output_type": "display_data",
     "data": {
      "text/html": [
       "<style scoped>\n",
       "  .table-result-container {\n",
       "    max-height: 300px;\n",
       "    overflow: auto;\n",
       "  }\n",
       "  table, th, td {\n",
       "    border: 1px solid black;\n",
       "    border-collapse: collapse;\n",
       "  }\n",
       "  th, td {\n",
       "    padding: 5px;\n",
       "  }\n",
       "  th {\n",
       "    text-align: left;\n",
       "  }\n",
       "</style><div class='table-result-container'><table class='table-result'><thead style='background-color: white'><tr><th>transaction_id</th><th>store_id</th><th>sale_date</th><th>sales_amount</th></tr></thead><tbody><tr><td>1004</td><td>106</td><td>2025-01-18</td><td>4800</td></tr><tr><td>1005</td><td>107</td><td>2025-01-19</td><td>5300</td></tr></tbody></table></div>"
      ]
     },
     "metadata": {
      "application/vnd.databricks.v1+output": {
       "addedWidgets": {},
       "aggData": [],
       "aggError": "",
       "aggOverflow": false,
       "aggSchema": [],
       "aggSeriesLimitReached": false,
       "aggType": "",
       "arguments": {},
       "columnCustomDisplayInfos": {},
       "data": [
        [
         1004,
         106,
         "2025-01-18",
         4800
        ],
        [
         1005,
         107,
         "2025-01-19",
         5300
        ]
       ],
       "datasetInfos": [],
       "dbfsResultPath": null,
       "isJsonSchema": true,
       "metadata": {},
       "overflow": false,
       "plotOptions": {
        "customPlotOptions": {},
        "displayType": "table",
        "pivotAggregation": null,
        "pivotColumns": null,
        "xColumns": null,
        "yColumns": null
       },
       "removedWidgets": [],
       "schema": [
        {
         "metadata": "{}",
         "name": "transaction_id",
         "type": "\"integer\""
        },
        {
         "metadata": "{}",
         "name": "store_id",
         "type": "\"integer\""
        },
        {
         "metadata": "{}",
         "name": "sale_date",
         "type": "\"string\""
        },
        {
         "metadata": "{}",
         "name": "sales_amount",
         "type": "\"integer\""
        }
       ],
       "type": "table"
      }
     },
     "output_type": "display_data"
    }
   ],
   "source": [
    "# left andi returns all records unmatched records left DataFrame only\n",
    "\n",
    "left_anti_df = df_1.join(df_2, df_1.store_id == df_2.id, \"left_anti\")\n",
    "\n",
    "left_anti_df.display()"
   ]
  },
  {
   "cell_type": "markdown",
   "metadata": {
    "application/vnd.databricks.v1+cell": {
     "cellMetadata": {},
     "inputWidgets": {},
     "nuid": "eb82afe8-8228-43d9-90b9-24df7b222ca9",
     "showTitle": false,
     "tableResultSettingsMap": {},
     "title": ""
    }
   },
   "source": [
    "### crossJoin"
   ]
  },
  {
   "cell_type": "code",
   "execution_count": 0,
   "metadata": {
    "application/vnd.databricks.v1+cell": {
     "cellMetadata": {
      "byteLimit": 2048000,
      "rowLimit": 10000
     },
     "inputWidgets": {},
     "nuid": "60de10b1-f34e-4a27-aa0d-6be1c11ebb67",
     "showTitle": false,
     "tableResultSettingsMap": {},
     "title": ""
    }
   },
   "outputs": [
    {
     "output_type": "display_data",
     "data": {
      "text/html": [
       "<style scoped>\n",
       "  .table-result-container {\n",
       "    max-height: 300px;\n",
       "    overflow: auto;\n",
       "  }\n",
       "  table, th, td {\n",
       "    border: 1px solid black;\n",
       "    border-collapse: collapse;\n",
       "  }\n",
       "  th, td {\n",
       "    padding: 5px;\n",
       "  }\n",
       "  th {\n",
       "    text-align: left;\n",
       "  }\n",
       "</style><div class='table-result-container'><table class='table-result'><thead style='background-color: white'><tr><th>transaction_id</th><th>store_id</th><th>sale_date</th><th>sales_amount</th><th>id</th><th>store_name</th><th>city</th></tr></thead><tbody><tr><td>1001</td><td>103</td><td>2025-01-15</td><td>5000</td><td>101</td><td>Store A</td><td>New York</td></tr><tr><td>1001</td><td>103</td><td>2025-01-15</td><td>5000</td><td>102</td><td>Store B</td><td>Los Angeles</td></tr><tr><td>1001</td><td>103</td><td>2025-01-15</td><td>5000</td><td>103</td><td>Store C</td><td>Chicago</td></tr><tr><td>1001</td><td>103</td><td>2025-01-15</td><td>5000</td><td>104</td><td>Store D</td><td>Houston</td></tr><tr><td>1001</td><td>103</td><td>2025-01-15</td><td>5000</td><td>105</td><td>Store E</td><td>Phoenix</td></tr><tr><td>1002</td><td>104</td><td>2025-01-16</td><td>7000</td><td>101</td><td>Store A</td><td>New York</td></tr><tr><td>1002</td><td>104</td><td>2025-01-16</td><td>7000</td><td>102</td><td>Store B</td><td>Los Angeles</td></tr><tr><td>1002</td><td>104</td><td>2025-01-16</td><td>7000</td><td>103</td><td>Store C</td><td>Chicago</td></tr><tr><td>1002</td><td>104</td><td>2025-01-16</td><td>7000</td><td>104</td><td>Store D</td><td>Houston</td></tr><tr><td>1002</td><td>104</td><td>2025-01-16</td><td>7000</td><td>105</td><td>Store E</td><td>Phoenix</td></tr><tr><td>1003</td><td>105</td><td>2025-01-17</td><td>6500</td><td>101</td><td>Store A</td><td>New York</td></tr><tr><td>1003</td><td>105</td><td>2025-01-17</td><td>6500</td><td>102</td><td>Store B</td><td>Los Angeles</td></tr><tr><td>1003</td><td>105</td><td>2025-01-17</td><td>6500</td><td>103</td><td>Store C</td><td>Chicago</td></tr><tr><td>1003</td><td>105</td><td>2025-01-17</td><td>6500</td><td>104</td><td>Store D</td><td>Houston</td></tr><tr><td>1003</td><td>105</td><td>2025-01-17</td><td>6500</td><td>105</td><td>Store E</td><td>Phoenix</td></tr><tr><td>1004</td><td>106</td><td>2025-01-18</td><td>4800</td><td>101</td><td>Store A</td><td>New York</td></tr><tr><td>1004</td><td>106</td><td>2025-01-18</td><td>4800</td><td>102</td><td>Store B</td><td>Los Angeles</td></tr><tr><td>1004</td><td>106</td><td>2025-01-18</td><td>4800</td><td>103</td><td>Store C</td><td>Chicago</td></tr><tr><td>1004</td><td>106</td><td>2025-01-18</td><td>4800</td><td>104</td><td>Store D</td><td>Houston</td></tr><tr><td>1004</td><td>106</td><td>2025-01-18</td><td>4800</td><td>105</td><td>Store E</td><td>Phoenix</td></tr><tr><td>1005</td><td>107</td><td>2025-01-19</td><td>5300</td><td>101</td><td>Store A</td><td>New York</td></tr><tr><td>1005</td><td>107</td><td>2025-01-19</td><td>5300</td><td>102</td><td>Store B</td><td>Los Angeles</td></tr><tr><td>1005</td><td>107</td><td>2025-01-19</td><td>5300</td><td>103</td><td>Store C</td><td>Chicago</td></tr><tr><td>1005</td><td>107</td><td>2025-01-19</td><td>5300</td><td>104</td><td>Store D</td><td>Houston</td></tr><tr><td>1005</td><td>107</td><td>2025-01-19</td><td>5300</td><td>105</td><td>Store E</td><td>Phoenix</td></tr></tbody></table></div>"
      ]
     },
     "metadata": {
      "application/vnd.databricks.v1+output": {
       "addedWidgets": {},
       "aggData": [],
       "aggError": "",
       "aggOverflow": false,
       "aggSchema": [],
       "aggSeriesLimitReached": false,
       "aggType": "",
       "arguments": {},
       "columnCustomDisplayInfos": {},
       "data": [
        [
         1001,
         103,
         "2025-01-15",
         5000,
         101,
         "Store A",
         "New York"
        ],
        [
         1001,
         103,
         "2025-01-15",
         5000,
         102,
         "Store B",
         "Los Angeles"
        ],
        [
         1001,
         103,
         "2025-01-15",
         5000,
         103,
         "Store C",
         "Chicago"
        ],
        [
         1001,
         103,
         "2025-01-15",
         5000,
         104,
         "Store D",
         "Houston"
        ],
        [
         1001,
         103,
         "2025-01-15",
         5000,
         105,
         "Store E",
         "Phoenix"
        ],
        [
         1002,
         104,
         "2025-01-16",
         7000,
         101,
         "Store A",
         "New York"
        ],
        [
         1002,
         104,
         "2025-01-16",
         7000,
         102,
         "Store B",
         "Los Angeles"
        ],
        [
         1002,
         104,
         "2025-01-16",
         7000,
         103,
         "Store C",
         "Chicago"
        ],
        [
         1002,
         104,
         "2025-01-16",
         7000,
         104,
         "Store D",
         "Houston"
        ],
        [
         1002,
         104,
         "2025-01-16",
         7000,
         105,
         "Store E",
         "Phoenix"
        ],
        [
         1003,
         105,
         "2025-01-17",
         6500,
         101,
         "Store A",
         "New York"
        ],
        [
         1003,
         105,
         "2025-01-17",
         6500,
         102,
         "Store B",
         "Los Angeles"
        ],
        [
         1003,
         105,
         "2025-01-17",
         6500,
         103,
         "Store C",
         "Chicago"
        ],
        [
         1003,
         105,
         "2025-01-17",
         6500,
         104,
         "Store D",
         "Houston"
        ],
        [
         1003,
         105,
         "2025-01-17",
         6500,
         105,
         "Store E",
         "Phoenix"
        ],
        [
         1004,
         106,
         "2025-01-18",
         4800,
         101,
         "Store A",
         "New York"
        ],
        [
         1004,
         106,
         "2025-01-18",
         4800,
         102,
         "Store B",
         "Los Angeles"
        ],
        [
         1004,
         106,
         "2025-01-18",
         4800,
         103,
         "Store C",
         "Chicago"
        ],
        [
         1004,
         106,
         "2025-01-18",
         4800,
         104,
         "Store D",
         "Houston"
        ],
        [
         1004,
         106,
         "2025-01-18",
         4800,
         105,
         "Store E",
         "Phoenix"
        ],
        [
         1005,
         107,
         "2025-01-19",
         5300,
         101,
         "Store A",
         "New York"
        ],
        [
         1005,
         107,
         "2025-01-19",
         5300,
         102,
         "Store B",
         "Los Angeles"
        ],
        [
         1005,
         107,
         "2025-01-19",
         5300,
         103,
         "Store C",
         "Chicago"
        ],
        [
         1005,
         107,
         "2025-01-19",
         5300,
         104,
         "Store D",
         "Houston"
        ],
        [
         1005,
         107,
         "2025-01-19",
         5300,
         105,
         "Store E",
         "Phoenix"
        ]
       ],
       "datasetInfos": [],
       "dbfsResultPath": null,
       "isJsonSchema": true,
       "metadata": {},
       "overflow": false,
       "plotOptions": {
        "customPlotOptions": {},
        "displayType": "table",
        "pivotAggregation": null,
        "pivotColumns": null,
        "xColumns": null,
        "yColumns": null
       },
       "removedWidgets": [],
       "schema": [
        {
         "metadata": "{}",
         "name": "transaction_id",
         "type": "\"integer\""
        },
        {
         "metadata": "{}",
         "name": "store_id",
         "type": "\"integer\""
        },
        {
         "metadata": "{}",
         "name": "sale_date",
         "type": "\"string\""
        },
        {
         "metadata": "{}",
         "name": "sales_amount",
         "type": "\"integer\""
        },
        {
         "metadata": "{}",
         "name": "id",
         "type": "\"integer\""
        },
        {
         "metadata": "{}",
         "name": "store_name",
         "type": "\"string\""
        },
        {
         "metadata": "{}",
         "name": "city",
         "type": "\"string\""
        }
       ],
       "type": "table"
      }
     },
     "output_type": "display_data"
    }
   ],
   "source": [
    "# crossJoin (also known as cartesian join) returns the cartesian product of both DataFrames\n",
    "\n",
    "df_1.crossJoin(df_2).display()"
   ]
  },
  {
   "cell_type": "markdown",
   "metadata": {
    "application/vnd.databricks.v1+cell": {
     "cellMetadata": {
      "byteLimit": 2048000,
      "rowLimit": 10000
     },
     "inputWidgets": {},
     "nuid": "30032d99-1e15-4997-bad0-88a6efc5acb0",
     "showTitle": false,
     "tableResultSettingsMap": {},
     "title": ""
    }
   },
   "source": [
    "### Union"
   ]
  },
  {
   "cell_type": "code",
   "execution_count": 0,
   "metadata": {
    "application/vnd.databricks.v1+cell": {
     "cellMetadata": {
      "byteLimit": 2048000,
      "rowLimit": 10000
     },
     "inputWidgets": {},
     "nuid": "157373bb-df9a-46b5-9115-3d6a743918eb",
     "showTitle": false,
     "tableResultSettingsMap": {},
     "title": ""
    }
   },
   "outputs": [
    {
     "output_type": "display_data",
     "data": {
      "text/html": [
       "<style scoped>\n",
       "  .table-result-container {\n",
       "    max-height: 300px;\n",
       "    overflow: auto;\n",
       "  }\n",
       "  table, th, td {\n",
       "    border: 1px solid black;\n",
       "    border-collapse: collapse;\n",
       "  }\n",
       "  th, td {\n",
       "    padding: 5px;\n",
       "  }\n",
       "  th {\n",
       "    text-align: left;\n",
       "  }\n",
       "</style><div class='table-result-container'><table class='table-result'><thead style='background-color: white'><tr><th>transaction_id</th><th>store_id</th><th>sale_date</th><th>sales_amount</th></tr></thead><tbody><tr><td>1001</td><td>103</td><td>2025-01-15</td><td>5000</td></tr><tr><td>1002</td><td>104</td><td>2025-01-16</td><td>7000</td></tr><tr><td>1003</td><td>105</td><td>2025-01-17</td><td>6500</td></tr><tr><td>1004</td><td>106</td><td>2025-01-18</td><td>4800</td></tr><tr><td>1005</td><td>107</td><td>2025-01-19</td><td>5300</td></tr><tr><td>1001</td><td>103</td><td>2025-01-15</td><td>5000</td></tr><tr><td>1002</td><td>104</td><td>2025-01-16</td><td>7000</td></tr><tr><td>1003</td><td>105</td><td>2025-01-17</td><td>6500</td></tr><tr><td>1004</td><td>106</td><td>2025-01-18</td><td>4800</td></tr><tr><td>1005</td><td>107</td><td>2025-01-19</td><td>5300</td></tr></tbody></table></div>"
      ]
     },
     "metadata": {
      "application/vnd.databricks.v1+output": {
       "addedWidgets": {},
       "aggData": [],
       "aggError": "",
       "aggOverflow": false,
       "aggSchema": [],
       "aggSeriesLimitReached": false,
       "aggType": "",
       "arguments": {},
       "columnCustomDisplayInfos": {},
       "data": [
        [
         1001,
         103,
         "2025-01-15",
         5000
        ],
        [
         1002,
         104,
         "2025-01-16",
         7000
        ],
        [
         1003,
         105,
         "2025-01-17",
         6500
        ],
        [
         1004,
         106,
         "2025-01-18",
         4800
        ],
        [
         1005,
         107,
         "2025-01-19",
         5300
        ],
        [
         1001,
         103,
         "2025-01-15",
         5000
        ],
        [
         1002,
         104,
         "2025-01-16",
         7000
        ],
        [
         1003,
         105,
         "2025-01-17",
         6500
        ],
        [
         1004,
         106,
         "2025-01-18",
         4800
        ],
        [
         1005,
         107,
         "2025-01-19",
         5300
        ]
       ],
       "datasetInfos": [],
       "dbfsResultPath": null,
       "isJsonSchema": true,
       "metadata": {},
       "overflow": false,
       "plotOptions": {
        "customPlotOptions": {},
        "displayType": "table",
        "pivotAggregation": null,
        "pivotColumns": null,
        "xColumns": null,
        "yColumns": null
       },
       "removedWidgets": [],
       "schema": [
        {
         "metadata": "{}",
         "name": "transaction_id",
         "type": "\"integer\""
        },
        {
         "metadata": "{}",
         "name": "store_id",
         "type": "\"integer\""
        },
        {
         "metadata": "{}",
         "name": "sale_date",
         "type": "\"string\""
        },
        {
         "metadata": "{}",
         "name": "sales_amount",
         "type": "\"integer\""
        }
       ],
       "type": "table"
      }
     },
     "output_type": "display_data"
    }
   ],
   "source": [
    "# Union appends two DataFrames\n",
    "\n",
    "df_1.union(df_1).display()"
   ]
  }
 ],
 "metadata": {
  "application/vnd.databricks.v1+notebook": {
   "computePreferences": null,
   "dashboards": [],
   "environmentMetadata": {
    "base_environment": "",
    "client": "1"
   },
   "language": "python",
   "notebookMetadata": {
    "pythonIndentUnit": 4
   },
   "notebookName": "(VS Code) Combining DataFrames",
   "widgets": {}
  }
 },
 "nbformat": 4,
 "nbformat_minor": 0
}
