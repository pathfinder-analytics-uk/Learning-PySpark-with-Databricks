{
 "cells": [
  {
   "cell_type": "markdown",
   "id": "introduction",
   "metadata": {},
   "source": [
    "## Databricks File System Utilities\n",
    "\n",
    "Databricks’ file system utilities provide a set of commands to manage files and directories in the Databricks File System (DBFS) and other supported storage systems. For example, you can:\n",
    "\n",
    "- Copy files from one directory to another\n",
    "- Return the contents of a file as a UTF-8 encoded string\n",
    "- List the contents of a directory\n",
    "- Remove a file or directory contents"
   ]
  },
  {
   "cell_type": "markdown",
   "id": "983a8bbd",
   "metadata": {},
   "source": [
    "### Links and Resources\n",
    "- [File System Utility (dbutils.fs)](https://learn.microsoft.com/en-us/azure/databricks/dev-tools/databricks-utils#dbutils-fs)\n"
   ]
  },
  {
   "cell_type": "markdown",
   "id": "databricks-fs",
   "metadata": {},
   "source": [
    "### Databricks File System Overview"
   ]
  },
  {
   "cell_type": "code",
   "execution_count": null,
   "id": "list-root-code",
   "metadata": {},
   "outputs": [],
   "source": [
    "# List the contents of the root directory in DBFS\n",
    "dbutils.fs.ls(\"/\")"
   ]
  },
  {
   "cell_type": "code",
   "execution_count": null,
   "id": "list-datasets",
   "metadata": {},
   "outputs": [],
   "source": [
    "# List the contents of the databricks-datasets directory\n",
    "dbutils.fs.ls(\"dbfs:/databricks-datasets/\")"
   ]
  },
  {
   "cell_type": "markdown",
   "id": "display-datasets",
   "metadata": {},
   "source": [
    "For a nicer output, we can embed this in the `display` function:"
   ]
  },
  {
   "cell_type": "code",
   "execution_count": null,
   "id": "display-datasets-code",
   "metadata": {},
   "outputs": [],
   "source": [
    "# Display the contents of databricks-datasets with better formatting\n",
    "display(dbutils.fs.ls(\"dbfs:/databricks-datasets/\"))"
   ]
  },
  {
   "cell_type": "markdown",
   "id": "head-readme",
   "metadata": {},
   "source": [
    "### Displaying File Contents with `head`"
   ]
  },
  {
   "cell_type": "code",
   "execution_count": null,
   "id": "head-readme-code",
   "metadata": {},
   "outputs": [],
   "source": [
    "# Show the first few bytes of the README.md file\n",
    "display(dbutils.fs.head(\"dbfs:/databricks-datasets/README.md\"))"
   ]
  },
  {
   "cell_type": "markdown",
   "id": "copy-file",
   "metadata": {},
   "source": [
    "### Copying a File\n",
    "\n",
    "The `cp` method takes two arguments: the source path and the target path."
   ]
  },
  {
   "cell_type": "code",
   "execution_count": null,
   "id": "copy-file-code",
   "metadata": {},
   "outputs": [],
   "source": [
    "# Copy the README.md file from databricks-datasets to FileStore\n",
    "dbutils.fs.cp(\"dbfs:/databricks-datasets/README.md\", \"dbfs:/FileStore/\")"
   ]
  },
  {
   "cell_type": "markdown",
   "id": "check-filestore",
   "metadata": {},
   "source": [
    "Let's check the contents of the **FileStore** to confirm the copy:"
   ]
  },
  {
   "cell_type": "code",
   "execution_count": null,
   "id": "list-filestore",
   "metadata": {},
   "outputs": [],
   "source": [
    "# Display the contents of FileStore\n",
    "display(dbutils.fs.ls(\"dbfs:/FileStore/\"))"
   ]
  },
  {
   "cell_type": "markdown",
   "id": "delete-file",
   "metadata": {},
   "source": [
    "### Deleting a File\n",
    "\n",
    "To delete the file, we can use the `rm` method:"
   ]
  },
  {
   "cell_type": "code",
   "execution_count": null,
   "id": "delete-file-code",
   "metadata": {},
   "outputs": [],
   "source": [
    "# Remove the file from FileStore (adjust the path if needed)\n",
    "dbutils.fs.rm(\"dbfs:/FileStore/\")"
   ]
  },
  {
   "cell_type": "markdown",
   "id": "copy-directory",
   "metadata": {},
   "source": [
    "### Copying an Entire Directory"
   ]
  },
  {
   "cell_type": "code",
   "execution_count": null,
   "id": "copy-weather-code",
   "metadata": {},
   "outputs": [],
   "source": [
    "# Copy the weather directory recursively\n",
    "dbutils.fs.cp(\"dbfs:/databricks-datasets/weather/\", \"dbfs:/FileStore/weather\", True)"
   ]
  },
  {
   "cell_type": "code",
   "execution_count": null,
   "id": "list-weather",
   "metadata": {},
   "outputs": [],
   "source": [
    "display(dbutils.fs.ls(\"dbfs:/FileStore/\"))"
   ]
  },
  {
   "cell_type": "markdown",
   "id": "delete-directory",
   "metadata": {},
   "source": [
    "### Deleting a Directory"
   ]
  },
  {
   "cell_type": "code",
   "execution_count": null,
   "id": "delete-weather-recursive",
   "metadata": {},
   "outputs": [],
   "source": [
    "# Delete the weather directory and its contents recursively\n",
    "dbutils.fs.rm(\"dbfs:/FileStore/weather\", True)"
   ]
  }
 ],
 "metadata": {
  "kernelspec": {
   "display_name": "Python 3",
   "language": "python",
   "name": "python3"
  },
  "language_info": {
   "name": "python",
   "version": "3.x"
  }
 },
 "nbformat": 4,
 "nbformat_minor": 5
}
