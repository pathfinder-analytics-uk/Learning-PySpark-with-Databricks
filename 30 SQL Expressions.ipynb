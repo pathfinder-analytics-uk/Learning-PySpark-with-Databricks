{
 "cells": [
  {
   "cell_type": "markdown",
   "metadata": {
    "application/vnd.databricks.v1+cell": {
     "cellMetadata": {},
     "inputWidgets": {},
     "nuid": "ada54369-9a11-47ea-8720-7fdd7180f7b4",
     "showTitle": false,
     "tableResultSettingsMap": {},
     "title": ""
    }
   },
   "source": [
    "### SQL Expressions\n",
    "`expr()`: A function that converts a SQL expression string into a Spark Column.\n",
    "\n",
    "`selectExpr()`: A DataFrame method that selects and transforms columns using SQL expression strings in one go."
   ]
  },
  {
   "cell_type": "markdown",
   "metadata": {
    "application/vnd.databricks.v1+cell": {
     "cellMetadata": {},
     "inputWidgets": {},
     "nuid": "e8172d27-b8f0-4366-aca2-e1e45361cb3b",
     "showTitle": false,
     "tableResultSettingsMap": {},
     "title": ""
    }
   },
   "source": [
    "### Links and Resources\n",
    "- [expr()](https://spark.apache.org/docs/latest/api/python/reference/pyspark.sql/api/pyspark.sql.functions.expr.html)\n",
    "- [selectExpr()](https://spark.apache.org/docs/latest/api/python/reference/pyspark.sql/api/pyspark.sql.DataFrame.selectExpr.html?highlight=selectexpr#pyspark.sql.DataFrame.selectExpr)"
   ]
  },
  {
   "cell_type": "code",
   "execution_count": 0,
   "metadata": {
    "application/vnd.databricks.v1+cell": {
     "cellMetadata": {
      "byteLimit": 2048000,
      "rowLimit": 10000
     },
     "inputWidgets": {},
     "nuid": "6f74e055-aa65-4400-b726-a7663d7c06bf",
     "showTitle": false,
     "tableResultSettingsMap": {},
     "title": ""
    }
   },
   "outputs": [
    {
     "output_type": "stream",
     "name": "stdout",
     "output_type": "stream",
     "text": [
      "+------------+---------+---------------+----------+--------+\n|country_name|continent|     sub_region|population|area_km2|\n+------------+---------+---------------+----------+--------+\n| Afghanistan|     Asia|  Southern Asia|  38928346|  652230|\n|     Albania|   Europe|Southern Europe|   2877797|   28748|\n|     Algeria|   Africa|Northern Africa|  43851044| 2381741|\n|     Andorra|   Europe|Southern Europe|     77265|     468|\n|      Angola|   Africa|  Middle Africa|  32866272| 1246700|\n+------------+---------+---------------+----------+--------+\nonly showing top 5 rows\n\n"
     ]
    }
   ],
   "source": [
    "from pyspark.sql.types import StructType, StructField, StringType, LongType, IntegerType\n",
    "\n",
    "# Refined schema to include 'sub_region'\n",
    "schema = StructType([\n",
    "    StructField(\"country_name\", StringType(), True),\n",
    "    StructField(\"continent\", StringType(), True),\n",
    "    StructField(\"sub_region\", StringType(), True),\n",
    "    StructField(\"population\", LongType(), True),\n",
    "    StructField(\"area_km2\", IntegerType(), True)\n",
    "])\n",
    "\n",
    "# Refactor your data to include 'sub_region' for each country\n",
    "data = [\n",
    "    (\"Afghanistan\", \"Asia\", \"Southern Asia\", 38928346, 652230),\n",
    "    (\"Albania\", \"Europe\", \"Southern Europe\", 2877797, 28748),\n",
    "    (\"Algeria\", \"Africa\", \"Northern Africa\", 43851044, 2381741),\n",
    "    (\"Andorra\", \"Europe\", \"Southern Europe\", 77265, 468),\n",
    "    (\"Angola\", \"Africa\", \"Middle Africa\", 32866272, 1246700),\n",
    "    (\"Antigua and Barbuda\", \"North America\", \"Caribbean\", 97929, 442),\n",
    "    (\"Argentina\", \"South America\", \"South America\", 45376763, 2780400),\n",
    "    (\"Armenia\", \"Asia\", \"Western Asia\", 2963243, 29743),\n",
    "    (\"Australia\", \"Oceania\", \"Australia and New Zealand\", 25649984, 7692024),\n",
    "    (\"Austria\", \"Europe\", \"Western Europe\", 9006398, 83879),\n",
    "    (\"Azerbaijan\", \"Asia\", \"Western Asia\", 10139177, 86600),\n",
    "    (\"Bahamas\", \"North America\", \"Caribbean\", 393244, 13943),\n",
    "    (\"Bahrain\", \"Asia\", \"Western Asia\", 1701575, 765),\n",
    "    (\"Bangladesh\", \"Asia\", \"Southern Asia\", 164689383, 147570),\n",
    "    (\"Barbados\", \"North America\", \"Caribbean\", 287375, 430),\n",
    "    (\"Belarus\", \"Europe\", \"Eastern Europe\", 9449323, 207600),\n",
    "    (\"Belgium\", \"Europe\", \"Western Europe\", 11589623, 30528),\n",
    "    (\"Belize\", \"North America\", \"Central America\", 397621, 22966),\n",
    "    (\"Benin\", \"Africa\", \"Western Africa\", 12123200, 114763),\n",
    "    (\"Bhutan\", \"Asia\", \"Southern Asia\", 771608, 38394),\n",
    "    (\"Bolivia\", \"South America\", \"South America\", 11673021, 1098581),\n",
    "    (\"Bosnia and Herzegovina\", \"Europe\", \"Southern Europe\", 3280819, 51129),\n",
    "    (\"Botswana\", \"Africa\", \"Southern Africa\", 2351627, 581730),\n",
    "    (\"Brazil\", \"South America\", \"South America\", 212559417, 8515767),\n",
    "    (\"Brunei\", \"Asia\", \"South-Eastern Asia\", 437479, 5765),\n",
    "    (\"Bulgaria\", \"Europe\", \"Eastern Europe\", 6948445, 110994),\n",
    "    (\"Burkina Faso\", \"Africa\", \"Western Africa\", 20903273, 274200),\n",
    "    (\"Burundi\", \"Africa\", \"Eastern Africa\", 11890784, 27834),\n",
    "    (\"Cabo Verde\", \"Africa\", \"Western Africa\", 555987, 4033),\n",
    "    (\"Cambodia\", \"Asia\", \"South-Eastern Asia\", 16718965, 181035),\n",
    "    (\"Cameroon\", \"Africa\", \"Middle Africa\", 26545863, 475442),\n",
    "    (\"Canada\", \"North America\", \"Northern America\", 37742154, 9984670),\n",
    "    (\"Central African Republic\", \"Africa\", \"Middle Africa\", 4829767, 622984),\n",
    "    (\"Chad\", \"Africa\", \"Middle Africa\", 16425864, 1284000),\n",
    "    (\"Chile\", \"South America\", \"South America\", 19116201, 756102),\n",
    "    (\"China\", \"Asia\", \"Eastern Asia\", 1439323776, 9596961),\n",
    "    (\"Colombia\", \"South America\", \"South America\", 50882891, 1141748),\n",
    "    (\"Comoros\", \"Africa\", \"Eastern Africa\", 869601, 1862),\n",
    "    (\"Congo, Democratic Republic of the\", \"Africa\", \"Middle Africa\", 89561403, 2344858),\n",
    "    (\"Congo, Republic of the\", \"Africa\", \"Middle Africa\", 5518087, 342000),\n",
    "    (\"Costa Rica\", \"North America\", \"Central America\", 5094118, 51100),\n",
    "    (\"Croatia\", \"Europe\", \"Southern Europe\", 4105267, 56594),\n",
    "    (\"Cuba\", \"North America\", \"Caribbean\", 11326616, 109884),\n",
    "    (\"Côte d'Ivoire\", \"Africa\", \"Western Africa\", 26378274, 322463),\n",
    "    (\"Cyprus\", \"Europe\", \"Western Asia\", 1207359, 9251),\n",
    "    (\"Czech Republic\", \"Europe\", \"Eastern Europe\", 10708981, 78866),\n",
    "    (\"Denmark\", \"Europe\", \"Northern Europe\", 5792202, 42933),\n",
    "    (\"Djibouti\", \"Africa\", \"Eastern Africa\", 988000, 23200),\n",
    "    (\"Dominica\", \"North America\", \"Caribbean\", 71986, 751),\n",
    "    (\"Dominican Republic\", \"North America\", \"Caribbean\", 10847910, 48671),\n",
    "    (\"Ecuador\", \"South America\", \"South America\", 17643054, 283561),\n",
    "    (\"Egypt\", \"Africa\", \"Northern Africa\", 102334404, 1002450),\n",
    "    (\"El Salvador\", \"North America\", \"Central America\", 6486205, 21041),\n",
    "    (\"Equatorial Guinea\", \"Africa\", \"Middle Africa\", 1402985, 28051),\n",
    "    (\"Eritrea\", \"Africa\", \"Eastern Africa\", 3546421, 117600),\n",
    "    (\"Estonia\", \"Europe\", \"Northern Europe\", 1331796, 45227),\n",
    "    (\"Eswatini\", \"Africa\", \"Southern Africa\", 1160164, 17364),\n",
    "    (\"Ethiopia\", \"Africa\", \"Eastern Africa\", 114963588, 1104300),\n",
    "    (\"Fiji\", \"Oceania\", \"Melanesia\", 896444, 18274),\n",
    "    (\"Finland\", \"Europe\", \"Northern Europe\", 5540720, 338424),\n",
    "    (\"France\", \"Europe\", \"Western Europe\", 65273511, 551695),\n",
    "    (\"Gabon\", \"Africa\", \"Middle Africa\", 2225728, 267668),\n",
    "    (\"Gambia\", \"Africa\", \"Western Africa\", 2416668, 11295),\n",
    "    (\"Georgia\", \"Asia\", \"Western Asia\", 3989167, 69700),\n",
    "    (\"Germany\", \"Europe\", \"Western Europe\", 83783942, 357022),\n",
    "    (\"Ghana\", \"Africa\", \"Western Africa\", 31072940, 238533),\n",
    "    (\"Greece\", \"Europe\", \"Southern Europe\", 10423054, 131957),\n",
    "    (\"Grenada\", \"North America\", \"Caribbean\", 112523, 344),\n",
    "    (\"Guatemala\", \"North America\", \"Central America\", 17915568, 108889),\n",
    "    (\"Guinea\", \"Africa\", \"Western Africa\", 13132795, 245857),\n",
    "    (\"Guinea-Bissau\", \"Africa\", \"Western Africa\", 1968001, 36125),\n",
    "    (\"Guyana\", \"South America\", \"South America\", 786552, 214969),\n",
    "    (\"Haiti\", \"North America\", \"Caribbean\", 11402528, 27750),\n",
    "    (\"Holy See\", \"Europe\", \"Southern Europe\", 801, 0),\n",
    "    (\"Honduras\", \"North America\", \"Central America\", 9904607, 112492),\n",
    "    (\"Hungary\", \"Europe\", \"Eastern Europe\", 9660351, 93030),\n",
    "    (\"Iceland\", \"Europe\", \"Northern Europe\", 341243, 103000),\n",
    "    (\"India\", \"Asia\", \"Southern Asia\", 1380004385, 3287263),\n",
    "    (\"Indonesia\", \"Asia\", \"South-Eastern Asia\", 273523615, 1904569),\n",
    "    (\"Iran\", \"Asia\", \"Southern Asia\", 83992949, 1648195),\n",
    "    (\"Iraq\", \"Asia\", \"Western Asia\", 40222493, 438317),\n",
    "    (\"Ireland\", \"Europe\", \"Northern Europe\", 4937786, 70273),\n",
    "    (\"Israel\", \"Asia\", \"Western Asia\", 9053300, 20770),\n",
    "    (\"Italy\", \"Europe\", \"Southern Europe\", 60461826, 301340),\n",
    "    (\"Jamaica\", \"North America\", \"Caribbean\", 2961167, 10991),\n",
    "    (\"Japan\", \"Asia\", \"Eastern Asia\", 126476461, 377975),\n",
    "    (\"Jordan\", \"Asia\", \"Western Asia\", 10203134, 89342),\n",
    "    (\"Kazakhstan\", \"Asia\", \"Central Asia\", 18776707, 2724900),\n",
    "    (\"Kenya\", \"Africa\", \"Eastern Africa\", 53771296, 580367),\n",
    "    (\"Kiribati\", \"Oceania\", \"Micronesia\", 119449, 811),\n",
    "    (\"Kuwait\", \"Asia\", \"Western Asia\", 4270571, 17818),\n",
    "    (\"Kyrgyzstan\", \"Asia\", \"Central Asia\", 6524195, 199951),\n",
    "    (\"Laos\", \"Asia\", \"South-Eastern Asia\", 7275560, 236800),\n",
    "    (\"Latvia\", \"Europe\", \"Northern Europe\", 1886198, 64559),\n",
    "    (\"Lebanon\", \"Asia\", \"Western Asia\", 6825445, 10452),\n",
    "    (\"Lesotho\", \"Africa\", \"Southern Africa\", 2142249, 30355),\n",
    "    (\"Liberia\", \"Africa\", \"Western Africa\", 5073296, 111369),\n",
    "    (\"Libya\", \"Africa\", \"Northern Africa\", 6871292, 1759540),\n",
    "    (\"Liechtenstein\", \"Europe\", \"Western Europe\", 38128, 160),\n",
    "    (\"Lithuania\", \"Europe\", \"Northern Europe\", 2722289, 65300),\n",
    "    (\"Luxembourg\", \"Europe\", \"Western Europe\", 634814, 2586),\n",
    "    (\"Madagascar\", \"Africa\", \"Eastern Africa\", 27691018, 587041),\n",
    "    (\"Malawi\", \"Africa\", \"Eastern Africa\", 19129952, 118484),\n",
    "    (\"Malaysia\", \"Asia\", \"South-Eastern Asia\", 32365999, 330803),\n",
    "    (\"Maldives\", \"Asia\", \"Southern Asia\", 540544, 300),\n",
    "    (\"Mali\", \"Africa\", \"Western Africa\", 20250833, 1240192),\n",
    "    (\"Malta\", \"Europe\", \"Southern Europe\", 441543, 316),\n",
    "    (\"Marshall Islands\", \"Oceania\", \"Micronesia\", 59190, 181),\n",
    "    (\"Mauritania\", \"Africa\", \"Western Africa\", 4649658, 1030700),\n",
    "    (\"Mauritius\", \"Africa\", \"Eastern Africa\", 1271768, 2040),\n",
    "    (\"Mexico\", \"North America\", \"Central America\", 128932753, 1964375),\n",
    "    (\"Micronesia\", \"Oceania\", \"Micronesia\", 115023, 702),\n",
    "    (\"Moldova\", \"Europe\", \"Eastern Europe\", 2640438, 33851),\n",
    "    (\"Monaco\", \"Europe\", \"Western Europe\", 39242, 2),\n",
    "    (\"Mongolia\", \"Asia\", \"Eastern Asia\", 3278290, 1564110),\n",
    "    (\"Montenegro\", \"Europe\", \"Southern Europe\", 622359, 13812),\n",
    "    (\"Morocco\", \"Africa\", \"Northern Africa\", 36910560, 446550),\n",
    "    (\"Mozambique\", \"Africa\", \"Eastern Africa\", 31255435, 801590),\n",
    "    (\"Myanmar\", \"Asia\", \"South-Eastern Asia\", 54409800, 676578),\n",
    "    (\"Namibia\", \"Africa\", \"Southern Africa\", 2540905, 824292),\n",
    "    (\"Nauru\", \"Oceania\", \"Micronesia\", 10824, 21),\n",
    "    (\"Nepal\", \"Asia\", \"Southern Asia\", 29136808, 147181),\n",
    "    (\"Netherlands\", \"Europe\", \"Western Europe\", 17134872, 41543),\n",
    "    (\"New Zealand\", \"Oceania\", \"Australia and New Zealand\", 5084300, 268838),\n",
    "    (\"Nicaragua\", \"North America\", \"Central America\", 6624554, 130373),\n",
    "    (\"Niger\", \"Africa\", \"Western Africa\", 24206644, 1267000),\n",
    "    (\"Nigeria\", \"Africa\", \"Western Africa\", 206139589, 923768),\n",
    "    (\"North Korea\", \"Asia\", \"Eastern Asia\", 25778816, 120538),\n",
    "    (\"North Macedonia\", \"Europe\", \"Southern Europe\", 2083374, 25713),\n",
    "    (\"Norway\", \"Europe\", \"Northern Europe\", 5421241, 385207),\n",
    "    (\"Oman\", \"Asia\", \"Western Asia\", 5106626, 309500),\n",
    "    (\"Pakistan\", \"Asia\", \"Southern Asia\", 220892340, 881913),\n",
    "    (\"Palau\", \"Oceania\", \"Micronesia\", 18094, 459),\n",
    "    (\"Palestine, State of\", \"Asia\", \"Western Asia\", 5101414, 6020),\n",
    "    (\"Panama\", \"North America\", \"Central America\", 4314767, 75417),\n",
    "    (\"Papua New Guinea\", \"Oceania\", \"Melanesia\", 8947024, 462840),\n",
    "    (\"Paraguay\", \"South America\", \"South America\", 7132538, 406752),\n",
    "    (\"Peru\", \"South America\", \"South America\", 32971854, 1285216),\n",
    "    (\"Philippines\", \"Asia\", \"South-Eastern Asia\", 109581078, 300000),\n",
    "    (\"Poland\", \"Europe\", \"Eastern Europe\", 37846611, 312696),\n",
    "    (\"Portugal\", \"Europe\", \"Southern Europe\", 10196709, 92090),\n",
    "    (\"Qatar\", \"Asia\", \"Western Asia\", 2881053, 11586),\n",
    "    (\"Romania\", \"Europe\", \"Eastern Europe\", 19237691, 238391),\n",
    "    (\"Russia\", \"Europe\", \"Eastern Europe\", 144478050, 17098242),\n",
    "    (\"Rwanda\", \"Africa\", \"Eastern Africa\", 12952218, 26338),\n",
    "    (\"Saint Kitts and Nevis\", \"North America\", \"Caribbean\", 53192, 261),\n",
    "    (\"Saint Lucia\", \"North America\", \"Caribbean\", 183627, 616),\n",
    "    (\"Saint Vincent and the Grenadines\", \"North America\", \"Caribbean\", 110940, 389),\n",
    "    (\"Samoa\", \"Oceania\", \"Polynesia\", 198414, 2842),\n",
    "    (\"San Marino\", \"Europe\", \"Southern Europe\", 33938, 61),\n",
    "    (\"Sao Tome and Principe\", \"Africa\", \"Middle Africa\", 219159, 964),\n",
    "    (\"Saudi Arabia\", \"Asia\", \"Western Asia\", 34813871, 2149690),\n",
    "    (\"Senegal\", \"Africa\", \"Western Africa\", 16743927, 196722),\n",
    "    (\"Serbia\", \"Europe\", \"Southern Europe\", 6944975, 88361),\n",
    "    (\"Seychelles\", \"Africa\", \"Eastern Africa\", 98347, 455),\n",
    "    (\"Sierra Leone\", \"Africa\", \"Western Africa\", 7976983, 71740),\n",
    "    (\"Singapore\", \"Asia\", \"South-Eastern Asia\", 5850342, 719),\n",
    "    (\"Slovakia\", \"Europe\", \"Eastern Europe\", 5459642, 49037),\n",
    "    (\"Slovenia\", \"Europe\", \"Southern Europe\", 2078938, 20273),\n",
    "    (\"Solomon Islands\", \"Oceania\", \"Melanesia\", 686884, 28896),\n",
    "    (\"Somalia\", \"Africa\", \"Eastern Africa\", 15893222, 637657),\n",
    "    (\"South Africa\", \"Africa\", \"Southern Africa\", 59308690, 1221037),\n",
    "    (\"South Korea\", \"Asia\", \"Eastern Asia\", 51269185, 100210),\n",
    "    (\"South Sudan\", \"Africa\", \"Eastern Africa\", 11193725, 644329),\n",
    "    (\"Spain\", \"Europe\", \"Southern Europe\", 46754778, 505992),\n",
    "    (\"Sri Lanka\", \"Asia\", \"Southern Asia\", 21413249, 65610),\n",
    "    (\"Sudan\", \"Africa\", \"Northern Africa\", 43849260, 1861484),\n",
    "    (\"Suriname\", \"South America\", \"South America\", 586634, 163820),\n",
    "    (\"Sweden\", \"Europe\", \"Northern Europe\", 10099265, 450295),\n",
    "    (\"Switzerland\", \"Europe\", \"Western Europe\", 8654622, 41285),\n",
    "    (\"Syria\", \"Asia\", \"Western Asia\", 17500657, 185180),\n",
    "    (\"Tajikistan\", \"Asia\", \"Central Asia\", 9537645, 143100),\n",
    "    (\"Tanzania\", \"Africa\", \"Eastern Africa\", 59734218, 945087),\n",
    "    (\"Thailand\", \"Asia\", \"South-Eastern Asia\", 69799978, 513120),\n",
    "    (\"Timor-Leste\", \"Asia\", \"South-Eastern Asia\", 1318445, 14874),\n",
    "    (\"Togo\", \"Africa\", \"Western Africa\", 8278724, 56785),\n",
    "    (\"Tonga\", \"Oceania\", \"Polynesia\", 105695, 747),\n",
    "    (\"Trinidad and Tobago\", \"North America\", \"Caribbean\", 1399488, 5130),\n",
    "    (\"Tunisia\", \"Africa\", \"Northern Africa\", 11818619, 163610),\n",
    "    (\"Turkey\", \"Asia\", \"Western Asia\", 84339067, 783562),\n",
    "    (\"Turkmenistan\", \"Asia\", \"Central Asia\", 6031200, 488100),\n",
    "    (\"Tuvalu\", \"Oceania\", \"Polynesia\", 11792, 26),\n",
    "    (\"Uganda\", \"Africa\", \"Eastern Africa\", 45741007, 241550),\n",
    "    (\"Ukraine\", \"Europe\", \"Eastern Europe\", 43733762, 603628),\n",
    "    (\"United Arab Emirates\", \"Asia\", \"Western Asia\", 9890400, 83600),\n",
    "    (\"United Kingdom\", \"Europe\", \"Northern Europe\", 67886011, 243610),\n",
    "    (\"United States\", \"North America\", \"Northern America\", 331002651, 9833520),\n",
    "    (\"Uruguay\", \"South America\", \"South America\", 3473730, 176215),\n",
    "    (\"Uzbekistan\", \"Asia\", \"Central Asia\", 33469203, 447400),\n",
    "    (\"Vanuatu\", \"Oceania\", \"Melanesia\", 307145, 12189),\n",
    "    (\"Venezuela\", \"South America\", \"South America\", 28435940, 916445),\n",
    "    (\"Vietnam\", \"Asia\", \"South-Eastern Asia\", 97338579, 331212),\n",
    "    (\"Yemen\", \"Asia\", \"Western Asia\", 29825964, 527968),\n",
    "    (\"Zambia\", \"Africa\", \"Eastern Africa\", 18383955, 752612),\n",
    "    (\"Zimbabwe\", \"Africa\", \"Eastern Africa\", 14862924, 390757)\n",
    "]\n",
    "\n",
    "# Create the DataFrame using the new schema (with sub_region)\n",
    "df = spark.createDataFrame(data, schema)\n",
    "\n",
    "# Display the DataFrame\n",
    "df.show(5)"
   ]
  },
  {
   "cell_type": "code",
   "execution_count": 0,
   "metadata": {
    "application/vnd.databricks.v1+cell": {
     "cellMetadata": {
      "byteLimit": 2048000,
      "rowLimit": 10000
     },
     "inputWidgets": {},
     "nuid": "6179f1ca-1900-4860-acd8-6ea692da2809",
     "showTitle": false,
     "tableResultSettingsMap": {},
     "title": ""
    }
   },
   "outputs": [],
   "source": [
    "from pyspark.sql.functions import expr, upper"
   ]
  },
  {
   "cell_type": "code",
   "execution_count": 0,
   "metadata": {
    "application/vnd.databricks.v1+cell": {
     "cellMetadata": {
      "byteLimit": 2048000,
      "rowLimit": 10000
     },
     "inputWidgets": {},
     "nuid": "7b416468-3784-457d-868a-e16e8e6f40ae",
     "showTitle": false,
     "tableResultSettingsMap": {},
     "title": ""
    }
   },
   "outputs": [
    {
     "output_type": "display_data",
     "data": {
      "text/html": [
       "<style scoped>\n",
       "  .table-result-container {\n",
       "    max-height: 300px;\n",
       "    overflow: auto;\n",
       "  }\n",
       "  table, th, td {\n",
       "    border: 1px solid black;\n",
       "    border-collapse: collapse;\n",
       "  }\n",
       "  th, td {\n",
       "    padding: 5px;\n",
       "  }\n",
       "  th {\n",
       "    text-align: left;\n",
       "  }\n",
       "</style><div class='table-result-container'><table class='table-result'><thead style='background-color: white'><tr><th>country_name</th><th>country_name_upper</th></tr></thead><tbody><tr><td>Afghanistan</td><td>AFGHANISTAN</td></tr><tr><td>Albania</td><td>ALBANIA</td></tr><tr><td>Algeria</td><td>ALGERIA</td></tr><tr><td>Andorra</td><td>ANDORRA</td></tr><tr><td>Angola</td><td>ANGOLA</td></tr><tr><td>Antigua and Barbuda</td><td>ANTIGUA AND BARBUDA</td></tr><tr><td>Argentina</td><td>ARGENTINA</td></tr><tr><td>Armenia</td><td>ARMENIA</td></tr><tr><td>Australia</td><td>AUSTRALIA</td></tr><tr><td>Austria</td><td>AUSTRIA</td></tr><tr><td>Azerbaijan</td><td>AZERBAIJAN</td></tr><tr><td>Bahamas</td><td>BAHAMAS</td></tr><tr><td>Bahrain</td><td>BAHRAIN</td></tr><tr><td>Bangladesh</td><td>BANGLADESH</td></tr><tr><td>Barbados</td><td>BARBADOS</td></tr><tr><td>Belarus</td><td>BELARUS</td></tr><tr><td>Belgium</td><td>BELGIUM</td></tr><tr><td>Belize</td><td>BELIZE</td></tr><tr><td>Benin</td><td>BENIN</td></tr><tr><td>Bhutan</td><td>BHUTAN</td></tr><tr><td>Bolivia</td><td>BOLIVIA</td></tr><tr><td>Bosnia and Herzegovina</td><td>BOSNIA AND HERZEGOVINA</td></tr><tr><td>Botswana</td><td>BOTSWANA</td></tr><tr><td>Brazil</td><td>BRAZIL</td></tr><tr><td>Brunei</td><td>BRUNEI</td></tr><tr><td>Bulgaria</td><td>BULGARIA</td></tr><tr><td>Burkina Faso</td><td>BURKINA FASO</td></tr><tr><td>Burundi</td><td>BURUNDI</td></tr><tr><td>Cabo Verde</td><td>CABO VERDE</td></tr><tr><td>Cambodia</td><td>CAMBODIA</td></tr><tr><td>Cameroon</td><td>CAMEROON</td></tr><tr><td>Canada</td><td>CANADA</td></tr><tr><td>Central African Republic</td><td>CENTRAL AFRICAN REPUBLIC</td></tr><tr><td>Chad</td><td>CHAD</td></tr><tr><td>Chile</td><td>CHILE</td></tr><tr><td>China</td><td>CHINA</td></tr><tr><td>Colombia</td><td>COLOMBIA</td></tr><tr><td>Comoros</td><td>COMOROS</td></tr><tr><td>Congo, Democratic Republic of the</td><td>CONGO, DEMOCRATIC REPUBLIC OF THE</td></tr><tr><td>Congo, Republic of the</td><td>CONGO, REPUBLIC OF THE</td></tr><tr><td>Costa Rica</td><td>COSTA RICA</td></tr><tr><td>Croatia</td><td>CROATIA</td></tr><tr><td>Cuba</td><td>CUBA</td></tr><tr><td>Côte d'Ivoire</td><td>CÔTE D'IVOIRE</td></tr><tr><td>Cyprus</td><td>CYPRUS</td></tr><tr><td>Czech Republic</td><td>CZECH REPUBLIC</td></tr><tr><td>Denmark</td><td>DENMARK</td></tr><tr><td>Djibouti</td><td>DJIBOUTI</td></tr><tr><td>Dominica</td><td>DOMINICA</td></tr><tr><td>Dominican Republic</td><td>DOMINICAN REPUBLIC</td></tr><tr><td>Ecuador</td><td>ECUADOR</td></tr><tr><td>Egypt</td><td>EGYPT</td></tr><tr><td>El Salvador</td><td>EL SALVADOR</td></tr><tr><td>Equatorial Guinea</td><td>EQUATORIAL GUINEA</td></tr><tr><td>Eritrea</td><td>ERITREA</td></tr><tr><td>Estonia</td><td>ESTONIA</td></tr><tr><td>Eswatini</td><td>ESWATINI</td></tr><tr><td>Ethiopia</td><td>ETHIOPIA</td></tr><tr><td>Fiji</td><td>FIJI</td></tr><tr><td>Finland</td><td>FINLAND</td></tr><tr><td>France</td><td>FRANCE</td></tr><tr><td>Gabon</td><td>GABON</td></tr><tr><td>Gambia</td><td>GAMBIA</td></tr><tr><td>Georgia</td><td>GEORGIA</td></tr><tr><td>Germany</td><td>GERMANY</td></tr><tr><td>Ghana</td><td>GHANA</td></tr><tr><td>Greece</td><td>GREECE</td></tr><tr><td>Grenada</td><td>GRENADA</td></tr><tr><td>Guatemala</td><td>GUATEMALA</td></tr><tr><td>Guinea</td><td>GUINEA</td></tr><tr><td>Guinea-Bissau</td><td>GUINEA-BISSAU</td></tr><tr><td>Guyana</td><td>GUYANA</td></tr><tr><td>Haiti</td><td>HAITI</td></tr><tr><td>Holy See</td><td>HOLY SEE</td></tr><tr><td>Honduras</td><td>HONDURAS</td></tr><tr><td>Hungary</td><td>HUNGARY</td></tr><tr><td>Iceland</td><td>ICELAND</td></tr><tr><td>India</td><td>INDIA</td></tr><tr><td>Indonesia</td><td>INDONESIA</td></tr><tr><td>Iran</td><td>IRAN</td></tr><tr><td>Iraq</td><td>IRAQ</td></tr><tr><td>Ireland</td><td>IRELAND</td></tr><tr><td>Israel</td><td>ISRAEL</td></tr><tr><td>Italy</td><td>ITALY</td></tr><tr><td>Jamaica</td><td>JAMAICA</td></tr><tr><td>Japan</td><td>JAPAN</td></tr><tr><td>Jordan</td><td>JORDAN</td></tr><tr><td>Kazakhstan</td><td>KAZAKHSTAN</td></tr><tr><td>Kenya</td><td>KENYA</td></tr><tr><td>Kiribati</td><td>KIRIBATI</td></tr><tr><td>Kuwait</td><td>KUWAIT</td></tr><tr><td>Kyrgyzstan</td><td>KYRGYZSTAN</td></tr><tr><td>Laos</td><td>LAOS</td></tr><tr><td>Latvia</td><td>LATVIA</td></tr><tr><td>Lebanon</td><td>LEBANON</td></tr><tr><td>Lesotho</td><td>LESOTHO</td></tr><tr><td>Liberia</td><td>LIBERIA</td></tr><tr><td>Libya</td><td>LIBYA</td></tr><tr><td>Liechtenstein</td><td>LIECHTENSTEIN</td></tr><tr><td>Lithuania</td><td>LITHUANIA</td></tr><tr><td>Luxembourg</td><td>LUXEMBOURG</td></tr><tr><td>Madagascar</td><td>MADAGASCAR</td></tr><tr><td>Malawi</td><td>MALAWI</td></tr><tr><td>Malaysia</td><td>MALAYSIA</td></tr><tr><td>Maldives</td><td>MALDIVES</td></tr><tr><td>Mali</td><td>MALI</td></tr><tr><td>Malta</td><td>MALTA</td></tr><tr><td>Marshall Islands</td><td>MARSHALL ISLANDS</td></tr><tr><td>Mauritania</td><td>MAURITANIA</td></tr><tr><td>Mauritius</td><td>MAURITIUS</td></tr><tr><td>Mexico</td><td>MEXICO</td></tr><tr><td>Micronesia</td><td>MICRONESIA</td></tr><tr><td>Moldova</td><td>MOLDOVA</td></tr><tr><td>Monaco</td><td>MONACO</td></tr><tr><td>Mongolia</td><td>MONGOLIA</td></tr><tr><td>Montenegro</td><td>MONTENEGRO</td></tr><tr><td>Morocco</td><td>MOROCCO</td></tr><tr><td>Mozambique</td><td>MOZAMBIQUE</td></tr><tr><td>Myanmar</td><td>MYANMAR</td></tr><tr><td>Namibia</td><td>NAMIBIA</td></tr><tr><td>Nauru</td><td>NAURU</td></tr><tr><td>Nepal</td><td>NEPAL</td></tr><tr><td>Netherlands</td><td>NETHERLANDS</td></tr><tr><td>New Zealand</td><td>NEW ZEALAND</td></tr><tr><td>Nicaragua</td><td>NICARAGUA</td></tr><tr><td>Niger</td><td>NIGER</td></tr><tr><td>Nigeria</td><td>NIGERIA</td></tr><tr><td>North Korea</td><td>NORTH KOREA</td></tr><tr><td>North Macedonia</td><td>NORTH MACEDONIA</td></tr><tr><td>Norway</td><td>NORWAY</td></tr><tr><td>Oman</td><td>OMAN</td></tr><tr><td>Pakistan</td><td>PAKISTAN</td></tr><tr><td>Palau</td><td>PALAU</td></tr><tr><td>Palestine, State of</td><td>PALESTINE, STATE OF</td></tr><tr><td>Panama</td><td>PANAMA</td></tr><tr><td>Papua New Guinea</td><td>PAPUA NEW GUINEA</td></tr><tr><td>Paraguay</td><td>PARAGUAY</td></tr><tr><td>Peru</td><td>PERU</td></tr><tr><td>Philippines</td><td>PHILIPPINES</td></tr><tr><td>Poland</td><td>POLAND</td></tr><tr><td>Portugal</td><td>PORTUGAL</td></tr><tr><td>Qatar</td><td>QATAR</td></tr><tr><td>Romania</td><td>ROMANIA</td></tr><tr><td>Russia</td><td>RUSSIA</td></tr><tr><td>Rwanda</td><td>RWANDA</td></tr><tr><td>Saint Kitts and Nevis</td><td>SAINT KITTS AND NEVIS</td></tr><tr><td>Saint Lucia</td><td>SAINT LUCIA</td></tr><tr><td>Saint Vincent and the Grenadines</td><td>SAINT VINCENT AND THE GRENADINES</td></tr><tr><td>Samoa</td><td>SAMOA</td></tr><tr><td>San Marino</td><td>SAN MARINO</td></tr><tr><td>Sao Tome and Principe</td><td>SAO TOME AND PRINCIPE</td></tr><tr><td>Saudi Arabia</td><td>SAUDI ARABIA</td></tr><tr><td>Senegal</td><td>SENEGAL</td></tr><tr><td>Serbia</td><td>SERBIA</td></tr><tr><td>Seychelles</td><td>SEYCHELLES</td></tr><tr><td>Sierra Leone</td><td>SIERRA LEONE</td></tr><tr><td>Singapore</td><td>SINGAPORE</td></tr><tr><td>Slovakia</td><td>SLOVAKIA</td></tr><tr><td>Slovenia</td><td>SLOVENIA</td></tr><tr><td>Solomon Islands</td><td>SOLOMON ISLANDS</td></tr><tr><td>Somalia</td><td>SOMALIA</td></tr><tr><td>South Africa</td><td>SOUTH AFRICA</td></tr><tr><td>South Korea</td><td>SOUTH KOREA</td></tr><tr><td>South Sudan</td><td>SOUTH SUDAN</td></tr><tr><td>Spain</td><td>SPAIN</td></tr><tr><td>Sri Lanka</td><td>SRI LANKA</td></tr><tr><td>Sudan</td><td>SUDAN</td></tr><tr><td>Suriname</td><td>SURINAME</td></tr><tr><td>Sweden</td><td>SWEDEN</td></tr><tr><td>Switzerland</td><td>SWITZERLAND</td></tr><tr><td>Syria</td><td>SYRIA</td></tr><tr><td>Tajikistan</td><td>TAJIKISTAN</td></tr><tr><td>Tanzania</td><td>TANZANIA</td></tr><tr><td>Thailand</td><td>THAILAND</td></tr><tr><td>Timor-Leste</td><td>TIMOR-LESTE</td></tr><tr><td>Togo</td><td>TOGO</td></tr><tr><td>Tonga</td><td>TONGA</td></tr><tr><td>Trinidad and Tobago</td><td>TRINIDAD AND TOBAGO</td></tr><tr><td>Tunisia</td><td>TUNISIA</td></tr><tr><td>Turkey</td><td>TURKEY</td></tr><tr><td>Turkmenistan</td><td>TURKMENISTAN</td></tr><tr><td>Tuvalu</td><td>TUVALU</td></tr><tr><td>Uganda</td><td>UGANDA</td></tr><tr><td>Ukraine</td><td>UKRAINE</td></tr><tr><td>United Arab Emirates</td><td>UNITED ARAB EMIRATES</td></tr><tr><td>United Kingdom</td><td>UNITED KINGDOM</td></tr><tr><td>United States</td><td>UNITED STATES</td></tr><tr><td>Uruguay</td><td>URUGUAY</td></tr><tr><td>Uzbekistan</td><td>UZBEKISTAN</td></tr><tr><td>Vanuatu</td><td>VANUATU</td></tr><tr><td>Venezuela</td><td>VENEZUELA</td></tr><tr><td>Vietnam</td><td>VIETNAM</td></tr><tr><td>Yemen</td><td>YEMEN</td></tr><tr><td>Zambia</td><td>ZAMBIA</td></tr><tr><td>Zimbabwe</td><td>ZIMBABWE</td></tr></tbody></table></div>"
      ]
     },
     "metadata": {
      "application/vnd.databricks.v1+output": {
       "addedWidgets": {},
       "aggData": [],
       "aggError": "",
       "aggOverflow": false,
       "aggSchema": [],
       "aggSeriesLimitReached": false,
       "aggType": "",
       "arguments": {},
       "columnCustomDisplayInfos": {},
       "data": [
        [
         "Afghanistan",
         "AFGHANISTAN"
        ],
        [
         "Albania",
         "ALBANIA"
        ],
        [
         "Algeria",
         "ALGERIA"
        ],
        [
         "Andorra",
         "ANDORRA"
        ],
        [
         "Angola",
         "ANGOLA"
        ],
        [
         "Antigua and Barbuda",
         "ANTIGUA AND BARBUDA"
        ],
        [
         "Argentina",
         "ARGENTINA"
        ],
        [
         "Armenia",
         "ARMENIA"
        ],
        [
         "Australia",
         "AUSTRALIA"
        ],
        [
         "Austria",
         "AUSTRIA"
        ],
        [
         "Azerbaijan",
         "AZERBAIJAN"
        ],
        [
         "Bahamas",
         "BAHAMAS"
        ],
        [
         "Bahrain",
         "BAHRAIN"
        ],
        [
         "Bangladesh",
         "BANGLADESH"
        ],
        [
         "Barbados",
         "BARBADOS"
        ],
        [
         "Belarus",
         "BELARUS"
        ],
        [
         "Belgium",
         "BELGIUM"
        ],
        [
         "Belize",
         "BELIZE"
        ],
        [
         "Benin",
         "BENIN"
        ],
        [
         "Bhutan",
         "BHUTAN"
        ],
        [
         "Bolivia",
         "BOLIVIA"
        ],
        [
         "Bosnia and Herzegovina",
         "BOSNIA AND HERZEGOVINA"
        ],
        [
         "Botswana",
         "BOTSWANA"
        ],
        [
         "Brazil",
         "BRAZIL"
        ],
        [
         "Brunei",
         "BRUNEI"
        ],
        [
         "Bulgaria",
         "BULGARIA"
        ],
        [
         "Burkina Faso",
         "BURKINA FASO"
        ],
        [
         "Burundi",
         "BURUNDI"
        ],
        [
         "Cabo Verde",
         "CABO VERDE"
        ],
        [
         "Cambodia",
         "CAMBODIA"
        ],
        [
         "Cameroon",
         "CAMEROON"
        ],
        [
         "Canada",
         "CANADA"
        ],
        [
         "Central African Republic",
         "CENTRAL AFRICAN REPUBLIC"
        ],
        [
         "Chad",
         "CHAD"
        ],
        [
         "Chile",
         "CHILE"
        ],
        [
         "China",
         "CHINA"
        ],
        [
         "Colombia",
         "COLOMBIA"
        ],
        [
         "Comoros",
         "COMOROS"
        ],
        [
         "Congo, Democratic Republic of the",
         "CONGO, DEMOCRATIC REPUBLIC OF THE"
        ],
        [
         "Congo, Republic of the",
         "CONGO, REPUBLIC OF THE"
        ],
        [
         "Costa Rica",
         "COSTA RICA"
        ],
        [
         "Croatia",
         "CROATIA"
        ],
        [
         "Cuba",
         "CUBA"
        ],
        [
         "Côte d'Ivoire",
         "CÔTE D'IVOIRE"
        ],
        [
         "Cyprus",
         "CYPRUS"
        ],
        [
         "Czech Republic",
         "CZECH REPUBLIC"
        ],
        [
         "Denmark",
         "DENMARK"
        ],
        [
         "Djibouti",
         "DJIBOUTI"
        ],
        [
         "Dominica",
         "DOMINICA"
        ],
        [
         "Dominican Republic",
         "DOMINICAN REPUBLIC"
        ],
        [
         "Ecuador",
         "ECUADOR"
        ],
        [
         "Egypt",
         "EGYPT"
        ],
        [
         "El Salvador",
         "EL SALVADOR"
        ],
        [
         "Equatorial Guinea",
         "EQUATORIAL GUINEA"
        ],
        [
         "Eritrea",
         "ERITREA"
        ],
        [
         "Estonia",
         "ESTONIA"
        ],
        [
         "Eswatini",
         "ESWATINI"
        ],
        [
         "Ethiopia",
         "ETHIOPIA"
        ],
        [
         "Fiji",
         "FIJI"
        ],
        [
         "Finland",
         "FINLAND"
        ],
        [
         "France",
         "FRANCE"
        ],
        [
         "Gabon",
         "GABON"
        ],
        [
         "Gambia",
         "GAMBIA"
        ],
        [
         "Georgia",
         "GEORGIA"
        ],
        [
         "Germany",
         "GERMANY"
        ],
        [
         "Ghana",
         "GHANA"
        ],
        [
         "Greece",
         "GREECE"
        ],
        [
         "Grenada",
         "GRENADA"
        ],
        [
         "Guatemala",
         "GUATEMALA"
        ],
        [
         "Guinea",
         "GUINEA"
        ],
        [
         "Guinea-Bissau",
         "GUINEA-BISSAU"
        ],
        [
         "Guyana",
         "GUYANA"
        ],
        [
         "Haiti",
         "HAITI"
        ],
        [
         "Holy See",
         "HOLY SEE"
        ],
        [
         "Honduras",
         "HONDURAS"
        ],
        [
         "Hungary",
         "HUNGARY"
        ],
        [
         "Iceland",
         "ICELAND"
        ],
        [
         "India",
         "INDIA"
        ],
        [
         "Indonesia",
         "INDONESIA"
        ],
        [
         "Iran",
         "IRAN"
        ],
        [
         "Iraq",
         "IRAQ"
        ],
        [
         "Ireland",
         "IRELAND"
        ],
        [
         "Israel",
         "ISRAEL"
        ],
        [
         "Italy",
         "ITALY"
        ],
        [
         "Jamaica",
         "JAMAICA"
        ],
        [
         "Japan",
         "JAPAN"
        ],
        [
         "Jordan",
         "JORDAN"
        ],
        [
         "Kazakhstan",
         "KAZAKHSTAN"
        ],
        [
         "Kenya",
         "KENYA"
        ],
        [
         "Kiribati",
         "KIRIBATI"
        ],
        [
         "Kuwait",
         "KUWAIT"
        ],
        [
         "Kyrgyzstan",
         "KYRGYZSTAN"
        ],
        [
         "Laos",
         "LAOS"
        ],
        [
         "Latvia",
         "LATVIA"
        ],
        [
         "Lebanon",
         "LEBANON"
        ],
        [
         "Lesotho",
         "LESOTHO"
        ],
        [
         "Liberia",
         "LIBERIA"
        ],
        [
         "Libya",
         "LIBYA"
        ],
        [
         "Liechtenstein",
         "LIECHTENSTEIN"
        ],
        [
         "Lithuania",
         "LITHUANIA"
        ],
        [
         "Luxembourg",
         "LUXEMBOURG"
        ],
        [
         "Madagascar",
         "MADAGASCAR"
        ],
        [
         "Malawi",
         "MALAWI"
        ],
        [
         "Malaysia",
         "MALAYSIA"
        ],
        [
         "Maldives",
         "MALDIVES"
        ],
        [
         "Mali",
         "MALI"
        ],
        [
         "Malta",
         "MALTA"
        ],
        [
         "Marshall Islands",
         "MARSHALL ISLANDS"
        ],
        [
         "Mauritania",
         "MAURITANIA"
        ],
        [
         "Mauritius",
         "MAURITIUS"
        ],
        [
         "Mexico",
         "MEXICO"
        ],
        [
         "Micronesia",
         "MICRONESIA"
        ],
        [
         "Moldova",
         "MOLDOVA"
        ],
        [
         "Monaco",
         "MONACO"
        ],
        [
         "Mongolia",
         "MONGOLIA"
        ],
        [
         "Montenegro",
         "MONTENEGRO"
        ],
        [
         "Morocco",
         "MOROCCO"
        ],
        [
         "Mozambique",
         "MOZAMBIQUE"
        ],
        [
         "Myanmar",
         "MYANMAR"
        ],
        [
         "Namibia",
         "NAMIBIA"
        ],
        [
         "Nauru",
         "NAURU"
        ],
        [
         "Nepal",
         "NEPAL"
        ],
        [
         "Netherlands",
         "NETHERLANDS"
        ],
        [
         "New Zealand",
         "NEW ZEALAND"
        ],
        [
         "Nicaragua",
         "NICARAGUA"
        ],
        [
         "Niger",
         "NIGER"
        ],
        [
         "Nigeria",
         "NIGERIA"
        ],
        [
         "North Korea",
         "NORTH KOREA"
        ],
        [
         "North Macedonia",
         "NORTH MACEDONIA"
        ],
        [
         "Norway",
         "NORWAY"
        ],
        [
         "Oman",
         "OMAN"
        ],
        [
         "Pakistan",
         "PAKISTAN"
        ],
        [
         "Palau",
         "PALAU"
        ],
        [
         "Palestine, State of",
         "PALESTINE, STATE OF"
        ],
        [
         "Panama",
         "PANAMA"
        ],
        [
         "Papua New Guinea",
         "PAPUA NEW GUINEA"
        ],
        [
         "Paraguay",
         "PARAGUAY"
        ],
        [
         "Peru",
         "PERU"
        ],
        [
         "Philippines",
         "PHILIPPINES"
        ],
        [
         "Poland",
         "POLAND"
        ],
        [
         "Portugal",
         "PORTUGAL"
        ],
        [
         "Qatar",
         "QATAR"
        ],
        [
         "Romania",
         "ROMANIA"
        ],
        [
         "Russia",
         "RUSSIA"
        ],
        [
         "Rwanda",
         "RWANDA"
        ],
        [
         "Saint Kitts and Nevis",
         "SAINT KITTS AND NEVIS"
        ],
        [
         "Saint Lucia",
         "SAINT LUCIA"
        ],
        [
         "Saint Vincent and the Grenadines",
         "SAINT VINCENT AND THE GRENADINES"
        ],
        [
         "Samoa",
         "SAMOA"
        ],
        [
         "San Marino",
         "SAN MARINO"
        ],
        [
         "Sao Tome and Principe",
         "SAO TOME AND PRINCIPE"
        ],
        [
         "Saudi Arabia",
         "SAUDI ARABIA"
        ],
        [
         "Senegal",
         "SENEGAL"
        ],
        [
         "Serbia",
         "SERBIA"
        ],
        [
         "Seychelles",
         "SEYCHELLES"
        ],
        [
         "Sierra Leone",
         "SIERRA LEONE"
        ],
        [
         "Singapore",
         "SINGAPORE"
        ],
        [
         "Slovakia",
         "SLOVAKIA"
        ],
        [
         "Slovenia",
         "SLOVENIA"
        ],
        [
         "Solomon Islands",
         "SOLOMON ISLANDS"
        ],
        [
         "Somalia",
         "SOMALIA"
        ],
        [
         "South Africa",
         "SOUTH AFRICA"
        ],
        [
         "South Korea",
         "SOUTH KOREA"
        ],
        [
         "South Sudan",
         "SOUTH SUDAN"
        ],
        [
         "Spain",
         "SPAIN"
        ],
        [
         "Sri Lanka",
         "SRI LANKA"
        ],
        [
         "Sudan",
         "SUDAN"
        ],
        [
         "Suriname",
         "SURINAME"
        ],
        [
         "Sweden",
         "SWEDEN"
        ],
        [
         "Switzerland",
         "SWITZERLAND"
        ],
        [
         "Syria",
         "SYRIA"
        ],
        [
         "Tajikistan",
         "TAJIKISTAN"
        ],
        [
         "Tanzania",
         "TANZANIA"
        ],
        [
         "Thailand",
         "THAILAND"
        ],
        [
         "Timor-Leste",
         "TIMOR-LESTE"
        ],
        [
         "Togo",
         "TOGO"
        ],
        [
         "Tonga",
         "TONGA"
        ],
        [
         "Trinidad and Tobago",
         "TRINIDAD AND TOBAGO"
        ],
        [
         "Tunisia",
         "TUNISIA"
        ],
        [
         "Turkey",
         "TURKEY"
        ],
        [
         "Turkmenistan",
         "TURKMENISTAN"
        ],
        [
         "Tuvalu",
         "TUVALU"
        ],
        [
         "Uganda",
         "UGANDA"
        ],
        [
         "Ukraine",
         "UKRAINE"
        ],
        [
         "United Arab Emirates",
         "UNITED ARAB EMIRATES"
        ],
        [
         "United Kingdom",
         "UNITED KINGDOM"
        ],
        [
         "United States",
         "UNITED STATES"
        ],
        [
         "Uruguay",
         "URUGUAY"
        ],
        [
         "Uzbekistan",
         "UZBEKISTAN"
        ],
        [
         "Vanuatu",
         "VANUATU"
        ],
        [
         "Venezuela",
         "VENEZUELA"
        ],
        [
         "Vietnam",
         "VIETNAM"
        ],
        [
         "Yemen",
         "YEMEN"
        ],
        [
         "Zambia",
         "ZAMBIA"
        ],
        [
         "Zimbabwe",
         "ZIMBABWE"
        ]
       ],
       "datasetInfos": [],
       "dbfsResultPath": null,
       "isJsonSchema": true,
       "metadata": {},
       "overflow": false,
       "plotOptions": {
        "customPlotOptions": {},
        "displayType": "table",
        "pivotAggregation": null,
        "pivotColumns": null,
        "xColumns": null,
        "yColumns": null
       },
       "removedWidgets": [],
       "schema": [
        {
         "metadata": "{}",
         "name": "country_name",
         "type": "\"string\""
        },
        {
         "metadata": "{}",
         "name": "country_name_upper",
         "type": "\"string\""
        }
       ],
       "type": "table"
      }
     },
     "output_type": "display_data"
    }
   ],
   "source": [
    "# Both of these code lines are equivalent\n",
    "\n",
    "# This uses SQL expression in expr()\n",
    "df.select(\"country_name\", expr(\"upper(country_name) as country_name_upper\")).display()\n",
    "\n",
    "# This uses the upper function from the functions module in Spark SQL\n",
    "df.select(\"country_name\", upper(\"country_name\").alias(\"country_name_upper\")).display()"
   ]
  },
  {
   "cell_type": "code",
   "execution_count": 0,
   "metadata": {
    "application/vnd.databricks.v1+cell": {
     "cellMetadata": {
      "byteLimit": 2048000,
      "rowLimit": 10000
     },
     "inputWidgets": {},
     "nuid": "9946c57a-3524-40bf-8d11-23d14099016a",
     "showTitle": false,
     "tableResultSettingsMap": {},
     "title": ""
    }
   },
   "outputs": [
    {
     "output_type": "display_data",
     "data": {
      "text/html": [
       "<style scoped>\n",
       "  .table-result-container {\n",
       "    max-height: 300px;\n",
       "    overflow: auto;\n",
       "  }\n",
       "  table, th, td {\n",
       "    border: 1px solid black;\n",
       "    border-collapse: collapse;\n",
       "  }\n",
       "  th, td {\n",
       "    padding: 5px;\n",
       "  }\n",
       "  th {\n",
       "    text-align: left;\n",
       "  }\n",
       "</style><div class='table-result-container'><table class='table-result'><thead style='background-color: white'><tr><th>country_name</th><th>population_density_km2</th></tr></thead><tbody><tr><td>Afghanistan</td><td>59.68</td></tr><tr><td>Albania</td><td>100.1</td></tr><tr><td>Algeria</td><td>18.41</td></tr><tr><td>Andorra</td><td>165.1</td></tr><tr><td>Angola</td><td>26.36</td></tr><tr><td>Antigua and Barbuda</td><td>221.56</td></tr><tr><td>Argentina</td><td>16.32</td></tr><tr><td>Armenia</td><td>99.63</td></tr><tr><td>Australia</td><td>3.33</td></tr><tr><td>Austria</td><td>107.37</td></tr><tr><td>Azerbaijan</td><td>117.08</td></tr><tr><td>Bahamas</td><td>28.2</td></tr><tr><td>Bahrain</td><td>2224.28</td></tr><tr><td>Bangladesh</td><td>1116.01</td></tr><tr><td>Barbados</td><td>668.31</td></tr><tr><td>Belarus</td><td>45.52</td></tr><tr><td>Belgium</td><td>379.64</td></tr><tr><td>Belize</td><td>17.31</td></tr><tr><td>Benin</td><td>105.64</td></tr><tr><td>Bhutan</td><td>20.1</td></tr><tr><td>Bolivia</td><td>10.63</td></tr><tr><td>Bosnia and Herzegovina</td><td>64.17</td></tr><tr><td>Botswana</td><td>4.04</td></tr><tr><td>Brazil</td><td>24.96</td></tr><tr><td>Brunei</td><td>75.89</td></tr><tr><td>Bulgaria</td><td>62.6</td></tr><tr><td>Burkina Faso</td><td>76.23</td></tr><tr><td>Burundi</td><td>427.2</td></tr><tr><td>Cabo Verde</td><td>137.86</td></tr><tr><td>Cambodia</td><td>92.35</td></tr><tr><td>Cameroon</td><td>55.83</td></tr><tr><td>Canada</td><td>3.78</td></tr><tr><td>Central African Republic</td><td>7.75</td></tr><tr><td>Chad</td><td>12.79</td></tr><tr><td>Chile</td><td>25.28</td></tr><tr><td>China</td><td>149.98</td></tr><tr><td>Colombia</td><td>44.57</td></tr><tr><td>Comoros</td><td>467.03</td></tr><tr><td>Congo, Democratic Republic of the</td><td>38.19</td></tr><tr><td>Congo, Republic of the</td><td>16.13</td></tr><tr><td>Costa Rica</td><td>99.69</td></tr><tr><td>Croatia</td><td>72.54</td></tr><tr><td>Cuba</td><td>103.08</td></tr><tr><td>Côte d'Ivoire</td><td>81.8</td></tr><tr><td>Cyprus</td><td>130.51</td></tr><tr><td>Czech Republic</td><td>135.79</td></tr><tr><td>Denmark</td><td>134.91</td></tr><tr><td>Djibouti</td><td>42.59</td></tr><tr><td>Dominica</td><td>95.85</td></tr><tr><td>Dominican Republic</td><td>222.88</td></tr><tr><td>Ecuador</td><td>62.22</td></tr><tr><td>Egypt</td><td>102.08</td></tr><tr><td>El Salvador</td><td>308.27</td></tr><tr><td>Equatorial Guinea</td><td>50.02</td></tr><tr><td>Eritrea</td><td>30.16</td></tr><tr><td>Estonia</td><td>29.45</td></tr><tr><td>Eswatini</td><td>66.81</td></tr><tr><td>Ethiopia</td><td>104.11</td></tr><tr><td>Fiji</td><td>49.06</td></tr><tr><td>Finland</td><td>16.37</td></tr><tr><td>France</td><td>118.31</td></tr><tr><td>Gabon</td><td>8.32</td></tr><tr><td>Gambia</td><td>213.96</td></tr><tr><td>Georgia</td><td>57.23</td></tr><tr><td>Germany</td><td>234.67</td></tr><tr><td>Ghana</td><td>130.27</td></tr><tr><td>Greece</td><td>78.99</td></tr><tr><td>Grenada</td><td>327.1</td></tr><tr><td>Guatemala</td><td>164.53</td></tr><tr><td>Guinea</td><td>53.42</td></tr><tr><td>Guinea-Bissau</td><td>54.48</td></tr><tr><td>Guyana</td><td>3.66</td></tr><tr><td>Haiti</td><td>410.9</td></tr><tr><td>Holy See</td><td>null</td></tr><tr><td>Honduras</td><td>88.05</td></tr><tr><td>Hungary</td><td>103.84</td></tr><tr><td>Iceland</td><td>3.31</td></tr><tr><td>India</td><td>419.8</td></tr><tr><td>Indonesia</td><td>143.61</td></tr><tr><td>Iran</td><td>50.96</td></tr><tr><td>Iraq</td><td>91.77</td></tr><tr><td>Ireland</td><td>70.27</td></tr><tr><td>Israel</td><td>435.88</td></tr><tr><td>Italy</td><td>200.64</td></tr><tr><td>Jamaica</td><td>269.42</td></tr><tr><td>Japan</td><td>334.62</td></tr><tr><td>Jordan</td><td>114.2</td></tr><tr><td>Kazakhstan</td><td>6.89</td></tr><tr><td>Kenya</td><td>92.65</td></tr><tr><td>Kiribati</td><td>147.29</td></tr><tr><td>Kuwait</td><td>239.68</td></tr><tr><td>Kyrgyzstan</td><td>32.63</td></tr><tr><td>Laos</td><td>30.72</td></tr><tr><td>Latvia</td><td>29.22</td></tr><tr><td>Lebanon</td><td>653.03</td></tr><tr><td>Lesotho</td><td>70.57</td></tr><tr><td>Liberia</td><td>45.55</td></tr><tr><td>Libya</td><td>3.91</td></tr><tr><td>Liechtenstein</td><td>238.3</td></tr><tr><td>Lithuania</td><td>41.69</td></tr><tr><td>Luxembourg</td><td>245.48</td></tr><tr><td>Madagascar</td><td>47.17</td></tr><tr><td>Malawi</td><td>161.46</td></tr><tr><td>Malaysia</td><td>97.84</td></tr><tr><td>Maldives</td><td>1801.81</td></tr><tr><td>Mali</td><td>16.33</td></tr><tr><td>Malta</td><td>1397.29</td></tr><tr><td>Marshall Islands</td><td>327.02</td></tr><tr><td>Mauritania</td><td>4.51</td></tr><tr><td>Mauritius</td><td>623.42</td></tr><tr><td>Mexico</td><td>65.64</td></tr><tr><td>Micronesia</td><td>163.85</td></tr><tr><td>Moldova</td><td>78.0</td></tr><tr><td>Monaco</td><td>19621.0</td></tr><tr><td>Mongolia</td><td>2.1</td></tr><tr><td>Montenegro</td><td>45.06</td></tr><tr><td>Morocco</td><td>82.66</td></tr><tr><td>Mozambique</td><td>38.99</td></tr><tr><td>Myanmar</td><td>80.42</td></tr><tr><td>Namibia</td><td>3.08</td></tr><tr><td>Nauru</td><td>515.43</td></tr><tr><td>Nepal</td><td>197.97</td></tr><tr><td>Netherlands</td><td>412.46</td></tr><tr><td>New Zealand</td><td>18.91</td></tr><tr><td>Nicaragua</td><td>50.81</td></tr><tr><td>Niger</td><td>19.11</td></tr><tr><td>Nigeria</td><td>223.15</td></tr><tr><td>North Korea</td><td>213.86</td></tr><tr><td>North Macedonia</td><td>81.02</td></tr><tr><td>Norway</td><td>14.07</td></tr><tr><td>Oman</td><td>16.5</td></tr><tr><td>Pakistan</td><td>250.47</td></tr><tr><td>Palau</td><td>39.42</td></tr><tr><td>Palestine, State of</td><td>847.41</td></tr><tr><td>Panama</td><td>57.21</td></tr><tr><td>Papua New Guinea</td><td>19.33</td></tr><tr><td>Paraguay</td><td>17.54</td></tr><tr><td>Peru</td><td>25.65</td></tr><tr><td>Philippines</td><td>365.27</td></tr><tr><td>Poland</td><td>121.03</td></tr><tr><td>Portugal</td><td>110.73</td></tr><tr><td>Qatar</td><td>248.67</td></tr><tr><td>Romania</td><td>80.7</td></tr><tr><td>Russia</td><td>8.45</td></tr><tr><td>Rwanda</td><td>491.77</td></tr><tr><td>Saint Kitts and Nevis</td><td>203.8</td></tr><tr><td>Saint Lucia</td><td>298.1</td></tr><tr><td>Saint Vincent and the Grenadines</td><td>285.19</td></tr><tr><td>Samoa</td><td>69.81</td></tr><tr><td>San Marino</td><td>556.36</td></tr><tr><td>Sao Tome and Principe</td><td>227.34</td></tr><tr><td>Saudi Arabia</td><td>16.19</td></tr><tr><td>Senegal</td><td>85.11</td></tr><tr><td>Serbia</td><td>78.6</td></tr><tr><td>Seychelles</td><td>216.15</td></tr><tr><td>Sierra Leone</td><td>111.19</td></tr><tr><td>Singapore</td><td>8136.78</td></tr><tr><td>Slovakia</td><td>111.34</td></tr><tr><td>Slovenia</td><td>102.55</td></tr><tr><td>Solomon Islands</td><td>23.77</td></tr><tr><td>Somalia</td><td>24.92</td></tr><tr><td>South Africa</td><td>48.57</td></tr><tr><td>South Korea</td><td>511.62</td></tr><tr><td>South Sudan</td><td>17.37</td></tr><tr><td>Spain</td><td>92.4</td></tr><tr><td>Sri Lanka</td><td>326.37</td></tr><tr><td>Sudan</td><td>23.56</td></tr><tr><td>Suriname</td><td>3.58</td></tr><tr><td>Sweden</td><td>22.43</td></tr><tr><td>Switzerland</td><td>209.63</td></tr><tr><td>Syria</td><td>94.51</td></tr><tr><td>Tajikistan</td><td>66.65</td></tr><tr><td>Tanzania</td><td>63.2</td></tr><tr><td>Thailand</td><td>136.03</td></tr><tr><td>Timor-Leste</td><td>88.64</td></tr><tr><td>Togo</td><td>145.79</td></tr><tr><td>Tonga</td><td>141.49</td></tr><tr><td>Trinidad and Tobago</td><td>272.8</td></tr><tr><td>Tunisia</td><td>72.24</td></tr><tr><td>Turkey</td><td>107.64</td></tr><tr><td>Turkmenistan</td><td>12.36</td></tr><tr><td>Tuvalu</td><td>453.54</td></tr><tr><td>Uganda</td><td>189.36</td></tr><tr><td>Ukraine</td><td>72.45</td></tr><tr><td>United Arab Emirates</td><td>118.31</td></tr><tr><td>United Kingdom</td><td>278.67</td></tr><tr><td>United States</td><td>33.66</td></tr><tr><td>Uruguay</td><td>19.71</td></tr><tr><td>Uzbekistan</td><td>74.81</td></tr><tr><td>Vanuatu</td><td>25.2</td></tr><tr><td>Venezuela</td><td>31.03</td></tr><tr><td>Vietnam</td><td>293.89</td></tr><tr><td>Yemen</td><td>56.49</td></tr><tr><td>Zambia</td><td>24.43</td></tr><tr><td>Zimbabwe</td><td>38.04</td></tr></tbody></table></div>"
      ]
     },
     "metadata": {
      "application/vnd.databricks.v1+output": {
       "addedWidgets": {},
       "aggData": [],
       "aggError": "",
       "aggOverflow": false,
       "aggSchema": [],
       "aggSeriesLimitReached": false,
       "aggType": "",
       "arguments": {},
       "columnCustomDisplayInfos": {},
       "data": [
        [
         "Afghanistan",
         59.68
        ],
        [
         "Albania",
         100.1
        ],
        [
         "Algeria",
         18.41
        ],
        [
         "Andorra",
         165.1
        ],
        [
         "Angola",
         26.36
        ],
        [
         "Antigua and Barbuda",
         221.56
        ],
        [
         "Argentina",
         16.32
        ],
        [
         "Armenia",
         99.63
        ],
        [
         "Australia",
         3.33
        ],
        [
         "Austria",
         107.37
        ],
        [
         "Azerbaijan",
         117.08
        ],
        [
         "Bahamas",
         28.2
        ],
        [
         "Bahrain",
         2224.28
        ],
        [
         "Bangladesh",
         1116.01
        ],
        [
         "Barbados",
         668.31
        ],
        [
         "Belarus",
         45.52
        ],
        [
         "Belgium",
         379.64
        ],
        [
         "Belize",
         17.31
        ],
        [
         "Benin",
         105.64
        ],
        [
         "Bhutan",
         20.1
        ],
        [
         "Bolivia",
         10.63
        ],
        [
         "Bosnia and Herzegovina",
         64.17
        ],
        [
         "Botswana",
         4.04
        ],
        [
         "Brazil",
         24.96
        ],
        [
         "Brunei",
         75.89
        ],
        [
         "Bulgaria",
         62.6
        ],
        [
         "Burkina Faso",
         76.23
        ],
        [
         "Burundi",
         427.2
        ],
        [
         "Cabo Verde",
         137.86
        ],
        [
         "Cambodia",
         92.35
        ],
        [
         "Cameroon",
         55.83
        ],
        [
         "Canada",
         3.78
        ],
        [
         "Central African Republic",
         7.75
        ],
        [
         "Chad",
         12.79
        ],
        [
         "Chile",
         25.28
        ],
        [
         "China",
         149.98
        ],
        [
         "Colombia",
         44.57
        ],
        [
         "Comoros",
         467.03
        ],
        [
         "Congo, Democratic Republic of the",
         38.19
        ],
        [
         "Congo, Republic of the",
         16.13
        ],
        [
         "Costa Rica",
         99.69
        ],
        [
         "Croatia",
         72.54
        ],
        [
         "Cuba",
         103.08
        ],
        [
         "Côte d'Ivoire",
         81.8
        ],
        [
         "Cyprus",
         130.51
        ],
        [
         "Czech Republic",
         135.79
        ],
        [
         "Denmark",
         134.91
        ],
        [
         "Djibouti",
         42.59
        ],
        [
         "Dominica",
         95.85
        ],
        [
         "Dominican Republic",
         222.88
        ],
        [
         "Ecuador",
         62.22
        ],
        [
         "Egypt",
         102.08
        ],
        [
         "El Salvador",
         308.27
        ],
        [
         "Equatorial Guinea",
         50.02
        ],
        [
         "Eritrea",
         30.16
        ],
        [
         "Estonia",
         29.45
        ],
        [
         "Eswatini",
         66.81
        ],
        [
         "Ethiopia",
         104.11
        ],
        [
         "Fiji",
         49.06
        ],
        [
         "Finland",
         16.37
        ],
        [
         "France",
         118.31
        ],
        [
         "Gabon",
         8.32
        ],
        [
         "Gambia",
         213.96
        ],
        [
         "Georgia",
         57.23
        ],
        [
         "Germany",
         234.67
        ],
        [
         "Ghana",
         130.27
        ],
        [
         "Greece",
         78.99
        ],
        [
         "Grenada",
         327.1
        ],
        [
         "Guatemala",
         164.53
        ],
        [
         "Guinea",
         53.42
        ],
        [
         "Guinea-Bissau",
         54.48
        ],
        [
         "Guyana",
         3.66
        ],
        [
         "Haiti",
         410.9
        ],
        [
         "Holy See",
         null
        ],
        [
         "Honduras",
         88.05
        ],
        [
         "Hungary",
         103.84
        ],
        [
         "Iceland",
         3.31
        ],
        [
         "India",
         419.8
        ],
        [
         "Indonesia",
         143.61
        ],
        [
         "Iran",
         50.96
        ],
        [
         "Iraq",
         91.77
        ],
        [
         "Ireland",
         70.27
        ],
        [
         "Israel",
         435.88
        ],
        [
         "Italy",
         200.64
        ],
        [
         "Jamaica",
         269.42
        ],
        [
         "Japan",
         334.62
        ],
        [
         "Jordan",
         114.2
        ],
        [
         "Kazakhstan",
         6.89
        ],
        [
         "Kenya",
         92.65
        ],
        [
         "Kiribati",
         147.29
        ],
        [
         "Kuwait",
         239.68
        ],
        [
         "Kyrgyzstan",
         32.63
        ],
        [
         "Laos",
         30.72
        ],
        [
         "Latvia",
         29.22
        ],
        [
         "Lebanon",
         653.03
        ],
        [
         "Lesotho",
         70.57
        ],
        [
         "Liberia",
         45.55
        ],
        [
         "Libya",
         3.91
        ],
        [
         "Liechtenstein",
         238.3
        ],
        [
         "Lithuania",
         41.69
        ],
        [
         "Luxembourg",
         245.48
        ],
        [
         "Madagascar",
         47.17
        ],
        [
         "Malawi",
         161.46
        ],
        [
         "Malaysia",
         97.84
        ],
        [
         "Maldives",
         1801.81
        ],
        [
         "Mali",
         16.33
        ],
        [
         "Malta",
         1397.29
        ],
        [
         "Marshall Islands",
         327.02
        ],
        [
         "Mauritania",
         4.51
        ],
        [
         "Mauritius",
         623.42
        ],
        [
         "Mexico",
         65.64
        ],
        [
         "Micronesia",
         163.85
        ],
        [
         "Moldova",
         78.0
        ],
        [
         "Monaco",
         19621.0
        ],
        [
         "Mongolia",
         2.1
        ],
        [
         "Montenegro",
         45.06
        ],
        [
         "Morocco",
         82.66
        ],
        [
         "Mozambique",
         38.99
        ],
        [
         "Myanmar",
         80.42
        ],
        [
         "Namibia",
         3.08
        ],
        [
         "Nauru",
         515.43
        ],
        [
         "Nepal",
         197.97
        ],
        [
         "Netherlands",
         412.46
        ],
        [
         "New Zealand",
         18.91
        ],
        [
         "Nicaragua",
         50.81
        ],
        [
         "Niger",
         19.11
        ],
        [
         "Nigeria",
         223.15
        ],
        [
         "North Korea",
         213.86
        ],
        [
         "North Macedonia",
         81.02
        ],
        [
         "Norway",
         14.07
        ],
        [
         "Oman",
         16.5
        ],
        [
         "Pakistan",
         250.47
        ],
        [
         "Palau",
         39.42
        ],
        [
         "Palestine, State of",
         847.41
        ],
        [
         "Panama",
         57.21
        ],
        [
         "Papua New Guinea",
         19.33
        ],
        [
         "Paraguay",
         17.54
        ],
        [
         "Peru",
         25.65
        ],
        [
         "Philippines",
         365.27
        ],
        [
         "Poland",
         121.03
        ],
        [
         "Portugal",
         110.73
        ],
        [
         "Qatar",
         248.67
        ],
        [
         "Romania",
         80.7
        ],
        [
         "Russia",
         8.45
        ],
        [
         "Rwanda",
         491.77
        ],
        [
         "Saint Kitts and Nevis",
         203.8
        ],
        [
         "Saint Lucia",
         298.1
        ],
        [
         "Saint Vincent and the Grenadines",
         285.19
        ],
        [
         "Samoa",
         69.81
        ],
        [
         "San Marino",
         556.36
        ],
        [
         "Sao Tome and Principe",
         227.34
        ],
        [
         "Saudi Arabia",
         16.19
        ],
        [
         "Senegal",
         85.11
        ],
        [
         "Serbia",
         78.6
        ],
        [
         "Seychelles",
         216.15
        ],
        [
         "Sierra Leone",
         111.19
        ],
        [
         "Singapore",
         8136.78
        ],
        [
         "Slovakia",
         111.34
        ],
        [
         "Slovenia",
         102.55
        ],
        [
         "Solomon Islands",
         23.77
        ],
        [
         "Somalia",
         24.92
        ],
        [
         "South Africa",
         48.57
        ],
        [
         "South Korea",
         511.62
        ],
        [
         "South Sudan",
         17.37
        ],
        [
         "Spain",
         92.4
        ],
        [
         "Sri Lanka",
         326.37
        ],
        [
         "Sudan",
         23.56
        ],
        [
         "Suriname",
         3.58
        ],
        [
         "Sweden",
         22.43
        ],
        [
         "Switzerland",
         209.63
        ],
        [
         "Syria",
         94.51
        ],
        [
         "Tajikistan",
         66.65
        ],
        [
         "Tanzania",
         63.2
        ],
        [
         "Thailand",
         136.03
        ],
        [
         "Timor-Leste",
         88.64
        ],
        [
         "Togo",
         145.79
        ],
        [
         "Tonga",
         141.49
        ],
        [
         "Trinidad and Tobago",
         272.8
        ],
        [
         "Tunisia",
         72.24
        ],
        [
         "Turkey",
         107.64
        ],
        [
         "Turkmenistan",
         12.36
        ],
        [
         "Tuvalu",
         453.54
        ],
        [
         "Uganda",
         189.36
        ],
        [
         "Ukraine",
         72.45
        ],
        [
         "United Arab Emirates",
         118.31
        ],
        [
         "United Kingdom",
         278.67
        ],
        [
         "United States",
         33.66
        ],
        [
         "Uruguay",
         19.71
        ],
        [
         "Uzbekistan",
         74.81
        ],
        [
         "Vanuatu",
         25.2
        ],
        [
         "Venezuela",
         31.03
        ],
        [
         "Vietnam",
         293.89
        ],
        [
         "Yemen",
         56.49
        ],
        [
         "Zambia",
         24.43
        ],
        [
         "Zimbabwe",
         38.04
        ]
       ],
       "datasetInfos": [],
       "dbfsResultPath": null,
       "isJsonSchema": true,
       "metadata": {},
       "overflow": false,
       "plotOptions": {
        "customPlotOptions": {},
        "displayType": "table",
        "pivotAggregation": null,
        "pivotColumns": null,
        "xColumns": null,
        "yColumns": null
       },
       "removedWidgets": [],
       "schema": [
        {
         "metadata": "{}",
         "name": "country_name",
         "type": "\"string\""
        },
        {
         "metadata": "{}",
         "name": "population_density_km2",
         "type": "\"double\""
        }
       ],
       "type": "table"
      }
     },
     "output_type": "display_data"
    }
   ],
   "source": [
    "# expr() can be used to combine multiple SQL functions and alias column names\n",
    "\n",
    "df.select(\"country_name\", expr(\"round(population/area_km2,2) as population_density_km2\")).display()"
   ]
  },
  {
   "cell_type": "code",
   "execution_count": 0,
   "metadata": {
    "application/vnd.databricks.v1+cell": {
     "cellMetadata": {
      "byteLimit": 2048000,
      "rowLimit": 10000
     },
     "inputWidgets": {},
     "nuid": "37cc6f12-7a07-4346-be49-29a10ff8fa11",
     "showTitle": false,
     "tableResultSettingsMap": {},
     "title": ""
    }
   },
   "outputs": [
    {
     "output_type": "display_data",
     "data": {
      "text/html": [
       "<style scoped>\n",
       "  .table-result-container {\n",
       "    max-height: 300px;\n",
       "    overflow: auto;\n",
       "  }\n",
       "  table, th, td {\n",
       "    border: 1px solid black;\n",
       "    border-collapse: collapse;\n",
       "  }\n",
       "  th, td {\n",
       "    padding: 5px;\n",
       "  }\n",
       "  th {\n",
       "    text-align: left;\n",
       "  }\n",
       "</style><div class='table-result-container'><table class='table-result'><thead style='background-color: white'><tr><th>country_name</th><th>continent</th><th>sub_region</th><th>population</th><th>area_km2</th><th>population_density_km2</th></tr></thead><tbody><tr><td>Afghanistan</td><td>Asia</td><td>Southern Asia</td><td>38928346</td><td>652230</td><td>59.68</td></tr><tr><td>Albania</td><td>Europe</td><td>Southern Europe</td><td>2877797</td><td>28748</td><td>100.1</td></tr><tr><td>Algeria</td><td>Africa</td><td>Northern Africa</td><td>43851044</td><td>2381741</td><td>18.41</td></tr><tr><td>Andorra</td><td>Europe</td><td>Southern Europe</td><td>77265</td><td>468</td><td>165.1</td></tr><tr><td>Angola</td><td>Africa</td><td>Middle Africa</td><td>32866272</td><td>1246700</td><td>26.36</td></tr><tr><td>Antigua and Barbuda</td><td>North America</td><td>Caribbean</td><td>97929</td><td>442</td><td>221.56</td></tr><tr><td>Argentina</td><td>South America</td><td>South America</td><td>45376763</td><td>2780400</td><td>16.32</td></tr><tr><td>Armenia</td><td>Asia</td><td>Western Asia</td><td>2963243</td><td>29743</td><td>99.63</td></tr><tr><td>Australia</td><td>Oceania</td><td>Australia and New Zealand</td><td>25649984</td><td>7692024</td><td>3.33</td></tr><tr><td>Austria</td><td>Europe</td><td>Western Europe</td><td>9006398</td><td>83879</td><td>107.37</td></tr><tr><td>Azerbaijan</td><td>Asia</td><td>Western Asia</td><td>10139177</td><td>86600</td><td>117.08</td></tr><tr><td>Bahamas</td><td>North America</td><td>Caribbean</td><td>393244</td><td>13943</td><td>28.2</td></tr><tr><td>Bahrain</td><td>Asia</td><td>Western Asia</td><td>1701575</td><td>765</td><td>2224.28</td></tr><tr><td>Bangladesh</td><td>Asia</td><td>Southern Asia</td><td>164689383</td><td>147570</td><td>1116.01</td></tr><tr><td>Barbados</td><td>North America</td><td>Caribbean</td><td>287375</td><td>430</td><td>668.31</td></tr><tr><td>Belarus</td><td>Europe</td><td>Eastern Europe</td><td>9449323</td><td>207600</td><td>45.52</td></tr><tr><td>Belgium</td><td>Europe</td><td>Western Europe</td><td>11589623</td><td>30528</td><td>379.64</td></tr><tr><td>Belize</td><td>North America</td><td>Central America</td><td>397621</td><td>22966</td><td>17.31</td></tr><tr><td>Benin</td><td>Africa</td><td>Western Africa</td><td>12123200</td><td>114763</td><td>105.64</td></tr><tr><td>Bhutan</td><td>Asia</td><td>Southern Asia</td><td>771608</td><td>38394</td><td>20.1</td></tr><tr><td>Bolivia</td><td>South America</td><td>South America</td><td>11673021</td><td>1098581</td><td>10.63</td></tr><tr><td>Bosnia and Herzegovina</td><td>Europe</td><td>Southern Europe</td><td>3280819</td><td>51129</td><td>64.17</td></tr><tr><td>Botswana</td><td>Africa</td><td>Southern Africa</td><td>2351627</td><td>581730</td><td>4.04</td></tr><tr><td>Brazil</td><td>South America</td><td>South America</td><td>212559417</td><td>8515767</td><td>24.96</td></tr><tr><td>Brunei</td><td>Asia</td><td>South-Eastern Asia</td><td>437479</td><td>5765</td><td>75.89</td></tr><tr><td>Bulgaria</td><td>Europe</td><td>Eastern Europe</td><td>6948445</td><td>110994</td><td>62.6</td></tr><tr><td>Burkina Faso</td><td>Africa</td><td>Western Africa</td><td>20903273</td><td>274200</td><td>76.23</td></tr><tr><td>Burundi</td><td>Africa</td><td>Eastern Africa</td><td>11890784</td><td>27834</td><td>427.2</td></tr><tr><td>Cabo Verde</td><td>Africa</td><td>Western Africa</td><td>555987</td><td>4033</td><td>137.86</td></tr><tr><td>Cambodia</td><td>Asia</td><td>South-Eastern Asia</td><td>16718965</td><td>181035</td><td>92.35</td></tr><tr><td>Cameroon</td><td>Africa</td><td>Middle Africa</td><td>26545863</td><td>475442</td><td>55.83</td></tr><tr><td>Canada</td><td>North America</td><td>Northern America</td><td>37742154</td><td>9984670</td><td>3.78</td></tr><tr><td>Central African Republic</td><td>Africa</td><td>Middle Africa</td><td>4829767</td><td>622984</td><td>7.75</td></tr><tr><td>Chad</td><td>Africa</td><td>Middle Africa</td><td>16425864</td><td>1284000</td><td>12.79</td></tr><tr><td>Chile</td><td>South America</td><td>South America</td><td>19116201</td><td>756102</td><td>25.28</td></tr><tr><td>China</td><td>Asia</td><td>Eastern Asia</td><td>1439323776</td><td>9596961</td><td>149.98</td></tr><tr><td>Colombia</td><td>South America</td><td>South America</td><td>50882891</td><td>1141748</td><td>44.57</td></tr><tr><td>Comoros</td><td>Africa</td><td>Eastern Africa</td><td>869601</td><td>1862</td><td>467.03</td></tr><tr><td>Congo, Democratic Republic of the</td><td>Africa</td><td>Middle Africa</td><td>89561403</td><td>2344858</td><td>38.19</td></tr><tr><td>Congo, Republic of the</td><td>Africa</td><td>Middle Africa</td><td>5518087</td><td>342000</td><td>16.13</td></tr><tr><td>Costa Rica</td><td>North America</td><td>Central America</td><td>5094118</td><td>51100</td><td>99.69</td></tr><tr><td>Croatia</td><td>Europe</td><td>Southern Europe</td><td>4105267</td><td>56594</td><td>72.54</td></tr><tr><td>Cuba</td><td>North America</td><td>Caribbean</td><td>11326616</td><td>109884</td><td>103.08</td></tr><tr><td>Côte d'Ivoire</td><td>Africa</td><td>Western Africa</td><td>26378274</td><td>322463</td><td>81.8</td></tr><tr><td>Cyprus</td><td>Europe</td><td>Western Asia</td><td>1207359</td><td>9251</td><td>130.51</td></tr><tr><td>Czech Republic</td><td>Europe</td><td>Eastern Europe</td><td>10708981</td><td>78866</td><td>135.79</td></tr><tr><td>Denmark</td><td>Europe</td><td>Northern Europe</td><td>5792202</td><td>42933</td><td>134.91</td></tr><tr><td>Djibouti</td><td>Africa</td><td>Eastern Africa</td><td>988000</td><td>23200</td><td>42.59</td></tr><tr><td>Dominica</td><td>North America</td><td>Caribbean</td><td>71986</td><td>751</td><td>95.85</td></tr><tr><td>Dominican Republic</td><td>North America</td><td>Caribbean</td><td>10847910</td><td>48671</td><td>222.88</td></tr><tr><td>Ecuador</td><td>South America</td><td>South America</td><td>17643054</td><td>283561</td><td>62.22</td></tr><tr><td>Egypt</td><td>Africa</td><td>Northern Africa</td><td>102334404</td><td>1002450</td><td>102.08</td></tr><tr><td>El Salvador</td><td>North America</td><td>Central America</td><td>6486205</td><td>21041</td><td>308.27</td></tr><tr><td>Equatorial Guinea</td><td>Africa</td><td>Middle Africa</td><td>1402985</td><td>28051</td><td>50.02</td></tr><tr><td>Eritrea</td><td>Africa</td><td>Eastern Africa</td><td>3546421</td><td>117600</td><td>30.16</td></tr><tr><td>Estonia</td><td>Europe</td><td>Northern Europe</td><td>1331796</td><td>45227</td><td>29.45</td></tr><tr><td>Eswatini</td><td>Africa</td><td>Southern Africa</td><td>1160164</td><td>17364</td><td>66.81</td></tr><tr><td>Ethiopia</td><td>Africa</td><td>Eastern Africa</td><td>114963588</td><td>1104300</td><td>104.11</td></tr><tr><td>Fiji</td><td>Oceania</td><td>Melanesia</td><td>896444</td><td>18274</td><td>49.06</td></tr><tr><td>Finland</td><td>Europe</td><td>Northern Europe</td><td>5540720</td><td>338424</td><td>16.37</td></tr><tr><td>France</td><td>Europe</td><td>Western Europe</td><td>65273511</td><td>551695</td><td>118.31</td></tr><tr><td>Gabon</td><td>Africa</td><td>Middle Africa</td><td>2225728</td><td>267668</td><td>8.32</td></tr><tr><td>Gambia</td><td>Africa</td><td>Western Africa</td><td>2416668</td><td>11295</td><td>213.96</td></tr><tr><td>Georgia</td><td>Asia</td><td>Western Asia</td><td>3989167</td><td>69700</td><td>57.23</td></tr><tr><td>Germany</td><td>Europe</td><td>Western Europe</td><td>83783942</td><td>357022</td><td>234.67</td></tr><tr><td>Ghana</td><td>Africa</td><td>Western Africa</td><td>31072940</td><td>238533</td><td>130.27</td></tr><tr><td>Greece</td><td>Europe</td><td>Southern Europe</td><td>10423054</td><td>131957</td><td>78.99</td></tr><tr><td>Grenada</td><td>North America</td><td>Caribbean</td><td>112523</td><td>344</td><td>327.1</td></tr><tr><td>Guatemala</td><td>North America</td><td>Central America</td><td>17915568</td><td>108889</td><td>164.53</td></tr><tr><td>Guinea</td><td>Africa</td><td>Western Africa</td><td>13132795</td><td>245857</td><td>53.42</td></tr><tr><td>Guinea-Bissau</td><td>Africa</td><td>Western Africa</td><td>1968001</td><td>36125</td><td>54.48</td></tr><tr><td>Guyana</td><td>South America</td><td>South America</td><td>786552</td><td>214969</td><td>3.66</td></tr><tr><td>Haiti</td><td>North America</td><td>Caribbean</td><td>11402528</td><td>27750</td><td>410.9</td></tr><tr><td>Holy See</td><td>Europe</td><td>Southern Europe</td><td>801</td><td>0</td><td>null</td></tr><tr><td>Honduras</td><td>North America</td><td>Central America</td><td>9904607</td><td>112492</td><td>88.05</td></tr><tr><td>Hungary</td><td>Europe</td><td>Eastern Europe</td><td>9660351</td><td>93030</td><td>103.84</td></tr><tr><td>Iceland</td><td>Europe</td><td>Northern Europe</td><td>341243</td><td>103000</td><td>3.31</td></tr><tr><td>India</td><td>Asia</td><td>Southern Asia</td><td>1380004385</td><td>3287263</td><td>419.8</td></tr><tr><td>Indonesia</td><td>Asia</td><td>South-Eastern Asia</td><td>273523615</td><td>1904569</td><td>143.61</td></tr><tr><td>Iran</td><td>Asia</td><td>Southern Asia</td><td>83992949</td><td>1648195</td><td>50.96</td></tr><tr><td>Iraq</td><td>Asia</td><td>Western Asia</td><td>40222493</td><td>438317</td><td>91.77</td></tr><tr><td>Ireland</td><td>Europe</td><td>Northern Europe</td><td>4937786</td><td>70273</td><td>70.27</td></tr><tr><td>Israel</td><td>Asia</td><td>Western Asia</td><td>9053300</td><td>20770</td><td>435.88</td></tr><tr><td>Italy</td><td>Europe</td><td>Southern Europe</td><td>60461826</td><td>301340</td><td>200.64</td></tr><tr><td>Jamaica</td><td>North America</td><td>Caribbean</td><td>2961167</td><td>10991</td><td>269.42</td></tr><tr><td>Japan</td><td>Asia</td><td>Eastern Asia</td><td>126476461</td><td>377975</td><td>334.62</td></tr><tr><td>Jordan</td><td>Asia</td><td>Western Asia</td><td>10203134</td><td>89342</td><td>114.2</td></tr><tr><td>Kazakhstan</td><td>Asia</td><td>Central Asia</td><td>18776707</td><td>2724900</td><td>6.89</td></tr><tr><td>Kenya</td><td>Africa</td><td>Eastern Africa</td><td>53771296</td><td>580367</td><td>92.65</td></tr><tr><td>Kiribati</td><td>Oceania</td><td>Micronesia</td><td>119449</td><td>811</td><td>147.29</td></tr><tr><td>Kuwait</td><td>Asia</td><td>Western Asia</td><td>4270571</td><td>17818</td><td>239.68</td></tr><tr><td>Kyrgyzstan</td><td>Asia</td><td>Central Asia</td><td>6524195</td><td>199951</td><td>32.63</td></tr><tr><td>Laos</td><td>Asia</td><td>South-Eastern Asia</td><td>7275560</td><td>236800</td><td>30.72</td></tr><tr><td>Latvia</td><td>Europe</td><td>Northern Europe</td><td>1886198</td><td>64559</td><td>29.22</td></tr><tr><td>Lebanon</td><td>Asia</td><td>Western Asia</td><td>6825445</td><td>10452</td><td>653.03</td></tr><tr><td>Lesotho</td><td>Africa</td><td>Southern Africa</td><td>2142249</td><td>30355</td><td>70.57</td></tr><tr><td>Liberia</td><td>Africa</td><td>Western Africa</td><td>5073296</td><td>111369</td><td>45.55</td></tr><tr><td>Libya</td><td>Africa</td><td>Northern Africa</td><td>6871292</td><td>1759540</td><td>3.91</td></tr><tr><td>Liechtenstein</td><td>Europe</td><td>Western Europe</td><td>38128</td><td>160</td><td>238.3</td></tr><tr><td>Lithuania</td><td>Europe</td><td>Northern Europe</td><td>2722289</td><td>65300</td><td>41.69</td></tr><tr><td>Luxembourg</td><td>Europe</td><td>Western Europe</td><td>634814</td><td>2586</td><td>245.48</td></tr><tr><td>Madagascar</td><td>Africa</td><td>Eastern Africa</td><td>27691018</td><td>587041</td><td>47.17</td></tr><tr><td>Malawi</td><td>Africa</td><td>Eastern Africa</td><td>19129952</td><td>118484</td><td>161.46</td></tr><tr><td>Malaysia</td><td>Asia</td><td>South-Eastern Asia</td><td>32365999</td><td>330803</td><td>97.84</td></tr><tr><td>Maldives</td><td>Asia</td><td>Southern Asia</td><td>540544</td><td>300</td><td>1801.81</td></tr><tr><td>Mali</td><td>Africa</td><td>Western Africa</td><td>20250833</td><td>1240192</td><td>16.33</td></tr><tr><td>Malta</td><td>Europe</td><td>Southern Europe</td><td>441543</td><td>316</td><td>1397.29</td></tr><tr><td>Marshall Islands</td><td>Oceania</td><td>Micronesia</td><td>59190</td><td>181</td><td>327.02</td></tr><tr><td>Mauritania</td><td>Africa</td><td>Western Africa</td><td>4649658</td><td>1030700</td><td>4.51</td></tr><tr><td>Mauritius</td><td>Africa</td><td>Eastern Africa</td><td>1271768</td><td>2040</td><td>623.42</td></tr><tr><td>Mexico</td><td>North America</td><td>Central America</td><td>128932753</td><td>1964375</td><td>65.64</td></tr><tr><td>Micronesia</td><td>Oceania</td><td>Micronesia</td><td>115023</td><td>702</td><td>163.85</td></tr><tr><td>Moldova</td><td>Europe</td><td>Eastern Europe</td><td>2640438</td><td>33851</td><td>78.0</td></tr><tr><td>Monaco</td><td>Europe</td><td>Western Europe</td><td>39242</td><td>2</td><td>19621.0</td></tr><tr><td>Mongolia</td><td>Asia</td><td>Eastern Asia</td><td>3278290</td><td>1564110</td><td>2.1</td></tr><tr><td>Montenegro</td><td>Europe</td><td>Southern Europe</td><td>622359</td><td>13812</td><td>45.06</td></tr><tr><td>Morocco</td><td>Africa</td><td>Northern Africa</td><td>36910560</td><td>446550</td><td>82.66</td></tr><tr><td>Mozambique</td><td>Africa</td><td>Eastern Africa</td><td>31255435</td><td>801590</td><td>38.99</td></tr><tr><td>Myanmar</td><td>Asia</td><td>South-Eastern Asia</td><td>54409800</td><td>676578</td><td>80.42</td></tr><tr><td>Namibia</td><td>Africa</td><td>Southern Africa</td><td>2540905</td><td>824292</td><td>3.08</td></tr><tr><td>Nauru</td><td>Oceania</td><td>Micronesia</td><td>10824</td><td>21</td><td>515.43</td></tr><tr><td>Nepal</td><td>Asia</td><td>Southern Asia</td><td>29136808</td><td>147181</td><td>197.97</td></tr><tr><td>Netherlands</td><td>Europe</td><td>Western Europe</td><td>17134872</td><td>41543</td><td>412.46</td></tr><tr><td>New Zealand</td><td>Oceania</td><td>Australia and New Zealand</td><td>5084300</td><td>268838</td><td>18.91</td></tr><tr><td>Nicaragua</td><td>North America</td><td>Central America</td><td>6624554</td><td>130373</td><td>50.81</td></tr><tr><td>Niger</td><td>Africa</td><td>Western Africa</td><td>24206644</td><td>1267000</td><td>19.11</td></tr><tr><td>Nigeria</td><td>Africa</td><td>Western Africa</td><td>206139589</td><td>923768</td><td>223.15</td></tr><tr><td>North Korea</td><td>Asia</td><td>Eastern Asia</td><td>25778816</td><td>120538</td><td>213.86</td></tr><tr><td>North Macedonia</td><td>Europe</td><td>Southern Europe</td><td>2083374</td><td>25713</td><td>81.02</td></tr><tr><td>Norway</td><td>Europe</td><td>Northern Europe</td><td>5421241</td><td>385207</td><td>14.07</td></tr><tr><td>Oman</td><td>Asia</td><td>Western Asia</td><td>5106626</td><td>309500</td><td>16.5</td></tr><tr><td>Pakistan</td><td>Asia</td><td>Southern Asia</td><td>220892340</td><td>881913</td><td>250.47</td></tr><tr><td>Palau</td><td>Oceania</td><td>Micronesia</td><td>18094</td><td>459</td><td>39.42</td></tr><tr><td>Palestine, State of</td><td>Asia</td><td>Western Asia</td><td>5101414</td><td>6020</td><td>847.41</td></tr><tr><td>Panama</td><td>North America</td><td>Central America</td><td>4314767</td><td>75417</td><td>57.21</td></tr><tr><td>Papua New Guinea</td><td>Oceania</td><td>Melanesia</td><td>8947024</td><td>462840</td><td>19.33</td></tr><tr><td>Paraguay</td><td>South America</td><td>South America</td><td>7132538</td><td>406752</td><td>17.54</td></tr><tr><td>Peru</td><td>South America</td><td>South America</td><td>32971854</td><td>1285216</td><td>25.65</td></tr><tr><td>Philippines</td><td>Asia</td><td>South-Eastern Asia</td><td>109581078</td><td>300000</td><td>365.27</td></tr><tr><td>Poland</td><td>Europe</td><td>Eastern Europe</td><td>37846611</td><td>312696</td><td>121.03</td></tr><tr><td>Portugal</td><td>Europe</td><td>Southern Europe</td><td>10196709</td><td>92090</td><td>110.73</td></tr><tr><td>Qatar</td><td>Asia</td><td>Western Asia</td><td>2881053</td><td>11586</td><td>248.67</td></tr><tr><td>Romania</td><td>Europe</td><td>Eastern Europe</td><td>19237691</td><td>238391</td><td>80.7</td></tr><tr><td>Russia</td><td>Europe</td><td>Eastern Europe</td><td>144478050</td><td>17098242</td><td>8.45</td></tr><tr><td>Rwanda</td><td>Africa</td><td>Eastern Africa</td><td>12952218</td><td>26338</td><td>491.77</td></tr><tr><td>Saint Kitts and Nevis</td><td>North America</td><td>Caribbean</td><td>53192</td><td>261</td><td>203.8</td></tr><tr><td>Saint Lucia</td><td>North America</td><td>Caribbean</td><td>183627</td><td>616</td><td>298.1</td></tr><tr><td>Saint Vincent and the Grenadines</td><td>North America</td><td>Caribbean</td><td>110940</td><td>389</td><td>285.19</td></tr><tr><td>Samoa</td><td>Oceania</td><td>Polynesia</td><td>198414</td><td>2842</td><td>69.81</td></tr><tr><td>San Marino</td><td>Europe</td><td>Southern Europe</td><td>33938</td><td>61</td><td>556.36</td></tr><tr><td>Sao Tome and Principe</td><td>Africa</td><td>Middle Africa</td><td>219159</td><td>964</td><td>227.34</td></tr><tr><td>Saudi Arabia</td><td>Asia</td><td>Western Asia</td><td>34813871</td><td>2149690</td><td>16.19</td></tr><tr><td>Senegal</td><td>Africa</td><td>Western Africa</td><td>16743927</td><td>196722</td><td>85.11</td></tr><tr><td>Serbia</td><td>Europe</td><td>Southern Europe</td><td>6944975</td><td>88361</td><td>78.6</td></tr><tr><td>Seychelles</td><td>Africa</td><td>Eastern Africa</td><td>98347</td><td>455</td><td>216.15</td></tr><tr><td>Sierra Leone</td><td>Africa</td><td>Western Africa</td><td>7976983</td><td>71740</td><td>111.19</td></tr><tr><td>Singapore</td><td>Asia</td><td>South-Eastern Asia</td><td>5850342</td><td>719</td><td>8136.78</td></tr><tr><td>Slovakia</td><td>Europe</td><td>Eastern Europe</td><td>5459642</td><td>49037</td><td>111.34</td></tr><tr><td>Slovenia</td><td>Europe</td><td>Southern Europe</td><td>2078938</td><td>20273</td><td>102.55</td></tr><tr><td>Solomon Islands</td><td>Oceania</td><td>Melanesia</td><td>686884</td><td>28896</td><td>23.77</td></tr><tr><td>Somalia</td><td>Africa</td><td>Eastern Africa</td><td>15893222</td><td>637657</td><td>24.92</td></tr><tr><td>South Africa</td><td>Africa</td><td>Southern Africa</td><td>59308690</td><td>1221037</td><td>48.57</td></tr><tr><td>South Korea</td><td>Asia</td><td>Eastern Asia</td><td>51269185</td><td>100210</td><td>511.62</td></tr><tr><td>South Sudan</td><td>Africa</td><td>Eastern Africa</td><td>11193725</td><td>644329</td><td>17.37</td></tr><tr><td>Spain</td><td>Europe</td><td>Southern Europe</td><td>46754778</td><td>505992</td><td>92.4</td></tr><tr><td>Sri Lanka</td><td>Asia</td><td>Southern Asia</td><td>21413249</td><td>65610</td><td>326.37</td></tr><tr><td>Sudan</td><td>Africa</td><td>Northern Africa</td><td>43849260</td><td>1861484</td><td>23.56</td></tr><tr><td>Suriname</td><td>South America</td><td>South America</td><td>586634</td><td>163820</td><td>3.58</td></tr><tr><td>Sweden</td><td>Europe</td><td>Northern Europe</td><td>10099265</td><td>450295</td><td>22.43</td></tr><tr><td>Switzerland</td><td>Europe</td><td>Western Europe</td><td>8654622</td><td>41285</td><td>209.63</td></tr><tr><td>Syria</td><td>Asia</td><td>Western Asia</td><td>17500657</td><td>185180</td><td>94.51</td></tr><tr><td>Tajikistan</td><td>Asia</td><td>Central Asia</td><td>9537645</td><td>143100</td><td>66.65</td></tr><tr><td>Tanzania</td><td>Africa</td><td>Eastern Africa</td><td>59734218</td><td>945087</td><td>63.2</td></tr><tr><td>Thailand</td><td>Asia</td><td>South-Eastern Asia</td><td>69799978</td><td>513120</td><td>136.03</td></tr><tr><td>Timor-Leste</td><td>Asia</td><td>South-Eastern Asia</td><td>1318445</td><td>14874</td><td>88.64</td></tr><tr><td>Togo</td><td>Africa</td><td>Western Africa</td><td>8278724</td><td>56785</td><td>145.79</td></tr><tr><td>Tonga</td><td>Oceania</td><td>Polynesia</td><td>105695</td><td>747</td><td>141.49</td></tr><tr><td>Trinidad and Tobago</td><td>North America</td><td>Caribbean</td><td>1399488</td><td>5130</td><td>272.8</td></tr><tr><td>Tunisia</td><td>Africa</td><td>Northern Africa</td><td>11818619</td><td>163610</td><td>72.24</td></tr><tr><td>Turkey</td><td>Asia</td><td>Western Asia</td><td>84339067</td><td>783562</td><td>107.64</td></tr><tr><td>Turkmenistan</td><td>Asia</td><td>Central Asia</td><td>6031200</td><td>488100</td><td>12.36</td></tr><tr><td>Tuvalu</td><td>Oceania</td><td>Polynesia</td><td>11792</td><td>26</td><td>453.54</td></tr><tr><td>Uganda</td><td>Africa</td><td>Eastern Africa</td><td>45741007</td><td>241550</td><td>189.36</td></tr><tr><td>Ukraine</td><td>Europe</td><td>Eastern Europe</td><td>43733762</td><td>603628</td><td>72.45</td></tr><tr><td>United Arab Emirates</td><td>Asia</td><td>Western Asia</td><td>9890400</td><td>83600</td><td>118.31</td></tr><tr><td>United Kingdom</td><td>Europe</td><td>Northern Europe</td><td>67886011</td><td>243610</td><td>278.67</td></tr><tr><td>United States</td><td>North America</td><td>Northern America</td><td>331002651</td><td>9833520</td><td>33.66</td></tr><tr><td>Uruguay</td><td>South America</td><td>South America</td><td>3473730</td><td>176215</td><td>19.71</td></tr><tr><td>Uzbekistan</td><td>Asia</td><td>Central Asia</td><td>33469203</td><td>447400</td><td>74.81</td></tr><tr><td>Vanuatu</td><td>Oceania</td><td>Melanesia</td><td>307145</td><td>12189</td><td>25.2</td></tr><tr><td>Venezuela</td><td>South America</td><td>South America</td><td>28435940</td><td>916445</td><td>31.03</td></tr><tr><td>Vietnam</td><td>Asia</td><td>South-Eastern Asia</td><td>97338579</td><td>331212</td><td>293.89</td></tr><tr><td>Yemen</td><td>Asia</td><td>Western Asia</td><td>29825964</td><td>527968</td><td>56.49</td></tr><tr><td>Zambia</td><td>Africa</td><td>Eastern Africa</td><td>18383955</td><td>752612</td><td>24.43</td></tr><tr><td>Zimbabwe</td><td>Africa</td><td>Eastern Africa</td><td>14862924</td><td>390757</td><td>38.04</td></tr></tbody></table></div>"
      ]
     },
     "metadata": {
      "application/vnd.databricks.v1+output": {
       "addedWidgets": {},
       "aggData": [],
       "aggError": "",
       "aggOverflow": false,
       "aggSchema": [],
       "aggSeriesLimitReached": false,
       "aggType": "",
       "arguments": {},
       "columnCustomDisplayInfos": {},
       "data": [
        [
         "Afghanistan",
         "Asia",
         "Southern Asia",
         38928346,
         652230,
         59.68
        ],
        [
         "Albania",
         "Europe",
         "Southern Europe",
         2877797,
         28748,
         100.1
        ],
        [
         "Algeria",
         "Africa",
         "Northern Africa",
         43851044,
         2381741,
         18.41
        ],
        [
         "Andorra",
         "Europe",
         "Southern Europe",
         77265,
         468,
         165.1
        ],
        [
         "Angola",
         "Africa",
         "Middle Africa",
         32866272,
         1246700,
         26.36
        ],
        [
         "Antigua and Barbuda",
         "North America",
         "Caribbean",
         97929,
         442,
         221.56
        ],
        [
         "Argentina",
         "South America",
         "South America",
         45376763,
         2780400,
         16.32
        ],
        [
         "Armenia",
         "Asia",
         "Western Asia",
         2963243,
         29743,
         99.63
        ],
        [
         "Australia",
         "Oceania",
         "Australia and New Zealand",
         25649984,
         7692024,
         3.33
        ],
        [
         "Austria",
         "Europe",
         "Western Europe",
         9006398,
         83879,
         107.37
        ],
        [
         "Azerbaijan",
         "Asia",
         "Western Asia",
         10139177,
         86600,
         117.08
        ],
        [
         "Bahamas",
         "North America",
         "Caribbean",
         393244,
         13943,
         28.2
        ],
        [
         "Bahrain",
         "Asia",
         "Western Asia",
         1701575,
         765,
         2224.28
        ],
        [
         "Bangladesh",
         "Asia",
         "Southern Asia",
         164689383,
         147570,
         1116.01
        ],
        [
         "Barbados",
         "North America",
         "Caribbean",
         287375,
         430,
         668.31
        ],
        [
         "Belarus",
         "Europe",
         "Eastern Europe",
         9449323,
         207600,
         45.52
        ],
        [
         "Belgium",
         "Europe",
         "Western Europe",
         11589623,
         30528,
         379.64
        ],
        [
         "Belize",
         "North America",
         "Central America",
         397621,
         22966,
         17.31
        ],
        [
         "Benin",
         "Africa",
         "Western Africa",
         12123200,
         114763,
         105.64
        ],
        [
         "Bhutan",
         "Asia",
         "Southern Asia",
         771608,
         38394,
         20.1
        ],
        [
         "Bolivia",
         "South America",
         "South America",
         11673021,
         1098581,
         10.63
        ],
        [
         "Bosnia and Herzegovina",
         "Europe",
         "Southern Europe",
         3280819,
         51129,
         64.17
        ],
        [
         "Botswana",
         "Africa",
         "Southern Africa",
         2351627,
         581730,
         4.04
        ],
        [
         "Brazil",
         "South America",
         "South America",
         212559417,
         8515767,
         24.96
        ],
        [
         "Brunei",
         "Asia",
         "South-Eastern Asia",
         437479,
         5765,
         75.89
        ],
        [
         "Bulgaria",
         "Europe",
         "Eastern Europe",
         6948445,
         110994,
         62.6
        ],
        [
         "Burkina Faso",
         "Africa",
         "Western Africa",
         20903273,
         274200,
         76.23
        ],
        [
         "Burundi",
         "Africa",
         "Eastern Africa",
         11890784,
         27834,
         427.2
        ],
        [
         "Cabo Verde",
         "Africa",
         "Western Africa",
         555987,
         4033,
         137.86
        ],
        [
         "Cambodia",
         "Asia",
         "South-Eastern Asia",
         16718965,
         181035,
         92.35
        ],
        [
         "Cameroon",
         "Africa",
         "Middle Africa",
         26545863,
         475442,
         55.83
        ],
        [
         "Canada",
         "North America",
         "Northern America",
         37742154,
         9984670,
         3.78
        ],
        [
         "Central African Republic",
         "Africa",
         "Middle Africa",
         4829767,
         622984,
         7.75
        ],
        [
         "Chad",
         "Africa",
         "Middle Africa",
         16425864,
         1284000,
         12.79
        ],
        [
         "Chile",
         "South America",
         "South America",
         19116201,
         756102,
         25.28
        ],
        [
         "China",
         "Asia",
         "Eastern Asia",
         1439323776,
         9596961,
         149.98
        ],
        [
         "Colombia",
         "South America",
         "South America",
         50882891,
         1141748,
         44.57
        ],
        [
         "Comoros",
         "Africa",
         "Eastern Africa",
         869601,
         1862,
         467.03
        ],
        [
         "Congo, Democratic Republic of the",
         "Africa",
         "Middle Africa",
         89561403,
         2344858,
         38.19
        ],
        [
         "Congo, Republic of the",
         "Africa",
         "Middle Africa",
         5518087,
         342000,
         16.13
        ],
        [
         "Costa Rica",
         "North America",
         "Central America",
         5094118,
         51100,
         99.69
        ],
        [
         "Croatia",
         "Europe",
         "Southern Europe",
         4105267,
         56594,
         72.54
        ],
        [
         "Cuba",
         "North America",
         "Caribbean",
         11326616,
         109884,
         103.08
        ],
        [
         "Côte d'Ivoire",
         "Africa",
         "Western Africa",
         26378274,
         322463,
         81.8
        ],
        [
         "Cyprus",
         "Europe",
         "Western Asia",
         1207359,
         9251,
         130.51
        ],
        [
         "Czech Republic",
         "Europe",
         "Eastern Europe",
         10708981,
         78866,
         135.79
        ],
        [
         "Denmark",
         "Europe",
         "Northern Europe",
         5792202,
         42933,
         134.91
        ],
        [
         "Djibouti",
         "Africa",
         "Eastern Africa",
         988000,
         23200,
         42.59
        ],
        [
         "Dominica",
         "North America",
         "Caribbean",
         71986,
         751,
         95.85
        ],
        [
         "Dominican Republic",
         "North America",
         "Caribbean",
         10847910,
         48671,
         222.88
        ],
        [
         "Ecuador",
         "South America",
         "South America",
         17643054,
         283561,
         62.22
        ],
        [
         "Egypt",
         "Africa",
         "Northern Africa",
         102334404,
         1002450,
         102.08
        ],
        [
         "El Salvador",
         "North America",
         "Central America",
         6486205,
         21041,
         308.27
        ],
        [
         "Equatorial Guinea",
         "Africa",
         "Middle Africa",
         1402985,
         28051,
         50.02
        ],
        [
         "Eritrea",
         "Africa",
         "Eastern Africa",
         3546421,
         117600,
         30.16
        ],
        [
         "Estonia",
         "Europe",
         "Northern Europe",
         1331796,
         45227,
         29.45
        ],
        [
         "Eswatini",
         "Africa",
         "Southern Africa",
         1160164,
         17364,
         66.81
        ],
        [
         "Ethiopia",
         "Africa",
         "Eastern Africa",
         114963588,
         1104300,
         104.11
        ],
        [
         "Fiji",
         "Oceania",
         "Melanesia",
         896444,
         18274,
         49.06
        ],
        [
         "Finland",
         "Europe",
         "Northern Europe",
         5540720,
         338424,
         16.37
        ],
        [
         "France",
         "Europe",
         "Western Europe",
         65273511,
         551695,
         118.31
        ],
        [
         "Gabon",
         "Africa",
         "Middle Africa",
         2225728,
         267668,
         8.32
        ],
        [
         "Gambia",
         "Africa",
         "Western Africa",
         2416668,
         11295,
         213.96
        ],
        [
         "Georgia",
         "Asia",
         "Western Asia",
         3989167,
         69700,
         57.23
        ],
        [
         "Germany",
         "Europe",
         "Western Europe",
         83783942,
         357022,
         234.67
        ],
        [
         "Ghana",
         "Africa",
         "Western Africa",
         31072940,
         238533,
         130.27
        ],
        [
         "Greece",
         "Europe",
         "Southern Europe",
         10423054,
         131957,
         78.99
        ],
        [
         "Grenada",
         "North America",
         "Caribbean",
         112523,
         344,
         327.1
        ],
        [
         "Guatemala",
         "North America",
         "Central America",
         17915568,
         108889,
         164.53
        ],
        [
         "Guinea",
         "Africa",
         "Western Africa",
         13132795,
         245857,
         53.42
        ],
        [
         "Guinea-Bissau",
         "Africa",
         "Western Africa",
         1968001,
         36125,
         54.48
        ],
        [
         "Guyana",
         "South America",
         "South America",
         786552,
         214969,
         3.66
        ],
        [
         "Haiti",
         "North America",
         "Caribbean",
         11402528,
         27750,
         410.9
        ],
        [
         "Holy See",
         "Europe",
         "Southern Europe",
         801,
         0,
         null
        ],
        [
         "Honduras",
         "North America",
         "Central America",
         9904607,
         112492,
         88.05
        ],
        [
         "Hungary",
         "Europe",
         "Eastern Europe",
         9660351,
         93030,
         103.84
        ],
        [
         "Iceland",
         "Europe",
         "Northern Europe",
         341243,
         103000,
         3.31
        ],
        [
         "India",
         "Asia",
         "Southern Asia",
         1380004385,
         3287263,
         419.8
        ],
        [
         "Indonesia",
         "Asia",
         "South-Eastern Asia",
         273523615,
         1904569,
         143.61
        ],
        [
         "Iran",
         "Asia",
         "Southern Asia",
         83992949,
         1648195,
         50.96
        ],
        [
         "Iraq",
         "Asia",
         "Western Asia",
         40222493,
         438317,
         91.77
        ],
        [
         "Ireland",
         "Europe",
         "Northern Europe",
         4937786,
         70273,
         70.27
        ],
        [
         "Israel",
         "Asia",
         "Western Asia",
         9053300,
         20770,
         435.88
        ],
        [
         "Italy",
         "Europe",
         "Southern Europe",
         60461826,
         301340,
         200.64
        ],
        [
         "Jamaica",
         "North America",
         "Caribbean",
         2961167,
         10991,
         269.42
        ],
        [
         "Japan",
         "Asia",
         "Eastern Asia",
         126476461,
         377975,
         334.62
        ],
        [
         "Jordan",
         "Asia",
         "Western Asia",
         10203134,
         89342,
         114.2
        ],
        [
         "Kazakhstan",
         "Asia",
         "Central Asia",
         18776707,
         2724900,
         6.89
        ],
        [
         "Kenya",
         "Africa",
         "Eastern Africa",
         53771296,
         580367,
         92.65
        ],
        [
         "Kiribati",
         "Oceania",
         "Micronesia",
         119449,
         811,
         147.29
        ],
        [
         "Kuwait",
         "Asia",
         "Western Asia",
         4270571,
         17818,
         239.68
        ],
        [
         "Kyrgyzstan",
         "Asia",
         "Central Asia",
         6524195,
         199951,
         32.63
        ],
        [
         "Laos",
         "Asia",
         "South-Eastern Asia",
         7275560,
         236800,
         30.72
        ],
        [
         "Latvia",
         "Europe",
         "Northern Europe",
         1886198,
         64559,
         29.22
        ],
        [
         "Lebanon",
         "Asia",
         "Western Asia",
         6825445,
         10452,
         653.03
        ],
        [
         "Lesotho",
         "Africa",
         "Southern Africa",
         2142249,
         30355,
         70.57
        ],
        [
         "Liberia",
         "Africa",
         "Western Africa",
         5073296,
         111369,
         45.55
        ],
        [
         "Libya",
         "Africa",
         "Northern Africa",
         6871292,
         1759540,
         3.91
        ],
        [
         "Liechtenstein",
         "Europe",
         "Western Europe",
         38128,
         160,
         238.3
        ],
        [
         "Lithuania",
         "Europe",
         "Northern Europe",
         2722289,
         65300,
         41.69
        ],
        [
         "Luxembourg",
         "Europe",
         "Western Europe",
         634814,
         2586,
         245.48
        ],
        [
         "Madagascar",
         "Africa",
         "Eastern Africa",
         27691018,
         587041,
         47.17
        ],
        [
         "Malawi",
         "Africa",
         "Eastern Africa",
         19129952,
         118484,
         161.46
        ],
        [
         "Malaysia",
         "Asia",
         "South-Eastern Asia",
         32365999,
         330803,
         97.84
        ],
        [
         "Maldives",
         "Asia",
         "Southern Asia",
         540544,
         300,
         1801.81
        ],
        [
         "Mali",
         "Africa",
         "Western Africa",
         20250833,
         1240192,
         16.33
        ],
        [
         "Malta",
         "Europe",
         "Southern Europe",
         441543,
         316,
         1397.29
        ],
        [
         "Marshall Islands",
         "Oceania",
         "Micronesia",
         59190,
         181,
         327.02
        ],
        [
         "Mauritania",
         "Africa",
         "Western Africa",
         4649658,
         1030700,
         4.51
        ],
        [
         "Mauritius",
         "Africa",
         "Eastern Africa",
         1271768,
         2040,
         623.42
        ],
        [
         "Mexico",
         "North America",
         "Central America",
         128932753,
         1964375,
         65.64
        ],
        [
         "Micronesia",
         "Oceania",
         "Micronesia",
         115023,
         702,
         163.85
        ],
        [
         "Moldova",
         "Europe",
         "Eastern Europe",
         2640438,
         33851,
         78.0
        ],
        [
         "Monaco",
         "Europe",
         "Western Europe",
         39242,
         2,
         19621.0
        ],
        [
         "Mongolia",
         "Asia",
         "Eastern Asia",
         3278290,
         1564110,
         2.1
        ],
        [
         "Montenegro",
         "Europe",
         "Southern Europe",
         622359,
         13812,
         45.06
        ],
        [
         "Morocco",
         "Africa",
         "Northern Africa",
         36910560,
         446550,
         82.66
        ],
        [
         "Mozambique",
         "Africa",
         "Eastern Africa",
         31255435,
         801590,
         38.99
        ],
        [
         "Myanmar",
         "Asia",
         "South-Eastern Asia",
         54409800,
         676578,
         80.42
        ],
        [
         "Namibia",
         "Africa",
         "Southern Africa",
         2540905,
         824292,
         3.08
        ],
        [
         "Nauru",
         "Oceania",
         "Micronesia",
         10824,
         21,
         515.43
        ],
        [
         "Nepal",
         "Asia",
         "Southern Asia",
         29136808,
         147181,
         197.97
        ],
        [
         "Netherlands",
         "Europe",
         "Western Europe",
         17134872,
         41543,
         412.46
        ],
        [
         "New Zealand",
         "Oceania",
         "Australia and New Zealand",
         5084300,
         268838,
         18.91
        ],
        [
         "Nicaragua",
         "North America",
         "Central America",
         6624554,
         130373,
         50.81
        ],
        [
         "Niger",
         "Africa",
         "Western Africa",
         24206644,
         1267000,
         19.11
        ],
        [
         "Nigeria",
         "Africa",
         "Western Africa",
         206139589,
         923768,
         223.15
        ],
        [
         "North Korea",
         "Asia",
         "Eastern Asia",
         25778816,
         120538,
         213.86
        ],
        [
         "North Macedonia",
         "Europe",
         "Southern Europe",
         2083374,
         25713,
         81.02
        ],
        [
         "Norway",
         "Europe",
         "Northern Europe",
         5421241,
         385207,
         14.07
        ],
        [
         "Oman",
         "Asia",
         "Western Asia",
         5106626,
         309500,
         16.5
        ],
        [
         "Pakistan",
         "Asia",
         "Southern Asia",
         220892340,
         881913,
         250.47
        ],
        [
         "Palau",
         "Oceania",
         "Micronesia",
         18094,
         459,
         39.42
        ],
        [
         "Palestine, State of",
         "Asia",
         "Western Asia",
         5101414,
         6020,
         847.41
        ],
        [
         "Panama",
         "North America",
         "Central America",
         4314767,
         75417,
         57.21
        ],
        [
         "Papua New Guinea",
         "Oceania",
         "Melanesia",
         8947024,
         462840,
         19.33
        ],
        [
         "Paraguay",
         "South America",
         "South America",
         7132538,
         406752,
         17.54
        ],
        [
         "Peru",
         "South America",
         "South America",
         32971854,
         1285216,
         25.65
        ],
        [
         "Philippines",
         "Asia",
         "South-Eastern Asia",
         109581078,
         300000,
         365.27
        ],
        [
         "Poland",
         "Europe",
         "Eastern Europe",
         37846611,
         312696,
         121.03
        ],
        [
         "Portugal",
         "Europe",
         "Southern Europe",
         10196709,
         92090,
         110.73
        ],
        [
         "Qatar",
         "Asia",
         "Western Asia",
         2881053,
         11586,
         248.67
        ],
        [
         "Romania",
         "Europe",
         "Eastern Europe",
         19237691,
         238391,
         80.7
        ],
        [
         "Russia",
         "Europe",
         "Eastern Europe",
         144478050,
         17098242,
         8.45
        ],
        [
         "Rwanda",
         "Africa",
         "Eastern Africa",
         12952218,
         26338,
         491.77
        ],
        [
         "Saint Kitts and Nevis",
         "North America",
         "Caribbean",
         53192,
         261,
         203.8
        ],
        [
         "Saint Lucia",
         "North America",
         "Caribbean",
         183627,
         616,
         298.1
        ],
        [
         "Saint Vincent and the Grenadines",
         "North America",
         "Caribbean",
         110940,
         389,
         285.19
        ],
        [
         "Samoa",
         "Oceania",
         "Polynesia",
         198414,
         2842,
         69.81
        ],
        [
         "San Marino",
         "Europe",
         "Southern Europe",
         33938,
         61,
         556.36
        ],
        [
         "Sao Tome and Principe",
         "Africa",
         "Middle Africa",
         219159,
         964,
         227.34
        ],
        [
         "Saudi Arabia",
         "Asia",
         "Western Asia",
         34813871,
         2149690,
         16.19
        ],
        [
         "Senegal",
         "Africa",
         "Western Africa",
         16743927,
         196722,
         85.11
        ],
        [
         "Serbia",
         "Europe",
         "Southern Europe",
         6944975,
         88361,
         78.6
        ],
        [
         "Seychelles",
         "Africa",
         "Eastern Africa",
         98347,
         455,
         216.15
        ],
        [
         "Sierra Leone",
         "Africa",
         "Western Africa",
         7976983,
         71740,
         111.19
        ],
        [
         "Singapore",
         "Asia",
         "South-Eastern Asia",
         5850342,
         719,
         8136.78
        ],
        [
         "Slovakia",
         "Europe",
         "Eastern Europe",
         5459642,
         49037,
         111.34
        ],
        [
         "Slovenia",
         "Europe",
         "Southern Europe",
         2078938,
         20273,
         102.55
        ],
        [
         "Solomon Islands",
         "Oceania",
         "Melanesia",
         686884,
         28896,
         23.77
        ],
        [
         "Somalia",
         "Africa",
         "Eastern Africa",
         15893222,
         637657,
         24.92
        ],
        [
         "South Africa",
         "Africa",
         "Southern Africa",
         59308690,
         1221037,
         48.57
        ],
        [
         "South Korea",
         "Asia",
         "Eastern Asia",
         51269185,
         100210,
         511.62
        ],
        [
         "South Sudan",
         "Africa",
         "Eastern Africa",
         11193725,
         644329,
         17.37
        ],
        [
         "Spain",
         "Europe",
         "Southern Europe",
         46754778,
         505992,
         92.4
        ],
        [
         "Sri Lanka",
         "Asia",
         "Southern Asia",
         21413249,
         65610,
         326.37
        ],
        [
         "Sudan",
         "Africa",
         "Northern Africa",
         43849260,
         1861484,
         23.56
        ],
        [
         "Suriname",
         "South America",
         "South America",
         586634,
         163820,
         3.58
        ],
        [
         "Sweden",
         "Europe",
         "Northern Europe",
         10099265,
         450295,
         22.43
        ],
        [
         "Switzerland",
         "Europe",
         "Western Europe",
         8654622,
         41285,
         209.63
        ],
        [
         "Syria",
         "Asia",
         "Western Asia",
         17500657,
         185180,
         94.51
        ],
        [
         "Tajikistan",
         "Asia",
         "Central Asia",
         9537645,
         143100,
         66.65
        ],
        [
         "Tanzania",
         "Africa",
         "Eastern Africa",
         59734218,
         945087,
         63.2
        ],
        [
         "Thailand",
         "Asia",
         "South-Eastern Asia",
         69799978,
         513120,
         136.03
        ],
        [
         "Timor-Leste",
         "Asia",
         "South-Eastern Asia",
         1318445,
         14874,
         88.64
        ],
        [
         "Togo",
         "Africa",
         "Western Africa",
         8278724,
         56785,
         145.79
        ],
        [
         "Tonga",
         "Oceania",
         "Polynesia",
         105695,
         747,
         141.49
        ],
        [
         "Trinidad and Tobago",
         "North America",
         "Caribbean",
         1399488,
         5130,
         272.8
        ],
        [
         "Tunisia",
         "Africa",
         "Northern Africa",
         11818619,
         163610,
         72.24
        ],
        [
         "Turkey",
         "Asia",
         "Western Asia",
         84339067,
         783562,
         107.64
        ],
        [
         "Turkmenistan",
         "Asia",
         "Central Asia",
         6031200,
         488100,
         12.36
        ],
        [
         "Tuvalu",
         "Oceania",
         "Polynesia",
         11792,
         26,
         453.54
        ],
        [
         "Uganda",
         "Africa",
         "Eastern Africa",
         45741007,
         241550,
         189.36
        ],
        [
         "Ukraine",
         "Europe",
         "Eastern Europe",
         43733762,
         603628,
         72.45
        ],
        [
         "United Arab Emirates",
         "Asia",
         "Western Asia",
         9890400,
         83600,
         118.31
        ],
        [
         "United Kingdom",
         "Europe",
         "Northern Europe",
         67886011,
         243610,
         278.67
        ],
        [
         "United States",
         "North America",
         "Northern America",
         331002651,
         9833520,
         33.66
        ],
        [
         "Uruguay",
         "South America",
         "South America",
         3473730,
         176215,
         19.71
        ],
        [
         "Uzbekistan",
         "Asia",
         "Central Asia",
         33469203,
         447400,
         74.81
        ],
        [
         "Vanuatu",
         "Oceania",
         "Melanesia",
         307145,
         12189,
         25.2
        ],
        [
         "Venezuela",
         "South America",
         "South America",
         28435940,
         916445,
         31.03
        ],
        [
         "Vietnam",
         "Asia",
         "South-Eastern Asia",
         97338579,
         331212,
         293.89
        ],
        [
         "Yemen",
         "Asia",
         "Western Asia",
         29825964,
         527968,
         56.49
        ],
        [
         "Zambia",
         "Africa",
         "Eastern Africa",
         18383955,
         752612,
         24.43
        ],
        [
         "Zimbabwe",
         "Africa",
         "Eastern Africa",
         14862924,
         390757,
         38.04
        ]
       ],
       "datasetInfos": [],
       "dbfsResultPath": null,
       "isJsonSchema": true,
       "metadata": {},
       "overflow": false,
       "plotOptions": {
        "customPlotOptions": {},
        "displayType": "table",
        "pivotAggregation": null,
        "pivotColumns": null,
        "xColumns": null,
        "yColumns": null
       },
       "removedWidgets": [],
       "schema": [
        {
         "metadata": "{}",
         "name": "country_name",
         "type": "\"string\""
        },
        {
         "metadata": "{}",
         "name": "continent",
         "type": "\"string\""
        },
        {
         "metadata": "{}",
         "name": "sub_region",
         "type": "\"string\""
        },
        {
         "metadata": "{}",
         "name": "population",
         "type": "\"long\""
        },
        {
         "metadata": "{}",
         "name": "area_km2",
         "type": "\"integer\""
        },
        {
         "metadata": "{}",
         "name": "population_density_km2",
         "type": "\"double\""
        }
       ],
       "type": "table"
      }
     },
     "output_type": "display_data"
    }
   ],
   "source": [
    "# expr() can be used in the select, withColumn and filter methods\n",
    "\n",
    "df.withColumn(\"population_density_km2\", expr(\"round(population/area_km2,2)\")).display()"
   ]
  },
  {
   "cell_type": "code",
   "execution_count": 0,
   "metadata": {
    "application/vnd.databricks.v1+cell": {
     "cellMetadata": {
      "byteLimit": 2048000,
      "rowLimit": 10000
     },
     "inputWidgets": {},
     "nuid": "3dfaeec8-57b9-42d1-aa24-c610c07c3cae",
     "showTitle": false,
     "tableResultSettingsMap": {},
     "title": ""
    }
   },
   "outputs": [
    {
     "output_type": "display_data",
     "data": {
      "text/html": [
       "<style scoped>\n",
       "  .table-result-container {\n",
       "    max-height: 300px;\n",
       "    overflow: auto;\n",
       "  }\n",
       "  table, th, td {\n",
       "    border: 1px solid black;\n",
       "    border-collapse: collapse;\n",
       "  }\n",
       "  th, td {\n",
       "    padding: 5px;\n",
       "  }\n",
       "  th {\n",
       "    text-align: left;\n",
       "  }\n",
       "</style><div class='table-result-container'><table class='table-result'><thead style='background-color: white'><tr><th>country_name</th><th>population_density_km2</th></tr></thead><tbody><tr><td>Afghanistan</td><td>59.68</td></tr><tr><td>Albania</td><td>100.1</td></tr><tr><td>Algeria</td><td>18.41</td></tr><tr><td>Andorra</td><td>165.1</td></tr><tr><td>Angola</td><td>26.36</td></tr><tr><td>Antigua and Barbuda</td><td>221.56</td></tr><tr><td>Argentina</td><td>16.32</td></tr><tr><td>Armenia</td><td>99.63</td></tr><tr><td>Australia</td><td>3.33</td></tr><tr><td>Austria</td><td>107.37</td></tr><tr><td>Azerbaijan</td><td>117.08</td></tr><tr><td>Bahamas</td><td>28.2</td></tr><tr><td>Bahrain</td><td>2224.28</td></tr><tr><td>Bangladesh</td><td>1116.01</td></tr><tr><td>Barbados</td><td>668.31</td></tr><tr><td>Belarus</td><td>45.52</td></tr><tr><td>Belgium</td><td>379.64</td></tr><tr><td>Belize</td><td>17.31</td></tr><tr><td>Benin</td><td>105.64</td></tr><tr><td>Bhutan</td><td>20.1</td></tr><tr><td>Bolivia</td><td>10.63</td></tr><tr><td>Bosnia and Herzegovina</td><td>64.17</td></tr><tr><td>Botswana</td><td>4.04</td></tr><tr><td>Brazil</td><td>24.96</td></tr><tr><td>Brunei</td><td>75.89</td></tr><tr><td>Bulgaria</td><td>62.6</td></tr><tr><td>Burkina Faso</td><td>76.23</td></tr><tr><td>Burundi</td><td>427.2</td></tr><tr><td>Cabo Verde</td><td>137.86</td></tr><tr><td>Cambodia</td><td>92.35</td></tr><tr><td>Cameroon</td><td>55.83</td></tr><tr><td>Canada</td><td>3.78</td></tr><tr><td>Central African Republic</td><td>7.75</td></tr><tr><td>Chad</td><td>12.79</td></tr><tr><td>Chile</td><td>25.28</td></tr><tr><td>China</td><td>149.98</td></tr><tr><td>Colombia</td><td>44.57</td></tr><tr><td>Comoros</td><td>467.03</td></tr><tr><td>Congo, Democratic Republic of the</td><td>38.19</td></tr><tr><td>Congo, Republic of the</td><td>16.13</td></tr><tr><td>Costa Rica</td><td>99.69</td></tr><tr><td>Croatia</td><td>72.54</td></tr><tr><td>Cuba</td><td>103.08</td></tr><tr><td>Côte d'Ivoire</td><td>81.8</td></tr><tr><td>Cyprus</td><td>130.51</td></tr><tr><td>Czech Republic</td><td>135.79</td></tr><tr><td>Denmark</td><td>134.91</td></tr><tr><td>Djibouti</td><td>42.59</td></tr><tr><td>Dominica</td><td>95.85</td></tr><tr><td>Dominican Republic</td><td>222.88</td></tr><tr><td>Ecuador</td><td>62.22</td></tr><tr><td>Egypt</td><td>102.08</td></tr><tr><td>El Salvador</td><td>308.27</td></tr><tr><td>Equatorial Guinea</td><td>50.02</td></tr><tr><td>Eritrea</td><td>30.16</td></tr><tr><td>Estonia</td><td>29.45</td></tr><tr><td>Eswatini</td><td>66.81</td></tr><tr><td>Ethiopia</td><td>104.11</td></tr><tr><td>Fiji</td><td>49.06</td></tr><tr><td>Finland</td><td>16.37</td></tr><tr><td>France</td><td>118.31</td></tr><tr><td>Gabon</td><td>8.32</td></tr><tr><td>Gambia</td><td>213.96</td></tr><tr><td>Georgia</td><td>57.23</td></tr><tr><td>Germany</td><td>234.67</td></tr><tr><td>Ghana</td><td>130.27</td></tr><tr><td>Greece</td><td>78.99</td></tr><tr><td>Grenada</td><td>327.1</td></tr><tr><td>Guatemala</td><td>164.53</td></tr><tr><td>Guinea</td><td>53.42</td></tr><tr><td>Guinea-Bissau</td><td>54.48</td></tr><tr><td>Guyana</td><td>3.66</td></tr><tr><td>Haiti</td><td>410.9</td></tr><tr><td>Holy See</td><td>null</td></tr><tr><td>Honduras</td><td>88.05</td></tr><tr><td>Hungary</td><td>103.84</td></tr><tr><td>Iceland</td><td>3.31</td></tr><tr><td>India</td><td>419.8</td></tr><tr><td>Indonesia</td><td>143.61</td></tr><tr><td>Iran</td><td>50.96</td></tr><tr><td>Iraq</td><td>91.77</td></tr><tr><td>Ireland</td><td>70.27</td></tr><tr><td>Israel</td><td>435.88</td></tr><tr><td>Italy</td><td>200.64</td></tr><tr><td>Jamaica</td><td>269.42</td></tr><tr><td>Japan</td><td>334.62</td></tr><tr><td>Jordan</td><td>114.2</td></tr><tr><td>Kazakhstan</td><td>6.89</td></tr><tr><td>Kenya</td><td>92.65</td></tr><tr><td>Kiribati</td><td>147.29</td></tr><tr><td>Kuwait</td><td>239.68</td></tr><tr><td>Kyrgyzstan</td><td>32.63</td></tr><tr><td>Laos</td><td>30.72</td></tr><tr><td>Latvia</td><td>29.22</td></tr><tr><td>Lebanon</td><td>653.03</td></tr><tr><td>Lesotho</td><td>70.57</td></tr><tr><td>Liberia</td><td>45.55</td></tr><tr><td>Libya</td><td>3.91</td></tr><tr><td>Liechtenstein</td><td>238.3</td></tr><tr><td>Lithuania</td><td>41.69</td></tr><tr><td>Luxembourg</td><td>245.48</td></tr><tr><td>Madagascar</td><td>47.17</td></tr><tr><td>Malawi</td><td>161.46</td></tr><tr><td>Malaysia</td><td>97.84</td></tr><tr><td>Maldives</td><td>1801.81</td></tr><tr><td>Mali</td><td>16.33</td></tr><tr><td>Malta</td><td>1397.29</td></tr><tr><td>Marshall Islands</td><td>327.02</td></tr><tr><td>Mauritania</td><td>4.51</td></tr><tr><td>Mauritius</td><td>623.42</td></tr><tr><td>Mexico</td><td>65.64</td></tr><tr><td>Micronesia</td><td>163.85</td></tr><tr><td>Moldova</td><td>78.0</td></tr><tr><td>Monaco</td><td>19621.0</td></tr><tr><td>Mongolia</td><td>2.1</td></tr><tr><td>Montenegro</td><td>45.06</td></tr><tr><td>Morocco</td><td>82.66</td></tr><tr><td>Mozambique</td><td>38.99</td></tr><tr><td>Myanmar</td><td>80.42</td></tr><tr><td>Namibia</td><td>3.08</td></tr><tr><td>Nauru</td><td>515.43</td></tr><tr><td>Nepal</td><td>197.97</td></tr><tr><td>Netherlands</td><td>412.46</td></tr><tr><td>New Zealand</td><td>18.91</td></tr><tr><td>Nicaragua</td><td>50.81</td></tr><tr><td>Niger</td><td>19.11</td></tr><tr><td>Nigeria</td><td>223.15</td></tr><tr><td>North Korea</td><td>213.86</td></tr><tr><td>North Macedonia</td><td>81.02</td></tr><tr><td>Norway</td><td>14.07</td></tr><tr><td>Oman</td><td>16.5</td></tr><tr><td>Pakistan</td><td>250.47</td></tr><tr><td>Palau</td><td>39.42</td></tr><tr><td>Palestine, State of</td><td>847.41</td></tr><tr><td>Panama</td><td>57.21</td></tr><tr><td>Papua New Guinea</td><td>19.33</td></tr><tr><td>Paraguay</td><td>17.54</td></tr><tr><td>Peru</td><td>25.65</td></tr><tr><td>Philippines</td><td>365.27</td></tr><tr><td>Poland</td><td>121.03</td></tr><tr><td>Portugal</td><td>110.73</td></tr><tr><td>Qatar</td><td>248.67</td></tr><tr><td>Romania</td><td>80.7</td></tr><tr><td>Russia</td><td>8.45</td></tr><tr><td>Rwanda</td><td>491.77</td></tr><tr><td>Saint Kitts and Nevis</td><td>203.8</td></tr><tr><td>Saint Lucia</td><td>298.1</td></tr><tr><td>Saint Vincent and the Grenadines</td><td>285.19</td></tr><tr><td>Samoa</td><td>69.81</td></tr><tr><td>San Marino</td><td>556.36</td></tr><tr><td>Sao Tome and Principe</td><td>227.34</td></tr><tr><td>Saudi Arabia</td><td>16.19</td></tr><tr><td>Senegal</td><td>85.11</td></tr><tr><td>Serbia</td><td>78.6</td></tr><tr><td>Seychelles</td><td>216.15</td></tr><tr><td>Sierra Leone</td><td>111.19</td></tr><tr><td>Singapore</td><td>8136.78</td></tr><tr><td>Slovakia</td><td>111.34</td></tr><tr><td>Slovenia</td><td>102.55</td></tr><tr><td>Solomon Islands</td><td>23.77</td></tr><tr><td>Somalia</td><td>24.92</td></tr><tr><td>South Africa</td><td>48.57</td></tr><tr><td>South Korea</td><td>511.62</td></tr><tr><td>South Sudan</td><td>17.37</td></tr><tr><td>Spain</td><td>92.4</td></tr><tr><td>Sri Lanka</td><td>326.37</td></tr><tr><td>Sudan</td><td>23.56</td></tr><tr><td>Suriname</td><td>3.58</td></tr><tr><td>Sweden</td><td>22.43</td></tr><tr><td>Switzerland</td><td>209.63</td></tr><tr><td>Syria</td><td>94.51</td></tr><tr><td>Tajikistan</td><td>66.65</td></tr><tr><td>Tanzania</td><td>63.2</td></tr><tr><td>Thailand</td><td>136.03</td></tr><tr><td>Timor-Leste</td><td>88.64</td></tr><tr><td>Togo</td><td>145.79</td></tr><tr><td>Tonga</td><td>141.49</td></tr><tr><td>Trinidad and Tobago</td><td>272.8</td></tr><tr><td>Tunisia</td><td>72.24</td></tr><tr><td>Turkey</td><td>107.64</td></tr><tr><td>Turkmenistan</td><td>12.36</td></tr><tr><td>Tuvalu</td><td>453.54</td></tr><tr><td>Uganda</td><td>189.36</td></tr><tr><td>Ukraine</td><td>72.45</td></tr><tr><td>United Arab Emirates</td><td>118.31</td></tr><tr><td>United Kingdom</td><td>278.67</td></tr><tr><td>United States</td><td>33.66</td></tr><tr><td>Uruguay</td><td>19.71</td></tr><tr><td>Uzbekistan</td><td>74.81</td></tr><tr><td>Vanuatu</td><td>25.2</td></tr><tr><td>Venezuela</td><td>31.03</td></tr><tr><td>Vietnam</td><td>293.89</td></tr><tr><td>Yemen</td><td>56.49</td></tr><tr><td>Zambia</td><td>24.43</td></tr><tr><td>Zimbabwe</td><td>38.04</td></tr></tbody></table></div>"
      ]
     },
     "metadata": {
      "application/vnd.databricks.v1+output": {
       "addedWidgets": {},
       "aggData": [],
       "aggError": "",
       "aggOverflow": false,
       "aggSchema": [],
       "aggSeriesLimitReached": false,
       "aggType": "",
       "arguments": {},
       "columnCustomDisplayInfos": {},
       "data": [
        [
         "Afghanistan",
         59.68
        ],
        [
         "Albania",
         100.1
        ],
        [
         "Algeria",
         18.41
        ],
        [
         "Andorra",
         165.1
        ],
        [
         "Angola",
         26.36
        ],
        [
         "Antigua and Barbuda",
         221.56
        ],
        [
         "Argentina",
         16.32
        ],
        [
         "Armenia",
         99.63
        ],
        [
         "Australia",
         3.33
        ],
        [
         "Austria",
         107.37
        ],
        [
         "Azerbaijan",
         117.08
        ],
        [
         "Bahamas",
         28.2
        ],
        [
         "Bahrain",
         2224.28
        ],
        [
         "Bangladesh",
         1116.01
        ],
        [
         "Barbados",
         668.31
        ],
        [
         "Belarus",
         45.52
        ],
        [
         "Belgium",
         379.64
        ],
        [
         "Belize",
         17.31
        ],
        [
         "Benin",
         105.64
        ],
        [
         "Bhutan",
         20.1
        ],
        [
         "Bolivia",
         10.63
        ],
        [
         "Bosnia and Herzegovina",
         64.17
        ],
        [
         "Botswana",
         4.04
        ],
        [
         "Brazil",
         24.96
        ],
        [
         "Brunei",
         75.89
        ],
        [
         "Bulgaria",
         62.6
        ],
        [
         "Burkina Faso",
         76.23
        ],
        [
         "Burundi",
         427.2
        ],
        [
         "Cabo Verde",
         137.86
        ],
        [
         "Cambodia",
         92.35
        ],
        [
         "Cameroon",
         55.83
        ],
        [
         "Canada",
         3.78
        ],
        [
         "Central African Republic",
         7.75
        ],
        [
         "Chad",
         12.79
        ],
        [
         "Chile",
         25.28
        ],
        [
         "China",
         149.98
        ],
        [
         "Colombia",
         44.57
        ],
        [
         "Comoros",
         467.03
        ],
        [
         "Congo, Democratic Republic of the",
         38.19
        ],
        [
         "Congo, Republic of the",
         16.13
        ],
        [
         "Costa Rica",
         99.69
        ],
        [
         "Croatia",
         72.54
        ],
        [
         "Cuba",
         103.08
        ],
        [
         "Côte d'Ivoire",
         81.8
        ],
        [
         "Cyprus",
         130.51
        ],
        [
         "Czech Republic",
         135.79
        ],
        [
         "Denmark",
         134.91
        ],
        [
         "Djibouti",
         42.59
        ],
        [
         "Dominica",
         95.85
        ],
        [
         "Dominican Republic",
         222.88
        ],
        [
         "Ecuador",
         62.22
        ],
        [
         "Egypt",
         102.08
        ],
        [
         "El Salvador",
         308.27
        ],
        [
         "Equatorial Guinea",
         50.02
        ],
        [
         "Eritrea",
         30.16
        ],
        [
         "Estonia",
         29.45
        ],
        [
         "Eswatini",
         66.81
        ],
        [
         "Ethiopia",
         104.11
        ],
        [
         "Fiji",
         49.06
        ],
        [
         "Finland",
         16.37
        ],
        [
         "France",
         118.31
        ],
        [
         "Gabon",
         8.32
        ],
        [
         "Gambia",
         213.96
        ],
        [
         "Georgia",
         57.23
        ],
        [
         "Germany",
         234.67
        ],
        [
         "Ghana",
         130.27
        ],
        [
         "Greece",
         78.99
        ],
        [
         "Grenada",
         327.1
        ],
        [
         "Guatemala",
         164.53
        ],
        [
         "Guinea",
         53.42
        ],
        [
         "Guinea-Bissau",
         54.48
        ],
        [
         "Guyana",
         3.66
        ],
        [
         "Haiti",
         410.9
        ],
        [
         "Holy See",
         null
        ],
        [
         "Honduras",
         88.05
        ],
        [
         "Hungary",
         103.84
        ],
        [
         "Iceland",
         3.31
        ],
        [
         "India",
         419.8
        ],
        [
         "Indonesia",
         143.61
        ],
        [
         "Iran",
         50.96
        ],
        [
         "Iraq",
         91.77
        ],
        [
         "Ireland",
         70.27
        ],
        [
         "Israel",
         435.88
        ],
        [
         "Italy",
         200.64
        ],
        [
         "Jamaica",
         269.42
        ],
        [
         "Japan",
         334.62
        ],
        [
         "Jordan",
         114.2
        ],
        [
         "Kazakhstan",
         6.89
        ],
        [
         "Kenya",
         92.65
        ],
        [
         "Kiribati",
         147.29
        ],
        [
         "Kuwait",
         239.68
        ],
        [
         "Kyrgyzstan",
         32.63
        ],
        [
         "Laos",
         30.72
        ],
        [
         "Latvia",
         29.22
        ],
        [
         "Lebanon",
         653.03
        ],
        [
         "Lesotho",
         70.57
        ],
        [
         "Liberia",
         45.55
        ],
        [
         "Libya",
         3.91
        ],
        [
         "Liechtenstein",
         238.3
        ],
        [
         "Lithuania",
         41.69
        ],
        [
         "Luxembourg",
         245.48
        ],
        [
         "Madagascar",
         47.17
        ],
        [
         "Malawi",
         161.46
        ],
        [
         "Malaysia",
         97.84
        ],
        [
         "Maldives",
         1801.81
        ],
        [
         "Mali",
         16.33
        ],
        [
         "Malta",
         1397.29
        ],
        [
         "Marshall Islands",
         327.02
        ],
        [
         "Mauritania",
         4.51
        ],
        [
         "Mauritius",
         623.42
        ],
        [
         "Mexico",
         65.64
        ],
        [
         "Micronesia",
         163.85
        ],
        [
         "Moldova",
         78.0
        ],
        [
         "Monaco",
         19621.0
        ],
        [
         "Mongolia",
         2.1
        ],
        [
         "Montenegro",
         45.06
        ],
        [
         "Morocco",
         82.66
        ],
        [
         "Mozambique",
         38.99
        ],
        [
         "Myanmar",
         80.42
        ],
        [
         "Namibia",
         3.08
        ],
        [
         "Nauru",
         515.43
        ],
        [
         "Nepal",
         197.97
        ],
        [
         "Netherlands",
         412.46
        ],
        [
         "New Zealand",
         18.91
        ],
        [
         "Nicaragua",
         50.81
        ],
        [
         "Niger",
         19.11
        ],
        [
         "Nigeria",
         223.15
        ],
        [
         "North Korea",
         213.86
        ],
        [
         "North Macedonia",
         81.02
        ],
        [
         "Norway",
         14.07
        ],
        [
         "Oman",
         16.5
        ],
        [
         "Pakistan",
         250.47
        ],
        [
         "Palau",
         39.42
        ],
        [
         "Palestine, State of",
         847.41
        ],
        [
         "Panama",
         57.21
        ],
        [
         "Papua New Guinea",
         19.33
        ],
        [
         "Paraguay",
         17.54
        ],
        [
         "Peru",
         25.65
        ],
        [
         "Philippines",
         365.27
        ],
        [
         "Poland",
         121.03
        ],
        [
         "Portugal",
         110.73
        ],
        [
         "Qatar",
         248.67
        ],
        [
         "Romania",
         80.7
        ],
        [
         "Russia",
         8.45
        ],
        [
         "Rwanda",
         491.77
        ],
        [
         "Saint Kitts and Nevis",
         203.8
        ],
        [
         "Saint Lucia",
         298.1
        ],
        [
         "Saint Vincent and the Grenadines",
         285.19
        ],
        [
         "Samoa",
         69.81
        ],
        [
         "San Marino",
         556.36
        ],
        [
         "Sao Tome and Principe",
         227.34
        ],
        [
         "Saudi Arabia",
         16.19
        ],
        [
         "Senegal",
         85.11
        ],
        [
         "Serbia",
         78.6
        ],
        [
         "Seychelles",
         216.15
        ],
        [
         "Sierra Leone",
         111.19
        ],
        [
         "Singapore",
         8136.78
        ],
        [
         "Slovakia",
         111.34
        ],
        [
         "Slovenia",
         102.55
        ],
        [
         "Solomon Islands",
         23.77
        ],
        [
         "Somalia",
         24.92
        ],
        [
         "South Africa",
         48.57
        ],
        [
         "South Korea",
         511.62
        ],
        [
         "South Sudan",
         17.37
        ],
        [
         "Spain",
         92.4
        ],
        [
         "Sri Lanka",
         326.37
        ],
        [
         "Sudan",
         23.56
        ],
        [
         "Suriname",
         3.58
        ],
        [
         "Sweden",
         22.43
        ],
        [
         "Switzerland",
         209.63
        ],
        [
         "Syria",
         94.51
        ],
        [
         "Tajikistan",
         66.65
        ],
        [
         "Tanzania",
         63.2
        ],
        [
         "Thailand",
         136.03
        ],
        [
         "Timor-Leste",
         88.64
        ],
        [
         "Togo",
         145.79
        ],
        [
         "Tonga",
         141.49
        ],
        [
         "Trinidad and Tobago",
         272.8
        ],
        [
         "Tunisia",
         72.24
        ],
        [
         "Turkey",
         107.64
        ],
        [
         "Turkmenistan",
         12.36
        ],
        [
         "Tuvalu",
         453.54
        ],
        [
         "Uganda",
         189.36
        ],
        [
         "Ukraine",
         72.45
        ],
        [
         "United Arab Emirates",
         118.31
        ],
        [
         "United Kingdom",
         278.67
        ],
        [
         "United States",
         33.66
        ],
        [
         "Uruguay",
         19.71
        ],
        [
         "Uzbekistan",
         74.81
        ],
        [
         "Vanuatu",
         25.2
        ],
        [
         "Venezuela",
         31.03
        ],
        [
         "Vietnam",
         293.89
        ],
        [
         "Yemen",
         56.49
        ],
        [
         "Zambia",
         24.43
        ],
        [
         "Zimbabwe",
         38.04
        ]
       ],
       "datasetInfos": [],
       "dbfsResultPath": null,
       "isJsonSchema": true,
       "metadata": {},
       "overflow": false,
       "plotOptions": {
        "customPlotOptions": {},
        "displayType": "table",
        "pivotAggregation": null,
        "pivotColumns": null,
        "xColumns": null,
        "yColumns": null
       },
       "removedWidgets": [],
       "schema": [
        {
         "metadata": "{}",
         "name": "country_name",
         "type": "\"string\""
        },
        {
         "metadata": "{}",
         "name": "population_density_km2",
         "type": "\"double\""
        }
       ],
       "type": "table"
      }
     },
     "output_type": "display_data"
    }
   ],
   "source": [
    "# Using selectExpr to select columns using multiple SQL strings\n",
    "\n",
    "df.selectExpr(\"country_name\", \"round(population/area_km2,2) as population_density_km2\").display()"
   ]
  }
 ],
 "metadata": {
  "application/vnd.databricks.v1+notebook": {
   "computePreferences": null,
   "dashboards": [],
   "environmentMetadata": {
    "base_environment": "",
    "client": "1"
   },
   "language": "python",
   "notebookMetadata": {
    "pythonIndentUnit": 4
   },
   "notebookName": "SQL Expressions",
   "widgets": {}
  }
 },
 "nbformat": 4,
 "nbformat_minor": 0
}
