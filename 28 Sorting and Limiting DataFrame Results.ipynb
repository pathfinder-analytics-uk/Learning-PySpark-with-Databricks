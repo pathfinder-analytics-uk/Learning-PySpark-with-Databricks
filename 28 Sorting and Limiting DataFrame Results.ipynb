{
 "cells": [
  {
   "cell_type": "markdown",
   "metadata": {
    "application/vnd.databricks.v1+cell": {
     "cellMetadata": {},
     "inputWidgets": {},
     "nuid": "f0449e4a-e2e4-4a0e-bbee-6f2f02a0ee0c",
     "showTitle": false,
     "tableResultSettingsMap": {},
     "title": ""
    }
   },
   "source": [
    "## Sorting and Limiting DataFrame Results\n",
    "Sorting a DataFrame using `sort()` or `limit()` lets you reorder rows based on one or more columns (in ascending or descending order)\n",
    "\n",
    "The `limit()` method restricts the results to a specified number of rows for quick inspection.  "
   ]
  },
  {
   "cell_type": "markdown",
   "metadata": {
    "application/vnd.databricks.v1+cell": {
     "cellMetadata": {},
     "inputWidgets": {},
     "nuid": "18d2cf16-23e3-47d7-862b-3afa78d874a6",
     "showTitle": false,
     "tableResultSettingsMap": {},
     "title": ""
    }
   },
   "source": [
    "### Links and Resources\n",
    "- [sort()](https://spark.apache.org/docs/latest/api/python/reference/pyspark.sql/api/pyspark.sql.DataFrame.sort.html)\n",
    "- [limit()](https://spark.apache.org/docs/latest/api/python/reference/pyspark.sql/api/pyspark.sql.DataFrame.limit.html)"
   ]
  },
  {
   "cell_type": "code",
   "execution_count": 0,
   "metadata": {
    "application/vnd.databricks.v1+cell": {
     "cellMetadata": {
      "byteLimit": 2048000,
      "rowLimit": 10000
     },
     "inputWidgets": {},
     "nuid": "f8b48e90-4e0d-4464-bc2e-e5c41f163ae8",
     "showTitle": false,
     "tableResultSettingsMap": {},
     "title": ""
    }
   },
   "outputs": [
    {
     "output_type": "stream",
     "name": "stdout",
     "output_type": "stream",
     "text": [
      "+------------+---------+---------------+----------+--------+\n|country_name|continent|sub_region     |population|area_km2|\n+------------+---------+---------------+----------+--------+\n|Afghanistan |Asia     |Southern Asia  |38928346  |652230  |\n|Albania     |Europe   |Southern Europe|2877797   |28748   |\n|Algeria     |Africa   |Northern Africa|43851044  |2381741 |\n|Andorra     |Europe   |Southern Europe|77265     |468     |\n|Angola      |Africa   |Middle Africa  |32866272  |1246700 |\n+------------+---------+---------------+----------+--------+\nonly showing top 5 rows\n\n"
     ]
    }
   ],
   "source": [
    "from pyspark.sql.types import StructType, StructField, StringType, LongType, IntegerType\n",
    "\n",
    "# Refined schema to include 'sub_region'\n",
    "schema = StructType([\n",
    "    StructField(\"country_name\", StringType(), True),\n",
    "    StructField(\"continent\", StringType(), True),\n",
    "    StructField(\"sub_region\", StringType(), True),\n",
    "    StructField(\"population\", LongType(), True),\n",
    "    StructField(\"area_km2\", IntegerType(), True)\n",
    "])\n",
    "\n",
    "# Refactor your data to include 'sub_region' for each country\n",
    "data = [\n",
    "    (\"Afghanistan\", \"Asia\", \"Southern Asia\", 38928346, 652230),\n",
    "    (\"Albania\", \"Europe\", \"Southern Europe\", 2877797, 28748),\n",
    "    (\"Algeria\", \"Africa\", \"Northern Africa\", 43851044, 2381741),\n",
    "    (\"Andorra\", \"Europe\", \"Southern Europe\", 77265, 468),\n",
    "    (\"Angola\", \"Africa\", \"Middle Africa\", 32866272, 1246700),\n",
    "    (\"Antigua and Barbuda\", \"North America\", \"Caribbean\", 97929, 442),\n",
    "    (\"Argentina\", \"South America\", \"South America\", 45376763, 2780400),\n",
    "    (\"Armenia\", \"Asia\", \"Western Asia\", 2963243, 29743),\n",
    "    (\"Australia\", \"Oceania\", \"Australia and New Zealand\", 25649984, 7692024),\n",
    "    (\"Austria\", \"Europe\", \"Western Europe\", 9006398, 83879),\n",
    "    (\"Azerbaijan\", \"Asia\", \"Western Asia\", 10139177, 86600),\n",
    "    (\"Bahamas\", \"North America\", \"Caribbean\", 393244, 13943),\n",
    "    (\"Bahrain\", \"Asia\", \"Western Asia\", 1701575, 765),\n",
    "    (\"Bangladesh\", \"Asia\", \"Southern Asia\", 164689383, 147570),\n",
    "    (\"Barbados\", \"North America\", \"Caribbean\", 287375, 430),\n",
    "    (\"Belarus\", \"Europe\", \"Eastern Europe\", 9449323, 207600),\n",
    "    (\"Belgium\", \"Europe\", \"Western Europe\", 11589623, 30528),\n",
    "    (\"Belize\", \"North America\", \"Central America\", 397621, 22966),\n",
    "    (\"Benin\", \"Africa\", \"Western Africa\", 12123200, 114763),\n",
    "    (\"Bhutan\", \"Asia\", \"Southern Asia\", 771608, 38394),\n",
    "    (\"Bolivia\", \"South America\", \"South America\", 11673021, 1098581),\n",
    "    (\"Bosnia and Herzegovina\", \"Europe\", \"Southern Europe\", 3280819, 51129),\n",
    "    (\"Botswana\", \"Africa\", \"Southern Africa\", 2351627, 581730),\n",
    "    (\"Brazil\", \"South America\", \"South America\", 212559417, 8515767),\n",
    "    (\"Brunei\", \"Asia\", \"South-Eastern Asia\", 437479, 5765),\n",
    "    (\"Bulgaria\", \"Europe\", \"Eastern Europe\", 6948445, 110994),\n",
    "    (\"Burkina Faso\", \"Africa\", \"Western Africa\", 20903273, 274200),\n",
    "    (\"Burundi\", \"Africa\", \"Eastern Africa\", 11890784, 27834),\n",
    "    (\"Cabo Verde\", \"Africa\", \"Western Africa\", 555987, 4033),\n",
    "    (\"Cambodia\", \"Asia\", \"South-Eastern Asia\", 16718965, 181035),\n",
    "    (\"Cameroon\", \"Africa\", \"Middle Africa\", 26545863, 475442),\n",
    "    (\"Canada\", \"North America\", \"Northern America\", 37742154, 9984670),\n",
    "    (\"Central African Republic\", \"Africa\", \"Middle Africa\", 4829767, 622984),\n",
    "    (\"Chad\", \"Africa\", \"Middle Africa\", 16425864, 1284000),\n",
    "    (\"Chile\", \"South America\", \"South America\", 19116201, 756102),\n",
    "    (\"China\", \"Asia\", \"Eastern Asia\", 1439323776, 9596961),\n",
    "    (\"Colombia\", \"South America\", \"South America\", 50882891, 1141748),\n",
    "    (\"Comoros\", \"Africa\", \"Eastern Africa\", 869601, 1862),\n",
    "    (\"Congo, Democratic Republic of the\", \"Africa\", \"Middle Africa\", 89561403, 2344858),\n",
    "    (\"Congo, Republic of the\", \"Africa\", \"Middle Africa\", 5518087, 342000),\n",
    "    (\"Costa Rica\", \"North America\", \"Central America\", 5094118, 51100),\n",
    "    (\"Croatia\", \"Europe\", \"Southern Europe\", 4105267, 56594),\n",
    "    (\"Cuba\", \"North America\", \"Caribbean\", 11326616, 109884),\n",
    "    (\"Côte d'Ivoire\", \"Africa\", \"Western Africa\", 26378274, 322463),\n",
    "    (\"Cyprus\", \"Europe\", \"Western Asia\", 1207359, 9251),\n",
    "    (\"Czech Republic\", \"Europe\", \"Eastern Europe\", 10708981, 78866),\n",
    "    (\"Denmark\", \"Europe\", \"Northern Europe\", 5792202, 42933),\n",
    "    (\"Djibouti\", \"Africa\", \"Eastern Africa\", 988000, 23200),\n",
    "    (\"Dominica\", \"North America\", \"Caribbean\", 71986, 751),\n",
    "    (\"Dominican Republic\", \"North America\", \"Caribbean\", 10847910, 48671),\n",
    "    (\"Ecuador\", \"South America\", \"South America\", 17643054, 283561),\n",
    "    (\"Egypt\", \"Africa\", \"Northern Africa\", 102334404, 1002450),\n",
    "    (\"El Salvador\", \"North America\", \"Central America\", 6486205, 21041),\n",
    "    (\"Equatorial Guinea\", \"Africa\", \"Middle Africa\", 1402985, 28051),\n",
    "    (\"Eritrea\", \"Africa\", \"Eastern Africa\", 3546421, 117600),\n",
    "    (\"Estonia\", \"Europe\", \"Northern Europe\", 1331796, 45227),\n",
    "    (\"Eswatini\", \"Africa\", \"Southern Africa\", 1160164, 17364),\n",
    "    (\"Ethiopia\", \"Africa\", \"Eastern Africa\", 114963588, 1104300),\n",
    "    (\"Fiji\", \"Oceania\", \"Melanesia\", 896444, 18274),\n",
    "    (\"Finland\", \"Europe\", \"Northern Europe\", 5540720, 338424),\n",
    "    (\"France\", \"Europe\", \"Western Europe\", 65273511, 551695),\n",
    "    (\"Gabon\", \"Africa\", \"Middle Africa\", 2225728, 267668),\n",
    "    (\"Gambia\", \"Africa\", \"Western Africa\", 2416668, 11295),\n",
    "    (\"Georgia\", \"Asia\", \"Western Asia\", 3989167, 69700),\n",
    "    (\"Germany\", \"Europe\", \"Western Europe\", 83783942, 357022),\n",
    "    (\"Ghana\", \"Africa\", \"Western Africa\", 31072940, 238533),\n",
    "    (\"Greece\", \"Europe\", \"Southern Europe\", 10423054, 131957),\n",
    "    (\"Grenada\", \"North America\", \"Caribbean\", 112523, 344),\n",
    "    (\"Guatemala\", \"North America\", \"Central America\", 17915568, 108889),\n",
    "    (\"Guinea\", \"Africa\", \"Western Africa\", 13132795, 245857),\n",
    "    (\"Guinea-Bissau\", \"Africa\", \"Western Africa\", 1968001, 36125),\n",
    "    (\"Guyana\", \"South America\", \"South America\", 786552, 214969),\n",
    "    (\"Haiti\", \"North America\", \"Caribbean\", 11402528, 27750),\n",
    "    (\"Holy See\", \"Europe\", \"Southern Europe\", 801, 0),\n",
    "    (\"Honduras\", \"North America\", \"Central America\", 9904607, 112492),\n",
    "    (\"Hungary\", \"Europe\", \"Eastern Europe\", 9660351, 93030),\n",
    "    (\"Iceland\", \"Europe\", \"Northern Europe\", 341243, 103000),\n",
    "    (\"India\", \"Asia\", \"Southern Asia\", 1380004385, 3287263),\n",
    "    (\"Indonesia\", \"Asia\", \"South-Eastern Asia\", 273523615, 1904569),\n",
    "    (\"Iran\", \"Asia\", \"Southern Asia\", 83992949, 1648195),\n",
    "    (\"Iraq\", \"Asia\", \"Western Asia\", 40222493, 438317),\n",
    "    (\"Ireland\", \"Europe\", \"Northern Europe\", 4937786, 70273),\n",
    "    (\"Israel\", \"Asia\", \"Western Asia\", 9053300, 20770),\n",
    "    (\"Italy\", \"Europe\", \"Southern Europe\", 60461826, 301340),\n",
    "    (\"Jamaica\", \"North America\", \"Caribbean\", 2961167, 10991),\n",
    "    (\"Japan\", \"Asia\", \"Eastern Asia\", 126476461, 377975),\n",
    "    (\"Jordan\", \"Asia\", \"Western Asia\", 10203134, 89342),\n",
    "    (\"Kazakhstan\", \"Asia\", \"Central Asia\", 18776707, 2724900),\n",
    "    (\"Kenya\", \"Africa\", \"Eastern Africa\", 53771296, 580367),\n",
    "    (\"Kiribati\", \"Oceania\", \"Micronesia\", 119449, 811),\n",
    "    (\"Kuwait\", \"Asia\", \"Western Asia\", 4270571, 17818),\n",
    "    (\"Kyrgyzstan\", \"Asia\", \"Central Asia\", 6524195, 199951),\n",
    "    (\"Laos\", \"Asia\", \"South-Eastern Asia\", 7275560, 236800),\n",
    "    (\"Latvia\", \"Europe\", \"Northern Europe\", 1886198, 64559),\n",
    "    (\"Lebanon\", \"Asia\", \"Western Asia\", 6825445, 10452),\n",
    "    (\"Lesotho\", \"Africa\", \"Southern Africa\", 2142249, 30355),\n",
    "    (\"Liberia\", \"Africa\", \"Western Africa\", 5073296, 111369),\n",
    "    (\"Libya\", \"Africa\", \"Northern Africa\", 6871292, 1759540),\n",
    "    (\"Liechtenstein\", \"Europe\", \"Western Europe\", 38128, 160),\n",
    "    (\"Lithuania\", \"Europe\", \"Northern Europe\", 2722289, 65300),\n",
    "    (\"Luxembourg\", \"Europe\", \"Western Europe\", 634814, 2586),\n",
    "    (\"Madagascar\", \"Africa\", \"Eastern Africa\", 27691018, 587041),\n",
    "    (\"Malawi\", \"Africa\", \"Eastern Africa\", 19129952, 118484),\n",
    "    (\"Malaysia\", \"Asia\", \"South-Eastern Asia\", 32365999, 330803),\n",
    "    (\"Maldives\", \"Asia\", \"Southern Asia\", 540544, 300),\n",
    "    (\"Mali\", \"Africa\", \"Western Africa\", 20250833, 1240192),\n",
    "    (\"Malta\", \"Europe\", \"Southern Europe\", 441543, 316),\n",
    "    (\"Marshall Islands\", \"Oceania\", \"Micronesia\", 59190, 181),\n",
    "    (\"Mauritania\", \"Africa\", \"Western Africa\", 4649658, 1030700),\n",
    "    (\"Mauritius\", \"Africa\", \"Eastern Africa\", 1271768, 2040),\n",
    "    (\"Mexico\", \"North America\", \"Central America\", 128932753, 1964375),\n",
    "    (\"Micronesia\", \"Oceania\", \"Micronesia\", 115023, 702),\n",
    "    (\"Moldova\", \"Europe\", \"Eastern Europe\", 2640438, 33851),\n",
    "    (\"Monaco\", \"Europe\", \"Western Europe\", 39242, 2),\n",
    "    (\"Mongolia\", \"Asia\", \"Eastern Asia\", 3278290, 1564110),\n",
    "    (\"Montenegro\", \"Europe\", \"Southern Europe\", 622359, 13812),\n",
    "    (\"Morocco\", \"Africa\", \"Northern Africa\", 36910560, 446550),\n",
    "    (\"Mozambique\", \"Africa\", \"Eastern Africa\", 31255435, 801590),\n",
    "    (\"Myanmar\", \"Asia\", \"South-Eastern Asia\", 54409800, 676578),\n",
    "    (\"Namibia\", \"Africa\", \"Southern Africa\", 2540905, 824292),\n",
    "    (\"Nauru\", \"Oceania\", \"Micronesia\", 10824, 21),\n",
    "    (\"Nepal\", \"Asia\", \"Southern Asia\", 29136808, 147181),\n",
    "    (\"Netherlands\", \"Europe\", \"Western Europe\", 17134872, 41543),\n",
    "    (\"New Zealand\", \"Oceania\", \"Australia and New Zealand\", 5084300, 268838),\n",
    "    (\"Nicaragua\", \"North America\", \"Central America\", 6624554, 130373),\n",
    "    (\"Niger\", \"Africa\", \"Western Africa\", 24206644, 1267000),\n",
    "    (\"Nigeria\", \"Africa\", \"Western Africa\", 206139589, 923768),\n",
    "    (\"North Korea\", \"Asia\", \"Eastern Asia\", 25778816, 120538),\n",
    "    (\"North Macedonia\", \"Europe\", \"Southern Europe\", 2083374, 25713),\n",
    "    (\"Norway\", \"Europe\", \"Northern Europe\", 5421241, 385207),\n",
    "    (\"Oman\", \"Asia\", \"Western Asia\", 5106626, 309500),\n",
    "    (\"Pakistan\", \"Asia\", \"Southern Asia\", 220892340, 881913),\n",
    "    (\"Palau\", \"Oceania\", \"Micronesia\", 18094, 459),\n",
    "    (\"Palestine, State of\", \"Asia\", \"Western Asia\", 5101414, 6020),\n",
    "    (\"Panama\", \"North America\", \"Central America\", 4314767, 75417),\n",
    "    (\"Papua New Guinea\", \"Oceania\", \"Melanesia\", 8947024, 462840),\n",
    "    (\"Paraguay\", \"South America\", \"South America\", 7132538, 406752),\n",
    "    (\"Peru\", \"South America\", \"South America\", 32971854, 1285216),\n",
    "    (\"Philippines\", \"Asia\", \"South-Eastern Asia\", 109581078, 300000),\n",
    "    (\"Poland\", \"Europe\", \"Eastern Europe\", 37846611, 312696),\n",
    "    (\"Portugal\", \"Europe\", \"Southern Europe\", 10196709, 92090),\n",
    "    (\"Qatar\", \"Asia\", \"Western Asia\", 2881053, 11586),\n",
    "    (\"Romania\", \"Europe\", \"Eastern Europe\", 19237691, 238391),\n",
    "    (\"Russia\", \"Europe\", \"Eastern Europe\", 144478050, 17098242),\n",
    "    (\"Rwanda\", \"Africa\", \"Eastern Africa\", 12952218, 26338),\n",
    "    (\"Saint Kitts and Nevis\", \"North America\", \"Caribbean\", 53192, 261),\n",
    "    (\"Saint Lucia\", \"North America\", \"Caribbean\", 183627, 616),\n",
    "    (\"Saint Vincent and the Grenadines\", \"North America\", \"Caribbean\", 110940, 389),\n",
    "    (\"Samoa\", \"Oceania\", \"Polynesia\", 198414, 2842),\n",
    "    (\"San Marino\", \"Europe\", \"Southern Europe\", 33938, 61),\n",
    "    (\"Sao Tome and Principe\", \"Africa\", \"Middle Africa\", 219159, 964),\n",
    "    (\"Saudi Arabia\", \"Asia\", \"Western Asia\", 34813871, 2149690),\n",
    "    (\"Senegal\", \"Africa\", \"Western Africa\", 16743927, 196722),\n",
    "    (\"Serbia\", \"Europe\", \"Southern Europe\", 6944975, 88361),\n",
    "    (\"Seychelles\", \"Africa\", \"Eastern Africa\", 98347, 455),\n",
    "    (\"Sierra Leone\", \"Africa\", \"Western Africa\", 7976983, 71740),\n",
    "    (\"Singapore\", \"Asia\", \"South-Eastern Asia\", 5850342, 719),\n",
    "    (\"Slovakia\", \"Europe\", \"Eastern Europe\", 5459642, 49037),\n",
    "    (\"Slovenia\", \"Europe\", \"Southern Europe\", 2078938, 20273),\n",
    "    (\"Solomon Islands\", \"Oceania\", \"Melanesia\", 686884, 28896),\n",
    "    (\"Somalia\", \"Africa\", \"Eastern Africa\", 15893222, 637657),\n",
    "    (\"South Africa\", \"Africa\", \"Southern Africa\", 59308690, 1221037),\n",
    "    (\"South Korea\", \"Asia\", \"Eastern Asia\", 51269185, 100210),\n",
    "    (\"South Sudan\", \"Africa\", \"Eastern Africa\", 11193725, 644329),\n",
    "    (\"Spain\", \"Europe\", \"Southern Europe\", 46754778, 505992),\n",
    "    (\"Sri Lanka\", \"Asia\", \"Southern Asia\", 21413249, 65610),\n",
    "    (\"Sudan\", \"Africa\", \"Northern Africa\", 43849260, 1861484),\n",
    "    (\"Suriname\", \"South America\", \"South America\", 586634, 163820),\n",
    "    (\"Sweden\", \"Europe\", \"Northern Europe\", 10099265, 450295),\n",
    "    (\"Switzerland\", \"Europe\", \"Western Europe\", 8654622, 41285),\n",
    "    (\"Syria\", \"Asia\", \"Western Asia\", 17500657, 185180),\n",
    "    (\"Tajikistan\", \"Asia\", \"Central Asia\", 9537645, 143100),\n",
    "    (\"Tanzania\", \"Africa\", \"Eastern Africa\", 59734218, 945087),\n",
    "    (\"Thailand\", \"Asia\", \"South-Eastern Asia\", 69799978, 513120),\n",
    "    (\"Timor-Leste\", \"Asia\", \"South-Eastern Asia\", 1318445, 14874),\n",
    "    (\"Togo\", \"Africa\", \"Western Africa\", 8278724, 56785),\n",
    "    (\"Tonga\", \"Oceania\", \"Polynesia\", 105695, 747),\n",
    "    (\"Trinidad and Tobago\", \"North America\", \"Caribbean\", 1399488, 5130),\n",
    "    (\"Tunisia\", \"Africa\", \"Northern Africa\", 11818619, 163610),\n",
    "    (\"Turkey\", \"Asia\", \"Western Asia\", 84339067, 783562),\n",
    "    (\"Turkmenistan\", \"Asia\", \"Central Asia\", 6031200, 488100),\n",
    "    (\"Tuvalu\", \"Oceania\", \"Polynesia\", 11792, 26),\n",
    "    (\"Uganda\", \"Africa\", \"Eastern Africa\", 45741007, 241550),\n",
    "    (\"Ukraine\", \"Europe\", \"Eastern Europe\", 43733762, 603628),\n",
    "    (\"United Arab Emirates\", \"Asia\", \"Western Asia\", 9890400, 83600),\n",
    "    (\"United Kingdom\", \"Europe\", \"Northern Europe\", 67886011, 243610),\n",
    "    (\"United States\", \"North America\", \"Northern America\", 331002651, 9833520),\n",
    "    (\"Uruguay\", \"South America\", \"South America\", 3473730, 176215),\n",
    "    (\"Uzbekistan\", \"Asia\", \"Central Asia\", 33469203, 447400),\n",
    "    (\"Vanuatu\", \"Oceania\", \"Melanesia\", 307145, 12189),\n",
    "    (\"Venezuela\", \"South America\", \"South America\", 28435940, 916445),\n",
    "    (\"Vietnam\", \"Asia\", \"South-Eastern Asia\", 97338579, 331212),\n",
    "    (\"Yemen\", \"Asia\", \"Western Asia\", 29825964, 527968),\n",
    "    (\"Zambia\", \"Africa\", \"Eastern Africa\", 18383955, 752612),\n",
    "    (\"Zimbabwe\", \"Africa\", \"Eastern Africa\", 14862924, 390757)\n",
    "]\n",
    "\n",
    "# Create the DataFrame using the new schema (with sub_region)\n",
    "df = spark.createDataFrame(data, schema)\n",
    "\n",
    "# Display the DataFrame\n",
    "df.show(5)"
   ]
  },
  {
   "cell_type": "code",
   "execution_count": 0,
   "metadata": {
    "application/vnd.databricks.v1+cell": {
     "cellMetadata": {
      "byteLimit": 2048000,
      "rowLimit": 10000
     },
     "inputWidgets": {},
     "nuid": "86258ff8-f8d4-401a-91eb-33743132753c",
     "showTitle": false,
     "tableResultSettingsMap": {},
     "title": ""
    }
   },
   "outputs": [
    {
     "output_type": "display_data",
     "data": {
      "text/html": [
       "<style scoped>\n",
       "  .table-result-container {\n",
       "    max-height: 300px;\n",
       "    overflow: auto;\n",
       "  }\n",
       "  table, th, td {\n",
       "    border: 1px solid black;\n",
       "    border-collapse: collapse;\n",
       "  }\n",
       "  th, td {\n",
       "    padding: 5px;\n",
       "  }\n",
       "  th {\n",
       "    text-align: left;\n",
       "  }\n",
       "</style><div class='table-result-container'><table class='table-result'><thead style='background-color: white'><tr><th>country_name</th><th>continent</th><th>sub_region</th><th>population</th><th>area_km2</th></tr></thead><tbody><tr><td>Holy See</td><td>Europe</td><td>Southern Europe</td><td>801</td><td>0</td></tr><tr><td>Nauru</td><td>Oceania</td><td>Micronesia</td><td>10824</td><td>21</td></tr><tr><td>Tuvalu</td><td>Oceania</td><td>Polynesia</td><td>11792</td><td>26</td></tr><tr><td>Palau</td><td>Oceania</td><td>Micronesia</td><td>18094</td><td>459</td></tr><tr><td>San Marino</td><td>Europe</td><td>Southern Europe</td><td>33938</td><td>61</td></tr><tr><td>Liechtenstein</td><td>Europe</td><td>Western Europe</td><td>38128</td><td>160</td></tr><tr><td>Monaco</td><td>Europe</td><td>Western Europe</td><td>39242</td><td>2</td></tr><tr><td>Saint Kitts and Nevis</td><td>North America</td><td>Caribbean</td><td>53192</td><td>261</td></tr><tr><td>Marshall Islands</td><td>Oceania</td><td>Micronesia</td><td>59190</td><td>181</td></tr><tr><td>Dominica</td><td>North America</td><td>Caribbean</td><td>71986</td><td>751</td></tr><tr><td>Andorra</td><td>Europe</td><td>Southern Europe</td><td>77265</td><td>468</td></tr><tr><td>Antigua and Barbuda</td><td>North America</td><td>Caribbean</td><td>97929</td><td>442</td></tr><tr><td>Seychelles</td><td>Africa</td><td>Eastern Africa</td><td>98347</td><td>455</td></tr><tr><td>Tonga</td><td>Oceania</td><td>Polynesia</td><td>105695</td><td>747</td></tr><tr><td>Saint Vincent and the Grenadines</td><td>North America</td><td>Caribbean</td><td>110940</td><td>389</td></tr><tr><td>Grenada</td><td>North America</td><td>Caribbean</td><td>112523</td><td>344</td></tr><tr><td>Micronesia</td><td>Oceania</td><td>Micronesia</td><td>115023</td><td>702</td></tr><tr><td>Kiribati</td><td>Oceania</td><td>Micronesia</td><td>119449</td><td>811</td></tr><tr><td>Saint Lucia</td><td>North America</td><td>Caribbean</td><td>183627</td><td>616</td></tr><tr><td>Samoa</td><td>Oceania</td><td>Polynesia</td><td>198414</td><td>2842</td></tr><tr><td>Sao Tome and Principe</td><td>Africa</td><td>Middle Africa</td><td>219159</td><td>964</td></tr><tr><td>Barbados</td><td>North America</td><td>Caribbean</td><td>287375</td><td>430</td></tr><tr><td>Vanuatu</td><td>Oceania</td><td>Melanesia</td><td>307145</td><td>12189</td></tr><tr><td>Iceland</td><td>Europe</td><td>Northern Europe</td><td>341243</td><td>103000</td></tr><tr><td>Bahamas</td><td>North America</td><td>Caribbean</td><td>393244</td><td>13943</td></tr><tr><td>Belize</td><td>North America</td><td>Central America</td><td>397621</td><td>22966</td></tr><tr><td>Brunei</td><td>Asia</td><td>South-Eastern Asia</td><td>437479</td><td>5765</td></tr><tr><td>Malta</td><td>Europe</td><td>Southern Europe</td><td>441543</td><td>316</td></tr><tr><td>Maldives</td><td>Asia</td><td>Southern Asia</td><td>540544</td><td>300</td></tr><tr><td>Cabo Verde</td><td>Africa</td><td>Western Africa</td><td>555987</td><td>4033</td></tr><tr><td>Suriname</td><td>South America</td><td>South America</td><td>586634</td><td>163820</td></tr><tr><td>Montenegro</td><td>Europe</td><td>Southern Europe</td><td>622359</td><td>13812</td></tr><tr><td>Luxembourg</td><td>Europe</td><td>Western Europe</td><td>634814</td><td>2586</td></tr><tr><td>Solomon Islands</td><td>Oceania</td><td>Melanesia</td><td>686884</td><td>28896</td></tr><tr><td>Bhutan</td><td>Asia</td><td>Southern Asia</td><td>771608</td><td>38394</td></tr><tr><td>Guyana</td><td>South America</td><td>South America</td><td>786552</td><td>214969</td></tr><tr><td>Comoros</td><td>Africa</td><td>Eastern Africa</td><td>869601</td><td>1862</td></tr><tr><td>Fiji</td><td>Oceania</td><td>Melanesia</td><td>896444</td><td>18274</td></tr><tr><td>Djibouti</td><td>Africa</td><td>Eastern Africa</td><td>988000</td><td>23200</td></tr><tr><td>Eswatini</td><td>Africa</td><td>Southern Africa</td><td>1160164</td><td>17364</td></tr><tr><td>Cyprus</td><td>Europe</td><td>Western Asia</td><td>1207359</td><td>9251</td></tr><tr><td>Mauritius</td><td>Africa</td><td>Eastern Africa</td><td>1271768</td><td>2040</td></tr><tr><td>Timor-Leste</td><td>Asia</td><td>South-Eastern Asia</td><td>1318445</td><td>14874</td></tr><tr><td>Estonia</td><td>Europe</td><td>Northern Europe</td><td>1331796</td><td>45227</td></tr><tr><td>Trinidad and Tobago</td><td>North America</td><td>Caribbean</td><td>1399488</td><td>5130</td></tr><tr><td>Equatorial Guinea</td><td>Africa</td><td>Middle Africa</td><td>1402985</td><td>28051</td></tr><tr><td>Bahrain</td><td>Asia</td><td>Western Asia</td><td>1701575</td><td>765</td></tr><tr><td>Latvia</td><td>Europe</td><td>Northern Europe</td><td>1886198</td><td>64559</td></tr><tr><td>Guinea-Bissau</td><td>Africa</td><td>Western Africa</td><td>1968001</td><td>36125</td></tr><tr><td>Slovenia</td><td>Europe</td><td>Southern Europe</td><td>2078938</td><td>20273</td></tr><tr><td>North Macedonia</td><td>Europe</td><td>Southern Europe</td><td>2083374</td><td>25713</td></tr><tr><td>Lesotho</td><td>Africa</td><td>Southern Africa</td><td>2142249</td><td>30355</td></tr><tr><td>Gabon</td><td>Africa</td><td>Middle Africa</td><td>2225728</td><td>267668</td></tr><tr><td>Botswana</td><td>Africa</td><td>Southern Africa</td><td>2351627</td><td>581730</td></tr><tr><td>Gambia</td><td>Africa</td><td>Western Africa</td><td>2416668</td><td>11295</td></tr><tr><td>Namibia</td><td>Africa</td><td>Southern Africa</td><td>2540905</td><td>824292</td></tr><tr><td>Moldova</td><td>Europe</td><td>Eastern Europe</td><td>2640438</td><td>33851</td></tr><tr><td>Lithuania</td><td>Europe</td><td>Northern Europe</td><td>2722289</td><td>65300</td></tr><tr><td>Albania</td><td>Europe</td><td>Southern Europe</td><td>2877797</td><td>28748</td></tr><tr><td>Qatar</td><td>Asia</td><td>Western Asia</td><td>2881053</td><td>11586</td></tr><tr><td>Jamaica</td><td>North America</td><td>Caribbean</td><td>2961167</td><td>10991</td></tr><tr><td>Armenia</td><td>Asia</td><td>Western Asia</td><td>2963243</td><td>29743</td></tr><tr><td>Mongolia</td><td>Asia</td><td>Eastern Asia</td><td>3278290</td><td>1564110</td></tr><tr><td>Bosnia and Herzegovina</td><td>Europe</td><td>Southern Europe</td><td>3280819</td><td>51129</td></tr><tr><td>Uruguay</td><td>South America</td><td>South America</td><td>3473730</td><td>176215</td></tr><tr><td>Eritrea</td><td>Africa</td><td>Eastern Africa</td><td>3546421</td><td>117600</td></tr><tr><td>Georgia</td><td>Asia</td><td>Western Asia</td><td>3989167</td><td>69700</td></tr><tr><td>Croatia</td><td>Europe</td><td>Southern Europe</td><td>4105267</td><td>56594</td></tr><tr><td>Kuwait</td><td>Asia</td><td>Western Asia</td><td>4270571</td><td>17818</td></tr><tr><td>Panama</td><td>North America</td><td>Central America</td><td>4314767</td><td>75417</td></tr><tr><td>Mauritania</td><td>Africa</td><td>Western Africa</td><td>4649658</td><td>1030700</td></tr><tr><td>Central African Republic</td><td>Africa</td><td>Middle Africa</td><td>4829767</td><td>622984</td></tr><tr><td>Ireland</td><td>Europe</td><td>Northern Europe</td><td>4937786</td><td>70273</td></tr><tr><td>Liberia</td><td>Africa</td><td>Western Africa</td><td>5073296</td><td>111369</td></tr><tr><td>New Zealand</td><td>Oceania</td><td>Australia and New Zealand</td><td>5084300</td><td>268838</td></tr><tr><td>Costa Rica</td><td>North America</td><td>Central America</td><td>5094118</td><td>51100</td></tr><tr><td>Palestine, State of</td><td>Asia</td><td>Western Asia</td><td>5101414</td><td>6020</td></tr><tr><td>Oman</td><td>Asia</td><td>Western Asia</td><td>5106626</td><td>309500</td></tr><tr><td>Norway</td><td>Europe</td><td>Northern Europe</td><td>5421241</td><td>385207</td></tr><tr><td>Slovakia</td><td>Europe</td><td>Eastern Europe</td><td>5459642</td><td>49037</td></tr><tr><td>Congo, Republic of the</td><td>Africa</td><td>Middle Africa</td><td>5518087</td><td>342000</td></tr><tr><td>Finland</td><td>Europe</td><td>Northern Europe</td><td>5540720</td><td>338424</td></tr><tr><td>Denmark</td><td>Europe</td><td>Northern Europe</td><td>5792202</td><td>42933</td></tr><tr><td>Singapore</td><td>Asia</td><td>South-Eastern Asia</td><td>5850342</td><td>719</td></tr><tr><td>Turkmenistan</td><td>Asia</td><td>Central Asia</td><td>6031200</td><td>488100</td></tr><tr><td>El Salvador</td><td>North America</td><td>Central America</td><td>6486205</td><td>21041</td></tr><tr><td>Kyrgyzstan</td><td>Asia</td><td>Central Asia</td><td>6524195</td><td>199951</td></tr><tr><td>Nicaragua</td><td>North America</td><td>Central America</td><td>6624554</td><td>130373</td></tr><tr><td>Lebanon</td><td>Asia</td><td>Western Asia</td><td>6825445</td><td>10452</td></tr><tr><td>Libya</td><td>Africa</td><td>Northern Africa</td><td>6871292</td><td>1759540</td></tr><tr><td>Serbia</td><td>Europe</td><td>Southern Europe</td><td>6944975</td><td>88361</td></tr><tr><td>Bulgaria</td><td>Europe</td><td>Eastern Europe</td><td>6948445</td><td>110994</td></tr><tr><td>Paraguay</td><td>South America</td><td>South America</td><td>7132538</td><td>406752</td></tr><tr><td>Laos</td><td>Asia</td><td>South-Eastern Asia</td><td>7275560</td><td>236800</td></tr><tr><td>Sierra Leone</td><td>Africa</td><td>Western Africa</td><td>7976983</td><td>71740</td></tr><tr><td>Togo</td><td>Africa</td><td>Western Africa</td><td>8278724</td><td>56785</td></tr><tr><td>Switzerland</td><td>Europe</td><td>Western Europe</td><td>8654622</td><td>41285</td></tr><tr><td>Papua New Guinea</td><td>Oceania</td><td>Melanesia</td><td>8947024</td><td>462840</td></tr><tr><td>Austria</td><td>Europe</td><td>Western Europe</td><td>9006398</td><td>83879</td></tr><tr><td>Israel</td><td>Asia</td><td>Western Asia</td><td>9053300</td><td>20770</td></tr><tr><td>Belarus</td><td>Europe</td><td>Eastern Europe</td><td>9449323</td><td>207600</td></tr><tr><td>Tajikistan</td><td>Asia</td><td>Central Asia</td><td>9537645</td><td>143100</td></tr><tr><td>Hungary</td><td>Europe</td><td>Eastern Europe</td><td>9660351</td><td>93030</td></tr><tr><td>United Arab Emirates</td><td>Asia</td><td>Western Asia</td><td>9890400</td><td>83600</td></tr><tr><td>Honduras</td><td>North America</td><td>Central America</td><td>9904607</td><td>112492</td></tr><tr><td>Sweden</td><td>Europe</td><td>Northern Europe</td><td>10099265</td><td>450295</td></tr><tr><td>Azerbaijan</td><td>Asia</td><td>Western Asia</td><td>10139177</td><td>86600</td></tr><tr><td>Portugal</td><td>Europe</td><td>Southern Europe</td><td>10196709</td><td>92090</td></tr><tr><td>Jordan</td><td>Asia</td><td>Western Asia</td><td>10203134</td><td>89342</td></tr><tr><td>Greece</td><td>Europe</td><td>Southern Europe</td><td>10423054</td><td>131957</td></tr><tr><td>Czech Republic</td><td>Europe</td><td>Eastern Europe</td><td>10708981</td><td>78866</td></tr><tr><td>Dominican Republic</td><td>North America</td><td>Caribbean</td><td>10847910</td><td>48671</td></tr><tr><td>South Sudan</td><td>Africa</td><td>Eastern Africa</td><td>11193725</td><td>644329</td></tr><tr><td>Cuba</td><td>North America</td><td>Caribbean</td><td>11326616</td><td>109884</td></tr><tr><td>Haiti</td><td>North America</td><td>Caribbean</td><td>11402528</td><td>27750</td></tr><tr><td>Belgium</td><td>Europe</td><td>Western Europe</td><td>11589623</td><td>30528</td></tr><tr><td>Bolivia</td><td>South America</td><td>South America</td><td>11673021</td><td>1098581</td></tr><tr><td>Tunisia</td><td>Africa</td><td>Northern Africa</td><td>11818619</td><td>163610</td></tr><tr><td>Burundi</td><td>Africa</td><td>Eastern Africa</td><td>11890784</td><td>27834</td></tr><tr><td>Benin</td><td>Africa</td><td>Western Africa</td><td>12123200</td><td>114763</td></tr><tr><td>Rwanda</td><td>Africa</td><td>Eastern Africa</td><td>12952218</td><td>26338</td></tr><tr><td>Guinea</td><td>Africa</td><td>Western Africa</td><td>13132795</td><td>245857</td></tr><tr><td>Zimbabwe</td><td>Africa</td><td>Eastern Africa</td><td>14862924</td><td>390757</td></tr><tr><td>Somalia</td><td>Africa</td><td>Eastern Africa</td><td>15893222</td><td>637657</td></tr><tr><td>Chad</td><td>Africa</td><td>Middle Africa</td><td>16425864</td><td>1284000</td></tr><tr><td>Cambodia</td><td>Asia</td><td>South-Eastern Asia</td><td>16718965</td><td>181035</td></tr><tr><td>Senegal</td><td>Africa</td><td>Western Africa</td><td>16743927</td><td>196722</td></tr><tr><td>Netherlands</td><td>Europe</td><td>Western Europe</td><td>17134872</td><td>41543</td></tr><tr><td>Syria</td><td>Asia</td><td>Western Asia</td><td>17500657</td><td>185180</td></tr><tr><td>Ecuador</td><td>South America</td><td>South America</td><td>17643054</td><td>283561</td></tr><tr><td>Guatemala</td><td>North America</td><td>Central America</td><td>17915568</td><td>108889</td></tr><tr><td>Zambia</td><td>Africa</td><td>Eastern Africa</td><td>18383955</td><td>752612</td></tr><tr><td>Kazakhstan</td><td>Asia</td><td>Central Asia</td><td>18776707</td><td>2724900</td></tr><tr><td>Chile</td><td>South America</td><td>South America</td><td>19116201</td><td>756102</td></tr><tr><td>Malawi</td><td>Africa</td><td>Eastern Africa</td><td>19129952</td><td>118484</td></tr><tr><td>Romania</td><td>Europe</td><td>Eastern Europe</td><td>19237691</td><td>238391</td></tr><tr><td>Mali</td><td>Africa</td><td>Western Africa</td><td>20250833</td><td>1240192</td></tr><tr><td>Burkina Faso</td><td>Africa</td><td>Western Africa</td><td>20903273</td><td>274200</td></tr><tr><td>Sri Lanka</td><td>Asia</td><td>Southern Asia</td><td>21413249</td><td>65610</td></tr><tr><td>Niger</td><td>Africa</td><td>Western Africa</td><td>24206644</td><td>1267000</td></tr><tr><td>Australia</td><td>Oceania</td><td>Australia and New Zealand</td><td>25649984</td><td>7692024</td></tr><tr><td>North Korea</td><td>Asia</td><td>Eastern Asia</td><td>25778816</td><td>120538</td></tr><tr><td>Côte d'Ivoire</td><td>Africa</td><td>Western Africa</td><td>26378274</td><td>322463</td></tr><tr><td>Cameroon</td><td>Africa</td><td>Middle Africa</td><td>26545863</td><td>475442</td></tr><tr><td>Madagascar</td><td>Africa</td><td>Eastern Africa</td><td>27691018</td><td>587041</td></tr><tr><td>Venezuela</td><td>South America</td><td>South America</td><td>28435940</td><td>916445</td></tr><tr><td>Nepal</td><td>Asia</td><td>Southern Asia</td><td>29136808</td><td>147181</td></tr><tr><td>Yemen</td><td>Asia</td><td>Western Asia</td><td>29825964</td><td>527968</td></tr><tr><td>Ghana</td><td>Africa</td><td>Western Africa</td><td>31072940</td><td>238533</td></tr><tr><td>Mozambique</td><td>Africa</td><td>Eastern Africa</td><td>31255435</td><td>801590</td></tr><tr><td>Malaysia</td><td>Asia</td><td>South-Eastern Asia</td><td>32365999</td><td>330803</td></tr><tr><td>Angola</td><td>Africa</td><td>Middle Africa</td><td>32866272</td><td>1246700</td></tr><tr><td>Peru</td><td>South America</td><td>South America</td><td>32971854</td><td>1285216</td></tr><tr><td>Uzbekistan</td><td>Asia</td><td>Central Asia</td><td>33469203</td><td>447400</td></tr><tr><td>Saudi Arabia</td><td>Asia</td><td>Western Asia</td><td>34813871</td><td>2149690</td></tr><tr><td>Morocco</td><td>Africa</td><td>Northern Africa</td><td>36910560</td><td>446550</td></tr><tr><td>Canada</td><td>North America</td><td>Northern America</td><td>37742154</td><td>9984670</td></tr><tr><td>Poland</td><td>Europe</td><td>Eastern Europe</td><td>37846611</td><td>312696</td></tr><tr><td>Afghanistan</td><td>Asia</td><td>Southern Asia</td><td>38928346</td><td>652230</td></tr><tr><td>Iraq</td><td>Asia</td><td>Western Asia</td><td>40222493</td><td>438317</td></tr><tr><td>Ukraine</td><td>Europe</td><td>Eastern Europe</td><td>43733762</td><td>603628</td></tr><tr><td>Sudan</td><td>Africa</td><td>Northern Africa</td><td>43849260</td><td>1861484</td></tr><tr><td>Algeria</td><td>Africa</td><td>Northern Africa</td><td>43851044</td><td>2381741</td></tr><tr><td>Argentina</td><td>South America</td><td>South America</td><td>45376763</td><td>2780400</td></tr><tr><td>Uganda</td><td>Africa</td><td>Eastern Africa</td><td>45741007</td><td>241550</td></tr><tr><td>Spain</td><td>Europe</td><td>Southern Europe</td><td>46754778</td><td>505992</td></tr><tr><td>Colombia</td><td>South America</td><td>South America</td><td>50882891</td><td>1141748</td></tr><tr><td>South Korea</td><td>Asia</td><td>Eastern Asia</td><td>51269185</td><td>100210</td></tr><tr><td>Kenya</td><td>Africa</td><td>Eastern Africa</td><td>53771296</td><td>580367</td></tr><tr><td>Myanmar</td><td>Asia</td><td>South-Eastern Asia</td><td>54409800</td><td>676578</td></tr><tr><td>South Africa</td><td>Africa</td><td>Southern Africa</td><td>59308690</td><td>1221037</td></tr><tr><td>Tanzania</td><td>Africa</td><td>Eastern Africa</td><td>59734218</td><td>945087</td></tr><tr><td>Italy</td><td>Europe</td><td>Southern Europe</td><td>60461826</td><td>301340</td></tr><tr><td>France</td><td>Europe</td><td>Western Europe</td><td>65273511</td><td>551695</td></tr><tr><td>United Kingdom</td><td>Europe</td><td>Northern Europe</td><td>67886011</td><td>243610</td></tr><tr><td>Thailand</td><td>Asia</td><td>South-Eastern Asia</td><td>69799978</td><td>513120</td></tr><tr><td>Germany</td><td>Europe</td><td>Western Europe</td><td>83783942</td><td>357022</td></tr><tr><td>Iran</td><td>Asia</td><td>Southern Asia</td><td>83992949</td><td>1648195</td></tr><tr><td>Turkey</td><td>Asia</td><td>Western Asia</td><td>84339067</td><td>783562</td></tr><tr><td>Congo, Democratic Republic of the</td><td>Africa</td><td>Middle Africa</td><td>89561403</td><td>2344858</td></tr><tr><td>Vietnam</td><td>Asia</td><td>South-Eastern Asia</td><td>97338579</td><td>331212</td></tr><tr><td>Egypt</td><td>Africa</td><td>Northern Africa</td><td>102334404</td><td>1002450</td></tr><tr><td>Philippines</td><td>Asia</td><td>South-Eastern Asia</td><td>109581078</td><td>300000</td></tr><tr><td>Ethiopia</td><td>Africa</td><td>Eastern Africa</td><td>114963588</td><td>1104300</td></tr><tr><td>Japan</td><td>Asia</td><td>Eastern Asia</td><td>126476461</td><td>377975</td></tr><tr><td>Mexico</td><td>North America</td><td>Central America</td><td>128932753</td><td>1964375</td></tr><tr><td>Russia</td><td>Europe</td><td>Eastern Europe</td><td>144478050</td><td>17098242</td></tr><tr><td>Bangladesh</td><td>Asia</td><td>Southern Asia</td><td>164689383</td><td>147570</td></tr><tr><td>Nigeria</td><td>Africa</td><td>Western Africa</td><td>206139589</td><td>923768</td></tr><tr><td>Brazil</td><td>South America</td><td>South America</td><td>212559417</td><td>8515767</td></tr><tr><td>Pakistan</td><td>Asia</td><td>Southern Asia</td><td>220892340</td><td>881913</td></tr><tr><td>Indonesia</td><td>Asia</td><td>South-Eastern Asia</td><td>273523615</td><td>1904569</td></tr><tr><td>United States</td><td>North America</td><td>Northern America</td><td>331002651</td><td>9833520</td></tr><tr><td>India</td><td>Asia</td><td>Southern Asia</td><td>1380004385</td><td>3287263</td></tr><tr><td>China</td><td>Asia</td><td>Eastern Asia</td><td>1439323776</td><td>9596961</td></tr></tbody></table></div>"
      ]
     },
     "metadata": {
      "application/vnd.databricks.v1+output": {
       "addedWidgets": {},
       "aggData": [],
       "aggError": "",
       "aggOverflow": false,
       "aggSchema": [],
       "aggSeriesLimitReached": false,
       "aggType": "",
       "arguments": {},
       "columnCustomDisplayInfos": {},
       "data": [
        [
         "Holy See",
         "Europe",
         "Southern Europe",
         801,
         0
        ],
        [
         "Nauru",
         "Oceania",
         "Micronesia",
         10824,
         21
        ],
        [
         "Tuvalu",
         "Oceania",
         "Polynesia",
         11792,
         26
        ],
        [
         "Palau",
         "Oceania",
         "Micronesia",
         18094,
         459
        ],
        [
         "San Marino",
         "Europe",
         "Southern Europe",
         33938,
         61
        ],
        [
         "Liechtenstein",
         "Europe",
         "Western Europe",
         38128,
         160
        ],
        [
         "Monaco",
         "Europe",
         "Western Europe",
         39242,
         2
        ],
        [
         "Saint Kitts and Nevis",
         "North America",
         "Caribbean",
         53192,
         261
        ],
        [
         "Marshall Islands",
         "Oceania",
         "Micronesia",
         59190,
         181
        ],
        [
         "Dominica",
         "North America",
         "Caribbean",
         71986,
         751
        ],
        [
         "Andorra",
         "Europe",
         "Southern Europe",
         77265,
         468
        ],
        [
         "Antigua and Barbuda",
         "North America",
         "Caribbean",
         97929,
         442
        ],
        [
         "Seychelles",
         "Africa",
         "Eastern Africa",
         98347,
         455
        ],
        [
         "Tonga",
         "Oceania",
         "Polynesia",
         105695,
         747
        ],
        [
         "Saint Vincent and the Grenadines",
         "North America",
         "Caribbean",
         110940,
         389
        ],
        [
         "Grenada",
         "North America",
         "Caribbean",
         112523,
         344
        ],
        [
         "Micronesia",
         "Oceania",
         "Micronesia",
         115023,
         702
        ],
        [
         "Kiribati",
         "Oceania",
         "Micronesia",
         119449,
         811
        ],
        [
         "Saint Lucia",
         "North America",
         "Caribbean",
         183627,
         616
        ],
        [
         "Samoa",
         "Oceania",
         "Polynesia",
         198414,
         2842
        ],
        [
         "Sao Tome and Principe",
         "Africa",
         "Middle Africa",
         219159,
         964
        ],
        [
         "Barbados",
         "North America",
         "Caribbean",
         287375,
         430
        ],
        [
         "Vanuatu",
         "Oceania",
         "Melanesia",
         307145,
         12189
        ],
        [
         "Iceland",
         "Europe",
         "Northern Europe",
         341243,
         103000
        ],
        [
         "Bahamas",
         "North America",
         "Caribbean",
         393244,
         13943
        ],
        [
         "Belize",
         "North America",
         "Central America",
         397621,
         22966
        ],
        [
         "Brunei",
         "Asia",
         "South-Eastern Asia",
         437479,
         5765
        ],
        [
         "Malta",
         "Europe",
         "Southern Europe",
         441543,
         316
        ],
        [
         "Maldives",
         "Asia",
         "Southern Asia",
         540544,
         300
        ],
        [
         "Cabo Verde",
         "Africa",
         "Western Africa",
         555987,
         4033
        ],
        [
         "Suriname",
         "South America",
         "South America",
         586634,
         163820
        ],
        [
         "Montenegro",
         "Europe",
         "Southern Europe",
         622359,
         13812
        ],
        [
         "Luxembourg",
         "Europe",
         "Western Europe",
         634814,
         2586
        ],
        [
         "Solomon Islands",
         "Oceania",
         "Melanesia",
         686884,
         28896
        ],
        [
         "Bhutan",
         "Asia",
         "Southern Asia",
         771608,
         38394
        ],
        [
         "Guyana",
         "South America",
         "South America",
         786552,
         214969
        ],
        [
         "Comoros",
         "Africa",
         "Eastern Africa",
         869601,
         1862
        ],
        [
         "Fiji",
         "Oceania",
         "Melanesia",
         896444,
         18274
        ],
        [
         "Djibouti",
         "Africa",
         "Eastern Africa",
         988000,
         23200
        ],
        [
         "Eswatini",
         "Africa",
         "Southern Africa",
         1160164,
         17364
        ],
        [
         "Cyprus",
         "Europe",
         "Western Asia",
         1207359,
         9251
        ],
        [
         "Mauritius",
         "Africa",
         "Eastern Africa",
         1271768,
         2040
        ],
        [
         "Timor-Leste",
         "Asia",
         "South-Eastern Asia",
         1318445,
         14874
        ],
        [
         "Estonia",
         "Europe",
         "Northern Europe",
         1331796,
         45227
        ],
        [
         "Trinidad and Tobago",
         "North America",
         "Caribbean",
         1399488,
         5130
        ],
        [
         "Equatorial Guinea",
         "Africa",
         "Middle Africa",
         1402985,
         28051
        ],
        [
         "Bahrain",
         "Asia",
         "Western Asia",
         1701575,
         765
        ],
        [
         "Latvia",
         "Europe",
         "Northern Europe",
         1886198,
         64559
        ],
        [
         "Guinea-Bissau",
         "Africa",
         "Western Africa",
         1968001,
         36125
        ],
        [
         "Slovenia",
         "Europe",
         "Southern Europe",
         2078938,
         20273
        ],
        [
         "North Macedonia",
         "Europe",
         "Southern Europe",
         2083374,
         25713
        ],
        [
         "Lesotho",
         "Africa",
         "Southern Africa",
         2142249,
         30355
        ],
        [
         "Gabon",
         "Africa",
         "Middle Africa",
         2225728,
         267668
        ],
        [
         "Botswana",
         "Africa",
         "Southern Africa",
         2351627,
         581730
        ],
        [
         "Gambia",
         "Africa",
         "Western Africa",
         2416668,
         11295
        ],
        [
         "Namibia",
         "Africa",
         "Southern Africa",
         2540905,
         824292
        ],
        [
         "Moldova",
         "Europe",
         "Eastern Europe",
         2640438,
         33851
        ],
        [
         "Lithuania",
         "Europe",
         "Northern Europe",
         2722289,
         65300
        ],
        [
         "Albania",
         "Europe",
         "Southern Europe",
         2877797,
         28748
        ],
        [
         "Qatar",
         "Asia",
         "Western Asia",
         2881053,
         11586
        ],
        [
         "Jamaica",
         "North America",
         "Caribbean",
         2961167,
         10991
        ],
        [
         "Armenia",
         "Asia",
         "Western Asia",
         2963243,
         29743
        ],
        [
         "Mongolia",
         "Asia",
         "Eastern Asia",
         3278290,
         1564110
        ],
        [
         "Bosnia and Herzegovina",
         "Europe",
         "Southern Europe",
         3280819,
         51129
        ],
        [
         "Uruguay",
         "South America",
         "South America",
         3473730,
         176215
        ],
        [
         "Eritrea",
         "Africa",
         "Eastern Africa",
         3546421,
         117600
        ],
        [
         "Georgia",
         "Asia",
         "Western Asia",
         3989167,
         69700
        ],
        [
         "Croatia",
         "Europe",
         "Southern Europe",
         4105267,
         56594
        ],
        [
         "Kuwait",
         "Asia",
         "Western Asia",
         4270571,
         17818
        ],
        [
         "Panama",
         "North America",
         "Central America",
         4314767,
         75417
        ],
        [
         "Mauritania",
         "Africa",
         "Western Africa",
         4649658,
         1030700
        ],
        [
         "Central African Republic",
         "Africa",
         "Middle Africa",
         4829767,
         622984
        ],
        [
         "Ireland",
         "Europe",
         "Northern Europe",
         4937786,
         70273
        ],
        [
         "Liberia",
         "Africa",
         "Western Africa",
         5073296,
         111369
        ],
        [
         "New Zealand",
         "Oceania",
         "Australia and New Zealand",
         5084300,
         268838
        ],
        [
         "Costa Rica",
         "North America",
         "Central America",
         5094118,
         51100
        ],
        [
         "Palestine, State of",
         "Asia",
         "Western Asia",
         5101414,
         6020
        ],
        [
         "Oman",
         "Asia",
         "Western Asia",
         5106626,
         309500
        ],
        [
         "Norway",
         "Europe",
         "Northern Europe",
         5421241,
         385207
        ],
        [
         "Slovakia",
         "Europe",
         "Eastern Europe",
         5459642,
         49037
        ],
        [
         "Congo, Republic of the",
         "Africa",
         "Middle Africa",
         5518087,
         342000
        ],
        [
         "Finland",
         "Europe",
         "Northern Europe",
         5540720,
         338424
        ],
        [
         "Denmark",
         "Europe",
         "Northern Europe",
         5792202,
         42933
        ],
        [
         "Singapore",
         "Asia",
         "South-Eastern Asia",
         5850342,
         719
        ],
        [
         "Turkmenistan",
         "Asia",
         "Central Asia",
         6031200,
         488100
        ],
        [
         "El Salvador",
         "North America",
         "Central America",
         6486205,
         21041
        ],
        [
         "Kyrgyzstan",
         "Asia",
         "Central Asia",
         6524195,
         199951
        ],
        [
         "Nicaragua",
         "North America",
         "Central America",
         6624554,
         130373
        ],
        [
         "Lebanon",
         "Asia",
         "Western Asia",
         6825445,
         10452
        ],
        [
         "Libya",
         "Africa",
         "Northern Africa",
         6871292,
         1759540
        ],
        [
         "Serbia",
         "Europe",
         "Southern Europe",
         6944975,
         88361
        ],
        [
         "Bulgaria",
         "Europe",
         "Eastern Europe",
         6948445,
         110994
        ],
        [
         "Paraguay",
         "South America",
         "South America",
         7132538,
         406752
        ],
        [
         "Laos",
         "Asia",
         "South-Eastern Asia",
         7275560,
         236800
        ],
        [
         "Sierra Leone",
         "Africa",
         "Western Africa",
         7976983,
         71740
        ],
        [
         "Togo",
         "Africa",
         "Western Africa",
         8278724,
         56785
        ],
        [
         "Switzerland",
         "Europe",
         "Western Europe",
         8654622,
         41285
        ],
        [
         "Papua New Guinea",
         "Oceania",
         "Melanesia",
         8947024,
         462840
        ],
        [
         "Austria",
         "Europe",
         "Western Europe",
         9006398,
         83879
        ],
        [
         "Israel",
         "Asia",
         "Western Asia",
         9053300,
         20770
        ],
        [
         "Belarus",
         "Europe",
         "Eastern Europe",
         9449323,
         207600
        ],
        [
         "Tajikistan",
         "Asia",
         "Central Asia",
         9537645,
         143100
        ],
        [
         "Hungary",
         "Europe",
         "Eastern Europe",
         9660351,
         93030
        ],
        [
         "United Arab Emirates",
         "Asia",
         "Western Asia",
         9890400,
         83600
        ],
        [
         "Honduras",
         "North America",
         "Central America",
         9904607,
         112492
        ],
        [
         "Sweden",
         "Europe",
         "Northern Europe",
         10099265,
         450295
        ],
        [
         "Azerbaijan",
         "Asia",
         "Western Asia",
         10139177,
         86600
        ],
        [
         "Portugal",
         "Europe",
         "Southern Europe",
         10196709,
         92090
        ],
        [
         "Jordan",
         "Asia",
         "Western Asia",
         10203134,
         89342
        ],
        [
         "Greece",
         "Europe",
         "Southern Europe",
         10423054,
         131957
        ],
        [
         "Czech Republic",
         "Europe",
         "Eastern Europe",
         10708981,
         78866
        ],
        [
         "Dominican Republic",
         "North America",
         "Caribbean",
         10847910,
         48671
        ],
        [
         "South Sudan",
         "Africa",
         "Eastern Africa",
         11193725,
         644329
        ],
        [
         "Cuba",
         "North America",
         "Caribbean",
         11326616,
         109884
        ],
        [
         "Haiti",
         "North America",
         "Caribbean",
         11402528,
         27750
        ],
        [
         "Belgium",
         "Europe",
         "Western Europe",
         11589623,
         30528
        ],
        [
         "Bolivia",
         "South America",
         "South America",
         11673021,
         1098581
        ],
        [
         "Tunisia",
         "Africa",
         "Northern Africa",
         11818619,
         163610
        ],
        [
         "Burundi",
         "Africa",
         "Eastern Africa",
         11890784,
         27834
        ],
        [
         "Benin",
         "Africa",
         "Western Africa",
         12123200,
         114763
        ],
        [
         "Rwanda",
         "Africa",
         "Eastern Africa",
         12952218,
         26338
        ],
        [
         "Guinea",
         "Africa",
         "Western Africa",
         13132795,
         245857
        ],
        [
         "Zimbabwe",
         "Africa",
         "Eastern Africa",
         14862924,
         390757
        ],
        [
         "Somalia",
         "Africa",
         "Eastern Africa",
         15893222,
         637657
        ],
        [
         "Chad",
         "Africa",
         "Middle Africa",
         16425864,
         1284000
        ],
        [
         "Cambodia",
         "Asia",
         "South-Eastern Asia",
         16718965,
         181035
        ],
        [
         "Senegal",
         "Africa",
         "Western Africa",
         16743927,
         196722
        ],
        [
         "Netherlands",
         "Europe",
         "Western Europe",
         17134872,
         41543
        ],
        [
         "Syria",
         "Asia",
         "Western Asia",
         17500657,
         185180
        ],
        [
         "Ecuador",
         "South America",
         "South America",
         17643054,
         283561
        ],
        [
         "Guatemala",
         "North America",
         "Central America",
         17915568,
         108889
        ],
        [
         "Zambia",
         "Africa",
         "Eastern Africa",
         18383955,
         752612
        ],
        [
         "Kazakhstan",
         "Asia",
         "Central Asia",
         18776707,
         2724900
        ],
        [
         "Chile",
         "South America",
         "South America",
         19116201,
         756102
        ],
        [
         "Malawi",
         "Africa",
         "Eastern Africa",
         19129952,
         118484
        ],
        [
         "Romania",
         "Europe",
         "Eastern Europe",
         19237691,
         238391
        ],
        [
         "Mali",
         "Africa",
         "Western Africa",
         20250833,
         1240192
        ],
        [
         "Burkina Faso",
         "Africa",
         "Western Africa",
         20903273,
         274200
        ],
        [
         "Sri Lanka",
         "Asia",
         "Southern Asia",
         21413249,
         65610
        ],
        [
         "Niger",
         "Africa",
         "Western Africa",
         24206644,
         1267000
        ],
        [
         "Australia",
         "Oceania",
         "Australia and New Zealand",
         25649984,
         7692024
        ],
        [
         "North Korea",
         "Asia",
         "Eastern Asia",
         25778816,
         120538
        ],
        [
         "Côte d'Ivoire",
         "Africa",
         "Western Africa",
         26378274,
         322463
        ],
        [
         "Cameroon",
         "Africa",
         "Middle Africa",
         26545863,
         475442
        ],
        [
         "Madagascar",
         "Africa",
         "Eastern Africa",
         27691018,
         587041
        ],
        [
         "Venezuela",
         "South America",
         "South America",
         28435940,
         916445
        ],
        [
         "Nepal",
         "Asia",
         "Southern Asia",
         29136808,
         147181
        ],
        [
         "Yemen",
         "Asia",
         "Western Asia",
         29825964,
         527968
        ],
        [
         "Ghana",
         "Africa",
         "Western Africa",
         31072940,
         238533
        ],
        [
         "Mozambique",
         "Africa",
         "Eastern Africa",
         31255435,
         801590
        ],
        [
         "Malaysia",
         "Asia",
         "South-Eastern Asia",
         32365999,
         330803
        ],
        [
         "Angola",
         "Africa",
         "Middle Africa",
         32866272,
         1246700
        ],
        [
         "Peru",
         "South America",
         "South America",
         32971854,
         1285216
        ],
        [
         "Uzbekistan",
         "Asia",
         "Central Asia",
         33469203,
         447400
        ],
        [
         "Saudi Arabia",
         "Asia",
         "Western Asia",
         34813871,
         2149690
        ],
        [
         "Morocco",
         "Africa",
         "Northern Africa",
         36910560,
         446550
        ],
        [
         "Canada",
         "North America",
         "Northern America",
         37742154,
         9984670
        ],
        [
         "Poland",
         "Europe",
         "Eastern Europe",
         37846611,
         312696
        ],
        [
         "Afghanistan",
         "Asia",
         "Southern Asia",
         38928346,
         652230
        ],
        [
         "Iraq",
         "Asia",
         "Western Asia",
         40222493,
         438317
        ],
        [
         "Ukraine",
         "Europe",
         "Eastern Europe",
         43733762,
         603628
        ],
        [
         "Sudan",
         "Africa",
         "Northern Africa",
         43849260,
         1861484
        ],
        [
         "Algeria",
         "Africa",
         "Northern Africa",
         43851044,
         2381741
        ],
        [
         "Argentina",
         "South America",
         "South America",
         45376763,
         2780400
        ],
        [
         "Uganda",
         "Africa",
         "Eastern Africa",
         45741007,
         241550
        ],
        [
         "Spain",
         "Europe",
         "Southern Europe",
         46754778,
         505992
        ],
        [
         "Colombia",
         "South America",
         "South America",
         50882891,
         1141748
        ],
        [
         "South Korea",
         "Asia",
         "Eastern Asia",
         51269185,
         100210
        ],
        [
         "Kenya",
         "Africa",
         "Eastern Africa",
         53771296,
         580367
        ],
        [
         "Myanmar",
         "Asia",
         "South-Eastern Asia",
         54409800,
         676578
        ],
        [
         "South Africa",
         "Africa",
         "Southern Africa",
         59308690,
         1221037
        ],
        [
         "Tanzania",
         "Africa",
         "Eastern Africa",
         59734218,
         945087
        ],
        [
         "Italy",
         "Europe",
         "Southern Europe",
         60461826,
         301340
        ],
        [
         "France",
         "Europe",
         "Western Europe",
         65273511,
         551695
        ],
        [
         "United Kingdom",
         "Europe",
         "Northern Europe",
         67886011,
         243610
        ],
        [
         "Thailand",
         "Asia",
         "South-Eastern Asia",
         69799978,
         513120
        ],
        [
         "Germany",
         "Europe",
         "Western Europe",
         83783942,
         357022
        ],
        [
         "Iran",
         "Asia",
         "Southern Asia",
         83992949,
         1648195
        ],
        [
         "Turkey",
         "Asia",
         "Western Asia",
         84339067,
         783562
        ],
        [
         "Congo, Democratic Republic of the",
         "Africa",
         "Middle Africa",
         89561403,
         2344858
        ],
        [
         "Vietnam",
         "Asia",
         "South-Eastern Asia",
         97338579,
         331212
        ],
        [
         "Egypt",
         "Africa",
         "Northern Africa",
         102334404,
         1002450
        ],
        [
         "Philippines",
         "Asia",
         "South-Eastern Asia",
         109581078,
         300000
        ],
        [
         "Ethiopia",
         "Africa",
         "Eastern Africa",
         114963588,
         1104300
        ],
        [
         "Japan",
         "Asia",
         "Eastern Asia",
         126476461,
         377975
        ],
        [
         "Mexico",
         "North America",
         "Central America",
         128932753,
         1964375
        ],
        [
         "Russia",
         "Europe",
         "Eastern Europe",
         144478050,
         17098242
        ],
        [
         "Bangladesh",
         "Asia",
         "Southern Asia",
         164689383,
         147570
        ],
        [
         "Nigeria",
         "Africa",
         "Western Africa",
         206139589,
         923768
        ],
        [
         "Brazil",
         "South America",
         "South America",
         212559417,
         8515767
        ],
        [
         "Pakistan",
         "Asia",
         "Southern Asia",
         220892340,
         881913
        ],
        [
         "Indonesia",
         "Asia",
         "South-Eastern Asia",
         273523615,
         1904569
        ],
        [
         "United States",
         "North America",
         "Northern America",
         331002651,
         9833520
        ],
        [
         "India",
         "Asia",
         "Southern Asia",
         1380004385,
         3287263
        ],
        [
         "China",
         "Asia",
         "Eastern Asia",
         1439323776,
         9596961
        ]
       ],
       "datasetInfos": [],
       "dbfsResultPath": null,
       "isJsonSchema": true,
       "metadata": {},
       "overflow": false,
       "plotOptions": {
        "customPlotOptions": {},
        "displayType": "table",
        "pivotAggregation": null,
        "pivotColumns": null,
        "xColumns": null,
        "yColumns": null
       },
       "removedWidgets": [],
       "schema": [
        {
         "metadata": "{}",
         "name": "country_name",
         "type": "\"string\""
        },
        {
         "metadata": "{}",
         "name": "continent",
         "type": "\"string\""
        },
        {
         "metadata": "{}",
         "name": "sub_region",
         "type": "\"string\""
        },
        {
         "metadata": "{}",
         "name": "population",
         "type": "\"long\""
        },
        {
         "metadata": "{}",
         "name": "area_km2",
         "type": "\"integer\""
        }
       ],
       "type": "table"
      }
     },
     "output_type": "display_data"
    }
   ],
   "source": [
    "# Sorting by population (default ascending)\n",
    "df.sort(\"population\").display()"
   ]
  },
  {
   "cell_type": "code",
   "execution_count": 0,
   "metadata": {
    "application/vnd.databricks.v1+cell": {
     "cellMetadata": {
      "byteLimit": 2048000,
      "rowLimit": 10000
     },
     "inputWidgets": {},
     "nuid": "dd1a6c7a-2990-4c2e-8972-33275488d12a",
     "showTitle": false,
     "tableResultSettingsMap": {},
     "title": ""
    }
   },
   "outputs": [
    {
     "output_type": "display_data",
     "data": {
      "text/html": [
       "<style scoped>\n",
       "  .table-result-container {\n",
       "    max-height: 300px;\n",
       "    overflow: auto;\n",
       "  }\n",
       "  table, th, td {\n",
       "    border: 1px solid black;\n",
       "    border-collapse: collapse;\n",
       "  }\n",
       "  th, td {\n",
       "    padding: 5px;\n",
       "  }\n",
       "  th {\n",
       "    text-align: left;\n",
       "  }\n",
       "</style><div class='table-result-container'><table class='table-result'><thead style='background-color: white'><tr><th>country_name</th><th>continent</th><th>sub_region</th><th>population</th><th>area_km2</th></tr></thead><tbody><tr><td>China</td><td>Asia</td><td>Eastern Asia</td><td>1439323776</td><td>9596961</td></tr><tr><td>India</td><td>Asia</td><td>Southern Asia</td><td>1380004385</td><td>3287263</td></tr><tr><td>United States</td><td>North America</td><td>Northern America</td><td>331002651</td><td>9833520</td></tr><tr><td>Indonesia</td><td>Asia</td><td>South-Eastern Asia</td><td>273523615</td><td>1904569</td></tr><tr><td>Pakistan</td><td>Asia</td><td>Southern Asia</td><td>220892340</td><td>881913</td></tr><tr><td>Brazil</td><td>South America</td><td>South America</td><td>212559417</td><td>8515767</td></tr><tr><td>Nigeria</td><td>Africa</td><td>Western Africa</td><td>206139589</td><td>923768</td></tr><tr><td>Bangladesh</td><td>Asia</td><td>Southern Asia</td><td>164689383</td><td>147570</td></tr><tr><td>Russia</td><td>Europe</td><td>Eastern Europe</td><td>144478050</td><td>17098242</td></tr><tr><td>Mexico</td><td>North America</td><td>Central America</td><td>128932753</td><td>1964375</td></tr><tr><td>Japan</td><td>Asia</td><td>Eastern Asia</td><td>126476461</td><td>377975</td></tr><tr><td>Ethiopia</td><td>Africa</td><td>Eastern Africa</td><td>114963588</td><td>1104300</td></tr><tr><td>Philippines</td><td>Asia</td><td>South-Eastern Asia</td><td>109581078</td><td>300000</td></tr><tr><td>Egypt</td><td>Africa</td><td>Northern Africa</td><td>102334404</td><td>1002450</td></tr><tr><td>Vietnam</td><td>Asia</td><td>South-Eastern Asia</td><td>97338579</td><td>331212</td></tr><tr><td>Congo, Democratic Republic of the</td><td>Africa</td><td>Middle Africa</td><td>89561403</td><td>2344858</td></tr><tr><td>Turkey</td><td>Asia</td><td>Western Asia</td><td>84339067</td><td>783562</td></tr><tr><td>Iran</td><td>Asia</td><td>Southern Asia</td><td>83992949</td><td>1648195</td></tr><tr><td>Germany</td><td>Europe</td><td>Western Europe</td><td>83783942</td><td>357022</td></tr><tr><td>Thailand</td><td>Asia</td><td>South-Eastern Asia</td><td>69799978</td><td>513120</td></tr><tr><td>United Kingdom</td><td>Europe</td><td>Northern Europe</td><td>67886011</td><td>243610</td></tr><tr><td>France</td><td>Europe</td><td>Western Europe</td><td>65273511</td><td>551695</td></tr><tr><td>Italy</td><td>Europe</td><td>Southern Europe</td><td>60461826</td><td>301340</td></tr><tr><td>Tanzania</td><td>Africa</td><td>Eastern Africa</td><td>59734218</td><td>945087</td></tr><tr><td>South Africa</td><td>Africa</td><td>Southern Africa</td><td>59308690</td><td>1221037</td></tr><tr><td>Myanmar</td><td>Asia</td><td>South-Eastern Asia</td><td>54409800</td><td>676578</td></tr><tr><td>Kenya</td><td>Africa</td><td>Eastern Africa</td><td>53771296</td><td>580367</td></tr><tr><td>South Korea</td><td>Asia</td><td>Eastern Asia</td><td>51269185</td><td>100210</td></tr><tr><td>Colombia</td><td>South America</td><td>South America</td><td>50882891</td><td>1141748</td></tr><tr><td>Spain</td><td>Europe</td><td>Southern Europe</td><td>46754778</td><td>505992</td></tr><tr><td>Uganda</td><td>Africa</td><td>Eastern Africa</td><td>45741007</td><td>241550</td></tr><tr><td>Argentina</td><td>South America</td><td>South America</td><td>45376763</td><td>2780400</td></tr><tr><td>Algeria</td><td>Africa</td><td>Northern Africa</td><td>43851044</td><td>2381741</td></tr><tr><td>Sudan</td><td>Africa</td><td>Northern Africa</td><td>43849260</td><td>1861484</td></tr><tr><td>Ukraine</td><td>Europe</td><td>Eastern Europe</td><td>43733762</td><td>603628</td></tr><tr><td>Iraq</td><td>Asia</td><td>Western Asia</td><td>40222493</td><td>438317</td></tr><tr><td>Afghanistan</td><td>Asia</td><td>Southern Asia</td><td>38928346</td><td>652230</td></tr><tr><td>Poland</td><td>Europe</td><td>Eastern Europe</td><td>37846611</td><td>312696</td></tr><tr><td>Canada</td><td>North America</td><td>Northern America</td><td>37742154</td><td>9984670</td></tr><tr><td>Morocco</td><td>Africa</td><td>Northern Africa</td><td>36910560</td><td>446550</td></tr><tr><td>Saudi Arabia</td><td>Asia</td><td>Western Asia</td><td>34813871</td><td>2149690</td></tr><tr><td>Uzbekistan</td><td>Asia</td><td>Central Asia</td><td>33469203</td><td>447400</td></tr><tr><td>Peru</td><td>South America</td><td>South America</td><td>32971854</td><td>1285216</td></tr><tr><td>Angola</td><td>Africa</td><td>Middle Africa</td><td>32866272</td><td>1246700</td></tr><tr><td>Malaysia</td><td>Asia</td><td>South-Eastern Asia</td><td>32365999</td><td>330803</td></tr><tr><td>Mozambique</td><td>Africa</td><td>Eastern Africa</td><td>31255435</td><td>801590</td></tr><tr><td>Ghana</td><td>Africa</td><td>Western Africa</td><td>31072940</td><td>238533</td></tr><tr><td>Yemen</td><td>Asia</td><td>Western Asia</td><td>29825964</td><td>527968</td></tr><tr><td>Nepal</td><td>Asia</td><td>Southern Asia</td><td>29136808</td><td>147181</td></tr><tr><td>Venezuela</td><td>South America</td><td>South America</td><td>28435940</td><td>916445</td></tr><tr><td>Madagascar</td><td>Africa</td><td>Eastern Africa</td><td>27691018</td><td>587041</td></tr><tr><td>Cameroon</td><td>Africa</td><td>Middle Africa</td><td>26545863</td><td>475442</td></tr><tr><td>Côte d'Ivoire</td><td>Africa</td><td>Western Africa</td><td>26378274</td><td>322463</td></tr><tr><td>North Korea</td><td>Asia</td><td>Eastern Asia</td><td>25778816</td><td>120538</td></tr><tr><td>Australia</td><td>Oceania</td><td>Australia and New Zealand</td><td>25649984</td><td>7692024</td></tr><tr><td>Niger</td><td>Africa</td><td>Western Africa</td><td>24206644</td><td>1267000</td></tr><tr><td>Sri Lanka</td><td>Asia</td><td>Southern Asia</td><td>21413249</td><td>65610</td></tr><tr><td>Burkina Faso</td><td>Africa</td><td>Western Africa</td><td>20903273</td><td>274200</td></tr><tr><td>Mali</td><td>Africa</td><td>Western Africa</td><td>20250833</td><td>1240192</td></tr><tr><td>Romania</td><td>Europe</td><td>Eastern Europe</td><td>19237691</td><td>238391</td></tr><tr><td>Malawi</td><td>Africa</td><td>Eastern Africa</td><td>19129952</td><td>118484</td></tr><tr><td>Chile</td><td>South America</td><td>South America</td><td>19116201</td><td>756102</td></tr><tr><td>Kazakhstan</td><td>Asia</td><td>Central Asia</td><td>18776707</td><td>2724900</td></tr><tr><td>Zambia</td><td>Africa</td><td>Eastern Africa</td><td>18383955</td><td>752612</td></tr><tr><td>Guatemala</td><td>North America</td><td>Central America</td><td>17915568</td><td>108889</td></tr><tr><td>Ecuador</td><td>South America</td><td>South America</td><td>17643054</td><td>283561</td></tr><tr><td>Syria</td><td>Asia</td><td>Western Asia</td><td>17500657</td><td>185180</td></tr><tr><td>Netherlands</td><td>Europe</td><td>Western Europe</td><td>17134872</td><td>41543</td></tr><tr><td>Senegal</td><td>Africa</td><td>Western Africa</td><td>16743927</td><td>196722</td></tr><tr><td>Cambodia</td><td>Asia</td><td>South-Eastern Asia</td><td>16718965</td><td>181035</td></tr><tr><td>Chad</td><td>Africa</td><td>Middle Africa</td><td>16425864</td><td>1284000</td></tr><tr><td>Somalia</td><td>Africa</td><td>Eastern Africa</td><td>15893222</td><td>637657</td></tr><tr><td>Zimbabwe</td><td>Africa</td><td>Eastern Africa</td><td>14862924</td><td>390757</td></tr><tr><td>Guinea</td><td>Africa</td><td>Western Africa</td><td>13132795</td><td>245857</td></tr><tr><td>Rwanda</td><td>Africa</td><td>Eastern Africa</td><td>12952218</td><td>26338</td></tr><tr><td>Benin</td><td>Africa</td><td>Western Africa</td><td>12123200</td><td>114763</td></tr><tr><td>Burundi</td><td>Africa</td><td>Eastern Africa</td><td>11890784</td><td>27834</td></tr><tr><td>Tunisia</td><td>Africa</td><td>Northern Africa</td><td>11818619</td><td>163610</td></tr><tr><td>Bolivia</td><td>South America</td><td>South America</td><td>11673021</td><td>1098581</td></tr><tr><td>Belgium</td><td>Europe</td><td>Western Europe</td><td>11589623</td><td>30528</td></tr><tr><td>Haiti</td><td>North America</td><td>Caribbean</td><td>11402528</td><td>27750</td></tr><tr><td>Cuba</td><td>North America</td><td>Caribbean</td><td>11326616</td><td>109884</td></tr><tr><td>South Sudan</td><td>Africa</td><td>Eastern Africa</td><td>11193725</td><td>644329</td></tr><tr><td>Dominican Republic</td><td>North America</td><td>Caribbean</td><td>10847910</td><td>48671</td></tr><tr><td>Czech Republic</td><td>Europe</td><td>Eastern Europe</td><td>10708981</td><td>78866</td></tr><tr><td>Greece</td><td>Europe</td><td>Southern Europe</td><td>10423054</td><td>131957</td></tr><tr><td>Jordan</td><td>Asia</td><td>Western Asia</td><td>10203134</td><td>89342</td></tr><tr><td>Portugal</td><td>Europe</td><td>Southern Europe</td><td>10196709</td><td>92090</td></tr><tr><td>Azerbaijan</td><td>Asia</td><td>Western Asia</td><td>10139177</td><td>86600</td></tr><tr><td>Sweden</td><td>Europe</td><td>Northern Europe</td><td>10099265</td><td>450295</td></tr><tr><td>Honduras</td><td>North America</td><td>Central America</td><td>9904607</td><td>112492</td></tr><tr><td>United Arab Emirates</td><td>Asia</td><td>Western Asia</td><td>9890400</td><td>83600</td></tr><tr><td>Hungary</td><td>Europe</td><td>Eastern Europe</td><td>9660351</td><td>93030</td></tr><tr><td>Tajikistan</td><td>Asia</td><td>Central Asia</td><td>9537645</td><td>143100</td></tr><tr><td>Belarus</td><td>Europe</td><td>Eastern Europe</td><td>9449323</td><td>207600</td></tr><tr><td>Israel</td><td>Asia</td><td>Western Asia</td><td>9053300</td><td>20770</td></tr><tr><td>Austria</td><td>Europe</td><td>Western Europe</td><td>9006398</td><td>83879</td></tr><tr><td>Papua New Guinea</td><td>Oceania</td><td>Melanesia</td><td>8947024</td><td>462840</td></tr><tr><td>Switzerland</td><td>Europe</td><td>Western Europe</td><td>8654622</td><td>41285</td></tr><tr><td>Togo</td><td>Africa</td><td>Western Africa</td><td>8278724</td><td>56785</td></tr><tr><td>Sierra Leone</td><td>Africa</td><td>Western Africa</td><td>7976983</td><td>71740</td></tr><tr><td>Laos</td><td>Asia</td><td>South-Eastern Asia</td><td>7275560</td><td>236800</td></tr><tr><td>Paraguay</td><td>South America</td><td>South America</td><td>7132538</td><td>406752</td></tr><tr><td>Bulgaria</td><td>Europe</td><td>Eastern Europe</td><td>6948445</td><td>110994</td></tr><tr><td>Serbia</td><td>Europe</td><td>Southern Europe</td><td>6944975</td><td>88361</td></tr><tr><td>Libya</td><td>Africa</td><td>Northern Africa</td><td>6871292</td><td>1759540</td></tr><tr><td>Lebanon</td><td>Asia</td><td>Western Asia</td><td>6825445</td><td>10452</td></tr><tr><td>Nicaragua</td><td>North America</td><td>Central America</td><td>6624554</td><td>130373</td></tr><tr><td>Kyrgyzstan</td><td>Asia</td><td>Central Asia</td><td>6524195</td><td>199951</td></tr><tr><td>El Salvador</td><td>North America</td><td>Central America</td><td>6486205</td><td>21041</td></tr><tr><td>Turkmenistan</td><td>Asia</td><td>Central Asia</td><td>6031200</td><td>488100</td></tr><tr><td>Singapore</td><td>Asia</td><td>South-Eastern Asia</td><td>5850342</td><td>719</td></tr><tr><td>Denmark</td><td>Europe</td><td>Northern Europe</td><td>5792202</td><td>42933</td></tr><tr><td>Finland</td><td>Europe</td><td>Northern Europe</td><td>5540720</td><td>338424</td></tr><tr><td>Congo, Republic of the</td><td>Africa</td><td>Middle Africa</td><td>5518087</td><td>342000</td></tr><tr><td>Slovakia</td><td>Europe</td><td>Eastern Europe</td><td>5459642</td><td>49037</td></tr><tr><td>Norway</td><td>Europe</td><td>Northern Europe</td><td>5421241</td><td>385207</td></tr><tr><td>Oman</td><td>Asia</td><td>Western Asia</td><td>5106626</td><td>309500</td></tr><tr><td>Palestine, State of</td><td>Asia</td><td>Western Asia</td><td>5101414</td><td>6020</td></tr><tr><td>Costa Rica</td><td>North America</td><td>Central America</td><td>5094118</td><td>51100</td></tr><tr><td>New Zealand</td><td>Oceania</td><td>Australia and New Zealand</td><td>5084300</td><td>268838</td></tr><tr><td>Liberia</td><td>Africa</td><td>Western Africa</td><td>5073296</td><td>111369</td></tr><tr><td>Ireland</td><td>Europe</td><td>Northern Europe</td><td>4937786</td><td>70273</td></tr><tr><td>Central African Republic</td><td>Africa</td><td>Middle Africa</td><td>4829767</td><td>622984</td></tr><tr><td>Mauritania</td><td>Africa</td><td>Western Africa</td><td>4649658</td><td>1030700</td></tr><tr><td>Panama</td><td>North America</td><td>Central America</td><td>4314767</td><td>75417</td></tr><tr><td>Kuwait</td><td>Asia</td><td>Western Asia</td><td>4270571</td><td>17818</td></tr><tr><td>Croatia</td><td>Europe</td><td>Southern Europe</td><td>4105267</td><td>56594</td></tr><tr><td>Georgia</td><td>Asia</td><td>Western Asia</td><td>3989167</td><td>69700</td></tr><tr><td>Eritrea</td><td>Africa</td><td>Eastern Africa</td><td>3546421</td><td>117600</td></tr><tr><td>Uruguay</td><td>South America</td><td>South America</td><td>3473730</td><td>176215</td></tr><tr><td>Bosnia and Herzegovina</td><td>Europe</td><td>Southern Europe</td><td>3280819</td><td>51129</td></tr><tr><td>Mongolia</td><td>Asia</td><td>Eastern Asia</td><td>3278290</td><td>1564110</td></tr><tr><td>Armenia</td><td>Asia</td><td>Western Asia</td><td>2963243</td><td>29743</td></tr><tr><td>Jamaica</td><td>North America</td><td>Caribbean</td><td>2961167</td><td>10991</td></tr><tr><td>Qatar</td><td>Asia</td><td>Western Asia</td><td>2881053</td><td>11586</td></tr><tr><td>Albania</td><td>Europe</td><td>Southern Europe</td><td>2877797</td><td>28748</td></tr><tr><td>Lithuania</td><td>Europe</td><td>Northern Europe</td><td>2722289</td><td>65300</td></tr><tr><td>Moldova</td><td>Europe</td><td>Eastern Europe</td><td>2640438</td><td>33851</td></tr><tr><td>Namibia</td><td>Africa</td><td>Southern Africa</td><td>2540905</td><td>824292</td></tr><tr><td>Gambia</td><td>Africa</td><td>Western Africa</td><td>2416668</td><td>11295</td></tr><tr><td>Botswana</td><td>Africa</td><td>Southern Africa</td><td>2351627</td><td>581730</td></tr><tr><td>Gabon</td><td>Africa</td><td>Middle Africa</td><td>2225728</td><td>267668</td></tr><tr><td>Lesotho</td><td>Africa</td><td>Southern Africa</td><td>2142249</td><td>30355</td></tr><tr><td>North Macedonia</td><td>Europe</td><td>Southern Europe</td><td>2083374</td><td>25713</td></tr><tr><td>Slovenia</td><td>Europe</td><td>Southern Europe</td><td>2078938</td><td>20273</td></tr><tr><td>Guinea-Bissau</td><td>Africa</td><td>Western Africa</td><td>1968001</td><td>36125</td></tr><tr><td>Latvia</td><td>Europe</td><td>Northern Europe</td><td>1886198</td><td>64559</td></tr><tr><td>Bahrain</td><td>Asia</td><td>Western Asia</td><td>1701575</td><td>765</td></tr><tr><td>Equatorial Guinea</td><td>Africa</td><td>Middle Africa</td><td>1402985</td><td>28051</td></tr><tr><td>Trinidad and Tobago</td><td>North America</td><td>Caribbean</td><td>1399488</td><td>5130</td></tr><tr><td>Estonia</td><td>Europe</td><td>Northern Europe</td><td>1331796</td><td>45227</td></tr><tr><td>Timor-Leste</td><td>Asia</td><td>South-Eastern Asia</td><td>1318445</td><td>14874</td></tr><tr><td>Mauritius</td><td>Africa</td><td>Eastern Africa</td><td>1271768</td><td>2040</td></tr><tr><td>Cyprus</td><td>Europe</td><td>Western Asia</td><td>1207359</td><td>9251</td></tr><tr><td>Eswatini</td><td>Africa</td><td>Southern Africa</td><td>1160164</td><td>17364</td></tr><tr><td>Djibouti</td><td>Africa</td><td>Eastern Africa</td><td>988000</td><td>23200</td></tr><tr><td>Fiji</td><td>Oceania</td><td>Melanesia</td><td>896444</td><td>18274</td></tr><tr><td>Comoros</td><td>Africa</td><td>Eastern Africa</td><td>869601</td><td>1862</td></tr><tr><td>Guyana</td><td>South America</td><td>South America</td><td>786552</td><td>214969</td></tr><tr><td>Bhutan</td><td>Asia</td><td>Southern Asia</td><td>771608</td><td>38394</td></tr><tr><td>Solomon Islands</td><td>Oceania</td><td>Melanesia</td><td>686884</td><td>28896</td></tr><tr><td>Luxembourg</td><td>Europe</td><td>Western Europe</td><td>634814</td><td>2586</td></tr><tr><td>Montenegro</td><td>Europe</td><td>Southern Europe</td><td>622359</td><td>13812</td></tr><tr><td>Suriname</td><td>South America</td><td>South America</td><td>586634</td><td>163820</td></tr><tr><td>Cabo Verde</td><td>Africa</td><td>Western Africa</td><td>555987</td><td>4033</td></tr><tr><td>Maldives</td><td>Asia</td><td>Southern Asia</td><td>540544</td><td>300</td></tr><tr><td>Malta</td><td>Europe</td><td>Southern Europe</td><td>441543</td><td>316</td></tr><tr><td>Brunei</td><td>Asia</td><td>South-Eastern Asia</td><td>437479</td><td>5765</td></tr><tr><td>Belize</td><td>North America</td><td>Central America</td><td>397621</td><td>22966</td></tr><tr><td>Bahamas</td><td>North America</td><td>Caribbean</td><td>393244</td><td>13943</td></tr><tr><td>Iceland</td><td>Europe</td><td>Northern Europe</td><td>341243</td><td>103000</td></tr><tr><td>Vanuatu</td><td>Oceania</td><td>Melanesia</td><td>307145</td><td>12189</td></tr><tr><td>Barbados</td><td>North America</td><td>Caribbean</td><td>287375</td><td>430</td></tr><tr><td>Sao Tome and Principe</td><td>Africa</td><td>Middle Africa</td><td>219159</td><td>964</td></tr><tr><td>Samoa</td><td>Oceania</td><td>Polynesia</td><td>198414</td><td>2842</td></tr><tr><td>Saint Lucia</td><td>North America</td><td>Caribbean</td><td>183627</td><td>616</td></tr><tr><td>Kiribati</td><td>Oceania</td><td>Micronesia</td><td>119449</td><td>811</td></tr><tr><td>Micronesia</td><td>Oceania</td><td>Micronesia</td><td>115023</td><td>702</td></tr><tr><td>Grenada</td><td>North America</td><td>Caribbean</td><td>112523</td><td>344</td></tr><tr><td>Saint Vincent and the Grenadines</td><td>North America</td><td>Caribbean</td><td>110940</td><td>389</td></tr><tr><td>Tonga</td><td>Oceania</td><td>Polynesia</td><td>105695</td><td>747</td></tr><tr><td>Seychelles</td><td>Africa</td><td>Eastern Africa</td><td>98347</td><td>455</td></tr><tr><td>Antigua and Barbuda</td><td>North America</td><td>Caribbean</td><td>97929</td><td>442</td></tr><tr><td>Andorra</td><td>Europe</td><td>Southern Europe</td><td>77265</td><td>468</td></tr><tr><td>Dominica</td><td>North America</td><td>Caribbean</td><td>71986</td><td>751</td></tr><tr><td>Marshall Islands</td><td>Oceania</td><td>Micronesia</td><td>59190</td><td>181</td></tr><tr><td>Saint Kitts and Nevis</td><td>North America</td><td>Caribbean</td><td>53192</td><td>261</td></tr><tr><td>Monaco</td><td>Europe</td><td>Western Europe</td><td>39242</td><td>2</td></tr><tr><td>Liechtenstein</td><td>Europe</td><td>Western Europe</td><td>38128</td><td>160</td></tr><tr><td>San Marino</td><td>Europe</td><td>Southern Europe</td><td>33938</td><td>61</td></tr><tr><td>Palau</td><td>Oceania</td><td>Micronesia</td><td>18094</td><td>459</td></tr><tr><td>Tuvalu</td><td>Oceania</td><td>Polynesia</td><td>11792</td><td>26</td></tr><tr><td>Nauru</td><td>Oceania</td><td>Micronesia</td><td>10824</td><td>21</td></tr><tr><td>Holy See</td><td>Europe</td><td>Southern Europe</td><td>801</td><td>0</td></tr></tbody></table></div>"
      ]
     },
     "metadata": {
      "application/vnd.databricks.v1+output": {
       "addedWidgets": {},
       "aggData": [],
       "aggError": "",
       "aggOverflow": false,
       "aggSchema": [],
       "aggSeriesLimitReached": false,
       "aggType": "",
       "arguments": {},
       "columnCustomDisplayInfos": {},
       "data": [
        [
         "China",
         "Asia",
         "Eastern Asia",
         1439323776,
         9596961
        ],
        [
         "India",
         "Asia",
         "Southern Asia",
         1380004385,
         3287263
        ],
        [
         "United States",
         "North America",
         "Northern America",
         331002651,
         9833520
        ],
        [
         "Indonesia",
         "Asia",
         "South-Eastern Asia",
         273523615,
         1904569
        ],
        [
         "Pakistan",
         "Asia",
         "Southern Asia",
         220892340,
         881913
        ],
        [
         "Brazil",
         "South America",
         "South America",
         212559417,
         8515767
        ],
        [
         "Nigeria",
         "Africa",
         "Western Africa",
         206139589,
         923768
        ],
        [
         "Bangladesh",
         "Asia",
         "Southern Asia",
         164689383,
         147570
        ],
        [
         "Russia",
         "Europe",
         "Eastern Europe",
         144478050,
         17098242
        ],
        [
         "Mexico",
         "North America",
         "Central America",
         128932753,
         1964375
        ],
        [
         "Japan",
         "Asia",
         "Eastern Asia",
         126476461,
         377975
        ],
        [
         "Ethiopia",
         "Africa",
         "Eastern Africa",
         114963588,
         1104300
        ],
        [
         "Philippines",
         "Asia",
         "South-Eastern Asia",
         109581078,
         300000
        ],
        [
         "Egypt",
         "Africa",
         "Northern Africa",
         102334404,
         1002450
        ],
        [
         "Vietnam",
         "Asia",
         "South-Eastern Asia",
         97338579,
         331212
        ],
        [
         "Congo, Democratic Republic of the",
         "Africa",
         "Middle Africa",
         89561403,
         2344858
        ],
        [
         "Turkey",
         "Asia",
         "Western Asia",
         84339067,
         783562
        ],
        [
         "Iran",
         "Asia",
         "Southern Asia",
         83992949,
         1648195
        ],
        [
         "Germany",
         "Europe",
         "Western Europe",
         83783942,
         357022
        ],
        [
         "Thailand",
         "Asia",
         "South-Eastern Asia",
         69799978,
         513120
        ],
        [
         "United Kingdom",
         "Europe",
         "Northern Europe",
         67886011,
         243610
        ],
        [
         "France",
         "Europe",
         "Western Europe",
         65273511,
         551695
        ],
        [
         "Italy",
         "Europe",
         "Southern Europe",
         60461826,
         301340
        ],
        [
         "Tanzania",
         "Africa",
         "Eastern Africa",
         59734218,
         945087
        ],
        [
         "South Africa",
         "Africa",
         "Southern Africa",
         59308690,
         1221037
        ],
        [
         "Myanmar",
         "Asia",
         "South-Eastern Asia",
         54409800,
         676578
        ],
        [
         "Kenya",
         "Africa",
         "Eastern Africa",
         53771296,
         580367
        ],
        [
         "South Korea",
         "Asia",
         "Eastern Asia",
         51269185,
         100210
        ],
        [
         "Colombia",
         "South America",
         "South America",
         50882891,
         1141748
        ],
        [
         "Spain",
         "Europe",
         "Southern Europe",
         46754778,
         505992
        ],
        [
         "Uganda",
         "Africa",
         "Eastern Africa",
         45741007,
         241550
        ],
        [
         "Argentina",
         "South America",
         "South America",
         45376763,
         2780400
        ],
        [
         "Algeria",
         "Africa",
         "Northern Africa",
         43851044,
         2381741
        ],
        [
         "Sudan",
         "Africa",
         "Northern Africa",
         43849260,
         1861484
        ],
        [
         "Ukraine",
         "Europe",
         "Eastern Europe",
         43733762,
         603628
        ],
        [
         "Iraq",
         "Asia",
         "Western Asia",
         40222493,
         438317
        ],
        [
         "Afghanistan",
         "Asia",
         "Southern Asia",
         38928346,
         652230
        ],
        [
         "Poland",
         "Europe",
         "Eastern Europe",
         37846611,
         312696
        ],
        [
         "Canada",
         "North America",
         "Northern America",
         37742154,
         9984670
        ],
        [
         "Morocco",
         "Africa",
         "Northern Africa",
         36910560,
         446550
        ],
        [
         "Saudi Arabia",
         "Asia",
         "Western Asia",
         34813871,
         2149690
        ],
        [
         "Uzbekistan",
         "Asia",
         "Central Asia",
         33469203,
         447400
        ],
        [
         "Peru",
         "South America",
         "South America",
         32971854,
         1285216
        ],
        [
         "Angola",
         "Africa",
         "Middle Africa",
         32866272,
         1246700
        ],
        [
         "Malaysia",
         "Asia",
         "South-Eastern Asia",
         32365999,
         330803
        ],
        [
         "Mozambique",
         "Africa",
         "Eastern Africa",
         31255435,
         801590
        ],
        [
         "Ghana",
         "Africa",
         "Western Africa",
         31072940,
         238533
        ],
        [
         "Yemen",
         "Asia",
         "Western Asia",
         29825964,
         527968
        ],
        [
         "Nepal",
         "Asia",
         "Southern Asia",
         29136808,
         147181
        ],
        [
         "Venezuela",
         "South America",
         "South America",
         28435940,
         916445
        ],
        [
         "Madagascar",
         "Africa",
         "Eastern Africa",
         27691018,
         587041
        ],
        [
         "Cameroon",
         "Africa",
         "Middle Africa",
         26545863,
         475442
        ],
        [
         "Côte d'Ivoire",
         "Africa",
         "Western Africa",
         26378274,
         322463
        ],
        [
         "North Korea",
         "Asia",
         "Eastern Asia",
         25778816,
         120538
        ],
        [
         "Australia",
         "Oceania",
         "Australia and New Zealand",
         25649984,
         7692024
        ],
        [
         "Niger",
         "Africa",
         "Western Africa",
         24206644,
         1267000
        ],
        [
         "Sri Lanka",
         "Asia",
         "Southern Asia",
         21413249,
         65610
        ],
        [
         "Burkina Faso",
         "Africa",
         "Western Africa",
         20903273,
         274200
        ],
        [
         "Mali",
         "Africa",
         "Western Africa",
         20250833,
         1240192
        ],
        [
         "Romania",
         "Europe",
         "Eastern Europe",
         19237691,
         238391
        ],
        [
         "Malawi",
         "Africa",
         "Eastern Africa",
         19129952,
         118484
        ],
        [
         "Chile",
         "South America",
         "South America",
         19116201,
         756102
        ],
        [
         "Kazakhstan",
         "Asia",
         "Central Asia",
         18776707,
         2724900
        ],
        [
         "Zambia",
         "Africa",
         "Eastern Africa",
         18383955,
         752612
        ],
        [
         "Guatemala",
         "North America",
         "Central America",
         17915568,
         108889
        ],
        [
         "Ecuador",
         "South America",
         "South America",
         17643054,
         283561
        ],
        [
         "Syria",
         "Asia",
         "Western Asia",
         17500657,
         185180
        ],
        [
         "Netherlands",
         "Europe",
         "Western Europe",
         17134872,
         41543
        ],
        [
         "Senegal",
         "Africa",
         "Western Africa",
         16743927,
         196722
        ],
        [
         "Cambodia",
         "Asia",
         "South-Eastern Asia",
         16718965,
         181035
        ],
        [
         "Chad",
         "Africa",
         "Middle Africa",
         16425864,
         1284000
        ],
        [
         "Somalia",
         "Africa",
         "Eastern Africa",
         15893222,
         637657
        ],
        [
         "Zimbabwe",
         "Africa",
         "Eastern Africa",
         14862924,
         390757
        ],
        [
         "Guinea",
         "Africa",
         "Western Africa",
         13132795,
         245857
        ],
        [
         "Rwanda",
         "Africa",
         "Eastern Africa",
         12952218,
         26338
        ],
        [
         "Benin",
         "Africa",
         "Western Africa",
         12123200,
         114763
        ],
        [
         "Burundi",
         "Africa",
         "Eastern Africa",
         11890784,
         27834
        ],
        [
         "Tunisia",
         "Africa",
         "Northern Africa",
         11818619,
         163610
        ],
        [
         "Bolivia",
         "South America",
         "South America",
         11673021,
         1098581
        ],
        [
         "Belgium",
         "Europe",
         "Western Europe",
         11589623,
         30528
        ],
        [
         "Haiti",
         "North America",
         "Caribbean",
         11402528,
         27750
        ],
        [
         "Cuba",
         "North America",
         "Caribbean",
         11326616,
         109884
        ],
        [
         "South Sudan",
         "Africa",
         "Eastern Africa",
         11193725,
         644329
        ],
        [
         "Dominican Republic",
         "North America",
         "Caribbean",
         10847910,
         48671
        ],
        [
         "Czech Republic",
         "Europe",
         "Eastern Europe",
         10708981,
         78866
        ],
        [
         "Greece",
         "Europe",
         "Southern Europe",
         10423054,
         131957
        ],
        [
         "Jordan",
         "Asia",
         "Western Asia",
         10203134,
         89342
        ],
        [
         "Portugal",
         "Europe",
         "Southern Europe",
         10196709,
         92090
        ],
        [
         "Azerbaijan",
         "Asia",
         "Western Asia",
         10139177,
         86600
        ],
        [
         "Sweden",
         "Europe",
         "Northern Europe",
         10099265,
         450295
        ],
        [
         "Honduras",
         "North America",
         "Central America",
         9904607,
         112492
        ],
        [
         "United Arab Emirates",
         "Asia",
         "Western Asia",
         9890400,
         83600
        ],
        [
         "Hungary",
         "Europe",
         "Eastern Europe",
         9660351,
         93030
        ],
        [
         "Tajikistan",
         "Asia",
         "Central Asia",
         9537645,
         143100
        ],
        [
         "Belarus",
         "Europe",
         "Eastern Europe",
         9449323,
         207600
        ],
        [
         "Israel",
         "Asia",
         "Western Asia",
         9053300,
         20770
        ],
        [
         "Austria",
         "Europe",
         "Western Europe",
         9006398,
         83879
        ],
        [
         "Papua New Guinea",
         "Oceania",
         "Melanesia",
         8947024,
         462840
        ],
        [
         "Switzerland",
         "Europe",
         "Western Europe",
         8654622,
         41285
        ],
        [
         "Togo",
         "Africa",
         "Western Africa",
         8278724,
         56785
        ],
        [
         "Sierra Leone",
         "Africa",
         "Western Africa",
         7976983,
         71740
        ],
        [
         "Laos",
         "Asia",
         "South-Eastern Asia",
         7275560,
         236800
        ],
        [
         "Paraguay",
         "South America",
         "South America",
         7132538,
         406752
        ],
        [
         "Bulgaria",
         "Europe",
         "Eastern Europe",
         6948445,
         110994
        ],
        [
         "Serbia",
         "Europe",
         "Southern Europe",
         6944975,
         88361
        ],
        [
         "Libya",
         "Africa",
         "Northern Africa",
         6871292,
         1759540
        ],
        [
         "Lebanon",
         "Asia",
         "Western Asia",
         6825445,
         10452
        ],
        [
         "Nicaragua",
         "North America",
         "Central America",
         6624554,
         130373
        ],
        [
         "Kyrgyzstan",
         "Asia",
         "Central Asia",
         6524195,
         199951
        ],
        [
         "El Salvador",
         "North America",
         "Central America",
         6486205,
         21041
        ],
        [
         "Turkmenistan",
         "Asia",
         "Central Asia",
         6031200,
         488100
        ],
        [
         "Singapore",
         "Asia",
         "South-Eastern Asia",
         5850342,
         719
        ],
        [
         "Denmark",
         "Europe",
         "Northern Europe",
         5792202,
         42933
        ],
        [
         "Finland",
         "Europe",
         "Northern Europe",
         5540720,
         338424
        ],
        [
         "Congo, Republic of the",
         "Africa",
         "Middle Africa",
         5518087,
         342000
        ],
        [
         "Slovakia",
         "Europe",
         "Eastern Europe",
         5459642,
         49037
        ],
        [
         "Norway",
         "Europe",
         "Northern Europe",
         5421241,
         385207
        ],
        [
         "Oman",
         "Asia",
         "Western Asia",
         5106626,
         309500
        ],
        [
         "Palestine, State of",
         "Asia",
         "Western Asia",
         5101414,
         6020
        ],
        [
         "Costa Rica",
         "North America",
         "Central America",
         5094118,
         51100
        ],
        [
         "New Zealand",
         "Oceania",
         "Australia and New Zealand",
         5084300,
         268838
        ],
        [
         "Liberia",
         "Africa",
         "Western Africa",
         5073296,
         111369
        ],
        [
         "Ireland",
         "Europe",
         "Northern Europe",
         4937786,
         70273
        ],
        [
         "Central African Republic",
         "Africa",
         "Middle Africa",
         4829767,
         622984
        ],
        [
         "Mauritania",
         "Africa",
         "Western Africa",
         4649658,
         1030700
        ],
        [
         "Panama",
         "North America",
         "Central America",
         4314767,
         75417
        ],
        [
         "Kuwait",
         "Asia",
         "Western Asia",
         4270571,
         17818
        ],
        [
         "Croatia",
         "Europe",
         "Southern Europe",
         4105267,
         56594
        ],
        [
         "Georgia",
         "Asia",
         "Western Asia",
         3989167,
         69700
        ],
        [
         "Eritrea",
         "Africa",
         "Eastern Africa",
         3546421,
         117600
        ],
        [
         "Uruguay",
         "South America",
         "South America",
         3473730,
         176215
        ],
        [
         "Bosnia and Herzegovina",
         "Europe",
         "Southern Europe",
         3280819,
         51129
        ],
        [
         "Mongolia",
         "Asia",
         "Eastern Asia",
         3278290,
         1564110
        ],
        [
         "Armenia",
         "Asia",
         "Western Asia",
         2963243,
         29743
        ],
        [
         "Jamaica",
         "North America",
         "Caribbean",
         2961167,
         10991
        ],
        [
         "Qatar",
         "Asia",
         "Western Asia",
         2881053,
         11586
        ],
        [
         "Albania",
         "Europe",
         "Southern Europe",
         2877797,
         28748
        ],
        [
         "Lithuania",
         "Europe",
         "Northern Europe",
         2722289,
         65300
        ],
        [
         "Moldova",
         "Europe",
         "Eastern Europe",
         2640438,
         33851
        ],
        [
         "Namibia",
         "Africa",
         "Southern Africa",
         2540905,
         824292
        ],
        [
         "Gambia",
         "Africa",
         "Western Africa",
         2416668,
         11295
        ],
        [
         "Botswana",
         "Africa",
         "Southern Africa",
         2351627,
         581730
        ],
        [
         "Gabon",
         "Africa",
         "Middle Africa",
         2225728,
         267668
        ],
        [
         "Lesotho",
         "Africa",
         "Southern Africa",
         2142249,
         30355
        ],
        [
         "North Macedonia",
         "Europe",
         "Southern Europe",
         2083374,
         25713
        ],
        [
         "Slovenia",
         "Europe",
         "Southern Europe",
         2078938,
         20273
        ],
        [
         "Guinea-Bissau",
         "Africa",
         "Western Africa",
         1968001,
         36125
        ],
        [
         "Latvia",
         "Europe",
         "Northern Europe",
         1886198,
         64559
        ],
        [
         "Bahrain",
         "Asia",
         "Western Asia",
         1701575,
         765
        ],
        [
         "Equatorial Guinea",
         "Africa",
         "Middle Africa",
         1402985,
         28051
        ],
        [
         "Trinidad and Tobago",
         "North America",
         "Caribbean",
         1399488,
         5130
        ],
        [
         "Estonia",
         "Europe",
         "Northern Europe",
         1331796,
         45227
        ],
        [
         "Timor-Leste",
         "Asia",
         "South-Eastern Asia",
         1318445,
         14874
        ],
        [
         "Mauritius",
         "Africa",
         "Eastern Africa",
         1271768,
         2040
        ],
        [
         "Cyprus",
         "Europe",
         "Western Asia",
         1207359,
         9251
        ],
        [
         "Eswatini",
         "Africa",
         "Southern Africa",
         1160164,
         17364
        ],
        [
         "Djibouti",
         "Africa",
         "Eastern Africa",
         988000,
         23200
        ],
        [
         "Fiji",
         "Oceania",
         "Melanesia",
         896444,
         18274
        ],
        [
         "Comoros",
         "Africa",
         "Eastern Africa",
         869601,
         1862
        ],
        [
         "Guyana",
         "South America",
         "South America",
         786552,
         214969
        ],
        [
         "Bhutan",
         "Asia",
         "Southern Asia",
         771608,
         38394
        ],
        [
         "Solomon Islands",
         "Oceania",
         "Melanesia",
         686884,
         28896
        ],
        [
         "Luxembourg",
         "Europe",
         "Western Europe",
         634814,
         2586
        ],
        [
         "Montenegro",
         "Europe",
         "Southern Europe",
         622359,
         13812
        ],
        [
         "Suriname",
         "South America",
         "South America",
         586634,
         163820
        ],
        [
         "Cabo Verde",
         "Africa",
         "Western Africa",
         555987,
         4033
        ],
        [
         "Maldives",
         "Asia",
         "Southern Asia",
         540544,
         300
        ],
        [
         "Malta",
         "Europe",
         "Southern Europe",
         441543,
         316
        ],
        [
         "Brunei",
         "Asia",
         "South-Eastern Asia",
         437479,
         5765
        ],
        [
         "Belize",
         "North America",
         "Central America",
         397621,
         22966
        ],
        [
         "Bahamas",
         "North America",
         "Caribbean",
         393244,
         13943
        ],
        [
         "Iceland",
         "Europe",
         "Northern Europe",
         341243,
         103000
        ],
        [
         "Vanuatu",
         "Oceania",
         "Melanesia",
         307145,
         12189
        ],
        [
         "Barbados",
         "North America",
         "Caribbean",
         287375,
         430
        ],
        [
         "Sao Tome and Principe",
         "Africa",
         "Middle Africa",
         219159,
         964
        ],
        [
         "Samoa",
         "Oceania",
         "Polynesia",
         198414,
         2842
        ],
        [
         "Saint Lucia",
         "North America",
         "Caribbean",
         183627,
         616
        ],
        [
         "Kiribati",
         "Oceania",
         "Micronesia",
         119449,
         811
        ],
        [
         "Micronesia",
         "Oceania",
         "Micronesia",
         115023,
         702
        ],
        [
         "Grenada",
         "North America",
         "Caribbean",
         112523,
         344
        ],
        [
         "Saint Vincent and the Grenadines",
         "North America",
         "Caribbean",
         110940,
         389
        ],
        [
         "Tonga",
         "Oceania",
         "Polynesia",
         105695,
         747
        ],
        [
         "Seychelles",
         "Africa",
         "Eastern Africa",
         98347,
         455
        ],
        [
         "Antigua and Barbuda",
         "North America",
         "Caribbean",
         97929,
         442
        ],
        [
         "Andorra",
         "Europe",
         "Southern Europe",
         77265,
         468
        ],
        [
         "Dominica",
         "North America",
         "Caribbean",
         71986,
         751
        ],
        [
         "Marshall Islands",
         "Oceania",
         "Micronesia",
         59190,
         181
        ],
        [
         "Saint Kitts and Nevis",
         "North America",
         "Caribbean",
         53192,
         261
        ],
        [
         "Monaco",
         "Europe",
         "Western Europe",
         39242,
         2
        ],
        [
         "Liechtenstein",
         "Europe",
         "Western Europe",
         38128,
         160
        ],
        [
         "San Marino",
         "Europe",
         "Southern Europe",
         33938,
         61
        ],
        [
         "Palau",
         "Oceania",
         "Micronesia",
         18094,
         459
        ],
        [
         "Tuvalu",
         "Oceania",
         "Polynesia",
         11792,
         26
        ],
        [
         "Nauru",
         "Oceania",
         "Micronesia",
         10824,
         21
        ],
        [
         "Holy See",
         "Europe",
         "Southern Europe",
         801,
         0
        ]
       ],
       "datasetInfos": [],
       "dbfsResultPath": null,
       "isJsonSchema": true,
       "metadata": {},
       "overflow": false,
       "plotOptions": {
        "customPlotOptions": {},
        "displayType": "table",
        "pivotAggregation": null,
        "pivotColumns": null,
        "xColumns": null,
        "yColumns": null
       },
       "removedWidgets": [],
       "schema": [
        {
         "metadata": "{}",
         "name": "country_name",
         "type": "\"string\""
        },
        {
         "metadata": "{}",
         "name": "continent",
         "type": "\"string\""
        },
        {
         "metadata": "{}",
         "name": "sub_region",
         "type": "\"string\""
        },
        {
         "metadata": "{}",
         "name": "population",
         "type": "\"long\""
        },
        {
         "metadata": "{}",
         "name": "area_km2",
         "type": "\"integer\""
        }
       ],
       "type": "table"
      }
     },
     "output_type": "display_data"
    }
   ],
   "source": [
    "# Sorting by population in descending order\n",
    "df.sort(\"population\", ascending=False).display()"
   ]
  },
  {
   "cell_type": "code",
   "execution_count": 0,
   "metadata": {
    "application/vnd.databricks.v1+cell": {
     "cellMetadata": {
      "byteLimit": 2048000,
      "rowLimit": 10000
     },
     "inputWidgets": {},
     "nuid": "6fefb3dc-b699-43b0-8c39-7e07da60c91f",
     "showTitle": false,
     "tableResultSettingsMap": {},
     "title": ""
    }
   },
   "outputs": [
    {
     "output_type": "display_data",
     "data": {
      "text/html": [
       "<style scoped>\n",
       "  .table-result-container {\n",
       "    max-height: 300px;\n",
       "    overflow: auto;\n",
       "  }\n",
       "  table, th, td {\n",
       "    border: 1px solid black;\n",
       "    border-collapse: collapse;\n",
       "  }\n",
       "  th, td {\n",
       "    padding: 5px;\n",
       "  }\n",
       "  th {\n",
       "    text-align: left;\n",
       "  }\n",
       "</style><div class='table-result-container'><table class='table-result'><thead style='background-color: white'><tr><th>country_name</th><th>continent</th><th>sub_region</th><th>population</th><th>area_km2</th></tr></thead><tbody><tr><td>China</td><td>Asia</td><td>Eastern Asia</td><td>1439323776</td><td>9596961</td></tr><tr><td>India</td><td>Asia</td><td>Southern Asia</td><td>1380004385</td><td>3287263</td></tr><tr><td>United States</td><td>North America</td><td>Northern America</td><td>331002651</td><td>9833520</td></tr><tr><td>Indonesia</td><td>Asia</td><td>South-Eastern Asia</td><td>273523615</td><td>1904569</td></tr><tr><td>Pakistan</td><td>Asia</td><td>Southern Asia</td><td>220892340</td><td>881913</td></tr><tr><td>Brazil</td><td>South America</td><td>South America</td><td>212559417</td><td>8515767</td></tr><tr><td>Nigeria</td><td>Africa</td><td>Western Africa</td><td>206139589</td><td>923768</td></tr><tr><td>Bangladesh</td><td>Asia</td><td>Southern Asia</td><td>164689383</td><td>147570</td></tr><tr><td>Russia</td><td>Europe</td><td>Eastern Europe</td><td>144478050</td><td>17098242</td></tr><tr><td>Mexico</td><td>North America</td><td>Central America</td><td>128932753</td><td>1964375</td></tr></tbody></table></div>"
      ]
     },
     "metadata": {
      "application/vnd.databricks.v1+output": {
       "addedWidgets": {},
       "aggData": [],
       "aggError": "",
       "aggOverflow": false,
       "aggSchema": [],
       "aggSeriesLimitReached": false,
       "aggType": "",
       "arguments": {},
       "columnCustomDisplayInfos": {},
       "data": [
        [
         "China",
         "Asia",
         "Eastern Asia",
         1439323776,
         9596961
        ],
        [
         "India",
         "Asia",
         "Southern Asia",
         1380004385,
         3287263
        ],
        [
         "United States",
         "North America",
         "Northern America",
         331002651,
         9833520
        ],
        [
         "Indonesia",
         "Asia",
         "South-Eastern Asia",
         273523615,
         1904569
        ],
        [
         "Pakistan",
         "Asia",
         "Southern Asia",
         220892340,
         881913
        ],
        [
         "Brazil",
         "South America",
         "South America",
         212559417,
         8515767
        ],
        [
         "Nigeria",
         "Africa",
         "Western Africa",
         206139589,
         923768
        ],
        [
         "Bangladesh",
         "Asia",
         "Southern Asia",
         164689383,
         147570
        ],
        [
         "Russia",
         "Europe",
         "Eastern Europe",
         144478050,
         17098242
        ],
        [
         "Mexico",
         "North America",
         "Central America",
         128932753,
         1964375
        ]
       ],
       "datasetInfos": [],
       "dbfsResultPath": null,
       "isJsonSchema": true,
       "metadata": {},
       "overflow": false,
       "plotOptions": {
        "customPlotOptions": {},
        "displayType": "table",
        "pivotAggregation": null,
        "pivotColumns": null,
        "xColumns": null,
        "yColumns": null
       },
       "removedWidgets": [],
       "schema": [
        {
         "metadata": "{}",
         "name": "country_name",
         "type": "\"string\""
        },
        {
         "metadata": "{}",
         "name": "continent",
         "type": "\"string\""
        },
        {
         "metadata": "{}",
         "name": "sub_region",
         "type": "\"string\""
        },
        {
         "metadata": "{}",
         "name": "population",
         "type": "\"long\""
        },
        {
         "metadata": "{}",
         "name": "area_km2",
         "type": "\"integer\""
        }
       ],
       "type": "table"
      }
     },
     "output_type": "display_data"
    }
   ],
   "source": [
    "# Sorting by population in descending order and limiting to top 10 records\n",
    "df.sort(\"population\", ascending=False).limit(10).display()"
   ]
  },
  {
   "cell_type": "code",
   "execution_count": 0,
   "metadata": {
    "application/vnd.databricks.v1+cell": {
     "cellMetadata": {
      "byteLimit": 2048000,
      "rowLimit": 10000
     },
     "inputWidgets": {},
     "nuid": "881dfeb5-c52d-49d5-b028-2e9a237318a0",
     "showTitle": false,
     "tableResultSettingsMap": {},
     "title": ""
    }
   },
   "outputs": [
    {
     "output_type": "display_data",
     "data": {
      "text/html": [
       "<style scoped>\n",
       "  .table-result-container {\n",
       "    max-height: 300px;\n",
       "    overflow: auto;\n",
       "  }\n",
       "  table, th, td {\n",
       "    border: 1px solid black;\n",
       "    border-collapse: collapse;\n",
       "  }\n",
       "  th, td {\n",
       "    padding: 5px;\n",
       "  }\n",
       "  th {\n",
       "    text-align: left;\n",
       "  }\n",
       "</style><div class='table-result-container'><table class='table-result'><thead style='background-color: white'><tr><th>country_name</th><th>continent</th><th>sub_region</th><th>population</th><th>area_km2</th></tr></thead><tbody><tr><td>Brazil</td><td>South America</td><td>South America</td><td>212559417</td><td>8515767</td></tr><tr><td>Colombia</td><td>South America</td><td>South America</td><td>50882891</td><td>1141748</td></tr><tr><td>Argentina</td><td>South America</td><td>South America</td><td>45376763</td><td>2780400</td></tr><tr><td>Peru</td><td>South America</td><td>South America</td><td>32971854</td><td>1285216</td></tr><tr><td>Venezuela</td><td>South America</td><td>South America</td><td>28435940</td><td>916445</td></tr><tr><td>Chile</td><td>South America</td><td>South America</td><td>19116201</td><td>756102</td></tr><tr><td>Ecuador</td><td>South America</td><td>South America</td><td>17643054</td><td>283561</td></tr><tr><td>Bolivia</td><td>South America</td><td>South America</td><td>11673021</td><td>1098581</td></tr><tr><td>Paraguay</td><td>South America</td><td>South America</td><td>7132538</td><td>406752</td></tr><tr><td>Uruguay</td><td>South America</td><td>South America</td><td>3473730</td><td>176215</td></tr><tr><td>Guyana</td><td>South America</td><td>South America</td><td>786552</td><td>214969</td></tr><tr><td>Suriname</td><td>South America</td><td>South America</td><td>586634</td><td>163820</td></tr><tr><td>Australia</td><td>Oceania</td><td>Australia and New Zealand</td><td>25649984</td><td>7692024</td></tr><tr><td>Papua New Guinea</td><td>Oceania</td><td>Melanesia</td><td>8947024</td><td>462840</td></tr><tr><td>New Zealand</td><td>Oceania</td><td>Australia and New Zealand</td><td>5084300</td><td>268838</td></tr><tr><td>Fiji</td><td>Oceania</td><td>Melanesia</td><td>896444</td><td>18274</td></tr><tr><td>Solomon Islands</td><td>Oceania</td><td>Melanesia</td><td>686884</td><td>28896</td></tr><tr><td>Vanuatu</td><td>Oceania</td><td>Melanesia</td><td>307145</td><td>12189</td></tr><tr><td>Samoa</td><td>Oceania</td><td>Polynesia</td><td>198414</td><td>2842</td></tr><tr><td>Kiribati</td><td>Oceania</td><td>Micronesia</td><td>119449</td><td>811</td></tr><tr><td>Micronesia</td><td>Oceania</td><td>Micronesia</td><td>115023</td><td>702</td></tr><tr><td>Tonga</td><td>Oceania</td><td>Polynesia</td><td>105695</td><td>747</td></tr><tr><td>Marshall Islands</td><td>Oceania</td><td>Micronesia</td><td>59190</td><td>181</td></tr><tr><td>Palau</td><td>Oceania</td><td>Micronesia</td><td>18094</td><td>459</td></tr><tr><td>Tuvalu</td><td>Oceania</td><td>Polynesia</td><td>11792</td><td>26</td></tr><tr><td>Nauru</td><td>Oceania</td><td>Micronesia</td><td>10824</td><td>21</td></tr><tr><td>United States</td><td>North America</td><td>Northern America</td><td>331002651</td><td>9833520</td></tr><tr><td>Mexico</td><td>North America</td><td>Central America</td><td>128932753</td><td>1964375</td></tr><tr><td>Canada</td><td>North America</td><td>Northern America</td><td>37742154</td><td>9984670</td></tr><tr><td>Guatemala</td><td>North America</td><td>Central America</td><td>17915568</td><td>108889</td></tr><tr><td>Haiti</td><td>North America</td><td>Caribbean</td><td>11402528</td><td>27750</td></tr><tr><td>Cuba</td><td>North America</td><td>Caribbean</td><td>11326616</td><td>109884</td></tr><tr><td>Dominican Republic</td><td>North America</td><td>Caribbean</td><td>10847910</td><td>48671</td></tr><tr><td>Honduras</td><td>North America</td><td>Central America</td><td>9904607</td><td>112492</td></tr><tr><td>Nicaragua</td><td>North America</td><td>Central America</td><td>6624554</td><td>130373</td></tr><tr><td>El Salvador</td><td>North America</td><td>Central America</td><td>6486205</td><td>21041</td></tr><tr><td>Costa Rica</td><td>North America</td><td>Central America</td><td>5094118</td><td>51100</td></tr><tr><td>Panama</td><td>North America</td><td>Central America</td><td>4314767</td><td>75417</td></tr><tr><td>Jamaica</td><td>North America</td><td>Caribbean</td><td>2961167</td><td>10991</td></tr><tr><td>Trinidad and Tobago</td><td>North America</td><td>Caribbean</td><td>1399488</td><td>5130</td></tr><tr><td>Belize</td><td>North America</td><td>Central America</td><td>397621</td><td>22966</td></tr><tr><td>Bahamas</td><td>North America</td><td>Caribbean</td><td>393244</td><td>13943</td></tr><tr><td>Barbados</td><td>North America</td><td>Caribbean</td><td>287375</td><td>430</td></tr><tr><td>Saint Lucia</td><td>North America</td><td>Caribbean</td><td>183627</td><td>616</td></tr><tr><td>Grenada</td><td>North America</td><td>Caribbean</td><td>112523</td><td>344</td></tr><tr><td>Saint Vincent and the Grenadines</td><td>North America</td><td>Caribbean</td><td>110940</td><td>389</td></tr><tr><td>Antigua and Barbuda</td><td>North America</td><td>Caribbean</td><td>97929</td><td>442</td></tr><tr><td>Dominica</td><td>North America</td><td>Caribbean</td><td>71986</td><td>751</td></tr><tr><td>Saint Kitts and Nevis</td><td>North America</td><td>Caribbean</td><td>53192</td><td>261</td></tr><tr><td>Russia</td><td>Europe</td><td>Eastern Europe</td><td>144478050</td><td>17098242</td></tr><tr><td>Germany</td><td>Europe</td><td>Western Europe</td><td>83783942</td><td>357022</td></tr><tr><td>United Kingdom</td><td>Europe</td><td>Northern Europe</td><td>67886011</td><td>243610</td></tr><tr><td>France</td><td>Europe</td><td>Western Europe</td><td>65273511</td><td>551695</td></tr><tr><td>Italy</td><td>Europe</td><td>Southern Europe</td><td>60461826</td><td>301340</td></tr><tr><td>Spain</td><td>Europe</td><td>Southern Europe</td><td>46754778</td><td>505992</td></tr><tr><td>Ukraine</td><td>Europe</td><td>Eastern Europe</td><td>43733762</td><td>603628</td></tr><tr><td>Poland</td><td>Europe</td><td>Eastern Europe</td><td>37846611</td><td>312696</td></tr><tr><td>Romania</td><td>Europe</td><td>Eastern Europe</td><td>19237691</td><td>238391</td></tr><tr><td>Netherlands</td><td>Europe</td><td>Western Europe</td><td>17134872</td><td>41543</td></tr><tr><td>Belgium</td><td>Europe</td><td>Western Europe</td><td>11589623</td><td>30528</td></tr><tr><td>Czech Republic</td><td>Europe</td><td>Eastern Europe</td><td>10708981</td><td>78866</td></tr><tr><td>Greece</td><td>Europe</td><td>Southern Europe</td><td>10423054</td><td>131957</td></tr><tr><td>Portugal</td><td>Europe</td><td>Southern Europe</td><td>10196709</td><td>92090</td></tr><tr><td>Sweden</td><td>Europe</td><td>Northern Europe</td><td>10099265</td><td>450295</td></tr><tr><td>Hungary</td><td>Europe</td><td>Eastern Europe</td><td>9660351</td><td>93030</td></tr><tr><td>Belarus</td><td>Europe</td><td>Eastern Europe</td><td>9449323</td><td>207600</td></tr><tr><td>Austria</td><td>Europe</td><td>Western Europe</td><td>9006398</td><td>83879</td></tr><tr><td>Switzerland</td><td>Europe</td><td>Western Europe</td><td>8654622</td><td>41285</td></tr><tr><td>Bulgaria</td><td>Europe</td><td>Eastern Europe</td><td>6948445</td><td>110994</td></tr><tr><td>Serbia</td><td>Europe</td><td>Southern Europe</td><td>6944975</td><td>88361</td></tr><tr><td>Denmark</td><td>Europe</td><td>Northern Europe</td><td>5792202</td><td>42933</td></tr><tr><td>Finland</td><td>Europe</td><td>Northern Europe</td><td>5540720</td><td>338424</td></tr><tr><td>Slovakia</td><td>Europe</td><td>Eastern Europe</td><td>5459642</td><td>49037</td></tr><tr><td>Norway</td><td>Europe</td><td>Northern Europe</td><td>5421241</td><td>385207</td></tr><tr><td>Ireland</td><td>Europe</td><td>Northern Europe</td><td>4937786</td><td>70273</td></tr><tr><td>Croatia</td><td>Europe</td><td>Southern Europe</td><td>4105267</td><td>56594</td></tr><tr><td>Bosnia and Herzegovina</td><td>Europe</td><td>Southern Europe</td><td>3280819</td><td>51129</td></tr><tr><td>Albania</td><td>Europe</td><td>Southern Europe</td><td>2877797</td><td>28748</td></tr><tr><td>Lithuania</td><td>Europe</td><td>Northern Europe</td><td>2722289</td><td>65300</td></tr><tr><td>Moldova</td><td>Europe</td><td>Eastern Europe</td><td>2640438</td><td>33851</td></tr><tr><td>North Macedonia</td><td>Europe</td><td>Southern Europe</td><td>2083374</td><td>25713</td></tr><tr><td>Slovenia</td><td>Europe</td><td>Southern Europe</td><td>2078938</td><td>20273</td></tr><tr><td>Latvia</td><td>Europe</td><td>Northern Europe</td><td>1886198</td><td>64559</td></tr><tr><td>Estonia</td><td>Europe</td><td>Northern Europe</td><td>1331796</td><td>45227</td></tr><tr><td>Cyprus</td><td>Europe</td><td>Western Asia</td><td>1207359</td><td>9251</td></tr><tr><td>Luxembourg</td><td>Europe</td><td>Western Europe</td><td>634814</td><td>2586</td></tr><tr><td>Montenegro</td><td>Europe</td><td>Southern Europe</td><td>622359</td><td>13812</td></tr><tr><td>Malta</td><td>Europe</td><td>Southern Europe</td><td>441543</td><td>316</td></tr><tr><td>Iceland</td><td>Europe</td><td>Northern Europe</td><td>341243</td><td>103000</td></tr><tr><td>Andorra</td><td>Europe</td><td>Southern Europe</td><td>77265</td><td>468</td></tr><tr><td>Monaco</td><td>Europe</td><td>Western Europe</td><td>39242</td><td>2</td></tr><tr><td>Liechtenstein</td><td>Europe</td><td>Western Europe</td><td>38128</td><td>160</td></tr><tr><td>San Marino</td><td>Europe</td><td>Southern Europe</td><td>33938</td><td>61</td></tr><tr><td>Holy See</td><td>Europe</td><td>Southern Europe</td><td>801</td><td>0</td></tr><tr><td>China</td><td>Asia</td><td>Eastern Asia</td><td>1439323776</td><td>9596961</td></tr><tr><td>India</td><td>Asia</td><td>Southern Asia</td><td>1380004385</td><td>3287263</td></tr><tr><td>Indonesia</td><td>Asia</td><td>South-Eastern Asia</td><td>273523615</td><td>1904569</td></tr><tr><td>Pakistan</td><td>Asia</td><td>Southern Asia</td><td>220892340</td><td>881913</td></tr><tr><td>Bangladesh</td><td>Asia</td><td>Southern Asia</td><td>164689383</td><td>147570</td></tr><tr><td>Japan</td><td>Asia</td><td>Eastern Asia</td><td>126476461</td><td>377975</td></tr><tr><td>Philippines</td><td>Asia</td><td>South-Eastern Asia</td><td>109581078</td><td>300000</td></tr><tr><td>Vietnam</td><td>Asia</td><td>South-Eastern Asia</td><td>97338579</td><td>331212</td></tr><tr><td>Turkey</td><td>Asia</td><td>Western Asia</td><td>84339067</td><td>783562</td></tr><tr><td>Iran</td><td>Asia</td><td>Southern Asia</td><td>83992949</td><td>1648195</td></tr><tr><td>Thailand</td><td>Asia</td><td>South-Eastern Asia</td><td>69799978</td><td>513120</td></tr><tr><td>Myanmar</td><td>Asia</td><td>South-Eastern Asia</td><td>54409800</td><td>676578</td></tr><tr><td>South Korea</td><td>Asia</td><td>Eastern Asia</td><td>51269185</td><td>100210</td></tr><tr><td>Iraq</td><td>Asia</td><td>Western Asia</td><td>40222493</td><td>438317</td></tr><tr><td>Afghanistan</td><td>Asia</td><td>Southern Asia</td><td>38928346</td><td>652230</td></tr><tr><td>Saudi Arabia</td><td>Asia</td><td>Western Asia</td><td>34813871</td><td>2149690</td></tr><tr><td>Uzbekistan</td><td>Asia</td><td>Central Asia</td><td>33469203</td><td>447400</td></tr><tr><td>Malaysia</td><td>Asia</td><td>South-Eastern Asia</td><td>32365999</td><td>330803</td></tr><tr><td>Yemen</td><td>Asia</td><td>Western Asia</td><td>29825964</td><td>527968</td></tr><tr><td>Nepal</td><td>Asia</td><td>Southern Asia</td><td>29136808</td><td>147181</td></tr><tr><td>North Korea</td><td>Asia</td><td>Eastern Asia</td><td>25778816</td><td>120538</td></tr><tr><td>Sri Lanka</td><td>Asia</td><td>Southern Asia</td><td>21413249</td><td>65610</td></tr><tr><td>Kazakhstan</td><td>Asia</td><td>Central Asia</td><td>18776707</td><td>2724900</td></tr><tr><td>Syria</td><td>Asia</td><td>Western Asia</td><td>17500657</td><td>185180</td></tr><tr><td>Cambodia</td><td>Asia</td><td>South-Eastern Asia</td><td>16718965</td><td>181035</td></tr><tr><td>Jordan</td><td>Asia</td><td>Western Asia</td><td>10203134</td><td>89342</td></tr><tr><td>Azerbaijan</td><td>Asia</td><td>Western Asia</td><td>10139177</td><td>86600</td></tr><tr><td>United Arab Emirates</td><td>Asia</td><td>Western Asia</td><td>9890400</td><td>83600</td></tr><tr><td>Tajikistan</td><td>Asia</td><td>Central Asia</td><td>9537645</td><td>143100</td></tr><tr><td>Israel</td><td>Asia</td><td>Western Asia</td><td>9053300</td><td>20770</td></tr><tr><td>Laos</td><td>Asia</td><td>South-Eastern Asia</td><td>7275560</td><td>236800</td></tr><tr><td>Lebanon</td><td>Asia</td><td>Western Asia</td><td>6825445</td><td>10452</td></tr><tr><td>Kyrgyzstan</td><td>Asia</td><td>Central Asia</td><td>6524195</td><td>199951</td></tr><tr><td>Turkmenistan</td><td>Asia</td><td>Central Asia</td><td>6031200</td><td>488100</td></tr><tr><td>Singapore</td><td>Asia</td><td>South-Eastern Asia</td><td>5850342</td><td>719</td></tr><tr><td>Oman</td><td>Asia</td><td>Western Asia</td><td>5106626</td><td>309500</td></tr><tr><td>Palestine, State of</td><td>Asia</td><td>Western Asia</td><td>5101414</td><td>6020</td></tr><tr><td>Kuwait</td><td>Asia</td><td>Western Asia</td><td>4270571</td><td>17818</td></tr><tr><td>Georgia</td><td>Asia</td><td>Western Asia</td><td>3989167</td><td>69700</td></tr><tr><td>Mongolia</td><td>Asia</td><td>Eastern Asia</td><td>3278290</td><td>1564110</td></tr><tr><td>Armenia</td><td>Asia</td><td>Western Asia</td><td>2963243</td><td>29743</td></tr><tr><td>Qatar</td><td>Asia</td><td>Western Asia</td><td>2881053</td><td>11586</td></tr><tr><td>Bahrain</td><td>Asia</td><td>Western Asia</td><td>1701575</td><td>765</td></tr><tr><td>Timor-Leste</td><td>Asia</td><td>South-Eastern Asia</td><td>1318445</td><td>14874</td></tr><tr><td>Bhutan</td><td>Asia</td><td>Southern Asia</td><td>771608</td><td>38394</td></tr><tr><td>Maldives</td><td>Asia</td><td>Southern Asia</td><td>540544</td><td>300</td></tr><tr><td>Brunei</td><td>Asia</td><td>South-Eastern Asia</td><td>437479</td><td>5765</td></tr><tr><td>Nigeria</td><td>Africa</td><td>Western Africa</td><td>206139589</td><td>923768</td></tr><tr><td>Ethiopia</td><td>Africa</td><td>Eastern Africa</td><td>114963588</td><td>1104300</td></tr><tr><td>Egypt</td><td>Africa</td><td>Northern Africa</td><td>102334404</td><td>1002450</td></tr><tr><td>Congo, Democratic Republic of the</td><td>Africa</td><td>Middle Africa</td><td>89561403</td><td>2344858</td></tr><tr><td>Tanzania</td><td>Africa</td><td>Eastern Africa</td><td>59734218</td><td>945087</td></tr><tr><td>South Africa</td><td>Africa</td><td>Southern Africa</td><td>59308690</td><td>1221037</td></tr><tr><td>Kenya</td><td>Africa</td><td>Eastern Africa</td><td>53771296</td><td>580367</td></tr><tr><td>Uganda</td><td>Africa</td><td>Eastern Africa</td><td>45741007</td><td>241550</td></tr><tr><td>Algeria</td><td>Africa</td><td>Northern Africa</td><td>43851044</td><td>2381741</td></tr><tr><td>Sudan</td><td>Africa</td><td>Northern Africa</td><td>43849260</td><td>1861484</td></tr><tr><td>Morocco</td><td>Africa</td><td>Northern Africa</td><td>36910560</td><td>446550</td></tr><tr><td>Angola</td><td>Africa</td><td>Middle Africa</td><td>32866272</td><td>1246700</td></tr><tr><td>Mozambique</td><td>Africa</td><td>Eastern Africa</td><td>31255435</td><td>801590</td></tr><tr><td>Ghana</td><td>Africa</td><td>Western Africa</td><td>31072940</td><td>238533</td></tr><tr><td>Madagascar</td><td>Africa</td><td>Eastern Africa</td><td>27691018</td><td>587041</td></tr><tr><td>Cameroon</td><td>Africa</td><td>Middle Africa</td><td>26545863</td><td>475442</td></tr><tr><td>Côte d'Ivoire</td><td>Africa</td><td>Western Africa</td><td>26378274</td><td>322463</td></tr><tr><td>Niger</td><td>Africa</td><td>Western Africa</td><td>24206644</td><td>1267000</td></tr><tr><td>Burkina Faso</td><td>Africa</td><td>Western Africa</td><td>20903273</td><td>274200</td></tr><tr><td>Mali</td><td>Africa</td><td>Western Africa</td><td>20250833</td><td>1240192</td></tr><tr><td>Malawi</td><td>Africa</td><td>Eastern Africa</td><td>19129952</td><td>118484</td></tr><tr><td>Zambia</td><td>Africa</td><td>Eastern Africa</td><td>18383955</td><td>752612</td></tr><tr><td>Senegal</td><td>Africa</td><td>Western Africa</td><td>16743927</td><td>196722</td></tr><tr><td>Chad</td><td>Africa</td><td>Middle Africa</td><td>16425864</td><td>1284000</td></tr><tr><td>Somalia</td><td>Africa</td><td>Eastern Africa</td><td>15893222</td><td>637657</td></tr><tr><td>Zimbabwe</td><td>Africa</td><td>Eastern Africa</td><td>14862924</td><td>390757</td></tr><tr><td>Guinea</td><td>Africa</td><td>Western Africa</td><td>13132795</td><td>245857</td></tr><tr><td>Rwanda</td><td>Africa</td><td>Eastern Africa</td><td>12952218</td><td>26338</td></tr><tr><td>Benin</td><td>Africa</td><td>Western Africa</td><td>12123200</td><td>114763</td></tr><tr><td>Burundi</td><td>Africa</td><td>Eastern Africa</td><td>11890784</td><td>27834</td></tr><tr><td>Tunisia</td><td>Africa</td><td>Northern Africa</td><td>11818619</td><td>163610</td></tr><tr><td>South Sudan</td><td>Africa</td><td>Eastern Africa</td><td>11193725</td><td>644329</td></tr><tr><td>Togo</td><td>Africa</td><td>Western Africa</td><td>8278724</td><td>56785</td></tr><tr><td>Sierra Leone</td><td>Africa</td><td>Western Africa</td><td>7976983</td><td>71740</td></tr><tr><td>Libya</td><td>Africa</td><td>Northern Africa</td><td>6871292</td><td>1759540</td></tr><tr><td>Congo, Republic of the</td><td>Africa</td><td>Middle Africa</td><td>5518087</td><td>342000</td></tr><tr><td>Liberia</td><td>Africa</td><td>Western Africa</td><td>5073296</td><td>111369</td></tr><tr><td>Central African Republic</td><td>Africa</td><td>Middle Africa</td><td>4829767</td><td>622984</td></tr><tr><td>Mauritania</td><td>Africa</td><td>Western Africa</td><td>4649658</td><td>1030700</td></tr><tr><td>Eritrea</td><td>Africa</td><td>Eastern Africa</td><td>3546421</td><td>117600</td></tr><tr><td>Namibia</td><td>Africa</td><td>Southern Africa</td><td>2540905</td><td>824292</td></tr><tr><td>Gambia</td><td>Africa</td><td>Western Africa</td><td>2416668</td><td>11295</td></tr><tr><td>Botswana</td><td>Africa</td><td>Southern Africa</td><td>2351627</td><td>581730</td></tr><tr><td>Gabon</td><td>Africa</td><td>Middle Africa</td><td>2225728</td><td>267668</td></tr><tr><td>Lesotho</td><td>Africa</td><td>Southern Africa</td><td>2142249</td><td>30355</td></tr><tr><td>Guinea-Bissau</td><td>Africa</td><td>Western Africa</td><td>1968001</td><td>36125</td></tr><tr><td>Equatorial Guinea</td><td>Africa</td><td>Middle Africa</td><td>1402985</td><td>28051</td></tr><tr><td>Mauritius</td><td>Africa</td><td>Eastern Africa</td><td>1271768</td><td>2040</td></tr><tr><td>Eswatini</td><td>Africa</td><td>Southern Africa</td><td>1160164</td><td>17364</td></tr><tr><td>Djibouti</td><td>Africa</td><td>Eastern Africa</td><td>988000</td><td>23200</td></tr><tr><td>Comoros</td><td>Africa</td><td>Eastern Africa</td><td>869601</td><td>1862</td></tr><tr><td>Cabo Verde</td><td>Africa</td><td>Western Africa</td><td>555987</td><td>4033</td></tr><tr><td>Sao Tome and Principe</td><td>Africa</td><td>Middle Africa</td><td>219159</td><td>964</td></tr><tr><td>Seychelles</td><td>Africa</td><td>Eastern Africa</td><td>98347</td><td>455</td></tr></tbody></table></div>"
      ]
     },
     "metadata": {
      "application/vnd.databricks.v1+output": {
       "addedWidgets": {},
       "aggData": [],
       "aggError": "",
       "aggOverflow": false,
       "aggSchema": [],
       "aggSeriesLimitReached": false,
       "aggType": "",
       "arguments": {},
       "columnCustomDisplayInfos": {},
       "data": [
        [
         "Brazil",
         "South America",
         "South America",
         212559417,
         8515767
        ],
        [
         "Colombia",
         "South America",
         "South America",
         50882891,
         1141748
        ],
        [
         "Argentina",
         "South America",
         "South America",
         45376763,
         2780400
        ],
        [
         "Peru",
         "South America",
         "South America",
         32971854,
         1285216
        ],
        [
         "Venezuela",
         "South America",
         "South America",
         28435940,
         916445
        ],
        [
         "Chile",
         "South America",
         "South America",
         19116201,
         756102
        ],
        [
         "Ecuador",
         "South America",
         "South America",
         17643054,
         283561
        ],
        [
         "Bolivia",
         "South America",
         "South America",
         11673021,
         1098581
        ],
        [
         "Paraguay",
         "South America",
         "South America",
         7132538,
         406752
        ],
        [
         "Uruguay",
         "South America",
         "South America",
         3473730,
         176215
        ],
        [
         "Guyana",
         "South America",
         "South America",
         786552,
         214969
        ],
        [
         "Suriname",
         "South America",
         "South America",
         586634,
         163820
        ],
        [
         "Australia",
         "Oceania",
         "Australia and New Zealand",
         25649984,
         7692024
        ],
        [
         "Papua New Guinea",
         "Oceania",
         "Melanesia",
         8947024,
         462840
        ],
        [
         "New Zealand",
         "Oceania",
         "Australia and New Zealand",
         5084300,
         268838
        ],
        [
         "Fiji",
         "Oceania",
         "Melanesia",
         896444,
         18274
        ],
        [
         "Solomon Islands",
         "Oceania",
         "Melanesia",
         686884,
         28896
        ],
        [
         "Vanuatu",
         "Oceania",
         "Melanesia",
         307145,
         12189
        ],
        [
         "Samoa",
         "Oceania",
         "Polynesia",
         198414,
         2842
        ],
        [
         "Kiribati",
         "Oceania",
         "Micronesia",
         119449,
         811
        ],
        [
         "Micronesia",
         "Oceania",
         "Micronesia",
         115023,
         702
        ],
        [
         "Tonga",
         "Oceania",
         "Polynesia",
         105695,
         747
        ],
        [
         "Marshall Islands",
         "Oceania",
         "Micronesia",
         59190,
         181
        ],
        [
         "Palau",
         "Oceania",
         "Micronesia",
         18094,
         459
        ],
        [
         "Tuvalu",
         "Oceania",
         "Polynesia",
         11792,
         26
        ],
        [
         "Nauru",
         "Oceania",
         "Micronesia",
         10824,
         21
        ],
        [
         "United States",
         "North America",
         "Northern America",
         331002651,
         9833520
        ],
        [
         "Mexico",
         "North America",
         "Central America",
         128932753,
         1964375
        ],
        [
         "Canada",
         "North America",
         "Northern America",
         37742154,
         9984670
        ],
        [
         "Guatemala",
         "North America",
         "Central America",
         17915568,
         108889
        ],
        [
         "Haiti",
         "North America",
         "Caribbean",
         11402528,
         27750
        ],
        [
         "Cuba",
         "North America",
         "Caribbean",
         11326616,
         109884
        ],
        [
         "Dominican Republic",
         "North America",
         "Caribbean",
         10847910,
         48671
        ],
        [
         "Honduras",
         "North America",
         "Central America",
         9904607,
         112492
        ],
        [
         "Nicaragua",
         "North America",
         "Central America",
         6624554,
         130373
        ],
        [
         "El Salvador",
         "North America",
         "Central America",
         6486205,
         21041
        ],
        [
         "Costa Rica",
         "North America",
         "Central America",
         5094118,
         51100
        ],
        [
         "Panama",
         "North America",
         "Central America",
         4314767,
         75417
        ],
        [
         "Jamaica",
         "North America",
         "Caribbean",
         2961167,
         10991
        ],
        [
         "Trinidad and Tobago",
         "North America",
         "Caribbean",
         1399488,
         5130
        ],
        [
         "Belize",
         "North America",
         "Central America",
         397621,
         22966
        ],
        [
         "Bahamas",
         "North America",
         "Caribbean",
         393244,
         13943
        ],
        [
         "Barbados",
         "North America",
         "Caribbean",
         287375,
         430
        ],
        [
         "Saint Lucia",
         "North America",
         "Caribbean",
         183627,
         616
        ],
        [
         "Grenada",
         "North America",
         "Caribbean",
         112523,
         344
        ],
        [
         "Saint Vincent and the Grenadines",
         "North America",
         "Caribbean",
         110940,
         389
        ],
        [
         "Antigua and Barbuda",
         "North America",
         "Caribbean",
         97929,
         442
        ],
        [
         "Dominica",
         "North America",
         "Caribbean",
         71986,
         751
        ],
        [
         "Saint Kitts and Nevis",
         "North America",
         "Caribbean",
         53192,
         261
        ],
        [
         "Russia",
         "Europe",
         "Eastern Europe",
         144478050,
         17098242
        ],
        [
         "Germany",
         "Europe",
         "Western Europe",
         83783942,
         357022
        ],
        [
         "United Kingdom",
         "Europe",
         "Northern Europe",
         67886011,
         243610
        ],
        [
         "France",
         "Europe",
         "Western Europe",
         65273511,
         551695
        ],
        [
         "Italy",
         "Europe",
         "Southern Europe",
         60461826,
         301340
        ],
        [
         "Spain",
         "Europe",
         "Southern Europe",
         46754778,
         505992
        ],
        [
         "Ukraine",
         "Europe",
         "Eastern Europe",
         43733762,
         603628
        ],
        [
         "Poland",
         "Europe",
         "Eastern Europe",
         37846611,
         312696
        ],
        [
         "Romania",
         "Europe",
         "Eastern Europe",
         19237691,
         238391
        ],
        [
         "Netherlands",
         "Europe",
         "Western Europe",
         17134872,
         41543
        ],
        [
         "Belgium",
         "Europe",
         "Western Europe",
         11589623,
         30528
        ],
        [
         "Czech Republic",
         "Europe",
         "Eastern Europe",
         10708981,
         78866
        ],
        [
         "Greece",
         "Europe",
         "Southern Europe",
         10423054,
         131957
        ],
        [
         "Portugal",
         "Europe",
         "Southern Europe",
         10196709,
         92090
        ],
        [
         "Sweden",
         "Europe",
         "Northern Europe",
         10099265,
         450295
        ],
        [
         "Hungary",
         "Europe",
         "Eastern Europe",
         9660351,
         93030
        ],
        [
         "Belarus",
         "Europe",
         "Eastern Europe",
         9449323,
         207600
        ],
        [
         "Austria",
         "Europe",
         "Western Europe",
         9006398,
         83879
        ],
        [
         "Switzerland",
         "Europe",
         "Western Europe",
         8654622,
         41285
        ],
        [
         "Bulgaria",
         "Europe",
         "Eastern Europe",
         6948445,
         110994
        ],
        [
         "Serbia",
         "Europe",
         "Southern Europe",
         6944975,
         88361
        ],
        [
         "Denmark",
         "Europe",
         "Northern Europe",
         5792202,
         42933
        ],
        [
         "Finland",
         "Europe",
         "Northern Europe",
         5540720,
         338424
        ],
        [
         "Slovakia",
         "Europe",
         "Eastern Europe",
         5459642,
         49037
        ],
        [
         "Norway",
         "Europe",
         "Northern Europe",
         5421241,
         385207
        ],
        [
         "Ireland",
         "Europe",
         "Northern Europe",
         4937786,
         70273
        ],
        [
         "Croatia",
         "Europe",
         "Southern Europe",
         4105267,
         56594
        ],
        [
         "Bosnia and Herzegovina",
         "Europe",
         "Southern Europe",
         3280819,
         51129
        ],
        [
         "Albania",
         "Europe",
         "Southern Europe",
         2877797,
         28748
        ],
        [
         "Lithuania",
         "Europe",
         "Northern Europe",
         2722289,
         65300
        ],
        [
         "Moldova",
         "Europe",
         "Eastern Europe",
         2640438,
         33851
        ],
        [
         "North Macedonia",
         "Europe",
         "Southern Europe",
         2083374,
         25713
        ],
        [
         "Slovenia",
         "Europe",
         "Southern Europe",
         2078938,
         20273
        ],
        [
         "Latvia",
         "Europe",
         "Northern Europe",
         1886198,
         64559
        ],
        [
         "Estonia",
         "Europe",
         "Northern Europe",
         1331796,
         45227
        ],
        [
         "Cyprus",
         "Europe",
         "Western Asia",
         1207359,
         9251
        ],
        [
         "Luxembourg",
         "Europe",
         "Western Europe",
         634814,
         2586
        ],
        [
         "Montenegro",
         "Europe",
         "Southern Europe",
         622359,
         13812
        ],
        [
         "Malta",
         "Europe",
         "Southern Europe",
         441543,
         316
        ],
        [
         "Iceland",
         "Europe",
         "Northern Europe",
         341243,
         103000
        ],
        [
         "Andorra",
         "Europe",
         "Southern Europe",
         77265,
         468
        ],
        [
         "Monaco",
         "Europe",
         "Western Europe",
         39242,
         2
        ],
        [
         "Liechtenstein",
         "Europe",
         "Western Europe",
         38128,
         160
        ],
        [
         "San Marino",
         "Europe",
         "Southern Europe",
         33938,
         61
        ],
        [
         "Holy See",
         "Europe",
         "Southern Europe",
         801,
         0
        ],
        [
         "China",
         "Asia",
         "Eastern Asia",
         1439323776,
         9596961
        ],
        [
         "India",
         "Asia",
         "Southern Asia",
         1380004385,
         3287263
        ],
        [
         "Indonesia",
         "Asia",
         "South-Eastern Asia",
         273523615,
         1904569
        ],
        [
         "Pakistan",
         "Asia",
         "Southern Asia",
         220892340,
         881913
        ],
        [
         "Bangladesh",
         "Asia",
         "Southern Asia",
         164689383,
         147570
        ],
        [
         "Japan",
         "Asia",
         "Eastern Asia",
         126476461,
         377975
        ],
        [
         "Philippines",
         "Asia",
         "South-Eastern Asia",
         109581078,
         300000
        ],
        [
         "Vietnam",
         "Asia",
         "South-Eastern Asia",
         97338579,
         331212
        ],
        [
         "Turkey",
         "Asia",
         "Western Asia",
         84339067,
         783562
        ],
        [
         "Iran",
         "Asia",
         "Southern Asia",
         83992949,
         1648195
        ],
        [
         "Thailand",
         "Asia",
         "South-Eastern Asia",
         69799978,
         513120
        ],
        [
         "Myanmar",
         "Asia",
         "South-Eastern Asia",
         54409800,
         676578
        ],
        [
         "South Korea",
         "Asia",
         "Eastern Asia",
         51269185,
         100210
        ],
        [
         "Iraq",
         "Asia",
         "Western Asia",
         40222493,
         438317
        ],
        [
         "Afghanistan",
         "Asia",
         "Southern Asia",
         38928346,
         652230
        ],
        [
         "Saudi Arabia",
         "Asia",
         "Western Asia",
         34813871,
         2149690
        ],
        [
         "Uzbekistan",
         "Asia",
         "Central Asia",
         33469203,
         447400
        ],
        [
         "Malaysia",
         "Asia",
         "South-Eastern Asia",
         32365999,
         330803
        ],
        [
         "Yemen",
         "Asia",
         "Western Asia",
         29825964,
         527968
        ],
        [
         "Nepal",
         "Asia",
         "Southern Asia",
         29136808,
         147181
        ],
        [
         "North Korea",
         "Asia",
         "Eastern Asia",
         25778816,
         120538
        ],
        [
         "Sri Lanka",
         "Asia",
         "Southern Asia",
         21413249,
         65610
        ],
        [
         "Kazakhstan",
         "Asia",
         "Central Asia",
         18776707,
         2724900
        ],
        [
         "Syria",
         "Asia",
         "Western Asia",
         17500657,
         185180
        ],
        [
         "Cambodia",
         "Asia",
         "South-Eastern Asia",
         16718965,
         181035
        ],
        [
         "Jordan",
         "Asia",
         "Western Asia",
         10203134,
         89342
        ],
        [
         "Azerbaijan",
         "Asia",
         "Western Asia",
         10139177,
         86600
        ],
        [
         "United Arab Emirates",
         "Asia",
         "Western Asia",
         9890400,
         83600
        ],
        [
         "Tajikistan",
         "Asia",
         "Central Asia",
         9537645,
         143100
        ],
        [
         "Israel",
         "Asia",
         "Western Asia",
         9053300,
         20770
        ],
        [
         "Laos",
         "Asia",
         "South-Eastern Asia",
         7275560,
         236800
        ],
        [
         "Lebanon",
         "Asia",
         "Western Asia",
         6825445,
         10452
        ],
        [
         "Kyrgyzstan",
         "Asia",
         "Central Asia",
         6524195,
         199951
        ],
        [
         "Turkmenistan",
         "Asia",
         "Central Asia",
         6031200,
         488100
        ],
        [
         "Singapore",
         "Asia",
         "South-Eastern Asia",
         5850342,
         719
        ],
        [
         "Oman",
         "Asia",
         "Western Asia",
         5106626,
         309500
        ],
        [
         "Palestine, State of",
         "Asia",
         "Western Asia",
         5101414,
         6020
        ],
        [
         "Kuwait",
         "Asia",
         "Western Asia",
         4270571,
         17818
        ],
        [
         "Georgia",
         "Asia",
         "Western Asia",
         3989167,
         69700
        ],
        [
         "Mongolia",
         "Asia",
         "Eastern Asia",
         3278290,
         1564110
        ],
        [
         "Armenia",
         "Asia",
         "Western Asia",
         2963243,
         29743
        ],
        [
         "Qatar",
         "Asia",
         "Western Asia",
         2881053,
         11586
        ],
        [
         "Bahrain",
         "Asia",
         "Western Asia",
         1701575,
         765
        ],
        [
         "Timor-Leste",
         "Asia",
         "South-Eastern Asia",
         1318445,
         14874
        ],
        [
         "Bhutan",
         "Asia",
         "Southern Asia",
         771608,
         38394
        ],
        [
         "Maldives",
         "Asia",
         "Southern Asia",
         540544,
         300
        ],
        [
         "Brunei",
         "Asia",
         "South-Eastern Asia",
         437479,
         5765
        ],
        [
         "Nigeria",
         "Africa",
         "Western Africa",
         206139589,
         923768
        ],
        [
         "Ethiopia",
         "Africa",
         "Eastern Africa",
         114963588,
         1104300
        ],
        [
         "Egypt",
         "Africa",
         "Northern Africa",
         102334404,
         1002450
        ],
        [
         "Congo, Democratic Republic of the",
         "Africa",
         "Middle Africa",
         89561403,
         2344858
        ],
        [
         "Tanzania",
         "Africa",
         "Eastern Africa",
         59734218,
         945087
        ],
        [
         "South Africa",
         "Africa",
         "Southern Africa",
         59308690,
         1221037
        ],
        [
         "Kenya",
         "Africa",
         "Eastern Africa",
         53771296,
         580367
        ],
        [
         "Uganda",
         "Africa",
         "Eastern Africa",
         45741007,
         241550
        ],
        [
         "Algeria",
         "Africa",
         "Northern Africa",
         43851044,
         2381741
        ],
        [
         "Sudan",
         "Africa",
         "Northern Africa",
         43849260,
         1861484
        ],
        [
         "Morocco",
         "Africa",
         "Northern Africa",
         36910560,
         446550
        ],
        [
         "Angola",
         "Africa",
         "Middle Africa",
         32866272,
         1246700
        ],
        [
         "Mozambique",
         "Africa",
         "Eastern Africa",
         31255435,
         801590
        ],
        [
         "Ghana",
         "Africa",
         "Western Africa",
         31072940,
         238533
        ],
        [
         "Madagascar",
         "Africa",
         "Eastern Africa",
         27691018,
         587041
        ],
        [
         "Cameroon",
         "Africa",
         "Middle Africa",
         26545863,
         475442
        ],
        [
         "Côte d'Ivoire",
         "Africa",
         "Western Africa",
         26378274,
         322463
        ],
        [
         "Niger",
         "Africa",
         "Western Africa",
         24206644,
         1267000
        ],
        [
         "Burkina Faso",
         "Africa",
         "Western Africa",
         20903273,
         274200
        ],
        [
         "Mali",
         "Africa",
         "Western Africa",
         20250833,
         1240192
        ],
        [
         "Malawi",
         "Africa",
         "Eastern Africa",
         19129952,
         118484
        ],
        [
         "Zambia",
         "Africa",
         "Eastern Africa",
         18383955,
         752612
        ],
        [
         "Senegal",
         "Africa",
         "Western Africa",
         16743927,
         196722
        ],
        [
         "Chad",
         "Africa",
         "Middle Africa",
         16425864,
         1284000
        ],
        [
         "Somalia",
         "Africa",
         "Eastern Africa",
         15893222,
         637657
        ],
        [
         "Zimbabwe",
         "Africa",
         "Eastern Africa",
         14862924,
         390757
        ],
        [
         "Guinea",
         "Africa",
         "Western Africa",
         13132795,
         245857
        ],
        [
         "Rwanda",
         "Africa",
         "Eastern Africa",
         12952218,
         26338
        ],
        [
         "Benin",
         "Africa",
         "Western Africa",
         12123200,
         114763
        ],
        [
         "Burundi",
         "Africa",
         "Eastern Africa",
         11890784,
         27834
        ],
        [
         "Tunisia",
         "Africa",
         "Northern Africa",
         11818619,
         163610
        ],
        [
         "South Sudan",
         "Africa",
         "Eastern Africa",
         11193725,
         644329
        ],
        [
         "Togo",
         "Africa",
         "Western Africa",
         8278724,
         56785
        ],
        [
         "Sierra Leone",
         "Africa",
         "Western Africa",
         7976983,
         71740
        ],
        [
         "Libya",
         "Africa",
         "Northern Africa",
         6871292,
         1759540
        ],
        [
         "Congo, Republic of the",
         "Africa",
         "Middle Africa",
         5518087,
         342000
        ],
        [
         "Liberia",
         "Africa",
         "Western Africa",
         5073296,
         111369
        ],
        [
         "Central African Republic",
         "Africa",
         "Middle Africa",
         4829767,
         622984
        ],
        [
         "Mauritania",
         "Africa",
         "Western Africa",
         4649658,
         1030700
        ],
        [
         "Eritrea",
         "Africa",
         "Eastern Africa",
         3546421,
         117600
        ],
        [
         "Namibia",
         "Africa",
         "Southern Africa",
         2540905,
         824292
        ],
        [
         "Gambia",
         "Africa",
         "Western Africa",
         2416668,
         11295
        ],
        [
         "Botswana",
         "Africa",
         "Southern Africa",
         2351627,
         581730
        ],
        [
         "Gabon",
         "Africa",
         "Middle Africa",
         2225728,
         267668
        ],
        [
         "Lesotho",
         "Africa",
         "Southern Africa",
         2142249,
         30355
        ],
        [
         "Guinea-Bissau",
         "Africa",
         "Western Africa",
         1968001,
         36125
        ],
        [
         "Equatorial Guinea",
         "Africa",
         "Middle Africa",
         1402985,
         28051
        ],
        [
         "Mauritius",
         "Africa",
         "Eastern Africa",
         1271768,
         2040
        ],
        [
         "Eswatini",
         "Africa",
         "Southern Africa",
         1160164,
         17364
        ],
        [
         "Djibouti",
         "Africa",
         "Eastern Africa",
         988000,
         23200
        ],
        [
         "Comoros",
         "Africa",
         "Eastern Africa",
         869601,
         1862
        ],
        [
         "Cabo Verde",
         "Africa",
         "Western Africa",
         555987,
         4033
        ],
        [
         "Sao Tome and Principe",
         "Africa",
         "Middle Africa",
         219159,
         964
        ],
        [
         "Seychelles",
         "Africa",
         "Eastern Africa",
         98347,
         455
        ]
       ],
       "datasetInfos": [],
       "dbfsResultPath": null,
       "isJsonSchema": true,
       "metadata": {},
       "overflow": false,
       "plotOptions": {
        "customPlotOptions": {},
        "displayType": "table",
        "pivotAggregation": null,
        "pivotColumns": null,
        "xColumns": null,
        "yColumns": null
       },
       "removedWidgets": [],
       "schema": [
        {
         "metadata": "{}",
         "name": "country_name",
         "type": "\"string\""
        },
        {
         "metadata": "{}",
         "name": "continent",
         "type": "\"string\""
        },
        {
         "metadata": "{}",
         "name": "sub_region",
         "type": "\"string\""
        },
        {
         "metadata": "{}",
         "name": "population",
         "type": "\"long\""
        },
        {
         "metadata": "{}",
         "name": "area_km2",
         "type": "\"integer\""
        }
       ],
       "type": "table"
      }
     },
     "output_type": "display_data"
    }
   ],
   "source": [
    "# Sorting by continent and population in ascending order\n",
    "df.sort(\"continent\", \"population\", ascending=False).display()"
   ]
  },
  {
   "cell_type": "code",
   "execution_count": 0,
   "metadata": {
    "application/vnd.databricks.v1+cell": {
     "cellMetadata": {
      "byteLimit": 2048000,
      "rowLimit": 10000
     },
     "inputWidgets": {},
     "nuid": "b02dc40b-19b1-4c51-91df-ce2df0ca7214",
     "showTitle": false,
     "tableResultSettingsMap": {},
     "title": ""
    }
   },
   "outputs": [],
   "source": [
    "from pyspark.sql.functions import asc, desc"
   ]
  },
  {
   "cell_type": "code",
   "execution_count": 0,
   "metadata": {
    "application/vnd.databricks.v1+cell": {
     "cellMetadata": {
      "byteLimit": 2048000,
      "rowLimit": 10000
     },
     "inputWidgets": {},
     "nuid": "e8a80de8-7606-4180-99db-23a74aaa27da",
     "showTitle": false,
     "tableResultSettingsMap": {},
     "title": ""
    }
   },
   "outputs": [
    {
     "output_type": "display_data",
     "data": {
      "text/html": [
       "<style scoped>\n",
       "  .table-result-container {\n",
       "    max-height: 300px;\n",
       "    overflow: auto;\n",
       "  }\n",
       "  table, th, td {\n",
       "    border: 1px solid black;\n",
       "    border-collapse: collapse;\n",
       "  }\n",
       "  th, td {\n",
       "    padding: 5px;\n",
       "  }\n",
       "  th {\n",
       "    text-align: left;\n",
       "  }\n",
       "</style><div class='table-result-container'><table class='table-result'><thead style='background-color: white'><tr><th>country_name</th><th>continent</th><th>sub_region</th><th>population</th><th>area_km2</th></tr></thead><tbody><tr><td>Nigeria</td><td>Africa</td><td>Western Africa</td><td>206139589</td><td>923768</td></tr><tr><td>Ethiopia</td><td>Africa</td><td>Eastern Africa</td><td>114963588</td><td>1104300</td></tr><tr><td>Egypt</td><td>Africa</td><td>Northern Africa</td><td>102334404</td><td>1002450</td></tr><tr><td>Congo, Democratic Republic of the</td><td>Africa</td><td>Middle Africa</td><td>89561403</td><td>2344858</td></tr><tr><td>Tanzania</td><td>Africa</td><td>Eastern Africa</td><td>59734218</td><td>945087</td></tr><tr><td>South Africa</td><td>Africa</td><td>Southern Africa</td><td>59308690</td><td>1221037</td></tr><tr><td>Kenya</td><td>Africa</td><td>Eastern Africa</td><td>53771296</td><td>580367</td></tr><tr><td>Uganda</td><td>Africa</td><td>Eastern Africa</td><td>45741007</td><td>241550</td></tr><tr><td>Algeria</td><td>Africa</td><td>Northern Africa</td><td>43851044</td><td>2381741</td></tr><tr><td>Sudan</td><td>Africa</td><td>Northern Africa</td><td>43849260</td><td>1861484</td></tr><tr><td>Morocco</td><td>Africa</td><td>Northern Africa</td><td>36910560</td><td>446550</td></tr><tr><td>Angola</td><td>Africa</td><td>Middle Africa</td><td>32866272</td><td>1246700</td></tr><tr><td>Mozambique</td><td>Africa</td><td>Eastern Africa</td><td>31255435</td><td>801590</td></tr><tr><td>Ghana</td><td>Africa</td><td>Western Africa</td><td>31072940</td><td>238533</td></tr><tr><td>Madagascar</td><td>Africa</td><td>Eastern Africa</td><td>27691018</td><td>587041</td></tr><tr><td>Cameroon</td><td>Africa</td><td>Middle Africa</td><td>26545863</td><td>475442</td></tr><tr><td>Côte d'Ivoire</td><td>Africa</td><td>Western Africa</td><td>26378274</td><td>322463</td></tr><tr><td>Niger</td><td>Africa</td><td>Western Africa</td><td>24206644</td><td>1267000</td></tr><tr><td>Burkina Faso</td><td>Africa</td><td>Western Africa</td><td>20903273</td><td>274200</td></tr><tr><td>Mali</td><td>Africa</td><td>Western Africa</td><td>20250833</td><td>1240192</td></tr><tr><td>Malawi</td><td>Africa</td><td>Eastern Africa</td><td>19129952</td><td>118484</td></tr><tr><td>Zambia</td><td>Africa</td><td>Eastern Africa</td><td>18383955</td><td>752612</td></tr><tr><td>Senegal</td><td>Africa</td><td>Western Africa</td><td>16743927</td><td>196722</td></tr><tr><td>Chad</td><td>Africa</td><td>Middle Africa</td><td>16425864</td><td>1284000</td></tr><tr><td>Somalia</td><td>Africa</td><td>Eastern Africa</td><td>15893222</td><td>637657</td></tr><tr><td>Zimbabwe</td><td>Africa</td><td>Eastern Africa</td><td>14862924</td><td>390757</td></tr><tr><td>Guinea</td><td>Africa</td><td>Western Africa</td><td>13132795</td><td>245857</td></tr><tr><td>Rwanda</td><td>Africa</td><td>Eastern Africa</td><td>12952218</td><td>26338</td></tr><tr><td>Benin</td><td>Africa</td><td>Western Africa</td><td>12123200</td><td>114763</td></tr><tr><td>Burundi</td><td>Africa</td><td>Eastern Africa</td><td>11890784</td><td>27834</td></tr><tr><td>Tunisia</td><td>Africa</td><td>Northern Africa</td><td>11818619</td><td>163610</td></tr><tr><td>South Sudan</td><td>Africa</td><td>Eastern Africa</td><td>11193725</td><td>644329</td></tr><tr><td>Togo</td><td>Africa</td><td>Western Africa</td><td>8278724</td><td>56785</td></tr><tr><td>Sierra Leone</td><td>Africa</td><td>Western Africa</td><td>7976983</td><td>71740</td></tr><tr><td>Libya</td><td>Africa</td><td>Northern Africa</td><td>6871292</td><td>1759540</td></tr><tr><td>Congo, Republic of the</td><td>Africa</td><td>Middle Africa</td><td>5518087</td><td>342000</td></tr><tr><td>Liberia</td><td>Africa</td><td>Western Africa</td><td>5073296</td><td>111369</td></tr><tr><td>Central African Republic</td><td>Africa</td><td>Middle Africa</td><td>4829767</td><td>622984</td></tr><tr><td>Mauritania</td><td>Africa</td><td>Western Africa</td><td>4649658</td><td>1030700</td></tr><tr><td>Eritrea</td><td>Africa</td><td>Eastern Africa</td><td>3546421</td><td>117600</td></tr><tr><td>Namibia</td><td>Africa</td><td>Southern Africa</td><td>2540905</td><td>824292</td></tr><tr><td>Gambia</td><td>Africa</td><td>Western Africa</td><td>2416668</td><td>11295</td></tr><tr><td>Botswana</td><td>Africa</td><td>Southern Africa</td><td>2351627</td><td>581730</td></tr><tr><td>Gabon</td><td>Africa</td><td>Middle Africa</td><td>2225728</td><td>267668</td></tr><tr><td>Lesotho</td><td>Africa</td><td>Southern Africa</td><td>2142249</td><td>30355</td></tr><tr><td>Guinea-Bissau</td><td>Africa</td><td>Western Africa</td><td>1968001</td><td>36125</td></tr><tr><td>Equatorial Guinea</td><td>Africa</td><td>Middle Africa</td><td>1402985</td><td>28051</td></tr><tr><td>Mauritius</td><td>Africa</td><td>Eastern Africa</td><td>1271768</td><td>2040</td></tr><tr><td>Eswatini</td><td>Africa</td><td>Southern Africa</td><td>1160164</td><td>17364</td></tr><tr><td>Djibouti</td><td>Africa</td><td>Eastern Africa</td><td>988000</td><td>23200</td></tr><tr><td>Comoros</td><td>Africa</td><td>Eastern Africa</td><td>869601</td><td>1862</td></tr><tr><td>Cabo Verde</td><td>Africa</td><td>Western Africa</td><td>555987</td><td>4033</td></tr><tr><td>Sao Tome and Principe</td><td>Africa</td><td>Middle Africa</td><td>219159</td><td>964</td></tr><tr><td>Seychelles</td><td>Africa</td><td>Eastern Africa</td><td>98347</td><td>455</td></tr><tr><td>China</td><td>Asia</td><td>Eastern Asia</td><td>1439323776</td><td>9596961</td></tr><tr><td>India</td><td>Asia</td><td>Southern Asia</td><td>1380004385</td><td>3287263</td></tr><tr><td>Indonesia</td><td>Asia</td><td>South-Eastern Asia</td><td>273523615</td><td>1904569</td></tr><tr><td>Pakistan</td><td>Asia</td><td>Southern Asia</td><td>220892340</td><td>881913</td></tr><tr><td>Bangladesh</td><td>Asia</td><td>Southern Asia</td><td>164689383</td><td>147570</td></tr><tr><td>Japan</td><td>Asia</td><td>Eastern Asia</td><td>126476461</td><td>377975</td></tr><tr><td>Philippines</td><td>Asia</td><td>South-Eastern Asia</td><td>109581078</td><td>300000</td></tr><tr><td>Vietnam</td><td>Asia</td><td>South-Eastern Asia</td><td>97338579</td><td>331212</td></tr><tr><td>Turkey</td><td>Asia</td><td>Western Asia</td><td>84339067</td><td>783562</td></tr><tr><td>Iran</td><td>Asia</td><td>Southern Asia</td><td>83992949</td><td>1648195</td></tr><tr><td>Thailand</td><td>Asia</td><td>South-Eastern Asia</td><td>69799978</td><td>513120</td></tr><tr><td>Myanmar</td><td>Asia</td><td>South-Eastern Asia</td><td>54409800</td><td>676578</td></tr><tr><td>South Korea</td><td>Asia</td><td>Eastern Asia</td><td>51269185</td><td>100210</td></tr><tr><td>Iraq</td><td>Asia</td><td>Western Asia</td><td>40222493</td><td>438317</td></tr><tr><td>Afghanistan</td><td>Asia</td><td>Southern Asia</td><td>38928346</td><td>652230</td></tr><tr><td>Saudi Arabia</td><td>Asia</td><td>Western Asia</td><td>34813871</td><td>2149690</td></tr><tr><td>Uzbekistan</td><td>Asia</td><td>Central Asia</td><td>33469203</td><td>447400</td></tr><tr><td>Malaysia</td><td>Asia</td><td>South-Eastern Asia</td><td>32365999</td><td>330803</td></tr><tr><td>Yemen</td><td>Asia</td><td>Western Asia</td><td>29825964</td><td>527968</td></tr><tr><td>Nepal</td><td>Asia</td><td>Southern Asia</td><td>29136808</td><td>147181</td></tr><tr><td>North Korea</td><td>Asia</td><td>Eastern Asia</td><td>25778816</td><td>120538</td></tr><tr><td>Sri Lanka</td><td>Asia</td><td>Southern Asia</td><td>21413249</td><td>65610</td></tr><tr><td>Kazakhstan</td><td>Asia</td><td>Central Asia</td><td>18776707</td><td>2724900</td></tr><tr><td>Syria</td><td>Asia</td><td>Western Asia</td><td>17500657</td><td>185180</td></tr><tr><td>Cambodia</td><td>Asia</td><td>South-Eastern Asia</td><td>16718965</td><td>181035</td></tr><tr><td>Jordan</td><td>Asia</td><td>Western Asia</td><td>10203134</td><td>89342</td></tr><tr><td>Azerbaijan</td><td>Asia</td><td>Western Asia</td><td>10139177</td><td>86600</td></tr><tr><td>United Arab Emirates</td><td>Asia</td><td>Western Asia</td><td>9890400</td><td>83600</td></tr><tr><td>Tajikistan</td><td>Asia</td><td>Central Asia</td><td>9537645</td><td>143100</td></tr><tr><td>Israel</td><td>Asia</td><td>Western Asia</td><td>9053300</td><td>20770</td></tr><tr><td>Laos</td><td>Asia</td><td>South-Eastern Asia</td><td>7275560</td><td>236800</td></tr><tr><td>Lebanon</td><td>Asia</td><td>Western Asia</td><td>6825445</td><td>10452</td></tr><tr><td>Kyrgyzstan</td><td>Asia</td><td>Central Asia</td><td>6524195</td><td>199951</td></tr><tr><td>Turkmenistan</td><td>Asia</td><td>Central Asia</td><td>6031200</td><td>488100</td></tr><tr><td>Singapore</td><td>Asia</td><td>South-Eastern Asia</td><td>5850342</td><td>719</td></tr><tr><td>Oman</td><td>Asia</td><td>Western Asia</td><td>5106626</td><td>309500</td></tr><tr><td>Palestine, State of</td><td>Asia</td><td>Western Asia</td><td>5101414</td><td>6020</td></tr><tr><td>Kuwait</td><td>Asia</td><td>Western Asia</td><td>4270571</td><td>17818</td></tr><tr><td>Georgia</td><td>Asia</td><td>Western Asia</td><td>3989167</td><td>69700</td></tr><tr><td>Mongolia</td><td>Asia</td><td>Eastern Asia</td><td>3278290</td><td>1564110</td></tr><tr><td>Armenia</td><td>Asia</td><td>Western Asia</td><td>2963243</td><td>29743</td></tr><tr><td>Qatar</td><td>Asia</td><td>Western Asia</td><td>2881053</td><td>11586</td></tr><tr><td>Bahrain</td><td>Asia</td><td>Western Asia</td><td>1701575</td><td>765</td></tr><tr><td>Timor-Leste</td><td>Asia</td><td>South-Eastern Asia</td><td>1318445</td><td>14874</td></tr><tr><td>Bhutan</td><td>Asia</td><td>Southern Asia</td><td>771608</td><td>38394</td></tr><tr><td>Maldives</td><td>Asia</td><td>Southern Asia</td><td>540544</td><td>300</td></tr><tr><td>Brunei</td><td>Asia</td><td>South-Eastern Asia</td><td>437479</td><td>5765</td></tr><tr><td>Russia</td><td>Europe</td><td>Eastern Europe</td><td>144478050</td><td>17098242</td></tr><tr><td>Germany</td><td>Europe</td><td>Western Europe</td><td>83783942</td><td>357022</td></tr><tr><td>United Kingdom</td><td>Europe</td><td>Northern Europe</td><td>67886011</td><td>243610</td></tr><tr><td>France</td><td>Europe</td><td>Western Europe</td><td>65273511</td><td>551695</td></tr><tr><td>Italy</td><td>Europe</td><td>Southern Europe</td><td>60461826</td><td>301340</td></tr><tr><td>Spain</td><td>Europe</td><td>Southern Europe</td><td>46754778</td><td>505992</td></tr><tr><td>Ukraine</td><td>Europe</td><td>Eastern Europe</td><td>43733762</td><td>603628</td></tr><tr><td>Poland</td><td>Europe</td><td>Eastern Europe</td><td>37846611</td><td>312696</td></tr><tr><td>Romania</td><td>Europe</td><td>Eastern Europe</td><td>19237691</td><td>238391</td></tr><tr><td>Netherlands</td><td>Europe</td><td>Western Europe</td><td>17134872</td><td>41543</td></tr><tr><td>Belgium</td><td>Europe</td><td>Western Europe</td><td>11589623</td><td>30528</td></tr><tr><td>Czech Republic</td><td>Europe</td><td>Eastern Europe</td><td>10708981</td><td>78866</td></tr><tr><td>Greece</td><td>Europe</td><td>Southern Europe</td><td>10423054</td><td>131957</td></tr><tr><td>Portugal</td><td>Europe</td><td>Southern Europe</td><td>10196709</td><td>92090</td></tr><tr><td>Sweden</td><td>Europe</td><td>Northern Europe</td><td>10099265</td><td>450295</td></tr><tr><td>Hungary</td><td>Europe</td><td>Eastern Europe</td><td>9660351</td><td>93030</td></tr><tr><td>Belarus</td><td>Europe</td><td>Eastern Europe</td><td>9449323</td><td>207600</td></tr><tr><td>Austria</td><td>Europe</td><td>Western Europe</td><td>9006398</td><td>83879</td></tr><tr><td>Switzerland</td><td>Europe</td><td>Western Europe</td><td>8654622</td><td>41285</td></tr><tr><td>Bulgaria</td><td>Europe</td><td>Eastern Europe</td><td>6948445</td><td>110994</td></tr><tr><td>Serbia</td><td>Europe</td><td>Southern Europe</td><td>6944975</td><td>88361</td></tr><tr><td>Denmark</td><td>Europe</td><td>Northern Europe</td><td>5792202</td><td>42933</td></tr><tr><td>Finland</td><td>Europe</td><td>Northern Europe</td><td>5540720</td><td>338424</td></tr><tr><td>Slovakia</td><td>Europe</td><td>Eastern Europe</td><td>5459642</td><td>49037</td></tr><tr><td>Norway</td><td>Europe</td><td>Northern Europe</td><td>5421241</td><td>385207</td></tr><tr><td>Ireland</td><td>Europe</td><td>Northern Europe</td><td>4937786</td><td>70273</td></tr><tr><td>Croatia</td><td>Europe</td><td>Southern Europe</td><td>4105267</td><td>56594</td></tr><tr><td>Bosnia and Herzegovina</td><td>Europe</td><td>Southern Europe</td><td>3280819</td><td>51129</td></tr><tr><td>Albania</td><td>Europe</td><td>Southern Europe</td><td>2877797</td><td>28748</td></tr><tr><td>Lithuania</td><td>Europe</td><td>Northern Europe</td><td>2722289</td><td>65300</td></tr><tr><td>Moldova</td><td>Europe</td><td>Eastern Europe</td><td>2640438</td><td>33851</td></tr><tr><td>North Macedonia</td><td>Europe</td><td>Southern Europe</td><td>2083374</td><td>25713</td></tr><tr><td>Slovenia</td><td>Europe</td><td>Southern Europe</td><td>2078938</td><td>20273</td></tr><tr><td>Latvia</td><td>Europe</td><td>Northern Europe</td><td>1886198</td><td>64559</td></tr><tr><td>Estonia</td><td>Europe</td><td>Northern Europe</td><td>1331796</td><td>45227</td></tr><tr><td>Cyprus</td><td>Europe</td><td>Western Asia</td><td>1207359</td><td>9251</td></tr><tr><td>Luxembourg</td><td>Europe</td><td>Western Europe</td><td>634814</td><td>2586</td></tr><tr><td>Montenegro</td><td>Europe</td><td>Southern Europe</td><td>622359</td><td>13812</td></tr><tr><td>Malta</td><td>Europe</td><td>Southern Europe</td><td>441543</td><td>316</td></tr><tr><td>Iceland</td><td>Europe</td><td>Northern Europe</td><td>341243</td><td>103000</td></tr><tr><td>Andorra</td><td>Europe</td><td>Southern Europe</td><td>77265</td><td>468</td></tr><tr><td>Monaco</td><td>Europe</td><td>Western Europe</td><td>39242</td><td>2</td></tr><tr><td>Liechtenstein</td><td>Europe</td><td>Western Europe</td><td>38128</td><td>160</td></tr><tr><td>San Marino</td><td>Europe</td><td>Southern Europe</td><td>33938</td><td>61</td></tr><tr><td>Holy See</td><td>Europe</td><td>Southern Europe</td><td>801</td><td>0</td></tr><tr><td>United States</td><td>North America</td><td>Northern America</td><td>331002651</td><td>9833520</td></tr><tr><td>Mexico</td><td>North America</td><td>Central America</td><td>128932753</td><td>1964375</td></tr><tr><td>Canada</td><td>North America</td><td>Northern America</td><td>37742154</td><td>9984670</td></tr><tr><td>Guatemala</td><td>North America</td><td>Central America</td><td>17915568</td><td>108889</td></tr><tr><td>Haiti</td><td>North America</td><td>Caribbean</td><td>11402528</td><td>27750</td></tr><tr><td>Cuba</td><td>North America</td><td>Caribbean</td><td>11326616</td><td>109884</td></tr><tr><td>Dominican Republic</td><td>North America</td><td>Caribbean</td><td>10847910</td><td>48671</td></tr><tr><td>Honduras</td><td>North America</td><td>Central America</td><td>9904607</td><td>112492</td></tr><tr><td>Nicaragua</td><td>North America</td><td>Central America</td><td>6624554</td><td>130373</td></tr><tr><td>El Salvador</td><td>North America</td><td>Central America</td><td>6486205</td><td>21041</td></tr><tr><td>Costa Rica</td><td>North America</td><td>Central America</td><td>5094118</td><td>51100</td></tr><tr><td>Panama</td><td>North America</td><td>Central America</td><td>4314767</td><td>75417</td></tr><tr><td>Jamaica</td><td>North America</td><td>Caribbean</td><td>2961167</td><td>10991</td></tr><tr><td>Trinidad and Tobago</td><td>North America</td><td>Caribbean</td><td>1399488</td><td>5130</td></tr><tr><td>Belize</td><td>North America</td><td>Central America</td><td>397621</td><td>22966</td></tr><tr><td>Bahamas</td><td>North America</td><td>Caribbean</td><td>393244</td><td>13943</td></tr><tr><td>Barbados</td><td>North America</td><td>Caribbean</td><td>287375</td><td>430</td></tr><tr><td>Saint Lucia</td><td>North America</td><td>Caribbean</td><td>183627</td><td>616</td></tr><tr><td>Grenada</td><td>North America</td><td>Caribbean</td><td>112523</td><td>344</td></tr><tr><td>Saint Vincent and the Grenadines</td><td>North America</td><td>Caribbean</td><td>110940</td><td>389</td></tr><tr><td>Antigua and Barbuda</td><td>North America</td><td>Caribbean</td><td>97929</td><td>442</td></tr><tr><td>Dominica</td><td>North America</td><td>Caribbean</td><td>71986</td><td>751</td></tr><tr><td>Saint Kitts and Nevis</td><td>North America</td><td>Caribbean</td><td>53192</td><td>261</td></tr><tr><td>Australia</td><td>Oceania</td><td>Australia and New Zealand</td><td>25649984</td><td>7692024</td></tr><tr><td>Papua New Guinea</td><td>Oceania</td><td>Melanesia</td><td>8947024</td><td>462840</td></tr><tr><td>New Zealand</td><td>Oceania</td><td>Australia and New Zealand</td><td>5084300</td><td>268838</td></tr><tr><td>Fiji</td><td>Oceania</td><td>Melanesia</td><td>896444</td><td>18274</td></tr><tr><td>Solomon Islands</td><td>Oceania</td><td>Melanesia</td><td>686884</td><td>28896</td></tr><tr><td>Vanuatu</td><td>Oceania</td><td>Melanesia</td><td>307145</td><td>12189</td></tr><tr><td>Samoa</td><td>Oceania</td><td>Polynesia</td><td>198414</td><td>2842</td></tr><tr><td>Kiribati</td><td>Oceania</td><td>Micronesia</td><td>119449</td><td>811</td></tr><tr><td>Micronesia</td><td>Oceania</td><td>Micronesia</td><td>115023</td><td>702</td></tr><tr><td>Tonga</td><td>Oceania</td><td>Polynesia</td><td>105695</td><td>747</td></tr><tr><td>Marshall Islands</td><td>Oceania</td><td>Micronesia</td><td>59190</td><td>181</td></tr><tr><td>Palau</td><td>Oceania</td><td>Micronesia</td><td>18094</td><td>459</td></tr><tr><td>Tuvalu</td><td>Oceania</td><td>Polynesia</td><td>11792</td><td>26</td></tr><tr><td>Nauru</td><td>Oceania</td><td>Micronesia</td><td>10824</td><td>21</td></tr><tr><td>Brazil</td><td>South America</td><td>South America</td><td>212559417</td><td>8515767</td></tr><tr><td>Colombia</td><td>South America</td><td>South America</td><td>50882891</td><td>1141748</td></tr><tr><td>Argentina</td><td>South America</td><td>South America</td><td>45376763</td><td>2780400</td></tr><tr><td>Peru</td><td>South America</td><td>South America</td><td>32971854</td><td>1285216</td></tr><tr><td>Venezuela</td><td>South America</td><td>South America</td><td>28435940</td><td>916445</td></tr><tr><td>Chile</td><td>South America</td><td>South America</td><td>19116201</td><td>756102</td></tr><tr><td>Ecuador</td><td>South America</td><td>South America</td><td>17643054</td><td>283561</td></tr><tr><td>Bolivia</td><td>South America</td><td>South America</td><td>11673021</td><td>1098581</td></tr><tr><td>Paraguay</td><td>South America</td><td>South America</td><td>7132538</td><td>406752</td></tr><tr><td>Uruguay</td><td>South America</td><td>South America</td><td>3473730</td><td>176215</td></tr><tr><td>Guyana</td><td>South America</td><td>South America</td><td>786552</td><td>214969</td></tr><tr><td>Suriname</td><td>South America</td><td>South America</td><td>586634</td><td>163820</td></tr></tbody></table></div>"
      ]
     },
     "metadata": {
      "application/vnd.databricks.v1+output": {
       "addedWidgets": {},
       "aggData": [],
       "aggError": "",
       "aggOverflow": false,
       "aggSchema": [],
       "aggSeriesLimitReached": false,
       "aggType": "",
       "arguments": {},
       "columnCustomDisplayInfos": {},
       "data": [
        [
         "Nigeria",
         "Africa",
         "Western Africa",
         206139589,
         923768
        ],
        [
         "Ethiopia",
         "Africa",
         "Eastern Africa",
         114963588,
         1104300
        ],
        [
         "Egypt",
         "Africa",
         "Northern Africa",
         102334404,
         1002450
        ],
        [
         "Congo, Democratic Republic of the",
         "Africa",
         "Middle Africa",
         89561403,
         2344858
        ],
        [
         "Tanzania",
         "Africa",
         "Eastern Africa",
         59734218,
         945087
        ],
        [
         "South Africa",
         "Africa",
         "Southern Africa",
         59308690,
         1221037
        ],
        [
         "Kenya",
         "Africa",
         "Eastern Africa",
         53771296,
         580367
        ],
        [
         "Uganda",
         "Africa",
         "Eastern Africa",
         45741007,
         241550
        ],
        [
         "Algeria",
         "Africa",
         "Northern Africa",
         43851044,
         2381741
        ],
        [
         "Sudan",
         "Africa",
         "Northern Africa",
         43849260,
         1861484
        ],
        [
         "Morocco",
         "Africa",
         "Northern Africa",
         36910560,
         446550
        ],
        [
         "Angola",
         "Africa",
         "Middle Africa",
         32866272,
         1246700
        ],
        [
         "Mozambique",
         "Africa",
         "Eastern Africa",
         31255435,
         801590
        ],
        [
         "Ghana",
         "Africa",
         "Western Africa",
         31072940,
         238533
        ],
        [
         "Madagascar",
         "Africa",
         "Eastern Africa",
         27691018,
         587041
        ],
        [
         "Cameroon",
         "Africa",
         "Middle Africa",
         26545863,
         475442
        ],
        [
         "Côte d'Ivoire",
         "Africa",
         "Western Africa",
         26378274,
         322463
        ],
        [
         "Niger",
         "Africa",
         "Western Africa",
         24206644,
         1267000
        ],
        [
         "Burkina Faso",
         "Africa",
         "Western Africa",
         20903273,
         274200
        ],
        [
         "Mali",
         "Africa",
         "Western Africa",
         20250833,
         1240192
        ],
        [
         "Malawi",
         "Africa",
         "Eastern Africa",
         19129952,
         118484
        ],
        [
         "Zambia",
         "Africa",
         "Eastern Africa",
         18383955,
         752612
        ],
        [
         "Senegal",
         "Africa",
         "Western Africa",
         16743927,
         196722
        ],
        [
         "Chad",
         "Africa",
         "Middle Africa",
         16425864,
         1284000
        ],
        [
         "Somalia",
         "Africa",
         "Eastern Africa",
         15893222,
         637657
        ],
        [
         "Zimbabwe",
         "Africa",
         "Eastern Africa",
         14862924,
         390757
        ],
        [
         "Guinea",
         "Africa",
         "Western Africa",
         13132795,
         245857
        ],
        [
         "Rwanda",
         "Africa",
         "Eastern Africa",
         12952218,
         26338
        ],
        [
         "Benin",
         "Africa",
         "Western Africa",
         12123200,
         114763
        ],
        [
         "Burundi",
         "Africa",
         "Eastern Africa",
         11890784,
         27834
        ],
        [
         "Tunisia",
         "Africa",
         "Northern Africa",
         11818619,
         163610
        ],
        [
         "South Sudan",
         "Africa",
         "Eastern Africa",
         11193725,
         644329
        ],
        [
         "Togo",
         "Africa",
         "Western Africa",
         8278724,
         56785
        ],
        [
         "Sierra Leone",
         "Africa",
         "Western Africa",
         7976983,
         71740
        ],
        [
         "Libya",
         "Africa",
         "Northern Africa",
         6871292,
         1759540
        ],
        [
         "Congo, Republic of the",
         "Africa",
         "Middle Africa",
         5518087,
         342000
        ],
        [
         "Liberia",
         "Africa",
         "Western Africa",
         5073296,
         111369
        ],
        [
         "Central African Republic",
         "Africa",
         "Middle Africa",
         4829767,
         622984
        ],
        [
         "Mauritania",
         "Africa",
         "Western Africa",
         4649658,
         1030700
        ],
        [
         "Eritrea",
         "Africa",
         "Eastern Africa",
         3546421,
         117600
        ],
        [
         "Namibia",
         "Africa",
         "Southern Africa",
         2540905,
         824292
        ],
        [
         "Gambia",
         "Africa",
         "Western Africa",
         2416668,
         11295
        ],
        [
         "Botswana",
         "Africa",
         "Southern Africa",
         2351627,
         581730
        ],
        [
         "Gabon",
         "Africa",
         "Middle Africa",
         2225728,
         267668
        ],
        [
         "Lesotho",
         "Africa",
         "Southern Africa",
         2142249,
         30355
        ],
        [
         "Guinea-Bissau",
         "Africa",
         "Western Africa",
         1968001,
         36125
        ],
        [
         "Equatorial Guinea",
         "Africa",
         "Middle Africa",
         1402985,
         28051
        ],
        [
         "Mauritius",
         "Africa",
         "Eastern Africa",
         1271768,
         2040
        ],
        [
         "Eswatini",
         "Africa",
         "Southern Africa",
         1160164,
         17364
        ],
        [
         "Djibouti",
         "Africa",
         "Eastern Africa",
         988000,
         23200
        ],
        [
         "Comoros",
         "Africa",
         "Eastern Africa",
         869601,
         1862
        ],
        [
         "Cabo Verde",
         "Africa",
         "Western Africa",
         555987,
         4033
        ],
        [
         "Sao Tome and Principe",
         "Africa",
         "Middle Africa",
         219159,
         964
        ],
        [
         "Seychelles",
         "Africa",
         "Eastern Africa",
         98347,
         455
        ],
        [
         "China",
         "Asia",
         "Eastern Asia",
         1439323776,
         9596961
        ],
        [
         "India",
         "Asia",
         "Southern Asia",
         1380004385,
         3287263
        ],
        [
         "Indonesia",
         "Asia",
         "South-Eastern Asia",
         273523615,
         1904569
        ],
        [
         "Pakistan",
         "Asia",
         "Southern Asia",
         220892340,
         881913
        ],
        [
         "Bangladesh",
         "Asia",
         "Southern Asia",
         164689383,
         147570
        ],
        [
         "Japan",
         "Asia",
         "Eastern Asia",
         126476461,
         377975
        ],
        [
         "Philippines",
         "Asia",
         "South-Eastern Asia",
         109581078,
         300000
        ],
        [
         "Vietnam",
         "Asia",
         "South-Eastern Asia",
         97338579,
         331212
        ],
        [
         "Turkey",
         "Asia",
         "Western Asia",
         84339067,
         783562
        ],
        [
         "Iran",
         "Asia",
         "Southern Asia",
         83992949,
         1648195
        ],
        [
         "Thailand",
         "Asia",
         "South-Eastern Asia",
         69799978,
         513120
        ],
        [
         "Myanmar",
         "Asia",
         "South-Eastern Asia",
         54409800,
         676578
        ],
        [
         "South Korea",
         "Asia",
         "Eastern Asia",
         51269185,
         100210
        ],
        [
         "Iraq",
         "Asia",
         "Western Asia",
         40222493,
         438317
        ],
        [
         "Afghanistan",
         "Asia",
         "Southern Asia",
         38928346,
         652230
        ],
        [
         "Saudi Arabia",
         "Asia",
         "Western Asia",
         34813871,
         2149690
        ],
        [
         "Uzbekistan",
         "Asia",
         "Central Asia",
         33469203,
         447400
        ],
        [
         "Malaysia",
         "Asia",
         "South-Eastern Asia",
         32365999,
         330803
        ],
        [
         "Yemen",
         "Asia",
         "Western Asia",
         29825964,
         527968
        ],
        [
         "Nepal",
         "Asia",
         "Southern Asia",
         29136808,
         147181
        ],
        [
         "North Korea",
         "Asia",
         "Eastern Asia",
         25778816,
         120538
        ],
        [
         "Sri Lanka",
         "Asia",
         "Southern Asia",
         21413249,
         65610
        ],
        [
         "Kazakhstan",
         "Asia",
         "Central Asia",
         18776707,
         2724900
        ],
        [
         "Syria",
         "Asia",
         "Western Asia",
         17500657,
         185180
        ],
        [
         "Cambodia",
         "Asia",
         "South-Eastern Asia",
         16718965,
         181035
        ],
        [
         "Jordan",
         "Asia",
         "Western Asia",
         10203134,
         89342
        ],
        [
         "Azerbaijan",
         "Asia",
         "Western Asia",
         10139177,
         86600
        ],
        [
         "United Arab Emirates",
         "Asia",
         "Western Asia",
         9890400,
         83600
        ],
        [
         "Tajikistan",
         "Asia",
         "Central Asia",
         9537645,
         143100
        ],
        [
         "Israel",
         "Asia",
         "Western Asia",
         9053300,
         20770
        ],
        [
         "Laos",
         "Asia",
         "South-Eastern Asia",
         7275560,
         236800
        ],
        [
         "Lebanon",
         "Asia",
         "Western Asia",
         6825445,
         10452
        ],
        [
         "Kyrgyzstan",
         "Asia",
         "Central Asia",
         6524195,
         199951
        ],
        [
         "Turkmenistan",
         "Asia",
         "Central Asia",
         6031200,
         488100
        ],
        [
         "Singapore",
         "Asia",
         "South-Eastern Asia",
         5850342,
         719
        ],
        [
         "Oman",
         "Asia",
         "Western Asia",
         5106626,
         309500
        ],
        [
         "Palestine, State of",
         "Asia",
         "Western Asia",
         5101414,
         6020
        ],
        [
         "Kuwait",
         "Asia",
         "Western Asia",
         4270571,
         17818
        ],
        [
         "Georgia",
         "Asia",
         "Western Asia",
         3989167,
         69700
        ],
        [
         "Mongolia",
         "Asia",
         "Eastern Asia",
         3278290,
         1564110
        ],
        [
         "Armenia",
         "Asia",
         "Western Asia",
         2963243,
         29743
        ],
        [
         "Qatar",
         "Asia",
         "Western Asia",
         2881053,
         11586
        ],
        [
         "Bahrain",
         "Asia",
         "Western Asia",
         1701575,
         765
        ],
        [
         "Timor-Leste",
         "Asia",
         "South-Eastern Asia",
         1318445,
         14874
        ],
        [
         "Bhutan",
         "Asia",
         "Southern Asia",
         771608,
         38394
        ],
        [
         "Maldives",
         "Asia",
         "Southern Asia",
         540544,
         300
        ],
        [
         "Brunei",
         "Asia",
         "South-Eastern Asia",
         437479,
         5765
        ],
        [
         "Russia",
         "Europe",
         "Eastern Europe",
         144478050,
         17098242
        ],
        [
         "Germany",
         "Europe",
         "Western Europe",
         83783942,
         357022
        ],
        [
         "United Kingdom",
         "Europe",
         "Northern Europe",
         67886011,
         243610
        ],
        [
         "France",
         "Europe",
         "Western Europe",
         65273511,
         551695
        ],
        [
         "Italy",
         "Europe",
         "Southern Europe",
         60461826,
         301340
        ],
        [
         "Spain",
         "Europe",
         "Southern Europe",
         46754778,
         505992
        ],
        [
         "Ukraine",
         "Europe",
         "Eastern Europe",
         43733762,
         603628
        ],
        [
         "Poland",
         "Europe",
         "Eastern Europe",
         37846611,
         312696
        ],
        [
         "Romania",
         "Europe",
         "Eastern Europe",
         19237691,
         238391
        ],
        [
         "Netherlands",
         "Europe",
         "Western Europe",
         17134872,
         41543
        ],
        [
         "Belgium",
         "Europe",
         "Western Europe",
         11589623,
         30528
        ],
        [
         "Czech Republic",
         "Europe",
         "Eastern Europe",
         10708981,
         78866
        ],
        [
         "Greece",
         "Europe",
         "Southern Europe",
         10423054,
         131957
        ],
        [
         "Portugal",
         "Europe",
         "Southern Europe",
         10196709,
         92090
        ],
        [
         "Sweden",
         "Europe",
         "Northern Europe",
         10099265,
         450295
        ],
        [
         "Hungary",
         "Europe",
         "Eastern Europe",
         9660351,
         93030
        ],
        [
         "Belarus",
         "Europe",
         "Eastern Europe",
         9449323,
         207600
        ],
        [
         "Austria",
         "Europe",
         "Western Europe",
         9006398,
         83879
        ],
        [
         "Switzerland",
         "Europe",
         "Western Europe",
         8654622,
         41285
        ],
        [
         "Bulgaria",
         "Europe",
         "Eastern Europe",
         6948445,
         110994
        ],
        [
         "Serbia",
         "Europe",
         "Southern Europe",
         6944975,
         88361
        ],
        [
         "Denmark",
         "Europe",
         "Northern Europe",
         5792202,
         42933
        ],
        [
         "Finland",
         "Europe",
         "Northern Europe",
         5540720,
         338424
        ],
        [
         "Slovakia",
         "Europe",
         "Eastern Europe",
         5459642,
         49037
        ],
        [
         "Norway",
         "Europe",
         "Northern Europe",
         5421241,
         385207
        ],
        [
         "Ireland",
         "Europe",
         "Northern Europe",
         4937786,
         70273
        ],
        [
         "Croatia",
         "Europe",
         "Southern Europe",
         4105267,
         56594
        ],
        [
         "Bosnia and Herzegovina",
         "Europe",
         "Southern Europe",
         3280819,
         51129
        ],
        [
         "Albania",
         "Europe",
         "Southern Europe",
         2877797,
         28748
        ],
        [
         "Lithuania",
         "Europe",
         "Northern Europe",
         2722289,
         65300
        ],
        [
         "Moldova",
         "Europe",
         "Eastern Europe",
         2640438,
         33851
        ],
        [
         "North Macedonia",
         "Europe",
         "Southern Europe",
         2083374,
         25713
        ],
        [
         "Slovenia",
         "Europe",
         "Southern Europe",
         2078938,
         20273
        ],
        [
         "Latvia",
         "Europe",
         "Northern Europe",
         1886198,
         64559
        ],
        [
         "Estonia",
         "Europe",
         "Northern Europe",
         1331796,
         45227
        ],
        [
         "Cyprus",
         "Europe",
         "Western Asia",
         1207359,
         9251
        ],
        [
         "Luxembourg",
         "Europe",
         "Western Europe",
         634814,
         2586
        ],
        [
         "Montenegro",
         "Europe",
         "Southern Europe",
         622359,
         13812
        ],
        [
         "Malta",
         "Europe",
         "Southern Europe",
         441543,
         316
        ],
        [
         "Iceland",
         "Europe",
         "Northern Europe",
         341243,
         103000
        ],
        [
         "Andorra",
         "Europe",
         "Southern Europe",
         77265,
         468
        ],
        [
         "Monaco",
         "Europe",
         "Western Europe",
         39242,
         2
        ],
        [
         "Liechtenstein",
         "Europe",
         "Western Europe",
         38128,
         160
        ],
        [
         "San Marino",
         "Europe",
         "Southern Europe",
         33938,
         61
        ],
        [
         "Holy See",
         "Europe",
         "Southern Europe",
         801,
         0
        ],
        [
         "United States",
         "North America",
         "Northern America",
         331002651,
         9833520
        ],
        [
         "Mexico",
         "North America",
         "Central America",
         128932753,
         1964375
        ],
        [
         "Canada",
         "North America",
         "Northern America",
         37742154,
         9984670
        ],
        [
         "Guatemala",
         "North America",
         "Central America",
         17915568,
         108889
        ],
        [
         "Haiti",
         "North America",
         "Caribbean",
         11402528,
         27750
        ],
        [
         "Cuba",
         "North America",
         "Caribbean",
         11326616,
         109884
        ],
        [
         "Dominican Republic",
         "North America",
         "Caribbean",
         10847910,
         48671
        ],
        [
         "Honduras",
         "North America",
         "Central America",
         9904607,
         112492
        ],
        [
         "Nicaragua",
         "North America",
         "Central America",
         6624554,
         130373
        ],
        [
         "El Salvador",
         "North America",
         "Central America",
         6486205,
         21041
        ],
        [
         "Costa Rica",
         "North America",
         "Central America",
         5094118,
         51100
        ],
        [
         "Panama",
         "North America",
         "Central America",
         4314767,
         75417
        ],
        [
         "Jamaica",
         "North America",
         "Caribbean",
         2961167,
         10991
        ],
        [
         "Trinidad and Tobago",
         "North America",
         "Caribbean",
         1399488,
         5130
        ],
        [
         "Belize",
         "North America",
         "Central America",
         397621,
         22966
        ],
        [
         "Bahamas",
         "North America",
         "Caribbean",
         393244,
         13943
        ],
        [
         "Barbados",
         "North America",
         "Caribbean",
         287375,
         430
        ],
        [
         "Saint Lucia",
         "North America",
         "Caribbean",
         183627,
         616
        ],
        [
         "Grenada",
         "North America",
         "Caribbean",
         112523,
         344
        ],
        [
         "Saint Vincent and the Grenadines",
         "North America",
         "Caribbean",
         110940,
         389
        ],
        [
         "Antigua and Barbuda",
         "North America",
         "Caribbean",
         97929,
         442
        ],
        [
         "Dominica",
         "North America",
         "Caribbean",
         71986,
         751
        ],
        [
         "Saint Kitts and Nevis",
         "North America",
         "Caribbean",
         53192,
         261
        ],
        [
         "Australia",
         "Oceania",
         "Australia and New Zealand",
         25649984,
         7692024
        ],
        [
         "Papua New Guinea",
         "Oceania",
         "Melanesia",
         8947024,
         462840
        ],
        [
         "New Zealand",
         "Oceania",
         "Australia and New Zealand",
         5084300,
         268838
        ],
        [
         "Fiji",
         "Oceania",
         "Melanesia",
         896444,
         18274
        ],
        [
         "Solomon Islands",
         "Oceania",
         "Melanesia",
         686884,
         28896
        ],
        [
         "Vanuatu",
         "Oceania",
         "Melanesia",
         307145,
         12189
        ],
        [
         "Samoa",
         "Oceania",
         "Polynesia",
         198414,
         2842
        ],
        [
         "Kiribati",
         "Oceania",
         "Micronesia",
         119449,
         811
        ],
        [
         "Micronesia",
         "Oceania",
         "Micronesia",
         115023,
         702
        ],
        [
         "Tonga",
         "Oceania",
         "Polynesia",
         105695,
         747
        ],
        [
         "Marshall Islands",
         "Oceania",
         "Micronesia",
         59190,
         181
        ],
        [
         "Palau",
         "Oceania",
         "Micronesia",
         18094,
         459
        ],
        [
         "Tuvalu",
         "Oceania",
         "Polynesia",
         11792,
         26
        ],
        [
         "Nauru",
         "Oceania",
         "Micronesia",
         10824,
         21
        ],
        [
         "Brazil",
         "South America",
         "South America",
         212559417,
         8515767
        ],
        [
         "Colombia",
         "South America",
         "South America",
         50882891,
         1141748
        ],
        [
         "Argentina",
         "South America",
         "South America",
         45376763,
         2780400
        ],
        [
         "Peru",
         "South America",
         "South America",
         32971854,
         1285216
        ],
        [
         "Venezuela",
         "South America",
         "South America",
         28435940,
         916445
        ],
        [
         "Chile",
         "South America",
         "South America",
         19116201,
         756102
        ],
        [
         "Ecuador",
         "South America",
         "South America",
         17643054,
         283561
        ],
        [
         "Bolivia",
         "South America",
         "South America",
         11673021,
         1098581
        ],
        [
         "Paraguay",
         "South America",
         "South America",
         7132538,
         406752
        ],
        [
         "Uruguay",
         "South America",
         "South America",
         3473730,
         176215
        ],
        [
         "Guyana",
         "South America",
         "South America",
         786552,
         214969
        ],
        [
         "Suriname",
         "South America",
         "South America",
         586634,
         163820
        ]
       ],
       "datasetInfos": [],
       "dbfsResultPath": null,
       "isJsonSchema": true,
       "metadata": {},
       "overflow": false,
       "plotOptions": {
        "customPlotOptions": {},
        "displayType": "table",
        "pivotAggregation": null,
        "pivotColumns": null,
        "xColumns": null,
        "yColumns": null
       },
       "removedWidgets": [],
       "schema": [
        {
         "metadata": "{}",
         "name": "country_name",
         "type": "\"string\""
        },
        {
         "metadata": "{}",
         "name": "continent",
         "type": "\"string\""
        },
        {
         "metadata": "{}",
         "name": "sub_region",
         "type": "\"string\""
        },
        {
         "metadata": "{}",
         "name": "population",
         "type": "\"long\""
        },
        {
         "metadata": "{}",
         "name": "area_km2",
         "type": "\"integer\""
        }
       ],
       "type": "table"
      }
     },
     "output_type": "display_data"
    }
   ],
   "source": [
    "# Sorting by continent in ascending order and population in descending order\n",
    "df.sort(df.continent.asc(), df.population.desc()).display()"
   ]
  },
  {
   "cell_type": "code",
   "execution_count": 0,
   "metadata": {
    "application/vnd.databricks.v1+cell": {
     "cellMetadata": {
      "byteLimit": 2048000,
      "rowLimit": 10000
     },
     "inputWidgets": {},
     "nuid": "4d8233b8-2b1d-4782-992e-1db014e4d543",
     "showTitle": false,
     "tableResultSettingsMap": {},
     "title": ""
    }
   },
   "outputs": [
    {
     "output_type": "display_data",
     "data": {
      "text/html": [
       "<style scoped>\n",
       "  .table-result-container {\n",
       "    max-height: 300px;\n",
       "    overflow: auto;\n",
       "  }\n",
       "  table, th, td {\n",
       "    border: 1px solid black;\n",
       "    border-collapse: collapse;\n",
       "  }\n",
       "  th, td {\n",
       "    padding: 5px;\n",
       "  }\n",
       "  th {\n",
       "    text-align: left;\n",
       "  }\n",
       "</style><div class='table-result-container'><table class='table-result'><thead style='background-color: white'><tr><th>country_name</th><th>continent</th><th>sub_region</th><th>population</th><th>area_km2</th></tr></thead><tbody><tr><td>Nigeria</td><td>Africa</td><td>Western Africa</td><td>206139589</td><td>923768</td></tr><tr><td>Ethiopia</td><td>Africa</td><td>Eastern Africa</td><td>114963588</td><td>1104300</td></tr><tr><td>Egypt</td><td>Africa</td><td>Northern Africa</td><td>102334404</td><td>1002450</td></tr><tr><td>Congo, Democratic Republic of the</td><td>Africa</td><td>Middle Africa</td><td>89561403</td><td>2344858</td></tr><tr><td>Tanzania</td><td>Africa</td><td>Eastern Africa</td><td>59734218</td><td>945087</td></tr><tr><td>South Africa</td><td>Africa</td><td>Southern Africa</td><td>59308690</td><td>1221037</td></tr><tr><td>Kenya</td><td>Africa</td><td>Eastern Africa</td><td>53771296</td><td>580367</td></tr><tr><td>Uganda</td><td>Africa</td><td>Eastern Africa</td><td>45741007</td><td>241550</td></tr><tr><td>Algeria</td><td>Africa</td><td>Northern Africa</td><td>43851044</td><td>2381741</td></tr><tr><td>Sudan</td><td>Africa</td><td>Northern Africa</td><td>43849260</td><td>1861484</td></tr><tr><td>Morocco</td><td>Africa</td><td>Northern Africa</td><td>36910560</td><td>446550</td></tr><tr><td>Angola</td><td>Africa</td><td>Middle Africa</td><td>32866272</td><td>1246700</td></tr><tr><td>Mozambique</td><td>Africa</td><td>Eastern Africa</td><td>31255435</td><td>801590</td></tr><tr><td>Ghana</td><td>Africa</td><td>Western Africa</td><td>31072940</td><td>238533</td></tr><tr><td>Madagascar</td><td>Africa</td><td>Eastern Africa</td><td>27691018</td><td>587041</td></tr><tr><td>Cameroon</td><td>Africa</td><td>Middle Africa</td><td>26545863</td><td>475442</td></tr><tr><td>Côte d'Ivoire</td><td>Africa</td><td>Western Africa</td><td>26378274</td><td>322463</td></tr><tr><td>Niger</td><td>Africa</td><td>Western Africa</td><td>24206644</td><td>1267000</td></tr><tr><td>Burkina Faso</td><td>Africa</td><td>Western Africa</td><td>20903273</td><td>274200</td></tr><tr><td>Mali</td><td>Africa</td><td>Western Africa</td><td>20250833</td><td>1240192</td></tr><tr><td>Malawi</td><td>Africa</td><td>Eastern Africa</td><td>19129952</td><td>118484</td></tr><tr><td>Zambia</td><td>Africa</td><td>Eastern Africa</td><td>18383955</td><td>752612</td></tr><tr><td>Senegal</td><td>Africa</td><td>Western Africa</td><td>16743927</td><td>196722</td></tr><tr><td>Chad</td><td>Africa</td><td>Middle Africa</td><td>16425864</td><td>1284000</td></tr><tr><td>Somalia</td><td>Africa</td><td>Eastern Africa</td><td>15893222</td><td>637657</td></tr><tr><td>Zimbabwe</td><td>Africa</td><td>Eastern Africa</td><td>14862924</td><td>390757</td></tr><tr><td>Guinea</td><td>Africa</td><td>Western Africa</td><td>13132795</td><td>245857</td></tr><tr><td>Rwanda</td><td>Africa</td><td>Eastern Africa</td><td>12952218</td><td>26338</td></tr><tr><td>Benin</td><td>Africa</td><td>Western Africa</td><td>12123200</td><td>114763</td></tr><tr><td>Burundi</td><td>Africa</td><td>Eastern Africa</td><td>11890784</td><td>27834</td></tr><tr><td>Tunisia</td><td>Africa</td><td>Northern Africa</td><td>11818619</td><td>163610</td></tr><tr><td>South Sudan</td><td>Africa</td><td>Eastern Africa</td><td>11193725</td><td>644329</td></tr><tr><td>Togo</td><td>Africa</td><td>Western Africa</td><td>8278724</td><td>56785</td></tr><tr><td>Sierra Leone</td><td>Africa</td><td>Western Africa</td><td>7976983</td><td>71740</td></tr><tr><td>Libya</td><td>Africa</td><td>Northern Africa</td><td>6871292</td><td>1759540</td></tr><tr><td>Congo, Republic of the</td><td>Africa</td><td>Middle Africa</td><td>5518087</td><td>342000</td></tr><tr><td>Liberia</td><td>Africa</td><td>Western Africa</td><td>5073296</td><td>111369</td></tr><tr><td>Central African Republic</td><td>Africa</td><td>Middle Africa</td><td>4829767</td><td>622984</td></tr><tr><td>Mauritania</td><td>Africa</td><td>Western Africa</td><td>4649658</td><td>1030700</td></tr><tr><td>Eritrea</td><td>Africa</td><td>Eastern Africa</td><td>3546421</td><td>117600</td></tr><tr><td>Namibia</td><td>Africa</td><td>Southern Africa</td><td>2540905</td><td>824292</td></tr><tr><td>Gambia</td><td>Africa</td><td>Western Africa</td><td>2416668</td><td>11295</td></tr><tr><td>Botswana</td><td>Africa</td><td>Southern Africa</td><td>2351627</td><td>581730</td></tr><tr><td>Gabon</td><td>Africa</td><td>Middle Africa</td><td>2225728</td><td>267668</td></tr><tr><td>Lesotho</td><td>Africa</td><td>Southern Africa</td><td>2142249</td><td>30355</td></tr><tr><td>Guinea-Bissau</td><td>Africa</td><td>Western Africa</td><td>1968001</td><td>36125</td></tr><tr><td>Equatorial Guinea</td><td>Africa</td><td>Middle Africa</td><td>1402985</td><td>28051</td></tr><tr><td>Mauritius</td><td>Africa</td><td>Eastern Africa</td><td>1271768</td><td>2040</td></tr><tr><td>Eswatini</td><td>Africa</td><td>Southern Africa</td><td>1160164</td><td>17364</td></tr><tr><td>Djibouti</td><td>Africa</td><td>Eastern Africa</td><td>988000</td><td>23200</td></tr><tr><td>Comoros</td><td>Africa</td><td>Eastern Africa</td><td>869601</td><td>1862</td></tr><tr><td>Cabo Verde</td><td>Africa</td><td>Western Africa</td><td>555987</td><td>4033</td></tr><tr><td>Sao Tome and Principe</td><td>Africa</td><td>Middle Africa</td><td>219159</td><td>964</td></tr><tr><td>Seychelles</td><td>Africa</td><td>Eastern Africa</td><td>98347</td><td>455</td></tr><tr><td>China</td><td>Asia</td><td>Eastern Asia</td><td>1439323776</td><td>9596961</td></tr><tr><td>India</td><td>Asia</td><td>Southern Asia</td><td>1380004385</td><td>3287263</td></tr><tr><td>Indonesia</td><td>Asia</td><td>South-Eastern Asia</td><td>273523615</td><td>1904569</td></tr><tr><td>Pakistan</td><td>Asia</td><td>Southern Asia</td><td>220892340</td><td>881913</td></tr><tr><td>Bangladesh</td><td>Asia</td><td>Southern Asia</td><td>164689383</td><td>147570</td></tr><tr><td>Japan</td><td>Asia</td><td>Eastern Asia</td><td>126476461</td><td>377975</td></tr><tr><td>Philippines</td><td>Asia</td><td>South-Eastern Asia</td><td>109581078</td><td>300000</td></tr><tr><td>Vietnam</td><td>Asia</td><td>South-Eastern Asia</td><td>97338579</td><td>331212</td></tr><tr><td>Turkey</td><td>Asia</td><td>Western Asia</td><td>84339067</td><td>783562</td></tr><tr><td>Iran</td><td>Asia</td><td>Southern Asia</td><td>83992949</td><td>1648195</td></tr><tr><td>Thailand</td><td>Asia</td><td>South-Eastern Asia</td><td>69799978</td><td>513120</td></tr><tr><td>Myanmar</td><td>Asia</td><td>South-Eastern Asia</td><td>54409800</td><td>676578</td></tr><tr><td>South Korea</td><td>Asia</td><td>Eastern Asia</td><td>51269185</td><td>100210</td></tr><tr><td>Iraq</td><td>Asia</td><td>Western Asia</td><td>40222493</td><td>438317</td></tr><tr><td>Afghanistan</td><td>Asia</td><td>Southern Asia</td><td>38928346</td><td>652230</td></tr><tr><td>Saudi Arabia</td><td>Asia</td><td>Western Asia</td><td>34813871</td><td>2149690</td></tr><tr><td>Uzbekistan</td><td>Asia</td><td>Central Asia</td><td>33469203</td><td>447400</td></tr><tr><td>Malaysia</td><td>Asia</td><td>South-Eastern Asia</td><td>32365999</td><td>330803</td></tr><tr><td>Yemen</td><td>Asia</td><td>Western Asia</td><td>29825964</td><td>527968</td></tr><tr><td>Nepal</td><td>Asia</td><td>Southern Asia</td><td>29136808</td><td>147181</td></tr><tr><td>North Korea</td><td>Asia</td><td>Eastern Asia</td><td>25778816</td><td>120538</td></tr><tr><td>Sri Lanka</td><td>Asia</td><td>Southern Asia</td><td>21413249</td><td>65610</td></tr><tr><td>Kazakhstan</td><td>Asia</td><td>Central Asia</td><td>18776707</td><td>2724900</td></tr><tr><td>Syria</td><td>Asia</td><td>Western Asia</td><td>17500657</td><td>185180</td></tr><tr><td>Cambodia</td><td>Asia</td><td>South-Eastern Asia</td><td>16718965</td><td>181035</td></tr><tr><td>Jordan</td><td>Asia</td><td>Western Asia</td><td>10203134</td><td>89342</td></tr><tr><td>Azerbaijan</td><td>Asia</td><td>Western Asia</td><td>10139177</td><td>86600</td></tr><tr><td>United Arab Emirates</td><td>Asia</td><td>Western Asia</td><td>9890400</td><td>83600</td></tr><tr><td>Tajikistan</td><td>Asia</td><td>Central Asia</td><td>9537645</td><td>143100</td></tr><tr><td>Israel</td><td>Asia</td><td>Western Asia</td><td>9053300</td><td>20770</td></tr><tr><td>Laos</td><td>Asia</td><td>South-Eastern Asia</td><td>7275560</td><td>236800</td></tr><tr><td>Lebanon</td><td>Asia</td><td>Western Asia</td><td>6825445</td><td>10452</td></tr><tr><td>Kyrgyzstan</td><td>Asia</td><td>Central Asia</td><td>6524195</td><td>199951</td></tr><tr><td>Turkmenistan</td><td>Asia</td><td>Central Asia</td><td>6031200</td><td>488100</td></tr><tr><td>Singapore</td><td>Asia</td><td>South-Eastern Asia</td><td>5850342</td><td>719</td></tr><tr><td>Oman</td><td>Asia</td><td>Western Asia</td><td>5106626</td><td>309500</td></tr><tr><td>Palestine, State of</td><td>Asia</td><td>Western Asia</td><td>5101414</td><td>6020</td></tr><tr><td>Kuwait</td><td>Asia</td><td>Western Asia</td><td>4270571</td><td>17818</td></tr><tr><td>Georgia</td><td>Asia</td><td>Western Asia</td><td>3989167</td><td>69700</td></tr><tr><td>Mongolia</td><td>Asia</td><td>Eastern Asia</td><td>3278290</td><td>1564110</td></tr><tr><td>Armenia</td><td>Asia</td><td>Western Asia</td><td>2963243</td><td>29743</td></tr><tr><td>Qatar</td><td>Asia</td><td>Western Asia</td><td>2881053</td><td>11586</td></tr><tr><td>Bahrain</td><td>Asia</td><td>Western Asia</td><td>1701575</td><td>765</td></tr><tr><td>Timor-Leste</td><td>Asia</td><td>South-Eastern Asia</td><td>1318445</td><td>14874</td></tr><tr><td>Bhutan</td><td>Asia</td><td>Southern Asia</td><td>771608</td><td>38394</td></tr><tr><td>Maldives</td><td>Asia</td><td>Southern Asia</td><td>540544</td><td>300</td></tr><tr><td>Brunei</td><td>Asia</td><td>South-Eastern Asia</td><td>437479</td><td>5765</td></tr><tr><td>Russia</td><td>Europe</td><td>Eastern Europe</td><td>144478050</td><td>17098242</td></tr><tr><td>Germany</td><td>Europe</td><td>Western Europe</td><td>83783942</td><td>357022</td></tr><tr><td>United Kingdom</td><td>Europe</td><td>Northern Europe</td><td>67886011</td><td>243610</td></tr><tr><td>France</td><td>Europe</td><td>Western Europe</td><td>65273511</td><td>551695</td></tr><tr><td>Italy</td><td>Europe</td><td>Southern Europe</td><td>60461826</td><td>301340</td></tr><tr><td>Spain</td><td>Europe</td><td>Southern Europe</td><td>46754778</td><td>505992</td></tr><tr><td>Ukraine</td><td>Europe</td><td>Eastern Europe</td><td>43733762</td><td>603628</td></tr><tr><td>Poland</td><td>Europe</td><td>Eastern Europe</td><td>37846611</td><td>312696</td></tr><tr><td>Romania</td><td>Europe</td><td>Eastern Europe</td><td>19237691</td><td>238391</td></tr><tr><td>Netherlands</td><td>Europe</td><td>Western Europe</td><td>17134872</td><td>41543</td></tr><tr><td>Belgium</td><td>Europe</td><td>Western Europe</td><td>11589623</td><td>30528</td></tr><tr><td>Czech Republic</td><td>Europe</td><td>Eastern Europe</td><td>10708981</td><td>78866</td></tr><tr><td>Greece</td><td>Europe</td><td>Southern Europe</td><td>10423054</td><td>131957</td></tr><tr><td>Portugal</td><td>Europe</td><td>Southern Europe</td><td>10196709</td><td>92090</td></tr><tr><td>Sweden</td><td>Europe</td><td>Northern Europe</td><td>10099265</td><td>450295</td></tr><tr><td>Hungary</td><td>Europe</td><td>Eastern Europe</td><td>9660351</td><td>93030</td></tr><tr><td>Belarus</td><td>Europe</td><td>Eastern Europe</td><td>9449323</td><td>207600</td></tr><tr><td>Austria</td><td>Europe</td><td>Western Europe</td><td>9006398</td><td>83879</td></tr><tr><td>Switzerland</td><td>Europe</td><td>Western Europe</td><td>8654622</td><td>41285</td></tr><tr><td>Bulgaria</td><td>Europe</td><td>Eastern Europe</td><td>6948445</td><td>110994</td></tr><tr><td>Serbia</td><td>Europe</td><td>Southern Europe</td><td>6944975</td><td>88361</td></tr><tr><td>Denmark</td><td>Europe</td><td>Northern Europe</td><td>5792202</td><td>42933</td></tr><tr><td>Finland</td><td>Europe</td><td>Northern Europe</td><td>5540720</td><td>338424</td></tr><tr><td>Slovakia</td><td>Europe</td><td>Eastern Europe</td><td>5459642</td><td>49037</td></tr><tr><td>Norway</td><td>Europe</td><td>Northern Europe</td><td>5421241</td><td>385207</td></tr><tr><td>Ireland</td><td>Europe</td><td>Northern Europe</td><td>4937786</td><td>70273</td></tr><tr><td>Croatia</td><td>Europe</td><td>Southern Europe</td><td>4105267</td><td>56594</td></tr><tr><td>Bosnia and Herzegovina</td><td>Europe</td><td>Southern Europe</td><td>3280819</td><td>51129</td></tr><tr><td>Albania</td><td>Europe</td><td>Southern Europe</td><td>2877797</td><td>28748</td></tr><tr><td>Lithuania</td><td>Europe</td><td>Northern Europe</td><td>2722289</td><td>65300</td></tr><tr><td>Moldova</td><td>Europe</td><td>Eastern Europe</td><td>2640438</td><td>33851</td></tr><tr><td>North Macedonia</td><td>Europe</td><td>Southern Europe</td><td>2083374</td><td>25713</td></tr><tr><td>Slovenia</td><td>Europe</td><td>Southern Europe</td><td>2078938</td><td>20273</td></tr><tr><td>Latvia</td><td>Europe</td><td>Northern Europe</td><td>1886198</td><td>64559</td></tr><tr><td>Estonia</td><td>Europe</td><td>Northern Europe</td><td>1331796</td><td>45227</td></tr><tr><td>Cyprus</td><td>Europe</td><td>Western Asia</td><td>1207359</td><td>9251</td></tr><tr><td>Luxembourg</td><td>Europe</td><td>Western Europe</td><td>634814</td><td>2586</td></tr><tr><td>Montenegro</td><td>Europe</td><td>Southern Europe</td><td>622359</td><td>13812</td></tr><tr><td>Malta</td><td>Europe</td><td>Southern Europe</td><td>441543</td><td>316</td></tr><tr><td>Iceland</td><td>Europe</td><td>Northern Europe</td><td>341243</td><td>103000</td></tr><tr><td>Andorra</td><td>Europe</td><td>Southern Europe</td><td>77265</td><td>468</td></tr><tr><td>Monaco</td><td>Europe</td><td>Western Europe</td><td>39242</td><td>2</td></tr><tr><td>Liechtenstein</td><td>Europe</td><td>Western Europe</td><td>38128</td><td>160</td></tr><tr><td>San Marino</td><td>Europe</td><td>Southern Europe</td><td>33938</td><td>61</td></tr><tr><td>Holy See</td><td>Europe</td><td>Southern Europe</td><td>801</td><td>0</td></tr><tr><td>United States</td><td>North America</td><td>Northern America</td><td>331002651</td><td>9833520</td></tr><tr><td>Mexico</td><td>North America</td><td>Central America</td><td>128932753</td><td>1964375</td></tr><tr><td>Canada</td><td>North America</td><td>Northern America</td><td>37742154</td><td>9984670</td></tr><tr><td>Guatemala</td><td>North America</td><td>Central America</td><td>17915568</td><td>108889</td></tr><tr><td>Haiti</td><td>North America</td><td>Caribbean</td><td>11402528</td><td>27750</td></tr><tr><td>Cuba</td><td>North America</td><td>Caribbean</td><td>11326616</td><td>109884</td></tr><tr><td>Dominican Republic</td><td>North America</td><td>Caribbean</td><td>10847910</td><td>48671</td></tr><tr><td>Honduras</td><td>North America</td><td>Central America</td><td>9904607</td><td>112492</td></tr><tr><td>Nicaragua</td><td>North America</td><td>Central America</td><td>6624554</td><td>130373</td></tr><tr><td>El Salvador</td><td>North America</td><td>Central America</td><td>6486205</td><td>21041</td></tr><tr><td>Costa Rica</td><td>North America</td><td>Central America</td><td>5094118</td><td>51100</td></tr><tr><td>Panama</td><td>North America</td><td>Central America</td><td>4314767</td><td>75417</td></tr><tr><td>Jamaica</td><td>North America</td><td>Caribbean</td><td>2961167</td><td>10991</td></tr><tr><td>Trinidad and Tobago</td><td>North America</td><td>Caribbean</td><td>1399488</td><td>5130</td></tr><tr><td>Belize</td><td>North America</td><td>Central America</td><td>397621</td><td>22966</td></tr><tr><td>Bahamas</td><td>North America</td><td>Caribbean</td><td>393244</td><td>13943</td></tr><tr><td>Barbados</td><td>North America</td><td>Caribbean</td><td>287375</td><td>430</td></tr><tr><td>Saint Lucia</td><td>North America</td><td>Caribbean</td><td>183627</td><td>616</td></tr><tr><td>Grenada</td><td>North America</td><td>Caribbean</td><td>112523</td><td>344</td></tr><tr><td>Saint Vincent and the Grenadines</td><td>North America</td><td>Caribbean</td><td>110940</td><td>389</td></tr><tr><td>Antigua and Barbuda</td><td>North America</td><td>Caribbean</td><td>97929</td><td>442</td></tr><tr><td>Dominica</td><td>North America</td><td>Caribbean</td><td>71986</td><td>751</td></tr><tr><td>Saint Kitts and Nevis</td><td>North America</td><td>Caribbean</td><td>53192</td><td>261</td></tr><tr><td>Australia</td><td>Oceania</td><td>Australia and New Zealand</td><td>25649984</td><td>7692024</td></tr><tr><td>Papua New Guinea</td><td>Oceania</td><td>Melanesia</td><td>8947024</td><td>462840</td></tr><tr><td>New Zealand</td><td>Oceania</td><td>Australia and New Zealand</td><td>5084300</td><td>268838</td></tr><tr><td>Fiji</td><td>Oceania</td><td>Melanesia</td><td>896444</td><td>18274</td></tr><tr><td>Solomon Islands</td><td>Oceania</td><td>Melanesia</td><td>686884</td><td>28896</td></tr><tr><td>Vanuatu</td><td>Oceania</td><td>Melanesia</td><td>307145</td><td>12189</td></tr><tr><td>Samoa</td><td>Oceania</td><td>Polynesia</td><td>198414</td><td>2842</td></tr><tr><td>Kiribati</td><td>Oceania</td><td>Micronesia</td><td>119449</td><td>811</td></tr><tr><td>Micronesia</td><td>Oceania</td><td>Micronesia</td><td>115023</td><td>702</td></tr><tr><td>Tonga</td><td>Oceania</td><td>Polynesia</td><td>105695</td><td>747</td></tr><tr><td>Marshall Islands</td><td>Oceania</td><td>Micronesia</td><td>59190</td><td>181</td></tr><tr><td>Palau</td><td>Oceania</td><td>Micronesia</td><td>18094</td><td>459</td></tr><tr><td>Tuvalu</td><td>Oceania</td><td>Polynesia</td><td>11792</td><td>26</td></tr><tr><td>Nauru</td><td>Oceania</td><td>Micronesia</td><td>10824</td><td>21</td></tr><tr><td>Brazil</td><td>South America</td><td>South America</td><td>212559417</td><td>8515767</td></tr><tr><td>Colombia</td><td>South America</td><td>South America</td><td>50882891</td><td>1141748</td></tr><tr><td>Argentina</td><td>South America</td><td>South America</td><td>45376763</td><td>2780400</td></tr><tr><td>Peru</td><td>South America</td><td>South America</td><td>32971854</td><td>1285216</td></tr><tr><td>Venezuela</td><td>South America</td><td>South America</td><td>28435940</td><td>916445</td></tr><tr><td>Chile</td><td>South America</td><td>South America</td><td>19116201</td><td>756102</td></tr><tr><td>Ecuador</td><td>South America</td><td>South America</td><td>17643054</td><td>283561</td></tr><tr><td>Bolivia</td><td>South America</td><td>South America</td><td>11673021</td><td>1098581</td></tr><tr><td>Paraguay</td><td>South America</td><td>South America</td><td>7132538</td><td>406752</td></tr><tr><td>Uruguay</td><td>South America</td><td>South America</td><td>3473730</td><td>176215</td></tr><tr><td>Guyana</td><td>South America</td><td>South America</td><td>786552</td><td>214969</td></tr><tr><td>Suriname</td><td>South America</td><td>South America</td><td>586634</td><td>163820</td></tr></tbody></table></div>"
      ]
     },
     "metadata": {
      "application/vnd.databricks.v1+output": {
       "addedWidgets": {},
       "aggData": [],
       "aggError": "",
       "aggOverflow": false,
       "aggSchema": [],
       "aggSeriesLimitReached": false,
       "aggType": "",
       "arguments": {},
       "columnCustomDisplayInfos": {},
       "data": [
        [
         "Nigeria",
         "Africa",
         "Western Africa",
         206139589,
         923768
        ],
        [
         "Ethiopia",
         "Africa",
         "Eastern Africa",
         114963588,
         1104300
        ],
        [
         "Egypt",
         "Africa",
         "Northern Africa",
         102334404,
         1002450
        ],
        [
         "Congo, Democratic Republic of the",
         "Africa",
         "Middle Africa",
         89561403,
         2344858
        ],
        [
         "Tanzania",
         "Africa",
         "Eastern Africa",
         59734218,
         945087
        ],
        [
         "South Africa",
         "Africa",
         "Southern Africa",
         59308690,
         1221037
        ],
        [
         "Kenya",
         "Africa",
         "Eastern Africa",
         53771296,
         580367
        ],
        [
         "Uganda",
         "Africa",
         "Eastern Africa",
         45741007,
         241550
        ],
        [
         "Algeria",
         "Africa",
         "Northern Africa",
         43851044,
         2381741
        ],
        [
         "Sudan",
         "Africa",
         "Northern Africa",
         43849260,
         1861484
        ],
        [
         "Morocco",
         "Africa",
         "Northern Africa",
         36910560,
         446550
        ],
        [
         "Angola",
         "Africa",
         "Middle Africa",
         32866272,
         1246700
        ],
        [
         "Mozambique",
         "Africa",
         "Eastern Africa",
         31255435,
         801590
        ],
        [
         "Ghana",
         "Africa",
         "Western Africa",
         31072940,
         238533
        ],
        [
         "Madagascar",
         "Africa",
         "Eastern Africa",
         27691018,
         587041
        ],
        [
         "Cameroon",
         "Africa",
         "Middle Africa",
         26545863,
         475442
        ],
        [
         "Côte d'Ivoire",
         "Africa",
         "Western Africa",
         26378274,
         322463
        ],
        [
         "Niger",
         "Africa",
         "Western Africa",
         24206644,
         1267000
        ],
        [
         "Burkina Faso",
         "Africa",
         "Western Africa",
         20903273,
         274200
        ],
        [
         "Mali",
         "Africa",
         "Western Africa",
         20250833,
         1240192
        ],
        [
         "Malawi",
         "Africa",
         "Eastern Africa",
         19129952,
         118484
        ],
        [
         "Zambia",
         "Africa",
         "Eastern Africa",
         18383955,
         752612
        ],
        [
         "Senegal",
         "Africa",
         "Western Africa",
         16743927,
         196722
        ],
        [
         "Chad",
         "Africa",
         "Middle Africa",
         16425864,
         1284000
        ],
        [
         "Somalia",
         "Africa",
         "Eastern Africa",
         15893222,
         637657
        ],
        [
         "Zimbabwe",
         "Africa",
         "Eastern Africa",
         14862924,
         390757
        ],
        [
         "Guinea",
         "Africa",
         "Western Africa",
         13132795,
         245857
        ],
        [
         "Rwanda",
         "Africa",
         "Eastern Africa",
         12952218,
         26338
        ],
        [
         "Benin",
         "Africa",
         "Western Africa",
         12123200,
         114763
        ],
        [
         "Burundi",
         "Africa",
         "Eastern Africa",
         11890784,
         27834
        ],
        [
         "Tunisia",
         "Africa",
         "Northern Africa",
         11818619,
         163610
        ],
        [
         "South Sudan",
         "Africa",
         "Eastern Africa",
         11193725,
         644329
        ],
        [
         "Togo",
         "Africa",
         "Western Africa",
         8278724,
         56785
        ],
        [
         "Sierra Leone",
         "Africa",
         "Western Africa",
         7976983,
         71740
        ],
        [
         "Libya",
         "Africa",
         "Northern Africa",
         6871292,
         1759540
        ],
        [
         "Congo, Republic of the",
         "Africa",
         "Middle Africa",
         5518087,
         342000
        ],
        [
         "Liberia",
         "Africa",
         "Western Africa",
         5073296,
         111369
        ],
        [
         "Central African Republic",
         "Africa",
         "Middle Africa",
         4829767,
         622984
        ],
        [
         "Mauritania",
         "Africa",
         "Western Africa",
         4649658,
         1030700
        ],
        [
         "Eritrea",
         "Africa",
         "Eastern Africa",
         3546421,
         117600
        ],
        [
         "Namibia",
         "Africa",
         "Southern Africa",
         2540905,
         824292
        ],
        [
         "Gambia",
         "Africa",
         "Western Africa",
         2416668,
         11295
        ],
        [
         "Botswana",
         "Africa",
         "Southern Africa",
         2351627,
         581730
        ],
        [
         "Gabon",
         "Africa",
         "Middle Africa",
         2225728,
         267668
        ],
        [
         "Lesotho",
         "Africa",
         "Southern Africa",
         2142249,
         30355
        ],
        [
         "Guinea-Bissau",
         "Africa",
         "Western Africa",
         1968001,
         36125
        ],
        [
         "Equatorial Guinea",
         "Africa",
         "Middle Africa",
         1402985,
         28051
        ],
        [
         "Mauritius",
         "Africa",
         "Eastern Africa",
         1271768,
         2040
        ],
        [
         "Eswatini",
         "Africa",
         "Southern Africa",
         1160164,
         17364
        ],
        [
         "Djibouti",
         "Africa",
         "Eastern Africa",
         988000,
         23200
        ],
        [
         "Comoros",
         "Africa",
         "Eastern Africa",
         869601,
         1862
        ],
        [
         "Cabo Verde",
         "Africa",
         "Western Africa",
         555987,
         4033
        ],
        [
         "Sao Tome and Principe",
         "Africa",
         "Middle Africa",
         219159,
         964
        ],
        [
         "Seychelles",
         "Africa",
         "Eastern Africa",
         98347,
         455
        ],
        [
         "China",
         "Asia",
         "Eastern Asia",
         1439323776,
         9596961
        ],
        [
         "India",
         "Asia",
         "Southern Asia",
         1380004385,
         3287263
        ],
        [
         "Indonesia",
         "Asia",
         "South-Eastern Asia",
         273523615,
         1904569
        ],
        [
         "Pakistan",
         "Asia",
         "Southern Asia",
         220892340,
         881913
        ],
        [
         "Bangladesh",
         "Asia",
         "Southern Asia",
         164689383,
         147570
        ],
        [
         "Japan",
         "Asia",
         "Eastern Asia",
         126476461,
         377975
        ],
        [
         "Philippines",
         "Asia",
         "South-Eastern Asia",
         109581078,
         300000
        ],
        [
         "Vietnam",
         "Asia",
         "South-Eastern Asia",
         97338579,
         331212
        ],
        [
         "Turkey",
         "Asia",
         "Western Asia",
         84339067,
         783562
        ],
        [
         "Iran",
         "Asia",
         "Southern Asia",
         83992949,
         1648195
        ],
        [
         "Thailand",
         "Asia",
         "South-Eastern Asia",
         69799978,
         513120
        ],
        [
         "Myanmar",
         "Asia",
         "South-Eastern Asia",
         54409800,
         676578
        ],
        [
         "South Korea",
         "Asia",
         "Eastern Asia",
         51269185,
         100210
        ],
        [
         "Iraq",
         "Asia",
         "Western Asia",
         40222493,
         438317
        ],
        [
         "Afghanistan",
         "Asia",
         "Southern Asia",
         38928346,
         652230
        ],
        [
         "Saudi Arabia",
         "Asia",
         "Western Asia",
         34813871,
         2149690
        ],
        [
         "Uzbekistan",
         "Asia",
         "Central Asia",
         33469203,
         447400
        ],
        [
         "Malaysia",
         "Asia",
         "South-Eastern Asia",
         32365999,
         330803
        ],
        [
         "Yemen",
         "Asia",
         "Western Asia",
         29825964,
         527968
        ],
        [
         "Nepal",
         "Asia",
         "Southern Asia",
         29136808,
         147181
        ],
        [
         "North Korea",
         "Asia",
         "Eastern Asia",
         25778816,
         120538
        ],
        [
         "Sri Lanka",
         "Asia",
         "Southern Asia",
         21413249,
         65610
        ],
        [
         "Kazakhstan",
         "Asia",
         "Central Asia",
         18776707,
         2724900
        ],
        [
         "Syria",
         "Asia",
         "Western Asia",
         17500657,
         185180
        ],
        [
         "Cambodia",
         "Asia",
         "South-Eastern Asia",
         16718965,
         181035
        ],
        [
         "Jordan",
         "Asia",
         "Western Asia",
         10203134,
         89342
        ],
        [
         "Azerbaijan",
         "Asia",
         "Western Asia",
         10139177,
         86600
        ],
        [
         "United Arab Emirates",
         "Asia",
         "Western Asia",
         9890400,
         83600
        ],
        [
         "Tajikistan",
         "Asia",
         "Central Asia",
         9537645,
         143100
        ],
        [
         "Israel",
         "Asia",
         "Western Asia",
         9053300,
         20770
        ],
        [
         "Laos",
         "Asia",
         "South-Eastern Asia",
         7275560,
         236800
        ],
        [
         "Lebanon",
         "Asia",
         "Western Asia",
         6825445,
         10452
        ],
        [
         "Kyrgyzstan",
         "Asia",
         "Central Asia",
         6524195,
         199951
        ],
        [
         "Turkmenistan",
         "Asia",
         "Central Asia",
         6031200,
         488100
        ],
        [
         "Singapore",
         "Asia",
         "South-Eastern Asia",
         5850342,
         719
        ],
        [
         "Oman",
         "Asia",
         "Western Asia",
         5106626,
         309500
        ],
        [
         "Palestine, State of",
         "Asia",
         "Western Asia",
         5101414,
         6020
        ],
        [
         "Kuwait",
         "Asia",
         "Western Asia",
         4270571,
         17818
        ],
        [
         "Georgia",
         "Asia",
         "Western Asia",
         3989167,
         69700
        ],
        [
         "Mongolia",
         "Asia",
         "Eastern Asia",
         3278290,
         1564110
        ],
        [
         "Armenia",
         "Asia",
         "Western Asia",
         2963243,
         29743
        ],
        [
         "Qatar",
         "Asia",
         "Western Asia",
         2881053,
         11586
        ],
        [
         "Bahrain",
         "Asia",
         "Western Asia",
         1701575,
         765
        ],
        [
         "Timor-Leste",
         "Asia",
         "South-Eastern Asia",
         1318445,
         14874
        ],
        [
         "Bhutan",
         "Asia",
         "Southern Asia",
         771608,
         38394
        ],
        [
         "Maldives",
         "Asia",
         "Southern Asia",
         540544,
         300
        ],
        [
         "Brunei",
         "Asia",
         "South-Eastern Asia",
         437479,
         5765
        ],
        [
         "Russia",
         "Europe",
         "Eastern Europe",
         144478050,
         17098242
        ],
        [
         "Germany",
         "Europe",
         "Western Europe",
         83783942,
         357022
        ],
        [
         "United Kingdom",
         "Europe",
         "Northern Europe",
         67886011,
         243610
        ],
        [
         "France",
         "Europe",
         "Western Europe",
         65273511,
         551695
        ],
        [
         "Italy",
         "Europe",
         "Southern Europe",
         60461826,
         301340
        ],
        [
         "Spain",
         "Europe",
         "Southern Europe",
         46754778,
         505992
        ],
        [
         "Ukraine",
         "Europe",
         "Eastern Europe",
         43733762,
         603628
        ],
        [
         "Poland",
         "Europe",
         "Eastern Europe",
         37846611,
         312696
        ],
        [
         "Romania",
         "Europe",
         "Eastern Europe",
         19237691,
         238391
        ],
        [
         "Netherlands",
         "Europe",
         "Western Europe",
         17134872,
         41543
        ],
        [
         "Belgium",
         "Europe",
         "Western Europe",
         11589623,
         30528
        ],
        [
         "Czech Republic",
         "Europe",
         "Eastern Europe",
         10708981,
         78866
        ],
        [
         "Greece",
         "Europe",
         "Southern Europe",
         10423054,
         131957
        ],
        [
         "Portugal",
         "Europe",
         "Southern Europe",
         10196709,
         92090
        ],
        [
         "Sweden",
         "Europe",
         "Northern Europe",
         10099265,
         450295
        ],
        [
         "Hungary",
         "Europe",
         "Eastern Europe",
         9660351,
         93030
        ],
        [
         "Belarus",
         "Europe",
         "Eastern Europe",
         9449323,
         207600
        ],
        [
         "Austria",
         "Europe",
         "Western Europe",
         9006398,
         83879
        ],
        [
         "Switzerland",
         "Europe",
         "Western Europe",
         8654622,
         41285
        ],
        [
         "Bulgaria",
         "Europe",
         "Eastern Europe",
         6948445,
         110994
        ],
        [
         "Serbia",
         "Europe",
         "Southern Europe",
         6944975,
         88361
        ],
        [
         "Denmark",
         "Europe",
         "Northern Europe",
         5792202,
         42933
        ],
        [
         "Finland",
         "Europe",
         "Northern Europe",
         5540720,
         338424
        ],
        [
         "Slovakia",
         "Europe",
         "Eastern Europe",
         5459642,
         49037
        ],
        [
         "Norway",
         "Europe",
         "Northern Europe",
         5421241,
         385207
        ],
        [
         "Ireland",
         "Europe",
         "Northern Europe",
         4937786,
         70273
        ],
        [
         "Croatia",
         "Europe",
         "Southern Europe",
         4105267,
         56594
        ],
        [
         "Bosnia and Herzegovina",
         "Europe",
         "Southern Europe",
         3280819,
         51129
        ],
        [
         "Albania",
         "Europe",
         "Southern Europe",
         2877797,
         28748
        ],
        [
         "Lithuania",
         "Europe",
         "Northern Europe",
         2722289,
         65300
        ],
        [
         "Moldova",
         "Europe",
         "Eastern Europe",
         2640438,
         33851
        ],
        [
         "North Macedonia",
         "Europe",
         "Southern Europe",
         2083374,
         25713
        ],
        [
         "Slovenia",
         "Europe",
         "Southern Europe",
         2078938,
         20273
        ],
        [
         "Latvia",
         "Europe",
         "Northern Europe",
         1886198,
         64559
        ],
        [
         "Estonia",
         "Europe",
         "Northern Europe",
         1331796,
         45227
        ],
        [
         "Cyprus",
         "Europe",
         "Western Asia",
         1207359,
         9251
        ],
        [
         "Luxembourg",
         "Europe",
         "Western Europe",
         634814,
         2586
        ],
        [
         "Montenegro",
         "Europe",
         "Southern Europe",
         622359,
         13812
        ],
        [
         "Malta",
         "Europe",
         "Southern Europe",
         441543,
         316
        ],
        [
         "Iceland",
         "Europe",
         "Northern Europe",
         341243,
         103000
        ],
        [
         "Andorra",
         "Europe",
         "Southern Europe",
         77265,
         468
        ],
        [
         "Monaco",
         "Europe",
         "Western Europe",
         39242,
         2
        ],
        [
         "Liechtenstein",
         "Europe",
         "Western Europe",
         38128,
         160
        ],
        [
         "San Marino",
         "Europe",
         "Southern Europe",
         33938,
         61
        ],
        [
         "Holy See",
         "Europe",
         "Southern Europe",
         801,
         0
        ],
        [
         "United States",
         "North America",
         "Northern America",
         331002651,
         9833520
        ],
        [
         "Mexico",
         "North America",
         "Central America",
         128932753,
         1964375
        ],
        [
         "Canada",
         "North America",
         "Northern America",
         37742154,
         9984670
        ],
        [
         "Guatemala",
         "North America",
         "Central America",
         17915568,
         108889
        ],
        [
         "Haiti",
         "North America",
         "Caribbean",
         11402528,
         27750
        ],
        [
         "Cuba",
         "North America",
         "Caribbean",
         11326616,
         109884
        ],
        [
         "Dominican Republic",
         "North America",
         "Caribbean",
         10847910,
         48671
        ],
        [
         "Honduras",
         "North America",
         "Central America",
         9904607,
         112492
        ],
        [
         "Nicaragua",
         "North America",
         "Central America",
         6624554,
         130373
        ],
        [
         "El Salvador",
         "North America",
         "Central America",
         6486205,
         21041
        ],
        [
         "Costa Rica",
         "North America",
         "Central America",
         5094118,
         51100
        ],
        [
         "Panama",
         "North America",
         "Central America",
         4314767,
         75417
        ],
        [
         "Jamaica",
         "North America",
         "Caribbean",
         2961167,
         10991
        ],
        [
         "Trinidad and Tobago",
         "North America",
         "Caribbean",
         1399488,
         5130
        ],
        [
         "Belize",
         "North America",
         "Central America",
         397621,
         22966
        ],
        [
         "Bahamas",
         "North America",
         "Caribbean",
         393244,
         13943
        ],
        [
         "Barbados",
         "North America",
         "Caribbean",
         287375,
         430
        ],
        [
         "Saint Lucia",
         "North America",
         "Caribbean",
         183627,
         616
        ],
        [
         "Grenada",
         "North America",
         "Caribbean",
         112523,
         344
        ],
        [
         "Saint Vincent and the Grenadines",
         "North America",
         "Caribbean",
         110940,
         389
        ],
        [
         "Antigua and Barbuda",
         "North America",
         "Caribbean",
         97929,
         442
        ],
        [
         "Dominica",
         "North America",
         "Caribbean",
         71986,
         751
        ],
        [
         "Saint Kitts and Nevis",
         "North America",
         "Caribbean",
         53192,
         261
        ],
        [
         "Australia",
         "Oceania",
         "Australia and New Zealand",
         25649984,
         7692024
        ],
        [
         "Papua New Guinea",
         "Oceania",
         "Melanesia",
         8947024,
         462840
        ],
        [
         "New Zealand",
         "Oceania",
         "Australia and New Zealand",
         5084300,
         268838
        ],
        [
         "Fiji",
         "Oceania",
         "Melanesia",
         896444,
         18274
        ],
        [
         "Solomon Islands",
         "Oceania",
         "Melanesia",
         686884,
         28896
        ],
        [
         "Vanuatu",
         "Oceania",
         "Melanesia",
         307145,
         12189
        ],
        [
         "Samoa",
         "Oceania",
         "Polynesia",
         198414,
         2842
        ],
        [
         "Kiribati",
         "Oceania",
         "Micronesia",
         119449,
         811
        ],
        [
         "Micronesia",
         "Oceania",
         "Micronesia",
         115023,
         702
        ],
        [
         "Tonga",
         "Oceania",
         "Polynesia",
         105695,
         747
        ],
        [
         "Marshall Islands",
         "Oceania",
         "Micronesia",
         59190,
         181
        ],
        [
         "Palau",
         "Oceania",
         "Micronesia",
         18094,
         459
        ],
        [
         "Tuvalu",
         "Oceania",
         "Polynesia",
         11792,
         26
        ],
        [
         "Nauru",
         "Oceania",
         "Micronesia",
         10824,
         21
        ],
        [
         "Brazil",
         "South America",
         "South America",
         212559417,
         8515767
        ],
        [
         "Colombia",
         "South America",
         "South America",
         50882891,
         1141748
        ],
        [
         "Argentina",
         "South America",
         "South America",
         45376763,
         2780400
        ],
        [
         "Peru",
         "South America",
         "South America",
         32971854,
         1285216
        ],
        [
         "Venezuela",
         "South America",
         "South America",
         28435940,
         916445
        ],
        [
         "Chile",
         "South America",
         "South America",
         19116201,
         756102
        ],
        [
         "Ecuador",
         "South America",
         "South America",
         17643054,
         283561
        ],
        [
         "Bolivia",
         "South America",
         "South America",
         11673021,
         1098581
        ],
        [
         "Paraguay",
         "South America",
         "South America",
         7132538,
         406752
        ],
        [
         "Uruguay",
         "South America",
         "South America",
         3473730,
         176215
        ],
        [
         "Guyana",
         "South America",
         "South America",
         786552,
         214969
        ],
        [
         "Suriname",
         "South America",
         "South America",
         586634,
         163820
        ]
       ],
       "datasetInfos": [],
       "dbfsResultPath": null,
       "isJsonSchema": true,
       "metadata": {},
       "overflow": false,
       "plotOptions": {
        "customPlotOptions": {},
        "displayType": "table",
        "pivotAggregation": null,
        "pivotColumns": null,
        "xColumns": null,
        "yColumns": null
       },
       "removedWidgets": [],
       "schema": [
        {
         "metadata": "{}",
         "name": "country_name",
         "type": "\"string\""
        },
        {
         "metadata": "{}",
         "name": "continent",
         "type": "\"string\""
        },
        {
         "metadata": "{}",
         "name": "sub_region",
         "type": "\"string\""
        },
        {
         "metadata": "{}",
         "name": "population",
         "type": "\"long\""
        },
        {
         "metadata": "{}",
         "name": "area_km2",
         "type": "\"integer\""
        }
       ],
       "type": "table"
      }
     },
     "output_type": "display_data"
    }
   ],
   "source": [
    "# orderBy() is an alias for sort()\n",
    "df.orderBy(df.continent.asc(), df.population.desc()).display()"
   ]
  }
 ],
 "metadata": {
  "application/vnd.databricks.v1+notebook": {
   "computePreferences": null,
   "dashboards": [],
   "environmentMetadata": {
    "base_environment": "",
    "client": "1"
   },
   "language": "python",
   "notebookMetadata": {
    "pythonIndentUnit": 4
   },
   "notebookName": "(VS Code) Sorting and Limiting DataFrame Results",
   "widgets": {}
  }
 },
 "nbformat": 4,
 "nbformat_minor": 0
}
