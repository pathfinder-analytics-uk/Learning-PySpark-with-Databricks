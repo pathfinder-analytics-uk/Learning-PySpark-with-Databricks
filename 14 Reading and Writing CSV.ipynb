{
 "cells": [
  {
   "cell_type": "markdown",
   "metadata": {},
   "source": [
    "## Reading and Writing CSV\n",
    "CSV is a plain text file format that stores tabular data, where each row represents a record and fields are separated by commas.\n",
    "\n",
    "In this notebook, I’ll create a DataFrame with country information and then show you how to write it to the Databricks FileStore in CSV format and read it back."
   ]
  },
  {
   "cell_type": "markdown",
   "metadata": {},
   "source": [
    "### Links and Resources\n",
    "- [Spark SQL API](https://spark.apache.org/docs/latest/api/python/reference/pyspark.sql/index.html)\n",
    "- [dbutils Documentation](https://learn.microsoft.com/en-us/azure/databricks/dev-tools/databricks-utils#dbutils-fs-rm)"
   ]
  },
  {
   "cell_type": "markdown",
   "metadata": {},
   "source": [
    "### Writing to CSV Format"
   ]
  },
  {
   "cell_type": "markdown",
   "metadata": {},
   "source": [
    "Creating a sample DataFrame"
   ]
  },
  {
   "cell_type": "code",
   "execution_count": null,
   "metadata": {},
   "outputs": [],
   "source": [
    "from pyspark.sql.types import StructType, StructField, StringType, LongType, IntegerType\n",
    "\n",
    "# Define the schema explicitly using StructType and StructField\n",
    "schema = StructType([\n",
    "    StructField(\"country_name\", StringType(), True),\n",
    "    StructField(\"continent\", StringType(), True),\n",
    "    StructField(\"population\", LongType(), True),\n",
    "    StructField(\"area_km2\", IntegerType(), True)\n",
    "])\n",
    "\n",
    "# Data for 195 countries (each tuple: country_name, continent, population, area_km2)\n",
    "data = [\n",
    "    (\"Afghanistan\", \"Asia\", 38928346, 652230),\n",
    "    (\"Albania\", \"Europe\", 2877797, 28748),\n",
    "    (\"Algeria\", \"Africa\", 43851044, 2381741),\n",
    "    (\"Andorra\", \"Europe\", 77265, 468),\n",
    "    (\"Angola\", \"Africa\", 32866272, 1246700),\n",
    "    (\"Antigua and Barbuda\", \"North America\", 97929, 442),\n",
    "    (\"Argentina\", \"South America\", 45376763, 2780400),\n",
    "    (\"Armenia\", \"Asia\", 2963243, 29743),\n",
    "    (\"Australia\", \"Oceania\", 25649984, 7692024),\n",
    "    (\"Austria\", \"Europe\", 9006398, 83879),\n",
    "    (\"Azerbaijan\", \"Asia\", 10139177, 86600),\n",
    "    (\"Bahamas\", \"North America\", 393244, 13943),\n",
    "    (\"Bahrain\", \"Asia\", 1701575, 765),\n",
    "    (\"Bangladesh\", \"Asia\", 164689383, 147570),\n",
    "    (\"Barbados\", \"North America\", 287375, 430),\n",
    "    (\"Belarus\", \"Europe\", 9449323, 207600),\n",
    "    (\"Belgium\", \"Europe\", 11589623, 30528),\n",
    "    (\"Belize\", \"North America\", 397621, 22966),\n",
    "    (\"Benin\", \"Africa\", 12123200, 114763),\n",
    "    (\"Bhutan\", \"Asia\", 771608, 38394),\n",
    "    (\"Bolivia\", \"South America\", 11673021, 1098581),\n",
    "    (\"Bosnia and Herzegovina\", \"Europe\", 3280819, 51129),\n",
    "    (\"Botswana\", \"Africa\", 2351627, 581730),\n",
    "    (\"Brazil\", \"South America\", 212559417, 8515767),\n",
    "    (\"Brunei\", \"Asia\", 437479, 5765),\n",
    "    (\"Bulgaria\", \"Europe\", 6948445, 110994),\n",
    "    (\"Burkina Faso\", \"Africa\", 20903273, 274200),\n",
    "    (\"Burundi\", \"Africa\", 11890784, 27834),\n",
    "    (\"Cabo Verde\", \"Africa\", 555987, 4033),\n",
    "    (\"Cambodia\", \"Asia\", 16718965, 181035),\n",
    "    (\"Cameroon\", \"Africa\", 26545863, 475442),\n",
    "    (\"Canada\", \"North America\", 37742154, 9984670),\n",
    "    (\"Central African Republic\", \"Africa\", 4829767, 622984),\n",
    "    (\"Chad\", \"Africa\", 16425864, 1284000),\n",
    "    (\"Chile\", \"South America\", 19116201, 756102),\n",
    "    (\"China\", \"Asia\", 1439323776, 9596961),\n",
    "    (\"Colombia\", \"South America\", 50882891, 1141748),\n",
    "    (\"Comoros\", \"Africa\", 869601, 1862),\n",
    "    (\"Congo, Democratic Republic of the\", \"Africa\", 89561403, 2344858),\n",
    "    (\"Congo, Republic of the\", \"Africa\", 5518087, 342000),\n",
    "    (\"Costa Rica\", \"North America\", 5094118, 51100),\n",
    "    (\"Croatia\", \"Europe\", 4105267, 56594),\n",
    "    (\"Cuba\", \"North America\", 11326616, 109884),\n",
    "    (\"Côte d'Ivoire\", \"Africa\", 26378274, 322463),\n",
    "    (\"Cyprus\", \"Europe\", 1207359, 9251),\n",
    "    (\"Czech Republic\", \"Europe\", 10708981, 78866),\n",
    "    (\"Denmark\", \"Europe\", 5792202, 42933),\n",
    "    (\"Djibouti\", \"Africa\", 988000, 23200),\n",
    "    (\"Dominica\", \"North America\", 71986, 751),\n",
    "    (\"Dominican Republic\", \"North America\", 10847910, 48671),\n",
    "    (\"Ecuador\", \"South America\", 17643054, 283561),\n",
    "    (\"Egypt\", \"Africa\", 102334404, 1002450),\n",
    "    (\"El Salvador\", \"North America\", 6486205, 21041),\n",
    "    (\"Equatorial Guinea\", \"Africa\", 1402985, 28051),\n",
    "    (\"Eritrea\", \"Africa\", 3546421, 117600),\n",
    "    (\"Estonia\", \"Europe\", 1331796, 45227),\n",
    "    (\"Eswatini\", \"Africa\", 1160164, 17364),\n",
    "    (\"Ethiopia\", \"Africa\", 114963588, 1104300),\n",
    "    (\"Fiji\", \"Oceania\", 896444, 18274),\n",
    "    (\"Finland\", \"Europe\", 5540720, 338424),\n",
    "    (\"France\", \"Europe\", 65273511, 551695),\n",
    "    (\"Gabon\", \"Africa\", 2225728, 267668),\n",
    "    (\"Gambia\", \"Africa\", 2416668, 11295),\n",
    "    (\"Georgia\", \"Asia\", 3989167, 69700),\n",
    "    (\"Germany\", \"Europe\", 83783942, 357022),\n",
    "    (\"Ghana\", \"Africa\", 31072940, 238533),\n",
    "    (\"Greece\", \"Europe\", 10423054, 131957),\n",
    "    (\"Grenada\", \"North America\", 112523, 344),\n",
    "    (\"Guatemala\", \"North America\", 17915568, 108889),\n",
    "    (\"Guinea\", \"Africa\", 13132795, 245857),\n",
    "    (\"Guinea-Bissau\", \"Africa\", 1968001, 36125),\n",
    "    (\"Guyana\", \"South America\", 786552, 214969),\n",
    "    (\"Haiti\", \"North America\", 11402528, 27750),\n",
    "    (\"Holy See\", \"Europe\", 801, 0),\n",
    "    (\"Honduras\", \"North America\", 9904607, 112492),\n",
    "    (\"Hungary\", \"Europe\", 9660351, 93030),\n",
    "    (\"Iceland\", \"Europe\", 341243, 103000),\n",
    "    (\"India\", \"Asia\", 1380004385, 3287263),\n",
    "    (\"Indonesia\", \"Asia\", 273523615, 1904569),\n",
    "    (\"Iran\", \"Asia\", 83992949, 1648195),\n",
    "    (\"Iraq\", \"Asia\", 40222493, 438317),\n",
    "    (\"Ireland\", \"Europe\", 4937786, 70273),\n",
    "    (\"Israel\", \"Asia\", 9053300, 20770),\n",
    "    (\"Italy\", \"Europe\", 60461826, 301340),\n",
    "    (\"Jamaica\", \"North America\", 2961167, 10991),\n",
    "    (\"Japan\", \"Asia\", 126476461, 377975),\n",
    "    (\"Jordan\", \"Asia\", 10203134, 89342),\n",
    "    (\"Kazakhstan\", \"Asia\", 18776707, 2724900),\n",
    "    (\"Kenya\", \"Africa\", 53771296, 580367),\n",
    "    (\"Kiribati\", \"Oceania\", 119449, 811),\n",
    "    (\"Kuwait\", \"Asia\", 4270571, 17818),\n",
    "    (\"Kyrgyzstan\", \"Asia\", 6524195, 199951),\n",
    "    (\"Laos\", \"Asia\", 7275560, 236800),\n",
    "    (\"Latvia\", \"Europe\", 1886198, 64559),\n",
    "    (\"Lebanon\", \"Asia\", 6825445, 10452),\n",
    "    (\"Lesotho\", \"Africa\", 2142249, 30355),\n",
    "    (\"Liberia\", \"Africa\", 5073296, 111369),\n",
    "    (\"Libya\", \"Africa\", 6871292, 1759540),\n",
    "    (\"Liechtenstein\", \"Europe\", 38128, 160),\n",
    "    (\"Lithuania\", \"Europe\", 2722289, 65300),\n",
    "    (\"Luxembourg\", \"Europe\", 634814, 2586),\n",
    "    (\"Madagascar\", \"Africa\", 27691018, 587041),\n",
    "    (\"Malawi\", \"Africa\", 19129952, 118484),\n",
    "    (\"Malaysia\", \"Asia\", 32365999, 330803),\n",
    "    (\"Maldives\", \"Asia\", 540544, 300),\n",
    "    (\"Mali\", \"Africa\", 20250833, 1240192),\n",
    "    (\"Malta\", \"Europe\", 441543, 316),\n",
    "    (\"Marshall Islands\", \"Oceania\", 59190, 181),\n",
    "    (\"Mauritania\", \"Africa\", 4649658, 1030700),\n",
    "    (\"Mauritius\", \"Africa\", 1271768, 2040),\n",
    "    (\"Mexico\", \"North America\", 128932753, 1964375),\n",
    "    (\"Micronesia\", \"Oceania\", 115023, 702),\n",
    "    (\"Moldova\", \"Europe\", 2640438, 33851),\n",
    "    (\"Monaco\", \"Europe\", 39242, 2),\n",
    "    (\"Mongolia\", \"Asia\", 3278290, 1564110),\n",
    "    (\"Montenegro\", \"Europe\", 622359, 13812),\n",
    "    (\"Morocco\", \"Africa\", 36910560, 446550),\n",
    "    (\"Mozambique\", \"Africa\", 31255435, 801590),\n",
    "    (\"Myanmar\", \"Asia\", 54409800, 676578),\n",
    "    (\"Namibia\", \"Africa\", 2540905, 824292),\n",
    "    (\"Nauru\", \"Oceania\", 10824, 21),\n",
    "    (\"Nepal\", \"Asia\", 29136808, 147181),\n",
    "    (\"Netherlands\", \"Europe\", 17134872, 41543),\n",
    "    (\"New Zealand\", \"Oceania\", 5084300, 268838),\n",
    "    (\"Nicaragua\", \"North America\", 6624554, 130373),\n",
    "    (\"Niger\", \"Africa\", 24206644, 1267000),\n",
    "    (\"Nigeria\", \"Africa\", 206139589, 923768),\n",
    "    (\"North Korea\", \"Asia\", 25778816, 120538),\n",
    "    (\"North Macedonia\", \"Europe\", 2083374, 25713),\n",
    "    (\"Norway\", \"Europe\", 5421241, 385207),\n",
    "    (\"Oman\", \"Asia\", 5106626, 309500),\n",
    "    (\"Pakistan\", \"Asia\", 220892340, 881913),\n",
    "    (\"Palau\", \"Oceania\", 18094, 459),\n",
    "    (\"Palestine, State of\", \"Asia\", 5101414, 6020),\n",
    "    (\"Panama\", \"North America\", 4314767, 75417),\n",
    "    (\"Papua New Guinea\", \"Oceania\", 8947024, 462840),\n",
    "    (\"Paraguay\", \"South America\", 7132538, 406752),\n",
    "    (\"Peru\", \"South America\", 32971854, 1285216),\n",
    "    (\"Philippines\", \"Asia\", 109581078, 300000),\n",
    "    (\"Poland\", \"Europe\", 37846611, 312696),\n",
    "    (\"Portugal\", \"Europe\", 10196709, 92090),\n",
    "    (\"Qatar\", \"Asia\", 2881053, 11586),\n",
    "    (\"Romania\", \"Europe\", 19237691, 238391),\n",
    "    (\"Russia\", \"Europe\", 144478050, 17098242),\n",
    "    (\"Rwanda\", \"Africa\", 12952218, 26338),\n",
    "    (\"Saint Kitts and Nevis\", \"North America\", 53192, 261),\n",
    "    (\"Saint Lucia\", \"North America\", 183627, 616),\n",
    "    (\"Saint Vincent and the Grenadines\", \"North America\", 110940, 389),\n",
    "    (\"Samoa\", \"Oceania\", 198414, 2842),\n",
    "    (\"San Marino\", \"Europe\", 33938, 61),\n",
    "    (\"Sao Tome and Principe\", \"Africa\", 219159, 964),\n",
    "    (\"Saudi Arabia\", \"Asia\", 34813871, 2149690),\n",
    "    (\"Senegal\", \"Africa\", 16743927, 196722),\n",
    "    (\"Serbia\", \"Europe\", 6944975, 88361),\n",
    "    (\"Seychelles\", \"Africa\", 98347, 455),\n",
    "    (\"Sierra Leone\", \"Africa\", 7976983, 71740),\n",
    "    (\"Singapore\", \"Asia\", 5850342, 719),\n",
    "    (\"Slovakia\", \"Europe\", 5459642, 49037),\n",
    "    (\"Slovenia\", \"Europe\", 2078938, 20273),\n",
    "    (\"Solomon Islands\", \"Oceania\", 686884, 28896),\n",
    "    (\"Somalia\", \"Africa\", 15893222, 637657),\n",
    "    (\"South Africa\", \"Africa\", 59308690, 1221037),\n",
    "    (\"South Korea\", \"Asia\", 51269185, 100210),\n",
    "    (\"South Sudan\", \"Africa\", 11193725, 644329),\n",
    "    (\"Spain\", \"Europe\", 46754778, 505992),\n",
    "    (\"Sri Lanka\", \"Asia\", 21413249, 65610),\n",
    "    (\"Sudan\", \"Africa\", 43849260, 1861484),\n",
    "    (\"Suriname\", \"South America\", 586634, 163820),\n",
    "    (\"Sweden\", \"Europe\", 10099265, 450295),\n",
    "    (\"Switzerland\", \"Europe\", 8654622, 41285),\n",
    "    (\"Syria\", \"Asia\", 17500657, 185180),\n",
    "    (\"Tajikistan\", \"Asia\", 9537645, 143100),\n",
    "    (\"Tanzania\", \"Africa\", 59734218, 945087),\n",
    "    (\"Thailand\", \"Asia\", 69799978, 513120),\n",
    "    (\"Timor-Leste\", \"Asia\", 1318445, 14874),\n",
    "    (\"Togo\", \"Africa\", 8278724, 56785),\n",
    "    (\"Tonga\", \"Oceania\", 105695, 747),\n",
    "    (\"Trinidad and Tobago\", \"North America\", 1399488, 5130),\n",
    "    (\"Tunisia\", \"Africa\", 11818619, 163610),\n",
    "    (\"Turkey\", \"Asia\", 84339067, 783562),\n",
    "    (\"Turkmenistan\", \"Asia\", 6031200, 488100),\n",
    "    (\"Tuvalu\", \"Oceania\", 11792, 26),\n",
    "    (\"Uganda\", \"Africa\", 45741007, 241550),\n",
    "    (\"Ukraine\", \"Europe\", 43733762, 603628),\n",
    "    (\"United Arab Emirates\", \"Asia\", 9890400, 83600),\n",
    "    (\"United Kingdom\", \"Europe\", 67886011, 243610),\n",
    "    (\"United States\", \"North America\", 331002651, 9833520),\n",
    "    (\"Uruguay\", \"South America\", 3473730, 176215),\n",
    "    (\"Uzbekistan\", \"Asia\", 33469203, 447400),\n",
    "    (\"Vanuatu\", \"Oceania\", 307145, 12189),\n",
    "    (\"Venezuela\", \"South America\", 28435940, 916445),\n",
    "    (\"Vietnam\", \"Asia\", 97338579, 331212),\n",
    "    (\"Yemen\", \"Asia\", 29825964, 527968),\n",
    "    (\"Zambia\", \"Africa\", 18383955, 752612),\n",
    "    (\"Zimbabwe\", \"Africa\", 14862924, 390757)\n",
    "]\n",
    "\n",
    "# Create the DataFrame using the defined schema\n",
    "df = spark.createDataFrame(data, schema=schema)"
   ]
  },
  {
   "cell_type": "markdown",
   "metadata": {},
   "source": [
    "Here, we write the DataFrame to the FileStore. Instead of writing a single CSV file named `countries_csv`, Spark creates a directory with that name that contains multiple partitioned files.\n",
    "\n",
    "Ignore files prefixed with an underscore (like `_SUCCESS`, `_committed`, `_started`) as these are marker files indicating the job's status."
   ]
  },
  {
   "cell_type": "code",
   "execution_count": null,
   "metadata": {},
   "outputs": [],
   "source": [
    "df.write.csv(\"dbfs:/FileStore/write_demo/countries_csv\")"
   ]
  },
  {
   "cell_type": "markdown",
   "metadata": {},
   "source": [
    "After writing, let’s inspect the directory structure using dbutils:"
   ]
  },
  {
   "cell_type": "code",
   "execution_count": null,
   "metadata": {},
   "outputs": [],
   "source": [
    "display(dbutils.fs.ls(\"dbfs:/FileStore/write_demo/\"))\n",
    "display(dbutils.fs.ls(\"dbfs:/FileStore/write_demo/countries_csv\"))"
   ]
  },
  {
   "cell_type": "markdown",
   "metadata": {},
   "source": [
    "### Viewing a Partition File\n",
    "\n",
    "Let's look at one of the partition files. The file name starts with `part-` followed by a unique identifier. Each file represents a partition of the complete dataset."
   ]
  },
  {
   "cell_type": "code",
   "execution_count": null,
   "metadata": {},
   "outputs": [],
   "source": [
    "print(dbutils.fs.head('dbfs:/FileStore/write_demo/countries_csv/part-00000-tid-9136490159657297629-1805f917-8107-4faf-9aa8-93c91cede05d-9-1-c000.csv', 10000))"
   ]
  },
  {
   "cell_type": "markdown",
   "metadata": {},
   "source": [
    "To overwrite the existing data, we can specify the mode as \"overwrite\":"
   ]
  },
  {
   "cell_type": "code",
   "execution_count": null,
   "metadata": {},
   "outputs": [],
   "source": [
    "df.write.csv(\"dbfs:/FileStore/write_demo/countries_csv\", mode=\"overwrite\")"
   ]
  },
  {
   "cell_type": "markdown",
   "metadata": {},
   "source": [
    "We can also specify the mode using the `mode()` method. Note that the mode must be specified before the save operation:"
   ]
  },
  {
   "cell_type": "code",
   "execution_count": null,
   "metadata": {},
   "outputs": [],
   "source": [
    "df.write.mode(\"overwrite\").csv(\"dbfs:/FileStore/write_demo/countries\")\n",
    "\n",
    "# Incorrect usage (this would throw an error):\n",
    "# df.write.csv(\"dbfs:/FileStore/write_demo/countries\").mode(\"overwrite\")"
   ]
  },
  {
   "cell_type": "markdown",
   "metadata": {},
   "source": [
    "I prefer using the `save` method because it allows specifying the file format dynamically. Here's the equivalent syntax:"
   ]
  },
  {
   "cell_type": "code",
   "execution_count": null,
   "metadata": {},
   "outputs": [],
   "source": [
    "df.write.format(\"csv\").mode(\"overwrite\").save(\"dbfs:/FileStore/write_demo/countries_csv\")"
   ]
  },
  {
   "cell_type": "markdown",
   "metadata": {},
   "source": [
    "## Specifying CSV Options\n",
    "\n",
    "We can customize the CSV output by specifying options such as the separator and whether to include a header. Below are two ways to do this."
   ]
  },
  {
   "cell_type": "code",
   "execution_count": null,
   "metadata": {},
   "outputs": [],
   "source": [
    "# Using the option method for each option\n",
    "df.write.format(\"csv\") \\\n",
    "    .option(\"sep\", \";\") \\\n",
    "    .option(\"header\", True) \\\n",
    "    .mode(\"overwrite\") \\\n",
    "    .save(\"dbfs:/FileStore/write_demo/countries_csv\")\n",
    "\n",
    "# Using the options method to set multiple options at once\n",
    "df.write.format(\"csv\") \\\n",
    "    .options(sep=\";\", header=True) \\\n",
    "    .mode(\"overwrite\") \\\n",
    "    .save(\"dbfs:/FileStore/write_demo/countries_csv\")"
   ]
  },
  {
   "cell_type": "markdown",
   "metadata": {},
   "source": [
    "Let's preview the data using dbutils. First, let's list the files in the directory:"
   ]
  },
  {
   "cell_type": "code",
   "execution_count": null,
   "metadata": {},
   "outputs": [],
   "source": [
    "display(dbutils.fs.ls(\"dbfs:/FileStore/write_demo/countries_csv\"))"
   ]
  },
  {
   "cell_type": "markdown",
   "metadata": {},
   "source": [
    "Now, pick a file and display its raw content:"
   ]
  },
  {
   "cell_type": "code",
   "execution_count": null,
   "metadata": {},
   "outputs": [],
   "source": [
    "print(dbutils.fs.head('dbfs:/FileStore/write_demo/countries_csv/part-00000-tid-6647597009178739348-4fca62b9-c78d-4d70-83a9-2a9a70cc9fbc-57-1-c000.csv', 10000))"
   ]
  },
  {
   "cell_type": "markdown",
   "metadata": {},
   "source": [
    "Notice how the values are now separated by a semi-colon."
   ]
  },
  {
   "cell_type": "markdown",
   "metadata": {},
   "source": [
    "## Reading CSV Files\n",
    "\n",
    "Now that we have CSV data in DBFS, let's read it back into a DataFrame.\n",
    "\n",
    "By default, Spark expects comma-separated values. Since our file uses a semi-colon, we need to specify the separator and header options."
   ]
  },
  {
   "cell_type": "code",
   "execution_count": null,
   "metadata": {},
   "outputs": [],
   "source": [
    "# Reading without specifying options (not recommended for our file)\n",
    "df_read_default = spark.read.csv(\"dbfs:/FileStore/write_demo/countries_csv\")\n",
    "df_read_default.display()"
   ]
  },
  {
   "cell_type": "markdown",
   "metadata": {},
   "source": [
    "Read the CSV correctly by specifying the separator and header options:"
   ]
  },
  {
   "cell_type": "code",
   "execution_count": null,
   "metadata": {},
   "outputs": [],
   "source": [
    "df_read = spark.read.csv(\"dbfs:/FileStore/write_demo/countries_csv\", sep=\";\", header=True)\n",
    "df_read.display()"
   ]
  },
  {
   "cell_type": "markdown",
   "metadata": {},
   "source": [
    "Alternatively, we can use the `options` method:"
   ]
  },
  {
   "cell_type": "code",
   "execution_count": null,
   "metadata": {},
   "outputs": [],
   "source": [
    "df_read = spark.read.options(sep=\";\", header=True).csv(\"dbfs:/FileStore/write_demo/countries_csv\")\n",
    "df_read.display()"
   ]
  },
  {
   "cell_type": "markdown",
   "metadata": {},
   "source": [
    "Let's check the schema of the DataFrame. Notice that CSV files store data as plain text, so all values are read as strings by default."
   ]
  },
  {
   "cell_type": "code",
   "execution_count": null,
   "metadata": {},
   "outputs": [],
   "source": [
    "df_read.printSchema()"
   ]
  },
  {
   "cell_type": "markdown",
   "metadata": {},
   "source": [
    "To assign appropriate data types, we can either infer the schema or specify it explicitly."
   ]
  },
  {
   "cell_type": "code",
   "execution_count": null,
   "metadata": {},
   "outputs": [],
   "source": [
    "# Infer schema automatically\n",
    "df_inferred = spark.read.options(sep=\";\", header=True, inferSchema=True).csv(\"dbfs:/FileStore/write_demo/countries_csv\")\n",
    "df_inferred.printSchema()"
   ]
  },
  {
   "cell_type": "markdown",
   "metadata": {},
   "source": [
    "Or we can specify the schema explicitly:"
   ]
  },
  {
   "cell_type": "code",
   "execution_count": null,
   "metadata": {},
   "outputs": [],
   "source": [
    "from pyspark.sql.types import StructType, StructField, StringType, IntegerType\n",
    "\n",
    "schema_explicit = StructType([\n",
    "    StructField(\"country_name\", StringType(), False),\n",
    "    StructField(\"continent\", StringType(), True),\n",
    "    StructField(\"population\", IntegerType(), False),\n",
    "    StructField(\"area_km2\", IntegerType(), False)\n",
    "])\n",
    "\n",
    "df_explicit = spark.read.options(sep=\";\", header=True, inferSchema=True) \\\n",
    "    .schema(schema_explicit) \\\n",
    "    .csv(\"dbfs:/FileStore/write_demo/countries_csv\", sep=\";\")\n",
    "df_explicit.printSchema()"
   ]
  }
 ],
 "metadata": {
  "kernelspec": {
   "display_name": "Python 3",
   "language": "python",
   "name": "python3"
  },
  "language_info": {
   "name": "python",
   "version": "3.x"
  }
 },
 "nbformat": 4,
 "nbformat_minor": 2
}
