{
 "cells": [
  {
   "cell_type": "markdown",
   "metadata": {
    "application/vnd.databricks.v1+cell": {
     "cellMetadata": {},
     "inputWidgets": {},
     "nuid": "d1e840ce-66d4-494e-a054-504a1fd2aa39",
     "showTitle": false,
     "tableResultSettingsMap": {},
     "title": ""
    }
   },
   "source": [
    "## Selecting Columns\n",
    "\n",
    "The select() method in PySpark is used to project a set of columns from a DataFrame, much like the SELECT clause in SQL.\n"
   ]
  },
  {
   "cell_type": "markdown",
   "metadata": {
    "application/vnd.databricks.v1+cell": {
     "cellMetadata": {},
     "inputWidgets": {},
     "nuid": "29590fbe-9a25-4b3c-8b0c-f33c17be8c9f",
     "showTitle": false,
     "tableResultSettingsMap": {},
     "title": ""
    }
   },
   "source": [
    "### Links and Resources\n",
    "- [Select Function](https://spark.apache.org/docs/3.5.1/api/python/reference/pyspark.sql/api/pyspark.sql.DataFrame.select.html#pyspark.sql.DataFrame.select)"
   ]
  },
  {
   "cell_type": "code",
   "execution_count": 0,
   "metadata": {
    "application/vnd.databricks.v1+cell": {
     "cellMetadata": {
      "byteLimit": 2048000,
      "rowLimit": 10000
     },
     "inputWidgets": {},
     "nuid": "f38f50d7-2e74-42cb-9441-13ce2b755e9b",
     "showTitle": false,
     "tableResultSettingsMap": {},
     "title": ""
    }
   },
   "outputs": [
    {
     "output_type": "stream",
     "name": "stdout",
     "output_type": "stream",
     "text": [
      "+------------+---------+----------+--------+\n|country_name|continent|population|area_km2|\n+------------+---------+----------+--------+\n| Afghanistan|     Asia|  38928346|  652230|\n|     Albania|   Europe|   2877797|   28748|\n|     Algeria|   Africa|  43851044| 2381741|\n|     Andorra|   Europe|     77265|     468|\n|      Angola|   Africa|  32866272| 1246700|\n+------------+---------+----------+--------+\nonly showing top 5 rows\n\n"
     ]
    }
   ],
   "source": [
    "# Reading the countries_delta data into a DataFrame\n",
    "df = spark.read.format(\"delta\").load(\"/FileStore/write_demo/countries_delta\")\n",
    "\n",
    "df.show(5)"
   ]
  },
  {
   "cell_type": "markdown",
   "metadata": {
    "application/vnd.databricks.v1+cell": {
     "cellMetadata": {},
     "inputWidgets": {},
     "nuid": "cadf8edd-4e75-43f2-9592-c569ea6a211b",
     "showTitle": false,
     "tableResultSettingsMap": {},
     "title": ""
    }
   },
   "source": [
    "### Using select() with String Column Names"
   ]
  },
  {
   "cell_type": "code",
   "execution_count": 0,
   "metadata": {
    "application/vnd.databricks.v1+cell": {
     "cellMetadata": {
      "byteLimit": 2048000,
      "rowLimit": 10000
     },
     "collapsed": true,
     "inputWidgets": {},
     "nuid": "a458241c-ab6a-482d-8fcc-bedd98d81ac3",
     "showTitle": false,
     "tableResultSettingsMap": {},
     "title": ""
    }
   },
   "outputs": [
    {
     "output_type": "display_data",
     "data": {
      "text/html": [
       "<style scoped>\n",
       "  .table-result-container {\n",
       "    max-height: 300px;\n",
       "    overflow: auto;\n",
       "  }\n",
       "  table, th, td {\n",
       "    border: 1px solid black;\n",
       "    border-collapse: collapse;\n",
       "  }\n",
       "  th, td {\n",
       "    padding: 5px;\n",
       "  }\n",
       "  th {\n",
       "    text-align: left;\n",
       "  }\n",
       "</style><div class='table-result-container'><table class='table-result'><thead style='background-color: white'><tr><th>country_name</th><th>population</th></tr></thead><tbody><tr><td>Sweden</td><td>10099265</td></tr><tr><td>Switzerland</td><td>8654622</td></tr><tr><td>Syria</td><td>17500657</td></tr><tr><td>Tajikistan</td><td>9537645</td></tr><tr><td>Tanzania</td><td>59734218</td></tr><tr><td>Thailand</td><td>69799978</td></tr><tr><td>Timor-Leste</td><td>1318445</td></tr><tr><td>Togo</td><td>8278724</td></tr><tr><td>Tonga</td><td>105695</td></tr><tr><td>Trinidad and Tobago</td><td>1399488</td></tr><tr><td>Tunisia</td><td>11818619</td></tr><tr><td>Turkey</td><td>84339067</td></tr><tr><td>Turkmenistan</td><td>6031200</td></tr><tr><td>Tuvalu</td><td>11792</td></tr><tr><td>Uganda</td><td>45741007</td></tr><tr><td>Ukraine</td><td>43733762</td></tr><tr><td>United Arab Emirates</td><td>9890400</td></tr><tr><td>United Kingdom</td><td>67886011</td></tr><tr><td>United States</td><td>331002651</td></tr><tr><td>Uruguay</td><td>3473730</td></tr><tr><td>Uzbekistan</td><td>33469203</td></tr><tr><td>Vanuatu</td><td>307145</td></tr><tr><td>Venezuela</td><td>28435940</td></tr><tr><td>Vietnam</td><td>97338579</td></tr><tr><td>Yemen</td><td>29825964</td></tr><tr><td>Zambia</td><td>18383955</td></tr><tr><td>Zimbabwe</td><td>14862924</td></tr><tr><td>Rwanda</td><td>12952218</td></tr><tr><td>Saint Kitts and Nevis</td><td>53192</td></tr><tr><td>Saint Lucia</td><td>183627</td></tr><tr><td>Saint Vincent and the Grenadines</td><td>110940</td></tr><tr><td>Samoa</td><td>198414</td></tr><tr><td>San Marino</td><td>33938</td></tr><tr><td>Sao Tome and Principe</td><td>219159</td></tr><tr><td>Saudi Arabia</td><td>34813871</td></tr><tr><td>Senegal</td><td>16743927</td></tr><tr><td>Serbia</td><td>6944975</td></tr><tr><td>Seychelles</td><td>98347</td></tr><tr><td>Sierra Leone</td><td>7976983</td></tr><tr><td>Singapore</td><td>5850342</td></tr><tr><td>Slovakia</td><td>5459642</td></tr><tr><td>Slovenia</td><td>2078938</td></tr><tr><td>Solomon Islands</td><td>686884</td></tr><tr><td>Somalia</td><td>15893222</td></tr><tr><td>South Africa</td><td>59308690</td></tr><tr><td>South Korea</td><td>51269185</td></tr><tr><td>South Sudan</td><td>11193725</td></tr><tr><td>Spain</td><td>46754778</td></tr><tr><td>Sri Lanka</td><td>21413249</td></tr><tr><td>Sudan</td><td>43849260</td></tr><tr><td>Suriname</td><td>586634</td></tr><tr><td>Brunei</td><td>437479</td></tr><tr><td>Bulgaria</td><td>6948445</td></tr><tr><td>Burkina Faso</td><td>20903273</td></tr><tr><td>Burundi</td><td>11890784</td></tr><tr><td>Cabo Verde</td><td>555987</td></tr><tr><td>Cambodia</td><td>16718965</td></tr><tr><td>Cameroon</td><td>26545863</td></tr><tr><td>Canada</td><td>37742154</td></tr><tr><td>Central African Republic</td><td>4829767</td></tr><tr><td>Chad</td><td>16425864</td></tr><tr><td>Chile</td><td>19116201</td></tr><tr><td>China</td><td>1439323776</td></tr><tr><td>Colombia</td><td>50882891</td></tr><tr><td>Comoros</td><td>869601</td></tr><tr><td>Congo, Democratic Republic of the</td><td>89561403</td></tr><tr><td>Congo, Republic of the</td><td>5518087</td></tr><tr><td>Costa Rica</td><td>5094118</td></tr><tr><td>Croatia</td><td>4105267</td></tr><tr><td>Cuba</td><td>11326616</td></tr><tr><td>Côte d'Ivoire</td><td>26378274</td></tr><tr><td>Cyprus</td><td>1207359</td></tr><tr><td>Czech Republic</td><td>10708981</td></tr><tr><td>Denmark</td><td>5792202</td></tr><tr><td>Djibouti</td><td>988000</td></tr><tr><td>Nauru</td><td>10824</td></tr><tr><td>Nepal</td><td>29136808</td></tr><tr><td>Netherlands</td><td>17134872</td></tr><tr><td>New Zealand</td><td>5084300</td></tr><tr><td>Nicaragua</td><td>6624554</td></tr><tr><td>Niger</td><td>24206644</td></tr><tr><td>Nigeria</td><td>206139589</td></tr><tr><td>North Korea</td><td>25778816</td></tr><tr><td>North Macedonia</td><td>2083374</td></tr><tr><td>Norway</td><td>5421241</td></tr><tr><td>Oman</td><td>5106626</td></tr><tr><td>Pakistan</td><td>220892340</td></tr><tr><td>Palau</td><td>18094</td></tr><tr><td>Palestine, State of</td><td>5101414</td></tr><tr><td>Panama</td><td>4314767</td></tr><tr><td>Papua New Guinea</td><td>8947024</td></tr><tr><td>Paraguay</td><td>7132538</td></tr><tr><td>Peru</td><td>32971854</td></tr><tr><td>Philippines</td><td>109581078</td></tr><tr><td>Poland</td><td>37846611</td></tr><tr><td>Portugal</td><td>10196709</td></tr><tr><td>Qatar</td><td>2881053</td></tr><tr><td>Romania</td><td>19237691</td></tr><tr><td>Russia</td><td>144478050</td></tr><tr><td>Afghanistan</td><td>38928346</td></tr><tr><td>Albania</td><td>2877797</td></tr><tr><td>Algeria</td><td>43851044</td></tr><tr><td>Andorra</td><td>77265</td></tr><tr><td>Angola</td><td>32866272</td></tr><tr><td>Antigua and Barbuda</td><td>97929</td></tr><tr><td>Argentina</td><td>45376763</td></tr><tr><td>Armenia</td><td>2963243</td></tr><tr><td>Australia</td><td>25649984</td></tr><tr><td>Austria</td><td>9006398</td></tr><tr><td>Azerbaijan</td><td>10139177</td></tr><tr><td>Bahamas</td><td>393244</td></tr><tr><td>Bahrain</td><td>1701575</td></tr><tr><td>Bangladesh</td><td>164689383</td></tr><tr><td>Barbados</td><td>287375</td></tr><tr><td>Belarus</td><td>9449323</td></tr><tr><td>Belgium</td><td>11589623</td></tr><tr><td>Belize</td><td>397621</td></tr><tr><td>Benin</td><td>12123200</td></tr><tr><td>Bhutan</td><td>771608</td></tr><tr><td>Bolivia</td><td>11673021</td></tr><tr><td>Bosnia and Herzegovina</td><td>3280819</td></tr><tr><td>Botswana</td><td>2351627</td></tr><tr><td>Brazil</td><td>212559417</td></tr><tr><td>Dominica</td><td>71986</td></tr><tr><td>Dominican Republic</td><td>10847910</td></tr><tr><td>Ecuador</td><td>17643054</td></tr><tr><td>Egypt</td><td>102334404</td></tr><tr><td>El Salvador</td><td>6486205</td></tr><tr><td>Equatorial Guinea</td><td>1402985</td></tr><tr><td>Eritrea</td><td>3546421</td></tr><tr><td>Estonia</td><td>1331796</td></tr><tr><td>Eswatini</td><td>1160164</td></tr><tr><td>Ethiopia</td><td>114963588</td></tr><tr><td>Fiji</td><td>896444</td></tr><tr><td>Finland</td><td>5540720</td></tr><tr><td>France</td><td>65273511</td></tr><tr><td>Gabon</td><td>2225728</td></tr><tr><td>Gambia</td><td>2416668</td></tr><tr><td>Georgia</td><td>3989167</td></tr><tr><td>Germany</td><td>83783942</td></tr><tr><td>Ghana</td><td>31072940</td></tr><tr><td>Greece</td><td>10423054</td></tr><tr><td>Grenada</td><td>112523</td></tr><tr><td>Guatemala</td><td>17915568</td></tr><tr><td>Guinea</td><td>13132795</td></tr><tr><td>Guinea-Bissau</td><td>1968001</td></tr><tr><td>Guyana</td><td>786552</td></tr><tr><td>Liberia</td><td>5073296</td></tr><tr><td>Libya</td><td>6871292</td></tr><tr><td>Liechtenstein</td><td>38128</td></tr><tr><td>Lithuania</td><td>2722289</td></tr><tr><td>Luxembourg</td><td>634814</td></tr><tr><td>Madagascar</td><td>27691018</td></tr><tr><td>Malawi</td><td>19129952</td></tr><tr><td>Malaysia</td><td>32365999</td></tr><tr><td>Maldives</td><td>540544</td></tr><tr><td>Mali</td><td>20250833</td></tr><tr><td>Malta</td><td>441543</td></tr><tr><td>Marshall Islands</td><td>59190</td></tr><tr><td>Mauritania</td><td>4649658</td></tr><tr><td>Mauritius</td><td>1271768</td></tr><tr><td>Mexico</td><td>128932753</td></tr><tr><td>Micronesia</td><td>115023</td></tr><tr><td>Moldova</td><td>2640438</td></tr><tr><td>Monaco</td><td>39242</td></tr><tr><td>Mongolia</td><td>3278290</td></tr><tr><td>Montenegro</td><td>622359</td></tr><tr><td>Morocco</td><td>36910560</td></tr><tr><td>Mozambique</td><td>31255435</td></tr><tr><td>Myanmar</td><td>54409800</td></tr><tr><td>Namibia</td><td>2540905</td></tr><tr><td>Haiti</td><td>11402528</td></tr><tr><td>Holy See</td><td>801</td></tr><tr><td>Honduras</td><td>9904607</td></tr><tr><td>Hungary</td><td>9660351</td></tr><tr><td>Iceland</td><td>341243</td></tr><tr><td>India</td><td>1380004385</td></tr><tr><td>Indonesia</td><td>273523615</td></tr><tr><td>Iran</td><td>83992949</td></tr><tr><td>Iraq</td><td>40222493</td></tr><tr><td>Ireland</td><td>4937786</td></tr><tr><td>Israel</td><td>9053300</td></tr><tr><td>Italy</td><td>60461826</td></tr><tr><td>Jamaica</td><td>2961167</td></tr><tr><td>Japan</td><td>126476461</td></tr><tr><td>Jordan</td><td>10203134</td></tr><tr><td>Kazakhstan</td><td>18776707</td></tr><tr><td>Kenya</td><td>53771296</td></tr><tr><td>Kiribati</td><td>119449</td></tr><tr><td>Kuwait</td><td>4270571</td></tr><tr><td>Kyrgyzstan</td><td>6524195</td></tr><tr><td>Laos</td><td>7275560</td></tr><tr><td>Latvia</td><td>1886198</td></tr><tr><td>Lebanon</td><td>6825445</td></tr><tr><td>Lesotho</td><td>2142249</td></tr></tbody></table></div>"
      ]
     },
     "metadata": {
      "application/vnd.databricks.v1+output": {
       "addedWidgets": {},
       "aggData": [],
       "aggError": "",
       "aggOverflow": false,
       "aggSchema": [],
       "aggSeriesLimitReached": false,
       "aggType": "",
       "arguments": {},
       "columnCustomDisplayInfos": {},
       "data": [
        [
         "Sweden",
         10099265
        ],
        [
         "Switzerland",
         8654622
        ],
        [
         "Syria",
         17500657
        ],
        [
         "Tajikistan",
         9537645
        ],
        [
         "Tanzania",
         59734218
        ],
        [
         "Thailand",
         69799978
        ],
        [
         "Timor-Leste",
         1318445
        ],
        [
         "Togo",
         8278724
        ],
        [
         "Tonga",
         105695
        ],
        [
         "Trinidad and Tobago",
         1399488
        ],
        [
         "Tunisia",
         11818619
        ],
        [
         "Turkey",
         84339067
        ],
        [
         "Turkmenistan",
         6031200
        ],
        [
         "Tuvalu",
         11792
        ],
        [
         "Uganda",
         45741007
        ],
        [
         "Ukraine",
         43733762
        ],
        [
         "United Arab Emirates",
         9890400
        ],
        [
         "United Kingdom",
         67886011
        ],
        [
         "United States",
         331002651
        ],
        [
         "Uruguay",
         3473730
        ],
        [
         "Uzbekistan",
         33469203
        ],
        [
         "Vanuatu",
         307145
        ],
        [
         "Venezuela",
         28435940
        ],
        [
         "Vietnam",
         97338579
        ],
        [
         "Yemen",
         29825964
        ],
        [
         "Zambia",
         18383955
        ],
        [
         "Zimbabwe",
         14862924
        ],
        [
         "Rwanda",
         12952218
        ],
        [
         "Saint Kitts and Nevis",
         53192
        ],
        [
         "Saint Lucia",
         183627
        ],
        [
         "Saint Vincent and the Grenadines",
         110940
        ],
        [
         "Samoa",
         198414
        ],
        [
         "San Marino",
         33938
        ],
        [
         "Sao Tome and Principe",
         219159
        ],
        [
         "Saudi Arabia",
         34813871
        ],
        [
         "Senegal",
         16743927
        ],
        [
         "Serbia",
         6944975
        ],
        [
         "Seychelles",
         98347
        ],
        [
         "Sierra Leone",
         7976983
        ],
        [
         "Singapore",
         5850342
        ],
        [
         "Slovakia",
         5459642
        ],
        [
         "Slovenia",
         2078938
        ],
        [
         "Solomon Islands",
         686884
        ],
        [
         "Somalia",
         15893222
        ],
        [
         "South Africa",
         59308690
        ],
        [
         "South Korea",
         51269185
        ],
        [
         "South Sudan",
         11193725
        ],
        [
         "Spain",
         46754778
        ],
        [
         "Sri Lanka",
         21413249
        ],
        [
         "Sudan",
         43849260
        ],
        [
         "Suriname",
         586634
        ],
        [
         "Brunei",
         437479
        ],
        [
         "Bulgaria",
         6948445
        ],
        [
         "Burkina Faso",
         20903273
        ],
        [
         "Burundi",
         11890784
        ],
        [
         "Cabo Verde",
         555987
        ],
        [
         "Cambodia",
         16718965
        ],
        [
         "Cameroon",
         26545863
        ],
        [
         "Canada",
         37742154
        ],
        [
         "Central African Republic",
         4829767
        ],
        [
         "Chad",
         16425864
        ],
        [
         "Chile",
         19116201
        ],
        [
         "China",
         1439323776
        ],
        [
         "Colombia",
         50882891
        ],
        [
         "Comoros",
         869601
        ],
        [
         "Congo, Democratic Republic of the",
         89561403
        ],
        [
         "Congo, Republic of the",
         5518087
        ],
        [
         "Costa Rica",
         5094118
        ],
        [
         "Croatia",
         4105267
        ],
        [
         "Cuba",
         11326616
        ],
        [
         "Côte d'Ivoire",
         26378274
        ],
        [
         "Cyprus",
         1207359
        ],
        [
         "Czech Republic",
         10708981
        ],
        [
         "Denmark",
         5792202
        ],
        [
         "Djibouti",
         988000
        ],
        [
         "Nauru",
         10824
        ],
        [
         "Nepal",
         29136808
        ],
        [
         "Netherlands",
         17134872
        ],
        [
         "New Zealand",
         5084300
        ],
        [
         "Nicaragua",
         6624554
        ],
        [
         "Niger",
         24206644
        ],
        [
         "Nigeria",
         206139589
        ],
        [
         "North Korea",
         25778816
        ],
        [
         "North Macedonia",
         2083374
        ],
        [
         "Norway",
         5421241
        ],
        [
         "Oman",
         5106626
        ],
        [
         "Pakistan",
         220892340
        ],
        [
         "Palau",
         18094
        ],
        [
         "Palestine, State of",
         5101414
        ],
        [
         "Panama",
         4314767
        ],
        [
         "Papua New Guinea",
         8947024
        ],
        [
         "Paraguay",
         7132538
        ],
        [
         "Peru",
         32971854
        ],
        [
         "Philippines",
         109581078
        ],
        [
         "Poland",
         37846611
        ],
        [
         "Portugal",
         10196709
        ],
        [
         "Qatar",
         2881053
        ],
        [
         "Romania",
         19237691
        ],
        [
         "Russia",
         144478050
        ],
        [
         "Afghanistan",
         38928346
        ],
        [
         "Albania",
         2877797
        ],
        [
         "Algeria",
         43851044
        ],
        [
         "Andorra",
         77265
        ],
        [
         "Angola",
         32866272
        ],
        [
         "Antigua and Barbuda",
         97929
        ],
        [
         "Argentina",
         45376763
        ],
        [
         "Armenia",
         2963243
        ],
        [
         "Australia",
         25649984
        ],
        [
         "Austria",
         9006398
        ],
        [
         "Azerbaijan",
         10139177
        ],
        [
         "Bahamas",
         393244
        ],
        [
         "Bahrain",
         1701575
        ],
        [
         "Bangladesh",
         164689383
        ],
        [
         "Barbados",
         287375
        ],
        [
         "Belarus",
         9449323
        ],
        [
         "Belgium",
         11589623
        ],
        [
         "Belize",
         397621
        ],
        [
         "Benin",
         12123200
        ],
        [
         "Bhutan",
         771608
        ],
        [
         "Bolivia",
         11673021
        ],
        [
         "Bosnia and Herzegovina",
         3280819
        ],
        [
         "Botswana",
         2351627
        ],
        [
         "Brazil",
         212559417
        ],
        [
         "Dominica",
         71986
        ],
        [
         "Dominican Republic",
         10847910
        ],
        [
         "Ecuador",
         17643054
        ],
        [
         "Egypt",
         102334404
        ],
        [
         "El Salvador",
         6486205
        ],
        [
         "Equatorial Guinea",
         1402985
        ],
        [
         "Eritrea",
         3546421
        ],
        [
         "Estonia",
         1331796
        ],
        [
         "Eswatini",
         1160164
        ],
        [
         "Ethiopia",
         114963588
        ],
        [
         "Fiji",
         896444
        ],
        [
         "Finland",
         5540720
        ],
        [
         "France",
         65273511
        ],
        [
         "Gabon",
         2225728
        ],
        [
         "Gambia",
         2416668
        ],
        [
         "Georgia",
         3989167
        ],
        [
         "Germany",
         83783942
        ],
        [
         "Ghana",
         31072940
        ],
        [
         "Greece",
         10423054
        ],
        [
         "Grenada",
         112523
        ],
        [
         "Guatemala",
         17915568
        ],
        [
         "Guinea",
         13132795
        ],
        [
         "Guinea-Bissau",
         1968001
        ],
        [
         "Guyana",
         786552
        ],
        [
         "Liberia",
         5073296
        ],
        [
         "Libya",
         6871292
        ],
        [
         "Liechtenstein",
         38128
        ],
        [
         "Lithuania",
         2722289
        ],
        [
         "Luxembourg",
         634814
        ],
        [
         "Madagascar",
         27691018
        ],
        [
         "Malawi",
         19129952
        ],
        [
         "Malaysia",
         32365999
        ],
        [
         "Maldives",
         540544
        ],
        [
         "Mali",
         20250833
        ],
        [
         "Malta",
         441543
        ],
        [
         "Marshall Islands",
         59190
        ],
        [
         "Mauritania",
         4649658
        ],
        [
         "Mauritius",
         1271768
        ],
        [
         "Mexico",
         128932753
        ],
        [
         "Micronesia",
         115023
        ],
        [
         "Moldova",
         2640438
        ],
        [
         "Monaco",
         39242
        ],
        [
         "Mongolia",
         3278290
        ],
        [
         "Montenegro",
         622359
        ],
        [
         "Morocco",
         36910560
        ],
        [
         "Mozambique",
         31255435
        ],
        [
         "Myanmar",
         54409800
        ],
        [
         "Namibia",
         2540905
        ],
        [
         "Haiti",
         11402528
        ],
        [
         "Holy See",
         801
        ],
        [
         "Honduras",
         9904607
        ],
        [
         "Hungary",
         9660351
        ],
        [
         "Iceland",
         341243
        ],
        [
         "India",
         1380004385
        ],
        [
         "Indonesia",
         273523615
        ],
        [
         "Iran",
         83992949
        ],
        [
         "Iraq",
         40222493
        ],
        [
         "Ireland",
         4937786
        ],
        [
         "Israel",
         9053300
        ],
        [
         "Italy",
         60461826
        ],
        [
         "Jamaica",
         2961167
        ],
        [
         "Japan",
         126476461
        ],
        [
         "Jordan",
         10203134
        ],
        [
         "Kazakhstan",
         18776707
        ],
        [
         "Kenya",
         53771296
        ],
        [
         "Kiribati",
         119449
        ],
        [
         "Kuwait",
         4270571
        ],
        [
         "Kyrgyzstan",
         6524195
        ],
        [
         "Laos",
         7275560
        ],
        [
         "Latvia",
         1886198
        ],
        [
         "Lebanon",
         6825445
        ],
        [
         "Lesotho",
         2142249
        ]
       ],
       "datasetInfos": [],
       "dbfsResultPath": null,
       "isJsonSchema": true,
       "metadata": {},
       "overflow": false,
       "plotOptions": {
        "customPlotOptions": {},
        "displayType": "table",
        "pivotAggregation": null,
        "pivotColumns": null,
        "xColumns": null,
        "yColumns": null
       },
       "removedWidgets": [],
       "schema": [
        {
         "metadata": "{}",
         "name": "country_name",
         "type": "\"string\""
        },
        {
         "metadata": "{}",
         "name": "population",
         "type": "\"long\""
        }
       ],
       "type": "table"
      }
     },
     "output_type": "display_data"
    }
   ],
   "source": [
    "df.select(\"country_name\", \"population\").display()"
   ]
  },
  {
   "cell_type": "code",
   "execution_count": 0,
   "metadata": {
    "application/vnd.databricks.v1+cell": {
     "cellMetadata": {
      "byteLimit": 2048000,
      "rowLimit": 10000
     },
     "collapsed": true,
     "inputWidgets": {},
     "nuid": "42ca2df5-36c7-411b-99a6-ec0ea5a5b5a1",
     "showTitle": false,
     "tableResultSettingsMap": {},
     "title": ""
    }
   },
   "outputs": [
    {
     "output_type": "display_data",
     "data": {
      "text/html": [
       "<style scoped>\n",
       "  .table-result-container {\n",
       "    max-height: 300px;\n",
       "    overflow: auto;\n",
       "  }\n",
       "  table, th, td {\n",
       "    border: 1px solid black;\n",
       "    border-collapse: collapse;\n",
       "  }\n",
       "  th, td {\n",
       "    padding: 5px;\n",
       "  }\n",
       "  th {\n",
       "    text-align: left;\n",
       "  }\n",
       "</style><div class='table-result-container'><table class='table-result'><thead style='background-color: white'><tr><th>country_name</th><th>continent</th><th>population</th><th>area_km2</th></tr></thead><tbody><tr><td>Sweden</td><td>Europe</td><td>10099265</td><td>450295</td></tr><tr><td>Switzerland</td><td>Europe</td><td>8654622</td><td>41285</td></tr><tr><td>Syria</td><td>Asia</td><td>17500657</td><td>185180</td></tr><tr><td>Tajikistan</td><td>Asia</td><td>9537645</td><td>143100</td></tr><tr><td>Tanzania</td><td>Africa</td><td>59734218</td><td>945087</td></tr><tr><td>Thailand</td><td>Asia</td><td>69799978</td><td>513120</td></tr><tr><td>Timor-Leste</td><td>Asia</td><td>1318445</td><td>14874</td></tr><tr><td>Togo</td><td>Africa</td><td>8278724</td><td>56785</td></tr><tr><td>Tonga</td><td>Oceania</td><td>105695</td><td>747</td></tr><tr><td>Trinidad and Tobago</td><td>North America</td><td>1399488</td><td>5130</td></tr><tr><td>Tunisia</td><td>Africa</td><td>11818619</td><td>163610</td></tr><tr><td>Turkey</td><td>Asia</td><td>84339067</td><td>783562</td></tr><tr><td>Turkmenistan</td><td>Asia</td><td>6031200</td><td>488100</td></tr><tr><td>Tuvalu</td><td>Oceania</td><td>11792</td><td>26</td></tr><tr><td>Uganda</td><td>Africa</td><td>45741007</td><td>241550</td></tr><tr><td>Ukraine</td><td>Europe</td><td>43733762</td><td>603628</td></tr><tr><td>United Arab Emirates</td><td>Asia</td><td>9890400</td><td>83600</td></tr><tr><td>United Kingdom</td><td>Europe</td><td>67886011</td><td>243610</td></tr><tr><td>United States</td><td>North America</td><td>331002651</td><td>9833520</td></tr><tr><td>Uruguay</td><td>South America</td><td>3473730</td><td>176215</td></tr><tr><td>Uzbekistan</td><td>Asia</td><td>33469203</td><td>447400</td></tr><tr><td>Vanuatu</td><td>Oceania</td><td>307145</td><td>12189</td></tr><tr><td>Venezuela</td><td>South America</td><td>28435940</td><td>916445</td></tr><tr><td>Vietnam</td><td>Asia</td><td>97338579</td><td>331212</td></tr><tr><td>Yemen</td><td>Asia</td><td>29825964</td><td>527968</td></tr><tr><td>Zambia</td><td>Africa</td><td>18383955</td><td>752612</td></tr><tr><td>Zimbabwe</td><td>Africa</td><td>14862924</td><td>390757</td></tr><tr><td>Rwanda</td><td>Africa</td><td>12952218</td><td>26338</td></tr><tr><td>Saint Kitts and Nevis</td><td>North America</td><td>53192</td><td>261</td></tr><tr><td>Saint Lucia</td><td>North America</td><td>183627</td><td>616</td></tr><tr><td>Saint Vincent and the Grenadines</td><td>North America</td><td>110940</td><td>389</td></tr><tr><td>Samoa</td><td>Oceania</td><td>198414</td><td>2842</td></tr><tr><td>San Marino</td><td>Europe</td><td>33938</td><td>61</td></tr><tr><td>Sao Tome and Principe</td><td>Africa</td><td>219159</td><td>964</td></tr><tr><td>Saudi Arabia</td><td>Asia</td><td>34813871</td><td>2149690</td></tr><tr><td>Senegal</td><td>Africa</td><td>16743927</td><td>196722</td></tr><tr><td>Serbia</td><td>Europe</td><td>6944975</td><td>88361</td></tr><tr><td>Seychelles</td><td>Africa</td><td>98347</td><td>455</td></tr><tr><td>Sierra Leone</td><td>Africa</td><td>7976983</td><td>71740</td></tr><tr><td>Singapore</td><td>Asia</td><td>5850342</td><td>719</td></tr><tr><td>Slovakia</td><td>Europe</td><td>5459642</td><td>49037</td></tr><tr><td>Slovenia</td><td>Europe</td><td>2078938</td><td>20273</td></tr><tr><td>Solomon Islands</td><td>Oceania</td><td>686884</td><td>28896</td></tr><tr><td>Somalia</td><td>Africa</td><td>15893222</td><td>637657</td></tr><tr><td>South Africa</td><td>Africa</td><td>59308690</td><td>1221037</td></tr><tr><td>South Korea</td><td>Asia</td><td>51269185</td><td>100210</td></tr><tr><td>South Sudan</td><td>Africa</td><td>11193725</td><td>644329</td></tr><tr><td>Spain</td><td>Europe</td><td>46754778</td><td>505992</td></tr><tr><td>Sri Lanka</td><td>Asia</td><td>21413249</td><td>65610</td></tr><tr><td>Sudan</td><td>Africa</td><td>43849260</td><td>1861484</td></tr><tr><td>Suriname</td><td>South America</td><td>586634</td><td>163820</td></tr><tr><td>Brunei</td><td>Asia</td><td>437479</td><td>5765</td></tr><tr><td>Bulgaria</td><td>Europe</td><td>6948445</td><td>110994</td></tr><tr><td>Burkina Faso</td><td>Africa</td><td>20903273</td><td>274200</td></tr><tr><td>Burundi</td><td>Africa</td><td>11890784</td><td>27834</td></tr><tr><td>Cabo Verde</td><td>Africa</td><td>555987</td><td>4033</td></tr><tr><td>Cambodia</td><td>Asia</td><td>16718965</td><td>181035</td></tr><tr><td>Cameroon</td><td>Africa</td><td>26545863</td><td>475442</td></tr><tr><td>Canada</td><td>North America</td><td>37742154</td><td>9984670</td></tr><tr><td>Central African Republic</td><td>Africa</td><td>4829767</td><td>622984</td></tr><tr><td>Chad</td><td>Africa</td><td>16425864</td><td>1284000</td></tr><tr><td>Chile</td><td>South America</td><td>19116201</td><td>756102</td></tr><tr><td>China</td><td>Asia</td><td>1439323776</td><td>9596961</td></tr><tr><td>Colombia</td><td>South America</td><td>50882891</td><td>1141748</td></tr><tr><td>Comoros</td><td>Africa</td><td>869601</td><td>1862</td></tr><tr><td>Congo, Democratic Republic of the</td><td>Africa</td><td>89561403</td><td>2344858</td></tr><tr><td>Congo, Republic of the</td><td>Africa</td><td>5518087</td><td>342000</td></tr><tr><td>Costa Rica</td><td>North America</td><td>5094118</td><td>51100</td></tr><tr><td>Croatia</td><td>Europe</td><td>4105267</td><td>56594</td></tr><tr><td>Cuba</td><td>North America</td><td>11326616</td><td>109884</td></tr><tr><td>Côte d'Ivoire</td><td>Africa</td><td>26378274</td><td>322463</td></tr><tr><td>Cyprus</td><td>Europe</td><td>1207359</td><td>9251</td></tr><tr><td>Czech Republic</td><td>Europe</td><td>10708981</td><td>78866</td></tr><tr><td>Denmark</td><td>Europe</td><td>5792202</td><td>42933</td></tr><tr><td>Djibouti</td><td>Africa</td><td>988000</td><td>23200</td></tr><tr><td>Nauru</td><td>Oceania</td><td>10824</td><td>21</td></tr><tr><td>Nepal</td><td>Asia</td><td>29136808</td><td>147181</td></tr><tr><td>Netherlands</td><td>Europe</td><td>17134872</td><td>41543</td></tr><tr><td>New Zealand</td><td>Oceania</td><td>5084300</td><td>268838</td></tr><tr><td>Nicaragua</td><td>North America</td><td>6624554</td><td>130373</td></tr><tr><td>Niger</td><td>Africa</td><td>24206644</td><td>1267000</td></tr><tr><td>Nigeria</td><td>Africa</td><td>206139589</td><td>923768</td></tr><tr><td>North Korea</td><td>Asia</td><td>25778816</td><td>120538</td></tr><tr><td>North Macedonia</td><td>Europe</td><td>2083374</td><td>25713</td></tr><tr><td>Norway</td><td>Europe</td><td>5421241</td><td>385207</td></tr><tr><td>Oman</td><td>Asia</td><td>5106626</td><td>309500</td></tr><tr><td>Pakistan</td><td>Asia</td><td>220892340</td><td>881913</td></tr><tr><td>Palau</td><td>Oceania</td><td>18094</td><td>459</td></tr><tr><td>Palestine, State of</td><td>Asia</td><td>5101414</td><td>6020</td></tr><tr><td>Panama</td><td>North America</td><td>4314767</td><td>75417</td></tr><tr><td>Papua New Guinea</td><td>Oceania</td><td>8947024</td><td>462840</td></tr><tr><td>Paraguay</td><td>South America</td><td>7132538</td><td>406752</td></tr><tr><td>Peru</td><td>South America</td><td>32971854</td><td>1285216</td></tr><tr><td>Philippines</td><td>Asia</td><td>109581078</td><td>300000</td></tr><tr><td>Poland</td><td>Europe</td><td>37846611</td><td>312696</td></tr><tr><td>Portugal</td><td>Europe</td><td>10196709</td><td>92090</td></tr><tr><td>Qatar</td><td>Asia</td><td>2881053</td><td>11586</td></tr><tr><td>Romania</td><td>Europe</td><td>19237691</td><td>238391</td></tr><tr><td>Russia</td><td>Europe</td><td>144478050</td><td>17098242</td></tr><tr><td>Afghanistan</td><td>Asia</td><td>38928346</td><td>652230</td></tr><tr><td>Albania</td><td>Europe</td><td>2877797</td><td>28748</td></tr><tr><td>Algeria</td><td>Africa</td><td>43851044</td><td>2381741</td></tr><tr><td>Andorra</td><td>Europe</td><td>77265</td><td>468</td></tr><tr><td>Angola</td><td>Africa</td><td>32866272</td><td>1246700</td></tr><tr><td>Antigua and Barbuda</td><td>North America</td><td>97929</td><td>442</td></tr><tr><td>Argentina</td><td>South America</td><td>45376763</td><td>2780400</td></tr><tr><td>Armenia</td><td>Asia</td><td>2963243</td><td>29743</td></tr><tr><td>Australia</td><td>Oceania</td><td>25649984</td><td>7692024</td></tr><tr><td>Austria</td><td>Europe</td><td>9006398</td><td>83879</td></tr><tr><td>Azerbaijan</td><td>Asia</td><td>10139177</td><td>86600</td></tr><tr><td>Bahamas</td><td>North America</td><td>393244</td><td>13943</td></tr><tr><td>Bahrain</td><td>Asia</td><td>1701575</td><td>765</td></tr><tr><td>Bangladesh</td><td>Asia</td><td>164689383</td><td>147570</td></tr><tr><td>Barbados</td><td>North America</td><td>287375</td><td>430</td></tr><tr><td>Belarus</td><td>Europe</td><td>9449323</td><td>207600</td></tr><tr><td>Belgium</td><td>Europe</td><td>11589623</td><td>30528</td></tr><tr><td>Belize</td><td>North America</td><td>397621</td><td>22966</td></tr><tr><td>Benin</td><td>Africa</td><td>12123200</td><td>114763</td></tr><tr><td>Bhutan</td><td>Asia</td><td>771608</td><td>38394</td></tr><tr><td>Bolivia</td><td>South America</td><td>11673021</td><td>1098581</td></tr><tr><td>Bosnia and Herzegovina</td><td>Europe</td><td>3280819</td><td>51129</td></tr><tr><td>Botswana</td><td>Africa</td><td>2351627</td><td>581730</td></tr><tr><td>Brazil</td><td>South America</td><td>212559417</td><td>8515767</td></tr><tr><td>Dominica</td><td>North America</td><td>71986</td><td>751</td></tr><tr><td>Dominican Republic</td><td>North America</td><td>10847910</td><td>48671</td></tr><tr><td>Ecuador</td><td>South America</td><td>17643054</td><td>283561</td></tr><tr><td>Egypt</td><td>Africa</td><td>102334404</td><td>1002450</td></tr><tr><td>El Salvador</td><td>North America</td><td>6486205</td><td>21041</td></tr><tr><td>Equatorial Guinea</td><td>Africa</td><td>1402985</td><td>28051</td></tr><tr><td>Eritrea</td><td>Africa</td><td>3546421</td><td>117600</td></tr><tr><td>Estonia</td><td>Europe</td><td>1331796</td><td>45227</td></tr><tr><td>Eswatini</td><td>Africa</td><td>1160164</td><td>17364</td></tr><tr><td>Ethiopia</td><td>Africa</td><td>114963588</td><td>1104300</td></tr><tr><td>Fiji</td><td>Oceania</td><td>896444</td><td>18274</td></tr><tr><td>Finland</td><td>Europe</td><td>5540720</td><td>338424</td></tr><tr><td>France</td><td>Europe</td><td>65273511</td><td>551695</td></tr><tr><td>Gabon</td><td>Africa</td><td>2225728</td><td>267668</td></tr><tr><td>Gambia</td><td>Africa</td><td>2416668</td><td>11295</td></tr><tr><td>Georgia</td><td>Asia</td><td>3989167</td><td>69700</td></tr><tr><td>Germany</td><td>Europe</td><td>83783942</td><td>357022</td></tr><tr><td>Ghana</td><td>Africa</td><td>31072940</td><td>238533</td></tr><tr><td>Greece</td><td>Europe</td><td>10423054</td><td>131957</td></tr><tr><td>Grenada</td><td>North America</td><td>112523</td><td>344</td></tr><tr><td>Guatemala</td><td>North America</td><td>17915568</td><td>108889</td></tr><tr><td>Guinea</td><td>Africa</td><td>13132795</td><td>245857</td></tr><tr><td>Guinea-Bissau</td><td>Africa</td><td>1968001</td><td>36125</td></tr><tr><td>Guyana</td><td>South America</td><td>786552</td><td>214969</td></tr><tr><td>Liberia</td><td>Africa</td><td>5073296</td><td>111369</td></tr><tr><td>Libya</td><td>Africa</td><td>6871292</td><td>1759540</td></tr><tr><td>Liechtenstein</td><td>Europe</td><td>38128</td><td>160</td></tr><tr><td>Lithuania</td><td>Europe</td><td>2722289</td><td>65300</td></tr><tr><td>Luxembourg</td><td>Europe</td><td>634814</td><td>2586</td></tr><tr><td>Madagascar</td><td>Africa</td><td>27691018</td><td>587041</td></tr><tr><td>Malawi</td><td>Africa</td><td>19129952</td><td>118484</td></tr><tr><td>Malaysia</td><td>Asia</td><td>32365999</td><td>330803</td></tr><tr><td>Maldives</td><td>Asia</td><td>540544</td><td>300</td></tr><tr><td>Mali</td><td>Africa</td><td>20250833</td><td>1240192</td></tr><tr><td>Malta</td><td>Europe</td><td>441543</td><td>316</td></tr><tr><td>Marshall Islands</td><td>Oceania</td><td>59190</td><td>181</td></tr><tr><td>Mauritania</td><td>Africa</td><td>4649658</td><td>1030700</td></tr><tr><td>Mauritius</td><td>Africa</td><td>1271768</td><td>2040</td></tr><tr><td>Mexico</td><td>North America</td><td>128932753</td><td>1964375</td></tr><tr><td>Micronesia</td><td>Oceania</td><td>115023</td><td>702</td></tr><tr><td>Moldova</td><td>Europe</td><td>2640438</td><td>33851</td></tr><tr><td>Monaco</td><td>Europe</td><td>39242</td><td>2</td></tr><tr><td>Mongolia</td><td>Asia</td><td>3278290</td><td>1564110</td></tr><tr><td>Montenegro</td><td>Europe</td><td>622359</td><td>13812</td></tr><tr><td>Morocco</td><td>Africa</td><td>36910560</td><td>446550</td></tr><tr><td>Mozambique</td><td>Africa</td><td>31255435</td><td>801590</td></tr><tr><td>Myanmar</td><td>Asia</td><td>54409800</td><td>676578</td></tr><tr><td>Namibia</td><td>Africa</td><td>2540905</td><td>824292</td></tr><tr><td>Haiti</td><td>North America</td><td>11402528</td><td>27750</td></tr><tr><td>Holy See</td><td>Europe</td><td>801</td><td>0</td></tr><tr><td>Honduras</td><td>North America</td><td>9904607</td><td>112492</td></tr><tr><td>Hungary</td><td>Europe</td><td>9660351</td><td>93030</td></tr><tr><td>Iceland</td><td>Europe</td><td>341243</td><td>103000</td></tr><tr><td>India</td><td>Asia</td><td>1380004385</td><td>3287263</td></tr><tr><td>Indonesia</td><td>Asia</td><td>273523615</td><td>1904569</td></tr><tr><td>Iran</td><td>Asia</td><td>83992949</td><td>1648195</td></tr><tr><td>Iraq</td><td>Asia</td><td>40222493</td><td>438317</td></tr><tr><td>Ireland</td><td>Europe</td><td>4937786</td><td>70273</td></tr><tr><td>Israel</td><td>Asia</td><td>9053300</td><td>20770</td></tr><tr><td>Italy</td><td>Europe</td><td>60461826</td><td>301340</td></tr><tr><td>Jamaica</td><td>North America</td><td>2961167</td><td>10991</td></tr><tr><td>Japan</td><td>Asia</td><td>126476461</td><td>377975</td></tr><tr><td>Jordan</td><td>Asia</td><td>10203134</td><td>89342</td></tr><tr><td>Kazakhstan</td><td>Asia</td><td>18776707</td><td>2724900</td></tr><tr><td>Kenya</td><td>Africa</td><td>53771296</td><td>580367</td></tr><tr><td>Kiribati</td><td>Oceania</td><td>119449</td><td>811</td></tr><tr><td>Kuwait</td><td>Asia</td><td>4270571</td><td>17818</td></tr><tr><td>Kyrgyzstan</td><td>Asia</td><td>6524195</td><td>199951</td></tr><tr><td>Laos</td><td>Asia</td><td>7275560</td><td>236800</td></tr><tr><td>Latvia</td><td>Europe</td><td>1886198</td><td>64559</td></tr><tr><td>Lebanon</td><td>Asia</td><td>6825445</td><td>10452</td></tr><tr><td>Lesotho</td><td>Africa</td><td>2142249</td><td>30355</td></tr></tbody></table></div>"
      ]
     },
     "metadata": {
      "application/vnd.databricks.v1+output": {
       "addedWidgets": {},
       "aggData": [],
       "aggError": "",
       "aggOverflow": false,
       "aggSchema": [],
       "aggSeriesLimitReached": false,
       "aggType": "",
       "arguments": {},
       "columnCustomDisplayInfos": {},
       "data": [
        [
         "Sweden",
         "Europe",
         10099265,
         450295
        ],
        [
         "Switzerland",
         "Europe",
         8654622,
         41285
        ],
        [
         "Syria",
         "Asia",
         17500657,
         185180
        ],
        [
         "Tajikistan",
         "Asia",
         9537645,
         143100
        ],
        [
         "Tanzania",
         "Africa",
         59734218,
         945087
        ],
        [
         "Thailand",
         "Asia",
         69799978,
         513120
        ],
        [
         "Timor-Leste",
         "Asia",
         1318445,
         14874
        ],
        [
         "Togo",
         "Africa",
         8278724,
         56785
        ],
        [
         "Tonga",
         "Oceania",
         105695,
         747
        ],
        [
         "Trinidad and Tobago",
         "North America",
         1399488,
         5130
        ],
        [
         "Tunisia",
         "Africa",
         11818619,
         163610
        ],
        [
         "Turkey",
         "Asia",
         84339067,
         783562
        ],
        [
         "Turkmenistan",
         "Asia",
         6031200,
         488100
        ],
        [
         "Tuvalu",
         "Oceania",
         11792,
         26
        ],
        [
         "Uganda",
         "Africa",
         45741007,
         241550
        ],
        [
         "Ukraine",
         "Europe",
         43733762,
         603628
        ],
        [
         "United Arab Emirates",
         "Asia",
         9890400,
         83600
        ],
        [
         "United Kingdom",
         "Europe",
         67886011,
         243610
        ],
        [
         "United States",
         "North America",
         331002651,
         9833520
        ],
        [
         "Uruguay",
         "South America",
         3473730,
         176215
        ],
        [
         "Uzbekistan",
         "Asia",
         33469203,
         447400
        ],
        [
         "Vanuatu",
         "Oceania",
         307145,
         12189
        ],
        [
         "Venezuela",
         "South America",
         28435940,
         916445
        ],
        [
         "Vietnam",
         "Asia",
         97338579,
         331212
        ],
        [
         "Yemen",
         "Asia",
         29825964,
         527968
        ],
        [
         "Zambia",
         "Africa",
         18383955,
         752612
        ],
        [
         "Zimbabwe",
         "Africa",
         14862924,
         390757
        ],
        [
         "Rwanda",
         "Africa",
         12952218,
         26338
        ],
        [
         "Saint Kitts and Nevis",
         "North America",
         53192,
         261
        ],
        [
         "Saint Lucia",
         "North America",
         183627,
         616
        ],
        [
         "Saint Vincent and the Grenadines",
         "North America",
         110940,
         389
        ],
        [
         "Samoa",
         "Oceania",
         198414,
         2842
        ],
        [
         "San Marino",
         "Europe",
         33938,
         61
        ],
        [
         "Sao Tome and Principe",
         "Africa",
         219159,
         964
        ],
        [
         "Saudi Arabia",
         "Asia",
         34813871,
         2149690
        ],
        [
         "Senegal",
         "Africa",
         16743927,
         196722
        ],
        [
         "Serbia",
         "Europe",
         6944975,
         88361
        ],
        [
         "Seychelles",
         "Africa",
         98347,
         455
        ],
        [
         "Sierra Leone",
         "Africa",
         7976983,
         71740
        ],
        [
         "Singapore",
         "Asia",
         5850342,
         719
        ],
        [
         "Slovakia",
         "Europe",
         5459642,
         49037
        ],
        [
         "Slovenia",
         "Europe",
         2078938,
         20273
        ],
        [
         "Solomon Islands",
         "Oceania",
         686884,
         28896
        ],
        [
         "Somalia",
         "Africa",
         15893222,
         637657
        ],
        [
         "South Africa",
         "Africa",
         59308690,
         1221037
        ],
        [
         "South Korea",
         "Asia",
         51269185,
         100210
        ],
        [
         "South Sudan",
         "Africa",
         11193725,
         644329
        ],
        [
         "Spain",
         "Europe",
         46754778,
         505992
        ],
        [
         "Sri Lanka",
         "Asia",
         21413249,
         65610
        ],
        [
         "Sudan",
         "Africa",
         43849260,
         1861484
        ],
        [
         "Suriname",
         "South America",
         586634,
         163820
        ],
        [
         "Brunei",
         "Asia",
         437479,
         5765
        ],
        [
         "Bulgaria",
         "Europe",
         6948445,
         110994
        ],
        [
         "Burkina Faso",
         "Africa",
         20903273,
         274200
        ],
        [
         "Burundi",
         "Africa",
         11890784,
         27834
        ],
        [
         "Cabo Verde",
         "Africa",
         555987,
         4033
        ],
        [
         "Cambodia",
         "Asia",
         16718965,
         181035
        ],
        [
         "Cameroon",
         "Africa",
         26545863,
         475442
        ],
        [
         "Canada",
         "North America",
         37742154,
         9984670
        ],
        [
         "Central African Republic",
         "Africa",
         4829767,
         622984
        ],
        [
         "Chad",
         "Africa",
         16425864,
         1284000
        ],
        [
         "Chile",
         "South America",
         19116201,
         756102
        ],
        [
         "China",
         "Asia",
         1439323776,
         9596961
        ],
        [
         "Colombia",
         "South America",
         50882891,
         1141748
        ],
        [
         "Comoros",
         "Africa",
         869601,
         1862
        ],
        [
         "Congo, Democratic Republic of the",
         "Africa",
         89561403,
         2344858
        ],
        [
         "Congo, Republic of the",
         "Africa",
         5518087,
         342000
        ],
        [
         "Costa Rica",
         "North America",
         5094118,
         51100
        ],
        [
         "Croatia",
         "Europe",
         4105267,
         56594
        ],
        [
         "Cuba",
         "North America",
         11326616,
         109884
        ],
        [
         "Côte d'Ivoire",
         "Africa",
         26378274,
         322463
        ],
        [
         "Cyprus",
         "Europe",
         1207359,
         9251
        ],
        [
         "Czech Republic",
         "Europe",
         10708981,
         78866
        ],
        [
         "Denmark",
         "Europe",
         5792202,
         42933
        ],
        [
         "Djibouti",
         "Africa",
         988000,
         23200
        ],
        [
         "Nauru",
         "Oceania",
         10824,
         21
        ],
        [
         "Nepal",
         "Asia",
         29136808,
         147181
        ],
        [
         "Netherlands",
         "Europe",
         17134872,
         41543
        ],
        [
         "New Zealand",
         "Oceania",
         5084300,
         268838
        ],
        [
         "Nicaragua",
         "North America",
         6624554,
         130373
        ],
        [
         "Niger",
         "Africa",
         24206644,
         1267000
        ],
        [
         "Nigeria",
         "Africa",
         206139589,
         923768
        ],
        [
         "North Korea",
         "Asia",
         25778816,
         120538
        ],
        [
         "North Macedonia",
         "Europe",
         2083374,
         25713
        ],
        [
         "Norway",
         "Europe",
         5421241,
         385207
        ],
        [
         "Oman",
         "Asia",
         5106626,
         309500
        ],
        [
         "Pakistan",
         "Asia",
         220892340,
         881913
        ],
        [
         "Palau",
         "Oceania",
         18094,
         459
        ],
        [
         "Palestine, State of",
         "Asia",
         5101414,
         6020
        ],
        [
         "Panama",
         "North America",
         4314767,
         75417
        ],
        [
         "Papua New Guinea",
         "Oceania",
         8947024,
         462840
        ],
        [
         "Paraguay",
         "South America",
         7132538,
         406752
        ],
        [
         "Peru",
         "South America",
         32971854,
         1285216
        ],
        [
         "Philippines",
         "Asia",
         109581078,
         300000
        ],
        [
         "Poland",
         "Europe",
         37846611,
         312696
        ],
        [
         "Portugal",
         "Europe",
         10196709,
         92090
        ],
        [
         "Qatar",
         "Asia",
         2881053,
         11586
        ],
        [
         "Romania",
         "Europe",
         19237691,
         238391
        ],
        [
         "Russia",
         "Europe",
         144478050,
         17098242
        ],
        [
         "Afghanistan",
         "Asia",
         38928346,
         652230
        ],
        [
         "Albania",
         "Europe",
         2877797,
         28748
        ],
        [
         "Algeria",
         "Africa",
         43851044,
         2381741
        ],
        [
         "Andorra",
         "Europe",
         77265,
         468
        ],
        [
         "Angola",
         "Africa",
         32866272,
         1246700
        ],
        [
         "Antigua and Barbuda",
         "North America",
         97929,
         442
        ],
        [
         "Argentina",
         "South America",
         45376763,
         2780400
        ],
        [
         "Armenia",
         "Asia",
         2963243,
         29743
        ],
        [
         "Australia",
         "Oceania",
         25649984,
         7692024
        ],
        [
         "Austria",
         "Europe",
         9006398,
         83879
        ],
        [
         "Azerbaijan",
         "Asia",
         10139177,
         86600
        ],
        [
         "Bahamas",
         "North America",
         393244,
         13943
        ],
        [
         "Bahrain",
         "Asia",
         1701575,
         765
        ],
        [
         "Bangladesh",
         "Asia",
         164689383,
         147570
        ],
        [
         "Barbados",
         "North America",
         287375,
         430
        ],
        [
         "Belarus",
         "Europe",
         9449323,
         207600
        ],
        [
         "Belgium",
         "Europe",
         11589623,
         30528
        ],
        [
         "Belize",
         "North America",
         397621,
         22966
        ],
        [
         "Benin",
         "Africa",
         12123200,
         114763
        ],
        [
         "Bhutan",
         "Asia",
         771608,
         38394
        ],
        [
         "Bolivia",
         "South America",
         11673021,
         1098581
        ],
        [
         "Bosnia and Herzegovina",
         "Europe",
         3280819,
         51129
        ],
        [
         "Botswana",
         "Africa",
         2351627,
         581730
        ],
        [
         "Brazil",
         "South America",
         212559417,
         8515767
        ],
        [
         "Dominica",
         "North America",
         71986,
         751
        ],
        [
         "Dominican Republic",
         "North America",
         10847910,
         48671
        ],
        [
         "Ecuador",
         "South America",
         17643054,
         283561
        ],
        [
         "Egypt",
         "Africa",
         102334404,
         1002450
        ],
        [
         "El Salvador",
         "North America",
         6486205,
         21041
        ],
        [
         "Equatorial Guinea",
         "Africa",
         1402985,
         28051
        ],
        [
         "Eritrea",
         "Africa",
         3546421,
         117600
        ],
        [
         "Estonia",
         "Europe",
         1331796,
         45227
        ],
        [
         "Eswatini",
         "Africa",
         1160164,
         17364
        ],
        [
         "Ethiopia",
         "Africa",
         114963588,
         1104300
        ],
        [
         "Fiji",
         "Oceania",
         896444,
         18274
        ],
        [
         "Finland",
         "Europe",
         5540720,
         338424
        ],
        [
         "France",
         "Europe",
         65273511,
         551695
        ],
        [
         "Gabon",
         "Africa",
         2225728,
         267668
        ],
        [
         "Gambia",
         "Africa",
         2416668,
         11295
        ],
        [
         "Georgia",
         "Asia",
         3989167,
         69700
        ],
        [
         "Germany",
         "Europe",
         83783942,
         357022
        ],
        [
         "Ghana",
         "Africa",
         31072940,
         238533
        ],
        [
         "Greece",
         "Europe",
         10423054,
         131957
        ],
        [
         "Grenada",
         "North America",
         112523,
         344
        ],
        [
         "Guatemala",
         "North America",
         17915568,
         108889
        ],
        [
         "Guinea",
         "Africa",
         13132795,
         245857
        ],
        [
         "Guinea-Bissau",
         "Africa",
         1968001,
         36125
        ],
        [
         "Guyana",
         "South America",
         786552,
         214969
        ],
        [
         "Liberia",
         "Africa",
         5073296,
         111369
        ],
        [
         "Libya",
         "Africa",
         6871292,
         1759540
        ],
        [
         "Liechtenstein",
         "Europe",
         38128,
         160
        ],
        [
         "Lithuania",
         "Europe",
         2722289,
         65300
        ],
        [
         "Luxembourg",
         "Europe",
         634814,
         2586
        ],
        [
         "Madagascar",
         "Africa",
         27691018,
         587041
        ],
        [
         "Malawi",
         "Africa",
         19129952,
         118484
        ],
        [
         "Malaysia",
         "Asia",
         32365999,
         330803
        ],
        [
         "Maldives",
         "Asia",
         540544,
         300
        ],
        [
         "Mali",
         "Africa",
         20250833,
         1240192
        ],
        [
         "Malta",
         "Europe",
         441543,
         316
        ],
        [
         "Marshall Islands",
         "Oceania",
         59190,
         181
        ],
        [
         "Mauritania",
         "Africa",
         4649658,
         1030700
        ],
        [
         "Mauritius",
         "Africa",
         1271768,
         2040
        ],
        [
         "Mexico",
         "North America",
         128932753,
         1964375
        ],
        [
         "Micronesia",
         "Oceania",
         115023,
         702
        ],
        [
         "Moldova",
         "Europe",
         2640438,
         33851
        ],
        [
         "Monaco",
         "Europe",
         39242,
         2
        ],
        [
         "Mongolia",
         "Asia",
         3278290,
         1564110
        ],
        [
         "Montenegro",
         "Europe",
         622359,
         13812
        ],
        [
         "Morocco",
         "Africa",
         36910560,
         446550
        ],
        [
         "Mozambique",
         "Africa",
         31255435,
         801590
        ],
        [
         "Myanmar",
         "Asia",
         54409800,
         676578
        ],
        [
         "Namibia",
         "Africa",
         2540905,
         824292
        ],
        [
         "Haiti",
         "North America",
         11402528,
         27750
        ],
        [
         "Holy See",
         "Europe",
         801,
         0
        ],
        [
         "Honduras",
         "North America",
         9904607,
         112492
        ],
        [
         "Hungary",
         "Europe",
         9660351,
         93030
        ],
        [
         "Iceland",
         "Europe",
         341243,
         103000
        ],
        [
         "India",
         "Asia",
         1380004385,
         3287263
        ],
        [
         "Indonesia",
         "Asia",
         273523615,
         1904569
        ],
        [
         "Iran",
         "Asia",
         83992949,
         1648195
        ],
        [
         "Iraq",
         "Asia",
         40222493,
         438317
        ],
        [
         "Ireland",
         "Europe",
         4937786,
         70273
        ],
        [
         "Israel",
         "Asia",
         9053300,
         20770
        ],
        [
         "Italy",
         "Europe",
         60461826,
         301340
        ],
        [
         "Jamaica",
         "North America",
         2961167,
         10991
        ],
        [
         "Japan",
         "Asia",
         126476461,
         377975
        ],
        [
         "Jordan",
         "Asia",
         10203134,
         89342
        ],
        [
         "Kazakhstan",
         "Asia",
         18776707,
         2724900
        ],
        [
         "Kenya",
         "Africa",
         53771296,
         580367
        ],
        [
         "Kiribati",
         "Oceania",
         119449,
         811
        ],
        [
         "Kuwait",
         "Asia",
         4270571,
         17818
        ],
        [
         "Kyrgyzstan",
         "Asia",
         6524195,
         199951
        ],
        [
         "Laos",
         "Asia",
         7275560,
         236800
        ],
        [
         "Latvia",
         "Europe",
         1886198,
         64559
        ],
        [
         "Lebanon",
         "Asia",
         6825445,
         10452
        ],
        [
         "Lesotho",
         "Africa",
         2142249,
         30355
        ]
       ],
       "datasetInfos": [],
       "dbfsResultPath": null,
       "isJsonSchema": true,
       "metadata": {},
       "overflow": false,
       "plotOptions": {
        "customPlotOptions": {},
        "displayType": "table",
        "pivotAggregation": null,
        "pivotColumns": null,
        "xColumns": null,
        "yColumns": null
       },
       "removedWidgets": [],
       "schema": [
        {
         "metadata": "{}",
         "name": "country_name",
         "type": "\"string\""
        },
        {
         "metadata": "{}",
         "name": "continent",
         "type": "\"string\""
        },
        {
         "metadata": "{}",
         "name": "population",
         "type": "\"long\""
        },
        {
         "metadata": "{}",
         "name": "area_km2",
         "type": "\"integer\""
        }
       ],
       "type": "table"
      }
     },
     "output_type": "display_data"
    }
   ],
   "source": [
    "df.select(\"*\").display()"
   ]
  },
  {
   "cell_type": "markdown",
   "metadata": {
    "application/vnd.databricks.v1+cell": {
     "cellMetadata": {},
     "inputWidgets": {},
     "nuid": "9df18046-a35c-4afb-a696-9e1cef9d3f77",
     "showTitle": false,
     "tableResultSettingsMap": {},
     "title": ""
    }
   },
   "source": [
    "### Using select() with Column Objects"
   ]
  },
  {
   "cell_type": "code",
   "execution_count": 0,
   "metadata": {
    "application/vnd.databricks.v1+cell": {
     "cellMetadata": {
      "byteLimit": 2048000,
      "rowLimit": 10000
     },
     "inputWidgets": {},
     "nuid": "fe3750a5-4289-47cf-b432-61712718185b",
     "showTitle": false,
     "tableResultSettingsMap": {},
     "title": ""
    }
   },
   "outputs": [
    {
     "output_type": "display_data",
     "data": {
      "text/html": [
       "<style scoped>\n",
       "  .table-result-container {\n",
       "    max-height: 300px;\n",
       "    overflow: auto;\n",
       "  }\n",
       "  table, th, td {\n",
       "    border: 1px solid black;\n",
       "    border-collapse: collapse;\n",
       "  }\n",
       "  th, td {\n",
       "    padding: 5px;\n",
       "  }\n",
       "  th {\n",
       "    text-align: left;\n",
       "  }\n",
       "</style><div class='table-result-container'><table class='table-result'><thead style='background-color: white'><tr><th>country</th><th>population</th></tr></thead><tbody><tr><td>Sweden</td><td>10099265</td></tr><tr><td>Switzerland</td><td>8654622</td></tr><tr><td>Syria</td><td>17500657</td></tr><tr><td>Tajikistan</td><td>9537645</td></tr><tr><td>Tanzania</td><td>59734218</td></tr><tr><td>Thailand</td><td>69799978</td></tr><tr><td>Timor-Leste</td><td>1318445</td></tr><tr><td>Togo</td><td>8278724</td></tr><tr><td>Tonga</td><td>105695</td></tr><tr><td>Trinidad and Tobago</td><td>1399488</td></tr><tr><td>Tunisia</td><td>11818619</td></tr><tr><td>Turkey</td><td>84339067</td></tr><tr><td>Turkmenistan</td><td>6031200</td></tr><tr><td>Tuvalu</td><td>11792</td></tr><tr><td>Uganda</td><td>45741007</td></tr><tr><td>Ukraine</td><td>43733762</td></tr><tr><td>United Arab Emirates</td><td>9890400</td></tr><tr><td>United Kingdom</td><td>67886011</td></tr><tr><td>United States</td><td>331002651</td></tr><tr><td>Uruguay</td><td>3473730</td></tr><tr><td>Uzbekistan</td><td>33469203</td></tr><tr><td>Vanuatu</td><td>307145</td></tr><tr><td>Venezuela</td><td>28435940</td></tr><tr><td>Vietnam</td><td>97338579</td></tr><tr><td>Yemen</td><td>29825964</td></tr><tr><td>Zambia</td><td>18383955</td></tr><tr><td>Zimbabwe</td><td>14862924</td></tr><tr><td>Rwanda</td><td>12952218</td></tr><tr><td>Saint Kitts and Nevis</td><td>53192</td></tr><tr><td>Saint Lucia</td><td>183627</td></tr><tr><td>Saint Vincent and the Grenadines</td><td>110940</td></tr><tr><td>Samoa</td><td>198414</td></tr><tr><td>San Marino</td><td>33938</td></tr><tr><td>Sao Tome and Principe</td><td>219159</td></tr><tr><td>Saudi Arabia</td><td>34813871</td></tr><tr><td>Senegal</td><td>16743927</td></tr><tr><td>Serbia</td><td>6944975</td></tr><tr><td>Seychelles</td><td>98347</td></tr><tr><td>Sierra Leone</td><td>7976983</td></tr><tr><td>Singapore</td><td>5850342</td></tr><tr><td>Slovakia</td><td>5459642</td></tr><tr><td>Slovenia</td><td>2078938</td></tr><tr><td>Solomon Islands</td><td>686884</td></tr><tr><td>Somalia</td><td>15893222</td></tr><tr><td>South Africa</td><td>59308690</td></tr><tr><td>South Korea</td><td>51269185</td></tr><tr><td>South Sudan</td><td>11193725</td></tr><tr><td>Spain</td><td>46754778</td></tr><tr><td>Sri Lanka</td><td>21413249</td></tr><tr><td>Sudan</td><td>43849260</td></tr><tr><td>Suriname</td><td>586634</td></tr><tr><td>Brunei</td><td>437479</td></tr><tr><td>Bulgaria</td><td>6948445</td></tr><tr><td>Burkina Faso</td><td>20903273</td></tr><tr><td>Burundi</td><td>11890784</td></tr><tr><td>Cabo Verde</td><td>555987</td></tr><tr><td>Cambodia</td><td>16718965</td></tr><tr><td>Cameroon</td><td>26545863</td></tr><tr><td>Canada</td><td>37742154</td></tr><tr><td>Central African Republic</td><td>4829767</td></tr><tr><td>Chad</td><td>16425864</td></tr><tr><td>Chile</td><td>19116201</td></tr><tr><td>China</td><td>1439323776</td></tr><tr><td>Colombia</td><td>50882891</td></tr><tr><td>Comoros</td><td>869601</td></tr><tr><td>Congo, Democratic Republic of the</td><td>89561403</td></tr><tr><td>Congo, Republic of the</td><td>5518087</td></tr><tr><td>Costa Rica</td><td>5094118</td></tr><tr><td>Croatia</td><td>4105267</td></tr><tr><td>Cuba</td><td>11326616</td></tr><tr><td>Côte d'Ivoire</td><td>26378274</td></tr><tr><td>Cyprus</td><td>1207359</td></tr><tr><td>Czech Republic</td><td>10708981</td></tr><tr><td>Denmark</td><td>5792202</td></tr><tr><td>Djibouti</td><td>988000</td></tr><tr><td>Nauru</td><td>10824</td></tr><tr><td>Nepal</td><td>29136808</td></tr><tr><td>Netherlands</td><td>17134872</td></tr><tr><td>New Zealand</td><td>5084300</td></tr><tr><td>Nicaragua</td><td>6624554</td></tr><tr><td>Niger</td><td>24206644</td></tr><tr><td>Nigeria</td><td>206139589</td></tr><tr><td>North Korea</td><td>25778816</td></tr><tr><td>North Macedonia</td><td>2083374</td></tr><tr><td>Norway</td><td>5421241</td></tr><tr><td>Oman</td><td>5106626</td></tr><tr><td>Pakistan</td><td>220892340</td></tr><tr><td>Palau</td><td>18094</td></tr><tr><td>Palestine, State of</td><td>5101414</td></tr><tr><td>Panama</td><td>4314767</td></tr><tr><td>Papua New Guinea</td><td>8947024</td></tr><tr><td>Paraguay</td><td>7132538</td></tr><tr><td>Peru</td><td>32971854</td></tr><tr><td>Philippines</td><td>109581078</td></tr><tr><td>Poland</td><td>37846611</td></tr><tr><td>Portugal</td><td>10196709</td></tr><tr><td>Qatar</td><td>2881053</td></tr><tr><td>Romania</td><td>19237691</td></tr><tr><td>Russia</td><td>144478050</td></tr><tr><td>Afghanistan</td><td>38928346</td></tr><tr><td>Albania</td><td>2877797</td></tr><tr><td>Algeria</td><td>43851044</td></tr><tr><td>Andorra</td><td>77265</td></tr><tr><td>Angola</td><td>32866272</td></tr><tr><td>Antigua and Barbuda</td><td>97929</td></tr><tr><td>Argentina</td><td>45376763</td></tr><tr><td>Armenia</td><td>2963243</td></tr><tr><td>Australia</td><td>25649984</td></tr><tr><td>Austria</td><td>9006398</td></tr><tr><td>Azerbaijan</td><td>10139177</td></tr><tr><td>Bahamas</td><td>393244</td></tr><tr><td>Bahrain</td><td>1701575</td></tr><tr><td>Bangladesh</td><td>164689383</td></tr><tr><td>Barbados</td><td>287375</td></tr><tr><td>Belarus</td><td>9449323</td></tr><tr><td>Belgium</td><td>11589623</td></tr><tr><td>Belize</td><td>397621</td></tr><tr><td>Benin</td><td>12123200</td></tr><tr><td>Bhutan</td><td>771608</td></tr><tr><td>Bolivia</td><td>11673021</td></tr><tr><td>Bosnia and Herzegovina</td><td>3280819</td></tr><tr><td>Botswana</td><td>2351627</td></tr><tr><td>Brazil</td><td>212559417</td></tr><tr><td>Dominica</td><td>71986</td></tr><tr><td>Dominican Republic</td><td>10847910</td></tr><tr><td>Ecuador</td><td>17643054</td></tr><tr><td>Egypt</td><td>102334404</td></tr><tr><td>El Salvador</td><td>6486205</td></tr><tr><td>Equatorial Guinea</td><td>1402985</td></tr><tr><td>Eritrea</td><td>3546421</td></tr><tr><td>Estonia</td><td>1331796</td></tr><tr><td>Eswatini</td><td>1160164</td></tr><tr><td>Ethiopia</td><td>114963588</td></tr><tr><td>Fiji</td><td>896444</td></tr><tr><td>Finland</td><td>5540720</td></tr><tr><td>France</td><td>65273511</td></tr><tr><td>Gabon</td><td>2225728</td></tr><tr><td>Gambia</td><td>2416668</td></tr><tr><td>Georgia</td><td>3989167</td></tr><tr><td>Germany</td><td>83783942</td></tr><tr><td>Ghana</td><td>31072940</td></tr><tr><td>Greece</td><td>10423054</td></tr><tr><td>Grenada</td><td>112523</td></tr><tr><td>Guatemala</td><td>17915568</td></tr><tr><td>Guinea</td><td>13132795</td></tr><tr><td>Guinea-Bissau</td><td>1968001</td></tr><tr><td>Guyana</td><td>786552</td></tr><tr><td>Liberia</td><td>5073296</td></tr><tr><td>Libya</td><td>6871292</td></tr><tr><td>Liechtenstein</td><td>38128</td></tr><tr><td>Lithuania</td><td>2722289</td></tr><tr><td>Luxembourg</td><td>634814</td></tr><tr><td>Madagascar</td><td>27691018</td></tr><tr><td>Malawi</td><td>19129952</td></tr><tr><td>Malaysia</td><td>32365999</td></tr><tr><td>Maldives</td><td>540544</td></tr><tr><td>Mali</td><td>20250833</td></tr><tr><td>Malta</td><td>441543</td></tr><tr><td>Marshall Islands</td><td>59190</td></tr><tr><td>Mauritania</td><td>4649658</td></tr><tr><td>Mauritius</td><td>1271768</td></tr><tr><td>Mexico</td><td>128932753</td></tr><tr><td>Micronesia</td><td>115023</td></tr><tr><td>Moldova</td><td>2640438</td></tr><tr><td>Monaco</td><td>39242</td></tr><tr><td>Mongolia</td><td>3278290</td></tr><tr><td>Montenegro</td><td>622359</td></tr><tr><td>Morocco</td><td>36910560</td></tr><tr><td>Mozambique</td><td>31255435</td></tr><tr><td>Myanmar</td><td>54409800</td></tr><tr><td>Namibia</td><td>2540905</td></tr><tr><td>Haiti</td><td>11402528</td></tr><tr><td>Holy See</td><td>801</td></tr><tr><td>Honduras</td><td>9904607</td></tr><tr><td>Hungary</td><td>9660351</td></tr><tr><td>Iceland</td><td>341243</td></tr><tr><td>India</td><td>1380004385</td></tr><tr><td>Indonesia</td><td>273523615</td></tr><tr><td>Iran</td><td>83992949</td></tr><tr><td>Iraq</td><td>40222493</td></tr><tr><td>Ireland</td><td>4937786</td></tr><tr><td>Israel</td><td>9053300</td></tr><tr><td>Italy</td><td>60461826</td></tr><tr><td>Jamaica</td><td>2961167</td></tr><tr><td>Japan</td><td>126476461</td></tr><tr><td>Jordan</td><td>10203134</td></tr><tr><td>Kazakhstan</td><td>18776707</td></tr><tr><td>Kenya</td><td>53771296</td></tr><tr><td>Kiribati</td><td>119449</td></tr><tr><td>Kuwait</td><td>4270571</td></tr><tr><td>Kyrgyzstan</td><td>6524195</td></tr><tr><td>Laos</td><td>7275560</td></tr><tr><td>Latvia</td><td>1886198</td></tr><tr><td>Lebanon</td><td>6825445</td></tr><tr><td>Lesotho</td><td>2142249</td></tr></tbody></table></div>"
      ]
     },
     "metadata": {
      "application/vnd.databricks.v1+output": {
       "addedWidgets": {},
       "aggData": [],
       "aggError": "",
       "aggOverflow": false,
       "aggSchema": [],
       "aggSeriesLimitReached": false,
       "aggType": "",
       "arguments": {},
       "columnCustomDisplayInfos": {},
       "data": [
        [
         "Sweden",
         10099265
        ],
        [
         "Switzerland",
         8654622
        ],
        [
         "Syria",
         17500657
        ],
        [
         "Tajikistan",
         9537645
        ],
        [
         "Tanzania",
         59734218
        ],
        [
         "Thailand",
         69799978
        ],
        [
         "Timor-Leste",
         1318445
        ],
        [
         "Togo",
         8278724
        ],
        [
         "Tonga",
         105695
        ],
        [
         "Trinidad and Tobago",
         1399488
        ],
        [
         "Tunisia",
         11818619
        ],
        [
         "Turkey",
         84339067
        ],
        [
         "Turkmenistan",
         6031200
        ],
        [
         "Tuvalu",
         11792
        ],
        [
         "Uganda",
         45741007
        ],
        [
         "Ukraine",
         43733762
        ],
        [
         "United Arab Emirates",
         9890400
        ],
        [
         "United Kingdom",
         67886011
        ],
        [
         "United States",
         331002651
        ],
        [
         "Uruguay",
         3473730
        ],
        [
         "Uzbekistan",
         33469203
        ],
        [
         "Vanuatu",
         307145
        ],
        [
         "Venezuela",
         28435940
        ],
        [
         "Vietnam",
         97338579
        ],
        [
         "Yemen",
         29825964
        ],
        [
         "Zambia",
         18383955
        ],
        [
         "Zimbabwe",
         14862924
        ],
        [
         "Rwanda",
         12952218
        ],
        [
         "Saint Kitts and Nevis",
         53192
        ],
        [
         "Saint Lucia",
         183627
        ],
        [
         "Saint Vincent and the Grenadines",
         110940
        ],
        [
         "Samoa",
         198414
        ],
        [
         "San Marino",
         33938
        ],
        [
         "Sao Tome and Principe",
         219159
        ],
        [
         "Saudi Arabia",
         34813871
        ],
        [
         "Senegal",
         16743927
        ],
        [
         "Serbia",
         6944975
        ],
        [
         "Seychelles",
         98347
        ],
        [
         "Sierra Leone",
         7976983
        ],
        [
         "Singapore",
         5850342
        ],
        [
         "Slovakia",
         5459642
        ],
        [
         "Slovenia",
         2078938
        ],
        [
         "Solomon Islands",
         686884
        ],
        [
         "Somalia",
         15893222
        ],
        [
         "South Africa",
         59308690
        ],
        [
         "South Korea",
         51269185
        ],
        [
         "South Sudan",
         11193725
        ],
        [
         "Spain",
         46754778
        ],
        [
         "Sri Lanka",
         21413249
        ],
        [
         "Sudan",
         43849260
        ],
        [
         "Suriname",
         586634
        ],
        [
         "Brunei",
         437479
        ],
        [
         "Bulgaria",
         6948445
        ],
        [
         "Burkina Faso",
         20903273
        ],
        [
         "Burundi",
         11890784
        ],
        [
         "Cabo Verde",
         555987
        ],
        [
         "Cambodia",
         16718965
        ],
        [
         "Cameroon",
         26545863
        ],
        [
         "Canada",
         37742154
        ],
        [
         "Central African Republic",
         4829767
        ],
        [
         "Chad",
         16425864
        ],
        [
         "Chile",
         19116201
        ],
        [
         "China",
         1439323776
        ],
        [
         "Colombia",
         50882891
        ],
        [
         "Comoros",
         869601
        ],
        [
         "Congo, Democratic Republic of the",
         89561403
        ],
        [
         "Congo, Republic of the",
         5518087
        ],
        [
         "Costa Rica",
         5094118
        ],
        [
         "Croatia",
         4105267
        ],
        [
         "Cuba",
         11326616
        ],
        [
         "Côte d'Ivoire",
         26378274
        ],
        [
         "Cyprus",
         1207359
        ],
        [
         "Czech Republic",
         10708981
        ],
        [
         "Denmark",
         5792202
        ],
        [
         "Djibouti",
         988000
        ],
        [
         "Nauru",
         10824
        ],
        [
         "Nepal",
         29136808
        ],
        [
         "Netherlands",
         17134872
        ],
        [
         "New Zealand",
         5084300
        ],
        [
         "Nicaragua",
         6624554
        ],
        [
         "Niger",
         24206644
        ],
        [
         "Nigeria",
         206139589
        ],
        [
         "North Korea",
         25778816
        ],
        [
         "North Macedonia",
         2083374
        ],
        [
         "Norway",
         5421241
        ],
        [
         "Oman",
         5106626
        ],
        [
         "Pakistan",
         220892340
        ],
        [
         "Palau",
         18094
        ],
        [
         "Palestine, State of",
         5101414
        ],
        [
         "Panama",
         4314767
        ],
        [
         "Papua New Guinea",
         8947024
        ],
        [
         "Paraguay",
         7132538
        ],
        [
         "Peru",
         32971854
        ],
        [
         "Philippines",
         109581078
        ],
        [
         "Poland",
         37846611
        ],
        [
         "Portugal",
         10196709
        ],
        [
         "Qatar",
         2881053
        ],
        [
         "Romania",
         19237691
        ],
        [
         "Russia",
         144478050
        ],
        [
         "Afghanistan",
         38928346
        ],
        [
         "Albania",
         2877797
        ],
        [
         "Algeria",
         43851044
        ],
        [
         "Andorra",
         77265
        ],
        [
         "Angola",
         32866272
        ],
        [
         "Antigua and Barbuda",
         97929
        ],
        [
         "Argentina",
         45376763
        ],
        [
         "Armenia",
         2963243
        ],
        [
         "Australia",
         25649984
        ],
        [
         "Austria",
         9006398
        ],
        [
         "Azerbaijan",
         10139177
        ],
        [
         "Bahamas",
         393244
        ],
        [
         "Bahrain",
         1701575
        ],
        [
         "Bangladesh",
         164689383
        ],
        [
         "Barbados",
         287375
        ],
        [
         "Belarus",
         9449323
        ],
        [
         "Belgium",
         11589623
        ],
        [
         "Belize",
         397621
        ],
        [
         "Benin",
         12123200
        ],
        [
         "Bhutan",
         771608
        ],
        [
         "Bolivia",
         11673021
        ],
        [
         "Bosnia and Herzegovina",
         3280819
        ],
        [
         "Botswana",
         2351627
        ],
        [
         "Brazil",
         212559417
        ],
        [
         "Dominica",
         71986
        ],
        [
         "Dominican Republic",
         10847910
        ],
        [
         "Ecuador",
         17643054
        ],
        [
         "Egypt",
         102334404
        ],
        [
         "El Salvador",
         6486205
        ],
        [
         "Equatorial Guinea",
         1402985
        ],
        [
         "Eritrea",
         3546421
        ],
        [
         "Estonia",
         1331796
        ],
        [
         "Eswatini",
         1160164
        ],
        [
         "Ethiopia",
         114963588
        ],
        [
         "Fiji",
         896444
        ],
        [
         "Finland",
         5540720
        ],
        [
         "France",
         65273511
        ],
        [
         "Gabon",
         2225728
        ],
        [
         "Gambia",
         2416668
        ],
        [
         "Georgia",
         3989167
        ],
        [
         "Germany",
         83783942
        ],
        [
         "Ghana",
         31072940
        ],
        [
         "Greece",
         10423054
        ],
        [
         "Grenada",
         112523
        ],
        [
         "Guatemala",
         17915568
        ],
        [
         "Guinea",
         13132795
        ],
        [
         "Guinea-Bissau",
         1968001
        ],
        [
         "Guyana",
         786552
        ],
        [
         "Liberia",
         5073296
        ],
        [
         "Libya",
         6871292
        ],
        [
         "Liechtenstein",
         38128
        ],
        [
         "Lithuania",
         2722289
        ],
        [
         "Luxembourg",
         634814
        ],
        [
         "Madagascar",
         27691018
        ],
        [
         "Malawi",
         19129952
        ],
        [
         "Malaysia",
         32365999
        ],
        [
         "Maldives",
         540544
        ],
        [
         "Mali",
         20250833
        ],
        [
         "Malta",
         441543
        ],
        [
         "Marshall Islands",
         59190
        ],
        [
         "Mauritania",
         4649658
        ],
        [
         "Mauritius",
         1271768
        ],
        [
         "Mexico",
         128932753
        ],
        [
         "Micronesia",
         115023
        ],
        [
         "Moldova",
         2640438
        ],
        [
         "Monaco",
         39242
        ],
        [
         "Mongolia",
         3278290
        ],
        [
         "Montenegro",
         622359
        ],
        [
         "Morocco",
         36910560
        ],
        [
         "Mozambique",
         31255435
        ],
        [
         "Myanmar",
         54409800
        ],
        [
         "Namibia",
         2540905
        ],
        [
         "Haiti",
         11402528
        ],
        [
         "Holy See",
         801
        ],
        [
         "Honduras",
         9904607
        ],
        [
         "Hungary",
         9660351
        ],
        [
         "Iceland",
         341243
        ],
        [
         "India",
         1380004385
        ],
        [
         "Indonesia",
         273523615
        ],
        [
         "Iran",
         83992949
        ],
        [
         "Iraq",
         40222493
        ],
        [
         "Ireland",
         4937786
        ],
        [
         "Israel",
         9053300
        ],
        [
         "Italy",
         60461826
        ],
        [
         "Jamaica",
         2961167
        ],
        [
         "Japan",
         126476461
        ],
        [
         "Jordan",
         10203134
        ],
        [
         "Kazakhstan",
         18776707
        ],
        [
         "Kenya",
         53771296
        ],
        [
         "Kiribati",
         119449
        ],
        [
         "Kuwait",
         4270571
        ],
        [
         "Kyrgyzstan",
         6524195
        ],
        [
         "Laos",
         7275560
        ],
        [
         "Latvia",
         1886198
        ],
        [
         "Lebanon",
         6825445
        ],
        [
         "Lesotho",
         2142249
        ]
       ],
       "datasetInfos": [],
       "dbfsResultPath": null,
       "isJsonSchema": true,
       "metadata": {},
       "overflow": false,
       "plotOptions": {
        "customPlotOptions": {},
        "displayType": "table",
        "pivotAggregation": null,
        "pivotColumns": null,
        "xColumns": null,
        "yColumns": null
       },
       "removedWidgets": [],
       "schema": [
        {
         "metadata": "{}",
         "name": "country",
         "type": "\"string\""
        },
        {
         "metadata": "{}",
         "name": "population",
         "type": "\"long\""
        }
       ],
       "type": "table"
      }
     },
     "output_type": "display_data"
    }
   ],
   "source": [
    "from pyspark.sql.functions import col\n",
    "\n",
    "df.select(\n",
    "            col(\"country_name\").alias(\"country\"), \n",
    "            col(\"population\")\n",
    "         )\\ # use the backslash to indicate a chained method is spread across multiple lines\n",
    "         .display()"
   ]
  },
  {
   "cell_type": "markdown",
   "metadata": {
    "application/vnd.databricks.v1+cell": {
     "cellMetadata": {},
     "inputWidgets": {},
     "nuid": "56040db5-e663-468c-b512-3ac1cf6de19b",
     "showTitle": false,
     "tableResultSettingsMap": {},
     "title": ""
    }
   },
   "source": [
    "### Using Attribute Access"
   ]
  },
  {
   "cell_type": "code",
   "execution_count": 0,
   "metadata": {
    "application/vnd.databricks.v1+cell": {
     "cellMetadata": {
      "byteLimit": 2048000,
      "rowLimit": 10000
     },
     "collapsed": true,
     "inputWidgets": {},
     "nuid": "c74095d7-80e4-4a39-87e6-582e40331f03",
     "showTitle": false,
     "tableResultSettingsMap": {},
     "title": ""
    }
   },
   "outputs": [
    {
     "output_type": "display_data",
     "data": {
      "text/html": [
       "<style scoped>\n",
       "  .table-result-container {\n",
       "    max-height: 300px;\n",
       "    overflow: auto;\n",
       "  }\n",
       "  table, th, td {\n",
       "    border: 1px solid black;\n",
       "    border-collapse: collapse;\n",
       "  }\n",
       "  th, td {\n",
       "    padding: 5px;\n",
       "  }\n",
       "  th {\n",
       "    text-align: left;\n",
       "  }\n",
       "</style><div class='table-result-container'><table class='table-result'><thead style='background-color: white'><tr><th>country</th><th>population</th></tr></thead><tbody><tr><td>Sweden</td><td>10099265</td></tr><tr><td>Switzerland</td><td>8654622</td></tr><tr><td>Syria</td><td>17500657</td></tr><tr><td>Tajikistan</td><td>9537645</td></tr><tr><td>Tanzania</td><td>59734218</td></tr><tr><td>Thailand</td><td>69799978</td></tr><tr><td>Timor-Leste</td><td>1318445</td></tr><tr><td>Togo</td><td>8278724</td></tr><tr><td>Tonga</td><td>105695</td></tr><tr><td>Trinidad and Tobago</td><td>1399488</td></tr><tr><td>Tunisia</td><td>11818619</td></tr><tr><td>Turkey</td><td>84339067</td></tr><tr><td>Turkmenistan</td><td>6031200</td></tr><tr><td>Tuvalu</td><td>11792</td></tr><tr><td>Uganda</td><td>45741007</td></tr><tr><td>Ukraine</td><td>43733762</td></tr><tr><td>United Arab Emirates</td><td>9890400</td></tr><tr><td>United Kingdom</td><td>67886011</td></tr><tr><td>United States</td><td>331002651</td></tr><tr><td>Uruguay</td><td>3473730</td></tr><tr><td>Uzbekistan</td><td>33469203</td></tr><tr><td>Vanuatu</td><td>307145</td></tr><tr><td>Venezuela</td><td>28435940</td></tr><tr><td>Vietnam</td><td>97338579</td></tr><tr><td>Yemen</td><td>29825964</td></tr><tr><td>Zambia</td><td>18383955</td></tr><tr><td>Zimbabwe</td><td>14862924</td></tr><tr><td>Rwanda</td><td>12952218</td></tr><tr><td>Saint Kitts and Nevis</td><td>53192</td></tr><tr><td>Saint Lucia</td><td>183627</td></tr><tr><td>Saint Vincent and the Grenadines</td><td>110940</td></tr><tr><td>Samoa</td><td>198414</td></tr><tr><td>San Marino</td><td>33938</td></tr><tr><td>Sao Tome and Principe</td><td>219159</td></tr><tr><td>Saudi Arabia</td><td>34813871</td></tr><tr><td>Senegal</td><td>16743927</td></tr><tr><td>Serbia</td><td>6944975</td></tr><tr><td>Seychelles</td><td>98347</td></tr><tr><td>Sierra Leone</td><td>7976983</td></tr><tr><td>Singapore</td><td>5850342</td></tr><tr><td>Slovakia</td><td>5459642</td></tr><tr><td>Slovenia</td><td>2078938</td></tr><tr><td>Solomon Islands</td><td>686884</td></tr><tr><td>Somalia</td><td>15893222</td></tr><tr><td>South Africa</td><td>59308690</td></tr><tr><td>South Korea</td><td>51269185</td></tr><tr><td>South Sudan</td><td>11193725</td></tr><tr><td>Spain</td><td>46754778</td></tr><tr><td>Sri Lanka</td><td>21413249</td></tr><tr><td>Sudan</td><td>43849260</td></tr><tr><td>Suriname</td><td>586634</td></tr><tr><td>Brunei</td><td>437479</td></tr><tr><td>Bulgaria</td><td>6948445</td></tr><tr><td>Burkina Faso</td><td>20903273</td></tr><tr><td>Burundi</td><td>11890784</td></tr><tr><td>Cabo Verde</td><td>555987</td></tr><tr><td>Cambodia</td><td>16718965</td></tr><tr><td>Cameroon</td><td>26545863</td></tr><tr><td>Canada</td><td>37742154</td></tr><tr><td>Central African Republic</td><td>4829767</td></tr><tr><td>Chad</td><td>16425864</td></tr><tr><td>Chile</td><td>19116201</td></tr><tr><td>China</td><td>1439323776</td></tr><tr><td>Colombia</td><td>50882891</td></tr><tr><td>Comoros</td><td>869601</td></tr><tr><td>Congo, Democratic Republic of the</td><td>89561403</td></tr><tr><td>Congo, Republic of the</td><td>5518087</td></tr><tr><td>Costa Rica</td><td>5094118</td></tr><tr><td>Croatia</td><td>4105267</td></tr><tr><td>Cuba</td><td>11326616</td></tr><tr><td>Côte d'Ivoire</td><td>26378274</td></tr><tr><td>Cyprus</td><td>1207359</td></tr><tr><td>Czech Republic</td><td>10708981</td></tr><tr><td>Denmark</td><td>5792202</td></tr><tr><td>Djibouti</td><td>988000</td></tr><tr><td>Nauru</td><td>10824</td></tr><tr><td>Nepal</td><td>29136808</td></tr><tr><td>Netherlands</td><td>17134872</td></tr><tr><td>New Zealand</td><td>5084300</td></tr><tr><td>Nicaragua</td><td>6624554</td></tr><tr><td>Niger</td><td>24206644</td></tr><tr><td>Nigeria</td><td>206139589</td></tr><tr><td>North Korea</td><td>25778816</td></tr><tr><td>North Macedonia</td><td>2083374</td></tr><tr><td>Norway</td><td>5421241</td></tr><tr><td>Oman</td><td>5106626</td></tr><tr><td>Pakistan</td><td>220892340</td></tr><tr><td>Palau</td><td>18094</td></tr><tr><td>Palestine, State of</td><td>5101414</td></tr><tr><td>Panama</td><td>4314767</td></tr><tr><td>Papua New Guinea</td><td>8947024</td></tr><tr><td>Paraguay</td><td>7132538</td></tr><tr><td>Peru</td><td>32971854</td></tr><tr><td>Philippines</td><td>109581078</td></tr><tr><td>Poland</td><td>37846611</td></tr><tr><td>Portugal</td><td>10196709</td></tr><tr><td>Qatar</td><td>2881053</td></tr><tr><td>Romania</td><td>19237691</td></tr><tr><td>Russia</td><td>144478050</td></tr><tr><td>Afghanistan</td><td>38928346</td></tr><tr><td>Albania</td><td>2877797</td></tr><tr><td>Algeria</td><td>43851044</td></tr><tr><td>Andorra</td><td>77265</td></tr><tr><td>Angola</td><td>32866272</td></tr><tr><td>Antigua and Barbuda</td><td>97929</td></tr><tr><td>Argentina</td><td>45376763</td></tr><tr><td>Armenia</td><td>2963243</td></tr><tr><td>Australia</td><td>25649984</td></tr><tr><td>Austria</td><td>9006398</td></tr><tr><td>Azerbaijan</td><td>10139177</td></tr><tr><td>Bahamas</td><td>393244</td></tr><tr><td>Bahrain</td><td>1701575</td></tr><tr><td>Bangladesh</td><td>164689383</td></tr><tr><td>Barbados</td><td>287375</td></tr><tr><td>Belarus</td><td>9449323</td></tr><tr><td>Belgium</td><td>11589623</td></tr><tr><td>Belize</td><td>397621</td></tr><tr><td>Benin</td><td>12123200</td></tr><tr><td>Bhutan</td><td>771608</td></tr><tr><td>Bolivia</td><td>11673021</td></tr><tr><td>Bosnia and Herzegovina</td><td>3280819</td></tr><tr><td>Botswana</td><td>2351627</td></tr><tr><td>Brazil</td><td>212559417</td></tr><tr><td>Dominica</td><td>71986</td></tr><tr><td>Dominican Republic</td><td>10847910</td></tr><tr><td>Ecuador</td><td>17643054</td></tr><tr><td>Egypt</td><td>102334404</td></tr><tr><td>El Salvador</td><td>6486205</td></tr><tr><td>Equatorial Guinea</td><td>1402985</td></tr><tr><td>Eritrea</td><td>3546421</td></tr><tr><td>Estonia</td><td>1331796</td></tr><tr><td>Eswatini</td><td>1160164</td></tr><tr><td>Ethiopia</td><td>114963588</td></tr><tr><td>Fiji</td><td>896444</td></tr><tr><td>Finland</td><td>5540720</td></tr><tr><td>France</td><td>65273511</td></tr><tr><td>Gabon</td><td>2225728</td></tr><tr><td>Gambia</td><td>2416668</td></tr><tr><td>Georgia</td><td>3989167</td></tr><tr><td>Germany</td><td>83783942</td></tr><tr><td>Ghana</td><td>31072940</td></tr><tr><td>Greece</td><td>10423054</td></tr><tr><td>Grenada</td><td>112523</td></tr><tr><td>Guatemala</td><td>17915568</td></tr><tr><td>Guinea</td><td>13132795</td></tr><tr><td>Guinea-Bissau</td><td>1968001</td></tr><tr><td>Guyana</td><td>786552</td></tr><tr><td>Liberia</td><td>5073296</td></tr><tr><td>Libya</td><td>6871292</td></tr><tr><td>Liechtenstein</td><td>38128</td></tr><tr><td>Lithuania</td><td>2722289</td></tr><tr><td>Luxembourg</td><td>634814</td></tr><tr><td>Madagascar</td><td>27691018</td></tr><tr><td>Malawi</td><td>19129952</td></tr><tr><td>Malaysia</td><td>32365999</td></tr><tr><td>Maldives</td><td>540544</td></tr><tr><td>Mali</td><td>20250833</td></tr><tr><td>Malta</td><td>441543</td></tr><tr><td>Marshall Islands</td><td>59190</td></tr><tr><td>Mauritania</td><td>4649658</td></tr><tr><td>Mauritius</td><td>1271768</td></tr><tr><td>Mexico</td><td>128932753</td></tr><tr><td>Micronesia</td><td>115023</td></tr><tr><td>Moldova</td><td>2640438</td></tr><tr><td>Monaco</td><td>39242</td></tr><tr><td>Mongolia</td><td>3278290</td></tr><tr><td>Montenegro</td><td>622359</td></tr><tr><td>Morocco</td><td>36910560</td></tr><tr><td>Mozambique</td><td>31255435</td></tr><tr><td>Myanmar</td><td>54409800</td></tr><tr><td>Namibia</td><td>2540905</td></tr><tr><td>Haiti</td><td>11402528</td></tr><tr><td>Holy See</td><td>801</td></tr><tr><td>Honduras</td><td>9904607</td></tr><tr><td>Hungary</td><td>9660351</td></tr><tr><td>Iceland</td><td>341243</td></tr><tr><td>India</td><td>1380004385</td></tr><tr><td>Indonesia</td><td>273523615</td></tr><tr><td>Iran</td><td>83992949</td></tr><tr><td>Iraq</td><td>40222493</td></tr><tr><td>Ireland</td><td>4937786</td></tr><tr><td>Israel</td><td>9053300</td></tr><tr><td>Italy</td><td>60461826</td></tr><tr><td>Jamaica</td><td>2961167</td></tr><tr><td>Japan</td><td>126476461</td></tr><tr><td>Jordan</td><td>10203134</td></tr><tr><td>Kazakhstan</td><td>18776707</td></tr><tr><td>Kenya</td><td>53771296</td></tr><tr><td>Kiribati</td><td>119449</td></tr><tr><td>Kuwait</td><td>4270571</td></tr><tr><td>Kyrgyzstan</td><td>6524195</td></tr><tr><td>Laos</td><td>7275560</td></tr><tr><td>Latvia</td><td>1886198</td></tr><tr><td>Lebanon</td><td>6825445</td></tr><tr><td>Lesotho</td><td>2142249</td></tr></tbody></table></div>"
      ]
     },
     "metadata": {
      "application/vnd.databricks.v1+output": {
       "addedWidgets": {},
       "aggData": [],
       "aggError": "",
       "aggOverflow": false,
       "aggSchema": [],
       "aggSeriesLimitReached": false,
       "aggType": "",
       "arguments": {},
       "columnCustomDisplayInfos": {},
       "data": [
        [
         "Sweden",
         10099265
        ],
        [
         "Switzerland",
         8654622
        ],
        [
         "Syria",
         17500657
        ],
        [
         "Tajikistan",
         9537645
        ],
        [
         "Tanzania",
         59734218
        ],
        [
         "Thailand",
         69799978
        ],
        [
         "Timor-Leste",
         1318445
        ],
        [
         "Togo",
         8278724
        ],
        [
         "Tonga",
         105695
        ],
        [
         "Trinidad and Tobago",
         1399488
        ],
        [
         "Tunisia",
         11818619
        ],
        [
         "Turkey",
         84339067
        ],
        [
         "Turkmenistan",
         6031200
        ],
        [
         "Tuvalu",
         11792
        ],
        [
         "Uganda",
         45741007
        ],
        [
         "Ukraine",
         43733762
        ],
        [
         "United Arab Emirates",
         9890400
        ],
        [
         "United Kingdom",
         67886011
        ],
        [
         "United States",
         331002651
        ],
        [
         "Uruguay",
         3473730
        ],
        [
         "Uzbekistan",
         33469203
        ],
        [
         "Vanuatu",
         307145
        ],
        [
         "Venezuela",
         28435940
        ],
        [
         "Vietnam",
         97338579
        ],
        [
         "Yemen",
         29825964
        ],
        [
         "Zambia",
         18383955
        ],
        [
         "Zimbabwe",
         14862924
        ],
        [
         "Rwanda",
         12952218
        ],
        [
         "Saint Kitts and Nevis",
         53192
        ],
        [
         "Saint Lucia",
         183627
        ],
        [
         "Saint Vincent and the Grenadines",
         110940
        ],
        [
         "Samoa",
         198414
        ],
        [
         "San Marino",
         33938
        ],
        [
         "Sao Tome and Principe",
         219159
        ],
        [
         "Saudi Arabia",
         34813871
        ],
        [
         "Senegal",
         16743927
        ],
        [
         "Serbia",
         6944975
        ],
        [
         "Seychelles",
         98347
        ],
        [
         "Sierra Leone",
         7976983
        ],
        [
         "Singapore",
         5850342
        ],
        [
         "Slovakia",
         5459642
        ],
        [
         "Slovenia",
         2078938
        ],
        [
         "Solomon Islands",
         686884
        ],
        [
         "Somalia",
         15893222
        ],
        [
         "South Africa",
         59308690
        ],
        [
         "South Korea",
         51269185
        ],
        [
         "South Sudan",
         11193725
        ],
        [
         "Spain",
         46754778
        ],
        [
         "Sri Lanka",
         21413249
        ],
        [
         "Sudan",
         43849260
        ],
        [
         "Suriname",
         586634
        ],
        [
         "Brunei",
         437479
        ],
        [
         "Bulgaria",
         6948445
        ],
        [
         "Burkina Faso",
         20903273
        ],
        [
         "Burundi",
         11890784
        ],
        [
         "Cabo Verde",
         555987
        ],
        [
         "Cambodia",
         16718965
        ],
        [
         "Cameroon",
         26545863
        ],
        [
         "Canada",
         37742154
        ],
        [
         "Central African Republic",
         4829767
        ],
        [
         "Chad",
         16425864
        ],
        [
         "Chile",
         19116201
        ],
        [
         "China",
         1439323776
        ],
        [
         "Colombia",
         50882891
        ],
        [
         "Comoros",
         869601
        ],
        [
         "Congo, Democratic Republic of the",
         89561403
        ],
        [
         "Congo, Republic of the",
         5518087
        ],
        [
         "Costa Rica",
         5094118
        ],
        [
         "Croatia",
         4105267
        ],
        [
         "Cuba",
         11326616
        ],
        [
         "Côte d'Ivoire",
         26378274
        ],
        [
         "Cyprus",
         1207359
        ],
        [
         "Czech Republic",
         10708981
        ],
        [
         "Denmark",
         5792202
        ],
        [
         "Djibouti",
         988000
        ],
        [
         "Nauru",
         10824
        ],
        [
         "Nepal",
         29136808
        ],
        [
         "Netherlands",
         17134872
        ],
        [
         "New Zealand",
         5084300
        ],
        [
         "Nicaragua",
         6624554
        ],
        [
         "Niger",
         24206644
        ],
        [
         "Nigeria",
         206139589
        ],
        [
         "North Korea",
         25778816
        ],
        [
         "North Macedonia",
         2083374
        ],
        [
         "Norway",
         5421241
        ],
        [
         "Oman",
         5106626
        ],
        [
         "Pakistan",
         220892340
        ],
        [
         "Palau",
         18094
        ],
        [
         "Palestine, State of",
         5101414
        ],
        [
         "Panama",
         4314767
        ],
        [
         "Papua New Guinea",
         8947024
        ],
        [
         "Paraguay",
         7132538
        ],
        [
         "Peru",
         32971854
        ],
        [
         "Philippines",
         109581078
        ],
        [
         "Poland",
         37846611
        ],
        [
         "Portugal",
         10196709
        ],
        [
         "Qatar",
         2881053
        ],
        [
         "Romania",
         19237691
        ],
        [
         "Russia",
         144478050
        ],
        [
         "Afghanistan",
         38928346
        ],
        [
         "Albania",
         2877797
        ],
        [
         "Algeria",
         43851044
        ],
        [
         "Andorra",
         77265
        ],
        [
         "Angola",
         32866272
        ],
        [
         "Antigua and Barbuda",
         97929
        ],
        [
         "Argentina",
         45376763
        ],
        [
         "Armenia",
         2963243
        ],
        [
         "Australia",
         25649984
        ],
        [
         "Austria",
         9006398
        ],
        [
         "Azerbaijan",
         10139177
        ],
        [
         "Bahamas",
         393244
        ],
        [
         "Bahrain",
         1701575
        ],
        [
         "Bangladesh",
         164689383
        ],
        [
         "Barbados",
         287375
        ],
        [
         "Belarus",
         9449323
        ],
        [
         "Belgium",
         11589623
        ],
        [
         "Belize",
         397621
        ],
        [
         "Benin",
         12123200
        ],
        [
         "Bhutan",
         771608
        ],
        [
         "Bolivia",
         11673021
        ],
        [
         "Bosnia and Herzegovina",
         3280819
        ],
        [
         "Botswana",
         2351627
        ],
        [
         "Brazil",
         212559417
        ],
        [
         "Dominica",
         71986
        ],
        [
         "Dominican Republic",
         10847910
        ],
        [
         "Ecuador",
         17643054
        ],
        [
         "Egypt",
         102334404
        ],
        [
         "El Salvador",
         6486205
        ],
        [
         "Equatorial Guinea",
         1402985
        ],
        [
         "Eritrea",
         3546421
        ],
        [
         "Estonia",
         1331796
        ],
        [
         "Eswatini",
         1160164
        ],
        [
         "Ethiopia",
         114963588
        ],
        [
         "Fiji",
         896444
        ],
        [
         "Finland",
         5540720
        ],
        [
         "France",
         65273511
        ],
        [
         "Gabon",
         2225728
        ],
        [
         "Gambia",
         2416668
        ],
        [
         "Georgia",
         3989167
        ],
        [
         "Germany",
         83783942
        ],
        [
         "Ghana",
         31072940
        ],
        [
         "Greece",
         10423054
        ],
        [
         "Grenada",
         112523
        ],
        [
         "Guatemala",
         17915568
        ],
        [
         "Guinea",
         13132795
        ],
        [
         "Guinea-Bissau",
         1968001
        ],
        [
         "Guyana",
         786552
        ],
        [
         "Liberia",
         5073296
        ],
        [
         "Libya",
         6871292
        ],
        [
         "Liechtenstein",
         38128
        ],
        [
         "Lithuania",
         2722289
        ],
        [
         "Luxembourg",
         634814
        ],
        [
         "Madagascar",
         27691018
        ],
        [
         "Malawi",
         19129952
        ],
        [
         "Malaysia",
         32365999
        ],
        [
         "Maldives",
         540544
        ],
        [
         "Mali",
         20250833
        ],
        [
         "Malta",
         441543
        ],
        [
         "Marshall Islands",
         59190
        ],
        [
         "Mauritania",
         4649658
        ],
        [
         "Mauritius",
         1271768
        ],
        [
         "Mexico",
         128932753
        ],
        [
         "Micronesia",
         115023
        ],
        [
         "Moldova",
         2640438
        ],
        [
         "Monaco",
         39242
        ],
        [
         "Mongolia",
         3278290
        ],
        [
         "Montenegro",
         622359
        ],
        [
         "Morocco",
         36910560
        ],
        [
         "Mozambique",
         31255435
        ],
        [
         "Myanmar",
         54409800
        ],
        [
         "Namibia",
         2540905
        ],
        [
         "Haiti",
         11402528
        ],
        [
         "Holy See",
         801
        ],
        [
         "Honduras",
         9904607
        ],
        [
         "Hungary",
         9660351
        ],
        [
         "Iceland",
         341243
        ],
        [
         "India",
         1380004385
        ],
        [
         "Indonesia",
         273523615
        ],
        [
         "Iran",
         83992949
        ],
        [
         "Iraq",
         40222493
        ],
        [
         "Ireland",
         4937786
        ],
        [
         "Israel",
         9053300
        ],
        [
         "Italy",
         60461826
        ],
        [
         "Jamaica",
         2961167
        ],
        [
         "Japan",
         126476461
        ],
        [
         "Jordan",
         10203134
        ],
        [
         "Kazakhstan",
         18776707
        ],
        [
         "Kenya",
         53771296
        ],
        [
         "Kiribati",
         119449
        ],
        [
         "Kuwait",
         4270571
        ],
        [
         "Kyrgyzstan",
         6524195
        ],
        [
         "Laos",
         7275560
        ],
        [
         "Latvia",
         1886198
        ],
        [
         "Lebanon",
         6825445
        ],
        [
         "Lesotho",
         2142249
        ]
       ],
       "datasetInfos": [],
       "dbfsResultPath": null,
       "isJsonSchema": true,
       "metadata": {},
       "overflow": false,
       "plotOptions": {
        "customPlotOptions": {},
        "displayType": "table",
        "pivotAggregation": null,
        "pivotColumns": null,
        "xColumns": null,
        "yColumns": null
       },
       "removedWidgets": [],
       "schema": [
        {
         "metadata": "{}",
         "name": "country",
         "type": "\"string\""
        },
        {
         "metadata": "{}",
         "name": "population",
         "type": "\"long\""
        }
       ],
       "type": "table"
      }
     },
     "output_type": "display_data"
    }
   ],
   "source": [
    "df.select(df.country_name.alias(\"country\"), df.population).display()"
   ]
  },
  {
   "cell_type": "markdown",
   "metadata": {
    "application/vnd.databricks.v1+cell": {
     "cellMetadata": {},
     "inputWidgets": {},
     "nuid": "b722a989-ea15-4a0d-83a2-fb0884e1f25f",
     "showTitle": false,
     "tableResultSettingsMap": {},
     "title": ""
    }
   },
   "source": [
    "### Using Bracket Notation"
   ]
  },
  {
   "cell_type": "code",
   "execution_count": 0,
   "metadata": {
    "application/vnd.databricks.v1+cell": {
     "cellMetadata": {
      "byteLimit": 2048000,
      "rowLimit": 10000
     },
     "inputWidgets": {},
     "nuid": "660dc7c4-cd40-4581-ba61-e23e8c3b389e",
     "showTitle": false,
     "tableResultSettingsMap": {},
     "title": ""
    }
   },
   "outputs": [
    {
     "output_type": "display_data",
     "data": {
      "text/html": [
       "<style scoped>\n",
       "  .table-result-container {\n",
       "    max-height: 300px;\n",
       "    overflow: auto;\n",
       "  }\n",
       "  table, th, td {\n",
       "    border: 1px solid black;\n",
       "    border-collapse: collapse;\n",
       "  }\n",
       "  th, td {\n",
       "    padding: 5px;\n",
       "  }\n",
       "  th {\n",
       "    text-align: left;\n",
       "  }\n",
       "</style><div class='table-result-container'><table class='table-result'><thead style='background-color: white'><tr><th>country</th><th>population</th></tr></thead><tbody><tr><td>Sweden</td><td>10099265</td></tr><tr><td>Switzerland</td><td>8654622</td></tr><tr><td>Syria</td><td>17500657</td></tr><tr><td>Tajikistan</td><td>9537645</td></tr><tr><td>Tanzania</td><td>59734218</td></tr><tr><td>Thailand</td><td>69799978</td></tr><tr><td>Timor-Leste</td><td>1318445</td></tr><tr><td>Togo</td><td>8278724</td></tr><tr><td>Tonga</td><td>105695</td></tr><tr><td>Trinidad and Tobago</td><td>1399488</td></tr><tr><td>Tunisia</td><td>11818619</td></tr><tr><td>Turkey</td><td>84339067</td></tr><tr><td>Turkmenistan</td><td>6031200</td></tr><tr><td>Tuvalu</td><td>11792</td></tr><tr><td>Uganda</td><td>45741007</td></tr><tr><td>Ukraine</td><td>43733762</td></tr><tr><td>United Arab Emirates</td><td>9890400</td></tr><tr><td>United Kingdom</td><td>67886011</td></tr><tr><td>United States</td><td>331002651</td></tr><tr><td>Uruguay</td><td>3473730</td></tr><tr><td>Uzbekistan</td><td>33469203</td></tr><tr><td>Vanuatu</td><td>307145</td></tr><tr><td>Venezuela</td><td>28435940</td></tr><tr><td>Vietnam</td><td>97338579</td></tr><tr><td>Yemen</td><td>29825964</td></tr><tr><td>Zambia</td><td>18383955</td></tr><tr><td>Zimbabwe</td><td>14862924</td></tr><tr><td>Rwanda</td><td>12952218</td></tr><tr><td>Saint Kitts and Nevis</td><td>53192</td></tr><tr><td>Saint Lucia</td><td>183627</td></tr><tr><td>Saint Vincent and the Grenadines</td><td>110940</td></tr><tr><td>Samoa</td><td>198414</td></tr><tr><td>San Marino</td><td>33938</td></tr><tr><td>Sao Tome and Principe</td><td>219159</td></tr><tr><td>Saudi Arabia</td><td>34813871</td></tr><tr><td>Senegal</td><td>16743927</td></tr><tr><td>Serbia</td><td>6944975</td></tr><tr><td>Seychelles</td><td>98347</td></tr><tr><td>Sierra Leone</td><td>7976983</td></tr><tr><td>Singapore</td><td>5850342</td></tr><tr><td>Slovakia</td><td>5459642</td></tr><tr><td>Slovenia</td><td>2078938</td></tr><tr><td>Solomon Islands</td><td>686884</td></tr><tr><td>Somalia</td><td>15893222</td></tr><tr><td>South Africa</td><td>59308690</td></tr><tr><td>South Korea</td><td>51269185</td></tr><tr><td>South Sudan</td><td>11193725</td></tr><tr><td>Spain</td><td>46754778</td></tr><tr><td>Sri Lanka</td><td>21413249</td></tr><tr><td>Sudan</td><td>43849260</td></tr><tr><td>Suriname</td><td>586634</td></tr><tr><td>Brunei</td><td>437479</td></tr><tr><td>Bulgaria</td><td>6948445</td></tr><tr><td>Burkina Faso</td><td>20903273</td></tr><tr><td>Burundi</td><td>11890784</td></tr><tr><td>Cabo Verde</td><td>555987</td></tr><tr><td>Cambodia</td><td>16718965</td></tr><tr><td>Cameroon</td><td>26545863</td></tr><tr><td>Canada</td><td>37742154</td></tr><tr><td>Central African Republic</td><td>4829767</td></tr><tr><td>Chad</td><td>16425864</td></tr><tr><td>Chile</td><td>19116201</td></tr><tr><td>China</td><td>1439323776</td></tr><tr><td>Colombia</td><td>50882891</td></tr><tr><td>Comoros</td><td>869601</td></tr><tr><td>Congo, Democratic Republic of the</td><td>89561403</td></tr><tr><td>Congo, Republic of the</td><td>5518087</td></tr><tr><td>Costa Rica</td><td>5094118</td></tr><tr><td>Croatia</td><td>4105267</td></tr><tr><td>Cuba</td><td>11326616</td></tr><tr><td>Côte d'Ivoire</td><td>26378274</td></tr><tr><td>Cyprus</td><td>1207359</td></tr><tr><td>Czech Republic</td><td>10708981</td></tr><tr><td>Denmark</td><td>5792202</td></tr><tr><td>Djibouti</td><td>988000</td></tr><tr><td>Nauru</td><td>10824</td></tr><tr><td>Nepal</td><td>29136808</td></tr><tr><td>Netherlands</td><td>17134872</td></tr><tr><td>New Zealand</td><td>5084300</td></tr><tr><td>Nicaragua</td><td>6624554</td></tr><tr><td>Niger</td><td>24206644</td></tr><tr><td>Nigeria</td><td>206139589</td></tr><tr><td>North Korea</td><td>25778816</td></tr><tr><td>North Macedonia</td><td>2083374</td></tr><tr><td>Norway</td><td>5421241</td></tr><tr><td>Oman</td><td>5106626</td></tr><tr><td>Pakistan</td><td>220892340</td></tr><tr><td>Palau</td><td>18094</td></tr><tr><td>Palestine, State of</td><td>5101414</td></tr><tr><td>Panama</td><td>4314767</td></tr><tr><td>Papua New Guinea</td><td>8947024</td></tr><tr><td>Paraguay</td><td>7132538</td></tr><tr><td>Peru</td><td>32971854</td></tr><tr><td>Philippines</td><td>109581078</td></tr><tr><td>Poland</td><td>37846611</td></tr><tr><td>Portugal</td><td>10196709</td></tr><tr><td>Qatar</td><td>2881053</td></tr><tr><td>Romania</td><td>19237691</td></tr><tr><td>Russia</td><td>144478050</td></tr><tr><td>Afghanistan</td><td>38928346</td></tr><tr><td>Albania</td><td>2877797</td></tr><tr><td>Algeria</td><td>43851044</td></tr><tr><td>Andorra</td><td>77265</td></tr><tr><td>Angola</td><td>32866272</td></tr><tr><td>Antigua and Barbuda</td><td>97929</td></tr><tr><td>Argentina</td><td>45376763</td></tr><tr><td>Armenia</td><td>2963243</td></tr><tr><td>Australia</td><td>25649984</td></tr><tr><td>Austria</td><td>9006398</td></tr><tr><td>Azerbaijan</td><td>10139177</td></tr><tr><td>Bahamas</td><td>393244</td></tr><tr><td>Bahrain</td><td>1701575</td></tr><tr><td>Bangladesh</td><td>164689383</td></tr><tr><td>Barbados</td><td>287375</td></tr><tr><td>Belarus</td><td>9449323</td></tr><tr><td>Belgium</td><td>11589623</td></tr><tr><td>Belize</td><td>397621</td></tr><tr><td>Benin</td><td>12123200</td></tr><tr><td>Bhutan</td><td>771608</td></tr><tr><td>Bolivia</td><td>11673021</td></tr><tr><td>Bosnia and Herzegovina</td><td>3280819</td></tr><tr><td>Botswana</td><td>2351627</td></tr><tr><td>Brazil</td><td>212559417</td></tr><tr><td>Dominica</td><td>71986</td></tr><tr><td>Dominican Republic</td><td>10847910</td></tr><tr><td>Ecuador</td><td>17643054</td></tr><tr><td>Egypt</td><td>102334404</td></tr><tr><td>El Salvador</td><td>6486205</td></tr><tr><td>Equatorial Guinea</td><td>1402985</td></tr><tr><td>Eritrea</td><td>3546421</td></tr><tr><td>Estonia</td><td>1331796</td></tr><tr><td>Eswatini</td><td>1160164</td></tr><tr><td>Ethiopia</td><td>114963588</td></tr><tr><td>Fiji</td><td>896444</td></tr><tr><td>Finland</td><td>5540720</td></tr><tr><td>France</td><td>65273511</td></tr><tr><td>Gabon</td><td>2225728</td></tr><tr><td>Gambia</td><td>2416668</td></tr><tr><td>Georgia</td><td>3989167</td></tr><tr><td>Germany</td><td>83783942</td></tr><tr><td>Ghana</td><td>31072940</td></tr><tr><td>Greece</td><td>10423054</td></tr><tr><td>Grenada</td><td>112523</td></tr><tr><td>Guatemala</td><td>17915568</td></tr><tr><td>Guinea</td><td>13132795</td></tr><tr><td>Guinea-Bissau</td><td>1968001</td></tr><tr><td>Guyana</td><td>786552</td></tr><tr><td>Liberia</td><td>5073296</td></tr><tr><td>Libya</td><td>6871292</td></tr><tr><td>Liechtenstein</td><td>38128</td></tr><tr><td>Lithuania</td><td>2722289</td></tr><tr><td>Luxembourg</td><td>634814</td></tr><tr><td>Madagascar</td><td>27691018</td></tr><tr><td>Malawi</td><td>19129952</td></tr><tr><td>Malaysia</td><td>32365999</td></tr><tr><td>Maldives</td><td>540544</td></tr><tr><td>Mali</td><td>20250833</td></tr><tr><td>Malta</td><td>441543</td></tr><tr><td>Marshall Islands</td><td>59190</td></tr><tr><td>Mauritania</td><td>4649658</td></tr><tr><td>Mauritius</td><td>1271768</td></tr><tr><td>Mexico</td><td>128932753</td></tr><tr><td>Micronesia</td><td>115023</td></tr><tr><td>Moldova</td><td>2640438</td></tr><tr><td>Monaco</td><td>39242</td></tr><tr><td>Mongolia</td><td>3278290</td></tr><tr><td>Montenegro</td><td>622359</td></tr><tr><td>Morocco</td><td>36910560</td></tr><tr><td>Mozambique</td><td>31255435</td></tr><tr><td>Myanmar</td><td>54409800</td></tr><tr><td>Namibia</td><td>2540905</td></tr><tr><td>Haiti</td><td>11402528</td></tr><tr><td>Holy See</td><td>801</td></tr><tr><td>Honduras</td><td>9904607</td></tr><tr><td>Hungary</td><td>9660351</td></tr><tr><td>Iceland</td><td>341243</td></tr><tr><td>India</td><td>1380004385</td></tr><tr><td>Indonesia</td><td>273523615</td></tr><tr><td>Iran</td><td>83992949</td></tr><tr><td>Iraq</td><td>40222493</td></tr><tr><td>Ireland</td><td>4937786</td></tr><tr><td>Israel</td><td>9053300</td></tr><tr><td>Italy</td><td>60461826</td></tr><tr><td>Jamaica</td><td>2961167</td></tr><tr><td>Japan</td><td>126476461</td></tr><tr><td>Jordan</td><td>10203134</td></tr><tr><td>Kazakhstan</td><td>18776707</td></tr><tr><td>Kenya</td><td>53771296</td></tr><tr><td>Kiribati</td><td>119449</td></tr><tr><td>Kuwait</td><td>4270571</td></tr><tr><td>Kyrgyzstan</td><td>6524195</td></tr><tr><td>Laos</td><td>7275560</td></tr><tr><td>Latvia</td><td>1886198</td></tr><tr><td>Lebanon</td><td>6825445</td></tr><tr><td>Lesotho</td><td>2142249</td></tr></tbody></table></div>"
      ]
     },
     "metadata": {
      "application/vnd.databricks.v1+output": {
       "addedWidgets": {},
       "aggData": [],
       "aggError": "",
       "aggOverflow": false,
       "aggSchema": [],
       "aggSeriesLimitReached": false,
       "aggType": "",
       "arguments": {},
       "columnCustomDisplayInfos": {},
       "data": [
        [
         "Sweden",
         10099265
        ],
        [
         "Switzerland",
         8654622
        ],
        [
         "Syria",
         17500657
        ],
        [
         "Tajikistan",
         9537645
        ],
        [
         "Tanzania",
         59734218
        ],
        [
         "Thailand",
         69799978
        ],
        [
         "Timor-Leste",
         1318445
        ],
        [
         "Togo",
         8278724
        ],
        [
         "Tonga",
         105695
        ],
        [
         "Trinidad and Tobago",
         1399488
        ],
        [
         "Tunisia",
         11818619
        ],
        [
         "Turkey",
         84339067
        ],
        [
         "Turkmenistan",
         6031200
        ],
        [
         "Tuvalu",
         11792
        ],
        [
         "Uganda",
         45741007
        ],
        [
         "Ukraine",
         43733762
        ],
        [
         "United Arab Emirates",
         9890400
        ],
        [
         "United Kingdom",
         67886011
        ],
        [
         "United States",
         331002651
        ],
        [
         "Uruguay",
         3473730
        ],
        [
         "Uzbekistan",
         33469203
        ],
        [
         "Vanuatu",
         307145
        ],
        [
         "Venezuela",
         28435940
        ],
        [
         "Vietnam",
         97338579
        ],
        [
         "Yemen",
         29825964
        ],
        [
         "Zambia",
         18383955
        ],
        [
         "Zimbabwe",
         14862924
        ],
        [
         "Rwanda",
         12952218
        ],
        [
         "Saint Kitts and Nevis",
         53192
        ],
        [
         "Saint Lucia",
         183627
        ],
        [
         "Saint Vincent and the Grenadines",
         110940
        ],
        [
         "Samoa",
         198414
        ],
        [
         "San Marino",
         33938
        ],
        [
         "Sao Tome and Principe",
         219159
        ],
        [
         "Saudi Arabia",
         34813871
        ],
        [
         "Senegal",
         16743927
        ],
        [
         "Serbia",
         6944975
        ],
        [
         "Seychelles",
         98347
        ],
        [
         "Sierra Leone",
         7976983
        ],
        [
         "Singapore",
         5850342
        ],
        [
         "Slovakia",
         5459642
        ],
        [
         "Slovenia",
         2078938
        ],
        [
         "Solomon Islands",
         686884
        ],
        [
         "Somalia",
         15893222
        ],
        [
         "South Africa",
         59308690
        ],
        [
         "South Korea",
         51269185
        ],
        [
         "South Sudan",
         11193725
        ],
        [
         "Spain",
         46754778
        ],
        [
         "Sri Lanka",
         21413249
        ],
        [
         "Sudan",
         43849260
        ],
        [
         "Suriname",
         586634
        ],
        [
         "Brunei",
         437479
        ],
        [
         "Bulgaria",
         6948445
        ],
        [
         "Burkina Faso",
         20903273
        ],
        [
         "Burundi",
         11890784
        ],
        [
         "Cabo Verde",
         555987
        ],
        [
         "Cambodia",
         16718965
        ],
        [
         "Cameroon",
         26545863
        ],
        [
         "Canada",
         37742154
        ],
        [
         "Central African Republic",
         4829767
        ],
        [
         "Chad",
         16425864
        ],
        [
         "Chile",
         19116201
        ],
        [
         "China",
         1439323776
        ],
        [
         "Colombia",
         50882891
        ],
        [
         "Comoros",
         869601
        ],
        [
         "Congo, Democratic Republic of the",
         89561403
        ],
        [
         "Congo, Republic of the",
         5518087
        ],
        [
         "Costa Rica",
         5094118
        ],
        [
         "Croatia",
         4105267
        ],
        [
         "Cuba",
         11326616
        ],
        [
         "Côte d'Ivoire",
         26378274
        ],
        [
         "Cyprus",
         1207359
        ],
        [
         "Czech Republic",
         10708981
        ],
        [
         "Denmark",
         5792202
        ],
        [
         "Djibouti",
         988000
        ],
        [
         "Nauru",
         10824
        ],
        [
         "Nepal",
         29136808
        ],
        [
         "Netherlands",
         17134872
        ],
        [
         "New Zealand",
         5084300
        ],
        [
         "Nicaragua",
         6624554
        ],
        [
         "Niger",
         24206644
        ],
        [
         "Nigeria",
         206139589
        ],
        [
         "North Korea",
         25778816
        ],
        [
         "North Macedonia",
         2083374
        ],
        [
         "Norway",
         5421241
        ],
        [
         "Oman",
         5106626
        ],
        [
         "Pakistan",
         220892340
        ],
        [
         "Palau",
         18094
        ],
        [
         "Palestine, State of",
         5101414
        ],
        [
         "Panama",
         4314767
        ],
        [
         "Papua New Guinea",
         8947024
        ],
        [
         "Paraguay",
         7132538
        ],
        [
         "Peru",
         32971854
        ],
        [
         "Philippines",
         109581078
        ],
        [
         "Poland",
         37846611
        ],
        [
         "Portugal",
         10196709
        ],
        [
         "Qatar",
         2881053
        ],
        [
         "Romania",
         19237691
        ],
        [
         "Russia",
         144478050
        ],
        [
         "Afghanistan",
         38928346
        ],
        [
         "Albania",
         2877797
        ],
        [
         "Algeria",
         43851044
        ],
        [
         "Andorra",
         77265
        ],
        [
         "Angola",
         32866272
        ],
        [
         "Antigua and Barbuda",
         97929
        ],
        [
         "Argentina",
         45376763
        ],
        [
         "Armenia",
         2963243
        ],
        [
         "Australia",
         25649984
        ],
        [
         "Austria",
         9006398
        ],
        [
         "Azerbaijan",
         10139177
        ],
        [
         "Bahamas",
         393244
        ],
        [
         "Bahrain",
         1701575
        ],
        [
         "Bangladesh",
         164689383
        ],
        [
         "Barbados",
         287375
        ],
        [
         "Belarus",
         9449323
        ],
        [
         "Belgium",
         11589623
        ],
        [
         "Belize",
         397621
        ],
        [
         "Benin",
         12123200
        ],
        [
         "Bhutan",
         771608
        ],
        [
         "Bolivia",
         11673021
        ],
        [
         "Bosnia and Herzegovina",
         3280819
        ],
        [
         "Botswana",
         2351627
        ],
        [
         "Brazil",
         212559417
        ],
        [
         "Dominica",
         71986
        ],
        [
         "Dominican Republic",
         10847910
        ],
        [
         "Ecuador",
         17643054
        ],
        [
         "Egypt",
         102334404
        ],
        [
         "El Salvador",
         6486205
        ],
        [
         "Equatorial Guinea",
         1402985
        ],
        [
         "Eritrea",
         3546421
        ],
        [
         "Estonia",
         1331796
        ],
        [
         "Eswatini",
         1160164
        ],
        [
         "Ethiopia",
         114963588
        ],
        [
         "Fiji",
         896444
        ],
        [
         "Finland",
         5540720
        ],
        [
         "France",
         65273511
        ],
        [
         "Gabon",
         2225728
        ],
        [
         "Gambia",
         2416668
        ],
        [
         "Georgia",
         3989167
        ],
        [
         "Germany",
         83783942
        ],
        [
         "Ghana",
         31072940
        ],
        [
         "Greece",
         10423054
        ],
        [
         "Grenada",
         112523
        ],
        [
         "Guatemala",
         17915568
        ],
        [
         "Guinea",
         13132795
        ],
        [
         "Guinea-Bissau",
         1968001
        ],
        [
         "Guyana",
         786552
        ],
        [
         "Liberia",
         5073296
        ],
        [
         "Libya",
         6871292
        ],
        [
         "Liechtenstein",
         38128
        ],
        [
         "Lithuania",
         2722289
        ],
        [
         "Luxembourg",
         634814
        ],
        [
         "Madagascar",
         27691018
        ],
        [
         "Malawi",
         19129952
        ],
        [
         "Malaysia",
         32365999
        ],
        [
         "Maldives",
         540544
        ],
        [
         "Mali",
         20250833
        ],
        [
         "Malta",
         441543
        ],
        [
         "Marshall Islands",
         59190
        ],
        [
         "Mauritania",
         4649658
        ],
        [
         "Mauritius",
         1271768
        ],
        [
         "Mexico",
         128932753
        ],
        [
         "Micronesia",
         115023
        ],
        [
         "Moldova",
         2640438
        ],
        [
         "Monaco",
         39242
        ],
        [
         "Mongolia",
         3278290
        ],
        [
         "Montenegro",
         622359
        ],
        [
         "Morocco",
         36910560
        ],
        [
         "Mozambique",
         31255435
        ],
        [
         "Myanmar",
         54409800
        ],
        [
         "Namibia",
         2540905
        ],
        [
         "Haiti",
         11402528
        ],
        [
         "Holy See",
         801
        ],
        [
         "Honduras",
         9904607
        ],
        [
         "Hungary",
         9660351
        ],
        [
         "Iceland",
         341243
        ],
        [
         "India",
         1380004385
        ],
        [
         "Indonesia",
         273523615
        ],
        [
         "Iran",
         83992949
        ],
        [
         "Iraq",
         40222493
        ],
        [
         "Ireland",
         4937786
        ],
        [
         "Israel",
         9053300
        ],
        [
         "Italy",
         60461826
        ],
        [
         "Jamaica",
         2961167
        ],
        [
         "Japan",
         126476461
        ],
        [
         "Jordan",
         10203134
        ],
        [
         "Kazakhstan",
         18776707
        ],
        [
         "Kenya",
         53771296
        ],
        [
         "Kiribati",
         119449
        ],
        [
         "Kuwait",
         4270571
        ],
        [
         "Kyrgyzstan",
         6524195
        ],
        [
         "Laos",
         7275560
        ],
        [
         "Latvia",
         1886198
        ],
        [
         "Lebanon",
         6825445
        ],
        [
         "Lesotho",
         2142249
        ]
       ],
       "datasetInfos": [],
       "dbfsResultPath": null,
       "isJsonSchema": true,
       "metadata": {},
       "overflow": false,
       "plotOptions": {
        "customPlotOptions": {},
        "displayType": "table",
        "pivotAggregation": null,
        "pivotColumns": null,
        "xColumns": null,
        "yColumns": null
       },
       "removedWidgets": [],
       "schema": [
        {
         "metadata": "{}",
         "name": "country",
         "type": "\"string\""
        },
        {
         "metadata": "{}",
         "name": "population",
         "type": "\"long\""
        }
       ],
       "type": "table"
      }
     },
     "output_type": "display_data"
    }
   ],
   "source": [
    "df.select(df['country_name'].alias(\"country\"), df['population']).display()"
   ]
  }
 ],
 "metadata": {
  "application/vnd.databricks.v1+notebook": {
   "computePreferences": null,
   "dashboards": [],
   "environmentMetadata": {
    "base_environment": "",
    "client": "1"
   },
   "language": "python",
   "notebookMetadata": {
    "pythonIndentUnit": 4
   },
   "notebookName": "Selecting Columns",
   "widgets": {}
  }
 },
 "nbformat": 4,
 "nbformat_minor": 0
}
