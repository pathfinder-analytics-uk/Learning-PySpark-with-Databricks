{
 "cells": [
  {
   "cell_type": "markdown",
   "metadata": {
    "application/vnd.databricks.v1+cell": {
     "cellMetadata": {},
     "inputWidgets": {},
     "nuid": "7cf298a0-0da8-44aa-a61c-2d2feb9809ca",
     "showTitle": false,
     "tableResultSettingsMap": {},
     "title": ""
    }
   },
   "source": [
    "## Executing SQL Queries in PySpark\n",
    "You can execute SQL queries directly on tables and views within PySpark using `pyspark.sql.SparkSession.sql()`. \n",
    "\n",
    "It enables seamless integration of SQL-style querying with PySpark’s distributed computing, making it easy to filter, aggregate, and transform data using familiar SQL syntax."
   ]
  },
  {
   "cell_type": "markdown",
   "metadata": {
    "application/vnd.databricks.v1+cell": {
     "cellMetadata": {},
     "inputWidgets": {},
     "nuid": "84475b69-5eb3-4a1b-a456-1b7c8fb54b28",
     "showTitle": false,
     "tableResultSettingsMap": {},
     "title": ""
    }
   },
   "source": [
    "### Links and Resources\n",
    "- [pyspark.sql.SparkSession.sql()](https://spark.apache.org/docs/latest/api/python/reference/pyspark.sql/api/pyspark.sql.SparkSession.sql.html)"
   ]
  },
  {
   "cell_type": "code",
   "execution_count": 0,
   "metadata": {
    "application/vnd.databricks.v1+cell": {
     "cellMetadata": {
      "byteLimit": 2048000,
      "rowLimit": 10000
     },
     "inputWidgets": {},
     "nuid": "4725833c-5b61-4b39-9827-b044758b8246",
     "showTitle": false,
     "tableResultSettingsMap": {},
     "title": ""
    }
   },
   "outputs": [
    {
     "output_type": "stream",
     "name": "stdout",
     "output_type": "stream",
     "text": [
      "+------------+---------+---------------+----------+--------+\n|country_name|continent|     sub_region|population|area_km2|\n+------------+---------+---------------+----------+--------+\n| Afghanistan|     Asia|  Southern Asia|  38928346|  652230|\n|     Albania|   Europe|Southern Europe|   2877797|   28748|\n|     Algeria|   Africa|Northern Africa|  43851044| 2381741|\n|     Andorra|   Europe|Southern Europe|     77265|     468|\n|      Angola|   Africa|  Middle Africa|  32866272| 1246700|\n+------------+---------+---------------+----------+--------+\nonly showing top 5 rows\n\n"
     ]
    }
   ],
   "source": [
    "from pyspark.sql.types import StructType, StructField, StringType, LongType, IntegerType\n",
    "\n",
    "# Refined schema to include 'sub_region'\n",
    "schema = StructType([\n",
    "    StructField(\"country_name\", StringType(), True),\n",
    "    StructField(\"continent\", StringType(), True),\n",
    "    StructField(\"sub_region\", StringType(), True),\n",
    "    StructField(\"population\", LongType(), True),\n",
    "    StructField(\"area_km2\", IntegerType(), True)\n",
    "])\n",
    "\n",
    "# Refactor your data to include 'sub_region' for each country\n",
    "data = [\n",
    "    (\"Afghanistan\", \"Asia\", \"Southern Asia\", 38928346, 652230),\n",
    "    (\"Albania\", \"Europe\", \"Southern Europe\", 2877797, 28748),\n",
    "    (\"Algeria\", \"Africa\", \"Northern Africa\", 43851044, 2381741),\n",
    "    (\"Andorra\", \"Europe\", \"Southern Europe\", 77265, 468),\n",
    "    (\"Angola\", \"Africa\", \"Middle Africa\", 32866272, 1246700),\n",
    "    (\"Antigua and Barbuda\", \"North America\", \"Caribbean\", 97929, 442),\n",
    "    (\"Argentina\", \"South America\", \"South America\", 45376763, 2780400),\n",
    "    (\"Armenia\", \"Asia\", \"Western Asia\", 2963243, 29743),\n",
    "    (\"Australia\", \"Oceania\", \"Australia and New Zealand\", 25649984, 7692024),\n",
    "    (\"Austria\", \"Europe\", \"Western Europe\", 9006398, 83879),\n",
    "    (\"Azerbaijan\", \"Asia\", \"Western Asia\", 10139177, 86600),\n",
    "    (\"Bahamas\", \"North America\", \"Caribbean\", 393244, 13943),\n",
    "    (\"Bahrain\", \"Asia\", \"Western Asia\", 1701575, 765),\n",
    "    (\"Bangladesh\", \"Asia\", \"Southern Asia\", 164689383, 147570),\n",
    "    (\"Barbados\", \"North America\", \"Caribbean\", 287375, 430),\n",
    "    (\"Belarus\", \"Europe\", \"Eastern Europe\", 9449323, 207600),\n",
    "    (\"Belgium\", \"Europe\", \"Western Europe\", 11589623, 30528),\n",
    "    (\"Belize\", \"North America\", \"Central America\", 397621, 22966),\n",
    "    (\"Benin\", \"Africa\", \"Western Africa\", 12123200, 114763),\n",
    "    (\"Bhutan\", \"Asia\", \"Southern Asia\", 771608, 38394),\n",
    "    (\"Bolivia\", \"South America\", \"South America\", 11673021, 1098581),\n",
    "    (\"Bosnia and Herzegovina\", \"Europe\", \"Southern Europe\", 3280819, 51129),\n",
    "    (\"Botswana\", \"Africa\", \"Southern Africa\", 2351627, 581730),\n",
    "    (\"Brazil\", \"South America\", \"South America\", 212559417, 8515767),\n",
    "    (\"Brunei\", \"Asia\", \"South-Eastern Asia\", 437479, 5765),\n",
    "    (\"Bulgaria\", \"Europe\", \"Eastern Europe\", 6948445, 110994),\n",
    "    (\"Burkina Faso\", \"Africa\", \"Western Africa\", 20903273, 274200),\n",
    "    (\"Burundi\", \"Africa\", \"Eastern Africa\", 11890784, 27834),\n",
    "    (\"Cabo Verde\", \"Africa\", \"Western Africa\", 555987, 4033),\n",
    "    (\"Cambodia\", \"Asia\", \"South-Eastern Asia\", 16718965, 181035),\n",
    "    (\"Cameroon\", \"Africa\", \"Middle Africa\", 26545863, 475442),\n",
    "    (\"Canada\", \"North America\", \"Northern America\", 37742154, 9984670),\n",
    "    (\"Central African Republic\", \"Africa\", \"Middle Africa\", 4829767, 622984),\n",
    "    (\"Chad\", \"Africa\", \"Middle Africa\", 16425864, 1284000),\n",
    "    (\"Chile\", \"South America\", \"South America\", 19116201, 756102),\n",
    "    (\"China\", \"Asia\", \"Eastern Asia\", 1439323776, 9596961),\n",
    "    (\"Colombia\", \"South America\", \"South America\", 50882891, 1141748),\n",
    "    (\"Comoros\", \"Africa\", \"Eastern Africa\", 869601, 1862),\n",
    "    (\"Congo, Democratic Republic of the\", \"Africa\", \"Middle Africa\", 89561403, 2344858),\n",
    "    (\"Congo, Republic of the\", \"Africa\", \"Middle Africa\", 5518087, 342000),\n",
    "    (\"Costa Rica\", \"North America\", \"Central America\", 5094118, 51100),\n",
    "    (\"Croatia\", \"Europe\", \"Southern Europe\", 4105267, 56594),\n",
    "    (\"Cuba\", \"North America\", \"Caribbean\", 11326616, 109884),\n",
    "    (\"Côte d'Ivoire\", \"Africa\", \"Western Africa\", 26378274, 322463),\n",
    "    (\"Cyprus\", \"Europe\", \"Western Asia\", 1207359, 9251),\n",
    "    (\"Czech Republic\", \"Europe\", \"Eastern Europe\", 10708981, 78866),\n",
    "    (\"Denmark\", \"Europe\", \"Northern Europe\", 5792202, 42933),\n",
    "    (\"Djibouti\", \"Africa\", \"Eastern Africa\", 988000, 23200),\n",
    "    (\"Dominica\", \"North America\", \"Caribbean\", 71986, 751),\n",
    "    (\"Dominican Republic\", \"North America\", \"Caribbean\", 10847910, 48671),\n",
    "    (\"Ecuador\", \"South America\", \"South America\", 17643054, 283561),\n",
    "    (\"Egypt\", \"Africa\", \"Northern Africa\", 102334404, 1002450),\n",
    "    (\"El Salvador\", \"North America\", \"Central America\", 6486205, 21041),\n",
    "    (\"Equatorial Guinea\", \"Africa\", \"Middle Africa\", 1402985, 28051),\n",
    "    (\"Eritrea\", \"Africa\", \"Eastern Africa\", 3546421, 117600),\n",
    "    (\"Estonia\", \"Europe\", \"Northern Europe\", 1331796, 45227),\n",
    "    (\"Eswatini\", \"Africa\", \"Southern Africa\", 1160164, 17364),\n",
    "    (\"Ethiopia\", \"Africa\", \"Eastern Africa\", 114963588, 1104300),\n",
    "    (\"Fiji\", \"Oceania\", \"Melanesia\", 896444, 18274),\n",
    "    (\"Finland\", \"Europe\", \"Northern Europe\", 5540720, 338424),\n",
    "    (\"France\", \"Europe\", \"Western Europe\", 65273511, 551695),\n",
    "    (\"Gabon\", \"Africa\", \"Middle Africa\", 2225728, 267668),\n",
    "    (\"Gambia\", \"Africa\", \"Western Africa\", 2416668, 11295),\n",
    "    (\"Georgia\", \"Asia\", \"Western Asia\", 3989167, 69700),\n",
    "    (\"Germany\", \"Europe\", \"Western Europe\", 83783942, 357022),\n",
    "    (\"Ghana\", \"Africa\", \"Western Africa\", 31072940, 238533),\n",
    "    (\"Greece\", \"Europe\", \"Southern Europe\", 10423054, 131957),\n",
    "    (\"Grenada\", \"North America\", \"Caribbean\", 112523, 344),\n",
    "    (\"Guatemala\", \"North America\", \"Central America\", 17915568, 108889),\n",
    "    (\"Guinea\", \"Africa\", \"Western Africa\", 13132795, 245857),\n",
    "    (\"Guinea-Bissau\", \"Africa\", \"Western Africa\", 1968001, 36125),\n",
    "    (\"Guyana\", \"South America\", \"South America\", 786552, 214969),\n",
    "    (\"Haiti\", \"North America\", \"Caribbean\", 11402528, 27750),\n",
    "    (\"Holy See\", \"Europe\", \"Southern Europe\", 801, 0),\n",
    "    (\"Honduras\", \"North America\", \"Central America\", 9904607, 112492),\n",
    "    (\"Hungary\", \"Europe\", \"Eastern Europe\", 9660351, 93030),\n",
    "    (\"Iceland\", \"Europe\", \"Northern Europe\", 341243, 103000),\n",
    "    (\"India\", \"Asia\", \"Southern Asia\", 1380004385, 3287263),\n",
    "    (\"Indonesia\", \"Asia\", \"South-Eastern Asia\", 273523615, 1904569),\n",
    "    (\"Iran\", \"Asia\", \"Southern Asia\", 83992949, 1648195),\n",
    "    (\"Iraq\", \"Asia\", \"Western Asia\", 40222493, 438317),\n",
    "    (\"Ireland\", \"Europe\", \"Northern Europe\", 4937786, 70273),\n",
    "    (\"Israel\", \"Asia\", \"Western Asia\", 9053300, 20770),\n",
    "    (\"Italy\", \"Europe\", \"Southern Europe\", 60461826, 301340),\n",
    "    (\"Jamaica\", \"North America\", \"Caribbean\", 2961167, 10991),\n",
    "    (\"Japan\", \"Asia\", \"Eastern Asia\", 126476461, 377975),\n",
    "    (\"Jordan\", \"Asia\", \"Western Asia\", 10203134, 89342),\n",
    "    (\"Kazakhstan\", \"Asia\", \"Central Asia\", 18776707, 2724900),\n",
    "    (\"Kenya\", \"Africa\", \"Eastern Africa\", 53771296, 580367),\n",
    "    (\"Kiribati\", \"Oceania\", \"Micronesia\", 119449, 811),\n",
    "    (\"Kuwait\", \"Asia\", \"Western Asia\", 4270571, 17818),\n",
    "    (\"Kyrgyzstan\", \"Asia\", \"Central Asia\", 6524195, 199951),\n",
    "    (\"Laos\", \"Asia\", \"South-Eastern Asia\", 7275560, 236800),\n",
    "    (\"Latvia\", \"Europe\", \"Northern Europe\", 1886198, 64559),\n",
    "    (\"Lebanon\", \"Asia\", \"Western Asia\", 6825445, 10452),\n",
    "    (\"Lesotho\", \"Africa\", \"Southern Africa\", 2142249, 30355),\n",
    "    (\"Liberia\", \"Africa\", \"Western Africa\", 5073296, 111369),\n",
    "    (\"Libya\", \"Africa\", \"Northern Africa\", 6871292, 1759540),\n",
    "    (\"Liechtenstein\", \"Europe\", \"Western Europe\", 38128, 160),\n",
    "    (\"Lithuania\", \"Europe\", \"Northern Europe\", 2722289, 65300),\n",
    "    (\"Luxembourg\", \"Europe\", \"Western Europe\", 634814, 2586),\n",
    "    (\"Madagascar\", \"Africa\", \"Eastern Africa\", 27691018, 587041),\n",
    "    (\"Malawi\", \"Africa\", \"Eastern Africa\", 19129952, 118484),\n",
    "    (\"Malaysia\", \"Asia\", \"South-Eastern Asia\", 32365999, 330803),\n",
    "    (\"Maldives\", \"Asia\", \"Southern Asia\", 540544, 300),\n",
    "    (\"Mali\", \"Africa\", \"Western Africa\", 20250833, 1240192),\n",
    "    (\"Malta\", \"Europe\", \"Southern Europe\", 441543, 316),\n",
    "    (\"Marshall Islands\", \"Oceania\", \"Micronesia\", 59190, 181),\n",
    "    (\"Mauritania\", \"Africa\", \"Western Africa\", 4649658, 1030700),\n",
    "    (\"Mauritius\", \"Africa\", \"Eastern Africa\", 1271768, 2040),\n",
    "    (\"Mexico\", \"North America\", \"Central America\", 128932753, 1964375),\n",
    "    (\"Micronesia\", \"Oceania\", \"Micronesia\", 115023, 702),\n",
    "    (\"Moldova\", \"Europe\", \"Eastern Europe\", 2640438, 33851),\n",
    "    (\"Monaco\", \"Europe\", \"Western Europe\", 39242, 2),\n",
    "    (\"Mongolia\", \"Asia\", \"Eastern Asia\", 3278290, 1564110),\n",
    "    (\"Montenegro\", \"Europe\", \"Southern Europe\", 622359, 13812),\n",
    "    (\"Morocco\", \"Africa\", \"Northern Africa\", 36910560, 446550),\n",
    "    (\"Mozambique\", \"Africa\", \"Eastern Africa\", 31255435, 801590),\n",
    "    (\"Myanmar\", \"Asia\", \"South-Eastern Asia\", 54409800, 676578),\n",
    "    (\"Namibia\", \"Africa\", \"Southern Africa\", 2540905, 824292),\n",
    "    (\"Nauru\", \"Oceania\", \"Micronesia\", 10824, 21),\n",
    "    (\"Nepal\", \"Asia\", \"Southern Asia\", 29136808, 147181),\n",
    "    (\"Netherlands\", \"Europe\", \"Western Europe\", 17134872, 41543),\n",
    "    (\"New Zealand\", \"Oceania\", \"Australia and New Zealand\", 5084300, 268838),\n",
    "    (\"Nicaragua\", \"North America\", \"Central America\", 6624554, 130373),\n",
    "    (\"Niger\", \"Africa\", \"Western Africa\", 24206644, 1267000),\n",
    "    (\"Nigeria\", \"Africa\", \"Western Africa\", 206139589, 923768),\n",
    "    (\"North Korea\", \"Asia\", \"Eastern Asia\", 25778816, 120538),\n",
    "    (\"North Macedonia\", \"Europe\", \"Southern Europe\", 2083374, 25713),\n",
    "    (\"Norway\", \"Europe\", \"Northern Europe\", 5421241, 385207),\n",
    "    (\"Oman\", \"Asia\", \"Western Asia\", 5106626, 309500),\n",
    "    (\"Pakistan\", \"Asia\", \"Southern Asia\", 220892340, 881913),\n",
    "    (\"Palau\", \"Oceania\", \"Micronesia\", 18094, 459),\n",
    "    (\"Palestine, State of\", \"Asia\", \"Western Asia\", 5101414, 6020),\n",
    "    (\"Panama\", \"North America\", \"Central America\", 4314767, 75417),\n",
    "    (\"Papua New Guinea\", \"Oceania\", \"Melanesia\", 8947024, 462840),\n",
    "    (\"Paraguay\", \"South America\", \"South America\", 7132538, 406752),\n",
    "    (\"Peru\", \"South America\", \"South America\", 32971854, 1285216),\n",
    "    (\"Philippines\", \"Asia\", \"South-Eastern Asia\", 109581078, 300000),\n",
    "    (\"Poland\", \"Europe\", \"Eastern Europe\", 37846611, 312696),\n",
    "    (\"Portugal\", \"Europe\", \"Southern Europe\", 10196709, 92090),\n",
    "    (\"Qatar\", \"Asia\", \"Western Asia\", 2881053, 11586),\n",
    "    (\"Romania\", \"Europe\", \"Eastern Europe\", 19237691, 238391),\n",
    "    (\"Russia\", \"Europe\", \"Eastern Europe\", 144478050, 17098242),\n",
    "    (\"Rwanda\", \"Africa\", \"Eastern Africa\", 12952218, 26338),\n",
    "    (\"Saint Kitts and Nevis\", \"North America\", \"Caribbean\", 53192, 261),\n",
    "    (\"Saint Lucia\", \"North America\", \"Caribbean\", 183627, 616),\n",
    "    (\"Saint Vincent and the Grenadines\", \"North America\", \"Caribbean\", 110940, 389),\n",
    "    (\"Samoa\", \"Oceania\", \"Polynesia\", 198414, 2842),\n",
    "    (\"San Marino\", \"Europe\", \"Southern Europe\", 33938, 61),\n",
    "    (\"Sao Tome and Principe\", \"Africa\", \"Middle Africa\", 219159, 964),\n",
    "    (\"Saudi Arabia\", \"Asia\", \"Western Asia\", 34813871, 2149690),\n",
    "    (\"Senegal\", \"Africa\", \"Western Africa\", 16743927, 196722),\n",
    "    (\"Serbia\", \"Europe\", \"Southern Europe\", 6944975, 88361),\n",
    "    (\"Seychelles\", \"Africa\", \"Eastern Africa\", 98347, 455),\n",
    "    (\"Sierra Leone\", \"Africa\", \"Western Africa\", 7976983, 71740),\n",
    "    (\"Singapore\", \"Asia\", \"South-Eastern Asia\", 5850342, 719),\n",
    "    (\"Slovakia\", \"Europe\", \"Eastern Europe\", 5459642, 49037),\n",
    "    (\"Slovenia\", \"Europe\", \"Southern Europe\", 2078938, 20273),\n",
    "    (\"Solomon Islands\", \"Oceania\", \"Melanesia\", 686884, 28896),\n",
    "    (\"Somalia\", \"Africa\", \"Eastern Africa\", 15893222, 637657),\n",
    "    (\"South Africa\", \"Africa\", \"Southern Africa\", 59308690, 1221037),\n",
    "    (\"South Korea\", \"Asia\", \"Eastern Asia\", 51269185, 100210),\n",
    "    (\"South Sudan\", \"Africa\", \"Eastern Africa\", 11193725, 644329),\n",
    "    (\"Spain\", \"Europe\", \"Southern Europe\", 46754778, 505992),\n",
    "    (\"Sri Lanka\", \"Asia\", \"Southern Asia\", 21413249, 65610),\n",
    "    (\"Sudan\", \"Africa\", \"Northern Africa\", 43849260, 1861484),\n",
    "    (\"Suriname\", \"South America\", \"South America\", 586634, 163820),\n",
    "    (\"Sweden\", \"Europe\", \"Northern Europe\", 10099265, 450295),\n",
    "    (\"Switzerland\", \"Europe\", \"Western Europe\", 8654622, 41285),\n",
    "    (\"Syria\", \"Asia\", \"Western Asia\", 17500657, 185180),\n",
    "    (\"Tajikistan\", \"Asia\", \"Central Asia\", 9537645, 143100),\n",
    "    (\"Tanzania\", \"Africa\", \"Eastern Africa\", 59734218, 945087),\n",
    "    (\"Thailand\", \"Asia\", \"South-Eastern Asia\", 69799978, 513120),\n",
    "    (\"Timor-Leste\", \"Asia\", \"South-Eastern Asia\", 1318445, 14874),\n",
    "    (\"Togo\", \"Africa\", \"Western Africa\", 8278724, 56785),\n",
    "    (\"Tonga\", \"Oceania\", \"Polynesia\", 105695, 747),\n",
    "    (\"Trinidad and Tobago\", \"North America\", \"Caribbean\", 1399488, 5130),\n",
    "    (\"Tunisia\", \"Africa\", \"Northern Africa\", 11818619, 163610),\n",
    "    (\"Turkey\", \"Asia\", \"Western Asia\", 84339067, 783562),\n",
    "    (\"Turkmenistan\", \"Asia\", \"Central Asia\", 6031200, 488100),\n",
    "    (\"Tuvalu\", \"Oceania\", \"Polynesia\", 11792, 26),\n",
    "    (\"Uganda\", \"Africa\", \"Eastern Africa\", 45741007, 241550),\n",
    "    (\"Ukraine\", \"Europe\", \"Eastern Europe\", 43733762, 603628),\n",
    "    (\"United Arab Emirates\", \"Asia\", \"Western Asia\", 9890400, 83600),\n",
    "    (\"United Kingdom\", \"Europe\", \"Northern Europe\", 67886011, 243610),\n",
    "    (\"United States\", \"North America\", \"Northern America\", 331002651, 9833520),\n",
    "    (\"Uruguay\", \"South America\", \"South America\", 3473730, 176215),\n",
    "    (\"Uzbekistan\", \"Asia\", \"Central Asia\", 33469203, 447400),\n",
    "    (\"Vanuatu\", \"Oceania\", \"Melanesia\", 307145, 12189),\n",
    "    (\"Venezuela\", \"South America\", \"South America\", 28435940, 916445),\n",
    "    (\"Vietnam\", \"Asia\", \"South-Eastern Asia\", 97338579, 331212),\n",
    "    (\"Yemen\", \"Asia\", \"Western Asia\", 29825964, 527968),\n",
    "    (\"Zambia\", \"Africa\", \"Eastern Africa\", 18383955, 752612),\n",
    "    (\"Zimbabwe\", \"Africa\", \"Eastern Africa\", 14862924, 390757)\n",
    "]\n",
    "\n",
    "# Create the DataFrame using the new schema (with sub_region)\n",
    "df = spark.createDataFrame(data, schema)\n",
    "\n",
    "# Display the DataFrame\n",
    "df.show(5)"
   ]
  },
  {
   "cell_type": "code",
   "execution_count": 0,
   "metadata": {
    "application/vnd.databricks.v1+cell": {
     "cellMetadata": {
      "byteLimit": 2048000,
      "rowLimit": 10000
     },
     "inputWidgets": {},
     "nuid": "dcc43f0d-a187-4497-af0a-e5a2d58a6b4a",
     "showTitle": false,
     "tableResultSettingsMap": {},
     "title": ""
    }
   },
   "outputs": [],
   "source": [
    "# Creating a temporary view\n",
    "df.createOrReplaceTempView(\"countries_tv\")"
   ]
  },
  {
   "cell_type": "code",
   "execution_count": 0,
   "metadata": {
    "application/vnd.databricks.v1+cell": {
     "cellMetadata": {},
     "inputWidgets": {},
     "nuid": "7a15b4d6-766b-4349-90be-e6f88ea3d2ab",
     "showTitle": false,
     "tableResultSettingsMap": {},
     "title": ""
    }
   },
   "outputs": [],
   "source": [
    "# Using an SQL Expression in PySpark\n",
    "spark.sql(\"select * from countries_tv\").display()"
   ]
  },
  {
   "cell_type": "code",
   "execution_count": 0,
   "metadata": {
    "application/vnd.databricks.v1+cell": {
     "cellMetadata": {
      "byteLimit": 2048000,
      "rowLimit": 10000
     },
     "inputWidgets": {},
     "nuid": "42f09282-127a-4ea2-aba6-19071f8ec8f8",
     "showTitle": false,
     "tableResultSettingsMap": {},
     "title": ""
    }
   },
   "outputs": [],
   "source": [
    "# Making the expression dynamic\n",
    "continent = \"Asia\"\n",
    "spark.sql(\"select * from countries_tv where continent = {continent} \", continent=continent).display()"
   ]
  },
  {
   "cell_type": "code",
   "execution_count": 0,
   "metadata": {
    "application/vnd.databricks.v1+cell": {
     "cellMetadata": {
      "byteLimit": 2048000,
      "rowLimit": 10000
     },
     "inputWidgets": {},
     "nuid": "ee3ea3c1-cc0a-46f2-aa3b-be7642ce84b6",
     "showTitle": false,
     "tableResultSettingsMap": {},
     "title": ""
    }
   },
   "outputs": [
    {
     "output_type": "display_data",
     "data": {
      "text/html": [
       "<style scoped>\n",
       "  .table-result-container {\n",
       "    max-height: 300px;\n",
       "    overflow: auto;\n",
       "  }\n",
       "  table, th, td {\n",
       "    border: 1px solid black;\n",
       "    border-collapse: collapse;\n",
       "  }\n",
       "  th, td {\n",
       "    padding: 5px;\n",
       "  }\n",
       "  th {\n",
       "    text-align: left;\n",
       "  }\n",
       "</style><div class='table-result-container'><table class='table-result'><thead style='background-color: white'><tr><th>country_name</th><th>continent</th><th>sub_region</th><th>population</th><th>area_km2</th></tr></thead><tbody><tr><td>Afghanistan</td><td>Asia</td><td>Southern Asia</td><td>38928346</td><td>652230</td></tr><tr><td>Armenia</td><td>Asia</td><td>Western Asia</td><td>2963243</td><td>29743</td></tr><tr><td>Azerbaijan</td><td>Asia</td><td>Western Asia</td><td>10139177</td><td>86600</td></tr><tr><td>Bahrain</td><td>Asia</td><td>Western Asia</td><td>1701575</td><td>765</td></tr><tr><td>Bangladesh</td><td>Asia</td><td>Southern Asia</td><td>164689383</td><td>147570</td></tr><tr><td>Bhutan</td><td>Asia</td><td>Southern Asia</td><td>771608</td><td>38394</td></tr><tr><td>Brunei</td><td>Asia</td><td>South-Eastern Asia</td><td>437479</td><td>5765</td></tr><tr><td>Cambodia</td><td>Asia</td><td>South-Eastern Asia</td><td>16718965</td><td>181035</td></tr><tr><td>China</td><td>Asia</td><td>Eastern Asia</td><td>1439323776</td><td>9596961</td></tr><tr><td>Georgia</td><td>Asia</td><td>Western Asia</td><td>3989167</td><td>69700</td></tr><tr><td>India</td><td>Asia</td><td>Southern Asia</td><td>1380004385</td><td>3287263</td></tr><tr><td>Indonesia</td><td>Asia</td><td>South-Eastern Asia</td><td>273523615</td><td>1904569</td></tr><tr><td>Iran</td><td>Asia</td><td>Southern Asia</td><td>83992949</td><td>1648195</td></tr><tr><td>Iraq</td><td>Asia</td><td>Western Asia</td><td>40222493</td><td>438317</td></tr><tr><td>Israel</td><td>Asia</td><td>Western Asia</td><td>9053300</td><td>20770</td></tr><tr><td>Japan</td><td>Asia</td><td>Eastern Asia</td><td>126476461</td><td>377975</td></tr><tr><td>Jordan</td><td>Asia</td><td>Western Asia</td><td>10203134</td><td>89342</td></tr><tr><td>Kazakhstan</td><td>Asia</td><td>Central Asia</td><td>18776707</td><td>2724900</td></tr><tr><td>Kuwait</td><td>Asia</td><td>Western Asia</td><td>4270571</td><td>17818</td></tr><tr><td>Kyrgyzstan</td><td>Asia</td><td>Central Asia</td><td>6524195</td><td>199951</td></tr><tr><td>Laos</td><td>Asia</td><td>South-Eastern Asia</td><td>7275560</td><td>236800</td></tr><tr><td>Lebanon</td><td>Asia</td><td>Western Asia</td><td>6825445</td><td>10452</td></tr><tr><td>Malaysia</td><td>Asia</td><td>South-Eastern Asia</td><td>32365999</td><td>330803</td></tr><tr><td>Maldives</td><td>Asia</td><td>Southern Asia</td><td>540544</td><td>300</td></tr><tr><td>Mongolia</td><td>Asia</td><td>Eastern Asia</td><td>3278290</td><td>1564110</td></tr><tr><td>Myanmar</td><td>Asia</td><td>South-Eastern Asia</td><td>54409800</td><td>676578</td></tr><tr><td>Nepal</td><td>Asia</td><td>Southern Asia</td><td>29136808</td><td>147181</td></tr><tr><td>North Korea</td><td>Asia</td><td>Eastern Asia</td><td>25778816</td><td>120538</td></tr><tr><td>Oman</td><td>Asia</td><td>Western Asia</td><td>5106626</td><td>309500</td></tr><tr><td>Pakistan</td><td>Asia</td><td>Southern Asia</td><td>220892340</td><td>881913</td></tr><tr><td>Palestine, State of</td><td>Asia</td><td>Western Asia</td><td>5101414</td><td>6020</td></tr><tr><td>Philippines</td><td>Asia</td><td>South-Eastern Asia</td><td>109581078</td><td>300000</td></tr><tr><td>Qatar</td><td>Asia</td><td>Western Asia</td><td>2881053</td><td>11586</td></tr><tr><td>Saudi Arabia</td><td>Asia</td><td>Western Asia</td><td>34813871</td><td>2149690</td></tr><tr><td>Singapore</td><td>Asia</td><td>South-Eastern Asia</td><td>5850342</td><td>719</td></tr><tr><td>South Korea</td><td>Asia</td><td>Eastern Asia</td><td>51269185</td><td>100210</td></tr><tr><td>Sri Lanka</td><td>Asia</td><td>Southern Asia</td><td>21413249</td><td>65610</td></tr><tr><td>Syria</td><td>Asia</td><td>Western Asia</td><td>17500657</td><td>185180</td></tr><tr><td>Tajikistan</td><td>Asia</td><td>Central Asia</td><td>9537645</td><td>143100</td></tr><tr><td>Thailand</td><td>Asia</td><td>South-Eastern Asia</td><td>69799978</td><td>513120</td></tr><tr><td>Timor-Leste</td><td>Asia</td><td>South-Eastern Asia</td><td>1318445</td><td>14874</td></tr><tr><td>Turkey</td><td>Asia</td><td>Western Asia</td><td>84339067</td><td>783562</td></tr><tr><td>Turkmenistan</td><td>Asia</td><td>Central Asia</td><td>6031200</td><td>488100</td></tr><tr><td>United Arab Emirates</td><td>Asia</td><td>Western Asia</td><td>9890400</td><td>83600</td></tr><tr><td>Uzbekistan</td><td>Asia</td><td>Central Asia</td><td>33469203</td><td>447400</td></tr><tr><td>Vietnam</td><td>Asia</td><td>South-Eastern Asia</td><td>97338579</td><td>331212</td></tr><tr><td>Yemen</td><td>Asia</td><td>Western Asia</td><td>29825964</td><td>527968</td></tr></tbody></table></div>"
      ]
     },
     "metadata": {
      "application/vnd.databricks.v1+output": {
       "addedWidgets": {},
       "aggData": [],
       "aggError": "",
       "aggOverflow": false,
       "aggSchema": [],
       "aggSeriesLimitReached": false,
       "aggType": "",
       "arguments": {},
       "columnCustomDisplayInfos": {},
       "data": [
        [
         "Afghanistan",
         "Asia",
         "Southern Asia",
         38928346,
         652230
        ],
        [
         "Armenia",
         "Asia",
         "Western Asia",
         2963243,
         29743
        ],
        [
         "Azerbaijan",
         "Asia",
         "Western Asia",
         10139177,
         86600
        ],
        [
         "Bahrain",
         "Asia",
         "Western Asia",
         1701575,
         765
        ],
        [
         "Bangladesh",
         "Asia",
         "Southern Asia",
         164689383,
         147570
        ],
        [
         "Bhutan",
         "Asia",
         "Southern Asia",
         771608,
         38394
        ],
        [
         "Brunei",
         "Asia",
         "South-Eastern Asia",
         437479,
         5765
        ],
        [
         "Cambodia",
         "Asia",
         "South-Eastern Asia",
         16718965,
         181035
        ],
        [
         "China",
         "Asia",
         "Eastern Asia",
         1439323776,
         9596961
        ],
        [
         "Georgia",
         "Asia",
         "Western Asia",
         3989167,
         69700
        ],
        [
         "India",
         "Asia",
         "Southern Asia",
         1380004385,
         3287263
        ],
        [
         "Indonesia",
         "Asia",
         "South-Eastern Asia",
         273523615,
         1904569
        ],
        [
         "Iran",
         "Asia",
         "Southern Asia",
         83992949,
         1648195
        ],
        [
         "Iraq",
         "Asia",
         "Western Asia",
         40222493,
         438317
        ],
        [
         "Israel",
         "Asia",
         "Western Asia",
         9053300,
         20770
        ],
        [
         "Japan",
         "Asia",
         "Eastern Asia",
         126476461,
         377975
        ],
        [
         "Jordan",
         "Asia",
         "Western Asia",
         10203134,
         89342
        ],
        [
         "Kazakhstan",
         "Asia",
         "Central Asia",
         18776707,
         2724900
        ],
        [
         "Kuwait",
         "Asia",
         "Western Asia",
         4270571,
         17818
        ],
        [
         "Kyrgyzstan",
         "Asia",
         "Central Asia",
         6524195,
         199951
        ],
        [
         "Laos",
         "Asia",
         "South-Eastern Asia",
         7275560,
         236800
        ],
        [
         "Lebanon",
         "Asia",
         "Western Asia",
         6825445,
         10452
        ],
        [
         "Malaysia",
         "Asia",
         "South-Eastern Asia",
         32365999,
         330803
        ],
        [
         "Maldives",
         "Asia",
         "Southern Asia",
         540544,
         300
        ],
        [
         "Mongolia",
         "Asia",
         "Eastern Asia",
         3278290,
         1564110
        ],
        [
         "Myanmar",
         "Asia",
         "South-Eastern Asia",
         54409800,
         676578
        ],
        [
         "Nepal",
         "Asia",
         "Southern Asia",
         29136808,
         147181
        ],
        [
         "North Korea",
         "Asia",
         "Eastern Asia",
         25778816,
         120538
        ],
        [
         "Oman",
         "Asia",
         "Western Asia",
         5106626,
         309500
        ],
        [
         "Pakistan",
         "Asia",
         "Southern Asia",
         220892340,
         881913
        ],
        [
         "Palestine, State of",
         "Asia",
         "Western Asia",
         5101414,
         6020
        ],
        [
         "Philippines",
         "Asia",
         "South-Eastern Asia",
         109581078,
         300000
        ],
        [
         "Qatar",
         "Asia",
         "Western Asia",
         2881053,
         11586
        ],
        [
         "Saudi Arabia",
         "Asia",
         "Western Asia",
         34813871,
         2149690
        ],
        [
         "Singapore",
         "Asia",
         "South-Eastern Asia",
         5850342,
         719
        ],
        [
         "South Korea",
         "Asia",
         "Eastern Asia",
         51269185,
         100210
        ],
        [
         "Sri Lanka",
         "Asia",
         "Southern Asia",
         21413249,
         65610
        ],
        [
         "Syria",
         "Asia",
         "Western Asia",
         17500657,
         185180
        ],
        [
         "Tajikistan",
         "Asia",
         "Central Asia",
         9537645,
         143100
        ],
        [
         "Thailand",
         "Asia",
         "South-Eastern Asia",
         69799978,
         513120
        ],
        [
         "Timor-Leste",
         "Asia",
         "South-Eastern Asia",
         1318445,
         14874
        ],
        [
         "Turkey",
         "Asia",
         "Western Asia",
         84339067,
         783562
        ],
        [
         "Turkmenistan",
         "Asia",
         "Central Asia",
         6031200,
         488100
        ],
        [
         "United Arab Emirates",
         "Asia",
         "Western Asia",
         9890400,
         83600
        ],
        [
         "Uzbekistan",
         "Asia",
         "Central Asia",
         33469203,
         447400
        ],
        [
         "Vietnam",
         "Asia",
         "South-Eastern Asia",
         97338579,
         331212
        ],
        [
         "Yemen",
         "Asia",
         "Western Asia",
         29825964,
         527968
        ]
       ],
       "datasetInfos": [],
       "dbfsResultPath": null,
       "isJsonSchema": true,
       "metadata": {},
       "overflow": false,
       "plotOptions": {
        "customPlotOptions": {},
        "displayType": "table",
        "pivotAggregation": null,
        "pivotColumns": null,
        "xColumns": null,
        "yColumns": null
       },
       "removedWidgets": [],
       "schema": [
        {
         "metadata": "{}",
         "name": "country_name",
         "type": "\"string\""
        },
        {
         "metadata": "{}",
         "name": "continent",
         "type": "\"string\""
        },
        {
         "metadata": "{}",
         "name": "sub_region",
         "type": "\"string\""
        },
        {
         "metadata": "{}",
         "name": "population",
         "type": "\"long\""
        },
        {
         "metadata": "{}",
         "name": "area_km2",
         "type": "\"integer\""
        }
       ],
       "type": "table"
      }
     },
     "output_type": "display_data"
    }
   ],
   "source": [
    "# Making the expression dynamic via an f-string (alternate syntax)\n",
    "continent = \"Asia\"\n",
    "spark.sql(f\"select * from countries_tv where continent = '{continent}'\").display()"
   ]
  },
  {
   "cell_type": "code",
   "execution_count": 0,
   "metadata": {
    "application/vnd.databricks.v1+cell": {
     "cellMetadata": {
      "byteLimit": 2048000,
      "rowLimit": 10000
     },
     "inputWidgets": {},
     "nuid": "1fcd9dc1-f2c6-42c3-880c-dafbf2f7bb5b",
     "showTitle": false,
     "tableResultSettingsMap": {},
     "title": ""
    }
   },
   "outputs": [
    {
     "output_type": "display_data",
     "data": {
      "text/html": [
       "<style scoped>\n",
       "  .table-result-container {\n",
       "    max-height: 300px;\n",
       "    overflow: auto;\n",
       "  }\n",
       "  table, th, td {\n",
       "    border: 1px solid black;\n",
       "    border-collapse: collapse;\n",
       "  }\n",
       "  th, td {\n",
       "    padding: 5px;\n",
       "  }\n",
       "  th {\n",
       "    text-align: left;\n",
       "  }\n",
       "</style><div class='table-result-container'><table class='table-result'><thead style='background-color: white'><tr><th>country_name</th><th>continent</th><th>sub_region</th><th>population</th><th>area_km2</th></tr></thead><tbody><tr><td>Afghanistan</td><td>Asia</td><td>Southern Asia</td><td>38928346</td><td>652230</td></tr><tr><td>Armenia</td><td>Asia</td><td>Western Asia</td><td>2963243</td><td>29743</td></tr><tr><td>Azerbaijan</td><td>Asia</td><td>Western Asia</td><td>10139177</td><td>86600</td></tr><tr><td>Bahrain</td><td>Asia</td><td>Western Asia</td><td>1701575</td><td>765</td></tr><tr><td>Bangladesh</td><td>Asia</td><td>Southern Asia</td><td>164689383</td><td>147570</td></tr><tr><td>Bhutan</td><td>Asia</td><td>Southern Asia</td><td>771608</td><td>38394</td></tr><tr><td>Brunei</td><td>Asia</td><td>South-Eastern Asia</td><td>437479</td><td>5765</td></tr><tr><td>Cambodia</td><td>Asia</td><td>South-Eastern Asia</td><td>16718965</td><td>181035</td></tr><tr><td>China</td><td>Asia</td><td>Eastern Asia</td><td>1439323776</td><td>9596961</td></tr><tr><td>Georgia</td><td>Asia</td><td>Western Asia</td><td>3989167</td><td>69700</td></tr><tr><td>India</td><td>Asia</td><td>Southern Asia</td><td>1380004385</td><td>3287263</td></tr><tr><td>Indonesia</td><td>Asia</td><td>South-Eastern Asia</td><td>273523615</td><td>1904569</td></tr><tr><td>Iran</td><td>Asia</td><td>Southern Asia</td><td>83992949</td><td>1648195</td></tr><tr><td>Iraq</td><td>Asia</td><td>Western Asia</td><td>40222493</td><td>438317</td></tr><tr><td>Israel</td><td>Asia</td><td>Western Asia</td><td>9053300</td><td>20770</td></tr><tr><td>Japan</td><td>Asia</td><td>Eastern Asia</td><td>126476461</td><td>377975</td></tr><tr><td>Jordan</td><td>Asia</td><td>Western Asia</td><td>10203134</td><td>89342</td></tr><tr><td>Kazakhstan</td><td>Asia</td><td>Central Asia</td><td>18776707</td><td>2724900</td></tr><tr><td>Kuwait</td><td>Asia</td><td>Western Asia</td><td>4270571</td><td>17818</td></tr><tr><td>Kyrgyzstan</td><td>Asia</td><td>Central Asia</td><td>6524195</td><td>199951</td></tr><tr><td>Laos</td><td>Asia</td><td>South-Eastern Asia</td><td>7275560</td><td>236800</td></tr><tr><td>Lebanon</td><td>Asia</td><td>Western Asia</td><td>6825445</td><td>10452</td></tr><tr><td>Malaysia</td><td>Asia</td><td>South-Eastern Asia</td><td>32365999</td><td>330803</td></tr><tr><td>Maldives</td><td>Asia</td><td>Southern Asia</td><td>540544</td><td>300</td></tr><tr><td>Mongolia</td><td>Asia</td><td>Eastern Asia</td><td>3278290</td><td>1564110</td></tr><tr><td>Myanmar</td><td>Asia</td><td>South-Eastern Asia</td><td>54409800</td><td>676578</td></tr><tr><td>Nepal</td><td>Asia</td><td>Southern Asia</td><td>29136808</td><td>147181</td></tr><tr><td>North Korea</td><td>Asia</td><td>Eastern Asia</td><td>25778816</td><td>120538</td></tr><tr><td>Oman</td><td>Asia</td><td>Western Asia</td><td>5106626</td><td>309500</td></tr><tr><td>Pakistan</td><td>Asia</td><td>Southern Asia</td><td>220892340</td><td>881913</td></tr><tr><td>Palestine, State of</td><td>Asia</td><td>Western Asia</td><td>5101414</td><td>6020</td></tr><tr><td>Philippines</td><td>Asia</td><td>South-Eastern Asia</td><td>109581078</td><td>300000</td></tr><tr><td>Qatar</td><td>Asia</td><td>Western Asia</td><td>2881053</td><td>11586</td></tr><tr><td>Saudi Arabia</td><td>Asia</td><td>Western Asia</td><td>34813871</td><td>2149690</td></tr><tr><td>Singapore</td><td>Asia</td><td>South-Eastern Asia</td><td>5850342</td><td>719</td></tr><tr><td>South Korea</td><td>Asia</td><td>Eastern Asia</td><td>51269185</td><td>100210</td></tr><tr><td>Sri Lanka</td><td>Asia</td><td>Southern Asia</td><td>21413249</td><td>65610</td></tr><tr><td>Syria</td><td>Asia</td><td>Western Asia</td><td>17500657</td><td>185180</td></tr><tr><td>Tajikistan</td><td>Asia</td><td>Central Asia</td><td>9537645</td><td>143100</td></tr><tr><td>Thailand</td><td>Asia</td><td>South-Eastern Asia</td><td>69799978</td><td>513120</td></tr><tr><td>Timor-Leste</td><td>Asia</td><td>South-Eastern Asia</td><td>1318445</td><td>14874</td></tr><tr><td>Turkey</td><td>Asia</td><td>Western Asia</td><td>84339067</td><td>783562</td></tr><tr><td>Turkmenistan</td><td>Asia</td><td>Central Asia</td><td>6031200</td><td>488100</td></tr><tr><td>United Arab Emirates</td><td>Asia</td><td>Western Asia</td><td>9890400</td><td>83600</td></tr><tr><td>Uzbekistan</td><td>Asia</td><td>Central Asia</td><td>33469203</td><td>447400</td></tr><tr><td>Vietnam</td><td>Asia</td><td>South-Eastern Asia</td><td>97338579</td><td>331212</td></tr><tr><td>Yemen</td><td>Asia</td><td>Western Asia</td><td>29825964</td><td>527968</td></tr></tbody></table></div>"
      ]
     },
     "metadata": {
      "application/vnd.databricks.v1+output": {
       "addedWidgets": {},
       "aggData": [],
       "aggError": "",
       "aggOverflow": false,
       "aggSchema": [],
       "aggSeriesLimitReached": false,
       "aggType": "",
       "arguments": {},
       "columnCustomDisplayInfos": {},
       "data": [
        [
         "Afghanistan",
         "Asia",
         "Southern Asia",
         38928346,
         652230
        ],
        [
         "Armenia",
         "Asia",
         "Western Asia",
         2963243,
         29743
        ],
        [
         "Azerbaijan",
         "Asia",
         "Western Asia",
         10139177,
         86600
        ],
        [
         "Bahrain",
         "Asia",
         "Western Asia",
         1701575,
         765
        ],
        [
         "Bangladesh",
         "Asia",
         "Southern Asia",
         164689383,
         147570
        ],
        [
         "Bhutan",
         "Asia",
         "Southern Asia",
         771608,
         38394
        ],
        [
         "Brunei",
         "Asia",
         "South-Eastern Asia",
         437479,
         5765
        ],
        [
         "Cambodia",
         "Asia",
         "South-Eastern Asia",
         16718965,
         181035
        ],
        [
         "China",
         "Asia",
         "Eastern Asia",
         1439323776,
         9596961
        ],
        [
         "Georgia",
         "Asia",
         "Western Asia",
         3989167,
         69700
        ],
        [
         "India",
         "Asia",
         "Southern Asia",
         1380004385,
         3287263
        ],
        [
         "Indonesia",
         "Asia",
         "South-Eastern Asia",
         273523615,
         1904569
        ],
        [
         "Iran",
         "Asia",
         "Southern Asia",
         83992949,
         1648195
        ],
        [
         "Iraq",
         "Asia",
         "Western Asia",
         40222493,
         438317
        ],
        [
         "Israel",
         "Asia",
         "Western Asia",
         9053300,
         20770
        ],
        [
         "Japan",
         "Asia",
         "Eastern Asia",
         126476461,
         377975
        ],
        [
         "Jordan",
         "Asia",
         "Western Asia",
         10203134,
         89342
        ],
        [
         "Kazakhstan",
         "Asia",
         "Central Asia",
         18776707,
         2724900
        ],
        [
         "Kuwait",
         "Asia",
         "Western Asia",
         4270571,
         17818
        ],
        [
         "Kyrgyzstan",
         "Asia",
         "Central Asia",
         6524195,
         199951
        ],
        [
         "Laos",
         "Asia",
         "South-Eastern Asia",
         7275560,
         236800
        ],
        [
         "Lebanon",
         "Asia",
         "Western Asia",
         6825445,
         10452
        ],
        [
         "Malaysia",
         "Asia",
         "South-Eastern Asia",
         32365999,
         330803
        ],
        [
         "Maldives",
         "Asia",
         "Southern Asia",
         540544,
         300
        ],
        [
         "Mongolia",
         "Asia",
         "Eastern Asia",
         3278290,
         1564110
        ],
        [
         "Myanmar",
         "Asia",
         "South-Eastern Asia",
         54409800,
         676578
        ],
        [
         "Nepal",
         "Asia",
         "Southern Asia",
         29136808,
         147181
        ],
        [
         "North Korea",
         "Asia",
         "Eastern Asia",
         25778816,
         120538
        ],
        [
         "Oman",
         "Asia",
         "Western Asia",
         5106626,
         309500
        ],
        [
         "Pakistan",
         "Asia",
         "Southern Asia",
         220892340,
         881913
        ],
        [
         "Palestine, State of",
         "Asia",
         "Western Asia",
         5101414,
         6020
        ],
        [
         "Philippines",
         "Asia",
         "South-Eastern Asia",
         109581078,
         300000
        ],
        [
         "Qatar",
         "Asia",
         "Western Asia",
         2881053,
         11586
        ],
        [
         "Saudi Arabia",
         "Asia",
         "Western Asia",
         34813871,
         2149690
        ],
        [
         "Singapore",
         "Asia",
         "South-Eastern Asia",
         5850342,
         719
        ],
        [
         "South Korea",
         "Asia",
         "Eastern Asia",
         51269185,
         100210
        ],
        [
         "Sri Lanka",
         "Asia",
         "Southern Asia",
         21413249,
         65610
        ],
        [
         "Syria",
         "Asia",
         "Western Asia",
         17500657,
         185180
        ],
        [
         "Tajikistan",
         "Asia",
         "Central Asia",
         9537645,
         143100
        ],
        [
         "Thailand",
         "Asia",
         "South-Eastern Asia",
         69799978,
         513120
        ],
        [
         "Timor-Leste",
         "Asia",
         "South-Eastern Asia",
         1318445,
         14874
        ],
        [
         "Turkey",
         "Asia",
         "Western Asia",
         84339067,
         783562
        ],
        [
         "Turkmenistan",
         "Asia",
         "Central Asia",
         6031200,
         488100
        ],
        [
         "United Arab Emirates",
         "Asia",
         "Western Asia",
         9890400,
         83600
        ],
        [
         "Uzbekistan",
         "Asia",
         "Central Asia",
         33469203,
         447400
        ],
        [
         "Vietnam",
         "Asia",
         "South-Eastern Asia",
         97338579,
         331212
        ],
        [
         "Yemen",
         "Asia",
         "Western Asia",
         29825964,
         527968
        ]
       ],
       "datasetInfos": [],
       "dbfsResultPath": null,
       "isJsonSchema": true,
       "metadata": {},
       "overflow": false,
       "plotOptions": {
        "customPlotOptions": {},
        "displayType": "table",
        "pivotAggregation": null,
        "pivotColumns": null,
        "xColumns": null,
        "yColumns": null
       },
       "removedWidgets": [],
       "schema": [
        {
         "metadata": "{}",
         "name": "country_name",
         "type": "\"string\""
        },
        {
         "metadata": "{}",
         "name": "continent",
         "type": "\"string\""
        },
        {
         "metadata": "{}",
         "name": "sub_region",
         "type": "\"string\""
        },
        {
         "metadata": "{}",
         "name": "population",
         "type": "\"long\""
        },
        {
         "metadata": "{}",
         "name": "area_km2",
         "type": "\"integer\""
        }
       ],
       "type": "table"
      }
     },
     "output_type": "display_data"
    }
   ],
   "source": [
    "# Formatting the SQL String over multiple lines, and making it dynamic\n",
    "continent = 'Asia'\n",
    "\n",
    "sql_string = f\"\"\"\n",
    "select \n",
    "    * \n",
    "from \n",
    "    countries_tv\n",
    "where continent = '{continent}'\n",
    "\"\"\"\n",
    "\n",
    "spark.sql(sql_string).display()"
   ]
  }
 ],
 "metadata": {
  "application/vnd.databricks.v1+notebook": {
   "computePreferences": null,
   "dashboards": [],
   "environmentMetadata": {
    "base_environment": "",
    "client": "1"
   },
   "language": "python",
   "notebookMetadata": {
    "pythonIndentUnit": 4
   },
   "notebookName": "(VS Code) Executing SQL Queries in PySpark",
   "widgets": {}
  }
 },
 "nbformat": 4,
 "nbformat_minor": 0
}
