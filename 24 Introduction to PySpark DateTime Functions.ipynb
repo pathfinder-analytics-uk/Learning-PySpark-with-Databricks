{
 "cells": [
  {
   "cell_type": "markdown",
   "metadata": {
    "application/vnd.databricks.v1+cell": {
     "cellMetadata": {},
     "inputWidgets": {},
     "nuid": "a46876c8-70a5-4cc7-9782-9c5f0699a367",
     "showTitle": false,
     "tableResultSettingsMap": {},
     "title": ""
    }
   },
   "source": [
    "## Introduction to PySpark DateTime Functions\n",
    "PySpark Date Time Functions are built-in methods in the pyspark.sql.functions module that enable efficient handling of date and time operations and conversions within DataFrames."
   ]
  },
  {
   "cell_type": "markdown",
   "metadata": {
    "application/vnd.databricks.v1+cell": {
     "cellMetadata": {},
     "inputWidgets": {},
     "nuid": "4137ffa7-d025-43c9-9618-29a1f6e5edcb",
     "showTitle": false,
     "tableResultSettingsMap": {},
     "title": ""
    }
   },
   "source": [
    "%md\n",
    "### Links and Resources\n",
    "- [Datetime Functions](https://spark.apache.org/docs/latest/api/python/reference/pyspark.sql/functions.html#datetime-functions)\n",
    "- [Datetime Patterns](https://spark.apache.org/docs/latest/sql-ref-datetime-pattern.html)"
   ]
  },
  {
   "cell_type": "code",
   "execution_count": 0,
   "metadata": {
    "application/vnd.databricks.v1+cell": {
     "cellMetadata": {
      "byteLimit": 2048000,
      "rowLimit": 10000
     },
     "inputWidgets": {},
     "nuid": "3cfab315-61c9-4b5f-8355-a0b02dd5b95f",
     "showTitle": false,
     "tableResultSettingsMap": {},
     "title": ""
    }
   },
   "outputs": [
    {
     "output_type": "stream",
     "name": "stdout",
     "output_type": "stream",
     "text": [
      "+-------+----------+\n|   name| hire_date|\n+-------+----------+\n|  Alice|15-06-2020|\n|    Bob|25-09-2018|\n|Charlie|05-12-2022|\n+-------+----------+\n\n"
     ]
    }
   ],
   "source": [
    "from pyspark.sql.functions import col\n",
    "\n",
    "schema = \"name string, hire_date string\"\n",
    "\n",
    "data = [\n",
    "    (\"Alice\", \"15-06-2020\"),\n",
    "    (\"Bob\", \"25-09-2018\"),\n",
    "    (\"Charlie\", \"05-12-2022\")\n",
    "    ]\n",
    "\n",
    "df = spark.createDataFrame(data, schema)\n",
    "\n",
    "df.printSchema\n",
    "\n",
    "df.show()"
   ]
  },
  {
   "cell_type": "code",
   "execution_count": 0,
   "metadata": {
    "application/vnd.databricks.v1+cell": {
     "cellMetadata": {
      "byteLimit": 2048000,
      "rowLimit": 10000
     },
     "inputWidgets": {},
     "nuid": "2f6cb518-e3c5-454d-a09e-7566c7f84d9e",
     "showTitle": false,
     "tableResultSettingsMap": {},
     "title": ""
    }
   },
   "outputs": [],
   "source": [
    "from pyspark.sql.functions import to_date, to_timestamp, date_format, curdate, now, datediff, months_between"
   ]
  },
  {
   "cell_type": "code",
   "execution_count": 0,
   "metadata": {
    "application/vnd.databricks.v1+cell": {
     "cellMetadata": {
      "byteLimit": 2048000,
      "rowLimit": 10000
     },
     "inputWidgets": {},
     "nuid": "37e9b74c-e578-4fa1-a338-edf4bd1dfcd1",
     "showTitle": false,
     "tableResultSettingsMap": {},
     "title": ""
    }
   },
   "outputs": [
    {
     "output_type": "display_data",
     "data": {
      "text/html": [
       "<style scoped>\n",
       "  .table-result-container {\n",
       "    max-height: 300px;\n",
       "    overflow: auto;\n",
       "  }\n",
       "  table, th, td {\n",
       "    border: 1px solid black;\n",
       "    border-collapse: collapse;\n",
       "  }\n",
       "  th, td {\n",
       "    padding: 5px;\n",
       "  }\n",
       "  th {\n",
       "    text-align: left;\n",
       "  }\n",
       "</style><div class='table-result-container'><table class='table-result'><thead style='background-color: white'><tr><th>name</th><th>hire_date</th></tr></thead><tbody><tr><td>Alice</td><td>2020-06-15</td></tr><tr><td>Bob</td><td>2018-09-25</td></tr><tr><td>Charlie</td><td>2022-12-05</td></tr></tbody></table></div>"
      ]
     },
     "metadata": {
      "application/vnd.databricks.v1+output": {
       "addedWidgets": {},
       "aggData": [],
       "aggError": "",
       "aggOverflow": false,
       "aggSchema": [],
       "aggSeriesLimitReached": false,
       "aggType": "",
       "arguments": {},
       "columnCustomDisplayInfos": {},
       "data": [
        [
         "Alice",
         "2020-06-15"
        ],
        [
         "Bob",
         "2018-09-25"
        ],
        [
         "Charlie",
         "2022-12-05"
        ]
       ],
       "datasetInfos": [],
       "dbfsResultPath": null,
       "isJsonSchema": true,
       "metadata": {},
       "overflow": false,
       "plotOptions": {
        "customPlotOptions": {},
        "displayType": "table",
        "pivotAggregation": null,
        "pivotColumns": null,
        "xColumns": null,
        "yColumns": null
       },
       "removedWidgets": [],
       "schema": [
        {
         "metadata": "{}",
         "name": "name",
         "type": "\"string\""
        },
        {
         "metadata": "{}",
         "name": "hire_date",
         "type": "\"date\""
        }
       ],
       "type": "table"
      }
     },
     "output_type": "display_data"
    }
   ],
   "source": [
    "# to_date\n",
    "\n",
    "df = df.withColumn(\"hire_date\", to_date(\"hire_date\", \"dd-MM-yyyy\"))\n",
    "\n",
    "df.display()"
   ]
  },
  {
   "cell_type": "code",
   "execution_count": 0,
   "metadata": {
    "application/vnd.databricks.v1+cell": {
     "cellMetadata": {
      "byteLimit": 2048000,
      "rowLimit": 10000
     },
     "inputWidgets": {},
     "nuid": "43058cbf-fc41-4b63-ae29-3a29dbac3ad1",
     "showTitle": false,
     "tableResultSettingsMap": {},
     "title": ""
    }
   },
   "outputs": [
    {
     "output_type": "display_data",
     "data": {
      "text/html": [
       "<style scoped>\n",
       "  .table-result-container {\n",
       "    max-height: 300px;\n",
       "    overflow: auto;\n",
       "  }\n",
       "  table, th, td {\n",
       "    border: 1px solid black;\n",
       "    border-collapse: collapse;\n",
       "  }\n",
       "  th, td {\n",
       "    padding: 5px;\n",
       "  }\n",
       "  th {\n",
       "    text-align: left;\n",
       "  }\n",
       "</style><div class='table-result-container'><table class='table-result'><thead style='background-color: white'><tr><th>name</th><th>hire_date</th><th>hire_timestamp</th></tr></thead><tbody><tr><td>Alice</td><td>2020-06-15</td><td>2020-06-15T00:00:00Z</td></tr><tr><td>Bob</td><td>2018-09-25</td><td>2018-09-25T00:00:00Z</td></tr><tr><td>Charlie</td><td>2022-12-05</td><td>2022-12-05T00:00:00Z</td></tr></tbody></table></div>"
      ]
     },
     "metadata": {
      "application/vnd.databricks.v1+output": {
       "addedWidgets": {},
       "aggData": [],
       "aggError": "",
       "aggOverflow": false,
       "aggSchema": [],
       "aggSeriesLimitReached": false,
       "aggType": "",
       "arguments": {},
       "columnCustomDisplayInfos": {},
       "data": [
        [
         "Alice",
         "2020-06-15",
         "2020-06-15T00:00:00Z"
        ],
        [
         "Bob",
         "2018-09-25",
         "2018-09-25T00:00:00Z"
        ],
        [
         "Charlie",
         "2022-12-05",
         "2022-12-05T00:00:00Z"
        ]
       ],
       "datasetInfos": [],
       "dbfsResultPath": null,
       "isJsonSchema": true,
       "metadata": {},
       "overflow": false,
       "plotOptions": {
        "customPlotOptions": {},
        "displayType": "table",
        "pivotAggregation": null,
        "pivotColumns": null,
        "xColumns": null,
        "yColumns": null
       },
       "removedWidgets": [],
       "schema": [
        {
         "metadata": "{}",
         "name": "name",
         "type": "\"string\""
        },
        {
         "metadata": "{}",
         "name": "hire_date",
         "type": "\"date\""
        },
        {
         "metadata": "{}",
         "name": "hire_timestamp",
         "type": "\"timestamp\""
        }
       ],
       "type": "table"
      }
     },
     "output_type": "display_data"
    }
   ],
   "source": [
    "# to_timestamp\n",
    "\n",
    "df = df.withColumn(\"hire_timestamp\", to_timestamp(\"hire_date\"))\n",
    "\n",
    "df.display()"
   ]
  },
  {
   "cell_type": "code",
   "execution_count": 0,
   "metadata": {
    "application/vnd.databricks.v1+cell": {
     "cellMetadata": {
      "byteLimit": 2048000,
      "rowLimit": 10000
     },
     "inputWidgets": {},
     "nuid": "9b1efa72-a012-4f7a-8cdf-5eb028f524f2",
     "showTitle": false,
     "tableResultSettingsMap": {},
     "title": ""
    }
   },
   "outputs": [
    {
     "output_type": "display_data",
     "data": {
      "text/html": [
       "<style scoped>\n",
       "  .table-result-container {\n",
       "    max-height: 300px;\n",
       "    overflow: auto;\n",
       "  }\n",
       "  table, th, td {\n",
       "    border: 1px solid black;\n",
       "    border-collapse: collapse;\n",
       "  }\n",
       "  th, td {\n",
       "    padding: 5px;\n",
       "  }\n",
       "  th {\n",
       "    text-align: left;\n",
       "  }\n",
       "</style><div class='table-result-container'><table class='table-result'><thead style='background-color: white'><tr><th>name</th><th>hire_date</th><th>hire_timestamp</th><th>year_month</th></tr></thead><tbody><tr><td>Alice</td><td>2020-06-15</td><td>2020-06-15T00:00:00Z</td><td>15, June 2020</td></tr><tr><td>Bob</td><td>2018-09-25</td><td>2018-09-25T00:00:00Z</td><td>25, September 2018</td></tr><tr><td>Charlie</td><td>2022-12-05</td><td>2022-12-05T00:00:00Z</td><td>05, December 2022</td></tr></tbody></table></div>"
      ]
     },
     "metadata": {
      "application/vnd.databricks.v1+output": {
       "addedWidgets": {},
       "aggData": [],
       "aggError": "",
       "aggOverflow": false,
       "aggSchema": [],
       "aggSeriesLimitReached": false,
       "aggType": "",
       "arguments": {},
       "columnCustomDisplayInfos": {},
       "data": [
        [
         "Alice",
         "2020-06-15",
         "2020-06-15T00:00:00Z",
         "15, June 2020"
        ],
        [
         "Bob",
         "2018-09-25",
         "2018-09-25T00:00:00Z",
         "25, September 2018"
        ],
        [
         "Charlie",
         "2022-12-05",
         "2022-12-05T00:00:00Z",
         "05, December 2022"
        ]
       ],
       "datasetInfos": [],
       "dbfsResultPath": null,
       "isJsonSchema": true,
       "metadata": {},
       "overflow": false,
       "plotOptions": {
        "customPlotOptions": {},
        "displayType": "table",
        "pivotAggregation": null,
        "pivotColumns": null,
        "xColumns": null,
        "yColumns": null
       },
       "removedWidgets": [],
       "schema": [
        {
         "metadata": "{}",
         "name": "name",
         "type": "\"string\""
        },
        {
         "metadata": "{}",
         "name": "hire_date",
         "type": "\"date\""
        },
        {
         "metadata": "{}",
         "name": "hire_timestamp",
         "type": "\"timestamp\""
        },
        {
         "metadata": "{}",
         "name": "year_month",
         "type": "\"string\""
        }
       ],
       "type": "table"
      }
     },
     "output_type": "display_data"
    }
   ],
   "source": [
    "# date_format\n",
    "\n",
    "df.withColumn(\"year_month\", date_format(\"hire_date\", \"dd, MMMM yyyy\")).display()"
   ]
  },
  {
   "cell_type": "code",
   "execution_count": 0,
   "metadata": {
    "application/vnd.databricks.v1+cell": {
     "cellMetadata": {
      "byteLimit": 2048000,
      "rowLimit": 10000
     },
     "inputWidgets": {},
     "nuid": "bd1c4628-1720-4c56-b1d0-142a9d947d3b",
     "showTitle": false,
     "tableResultSettingsMap": {},
     "title": ""
    }
   },
   "outputs": [
    {
     "output_type": "display_data",
     "data": {
      "text/html": [
       "<style scoped>\n",
       "  .table-result-container {\n",
       "    max-height: 300px;\n",
       "    overflow: auto;\n",
       "  }\n",
       "  table, th, td {\n",
       "    border: 1px solid black;\n",
       "    border-collapse: collapse;\n",
       "  }\n",
       "  th, td {\n",
       "    padding: 5px;\n",
       "  }\n",
       "  th {\n",
       "    text-align: left;\n",
       "  }\n",
       "</style><div class='table-result-container'><table class='table-result'><thead style='background-color: white'><tr><th>name</th><th>hire_date</th><th>hire_timestamp</th><th>current_date</th><th>current_timestamp</th></tr></thead><tbody><tr><td>Alice</td><td>2020-06-15</td><td>2020-06-15T00:00:00Z</td><td>2025-03-04</td><td>2025-03-04T10:12:23.24Z</td></tr><tr><td>Bob</td><td>2018-09-25</td><td>2018-09-25T00:00:00Z</td><td>2025-03-04</td><td>2025-03-04T10:12:23.24Z</td></tr><tr><td>Charlie</td><td>2022-12-05</td><td>2022-12-05T00:00:00Z</td><td>2025-03-04</td><td>2025-03-04T10:12:23.24Z</td></tr></tbody></table></div>"
      ]
     },
     "metadata": {
      "application/vnd.databricks.v1+output": {
       "addedWidgets": {},
       "aggData": [],
       "aggError": "",
       "aggOverflow": false,
       "aggSchema": [],
       "aggSeriesLimitReached": false,
       "aggType": "",
       "arguments": {},
       "columnCustomDisplayInfos": {},
       "data": [
        [
         "Alice",
         "2020-06-15",
         "2020-06-15T00:00:00Z",
         "2025-03-04",
         "2025-03-04T10:12:23.24Z"
        ],
        [
         "Bob",
         "2018-09-25",
         "2018-09-25T00:00:00Z",
         "2025-03-04",
         "2025-03-04T10:12:23.24Z"
        ],
        [
         "Charlie",
         "2022-12-05",
         "2022-12-05T00:00:00Z",
         "2025-03-04",
         "2025-03-04T10:12:23.24Z"
        ]
       ],
       "datasetInfos": [],
       "dbfsResultPath": null,
       "isJsonSchema": true,
       "metadata": {},
       "overflow": false,
       "plotOptions": {
        "customPlotOptions": {},
        "displayType": "table",
        "pivotAggregation": null,
        "pivotColumns": null,
        "xColumns": null,
        "yColumns": null
       },
       "removedWidgets": [],
       "schema": [
        {
         "metadata": "{}",
         "name": "name",
         "type": "\"string\""
        },
        {
         "metadata": "{}",
         "name": "hire_date",
         "type": "\"date\""
        },
        {
         "metadata": "{}",
         "name": "hire_timestamp",
         "type": "\"timestamp\""
        },
        {
         "metadata": "{}",
         "name": "current_date",
         "type": "\"date\""
        },
        {
         "metadata": "{}",
         "name": "current_timestamp",
         "type": "\"timestamp\""
        }
       ],
       "type": "table"
      }
     },
     "output_type": "display_data"
    }
   ],
   "source": [
    "# curdate and now\n",
    "\n",
    "df.withColumn(\"current_date\", curdate()).withColumn(\"current_timestamp\", now()).display()"
   ]
  },
  {
   "cell_type": "code",
   "execution_count": 0,
   "metadata": {
    "application/vnd.databricks.v1+cell": {
     "cellMetadata": {
      "byteLimit": 2048000,
      "rowLimit": 10000
     },
     "inputWidgets": {},
     "nuid": "2d038e94-2630-4e2c-a05b-959fee875e85",
     "showTitle": false,
     "tableResultSettingsMap": {},
     "title": ""
    }
   },
   "outputs": [
    {
     "output_type": "display_data",
     "data": {
      "text/html": [
       "<style scoped>\n",
       "  .table-result-container {\n",
       "    max-height: 300px;\n",
       "    overflow: auto;\n",
       "  }\n",
       "  table, th, td {\n",
       "    border: 1px solid black;\n",
       "    border-collapse: collapse;\n",
       "  }\n",
       "  th, td {\n",
       "    padding: 5px;\n",
       "  }\n",
       "  th {\n",
       "    text-align: left;\n",
       "  }\n",
       "</style><div class='table-result-container'><table class='table-result'><thead style='background-color: white'><tr><th>name</th><th>hire_date</th><th>hire_timestamp</th><th>days_since_hired</th></tr></thead><tbody><tr><td>Alice</td><td>2020-06-15</td><td>2020-06-15T00:00:00Z</td><td>1723</td></tr><tr><td>Bob</td><td>2018-09-25</td><td>2018-09-25T00:00:00Z</td><td>2352</td></tr><tr><td>Charlie</td><td>2022-12-05</td><td>2022-12-05T00:00:00Z</td><td>820</td></tr></tbody></table></div>"
      ]
     },
     "metadata": {
      "application/vnd.databricks.v1+output": {
       "addedWidgets": {},
       "aggData": [],
       "aggError": "",
       "aggOverflow": false,
       "aggSchema": [],
       "aggSeriesLimitReached": false,
       "aggType": "",
       "arguments": {},
       "columnCustomDisplayInfos": {},
       "data": [
        [
         "Alice",
         "2020-06-15",
         "2020-06-15T00:00:00Z",
         1723
        ],
        [
         "Bob",
         "2018-09-25",
         "2018-09-25T00:00:00Z",
         2352
        ],
        [
         "Charlie",
         "2022-12-05",
         "2022-12-05T00:00:00Z",
         820
        ]
       ],
       "datasetInfos": [],
       "dbfsResultPath": null,
       "isJsonSchema": true,
       "metadata": {},
       "overflow": false,
       "plotOptions": {
        "customPlotOptions": {},
        "displayType": "table",
        "pivotAggregation": null,
        "pivotColumns": null,
        "xColumns": null,
        "yColumns": null
       },
       "removedWidgets": [],
       "schema": [
        {
         "metadata": "{}",
         "name": "name",
         "type": "\"string\""
        },
        {
         "metadata": "{}",
         "name": "hire_date",
         "type": "\"date\""
        },
        {
         "metadata": "{}",
         "name": "hire_timestamp",
         "type": "\"timestamp\""
        },
        {
         "metadata": "{}",
         "name": "days_since_hired",
         "type": "\"integer\""
        }
       ],
       "type": "table"
      }
     },
     "output_type": "display_data"
    }
   ],
   "source": [
    "# datediff\n",
    "\n",
    "df.withColumn(\"days_since_hired\", datediff(now(),\"hire_date\")).display()"
   ]
  },
  {
   "cell_type": "code",
   "execution_count": 0,
   "metadata": {
    "application/vnd.databricks.v1+cell": {
     "cellMetadata": {
      "byteLimit": 2048000,
      "rowLimit": 10000
     },
     "inputWidgets": {},
     "nuid": "11682f12-8a27-42a8-b950-ba9ef988bbd7",
     "showTitle": false,
     "tableResultSettingsMap": {},
     "title": ""
    }
   },
   "outputs": [
    {
     "output_type": "display_data",
     "data": {
      "text/html": [
       "<style scoped>\n",
       "  .table-result-container {\n",
       "    max-height: 300px;\n",
       "    overflow: auto;\n",
       "  }\n",
       "  table, th, td {\n",
       "    border: 1px solid black;\n",
       "    border-collapse: collapse;\n",
       "  }\n",
       "  th, td {\n",
       "    padding: 5px;\n",
       "  }\n",
       "  th {\n",
       "    text-align: left;\n",
       "  }\n",
       "</style><div class='table-result-container'><table class='table-result'><thead style='background-color: white'><tr><th>name</th><th>hire_date</th><th>hire_timestamp</th><th>months_since_hired</th></tr></thead><tbody><tr><td>Alice</td><td>2020-06-15</td><td>2020-06-15T00:00:00Z</td><td>56.6589378</td></tr><tr><td>Bob</td><td>2018-09-25</td><td>2018-09-25T00:00:00Z</td><td>77.33635715</td></tr><tr><td>Charlie</td><td>2022-12-05</td><td>2022-12-05T00:00:00Z</td><td>26.98151844</td></tr></tbody></table></div>"
      ]
     },
     "metadata": {
      "application/vnd.databricks.v1+output": {
       "addedWidgets": {},
       "aggData": [],
       "aggError": "",
       "aggOverflow": false,
       "aggSchema": [],
       "aggSeriesLimitReached": false,
       "aggType": "",
       "arguments": {},
       "columnCustomDisplayInfos": {},
       "data": [
        [
         "Alice",
         "2020-06-15",
         "2020-06-15T00:00:00Z",
         56.6589378
        ],
        [
         "Bob",
         "2018-09-25",
         "2018-09-25T00:00:00Z",
         77.33635715
        ],
        [
         "Charlie",
         "2022-12-05",
         "2022-12-05T00:00:00Z",
         26.98151844
        ]
       ],
       "datasetInfos": [],
       "dbfsResultPath": null,
       "isJsonSchema": true,
       "metadata": {},
       "overflow": false,
       "plotOptions": {
        "customPlotOptions": {},
        "displayType": "table",
        "pivotAggregation": null,
        "pivotColumns": null,
        "xColumns": null,
        "yColumns": null
       },
       "removedWidgets": [],
       "schema": [
        {
         "metadata": "{}",
         "name": "name",
         "type": "\"string\""
        },
        {
         "metadata": "{}",
         "name": "hire_date",
         "type": "\"date\""
        },
        {
         "metadata": "{}",
         "name": "hire_timestamp",
         "type": "\"timestamp\""
        },
        {
         "metadata": "{}",
         "name": "months_since_hired",
         "type": "\"double\""
        }
       ],
       "type": "table"
      }
     },
     "output_type": "display_data"
    }
   ],
   "source": [
    "# months_between\n",
    " \n",
    "df.withColumn(\"months_since_hired\", months_between(now(),\"hire_date\")).display()"
   ]
  }
 ],
 "metadata": {
  "application/vnd.databricks.v1+notebook": {
   "computePreferences": null,
   "dashboards": [],
   "environmentMetadata": {
    "base_environment": "",
    "client": "1"
   },
   "language": "python",
   "notebookMetadata": {
    "pythonIndentUnit": 4
   },
   "notebookName": "Introduction to PySpark DateTime Functions",
   "widgets": {}
  }
 },
 "nbformat": 4,
 "nbformat_minor": 0
}
